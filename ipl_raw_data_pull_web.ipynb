{
 "cells": [
  {
   "cell_type": "code",
   "execution_count": 0,
   "metadata": {
    "application/vnd.databricks.v1+cell": {
     "cellMetadata": {
      "byteLimit": 2048000,
      "rowLimit": 10000
     },
     "inputWidgets": {},
     "nuid": "fe0f4511-7e0f-46a6-82e3-ed8d3101f0a0",
     "showTitle": true,
     "title": "importing necessary libraries"
    }
   },
   "outputs": [],
   "source": [
    "%pip install beautifulsoup4==4.10.0\n",
    "%pip install pandas==1.3.3"
   ]
  },
  {
   "cell_type": "code",
   "execution_count": 0,
   "metadata": {
    "application/vnd.databricks.v1+cell": {
     "cellMetadata": {
      "byteLimit": 2048000,
      "rowLimit": 10000
     },
     "inputWidgets": {},
     "nuid": "1d9c42bb-c3d2-4321-8a20-ab56285852cb",
     "showTitle": false,
     "title": ""
    },
    "jupyter": {
     "source_hidden": true
    }
   },
   "outputs": [],
   "source": [
    "# %pip install beautifulsoup4"
   ]
  },
  {
   "cell_type": "code",
   "execution_count": 0,
   "metadata": {
    "application/vnd.databricks.v1+cell": {
     "cellMetadata": {
      "byteLimit": 2048000,
      "rowLimit": 10000
     },
     "inputWidgets": {},
     "nuid": "5bf6b454-b474-463b-b03a-ce66bcb33a03",
     "showTitle": false,
     "title": ""
    },
    "jupyter": {
     "source_hidden": true
    }
   },
   "outputs": [],
   "source": [
    "# result_df = pd.concat([extract_data(url, 'batting') for url in df['URL'].head(5) if url], ignore_index=True)\n",
    "\n",
    "# # Create bowling DataFrame\n",
    "# bowling_df = pd.concat([extract_data(url, 'bowling') for url in df['URL'].head(5) if url], ignore_index=True)"
   ]
  },
  {
   "cell_type": "code",
   "execution_count": 0,
   "metadata": {
    "application/vnd.databricks.v1+cell": {
     "cellMetadata": {
      "byteLimit": 2048000,
      "rowLimit": 10000
     },
     "inputWidgets": {},
     "nuid": "9ebb9f91-a60c-48b7-b03e-a6254e1839b5",
     "showTitle": false,
     "title": ""
    },
    "jupyter": {
     "source_hidden": true
    }
   },
   "outputs": [],
   "source": [
    "# import requests\n",
    "# from bs4 import BeautifulSoup\n",
    "# import pandas as pd\n",
    "\n",
    "# # Function to extract data from a given URL and type (batting/bowling)\n",
    "# def extract_data(url, df_type):\n",
    "#     match_number = url.split('-')[-2].split('/')[0]\n",
    "    \n",
    "#     url_parts = url.split('/')\n",
    "#     season_number = f'{url_parts[-3]}'\n",
    "#     match = url_parts[-2]\n",
    "\n",
    "#     response = requests.get(url)\n",
    "    \n",
    "#     if response.status_code == 200:\n",
    "#         soup = BeautifulSoup(response.text, 'html.parser')\n",
    "        \n",
    "#         # Update the class for the batting and bowling tables according to the actual HTML structure\n",
    "#         batting_table_class = 'ds-w-full ds-table ds-table-md ds-table-auto ci-scorecard-table'\n",
    "#         bowling_table_class = 'ds-w-full ds-table ds-table-md ds-table-auto'\n",
    "\n",
    "#         if df_type == 'batting':\n",
    "#             scorecard_table = soup.find('table', class_=batting_table_class)\n",
    "#         elif df_type == 'bowling':\n",
    "#             scorecard_table = soup.find('table', class_=bowling_table_class)\n",
    "#         else:\n",
    "#             print(f\"Invalid df_type: {df_type}\")\n",
    "#             return None\n",
    "\n",
    "#         if scorecard_table:\n",
    "#             data = []\n",
    "#             headers = [header.text.strip() for header in scorecard_table.find('thead').find('tr').find_all('th')]\n",
    "            \n",
    "#             for row in scorecard_table.find('tbody').find_all('tr'):\n",
    "#                 row_data = [cell.text.strip() for cell in row.find_all('td')]\n",
    "                \n",
    "#                 if row_data:\n",
    "#                     data.append(row_data)\n",
    "            \n",
    "#             temp_df = pd.DataFrame(data, columns=headers)\n",
    "#             temp_df['URL'] = url\n",
    "#             temp_df['Match'] = match_number\n",
    "#             temp_df['Teams'] = match\n",
    "#             temp_df['Season'] = season_number\n",
    "\n",
    "#             return temp_df\n",
    "#         else:\n",
    "#             print(f\"Table not found on the page for URL: {url}\")\n",
    "#             return None\n",
    "#     else:\n",
    "#         print(f\"Failed to retrieve data. Status code: {response.status_code} for URL: {url}\")\n",
    "#         return None\n",
    "\n",
    "# # URL to fetch\n",
    "# url = \"https://www.espncricinfo.com/records/trophy/team-match-results/indian-premier-league-117\"\n",
    "\n",
    "# response = requests.get(url)\n",
    "\n",
    "# if response.status_code == 200:\n",
    "#     soup = BeautifulSoup(response.text, 'html.parser')\n",
    "# else:\n",
    "#     print(\"Failed to retrieve the webpage. Status code:\", response.status_code)\n",
    "\n",
    "# # Extract table data and URLs\n",
    "# table_data = []\n",
    "\n",
    "# for row in soup.find_all('tr'):\n",
    "#     row_data = [cell.text.strip() for cell in row.find_all('td')]\n",
    "\n",
    "#     anchor_tag = row.find('a', title='Twenty20', href=True)\n",
    "#     if anchor_tag:\n",
    "#         url = 'https://www.espncricinfo.com/' + anchor_tag['href']\n",
    "#         row_data.append(url)\n",
    "#     else:\n",
    "#         row_data.append(None)\n",
    "\n",
    "#     table_data.append(row_data)\n",
    "\n",
    "# columns = [\"Team 1\", \"Team 2\", \"Winner\", \"Result\", \"Venue\", \"Date\", \"Format\", \"URL\"]\n",
    "# # columns = [\"Team 1\", \"Team 2\", \"Winner\", \"Result\", \"Venue\", \"Date\", \"Format\", \"URL\", \"Match\", \"Teams\"]\n",
    "# df = pd.DataFrame(table_data[1:], columns=columns)\n",
    "\n",
    "\n"
   ]
  },
  {
   "cell_type": "code",
   "execution_count": 0,
   "metadata": {
    "application/vnd.databricks.v1+cell": {
     "cellMetadata": {
      "byteLimit": 2048000,
      "rowLimit": 10000
     },
     "inputWidgets": {},
     "nuid": "1fa17abc-0a18-43ea-8865-c7ba916f9dfa",
     "showTitle": true,
     "title": "extracting the data from cricinfo page using  webscarping"
    }
   },
   "outputs": [
    {
     "output_type": "display_data",
     "data": {
      "application/vnd.databricks.v1+bamboolib_hint": "{\"pd.DataFrames\": [], \"version\": \"0.0.1\"}",
      "text/plain": []
     },
     "metadata": {},
     "output_type": "display_data"
    }
   ],
   "source": [
    "import requests\n",
    "from bs4 import BeautifulSoup\n",
    "import pandas as pd\n",
    "\n",
    "# Function to extract data from a given URL and type (batting/bowling)\n",
    "def extract_data(url, df_type):\n",
    "    match_number = url.split('-')[-2].split('/')[0]\n",
    "    \n",
    "    url_parts = url.split('/')\n",
    "    season_number = f'{url_parts[-3]}'\n",
    "    match = url_parts[-2]\n",
    "\n",
    "    response = requests.get(url)\n",
    "    \n",
    "    if response.status_code == 200:\n",
    "        soup = BeautifulSoup(response.text, 'html.parser')\n",
    "        \n",
    "        # Update the class for the batting and bowling tables according to the actual HTML structure\n",
    "        batting_table_class = 'ds-w-full ds-table ds-table-md ds-table-auto ci-scorecard-table'\n",
    "        bowling_table_class = 'ds-w-full ds-table ds-table-md ds-table-auto'\n",
    "\n",
    "        if df_type == 'batting':\n",
    "            scorecard_table = soup.find('table', class_=batting_table_class)\n",
    "        elif df_type == 'bowling':\n",
    "            scorecard_table = soup.find('table', class_=bowling_table_class)\n",
    "        else:\n",
    "            print(f\"Invalid df_type: {df_type}\")\n",
    "            return None\n",
    "\n",
    "        if scorecard_table:\n",
    "            data = []\n",
    "            headers = [header.text.strip() for header in scorecard_table.find('thead').find('tr').find_all('th')]\n",
    "            \n",
    "            for row in scorecard_table.find('tbody').find_all('tr'):\n",
    "                row_data = [cell.text.strip() for cell in row.find_all('td')]\n",
    "                \n",
    "                if row_data:\n",
    "                    data.append(row_data)\n",
    "            \n",
    "            temp_df = pd.DataFrame(data, columns=headers)\n",
    "            temp_df['URL'] = url\n",
    "            temp_df['Match'] = match_number\n",
    "            temp_df['Teams'] = match\n",
    "            temp_df['Season'] = season_number\n",
    "\n",
    "            return temp_df\n",
    "        else:\n",
    "            print(f\"Table not found on the page for URL: {url}\")\n",
    "            return None\n",
    "    else:\n",
    "        print(f\"Failed to retrieve data. Status code: {response.status_code} for URL: {url}\")\n",
    "        return None\n",
    "\n",
    "# URL to fetch\n",
    "url = \"https://www.espncricinfo.com/records/trophy/team-match-results/indian-premier-league-117\"\n",
    "\n",
    "response = requests.get(url)\n",
    "\n",
    "if response.status_code == 200:\n",
    "    soup = BeautifulSoup(response.text, 'html.parser')\n",
    "else:\n",
    "    print(\"Failed to retrieve the webpage. Status code:\", response.status_code)\n",
    "\n",
    "# Extract table data and URLs\n",
    "table_data = []\n",
    "\n",
    "for row in soup.find_all('tr'):\n",
    "    row_data = [cell.text.strip() for cell in row.find_all('td')]\n",
    "\n",
    "    anchor_tag = row.find('a', title='Twenty20', href=True)\n",
    "    if anchor_tag:\n",
    "        url = 'https://www.espncricinfo.com/' + anchor_tag['href']\n",
    "        row_data.append(url)\n",
    "    else:\n",
    "        row_data.append(None)\n",
    "\n",
    "    table_data.append(row_data)\n",
    "\n",
    "columns = [\"Team 1\", \"Team 2\", \"Winner\", \"Result\", \"Venue\", \"Date\", \"Format\", \"URL\"]\n",
    "# columns = [\"Team 1\", \"Team 2\", \"Winner\", \"Result\", \"Venue\", \"Date\", \"Format\", \"URL\", \"Match\", \"Teams\"]\n",
    "df = pd.DataFrame(table_data[1:], columns=columns)\n",
    "\n",
    "\n"
   ]
  },
  {
   "cell_type": "code",
   "execution_count": 0,
   "metadata": {
    "application/vnd.databricks.v1+cell": {
     "cellMetadata": {
      "byteLimit": 2048000,
      "rowLimit": 10000
     },
     "inputWidgets": {},
     "nuid": "991b2bf9-805b-42b7-91b7-8ea69461e39b",
     "showTitle": false,
     "title": ""
    }
   },
   "outputs": [
    {
     "output_type": "display_data",
     "data": {
      "text/html": [
       "<style scoped>\n",
       "  .table-result-container {\n",
       "    max-height: 300px;\n",
       "    overflow: auto;\n",
       "  }\n",
       "  table, th, td {\n",
       "    border: 1px solid black;\n",
       "    border-collapse: collapse;\n",
       "  }\n",
       "  th, td {\n",
       "    padding: 5px;\n",
       "  }\n",
       "  th {\n",
       "    text-align: left;\n",
       "  }\n",
       "</style><div class='table-result-container'><table class='table-result'><thead style='background-color: white'><tr><th>Team 1</th><th>Team 2</th><th>Winner</th><th>Result</th><th>Venue</th><th>Date</th><th>Format</th><th>URL</th></tr></thead><tbody><tr><td>CSK</td><td>KKR</td><td>CSK</td><td>7 wickets</td><td>Chennai</td><td>Apr 8, 2024</td><td>Twenty20</td><td>https://www.espncricinfo.com//series/indian-premier-league-2024-1410320/chennai-super-kings-vs-kolkata-knight-riders-22nd-match-1426260/full-scorecard</td></tr><tr><td>LSG</td><td>GT</td><td>LSG</td><td>33 runs</td><td>Lucknow</td><td>Apr 7, 2024</td><td>Twenty20</td><td>https://www.espncricinfo.com//series/indian-premier-league-2024-1410320/lucknow-super-giants-vs-gujarat-titans-21st-match-1422139/full-scorecard</td></tr><tr><td>MI</td><td>DC</td><td>MI</td><td>29 runs</td><td>Wankhede</td><td>Apr 7, 2024</td><td>Twenty20</td><td>https://www.espncricinfo.com//series/indian-premier-league-2024-1410320/mumbai-indians-vs-delhi-capitals-20th-match-1422138/full-scorecard</td></tr><tr><td>RR</td><td>RCB</td><td>RR</td><td>6 wickets</td><td>Jaipur</td><td>Apr 6, 2024</td><td>Twenty20</td><td>https://www.espncricinfo.com//series/indian-premier-league-2024-1410320/rajasthan-royals-vs-royal-challengers-bengaluru-19th-match-1422137/full-scorecard</td></tr><tr><td>SRH</td><td>CSK</td><td>SRH</td><td>6 wickets</td><td>Hyderabad</td><td>Apr 5, 2024</td><td>Twenty20</td><td>https://www.espncricinfo.com//series/indian-premier-league-2024-1410320/sunrisers-hyderabad-vs-chennai-super-kings-18th-match-1422136/full-scorecard</td></tr><tr><td>GT</td><td>Punjab Kings</td><td>Punjab Kings</td><td>3 wickets</td><td>Ahmedabad</td><td>Apr 4, 2024</td><td>Twenty20</td><td>https://www.espncricinfo.com//series/indian-premier-league-2024-1410320/gujarat-titans-vs-punjab-kings-17th-match-1422135/full-scorecard</td></tr><tr><td>DC</td><td>KKR</td><td>KKR</td><td>106 runs</td><td>Visakhapatnam</td><td>Apr 3, 2024</td><td>Twenty20</td><td>https://www.espncricinfo.com//series/indian-premier-league-2024-1410320/delhi-capitals-vs-kolkata-knight-riders-16th-match-1422134/full-scorecard</td></tr><tr><td>RCB</td><td>LSG</td><td>LSG</td><td>28 runs</td><td>Bengaluru</td><td>Apr 2, 2024</td><td>Twenty20</td><td>https://www.espncricinfo.com//series/indian-premier-league-2024-1410320/royal-challengers-bengaluru-vs-lucknow-super-giants-15th-match-1422133/full-scorecard</td></tr><tr><td>MI</td><td>RR</td><td>RR</td><td>6 wickets</td><td>Wankhede</td><td>Apr 1, 2024</td><td>Twenty20</td><td>https://www.espncricinfo.com//series/indian-premier-league-2024-1410320/mumbai-indians-vs-rajasthan-royals-14th-match-1422132/full-scorecard</td></tr><tr><td>DC</td><td>CSK</td><td>DC</td><td>20 runs</td><td>Visakhapatnam</td><td>Mar 31, 2024</td><td>Twenty20</td><td>https://www.espncricinfo.com//series/indian-premier-league-2024-1410320/delhi-capitals-vs-chennai-super-kings-13th-match-1422131/full-scorecard</td></tr><tr><td>GT</td><td>SRH</td><td>GT</td><td>7 wickets</td><td>Ahmedabad</td><td>Mar 31, 2024</td><td>Twenty20</td><td>https://www.espncricinfo.com//series/indian-premier-league-2024-1410320/gujarat-titans-vs-sunrisers-hyderabad-12th-match-1422130/full-scorecard</td></tr><tr><td>LSG</td><td>Punjab Kings</td><td>LSG</td><td>21 runs</td><td>Lucknow</td><td>Mar 30, 2024</td><td>Twenty20</td><td>https://www.espncricinfo.com//series/indian-premier-league-2024-1410320/lucknow-super-giants-vs-punjab-kings-11th-match-1422129/full-scorecard</td></tr><tr><td>RCB</td><td>KKR</td><td>KKR</td><td>7 wickets</td><td>Bengaluru</td><td>Mar 29, 2024</td><td>Twenty20</td><td>https://www.espncricinfo.com//series/indian-premier-league-2024-1410320/royal-challengers-bengaluru-vs-kolkata-knight-riders-10th-match-1422128/full-scorecard</td></tr><tr><td>RR</td><td>DC</td><td>RR</td><td>12 runs</td><td>Jaipur</td><td>Mar 28, 2024</td><td>Twenty20</td><td>https://www.espncricinfo.com//series/indian-premier-league-2024-1410320/rajasthan-royals-vs-delhi-capitals-9th-match-1422127/full-scorecard</td></tr><tr><td>SRH</td><td>MI</td><td>SRH</td><td>31 runs</td><td>Hyderabad</td><td>Mar 27, 2024</td><td>Twenty20</td><td>https://www.espncricinfo.com//series/indian-premier-league-2024-1410320/sunrisers-hyderabad-vs-mumbai-indians-8th-match-1422126/full-scorecard</td></tr><tr><td>CSK</td><td>GT</td><td>CSK</td><td>63 runs</td><td>Chennai</td><td>Mar 26, 2024</td><td>Twenty20</td><td>https://www.espncricinfo.com//series/indian-premier-league-2024-1410320/chennai-super-kings-vs-gujarat-titans-7th-match-1422125/full-scorecard</td></tr><tr><td>RCB</td><td>Punjab Kings</td><td>RCB</td><td>4 wickets</td><td>Bengaluru</td><td>Mar 25, 2024</td><td>Twenty20</td><td>https://www.espncricinfo.com//series/indian-premier-league-2024-1410320/royal-challengers-bengaluru-vs-punjab-kings-6th-match-1422124/full-scorecard</td></tr><tr><td>GT</td><td>MI</td><td>GT</td><td>6 runs</td><td>Ahmedabad</td><td>Mar 24, 2024</td><td>Twenty20</td><td>https://www.espncricinfo.com//series/indian-premier-league-2024-1410320/gujarat-titans-vs-mumbai-indians-5th-match-1422123/full-scorecard</td></tr><tr><td>RR</td><td>LSG</td><td>RR</td><td>20 runs</td><td>Jaipur</td><td>Mar 24, 2024</td><td>Twenty20</td><td>https://www.espncricinfo.com//series/indian-premier-league-2024-1410320/rajasthan-royals-vs-lucknow-super-giants-4th-match-1422122/full-scorecard</td></tr><tr><td>KKR</td><td>SRH</td><td>KKR</td><td>4 runs</td><td>Eden Gardens</td><td>Mar 23, 2024</td><td>Twenty20</td><td>https://www.espncricinfo.com//series/indian-premier-league-2024-1410320/kolkata-knight-riders-vs-sunrisers-hyderabad-3rd-match-1422121/full-scorecard</td></tr><tr><td>Punjab Kings</td><td>DC</td><td>Punjab Kings</td><td>4 wickets</td><td>Mullanpur</td><td>Mar 23, 2024</td><td>Twenty20</td><td>https://www.espncricinfo.com//series/indian-premier-league-2024-1410320/punjab-kings-vs-delhi-capitals-2nd-match-1422120/full-scorecard</td></tr><tr><td>CSK</td><td>RCB</td><td>CSK</td><td>6 wickets</td><td>Chennai</td><td>Mar 22, 2024</td><td>Twenty20</td><td>https://www.espncricinfo.com//series/indian-premier-league-2024-1410320/chennai-super-kings-vs-royal-challengers-bengaluru-1st-match-1422119/full-scorecard</td></tr><tr><td>GT</td><td>CSK</td><td>CSK</td><td>5 wickets</td><td>Ahmedabad</td><td>May 28-29, 2023</td><td>Twenty20</td><td>https://www.espncricinfo.com//series/indian-premier-league-2023-1345038/gujarat-titans-vs-chennai-super-kings-final-1370353/full-scorecard</td></tr><tr><td>GT</td><td>MI</td><td>GT</td><td>62 runs</td><td>Ahmedabad</td><td>May 26, 2023</td><td>Twenty20</td><td>https://www.espncricinfo.com//series/indian-premier-league-2023-1345038/gujarat-titans-vs-mumbai-indians-qualifier-2-1370352/full-scorecard</td></tr><tr><td>LSG</td><td>MI</td><td>MI</td><td>81 runs</td><td>Chennai</td><td>May 24, 2023</td><td>Twenty20</td><td>https://www.espncricinfo.com//series/indian-premier-league-2023-1345038/lucknow-super-giants-vs-mumbai-indians-eliminator-1370351/full-scorecard</td></tr><tr><td>CSK</td><td>GT</td><td>CSK</td><td>15 runs</td><td>Chennai</td><td>May 23, 2023</td><td>Twenty20</td><td>https://www.espncricinfo.com//series/indian-premier-league-2023-1345038/chennai-super-kings-vs-gujarat-titans-qualifier-1-1370350/full-scorecard</td></tr><tr><td>RCB</td><td>GT</td><td>GT</td><td>6 wickets</td><td>Bengaluru</td><td>May 21, 2023</td><td>Twenty20</td><td>https://www.espncricinfo.com//series/indian-premier-league-2023-1345038/royal-challengers-bangalore-vs-gujarat-titans-70th-match-1359544/full-scorecard</td></tr><tr><td>MI</td><td>SRH</td><td>MI</td><td>8 wickets</td><td>Wankhede</td><td>May 21, 2023</td><td>Twenty20</td><td>https://www.espncricinfo.com//series/indian-premier-league-2023-1345038/mumbai-indians-vs-sunrisers-hyderabad-69th-match-1359543/full-scorecard</td></tr><tr><td>KKR</td><td>LSG</td><td>LSG</td><td>1 run</td><td>Eden Gardens</td><td>May 20, 2023</td><td>Twenty20</td><td>https://www.espncricinfo.com//series/indian-premier-league-2023-1345038/kolkata-knight-riders-vs-lucknow-super-giants-68th-match-1359542/full-scorecard</td></tr><tr><td>DC</td><td>CSK</td><td>CSK</td><td>77 runs</td><td>Delhi</td><td>May 20, 2023</td><td>Twenty20</td><td>https://www.espncricinfo.com//series/indian-premier-league-2023-1345038/delhi-capitals-vs-chennai-super-kings-67th-match-1359541/full-scorecard</td></tr><tr><td>Punjab Kings</td><td>RR</td><td>RR</td><td>4 wickets</td><td>Dharamsala</td><td>May 19, 2023</td><td>Twenty20</td><td>https://www.espncricinfo.com//series/indian-premier-league-2023-1345038/punjab-kings-vs-rajasthan-royals-66th-match-1359540/full-scorecard</td></tr><tr><td>SRH</td><td>RCB</td><td>RCB</td><td>8 wickets</td><td>Hyderabad</td><td>May 18, 2023</td><td>Twenty20</td><td>https://www.espncricinfo.com//series/indian-premier-league-2023-1345038/sunrisers-hyderabad-vs-royal-challengers-bangalore-65th-match-1359539/full-scorecard</td></tr><tr><td>Punjab Kings</td><td>DC</td><td>DC</td><td>15 runs</td><td>Dharamsala</td><td>May 17, 2023</td><td>Twenty20</td><td>https://www.espncricinfo.com//series/indian-premier-league-2023-1345038/punjab-kings-vs-delhi-capitals-64th-match-1359538/full-scorecard</td></tr><tr><td>LSG</td><td>MI</td><td>LSG</td><td>5 runs</td><td>Lucknow</td><td>May 16, 2023</td><td>Twenty20</td><td>https://www.espncricinfo.com//series/indian-premier-league-2023-1345038/lucknow-super-giants-vs-mumbai-indians-63rd-match-1359537/full-scorecard</td></tr><tr><td>GT</td><td>SRH</td><td>GT</td><td>34 runs</td><td>Ahmedabad</td><td>May 15, 2023</td><td>Twenty20</td><td>https://www.espncricinfo.com//series/indian-premier-league-2023-1345038/gujarat-titans-vs-sunrisers-hyderabad-62nd-match-1359536/full-scorecard</td></tr><tr><td>CSK</td><td>KKR</td><td>KKR</td><td>6 wickets</td><td>Chennai</td><td>May 14, 2023</td><td>Twenty20</td><td>https://www.espncricinfo.com//series/indian-premier-league-2023-1345038/chennai-super-kings-vs-kolkata-knight-riders-61st-match-1359535/full-scorecard</td></tr><tr><td>RR</td><td>RCB</td><td>RCB</td><td>112 runs</td><td>Jaipur</td><td>May 14, 2023</td><td>Twenty20</td><td>https://www.espncricinfo.com//series/indian-premier-league-2023-1345038/rajasthan-royals-vs-royal-challengers-bangalore-60th-match-1359534/full-scorecard</td></tr><tr><td>DC</td><td>Punjab Kings</td><td>Punjab Kings</td><td>31 runs</td><td>Delhi</td><td>May 13, 2023</td><td>Twenty20</td><td>https://www.espncricinfo.com//series/indian-premier-league-2023-1345038/delhi-capitals-vs-punjab-kings-59th-match-1359533/full-scorecard</td></tr><tr><td>SRH</td><td>LSG</td><td>LSG</td><td>7 wickets</td><td>Hyderabad</td><td>May 13, 2023</td><td>Twenty20</td><td>https://www.espncricinfo.com//series/indian-premier-league-2023-1345038/sunrisers-hyderabad-vs-lucknow-super-giants-58th-match-1359532/full-scorecard</td></tr><tr><td>MI</td><td>GT</td><td>MI</td><td>27 runs</td><td>Wankhede</td><td>May 12, 2023</td><td>Twenty20</td><td>https://www.espncricinfo.com//series/indian-premier-league-2023-1345038/mumbai-indians-vs-gujarat-titans-57th-match-1359531/full-scorecard</td></tr><tr><td>KKR</td><td>RR</td><td>RR</td><td>9 wickets</td><td>Eden Gardens</td><td>May 11, 2023</td><td>Twenty20</td><td>https://www.espncricinfo.com//series/indian-premier-league-2023-1345038/kolkata-knight-riders-vs-rajasthan-royals-56th-match-1359530/full-scorecard</td></tr><tr><td>CSK</td><td>DC</td><td>CSK</td><td>27 runs</td><td>Chennai</td><td>May 10, 2023</td><td>Twenty20</td><td>https://www.espncricinfo.com//series/indian-premier-league-2023-1345038/chennai-super-kings-vs-delhi-capitals-55th-match-1359529/full-scorecard</td></tr><tr><td>MI</td><td>RCB</td><td>MI</td><td>6 wickets</td><td>Wankhede</td><td>May 9, 2023</td><td>Twenty20</td><td>https://www.espncricinfo.com//series/indian-premier-league-2023-1345038/mumbai-indians-vs-royal-challengers-bangalore-54th-match-1359528/full-scorecard</td></tr><tr><td>KKR</td><td>Punjab Kings</td><td>KKR</td><td>5 wickets</td><td>Eden Gardens</td><td>May 8, 2023</td><td>Twenty20</td><td>https://www.espncricinfo.com//series/indian-premier-league-2023-1345038/kolkata-knight-riders-vs-punjab-kings-53rd-match-1359527/full-scorecard</td></tr><tr><td>RR</td><td>SRH</td><td>SRH</td><td>4 wickets</td><td>Jaipur</td><td>May 7, 2023</td><td>Twenty20</td><td>https://www.espncricinfo.com//series/indian-premier-league-2023-1345038/rajasthan-royals-vs-sunrisers-hyderabad-52nd-match-1359526/full-scorecard</td></tr><tr><td>GT</td><td>LSG</td><td>GT</td><td>56 runs</td><td>Ahmedabad</td><td>May 7, 2023</td><td>Twenty20</td><td>https://www.espncricinfo.com//series/indian-premier-league-2023-1345038/gujarat-titans-vs-lucknow-super-giants-51st-match-1359525/full-scorecard</td></tr><tr><td>DC</td><td>RCB</td><td>DC</td><td>7 wickets</td><td>Delhi</td><td>May 6, 2023</td><td>Twenty20</td><td>https://www.espncricinfo.com//series/indian-premier-league-2023-1345038/delhi-capitals-vs-royal-challengers-bangalore-50th-match-1359524/full-scorecard</td></tr><tr><td>CSK</td><td>MI</td><td>CSK</td><td>6 wickets</td><td>Chennai</td><td>May 6, 2023</td><td>Twenty20</td><td>https://www.espncricinfo.com//series/indian-premier-league-2023-1345038/chennai-super-kings-vs-mumbai-indians-49th-match-1359523/full-scorecard</td></tr><tr><td>RR</td><td>GT</td><td>GT</td><td>9 wickets</td><td>Jaipur</td><td>May 5, 2023</td><td>Twenty20</td><td>https://www.espncricinfo.com//series/indian-premier-league-2023-1345038/rajasthan-royals-vs-gujarat-titans-48th-match-1359522/full-scorecard</td></tr><tr><td>SRH</td><td>KKR</td><td>KKR</td><td>5 runs</td><td>Hyderabad</td><td>May 4, 2023</td><td>Twenty20</td><td>https://www.espncricinfo.com//series/indian-premier-league-2023-1345038/sunrisers-hyderabad-vs-kolkata-knight-riders-47th-match-1359521/full-scorecard</td></tr><tr><td>Punjab Kings</td><td>MI</td><td>MI</td><td>6 wickets</td><td>Mohali</td><td>May 3, 2023</td><td>Twenty20</td><td>https://www.espncricinfo.com//series/indian-premier-league-2023-1345038/punjab-kings-vs-mumbai-indians-46th-match-1359520/full-scorecard</td></tr><tr><td>LSG</td><td>CSK</td><td>no result</td><td>-</td><td>Lucknow</td><td>May 3, 2023</td><td>Twenty20</td><td>https://www.espncricinfo.com//series/indian-premier-league-2023-1345038/lucknow-super-giants-vs-chennai-super-kings-45th-match-1359519/full-scorecard</td></tr><tr><td>GT</td><td>DC</td><td>DC</td><td>5 runs</td><td>Ahmedabad</td><td>May 2, 2023</td><td>Twenty20</td><td>https://www.espncricinfo.com//series/indian-premier-league-2023-1345038/gujarat-titans-vs-delhi-capitals-44th-match-1359518/full-scorecard</td></tr><tr><td>LSG</td><td>RCB</td><td>RCB</td><td>18 runs</td><td>Lucknow</td><td>May 1, 2023</td><td>Twenty20</td><td>https://www.espncricinfo.com//series/indian-premier-league-2023-1345038/lucknow-super-giants-vs-royal-challengers-bangalore-43rd-match-1359517/full-scorecard</td></tr><tr><td>MI</td><td>RR</td><td>MI</td><td>6 wickets</td><td>Wankhede</td><td>Apr 30, 2023</td><td>Twenty20</td><td>https://www.espncricinfo.com//series/indian-premier-league-2023-1345038/mumbai-indians-vs-rajasthan-royals-42nd-match-1359516/full-scorecard</td></tr><tr><td>CSK</td><td>Punjab Kings</td><td>Punjab Kings</td><td>4 wickets</td><td>Chennai</td><td>Apr 30, 2023</td><td>Twenty20</td><td>https://www.espncricinfo.com//series/indian-premier-league-2023-1345038/chennai-super-kings-vs-punjab-kings-41st-match-1359515/full-scorecard</td></tr><tr><td>DC</td><td>SRH</td><td>SRH</td><td>9 runs</td><td>Delhi</td><td>Apr 29, 2023</td><td>Twenty20</td><td>https://www.espncricinfo.com//series/indian-premier-league-2023-1345038/delhi-capitals-vs-sunrisers-hyderabad-40th-match-1359514/full-scorecard</td></tr><tr><td>KKR</td><td>GT</td><td>GT</td><td>7 wickets</td><td>Eden Gardens</td><td>Apr 29, 2023</td><td>Twenty20</td><td>https://www.espncricinfo.com//series/indian-premier-league-2023-1345038/kolkata-knight-riders-vs-gujarat-titans-39th-match-1359513/full-scorecard</td></tr><tr><td>Punjab Kings</td><td>LSG</td><td>LSG</td><td>56 runs</td><td>Mohali</td><td>Apr 28, 2023</td><td>Twenty20</td><td>https://www.espncricinfo.com//series/indian-premier-league-2023-1345038/punjab-kings-vs-lucknow-super-giants-38th-match-1359512/full-scorecard</td></tr><tr><td>RR</td><td>CSK</td><td>RR</td><td>32 runs</td><td>Jaipur</td><td>Apr 27, 2023</td><td>Twenty20</td><td>https://www.espncricinfo.com//series/indian-premier-league-2023-1345038/rajasthan-royals-vs-chennai-super-kings-37th-match-1359511/full-scorecard</td></tr><tr><td>RCB</td><td>KKR</td><td>KKR</td><td>21 runs</td><td>Bengaluru</td><td>Apr 26, 2023</td><td>Twenty20</td><td>https://www.espncricinfo.com//series/indian-premier-league-2023-1345038/royal-challengers-bangalore-vs-kolkata-knight-riders-36th-match-1359510/full-scorecard</td></tr><tr><td>GT</td><td>MI</td><td>GT</td><td>55 runs</td><td>Ahmedabad</td><td>Apr 25, 2023</td><td>Twenty20</td><td>https://www.espncricinfo.com//series/indian-premier-league-2023-1345038/gujarat-titans-vs-mumbai-indians-35th-match-1359509/full-scorecard</td></tr><tr><td>SRH</td><td>DC</td><td>DC</td><td>7 runs</td><td>Hyderabad</td><td>Apr 24, 2023</td><td>Twenty20</td><td>https://www.espncricinfo.com//series/indian-premier-league-2023-1345038/sunrisers-hyderabad-vs-delhi-capitals-34th-match-1359508/full-scorecard</td></tr><tr><td>KKR</td><td>CSK</td><td>CSK</td><td>49 runs</td><td>Eden Gardens</td><td>Apr 23, 2023</td><td>Twenty20</td><td>https://www.espncricinfo.com//series/indian-premier-league-2023-1345038/kolkata-knight-riders-vs-chennai-super-kings-33rd-match-1359507/full-scorecard</td></tr><tr><td>RCB</td><td>RR</td><td>RCB</td><td>7 runs</td><td>Bengaluru</td><td>Apr 23, 2023</td><td>Twenty20</td><td>https://www.espncricinfo.com//series/indian-premier-league-2023-1345038/royal-challengers-bangalore-vs-rajasthan-royals-32nd-match-1359506/full-scorecard</td></tr><tr><td>MI</td><td>Punjab Kings</td><td>Punjab Kings</td><td>13 runs</td><td>Wankhede</td><td>Apr 22, 2023</td><td>Twenty20</td><td>https://www.espncricinfo.com//series/indian-premier-league-2023-1345038/mumbai-indians-vs-punjab-kings-31st-match-1359505/full-scorecard</td></tr><tr><td>LSG</td><td>GT</td><td>GT</td><td>7 runs</td><td>Lucknow</td><td>Apr 22, 2023</td><td>Twenty20</td><td>https://www.espncricinfo.com//series/indian-premier-league-2023-1345038/lucknow-super-giants-vs-gujarat-titans-30th-match-1359504/full-scorecard</td></tr><tr><td>CSK</td><td>SRH</td><td>CSK</td><td>7 wickets</td><td>Chennai</td><td>Apr 21, 2023</td><td>Twenty20</td><td>https://www.espncricinfo.com//series/indian-premier-league-2023-1345038/chennai-super-kings-vs-sunrisers-hyderabad-29th-match-1359503/full-scorecard</td></tr><tr><td>DC</td><td>KKR</td><td>DC</td><td>4 wickets</td><td>Delhi</td><td>Apr 20, 2023</td><td>Twenty20</td><td>https://www.espncricinfo.com//series/indian-premier-league-2023-1345038/delhi-capitals-vs-kolkata-knight-riders-28th-match-1359502/full-scorecard</td></tr><tr><td>Punjab Kings</td><td>RCB</td><td>RCB</td><td>24 runs</td><td>Mohali</td><td>Apr 20, 2023</td><td>Twenty20</td><td>https://www.espncricinfo.com//series/indian-premier-league-2023-1345038/punjab-kings-vs-royal-challengers-bangalore-27th-match-1359501/full-scorecard</td></tr><tr><td>RR</td><td>LSG</td><td>LSG</td><td>10 runs</td><td>Jaipur</td><td>Apr 19, 2023</td><td>Twenty20</td><td>https://www.espncricinfo.com//series/indian-premier-league-2023-1345038/rajasthan-royals-vs-lucknow-super-giants-26th-match-1359500/full-scorecard</td></tr><tr><td>SRH</td><td>MI</td><td>MI</td><td>14 runs</td><td>Hyderabad</td><td>Apr 18, 2023</td><td>Twenty20</td><td>https://www.espncricinfo.com//series/indian-premier-league-2023-1345038/sunrisers-hyderabad-vs-mumbai-indians-25th-match-1359499/full-scorecard</td></tr><tr><td>RCB</td><td>CSK</td><td>CSK</td><td>8 runs</td><td>Bengaluru</td><td>Apr 17, 2023</td><td>Twenty20</td><td>https://www.espncricinfo.com//series/indian-premier-league-2023-1345038/royal-challengers-bangalore-vs-chennai-super-kings-24th-match-1359498/full-scorecard</td></tr><tr><td>GT</td><td>RR</td><td>RR</td><td>3 wickets</td><td>Ahmedabad</td><td>Apr 16, 2023</td><td>Twenty20</td><td>https://www.espncricinfo.com//series/indian-premier-league-2023-1345038/gujarat-titans-vs-rajasthan-royals-23rd-match-1359497/full-scorecard</td></tr><tr><td>MI</td><td>KKR</td><td>MI</td><td>5 wickets</td><td>Wankhede</td><td>Apr 16, 2023</td><td>Twenty20</td><td>https://www.espncricinfo.com//series/indian-premier-league-2023-1345038/mumbai-indians-vs-kolkata-knight-riders-22nd-match-1359496/full-scorecard</td></tr><tr><td>LSG</td><td>Punjab Kings</td><td>Punjab Kings</td><td>2 wickets</td><td>Lucknow</td><td>Apr 15, 2023</td><td>Twenty20</td><td>https://www.espncricinfo.com//series/indian-premier-league-2023-1345038/lucknow-super-giants-vs-punjab-kings-21st-match-1359495/full-scorecard</td></tr><tr><td>RCB</td><td>DC</td><td>RCB</td><td>23 runs</td><td>Bengaluru</td><td>Apr 15, 2023</td><td>Twenty20</td><td>https://www.espncricinfo.com//series/indian-premier-league-2023-1345038/royal-challengers-bangalore-vs-delhi-capitals-20th-match-1359494/full-scorecard</td></tr><tr><td>KKR</td><td>SRH</td><td>SRH</td><td>23 runs</td><td>Eden Gardens</td><td>Apr 14, 2023</td><td>Twenty20</td><td>https://www.espncricinfo.com//series/indian-premier-league-2023-1345038/kolkata-knight-riders-vs-sunrisers-hyderabad-19th-match-1359493/full-scorecard</td></tr><tr><td>Punjab Kings</td><td>GT</td><td>GT</td><td>6 wickets</td><td>Mohali</td><td>Apr 13, 2023</td><td>Twenty20</td><td>https://www.espncricinfo.com//series/indian-premier-league-2023-1345038/punjab-kings-vs-gujarat-titans-18th-match-1359492/full-scorecard</td></tr><tr><td>CSK</td><td>RR</td><td>RR</td><td>3 runs</td><td>Chennai</td><td>Apr 12, 2023</td><td>Twenty20</td><td>https://www.espncricinfo.com//series/indian-premier-league-2023-1345038/chennai-super-kings-vs-rajasthan-royals-17th-match-1359491/full-scorecard</td></tr><tr><td>DC</td><td>MI</td><td>MI</td><td>6 wickets</td><td>Delhi</td><td>Apr 11, 2023</td><td>Twenty20</td><td>https://www.espncricinfo.com//series/indian-premier-league-2023-1345038/delhi-capitals-vs-mumbai-indians-16th-match-1359490/full-scorecard</td></tr><tr><td>RCB</td><td>LSG</td><td>LSG</td><td>1 wicket</td><td>Bengaluru</td><td>Apr 10, 2023</td><td>Twenty20</td><td>https://www.espncricinfo.com//series/indian-premier-league-2023-1345038/royal-challengers-bangalore-vs-lucknow-super-giants-15th-match-1359489/full-scorecard</td></tr><tr><td>SRH</td><td>Punjab Kings</td><td>SRH</td><td>8 wickets</td><td>Hyderabad</td><td>Apr 9, 2023</td><td>Twenty20</td><td>https://www.espncricinfo.com//series/indian-premier-league-2023-1345038/sunrisers-hyderabad-vs-punjab-kings-14th-match-1359488/full-scorecard</td></tr><tr><td>GT</td><td>KKR</td><td>KKR</td><td>3 wickets</td><td>Ahmedabad</td><td>Apr 9, 2023</td><td>Twenty20</td><td>https://www.espncricinfo.com//series/indian-premier-league-2023-1345038/gujarat-titans-vs-kolkata-knight-riders-13th-match-1359487/full-scorecard</td></tr><tr><td>MI</td><td>CSK</td><td>CSK</td><td>7 wickets</td><td>Wankhede</td><td>Apr 8, 2023</td><td>Twenty20</td><td>https://www.espncricinfo.com//series/indian-premier-league-2023-1345038/mumbai-indians-vs-chennai-super-kings-12th-match-1359486/full-scorecard</td></tr><tr><td>RR</td><td>DC</td><td>RR</td><td>57 runs</td><td>Guwahati</td><td>Apr 8, 2023</td><td>Twenty20</td><td>https://www.espncricinfo.com//series/indian-premier-league-2023-1345038/rajasthan-royals-vs-delhi-capitals-11th-match-1359485/full-scorecard</td></tr><tr><td>LSG</td><td>SRH</td><td>LSG</td><td>5 wickets</td><td>Lucknow</td><td>Apr 7, 2023</td><td>Twenty20</td><td>https://www.espncricinfo.com//series/indian-premier-league-2023-1345038/lucknow-super-giants-vs-sunrisers-hyderabad-10th-match-1359484/full-scorecard</td></tr><tr><td>KKR</td><td>RCB</td><td>KKR</td><td>81 runs</td><td>Eden Gardens</td><td>Apr 6, 2023</td><td>Twenty20</td><td>https://www.espncricinfo.com//series/indian-premier-league-2023-1345038/kolkata-knight-riders-vs-royal-challengers-bangalore-9th-match-1359483/full-scorecard</td></tr><tr><td>RR</td><td>Punjab Kings</td><td>Punjab Kings</td><td>5 runs</td><td>Guwahati</td><td>Apr 5, 2023</td><td>Twenty20</td><td>https://www.espncricinfo.com//series/indian-premier-league-2023-1345038/rajasthan-royals-vs-punjab-kings-8th-match-1359482/full-scorecard</td></tr><tr><td>DC</td><td>GT</td><td>GT</td><td>6 wickets</td><td>Delhi</td><td>Apr 4, 2023</td><td>Twenty20</td><td>https://www.espncricinfo.com//series/indian-premier-league-2023-1345038/delhi-capitals-vs-gujarat-titans-7th-match-1359481/full-scorecard</td></tr><tr><td>CSK</td><td>LSG</td><td>CSK</td><td>12 runs</td><td>Chennai</td><td>Apr 3, 2023</td><td>Twenty20</td><td>https://www.espncricinfo.com//series/indian-premier-league-2023-1345038/chennai-super-kings-vs-lucknow-super-giants-6th-match-1359480/full-scorecard</td></tr><tr><td>RCB</td><td>MI</td><td>RCB</td><td>8 wickets</td><td>Bengaluru</td><td>Apr 2, 2023</td><td>Twenty20</td><td>https://www.espncricinfo.com//series/indian-premier-league-2023-1345038/royal-challengers-bangalore-vs-mumbai-indians-5th-match-1359479/full-scorecard</td></tr><tr><td>SRH</td><td>RR</td><td>RR</td><td>72 runs</td><td>Hyderabad</td><td>Apr 2, 2023</td><td>Twenty20</td><td>https://www.espncricinfo.com//series/indian-premier-league-2023-1345038/sunrisers-hyderabad-vs-rajasthan-royals-4th-match-1359478/full-scorecard</td></tr><tr><td>LSG</td><td>DC</td><td>LSG</td><td>50 runs</td><td>Lucknow</td><td>Apr 1, 2023</td><td>Twenty20</td><td>https://www.espncricinfo.com//series/indian-premier-league-2023-1345038/lucknow-super-giants-vs-delhi-capitals-3rd-match-1359477/full-scorecard</td></tr><tr><td>Punjab Kings</td><td>KKR</td><td>Punjab Kings</td><td>7 runs</td><td>Mohali</td><td>Apr 1, 2023</td><td>Twenty20</td><td>https://www.espncricinfo.com//series/indian-premier-league-2023-1345038/punjab-kings-vs-kolkata-knight-riders-2nd-match-1359476/full-scorecard</td></tr><tr><td>GT</td><td>CSK</td><td>GT</td><td>5 wickets</td><td>Ahmedabad</td><td>Mar 31, 2023</td><td>Twenty20</td><td>https://www.espncricinfo.com//series/indian-premier-league-2023-1345038/gujarat-titans-vs-chennai-super-kings-1st-match-1359475/full-scorecard</td></tr><tr><td>GT</td><td>RR</td><td>GT</td><td>7 wickets</td><td>Ahmedabad</td><td>May 29, 2022</td><td>Twenty20</td><td>https://www.espncricinfo.com//series/indian-premier-league-2022-1298423/gujarat-titans-vs-rajasthan-royals-final-1312200/full-scorecard</td></tr><tr><td>RR</td><td>RCB</td><td>RR</td><td>7 wickets</td><td>Ahmedabad</td><td>May 27, 2022</td><td>Twenty20</td><td>https://www.espncricinfo.com//series/indian-premier-league-2022-1298423/rajasthan-royals-vs-royal-challengers-bangalore-qualifier-2-1312199/full-scorecard</td></tr><tr><td>LSG</td><td>RCB</td><td>RCB</td><td>14 runs</td><td>Eden Gardens</td><td>May 25, 2022</td><td>Twenty20</td><td>https://www.espncricinfo.com//series/indian-premier-league-2022-1298423/lucknow-super-giants-vs-royal-challengers-bangalore-eliminator-1312198/full-scorecard</td></tr><tr><td>GT</td><td>RR</td><td>GT</td><td>7 wickets</td><td>Eden Gardens</td><td>May 24, 2022</td><td>Twenty20</td><td>https://www.espncricinfo.com//series/indian-premier-league-2022-1298423/gujarat-titans-vs-rajasthan-royals-qualifier-1-1312197/full-scorecard</td></tr><tr><td>SRH</td><td>Punjab Kings</td><td>Punjab Kings</td><td>5 wickets</td><td>Wankhede</td><td>May 22, 2022</td><td>Twenty20</td><td>https://www.espncricinfo.com//series/indian-premier-league-2022-1298423/sunrisers-hyderabad-vs-punjab-kings-70th-match-1304116/full-scorecard</td></tr><tr><td>MI</td><td>DC</td><td>MI</td><td>5 wickets</td><td>Wankhede</td><td>May 21, 2022</td><td>Twenty20</td><td>https://www.espncricinfo.com//series/indian-premier-league-2022-1298423/mumbai-indians-vs-delhi-capitals-69th-match-1304115/full-scorecard</td></tr><tr><td>RR</td><td>CSK</td><td>RR</td><td>5 wickets</td><td>Brabourne</td><td>May 20, 2022</td><td>Twenty20</td><td>https://www.espncricinfo.com//series/indian-premier-league-2022-1298423/rajasthan-royals-vs-chennai-super-kings-68th-match-1304114/full-scorecard</td></tr><tr><td>RCB</td><td>GT</td><td>RCB</td><td>8 wickets</td><td>Wankhede</td><td>May 19, 2022</td><td>Twenty20</td><td>https://www.espncricinfo.com//series/indian-premier-league-2022-1298423/royal-challengers-bangalore-vs-gujarat-titans-67th-match-1304113/full-scorecard</td></tr><tr><td>KKR</td><td>LSG</td><td>LSG</td><td>2 runs</td><td>DY Patil</td><td>May 18, 2022</td><td>Twenty20</td><td>https://www.espncricinfo.com//series/indian-premier-league-2022-1298423/kolkata-knight-riders-vs-lucknow-super-giants-66th-match-1304112/full-scorecard</td></tr><tr><td>MI</td><td>SRH</td><td>SRH</td><td>3 runs</td><td>Wankhede</td><td>May 17, 2022</td><td>Twenty20</td><td>https://www.espncricinfo.com//series/indian-premier-league-2022-1298423/mumbai-indians-vs-sunrisers-hyderabad-65th-match-1304111/full-scorecard</td></tr><tr><td>Punjab Kings</td><td>DC</td><td>DC</td><td>17 runs</td><td>DY Patil</td><td>May 16, 2022</td><td>Twenty20</td><td>https://www.espncricinfo.com//series/indian-premier-league-2022-1298423/punjab-kings-vs-delhi-capitals-64th-match-1304110/full-scorecard</td></tr><tr><td>LSG</td><td>RR</td><td>RR</td><td>24 runs</td><td>Brabourne</td><td>May 15, 2022</td><td>Twenty20</td><td>https://www.espncricinfo.com//series/indian-premier-league-2022-1298423/lucknow-super-giants-vs-rajasthan-royals-63rd-match-1304109/full-scorecard</td></tr><tr><td>CSK</td><td>GT</td><td>GT</td><td>7 wickets</td><td>Wankhede</td><td>May 15, 2022</td><td>Twenty20</td><td>https://www.espncricinfo.com//series/indian-premier-league-2022-1298423/chennai-super-kings-vs-gujarat-titans-62nd-match-1304108/full-scorecard</td></tr><tr><td>KKR</td><td>SRH</td><td>KKR</td><td>54 runs</td><td>Pune</td><td>May 14, 2022</td><td>Twenty20</td><td>https://www.espncricinfo.com//series/indian-premier-league-2022-1298423/kolkata-knight-riders-vs-sunrisers-hyderabad-61st-match-1304107/full-scorecard</td></tr><tr><td>RCB</td><td>Punjab Kings</td><td>Punjab Kings</td><td>54 runs</td><td>Brabourne</td><td>May 13, 2022</td><td>Twenty20</td><td>https://www.espncricinfo.com//series/indian-premier-league-2022-1298423/royal-challengers-bangalore-vs-punjab-kings-60th-match-1304106/full-scorecard</td></tr><tr><td>CSK</td><td>MI</td><td>MI</td><td>5 wickets</td><td>Wankhede</td><td>May 12, 2022</td><td>Twenty20</td><td>https://www.espncricinfo.com//series/indian-premier-league-2022-1298423/chennai-super-kings-vs-mumbai-indians-59th-match-1304105/full-scorecard</td></tr><tr><td>RR</td><td>DC</td><td>DC</td><td>8 wickets</td><td>DY Patil</td><td>May 11, 2022</td><td>Twenty20</td><td>https://www.espncricinfo.com//series/indian-premier-league-2022-1298423/rajasthan-royals-vs-delhi-capitals-58th-match-1304104/full-scorecard</td></tr><tr><td>LSG</td><td>GT</td><td>GT</td><td>62 runs</td><td>Pune</td><td>May 10, 2022</td><td>Twenty20</td><td>https://www.espncricinfo.com//series/indian-premier-league-2022-1298423/lucknow-super-giants-vs-gujarat-titans-57th-match-1304103/full-scorecard</td></tr><tr><td>MI</td><td>KKR</td><td>KKR</td><td>52 runs</td><td>DY Patil</td><td>May 9, 2022</td><td>Twenty20</td><td>https://www.espncricinfo.com//series/indian-premier-league-2022-1298423/mumbai-indians-vs-kolkata-knight-riders-56th-match-1304102/full-scorecard</td></tr><tr><td>CSK</td><td>DC</td><td>CSK</td><td>91 runs</td><td>DY Patil</td><td>May 8, 2022</td><td>Twenty20</td><td>https://www.espncricinfo.com//series/indian-premier-league-2022-1298423/chennai-super-kings-vs-delhi-capitals-55th-match-1304101/full-scorecard</td></tr><tr><td>SRH</td><td>RCB</td><td>RCB</td><td>67 runs</td><td>Wankhede</td><td>May 8, 2022</td><td>Twenty20</td><td>https://www.espncricinfo.com//series/indian-premier-league-2022-1298423/sunrisers-hyderabad-vs-royal-challengers-bangalore-54th-match-1304100/full-scorecard</td></tr><tr><td>LSG</td><td>KKR</td><td>LSG</td><td>75 runs</td><td>Pune</td><td>May 7, 2022</td><td>Twenty20</td><td>https://www.espncricinfo.com//series/indian-premier-league-2022-1298423/lucknow-super-giants-vs-kolkata-knight-riders-53rd-match-1304099/full-scorecard</td></tr><tr><td>Punjab Kings</td><td>RR</td><td>RR</td><td>6 wickets</td><td>Wankhede</td><td>May 7, 2022</td><td>Twenty20</td><td>https://www.espncricinfo.com//series/indian-premier-league-2022-1298423/punjab-kings-vs-rajasthan-royals-52nd-match-1304098/full-scorecard</td></tr><tr><td>GT</td><td>MI</td><td>MI</td><td>5 runs</td><td>Brabourne</td><td>May 6, 2022</td><td>Twenty20</td><td>https://www.espncricinfo.com//series/indian-premier-league-2022-1298423/gujarat-titans-vs-mumbai-indians-51st-match-1304097/full-scorecard</td></tr><tr><td>DC</td><td>SRH</td><td>DC</td><td>21 runs</td><td>Brabourne</td><td>May 5, 2022</td><td>Twenty20</td><td>https://www.espncricinfo.com//series/indian-premier-league-2022-1298423/delhi-capitals-vs-sunrisers-hyderabad-50th-match-1304096/full-scorecard</td></tr><tr><td>RCB</td><td>CSK</td><td>RCB</td><td>13 runs</td><td>Pune</td><td>May 4, 2022</td><td>Twenty20</td><td>https://www.espncricinfo.com//series/indian-premier-league-2022-1298423/royal-challengers-bangalore-vs-chennai-super-kings-49th-match-1304095/full-scorecard</td></tr><tr><td>GT</td><td>Punjab Kings</td><td>Punjab Kings</td><td>8 wickets</td><td>DY Patil</td><td>May 3, 2022</td><td>Twenty20</td><td>https://www.espncricinfo.com//series/indian-premier-league-2022-1298423/gujarat-titans-vs-punjab-kings-48th-match-1304094/full-scorecard</td></tr><tr><td>KKR</td><td>RR</td><td>KKR</td><td>7 wickets</td><td>Wankhede</td><td>May 2, 2022</td><td>Twenty20</td><td>https://www.espncricinfo.com//series/indian-premier-league-2022-1298423/kolkata-knight-riders-vs-rajasthan-royals-47th-match-1304093/full-scorecard</td></tr><tr><td>SRH</td><td>CSK</td><td>CSK</td><td>13 runs</td><td>Pune</td><td>May 1, 2022</td><td>Twenty20</td><td>https://www.espncricinfo.com//series/indian-premier-league-2022-1298423/sunrisers-hyderabad-vs-chennai-super-kings-46th-match-1304092/full-scorecard</td></tr><tr><td>DC</td><td>LSG</td><td>LSG</td><td>6 runs</td><td>Wankhede</td><td>May 1, 2022</td><td>Twenty20</td><td>https://www.espncricinfo.com//series/indian-premier-league-2022-1298423/delhi-capitals-vs-lucknow-super-giants-45th-match-1304091/full-scorecard</td></tr><tr><td>RR</td><td>MI</td><td>MI</td><td>5 wickets</td><td>DY Patil</td><td>Apr 30, 2022</td><td>Twenty20</td><td>https://www.espncricinfo.com//series/indian-premier-league-2022-1298423/rajasthan-royals-vs-mumbai-indians-44th-match-1304090/full-scorecard</td></tr><tr><td>GT</td><td>RCB</td><td>GT</td><td>6 wickets</td><td>Brabourne</td><td>Apr 30, 2022</td><td>Twenty20</td><td>https://www.espncricinfo.com//series/indian-premier-league-2022-1298423/gujarat-titans-vs-royal-challengers-bangalore-43rd-match-1304089/full-scorecard</td></tr><tr><td>Punjab Kings</td><td>LSG</td><td>LSG</td><td>20 runs</td><td>Pune</td><td>Apr 29, 2022</td><td>Twenty20</td><td>https://www.espncricinfo.com//series/indian-premier-league-2022-1298423/punjab-kings-vs-lucknow-super-giants-42nd-match-1304088/full-scorecard</td></tr><tr><td>DC</td><td>KKR</td><td>DC</td><td>4 wickets</td><td>Wankhede</td><td>Apr 28, 2022</td><td>Twenty20</td><td>https://www.espncricinfo.com//series/indian-premier-league-2022-1298423/delhi-capitals-vs-kolkata-knight-riders-41st-match-1304087/full-scorecard</td></tr><tr><td>GT</td><td>SRH</td><td>GT</td><td>5 wickets</td><td>Wankhede</td><td>Apr 27, 2022</td><td>Twenty20</td><td>https://www.espncricinfo.com//series/indian-premier-league-2022-1298423/gujarat-titans-vs-sunrisers-hyderabad-40th-match-1304086/full-scorecard</td></tr><tr><td>RCB</td><td>RR</td><td>RR</td><td>29 runs</td><td>Pune</td><td>Apr 26, 2022</td><td>Twenty20</td><td>https://www.espncricinfo.com//series/indian-premier-league-2022-1298423/royal-challengers-bangalore-vs-rajasthan-royals-39th-match-1304085/full-scorecard</td></tr><tr><td>Punjab Kings</td><td>CSK</td><td>Punjab Kings</td><td>11 runs</td><td>Wankhede</td><td>Apr 25, 2022</td><td>Twenty20</td><td>https://www.espncricinfo.com//series/indian-premier-league-2022-1298423/punjab-kings-vs-chennai-super-kings-38th-match-1304084/full-scorecard</td></tr><tr><td>LSG</td><td>MI</td><td>LSG</td><td>36 runs</td><td>Wankhede</td><td>Apr 24, 2022</td><td>Twenty20</td><td>https://www.espncricinfo.com//series/indian-premier-league-2022-1298423/lucknow-super-giants-vs-mumbai-indians-37th-match-1304083/full-scorecard</td></tr><tr><td>RCB</td><td>SRH</td><td>SRH</td><td>9 wickets</td><td>Brabourne</td><td>Apr 23, 2022</td><td>Twenty20</td><td>https://www.espncricinfo.com//series/indian-premier-league-2022-1298423/royal-challengers-bangalore-vs-sunrisers-hyderabad-36th-match-1304082/full-scorecard</td></tr><tr><td>KKR</td><td>GT</td><td>GT</td><td>8 runs</td><td>DY Patil</td><td>Apr 23, 2022</td><td>Twenty20</td><td>https://www.espncricinfo.com//series/indian-premier-league-2022-1298423/kolkata-knight-riders-vs-gujarat-titans-35th-match-1304081/full-scorecard</td></tr><tr><td>DC</td><td>RR</td><td>RR</td><td>15 runs</td><td>Wankhede</td><td>Apr 22, 2022</td><td>Twenty20</td><td>https://www.espncricinfo.com//series/indian-premier-league-2022-1298423/delhi-capitals-vs-rajasthan-royals-34th-match-1304080/full-scorecard</td></tr><tr><td>MI</td><td>CSK</td><td>CSK</td><td>3 wickets</td><td>DY Patil</td><td>Apr 21, 2022</td><td>Twenty20</td><td>https://www.espncricinfo.com//series/indian-premier-league-2022-1298423/mumbai-indians-vs-chennai-super-kings-33rd-match-1304079/full-scorecard</td></tr><tr><td>DC</td><td>Punjab Kings</td><td>DC</td><td>9 wickets</td><td>Brabourne</td><td>Apr 20, 2022</td><td>Twenty20</td><td>https://www.espncricinfo.com//series/indian-premier-league-2022-1298423/delhi-capitals-vs-punjab-kings-32nd-match-1304078/full-scorecard</td></tr><tr><td>LSG</td><td>RCB</td><td>RCB</td><td>18 runs</td><td>DY Patil</td><td>Apr 19, 2022</td><td>Twenty20</td><td>https://www.espncricinfo.com//series/indian-premier-league-2022-1298423/lucknow-super-giants-vs-royal-challengers-bangalore-31st-match-1304077/full-scorecard</td></tr><tr><td>RR</td><td>KKR</td><td>RR</td><td>7 runs</td><td>Brabourne</td><td>Apr 18, 2022</td><td>Twenty20</td><td>https://www.espncricinfo.com//series/indian-premier-league-2022-1298423/rajasthan-royals-vs-kolkata-knight-riders-30th-match-1304076/full-scorecard</td></tr><tr><td>GT</td><td>CSK</td><td>GT</td><td>3 wickets</td><td>Pune</td><td>Apr 17, 2022</td><td>Twenty20</td><td>https://www.espncricinfo.com//series/indian-premier-league-2022-1298423/gujarat-titans-vs-chennai-super-kings-29th-match-1304075/full-scorecard</td></tr><tr><td>Punjab Kings</td><td>SRH</td><td>SRH</td><td>7 wickets</td><td>DY Patil</td><td>Apr 17, 2022</td><td>Twenty20</td><td>https://www.espncricinfo.com//series/indian-premier-league-2022-1298423/punjab-kings-vs-sunrisers-hyderabad-28th-match-1304074/full-scorecard</td></tr><tr><td>DC</td><td>RCB</td><td>RCB</td><td>16 runs</td><td>Wankhede</td><td>Apr 16, 2022</td><td>Twenty20</td><td>https://www.espncricinfo.com//series/indian-premier-league-2022-1298423/delhi-capitals-vs-royal-challengers-bangalore-27th-match-1304073/full-scorecard</td></tr><tr><td>MI</td><td>LSG</td><td>LSG</td><td>18 runs</td><td>Brabourne</td><td>Apr 16, 2022</td><td>Twenty20</td><td>https://www.espncricinfo.com//series/indian-premier-league-2022-1298423/mumbai-indians-vs-lucknow-super-giants-26th-match-1304072/full-scorecard</td></tr><tr><td>SRH</td><td>KKR</td><td>SRH</td><td>7 wickets</td><td>Brabourne</td><td>Apr 15, 2022</td><td>Twenty20</td><td>https://www.espncricinfo.com//series/indian-premier-league-2022-1298423/sunrisers-hyderabad-vs-kolkata-knight-riders-25th-match-1304071/full-scorecard</td></tr><tr><td>RR</td><td>GT</td><td>GT</td><td>37 runs</td><td>DY Patil</td><td>Apr 14, 2022</td><td>Twenty20</td><td>https://www.espncricinfo.com//series/indian-premier-league-2022-1298423/rajasthan-royals-vs-gujarat-titans-24th-match-1304070/full-scorecard</td></tr><tr><td>MI</td><td>Punjab Kings</td><td>Punjab Kings</td><td>12 runs</td><td>Pune</td><td>Apr 13, 2022</td><td>Twenty20</td><td>https://www.espncricinfo.com//series/indian-premier-league-2022-1298423/mumbai-indians-vs-punjab-kings-23rd-match-1304069/full-scorecard</td></tr><tr><td>CSK</td><td>RCB</td><td>CSK</td><td>23 runs</td><td>DY Patil</td><td>Apr 12, 2022</td><td>Twenty20</td><td>https://www.espncricinfo.com//series/indian-premier-league-2022-1298423/chennai-super-kings-vs-royal-challengers-bangalore-22nd-match-1304068/full-scorecard</td></tr><tr><td>SRH</td><td>GT</td><td>SRH</td><td>8 wickets</td><td>DY Patil</td><td>Apr 11, 2022</td><td>Twenty20</td><td>https://www.espncricinfo.com//series/indian-premier-league-2022-1298423/sunrisers-hyderabad-vs-gujarat-titans-21st-match-1304067/full-scorecard</td></tr><tr><td>RR</td><td>LSG</td><td>RR</td><td>3 runs</td><td>Wankhede</td><td>Apr 10, 2022</td><td>Twenty20</td><td>https://www.espncricinfo.com//series/indian-premier-league-2022-1298423/rajasthan-royals-vs-lucknow-super-giants-20th-match-1304066/full-scorecard</td></tr><tr><td>KKR</td><td>DC</td><td>DC</td><td>44 runs</td><td>Brabourne</td><td>Apr 10, 2022</td><td>Twenty20</td><td>https://www.espncricinfo.com//series/indian-premier-league-2022-1298423/kolkata-knight-riders-vs-delhi-capitals-19th-match-1304065/full-scorecard</td></tr><tr><td>RCB</td><td>MI</td><td>RCB</td><td>7 wickets</td><td>Pune</td><td>Apr 9, 2022</td><td>Twenty20</td><td>https://www.espncricinfo.com//series/indian-premier-league-2022-1298423/royal-challengers-bangalore-vs-mumbai-indians-18th-match-1304064/full-scorecard</td></tr><tr><td>CSK</td><td>SRH</td><td>SRH</td><td>8 wickets</td><td>DY Patil</td><td>Apr 9, 2022</td><td>Twenty20</td><td>https://www.espncricinfo.com//series/indian-premier-league-2022-1298423/chennai-super-kings-vs-sunrisers-hyderabad-17th-match-1304063/full-scorecard</td></tr><tr><td>Punjab Kings</td><td>GT</td><td>GT</td><td>6 wickets</td><td>Brabourne</td><td>Apr 8, 2022</td><td>Twenty20</td><td>https://www.espncricinfo.com//series/indian-premier-league-2022-1298423/punjab-kings-vs-gujarat-titans-16th-match-1304062/full-scorecard</td></tr><tr><td>LSG</td><td>DC</td><td>LSG</td><td>6 wickets</td><td>DY Patil</td><td>Apr 7, 2022</td><td>Twenty20</td><td>https://www.espncricinfo.com//series/indian-premier-league-2022-1298423/lucknow-super-giants-vs-delhi-capitals-15th-match-1304061/full-scorecard</td></tr><tr><td>KKR</td><td>MI</td><td>KKR</td><td>5 wickets</td><td>Pune</td><td>Apr 6, 2022</td><td>Twenty20</td><td>https://www.espncricinfo.com//series/indian-premier-league-2022-1298423/kolkata-knight-riders-vs-mumbai-indians-14th-match-1304060/full-scorecard</td></tr><tr><td>RR</td><td>RCB</td><td>RCB</td><td>4 wickets</td><td>Wankhede</td><td>Apr 5, 2022</td><td>Twenty20</td><td>https://www.espncricinfo.com//series/indian-premier-league-2022-1298423/rajasthan-royals-vs-royal-challengers-bangalore-13th-match-1304059/full-scorecard</td></tr><tr><td>SRH</td><td>LSG</td><td>LSG</td><td>12 runs</td><td>DY Patil</td><td>Apr 4, 2022</td><td>Twenty20</td><td>https://www.espncricinfo.com//series/indian-premier-league-2022-1298423/sunrisers-hyderabad-vs-lucknow-super-giants-12th-match-1304058/full-scorecard</td></tr><tr><td>CSK</td><td>Punjab Kings</td><td>Punjab Kings</td><td>54 runs</td><td>Brabourne</td><td>Apr 3, 2022</td><td>Twenty20</td><td>https://www.espncricinfo.com//series/indian-premier-league-2022-1298423/chennai-super-kings-vs-punjab-kings-11th-match-1304057/full-scorecard</td></tr><tr><td>GT</td><td>DC</td><td>GT</td><td>14 runs</td><td>Pune</td><td>Apr 2, 2022</td><td>Twenty20</td><td>https://www.espncricinfo.com//series/indian-premier-league-2022-1298423/gujarat-titans-vs-delhi-capitals-10th-match-1304056/full-scorecard</td></tr><tr><td>MI</td><td>RR</td><td>RR</td><td>23 runs</td><td>DY Patil</td><td>Apr 2, 2022</td><td>Twenty20</td><td>https://www.espncricinfo.com//series/indian-premier-league-2022-1298423/mumbai-indians-vs-rajasthan-royals-9th-match-1304055/full-scorecard</td></tr><tr><td>KKR</td><td>Punjab Kings</td><td>KKR</td><td>6 wickets</td><td>Wankhede</td><td>Apr 1, 2022</td><td>Twenty20</td><td>https://www.espncricinfo.com//series/indian-premier-league-2022-1298423/kolkata-knight-riders-vs-punjab-kings-8th-match-1304054/full-scorecard</td></tr><tr><td>LSG</td><td>CSK</td><td>LSG</td><td>6 wickets</td><td>Brabourne</td><td>Mar 31, 2022</td><td>Twenty20</td><td>https://www.espncricinfo.com//series/indian-premier-league-2022-1298423/lucknow-super-giants-vs-chennai-super-kings-7th-match-1304053/full-scorecard</td></tr><tr><td>RCB</td><td>KKR</td><td>RCB</td><td>3 wickets</td><td>DY Patil</td><td>Mar 30, 2022</td><td>Twenty20</td><td>https://www.espncricinfo.com//series/indian-premier-league-2022-1298423/royal-challengers-bangalore-vs-kolkata-knight-riders-6th-match-1304052/full-scorecard</td></tr><tr><td>SRH</td><td>RR</td><td>RR</td><td>61 runs</td><td>Pune</td><td>Mar 29, 2022</td><td>Twenty20</td><td>https://www.espncricinfo.com//series/indian-premier-league-2022-1298423/sunrisers-hyderabad-vs-rajasthan-royals-5th-match-1304051/full-scorecard</td></tr><tr><td>GT</td><td>LSG</td><td>GT</td><td>5 wickets</td><td>Wankhede</td><td>Mar 28, 2022</td><td>Twenty20</td><td>https://www.espncricinfo.com//series/indian-premier-league-2022-1298423/gujarat-titans-vs-lucknow-super-giants-4th-match-1304050/full-scorecard</td></tr><tr><td>Punjab Kings</td><td>RCB</td><td>Punjab Kings</td><td>5 wickets</td><td>DY Patil</td><td>Mar 27, 2022</td><td>Twenty20</td><td>https://www.espncricinfo.com//series/indian-premier-league-2022-1298423/punjab-kings-vs-royal-challengers-bangalore-3rd-match-1304049/full-scorecard</td></tr><tr><td>DC</td><td>MI</td><td>DC</td><td>4 wickets</td><td>Brabourne</td><td>Mar 27, 2022</td><td>Twenty20</td><td>https://www.espncricinfo.com//series/indian-premier-league-2022-1298423/delhi-capitals-vs-mumbai-indians-2nd-match-1304048/full-scorecard</td></tr><tr><td>CSK</td><td>KKR</td><td>KKR</td><td>6 wickets</td><td>Wankhede</td><td>Mar 26, 2022</td><td>Twenty20</td><td>https://www.espncricinfo.com//series/indian-premier-league-2022-1298423/chennai-super-kings-vs-kolkata-knight-riders-1st-match-1304047/full-scorecard</td></tr><tr><td>CSK</td><td>KKR</td><td>CSK</td><td>27 runs</td><td>Dubai (DICS)</td><td>Oct 15, 2021</td><td>Twenty20</td><td>https://www.espncricinfo.com//series/ipl-2021-1249214/chennai-super-kings-vs-kolkata-knight-riders-final-1254117/full-scorecard</td></tr><tr><td>DC</td><td>KKR</td><td>KKR</td><td>3 wickets</td><td>Sharjah</td><td>Oct 13, 2021</td><td>Twenty20</td><td>https://www.espncricinfo.com//series/ipl-2021-1249214/delhi-capitals-vs-kolkata-knight-riders-qualifier-2-1254116/full-scorecard</td></tr><tr><td>RCB</td><td>KKR</td><td>KKR</td><td>4 wickets</td><td>Sharjah</td><td>Oct 11, 2021</td><td>Twenty20</td><td>https://www.espncricinfo.com//series/ipl-2021-1249214/royal-challengers-bangalore-vs-kolkata-knight-riders-eliminator-1254115/full-scorecard</td></tr><tr><td>DC</td><td>CSK</td><td>CSK</td><td>4 wickets</td><td>Dubai (DICS)</td><td>Oct 10, 2021</td><td>Twenty20</td><td>https://www.espncricinfo.com//series/ipl-2021-1249214/delhi-capitals-vs-chennai-super-kings-qualifier-1-1254114/full-scorecard</td></tr><tr><td>RCB</td><td>DC</td><td>RCB</td><td>7 wickets</td><td>Dubai (DICS)</td><td>Oct 8, 2021</td><td>Twenty20</td><td>https://www.espncricinfo.com//series/ipl-2021-1249214/royal-challengers-bangalore-vs-delhi-capitals-56th-match-1254101/full-scorecard</td></tr><tr><td>SRH</td><td>MI</td><td>MI</td><td>42 runs</td><td>Abu Dhabi</td><td>Oct 8, 2021</td><td>Twenty20</td><td>https://www.espncricinfo.com//series/ipl-2021-1249214/sunrisers-hyderabad-vs-mumbai-indians-55th-match-1254088/full-scorecard</td></tr><tr><td>KKR</td><td>RR</td><td>KKR</td><td>86 runs</td><td>Sharjah</td><td>Oct 7, 2021</td><td>Twenty20</td><td>https://www.espncricinfo.com//series/ipl-2021-1249214/kolkata-knight-riders-vs-rajasthan-royals-54th-match-1254106/full-scorecard</td></tr><tr><td>CSK</td><td>Punjab Kings</td><td>Punjab Kings</td><td>6 wickets</td><td>Dubai (DICS)</td><td>Oct 7, 2021</td><td>Twenty20</td><td>https://www.espncricinfo.com//series/ipl-2021-1249214/chennai-super-kings-vs-punjab-kings-53rd-match-1254094/full-scorecard</td></tr><tr><td>RCB</td><td>SRH</td><td>SRH</td><td>4 runs</td><td>Abu Dhabi</td><td>Oct 6, 2021</td><td>Twenty20</td><td>https://www.espncricinfo.com//series/ipl-2021-1249214/royal-challengers-bangalore-vs-sunrisers-hyderabad-52nd-match-1254095/full-scorecard</td></tr><tr><td>RR</td><td>MI</td><td>MI</td><td>8 wickets</td><td>Sharjah</td><td>Oct 5, 2021</td><td>Twenty20</td><td>https://www.espncricinfo.com//series/ipl-2021-1249214/rajasthan-royals-vs-mumbai-indians-51st-match-1254093/full-scorecard</td></tr><tr><td>DC</td><td>CSK</td><td>DC</td><td>3 wickets</td><td>Dubai (DICS)</td><td>Oct 4, 2021</td><td>Twenty20</td><td>https://www.espncricinfo.com//series/ipl-2021-1249214/delhi-capitals-vs-chennai-super-kings-50th-match-1254110/full-scorecard</td></tr><tr><td>KKR</td><td>SRH</td><td>KKR</td><td>6 wickets</td><td>Dubai (DICS)</td><td>Oct 3, 2021</td><td>Twenty20</td><td>https://www.espncricinfo.com//series/ipl-2021-1249214/kolkata-knight-riders-vs-sunrisers-hyderabad-49th-match-1254109/full-scorecard</td></tr><tr><td>RCB</td><td>Punjab Kings</td><td>RCB</td><td>6 runs</td><td>Sharjah</td><td>Oct 3, 2021</td><td>Twenty20</td><td>https://www.espncricinfo.com//series/ipl-2021-1249214/royal-challengers-bangalore-vs-punjab-kings-48th-match-1254090/full-scorecard</td></tr><tr><td>RR</td><td>CSK</td><td>RR</td><td>7 wickets</td><td>Abu Dhabi</td><td>Oct 2, 2021</td><td>Twenty20</td><td>https://www.espncricinfo.com//series/ipl-2021-1249214/rajasthan-royals-vs-chennai-super-kings-47th-match-1254089/full-scorecard</td></tr><tr><td>MI</td><td>DC</td><td>DC</td><td>4 wickets</td><td>Sharjah</td><td>Oct 2, 2021</td><td>Twenty20</td><td>https://www.espncricinfo.com//series/ipl-2021-1249214/mumbai-indians-vs-delhi-capitals-46th-match-1254112/full-scorecard</td></tr><tr><td>KKR</td><td>Punjab Kings</td><td>Punjab Kings</td><td>5 wickets</td><td>Dubai (DICS)</td><td>Oct 1, 2021</td><td>Twenty20</td><td>https://www.espncricinfo.com//series/ipl-2021-1249214/kolkata-knight-riders-vs-punjab-kings-45th-match-1254102/full-scorecard</td></tr><tr><td>SRH</td><td>CSK</td><td>CSK</td><td>6 wickets</td><td>Sharjah</td><td>Sep 30, 2021</td><td>Twenty20</td><td>https://www.espncricinfo.com//series/ipl-2021-1249214/sunrisers-hyderabad-vs-chennai-super-kings-44th-match-1254091/full-scorecard</td></tr><tr><td>RR</td><td>RCB</td><td>RCB</td><td>7 wickets</td><td>Dubai (DICS)</td><td>Sep 29, 2021</td><td>Twenty20</td><td>https://www.espncricinfo.com//series/ipl-2021-1249214/rajasthan-royals-vs-royal-challengers-bangalore-43rd-match-1254103/full-scorecard</td></tr><tr><td>MI</td><td>Punjab Kings</td><td>MI</td><td>6 wickets</td><td>Abu Dhabi</td><td>Sep 28, 2021</td><td>Twenty20</td><td>https://www.espncricinfo.com//series/ipl-2021-1249214/mumbai-indians-vs-punjab-kings-42nd-match-1254099/full-scorecard</td></tr><tr><td>KKR</td><td>DC</td><td>KKR</td><td>3 wickets</td><td>Sharjah</td><td>Sep 28, 2021</td><td>Twenty20</td><td>https://www.espncricinfo.com//series/ipl-2021-1249214/kolkata-knight-riders-vs-delhi-capitals-41st-match-1254092/full-scorecard</td></tr><tr><td>SRH</td><td>RR</td><td>SRH</td><td>7 wickets</td><td>Dubai (DICS)</td><td>Sep 27, 2021</td><td>Twenty20</td><td>https://www.espncricinfo.com//series/ipl-2021-1249214/sunrisers-hyderabad-vs-rajasthan-royals-40th-match-1254100/full-scorecard</td></tr><tr><td>RCB</td><td>MI</td><td>RCB</td><td>54 runs</td><td>Dubai (DICS)</td><td>Sep 26, 2021</td><td>Twenty20</td><td>https://www.espncricinfo.com//series/ipl-2021-1249214/royal-challengers-bangalore-vs-mumbai-indians-39th-match-1254108/full-scorecard</td></tr><tr><td>CSK</td><td>KKR</td><td>CSK</td><td>2 wickets</td><td>Abu Dhabi</td><td>Sep 26, 2021</td><td>Twenty20</td><td>https://www.espncricinfo.com//series/ipl-2021-1249214/chennai-super-kings-vs-kolkata-knight-riders-38th-match-1254098/full-scorecard</td></tr><tr><td>SRH</td><td>Punjab Kings</td><td>Punjab Kings</td><td>5 runs</td><td>Sharjah</td><td>Sep 25, 2021</td><td>Twenty20</td><td>https://www.espncricinfo.com//series/ipl-2021-1249214/sunrisers-hyderabad-vs-punjab-kings-37th-match-1254107/full-scorecard</td></tr><tr><td>DC</td><td>RR</td><td>DC</td><td>33 runs</td><td>Abu Dhabi</td><td>Sep 25, 2021</td><td>Twenty20</td><td>https://www.espncricinfo.com//series/ipl-2021-1249214/delhi-capitals-vs-rajasthan-royals-36th-match-1254097/full-scorecard</td></tr><tr><td>RCB</td><td>CSK</td><td>CSK</td><td>6 wickets</td><td>Sharjah</td><td>Sep 24, 2021</td><td>Twenty20</td><td>https://www.espncricinfo.com//series/ipl-2021-1249214/royal-challengers-bangalore-vs-chennai-super-kings-35th-match-1254113/full-scorecard</td></tr><tr><td>MI</td><td>KKR</td><td>KKR</td><td>7 wickets</td><td>Abu Dhabi</td><td>Sep 23, 2021</td><td>Twenty20</td><td>https://www.espncricinfo.com//series/ipl-2021-1249214/mumbai-indians-vs-kolkata-knight-riders-34th-match-1254096/full-scorecard</td></tr><tr><td>DC</td><td>SRH</td><td>DC</td><td>8 wickets</td><td>Dubai (DICS)</td><td>Sep 22, 2021</td><td>Twenty20</td><td>https://www.espncricinfo.com//series/ipl-2021-1249214/delhi-capitals-vs-sunrisers-hyderabad-33rd-match-1254105/full-scorecard</td></tr><tr><td>Punjab Kings</td><td>RR</td><td>RR</td><td>2 runs</td><td>Dubai (DICS)</td><td>Sep 21, 2021</td><td>Twenty20</td><td>https://www.espncricinfo.com//series/ipl-2021-1249214/punjab-kings-vs-rajasthan-royals-32nd-match-1254111/full-scorecard</td></tr><tr><td>KKR</td><td>RCB</td><td>KKR</td><td>9 wickets</td><td>Abu Dhabi</td><td>Sep 20, 2021</td><td>Twenty20</td><td>https://www.espncricinfo.com//series/ipl-2021-1249214/kolkata-knight-riders-vs-royal-challengers-bangalore-31st-match-1254087/full-scorecard</td></tr><tr><td>CSK</td><td>MI</td><td>CSK</td><td>20 runs</td><td>Dubai (DICS)</td><td>Sep 19, 2021</td><td>Twenty20</td><td>https://www.espncricinfo.com//series/ipl-2021-1249214/chennai-super-kings-vs-mumbai-indians-30th-match-1254104/full-scorecard</td></tr><tr><td>Punjab Kings</td><td>DC</td><td>DC</td><td>7 wickets</td><td>Ahmedabad</td><td>May 2, 2021</td><td>Twenty20</td><td>https://www.espncricinfo.com//series/ipl-2021-1249214/punjab-kings-vs-delhi-capitals-29th-match-1254086/full-scorecard</td></tr><tr><td>RR</td><td>SRH</td><td>RR</td><td>55 runs</td><td>Delhi</td><td>May 2, 2021</td><td>Twenty20</td><td>https://www.espncricinfo.com//series/ipl-2021-1249214/rajasthan-royals-vs-sunrisers-hyderabad-28th-match-1254085/full-scorecard</td></tr><tr><td>MI</td><td>CSK</td><td>MI</td><td>4 wickets</td><td>Delhi</td><td>May 1, 2021</td><td>Twenty20</td><td>https://www.espncricinfo.com//series/ipl-2021-1249214/mumbai-indians-vs-chennai-super-kings-27th-match-1254084/full-scorecard</td></tr><tr><td>Punjab Kings</td><td>RCB</td><td>Punjab Kings</td><td>34 runs</td><td>Ahmedabad</td><td>Apr 30, 2021</td><td>Twenty20</td><td>https://www.espncricinfo.com//series/ipl-2021-1249214/punjab-kings-vs-royal-challengers-bangalore-26th-match-1254083/full-scorecard</td></tr><tr><td>DC</td><td>KKR</td><td>DC</td><td>7 wickets</td><td>Ahmedabad</td><td>Apr 29, 2021</td><td>Twenty20</td><td>https://www.espncricinfo.com//series/ipl-2021-1249214/delhi-capitals-vs-kolkata-knight-riders-25th-match-1254082/full-scorecard</td></tr><tr><td>MI</td><td>RR</td><td>MI</td><td>7 wickets</td><td>Delhi</td><td>Apr 29, 2021</td><td>Twenty20</td><td>https://www.espncricinfo.com//series/ipl-2021-1249214/mumbai-indians-vs-rajasthan-royals-24th-match-1254081/full-scorecard</td></tr><tr><td>CSK</td><td>SRH</td><td>CSK</td><td>7 wickets</td><td>Delhi</td><td>Apr 28, 2021</td><td>Twenty20</td><td>https://www.espncricinfo.com//series/ipl-2021-1249214/chennai-super-kings-vs-sunrisers-hyderabad-23rd-match-1254080/full-scorecard</td></tr><tr><td>DC</td><td>RCB</td><td>RCB</td><td>1 run</td><td>Ahmedabad</td><td>Apr 27, 2021</td><td>Twenty20</td><td>https://www.espncricinfo.com//series/ipl-2021-1249214/delhi-capitals-vs-royal-challengers-bangalore-22nd-match-1254079/full-scorecard</td></tr><tr><td>Punjab Kings</td><td>KKR</td><td>KKR</td><td>5 wickets</td><td>Ahmedabad</td><td>Apr 26, 2021</td><td>Twenty20</td><td>https://www.espncricinfo.com//series/ipl-2021-1249214/punjab-kings-vs-kolkata-knight-riders-21st-match-1254078/full-scorecard</td></tr><tr><td>SRH</td><td>DC</td><td>tied</td><td>-</td><td>Chennai</td><td>Apr 25, 2021</td><td>Twenty20</td><td>https://www.espncricinfo.com//series/ipl-2021-1249214/sunrisers-hyderabad-vs-delhi-capitals-20th-match-1254077/full-scorecard</td></tr><tr><td>CSK</td><td>RCB</td><td>CSK</td><td>69 runs</td><td>Wankhede</td><td>Apr 25, 2021</td><td>Twenty20</td><td>https://www.espncricinfo.com//series/ipl-2021-1249214/chennai-super-kings-vs-royal-challengers-bangalore-19th-match-1254076/full-scorecard</td></tr><tr><td>RR</td><td>KKR</td><td>RR</td><td>6 wickets</td><td>Wankhede</td><td>Apr 24, 2021</td><td>Twenty20</td><td>https://www.espncricinfo.com//series/ipl-2021-1249214/rajasthan-royals-vs-kolkata-knight-riders-18th-match-1254075/full-scorecard</td></tr><tr><td>Punjab Kings</td><td>MI</td><td>Punjab Kings</td><td>9 wickets</td><td>Chennai</td><td>Apr 23, 2021</td><td>Twenty20</td><td>https://www.espncricinfo.com//series/ipl-2021-1249214/punjab-kings-vs-mumbai-indians-17th-match-1254074/full-scorecard</td></tr><tr><td>RCB</td><td>RR</td><td>RCB</td><td>10 wickets</td><td>Wankhede</td><td>Apr 22, 2021</td><td>Twenty20</td><td>https://www.espncricinfo.com//series/ipl-2021-1249214/royal-challengers-bangalore-vs-rajasthan-royals-16th-match-1254073/full-scorecard</td></tr><tr><td>KKR</td><td>CSK</td><td>CSK</td><td>18 runs</td><td>Wankhede</td><td>Apr 21, 2021</td><td>Twenty20</td><td>https://www.espncricinfo.com//series/ipl-2021-1249214/kolkata-knight-riders-vs-chennai-super-kings-15th-match-1254072/full-scorecard</td></tr><tr><td>Punjab Kings</td><td>SRH</td><td>SRH</td><td>9 wickets</td><td>Chennai</td><td>Apr 21, 2021</td><td>Twenty20</td><td>https://www.espncricinfo.com//series/ipl-2021-1249214/punjab-kings-vs-sunrisers-hyderabad-14th-match-1254071/full-scorecard</td></tr><tr><td>DC</td><td>MI</td><td>DC</td><td>6 wickets</td><td>Chennai</td><td>Apr 20, 2021</td><td>Twenty20</td><td>https://www.espncricinfo.com//series/ipl-2021-1249214/delhi-capitals-vs-mumbai-indians-13th-match-1254070/full-scorecard</td></tr><tr><td>CSK</td><td>RR</td><td>CSK</td><td>45 runs</td><td>Wankhede</td><td>Apr 19, 2021</td><td>Twenty20</td><td>https://www.espncricinfo.com//series/ipl-2021-1249214/chennai-super-kings-vs-rajasthan-royals-12th-match-1254069/full-scorecard</td></tr><tr><td>DC</td><td>Punjab Kings</td><td>DC</td><td>6 wickets</td><td>Wankhede</td><td>Apr 18, 2021</td><td>Twenty20</td><td>https://www.espncricinfo.com//series/ipl-2021-1249214/delhi-capitals-vs-punjab-kings-11th-match-1254068/full-scorecard</td></tr><tr><td>RCB</td><td>KKR</td><td>RCB</td><td>38 runs</td><td>Chennai</td><td>Apr 18, 2021</td><td>Twenty20</td><td>https://www.espncricinfo.com//series/ipl-2021-1249214/royal-challengers-bangalore-vs-kolkata-knight-riders-10th-match-1254067/full-scorecard</td></tr><tr><td>MI</td><td>SRH</td><td>MI</td><td>13 runs</td><td>Chennai</td><td>Apr 17, 2021</td><td>Twenty20</td><td>https://www.espncricinfo.com//series/ipl-2021-1249214/mumbai-indians-vs-sunrisers-hyderabad-9th-match-1254066/full-scorecard</td></tr><tr><td>Punjab Kings</td><td>CSK</td><td>CSK</td><td>6 wickets</td><td>Wankhede</td><td>Apr 16, 2021</td><td>Twenty20</td><td>https://www.espncricinfo.com//series/ipl-2021-1249214/punjab-kings-vs-chennai-super-kings-8th-match-1254065/full-scorecard</td></tr><tr><td>RR</td><td>DC</td><td>RR</td><td>3 wickets</td><td>Wankhede</td><td>Apr 15, 2021</td><td>Twenty20</td><td>https://www.espncricinfo.com//series/ipl-2021-1249214/rajasthan-royals-vs-delhi-capitals-7th-match-1254064/full-scorecard</td></tr><tr><td>SRH</td><td>RCB</td><td>RCB</td><td>6 runs</td><td>Chennai</td><td>Apr 14, 2021</td><td>Twenty20</td><td>https://www.espncricinfo.com//series/ipl-2021-1249214/sunrisers-hyderabad-vs-royal-challengers-bangalore-6th-match-1254063/full-scorecard</td></tr><tr><td>KKR</td><td>MI</td><td>MI</td><td>10 runs</td><td>Chennai</td><td>Apr 13, 2021</td><td>Twenty20</td><td>https://www.espncricinfo.com//series/ipl-2021-1249214/kolkata-knight-riders-vs-mumbai-indians-5th-match-1254062/full-scorecard</td></tr><tr><td>RR</td><td>Punjab Kings</td><td>Punjab Kings</td><td>4 runs</td><td>Wankhede</td><td>Apr 12, 2021</td><td>Twenty20</td><td>https://www.espncricinfo.com//series/ipl-2021-1249214/rajasthan-royals-vs-punjab-kings-4th-match-1254061/full-scorecard</td></tr><tr><td>SRH</td><td>KKR</td><td>KKR</td><td>10 runs</td><td>Chennai</td><td>Apr 11, 2021</td><td>Twenty20</td><td>https://www.espncricinfo.com//series/ipl-2021-1249214/sunrisers-hyderabad-vs-kolkata-knight-riders-3rd-match-1254060/full-scorecard</td></tr><tr><td>CSK</td><td>DC</td><td>DC</td><td>7 wickets</td><td>Wankhede</td><td>Apr 10, 2021</td><td>Twenty20</td><td>https://www.espncricinfo.com//series/ipl-2021-1249214/chennai-super-kings-vs-delhi-capitals-2nd-match-1254059/full-scorecard</td></tr><tr><td>MI</td><td>RCB</td><td>RCB</td><td>2 wickets</td><td>Chennai</td><td>Apr 9, 2021</td><td>Twenty20</td><td>https://www.espncricinfo.com//series/ipl-2021-1249214/mumbai-indians-vs-royal-challengers-bangalore-1st-match-1254058/full-scorecard</td></tr><tr><td>DC</td><td>MI</td><td>MI</td><td>5 wickets</td><td>Dubai (DICS)</td><td>Nov 10, 2020</td><td>Twenty20</td><td>https://www.espncricinfo.com//series/ipl-2020-21-1210595/delhi-capitals-vs-mumbai-indians-final-1237181/full-scorecard</td></tr><tr><td>DC</td><td>SRH</td><td>DC</td><td>17 runs</td><td>Abu Dhabi</td><td>Nov 8, 2020</td><td>Twenty20</td><td>https://www.espncricinfo.com//series/ipl-2020-21-1210595/delhi-capitals-vs-sunrisers-hyderabad-qualifier-2-1237180/full-scorecard</td></tr><tr><td>RCB</td><td>SRH</td><td>SRH</td><td>6 wickets</td><td>Abu Dhabi</td><td>Nov 6, 2020</td><td>Twenty20</td><td>https://www.espncricinfo.com//series/ipl-2020-21-1210595/royal-challengers-bangalore-vs-sunrisers-hyderabad-eliminator-1237178/full-scorecard</td></tr><tr><td>DC</td><td>MI</td><td>MI</td><td>57 runs</td><td>Dubai (DICS)</td><td>Nov 5, 2020</td><td>Twenty20</td><td>https://www.espncricinfo.com//series/ipl-2020-21-1210595/delhi-capitals-vs-mumbai-indians-qualifier-1-1237177/full-scorecard</td></tr><tr><td>SRH</td><td>MI</td><td>SRH</td><td>10 wickets</td><td>Sharjah</td><td>Nov 3, 2020</td><td>Twenty20</td><td>https://www.espncricinfo.com//series/ipl-2020-21-1210595/sunrisers-hyderabad-vs-mumbai-indians-56th-match-1216495/full-scorecard</td></tr><tr><td>DC</td><td>RCB</td><td>DC</td><td>6 wickets</td><td>Abu Dhabi</td><td>Nov 2, 2020</td><td>Twenty20</td><td>https://www.espncricinfo.com//series/ipl-2020-21-1210595/delhi-capitals-vs-royal-challengers-bangalore-55th-match-1216505/full-scorecard</td></tr><tr><td>KKR</td><td>RR</td><td>KKR</td><td>60 runs</td><td>Dubai (DICS)</td><td>Nov 1, 2020</td><td>Twenty20</td><td>https://www.espncricinfo.com//series/ipl-2020-21-1210595/kolkata-knight-riders-vs-rajasthan-royals-54th-match-1216530/full-scorecard</td></tr><tr><td>CSK</td><td>Kings XI</td><td>CSK</td><td>9 wickets</td><td>Abu Dhabi</td><td>Nov 1, 2020</td><td>Twenty20</td><td>https://www.espncricinfo.com//series/ipl-2020-21-1210595/chennai-super-kings-vs-kings-xi-punjab-53rd-match-1216506/full-scorecard</td></tr><tr><td>RCB</td><td>SRH</td><td>SRH</td><td>5 wickets</td><td>Sharjah</td><td>Oct 31, 2020</td><td>Twenty20</td><td>https://www.espncricinfo.com//series/ipl-2020-21-1210595/royal-challengers-bangalore-vs-sunrisers-hyderabad-52nd-match-1216502/full-scorecard</td></tr><tr><td>DC</td><td>MI</td><td>MI</td><td>9 wickets</td><td>Dubai (DICS)</td><td>Oct 31, 2020</td><td>Twenty20</td><td>https://www.espncricinfo.com//series/ipl-2020-21-1210595/delhi-capitals-vs-mumbai-indians-51st-match-1216535/full-scorecard</td></tr><tr><td>Kings XI</td><td>RR</td><td>RR</td><td>7 wickets</td><td>Abu Dhabi</td><td>Oct 30, 2020</td><td>Twenty20</td><td>https://www.espncricinfo.com//series/ipl-2020-21-1210595/kings-xi-punjab-vs-rajasthan-royals-50th-match-1216537/full-scorecard</td></tr><tr><td>CSK</td><td>KKR</td><td>CSK</td><td>6 wickets</td><td>Dubai (DICS)</td><td>Oct 29, 2020</td><td>Twenty20</td><td>https://www.espncricinfo.com//series/ipl-2020-21-1210595/chennai-super-kings-vs-kolkata-knight-riders-49th-match-1216536/full-scorecard</td></tr><tr><td>MI</td><td>RCB</td><td>MI</td><td>5 wickets</td><td>Abu Dhabi</td><td>Oct 28, 2020</td><td>Twenty20</td><td>https://www.espncricinfo.com//series/ipl-2020-21-1210595/mumbai-indians-vs-royal-challengers-bangalore-48th-match-1216499/full-scorecard</td></tr><tr><td>SRH</td><td>DC</td><td>SRH</td><td>88 runs</td><td>Dubai (DICS)</td><td>Oct 27, 2020</td><td>Twenty20</td><td>https://www.espncricinfo.com//series/ipl-2020-21-1210595/sunrisers-hyderabad-vs-delhi-capitals-47th-match-1216524/full-scorecard</td></tr><tr><td>KKR</td><td>Kings XI</td><td>Kings XI</td><td>8 wickets</td><td>Sharjah</td><td>Oct 26, 2020</td><td>Twenty20</td><td>https://www.espncricinfo.com//series/ipl-2020-21-1210595/kolkata-knight-riders-vs-kings-xi-punjab-46th-match-1216520/full-scorecard</td></tr><tr><td>RR</td><td>MI</td><td>RR</td><td>8 wickets</td><td>Abu Dhabi</td><td>Oct 25, 2020</td><td>Twenty20</td><td>https://www.espncricinfo.com//series/ipl-2020-21-1210595/rajasthan-royals-vs-mumbai-indians-45th-match-1216541/full-scorecard</td></tr><tr><td>RCB</td><td>CSK</td><td>CSK</td><td>8 wickets</td><td>Dubai (DICS)</td><td>Oct 25, 2020</td><td>Twenty20</td><td>https://www.espncricinfo.com//series/ipl-2020-21-1210595/royal-challengers-bangalore-vs-chennai-super-kings-44th-match-1216544/full-scorecard</td></tr><tr><td>Kings XI</td><td>SRH</td><td>Kings XI</td><td>12 runs</td><td>Dubai (DICS)</td><td>Oct 24, 2020</td><td>Twenty20</td><td>https://www.espncricinfo.com//series/ipl-2020-21-1210595/kings-xi-punjab-vs-sunrisers-hyderabad-43rd-match-1216498/full-scorecard</td></tr><tr><td>KKR</td><td>DC</td><td>KKR</td><td>59 runs</td><td>Abu Dhabi</td><td>Oct 24, 2020</td><td>Twenty20</td><td>https://www.espncricinfo.com//series/ipl-2020-21-1210595/kolkata-knight-riders-vs-delhi-capitals-42nd-match-1216497/full-scorecard</td></tr><tr><td>CSK</td><td>MI</td><td>MI</td><td>10 wickets</td><td>Sharjah</td><td>Oct 23, 2020</td><td>Twenty20</td><td>https://www.espncricinfo.com//series/ipl-2020-21-1210595/chennai-super-kings-vs-mumbai-indians-41st-match-1216521/full-scorecard</td></tr><tr><td>RR</td><td>SRH</td><td>SRH</td><td>8 wickets</td><td>Dubai (DICS)</td><td>Oct 22, 2020</td><td>Twenty20</td><td>https://www.espncricinfo.com//series/ipl-2020-21-1210595/rajasthan-royals-vs-sunrisers-hyderabad-40th-match-1216518/full-scorecard</td></tr><tr><td>KKR</td><td>RCB</td><td>RCB</td><td>8 wickets</td><td>Abu Dhabi</td><td>Oct 21, 2020</td><td>Twenty20</td><td>https://www.espncricinfo.com//series/ipl-2020-21-1210595/kolkata-knight-riders-vs-royal-challengers-bangalore-39th-match-1216494/full-scorecard</td></tr><tr><td>Kings XI</td><td>DC</td><td>Kings XI</td><td>5 wickets</td><td>Dubai (DICS)</td><td>Oct 20, 2020</td><td>Twenty20</td><td>https://www.espncricinfo.com//series/ipl-2020-21-1210595/kings-xi-punjab-vs-delhi-capitals-38th-match-1216546/full-scorecard</td></tr><tr><td>CSK</td><td>RR</td><td>RR</td><td>7 wickets</td><td>Abu Dhabi</td><td>Oct 19, 2020</td><td>Twenty20</td><td>https://www.espncricinfo.com//series/ipl-2020-21-1210595/chennai-super-kings-vs-rajasthan-royals-37th-match-1216533/full-scorecard</td></tr><tr><td>MI</td><td>Kings XI</td><td>tied</td><td>-</td><td>Dubai (DICS)</td><td>Oct 18, 2020</td><td>Twenty20</td><td>https://www.espncricinfo.com//series/ipl-2020-21-1210595/mumbai-indians-vs-kings-xi-punjab-36th-match-1216517/full-scorecard</td></tr><tr><td>SRH</td><td>KKR</td><td>tied</td><td>-</td><td>Abu Dhabi</td><td>Oct 18, 2020</td><td>Twenty20</td><td>https://www.espncricinfo.com//series/ipl-2020-21-1210595/sunrisers-hyderabad-vs-kolkata-knight-riders-35th-match-1216512/full-scorecard</td></tr><tr><td>DC</td><td>CSK</td><td>DC</td><td>5 wickets</td><td>Sharjah</td><td>Oct 17, 2020</td><td>Twenty20</td><td>https://www.espncricinfo.com//series/ipl-2020-21-1210595/delhi-capitals-vs-chennai-super-kings-34th-match-1216509/full-scorecard</td></tr><tr><td>RR</td><td>RCB</td><td>RCB</td><td>7 wickets</td><td>Dubai (DICS)</td><td>Oct 17, 2020</td><td>Twenty20</td><td>https://www.espncricinfo.com//series/ipl-2020-21-1210595/rajasthan-royals-vs-royal-challengers-bangalore-33rd-match-1216522/full-scorecard</td></tr><tr><td>MI</td><td>KKR</td><td>MI</td><td>8 wickets</td><td>Abu Dhabi</td><td>Oct 16, 2020</td><td>Twenty20</td><td>https://www.espncricinfo.com//series/ipl-2020-21-1210595/mumbai-indians-vs-kolkata-knight-riders-32nd-match-1216526/full-scorecard</td></tr><tr><td>RCB</td><td>Kings XI</td><td>Kings XI</td><td>8 wickets</td><td>Sharjah</td><td>Oct 15, 2020</td><td>Twenty20</td><td>https://www.espncricinfo.com//series/ipl-2020-21-1210595/royal-challengers-bangalore-vs-kings-xi-punjab-31st-match-1216531/full-scorecard</td></tr><tr><td>DC</td><td>RR</td><td>DC</td><td>13 runs</td><td>Dubai (DICS)</td><td>Oct 14, 2020</td><td>Twenty20</td><td>https://www.espncricinfo.com//series/ipl-2020-21-1210595/delhi-capitals-vs-rajasthan-royals-30th-match-1216543/full-scorecard</td></tr><tr><td>SRH</td><td>CSK</td><td>CSK</td><td>20 runs</td><td>Dubai (DICS)</td><td>Oct 13, 2020</td><td>Twenty20</td><td>https://www.espncricinfo.com//series/ipl-2020-21-1210595/sunrisers-hyderabad-vs-chennai-super-kings-29th-match-1216528/full-scorecard</td></tr><tr><td>RCB</td><td>KKR</td><td>RCB</td><td>82 runs</td><td>Sharjah</td><td>Oct 12, 2020</td><td>Twenty20</td><td>https://www.espncricinfo.com//series/ipl-2020-21-1210595/royal-challengers-bangalore-vs-kolkata-knight-riders-28th-match-1216540/full-scorecard</td></tr><tr><td>MI</td><td>DC</td><td>MI</td><td>5 wickets</td><td>Abu Dhabi</td><td>Oct 11, 2020</td><td>Twenty20</td><td>https://www.espncricinfo.com//series/ipl-2020-21-1210595/mumbai-indians-vs-delhi-capitals-27th-match-1216529/full-scorecard</td></tr><tr><td>SRH</td><td>RR</td><td>RR</td><td>5 wickets</td><td>Dubai (DICS)</td><td>Oct 11, 2020</td><td>Twenty20</td><td>https://www.espncricinfo.com//series/ipl-2020-21-1210595/sunrisers-hyderabad-vs-rajasthan-royals-26th-match-1216507/full-scorecard</td></tr><tr><td>CSK</td><td>RCB</td><td>RCB</td><td>37 runs</td><td>Dubai (DICS)</td><td>Oct 10, 2020</td><td>Twenty20</td><td>https://www.espncricinfo.com//series/ipl-2020-21-1210595/chennai-super-kings-vs-royal-challengers-bangalore-25th-match-1216525/full-scorecard</td></tr><tr><td>Kings XI</td><td>KKR</td><td>KKR</td><td>2 runs</td><td>Abu Dhabi</td><td>Oct 10, 2020</td><td>Twenty20</td><td>https://www.espncricinfo.com//series/ipl-2020-21-1210595/kings-xi-punjab-vs-kolkata-knight-riders-24th-match-1216523/full-scorecard</td></tr><tr><td>RR</td><td>DC</td><td>DC</td><td>46 runs</td><td>Sharjah</td><td>Oct 9, 2020</td><td>Twenty20</td><td>https://www.espncricinfo.com//series/ipl-2020-21-1210595/rajasthan-royals-vs-delhi-capitals-23rd-match-1216500/full-scorecard</td></tr><tr><td>SRH</td><td>Kings XI</td><td>SRH</td><td>69 runs</td><td>Dubai (DICS)</td><td>Oct 8, 2020</td><td>Twenty20</td><td>https://www.espncricinfo.com//series/ipl-2020-21-1210595/sunrisers-hyderabad-vs-kings-xi-punjab-22nd-match-1216542/full-scorecard</td></tr><tr><td>KKR</td><td>CSK</td><td>KKR</td><td>10 runs</td><td>Abu Dhabi</td><td>Oct 7, 2020</td><td>Twenty20</td><td>https://www.espncricinfo.com//series/ipl-2020-21-1210595/kolkata-knight-riders-vs-chennai-super-kings-21st-match-1216501/full-scorecard</td></tr><tr><td>MI</td><td>RR</td><td>MI</td><td>57 runs</td><td>Abu Dhabi</td><td>Oct 6, 2020</td><td>Twenty20</td><td>https://www.espncricinfo.com//series/ipl-2020-21-1210595/mumbai-indians-vs-rajasthan-royals-20th-match-1216511/full-scorecard</td></tr><tr><td>RCB</td><td>DC</td><td>DC</td><td>59 runs</td><td>Dubai (DICS)</td><td>Oct 5, 2020</td><td>Twenty20</td><td>https://www.espncricinfo.com//series/ipl-2020-21-1210595/royal-challengers-bangalore-vs-delhi-capitals-19th-match-1216519/full-scorecard</td></tr><tr><td>Kings XI</td><td>CSK</td><td>CSK</td><td>10 wickets</td><td>Dubai (DICS)</td><td>Oct 4, 2020</td><td>Twenty20</td><td>https://www.espncricinfo.com//series/ipl-2020-21-1210595/kings-xi-punjab-vs-chennai-super-kings-18th-match-1216513/full-scorecard</td></tr><tr><td>MI</td><td>SRH</td><td>MI</td><td>34 runs</td><td>Sharjah</td><td>Oct 4, 2020</td><td>Twenty20</td><td>https://www.espncricinfo.com//series/ipl-2020-21-1210595/mumbai-indians-vs-sunrisers-hyderabad-17th-match-1216538/full-scorecard</td></tr><tr><td>DC</td><td>KKR</td><td>DC</td><td>18 runs</td><td>Sharjah</td><td>Oct 3, 2020</td><td>Twenty20</td><td>https://www.espncricinfo.com//series/ipl-2020-21-1210595/delhi-capitals-vs-kolkata-knight-riders-16th-match-1216515/full-scorecard</td></tr><tr><td>RCB</td><td>RR</td><td>RCB</td><td>8 wickets</td><td>Abu Dhabi</td><td>Oct 3, 2020</td><td>Twenty20</td><td>https://www.espncricinfo.com//series/ipl-2020-21-1210595/royal-challengers-bangalore-vs-rajasthan-royals-15th-match-1216514/full-scorecard</td></tr><tr><td>CSK</td><td>SRH</td><td>SRH</td><td>7 runs</td><td>Dubai (DICS)</td><td>Oct 2, 2020</td><td>Twenty20</td><td>https://www.espncricinfo.com//series/ipl-2020-21-1210595/chennai-super-kings-vs-sunrisers-hyderabad-14th-match-1216516/full-scorecard</td></tr><tr><td>Kings XI</td><td>MI</td><td>MI</td><td>48 runs</td><td>Abu Dhabi</td><td>Oct 1, 2020</td><td>Twenty20</td><td>https://www.espncricinfo.com//series/ipl-2020-21-1210595/kings-xi-punjab-vs-mumbai-indians-13th-match-1216503/full-scorecard</td></tr><tr><td>RR</td><td>KKR</td><td>KKR</td><td>37 runs</td><td>Dubai (DICS)</td><td>Sep 30, 2020</td><td>Twenty20</td><td>https://www.espncricinfo.com//series/ipl-2020-21-1210595/rajasthan-royals-vs-kolkata-knight-riders-12th-match-1216504/full-scorecard</td></tr><tr><td>DC</td><td>SRH</td><td>SRH</td><td>15 runs</td><td>Abu Dhabi</td><td>Sep 29, 2020</td><td>Twenty20</td><td>https://www.espncricinfo.com//series/ipl-2020-21-1210595/delhi-capitals-vs-sunrisers-hyderabad-11th-match-1216532/full-scorecard</td></tr><tr><td>RCB</td><td>MI</td><td>tied</td><td>-</td><td>Dubai (DICS)</td><td>Sep 28, 2020</td><td>Twenty20</td><td>https://www.espncricinfo.com//series/ipl-2020-21-1210595/royal-challengers-bangalore-vs-mumbai-indians-10th-match-1216547/full-scorecard</td></tr><tr><td>RR</td><td>Kings XI</td><td>RR</td><td>4 wickets</td><td>Sharjah</td><td>Sep 27, 2020</td><td>Twenty20</td><td>https://www.espncricinfo.com//series/ipl-2020-21-1210595/rajasthan-royals-vs-kings-xi-punjab-9th-match-1216527/full-scorecard</td></tr><tr><td>KKR</td><td>SRH</td><td>KKR</td><td>7 wickets</td><td>Abu Dhabi</td><td>Sep 26, 2020</td><td>Twenty20</td><td>https://www.espncricinfo.com//series/ipl-2020-21-1210595/kolkata-knight-riders-vs-sunrisers-hyderabad-8th-match-1216545/full-scorecard</td></tr><tr><td>CSK</td><td>DC</td><td>DC</td><td>44 runs</td><td>Dubai (DICS)</td><td>Sep 25, 2020</td><td>Twenty20</td><td>https://www.espncricinfo.com//series/ipl-2020-21-1210595/chennai-super-kings-vs-delhi-capitals-7th-match-1216539/full-scorecard</td></tr><tr><td>Kings XI</td><td>RCB</td><td>Kings XI</td><td>97 runs</td><td>Dubai (DICS)</td><td>Sep 24, 2020</td><td>Twenty20</td><td>https://www.espncricinfo.com//series/ipl-2020-21-1210595/kings-xi-punjab-vs-royal-challengers-bangalore-6th-match-1216510/full-scorecard</td></tr><tr><td>KKR</td><td>MI</td><td>MI</td><td>49 runs</td><td>Abu Dhabi</td><td>Sep 23, 2020</td><td>Twenty20</td><td>https://www.espncricinfo.com//series/ipl-2020-21-1210595/kolkata-knight-riders-vs-mumbai-indians-5th-match-1216508/full-scorecard</td></tr><tr><td>RR</td><td>CSK</td><td>RR</td><td>16 runs</td><td>Sharjah</td><td>Sep 22, 2020</td><td>Twenty20</td><td>https://www.espncricinfo.com//series/ipl-2020-21-1210595/rajasthan-royals-vs-chennai-super-kings-4th-match-1216496/full-scorecard</td></tr><tr><td>SRH</td><td>RCB</td><td>RCB</td><td>10 runs</td><td>Dubai (DICS)</td><td>Sep 21, 2020</td><td>Twenty20</td><td>https://www.espncricinfo.com//series/ipl-2020-21-1210595/sunrisers-hyderabad-vs-royal-challengers-bangalore-3rd-match-1216534/full-scorecard</td></tr><tr><td>DC</td><td>Kings XI</td><td>tied</td><td>-</td><td>Dubai (DICS)</td><td>Sep 20, 2020</td><td>Twenty20</td><td>https://www.espncricinfo.com//series/ipl-2020-21-1210595/delhi-capitals-vs-kings-xi-punjab-2nd-match-1216493/full-scorecard</td></tr><tr><td>MI</td><td>CSK</td><td>CSK</td><td>5 wickets</td><td>Abu Dhabi</td><td>Sep 19, 2020</td><td>Twenty20</td><td>https://www.espncricinfo.com//series/ipl-2020-21-1210595/mumbai-indians-vs-chennai-super-kings-1st-match-1216492/full-scorecard</td></tr><tr><td>CSK</td><td>MI</td><td>MI</td><td>1 run</td><td>Hyderabad</td><td>May 12, 2019</td><td>Twenty20</td><td>https://www.espncricinfo.com//series/ipl-2019-1165643/chennai-super-kings-vs-mumbai-indians-final-1181768/full-scorecard</td></tr><tr><td>CSK</td><td>DC</td><td>CSK</td><td>6 wickets</td><td>Visakhapatnam</td><td>May 10, 2019</td><td>Twenty20</td><td>https://www.espncricinfo.com//series/ipl-2019-1165643/chennai-super-kings-vs-delhi-capitals-qualifier-2-1181767/full-scorecard</td></tr><tr><td>SRH</td><td>DC</td><td>DC</td><td>2 wickets</td><td>Visakhapatnam</td><td>May 8, 2019</td><td>Twenty20</td><td>https://www.espncricinfo.com//series/ipl-2019-1165643/sunrisers-hyderabad-vs-delhi-capitals-eliminator-1181766/full-scorecard</td></tr><tr><td>CSK</td><td>MI</td><td>MI</td><td>6 wickets</td><td>Chennai</td><td>May 7, 2019</td><td>Twenty20</td><td>https://www.espncricinfo.com//series/ipl-2019-1165643/chennai-super-kings-vs-mumbai-indians-qualifier-1-1181764/full-scorecard</td></tr><tr><td>MI</td><td>KKR</td><td>MI</td><td>9 wickets</td><td>Wankhede</td><td>May 5, 2019</td><td>Twenty20</td><td>https://www.espncricinfo.com//series/ipl-2019-1165643/mumbai-indians-vs-kolkata-knight-riders-56th-match-1178431/full-scorecard</td></tr><tr><td>Kings XI</td><td>CSK</td><td>Kings XI</td><td>6 wickets</td><td>Mohali</td><td>May 5, 2019</td><td>Twenty20</td><td>https://www.espncricinfo.com//series/ipl-2019-1165643/kings-xi-punjab-vs-chennai-super-kings-55th-match-1178430/full-scorecard</td></tr><tr><td>RCB</td><td>SRH</td><td>RCB</td><td>4 wickets</td><td>Bengaluru</td><td>May 4, 2019</td><td>Twenty20</td><td>https://www.espncricinfo.com//series/ipl-2019-1165643/royal-challengers-bangalore-vs-sunrisers-hyderabad-54th-match-1178429/full-scorecard</td></tr><tr><td>DC</td><td>RR</td><td>DC</td><td>5 wickets</td><td>Delhi</td><td>May 4, 2019</td><td>Twenty20</td><td>https://www.espncricinfo.com//series/ipl-2019-1165643/delhi-capitals-vs-rajasthan-royals-53rd-match-1178428/full-scorecard</td></tr><tr><td>Kings XI</td><td>KKR</td><td>KKR</td><td>7 wickets</td><td>Mohali</td><td>May 3, 2019</td><td>Twenty20</td><td>https://www.espncricinfo.com//series/ipl-2019-1165643/kings-xi-punjab-vs-kolkata-knight-riders-52nd-match-1178427/full-scorecard</td></tr><tr><td>MI</td><td>SRH</td><td>tied</td><td>-</td><td>Wankhede</td><td>May 2, 2019</td><td>Twenty20</td><td>https://www.espncricinfo.com//series/ipl-2019-1165643/mumbai-indians-vs-sunrisers-hyderabad-51st-match-1178426/full-scorecard</td></tr><tr><td>CSK</td><td>DC</td><td>CSK</td><td>80 runs</td><td>Chennai</td><td>May 1, 2019</td><td>Twenty20</td><td>https://www.espncricinfo.com//series/ipl-2019-1165643/chennai-super-kings-vs-delhi-capitals-50th-match-1178425/full-scorecard</td></tr><tr><td>RCB</td><td>RR</td><td>no result</td><td>-</td><td>Bengaluru</td><td>Apr 30, 2019</td><td>Twenty20</td><td>https://www.espncricinfo.com//series/ipl-2019-1165643/royal-challengers-bangalore-vs-rajasthan-royals-49th-match-1178424/full-scorecard</td></tr><tr><td>SRH</td><td>Kings XI</td><td>SRH</td><td>45 runs</td><td>Hyderabad</td><td>Apr 29, 2019</td><td>Twenty20</td><td>https://www.espncricinfo.com//series/ipl-2019-1165643/sunrisers-hyderabad-vs-kings-xi-punjab-48th-match-1178423/full-scorecard</td></tr><tr><td>KKR</td><td>MI</td><td>KKR</td><td>34 runs</td><td>Eden Gardens</td><td>Apr 28, 2019</td><td>Twenty20</td><td>https://www.espncricinfo.com//series/ipl-2019-1165643/kolkata-knight-riders-vs-mumbai-indians-47th-match-1178422/full-scorecard</td></tr><tr><td>DC</td><td>RCB</td><td>DC</td><td>16 runs</td><td>Delhi</td><td>Apr 28, 2019</td><td>Twenty20</td><td>https://www.espncricinfo.com//series/ipl-2019-1165643/delhi-capitals-vs-royal-challengers-bangalore-46th-match-1178421/full-scorecard</td></tr><tr><td>RR</td><td>SRH</td><td>RR</td><td>7 wickets</td><td>Jaipur</td><td>Apr 27, 2019</td><td>Twenty20</td><td>https://www.espncricinfo.com//series/ipl-2019-1165643/rajasthan-royals-vs-sunrisers-hyderabad-45th-match-1178420/full-scorecard</td></tr><tr><td>CSK</td><td>MI</td><td>MI</td><td>46 runs</td><td>Chennai</td><td>Apr 26, 2019</td><td>Twenty20</td><td>https://www.espncricinfo.com//series/ipl-2019-1165643/chennai-super-kings-vs-mumbai-indians-44th-match-1178419/full-scorecard</td></tr><tr><td>KKR</td><td>RR</td><td>RR</td><td>3 wickets</td><td>Eden Gardens</td><td>Apr 25, 2019</td><td>Twenty20</td><td>https://www.espncricinfo.com//series/ipl-2019-1165643/kolkata-knight-riders-vs-rajasthan-royals-43rd-match-1178418/full-scorecard</td></tr><tr><td>RCB</td><td>Kings XI</td><td>RCB</td><td>17 runs</td><td>Bengaluru</td><td>Apr 24, 2019</td><td>Twenty20</td><td>https://www.espncricinfo.com//series/ipl-2019-1165643/royal-challengers-bangalore-vs-kings-xi-punjab-42nd-match-1178417/full-scorecard</td></tr><tr><td>CSK</td><td>SRH</td><td>CSK</td><td>6 wickets</td><td>Chennai</td><td>Apr 23, 2019</td><td>Twenty20</td><td>https://www.espncricinfo.com//series/ipl-2019-1165643/chennai-super-kings-vs-sunrisers-hyderabad-41st-match-1178416/full-scorecard</td></tr><tr><td>RR</td><td>DC</td><td>DC</td><td>6 wickets</td><td>Jaipur</td><td>Apr 22, 2019</td><td>Twenty20</td><td>https://www.espncricinfo.com//series/ipl-2019-1165643/rajasthan-royals-vs-delhi-capitals-40th-match-1178415/full-scorecard</td></tr><tr><td>RCB</td><td>CSK</td><td>RCB</td><td>1 run</td><td>Bengaluru</td><td>Apr 21, 2019</td><td>Twenty20</td><td>https://www.espncricinfo.com//series/ipl-2019-1165643/royal-challengers-bangalore-vs-chennai-super-kings-39th-match-1178414/full-scorecard</td></tr><tr><td>SRH</td><td>KKR</td><td>SRH</td><td>9 wickets</td><td>Hyderabad</td><td>Apr 21, 2019</td><td>Twenty20</td><td>https://www.espncricinfo.com//series/ipl-2019-1165643/sunrisers-hyderabad-vs-kolkata-knight-riders-38th-match-1178413/full-scorecard</td></tr><tr><td>DC</td><td>Kings XI</td><td>DC</td><td>5 wickets</td><td>Delhi</td><td>Apr 20, 2019</td><td>Twenty20</td><td>https://www.espncricinfo.com//series/ipl-2019-1165643/delhi-capitals-vs-kings-xi-punjab-37th-match-1178412/full-scorecard</td></tr><tr><td>RR</td><td>MI</td><td>RR</td><td>5 wickets</td><td>Jaipur</td><td>Apr 20, 2019</td><td>Twenty20</td><td>https://www.espncricinfo.com//series/ipl-2019-1165643/rajasthan-royals-vs-mumbai-indians-36th-match-1178411/full-scorecard</td></tr><tr><td>KKR</td><td>RCB</td><td>RCB</td><td>10 runs</td><td>Eden Gardens</td><td>Apr 19, 2019</td><td>Twenty20</td><td>https://www.espncricinfo.com//series/ipl-2019-1165643/kolkata-knight-riders-vs-royal-challengers-bangalore-35th-match-1178410/full-scorecard</td></tr><tr><td>DC</td><td>MI</td><td>MI</td><td>40 runs</td><td>Delhi</td><td>Apr 18, 2019</td><td>Twenty20</td><td>https://www.espncricinfo.com//series/ipl-2019-1165643/delhi-capitals-vs-mumbai-indians-34th-match-1178409/full-scorecard</td></tr><tr><td>SRH</td><td>CSK</td><td>SRH</td><td>6 wickets</td><td>Hyderabad</td><td>Apr 17, 2019</td><td>Twenty20</td><td>https://www.espncricinfo.com//series/ipl-2019-1165643/sunrisers-hyderabad-vs-chennai-super-kings-33rd-match-1178408/full-scorecard</td></tr><tr><td>Kings XI</td><td>RR</td><td>Kings XI</td><td>12 runs</td><td>Mohali</td><td>Apr 16, 2019</td><td>Twenty20</td><td>https://www.espncricinfo.com//series/ipl-2019-1165643/kings-xi-punjab-vs-rajasthan-royals-32nd-match-1178407/full-scorecard</td></tr><tr><td>MI</td><td>RCB</td><td>MI</td><td>5 wickets</td><td>Wankhede</td><td>Apr 15, 2019</td><td>Twenty20</td><td>https://www.espncricinfo.com//series/ipl-2019-1165643/mumbai-indians-vs-royal-challengers-bangalore-31st-match-1178406/full-scorecard</td></tr><tr><td>SRH</td><td>DC</td><td>DC</td><td>39 runs</td><td>Hyderabad</td><td>Apr 14, 2019</td><td>Twenty20</td><td>https://www.espncricinfo.com//series/ipl-2019-1165643/sunrisers-hyderabad-vs-delhi-capitals-30th-match-1178405/full-scorecard</td></tr><tr><td>KKR</td><td>CSK</td><td>CSK</td><td>5 wickets</td><td>Eden Gardens</td><td>Apr 14, 2019</td><td>Twenty20</td><td>https://www.espncricinfo.com//series/ipl-2019-1165643/kolkata-knight-riders-vs-chennai-super-kings-29th-match-1178404/full-scorecard</td></tr><tr><td>Kings XI</td><td>RCB</td><td>RCB</td><td>8 wickets</td><td>Mohali</td><td>Apr 13, 2019</td><td>Twenty20</td><td>https://www.espncricinfo.com//series/ipl-2019-1165643/kings-xi-punjab-vs-royal-challengers-bangalore-28th-match-1178403/full-scorecard</td></tr><tr><td>MI</td><td>RR</td><td>RR</td><td>4 wickets</td><td>Wankhede</td><td>Apr 13, 2019</td><td>Twenty20</td><td>https://www.espncricinfo.com//series/ipl-2019-1165643/mumbai-indians-vs-rajasthan-royals-27th-match-1178402/full-scorecard</td></tr><tr><td>KKR</td><td>DC</td><td>DC</td><td>7 wickets</td><td>Eden Gardens</td><td>Apr 12, 2019</td><td>Twenty20</td><td>https://www.espncricinfo.com//series/ipl-2019-1165643/kolkata-knight-riders-vs-delhi-capitals-26th-match-1178401/full-scorecard</td></tr><tr><td>RR</td><td>CSK</td><td>CSK</td><td>4 wickets</td><td>Jaipur</td><td>Apr 11, 2019</td><td>Twenty20</td><td>https://www.espncricinfo.com//series/ipl-2019-1165643/rajasthan-royals-vs-chennai-super-kings-25th-match-1178400/full-scorecard</td></tr><tr><td>MI</td><td>Kings XI</td><td>MI</td><td>3 wickets</td><td>Wankhede</td><td>Apr 10, 2019</td><td>Twenty20</td><td>https://www.espncricinfo.com//series/ipl-2019-1165643/mumbai-indians-vs-kings-xi-punjab-24th-match-1178399/full-scorecard</td></tr><tr><td>CSK</td><td>KKR</td><td>CSK</td><td>7 wickets</td><td>Chennai</td><td>Apr 9, 2019</td><td>Twenty20</td><td>https://www.espncricinfo.com//series/ipl-2019-1165643/chennai-super-kings-vs-kolkata-knight-riders-23rd-match-1178398/full-scorecard</td></tr><tr><td>Kings XI</td><td>SRH</td><td>Kings XI</td><td>6 wickets</td><td>Mohali</td><td>Apr 8, 2019</td><td>Twenty20</td><td>https://www.espncricinfo.com//series/ipl-2019-1165643/kings-xi-punjab-vs-sunrisers-hyderabad-22nd-match-1178397/full-scorecard</td></tr><tr><td>RR</td><td>KKR</td><td>KKR</td><td>8 wickets</td><td>Jaipur</td><td>Apr 7, 2019</td><td>Twenty20</td><td>https://www.espncricinfo.com//series/ipl-2019-1165643/rajasthan-royals-vs-kolkata-knight-riders-21st-match-1178396/full-scorecard</td></tr><tr><td>RCB</td><td>DC</td><td>DC</td><td>4 wickets</td><td>Bengaluru</td><td>Apr 7, 2019</td><td>Twenty20</td><td>https://www.espncricinfo.com//series/ipl-2019-1165643/royal-challengers-bangalore-vs-delhi-capitals-20th-match-1178395/full-scorecard</td></tr><tr><td>SRH</td><td>MI</td><td>MI</td><td>40 runs</td><td>Hyderabad</td><td>Apr 6, 2019</td><td>Twenty20</td><td>https://www.espncricinfo.com//series/ipl-2019-1165643/sunrisers-hyderabad-vs-mumbai-indians-19th-match-1178394/full-scorecard</td></tr><tr><td>CSK</td><td>Kings XI</td><td>CSK</td><td>22 runs</td><td>Chennai</td><td>Apr 6, 2019</td><td>Twenty20</td><td>https://www.espncricinfo.com//series/ipl-2019-1165643/chennai-super-kings-vs-kings-xi-punjab-18th-match-1178393/full-scorecard</td></tr><tr><td>RCB</td><td>KKR</td><td>KKR</td><td>5 wickets</td><td>Bengaluru</td><td>Apr 5, 2019</td><td>Twenty20</td><td>https://www.espncricinfo.com//series/ipl-2019-1165643/royal-challengers-bangalore-vs-kolkata-knight-riders-17th-match-1175372/full-scorecard</td></tr><tr><td>DC</td><td>SRH</td><td>SRH</td><td>5 wickets</td><td>Delhi</td><td>Apr 4, 2019</td><td>Twenty20</td><td>https://www.espncricinfo.com//series/ipl-2019-1165643/delhi-capitals-vs-sunrisers-hyderabad-16th-match-1175371/full-scorecard</td></tr><tr><td>MI</td><td>CSK</td><td>MI</td><td>37 runs</td><td>Wankhede</td><td>Apr 3, 2019</td><td>Twenty20</td><td>https://www.espncricinfo.com//series/ipl-2019-1165643/mumbai-indians-vs-chennai-super-kings-15th-match-1175370/full-scorecard</td></tr><tr><td>RR</td><td>RCB</td><td>RR</td><td>7 wickets</td><td>Jaipur</td><td>Apr 2, 2019</td><td>Twenty20</td><td>https://www.espncricinfo.com//series/ipl-2019-1165643/rajasthan-royals-vs-royal-challengers-bangalore-14th-match-1175369/full-scorecard</td></tr><tr><td>Kings XI</td><td>DC</td><td>Kings XI</td><td>14 runs</td><td>Mohali</td><td>Apr 1, 2019</td><td>Twenty20</td><td>https://www.espncricinfo.com//series/ipl-2019-1165643/kings-xi-punjab-vs-delhi-capitals-13th-match-1175368/full-scorecard</td></tr><tr><td>CSK</td><td>RR</td><td>CSK</td><td>8 runs</td><td>Chennai</td><td>Mar 31, 2019</td><td>Twenty20</td><td>https://www.espncricinfo.com//series/ipl-2019-1165643/chennai-super-kings-vs-rajasthan-royals-12th-match-1175367/full-scorecard</td></tr><tr><td>SRH</td><td>RCB</td><td>SRH</td><td>118 runs</td><td>Hyderabad</td><td>Mar 31, 2019</td><td>Twenty20</td><td>https://www.espncricinfo.com//series/ipl-2019-1165643/sunrisers-hyderabad-vs-royal-challengers-bangalore-11th-match-1175366/full-scorecard</td></tr><tr><td>DC</td><td>KKR</td><td>tied</td><td>-</td><td>Delhi</td><td>Mar 30, 2019</td><td>Twenty20</td><td>https://www.espncricinfo.com//series/ipl-2019-1165643/delhi-capitals-vs-kolkata-knight-riders-10th-match-1175365/full-scorecard</td></tr><tr><td>Kings XI</td><td>MI</td><td>Kings XI</td><td>8 wickets</td><td>Mohali</td><td>Mar 30, 2019</td><td>Twenty20</td><td>https://www.espncricinfo.com//series/ipl-2019-1165643/kings-xi-punjab-vs-mumbai-indians-9th-match-1175364/full-scorecard</td></tr><tr><td>SRH</td><td>RR</td><td>SRH</td><td>5 wickets</td><td>Hyderabad</td><td>Mar 29, 2019</td><td>Twenty20</td><td>https://www.espncricinfo.com//series/ipl-2019-1165643/sunrisers-hyderabad-vs-rajasthan-royals-8th-match-1175363/full-scorecard</td></tr><tr><td>RCB</td><td>MI</td><td>MI</td><td>6 runs</td><td>Bengaluru</td><td>Mar 28, 2019</td><td>Twenty20</td><td>https://www.espncricinfo.com//series/ipl-2019-1165643/royal-challengers-bangalore-vs-mumbai-indians-7th-match-1175362/full-scorecard</td></tr><tr><td>KKR</td><td>Kings XI</td><td>KKR</td><td>28 runs</td><td>Eden Gardens</td><td>Mar 27, 2019</td><td>Twenty20</td><td>https://www.espncricinfo.com//series/ipl-2019-1165643/kolkata-knight-riders-vs-kings-xi-punjab-6th-match-1175361/full-scorecard</td></tr><tr><td>DC</td><td>CSK</td><td>CSK</td><td>6 wickets</td><td>Delhi</td><td>Mar 26, 2019</td><td>Twenty20</td><td>https://www.espncricinfo.com//series/ipl-2019-1165643/delhi-capitals-vs-chennai-super-kings-5th-match-1175360/full-scorecard</td></tr><tr><td>RR</td><td>Kings XI</td><td>Kings XI</td><td>14 runs</td><td>Jaipur</td><td>Mar 25, 2019</td><td>Twenty20</td><td>https://www.espncricinfo.com//series/ipl-2019-1165643/rajasthan-royals-vs-kings-xi-punjab-4th-match-1175359/full-scorecard</td></tr><tr><td>MI</td><td>DC</td><td>DC</td><td>37 runs</td><td>Wankhede</td><td>Mar 24, 2019</td><td>Twenty20</td><td>https://www.espncricinfo.com//series/ipl-2019-1165643/mumbai-indians-vs-delhi-capitals-3rd-match-1175358/full-scorecard</td></tr><tr><td>KKR</td><td>SRH</td><td>KKR</td><td>6 wickets</td><td>Eden Gardens</td><td>Mar 24, 2019</td><td>Twenty20</td><td>https://www.espncricinfo.com//series/ipl-2019-1165643/kolkata-knight-riders-vs-sunrisers-hyderabad-2nd-match-1175357/full-scorecard</td></tr><tr><td>CSK</td><td>RCB</td><td>CSK</td><td>7 wickets</td><td>Chennai</td><td>Mar 23, 2019</td><td>Twenty20</td><td>https://www.espncricinfo.com//series/ipl-2019-1165643/chennai-super-kings-vs-royal-challengers-bangalore-1st-match-1175356/full-scorecard</td></tr><tr><td>CSK</td><td>SRH</td><td>CSK</td><td>8 wickets</td><td>Wankhede</td><td>May 27, 2018</td><td>Twenty20</td><td>https://www.espncricinfo.com//series/ipl-2018-1131611/chennai-super-kings-vs-sunrisers-hyderabad-final-1136620/full-scorecard</td></tr><tr><td>KKR</td><td>SRH</td><td>SRH</td><td>14 runs</td><td>Eden Gardens</td><td>May 25, 2018</td><td>Twenty20</td><td>https://www.espncricinfo.com//series/ipl-2018-1131611/kolkata-knight-riders-vs-sunrisers-hyderabad-qualifier-2-1136619/full-scorecard</td></tr><tr><td>KKR</td><td>RR</td><td>KKR</td><td>25 runs</td><td>Eden Gardens</td><td>May 23, 2018</td><td>Twenty20</td><td>https://www.espncricinfo.com//series/ipl-2018-1131611/kolkata-knight-riders-vs-rajasthan-royals-eliminator-1136618/full-scorecard</td></tr><tr><td>CSK</td><td>SRH</td><td>CSK</td><td>2 wickets</td><td>Wankhede</td><td>May 22, 2018</td><td>Twenty20</td><td>https://www.espncricinfo.com//series/ipl-2018-1131611/chennai-super-kings-vs-sunrisers-hyderabad-qualifier-1-1136617/full-scorecard</td></tr><tr><td>CSK</td><td>Kings XI</td><td>CSK</td><td>5 wickets</td><td>Pune</td><td>May 20, 2018</td><td>Twenty20</td><td>https://www.espncricinfo.com//series/ipl-2018-1131611/chennai-super-kings-vs-kings-xi-punjab-56th-match-1136616/full-scorecard</td></tr><tr><td>Daredevils</td><td>MI</td><td>Daredevils</td><td>11 runs</td><td>Delhi</td><td>May 20, 2018</td><td>Twenty20</td><td>https://www.espncricinfo.com//series/ipl-2018-1131611/delhi-daredevils-vs-mumbai-indians-55th-match-1136615/full-scorecard</td></tr><tr><td>SRH</td><td>KKR</td><td>KKR</td><td>5 wickets</td><td>Hyderabad</td><td>May 19, 2018</td><td>Twenty20</td><td>https://www.espncricinfo.com//series/ipl-2018-1131611/sunrisers-hyderabad-vs-kolkata-knight-riders-54th-match-1136614/full-scorecard</td></tr><tr><td>RR</td><td>RCB</td><td>RR</td><td>30 runs</td><td>Jaipur</td><td>May 19, 2018</td><td>Twenty20</td><td>https://www.espncricinfo.com//series/ipl-2018-1131611/rajasthan-royals-vs-royal-challengers-bangalore-53rd-match-1136613/full-scorecard</td></tr><tr><td>Daredevils</td><td>CSK</td><td>Daredevils</td><td>34 runs</td><td>Delhi</td><td>May 18, 2018</td><td>Twenty20</td><td>https://www.espncricinfo.com//series/ipl-2018-1131611/delhi-daredevils-vs-chennai-super-kings-52nd-match-1136612/full-scorecard</td></tr><tr><td>RCB</td><td>SRH</td><td>RCB</td><td>14 runs</td><td>Bengaluru</td><td>May 17, 2018</td><td>Twenty20</td><td>https://www.espncricinfo.com//series/ipl-2018-1131611/royal-challengers-bangalore-vs-sunrisers-hyderabad-51st-match-1136611/full-scorecard</td></tr><tr><td>MI</td><td>Kings XI</td><td>MI</td><td>3 runs</td><td>Wankhede</td><td>May 16, 2018</td><td>Twenty20</td><td>https://www.espncricinfo.com//series/ipl-2018-1131611/mumbai-indians-vs-kings-xi-punjab-50th-match-1136610/full-scorecard</td></tr><tr><td>KKR</td><td>RR</td><td>KKR</td><td>6 wickets</td><td>Eden Gardens</td><td>May 15, 2018</td><td>Twenty20</td><td>https://www.espncricinfo.com//series/ipl-2018-1131611/kolkata-knight-riders-vs-rajasthan-royals-49th-match-1136609/full-scorecard</td></tr><tr><td>Kings XI</td><td>RCB</td><td>RCB</td><td>10 wickets</td><td>Indore</td><td>May 14, 2018</td><td>Twenty20</td><td>https://www.espncricinfo.com//series/ipl-2018-1131611/kings-xi-punjab-vs-royal-challengers-bangalore-48th-match-1136608/full-scorecard</td></tr><tr><td>MI</td><td>RR</td><td>RR</td><td>7 wickets</td><td>Wankhede</td><td>May 13, 2018</td><td>Twenty20</td><td>https://www.espncricinfo.com//series/ipl-2018-1131611/mumbai-indians-vs-rajasthan-royals-47th-match-1136607/full-scorecard</td></tr><tr><td>CSK</td><td>SRH</td><td>CSK</td><td>8 wickets</td><td>Pune</td><td>May 13, 2018</td><td>Twenty20</td><td>https://www.espncricinfo.com//series/ipl-2018-1131611/chennai-super-kings-vs-sunrisers-hyderabad-46th-match-1136606/full-scorecard</td></tr><tr><td>Daredevils</td><td>RCB</td><td>RCB</td><td>5 wickets</td><td>Delhi</td><td>May 12, 2018</td><td>Twenty20</td><td>https://www.espncricinfo.com//series/ipl-2018-1131611/delhi-daredevils-vs-royal-challengers-bangalore-45th-match-1136605/full-scorecard</td></tr><tr><td>Kings XI</td><td>KKR</td><td>KKR</td><td>31 runs</td><td>Indore</td><td>May 12, 2018</td><td>Twenty20</td><td>https://www.espncricinfo.com//series/ipl-2018-1131611/kings-xi-punjab-vs-kolkata-knight-riders-44th-match-1136604/full-scorecard</td></tr><tr><td>RR</td><td>CSK</td><td>RR</td><td>4 wickets</td><td>Jaipur</td><td>May 11, 2018</td><td>Twenty20</td><td>https://www.espncricinfo.com//series/ipl-2018-1131611/rajasthan-royals-vs-chennai-super-kings-43rd-match-1136603/full-scorecard</td></tr><tr><td>Daredevils</td><td>SRH</td><td>SRH</td><td>9 wickets</td><td>Delhi</td><td>May 10, 2018</td><td>Twenty20</td><td>https://www.espncricinfo.com//series/ipl-2018-1131611/delhi-daredevils-vs-sunrisers-hyderabad-42nd-match-1136602/full-scorecard</td></tr><tr><td>KKR</td><td>MI</td><td>MI</td><td>102 runs</td><td>Eden Gardens</td><td>May 9, 2018</td><td>Twenty20</td><td>https://www.espncricinfo.com//series/ipl-2018-1131611/kolkata-knight-riders-vs-mumbai-indians-41st-match-1136601/full-scorecard</td></tr><tr><td>RR</td><td>Kings XI</td><td>RR</td><td>15 runs</td><td>Jaipur</td><td>May 8, 2018</td><td>Twenty20</td><td>https://www.espncricinfo.com//series/ipl-2018-1131611/rajasthan-royals-vs-kings-xi-punjab-40th-match-1136600/full-scorecard</td></tr><tr><td>SRH</td><td>RCB</td><td>SRH</td><td>5 runs</td><td>Hyderabad</td><td>May 7, 2018</td><td>Twenty20</td><td>https://www.espncricinfo.com//series/ipl-2018-1131611/sunrisers-hyderabad-vs-royal-challengers-bangalore-39th-match-1136599/full-scorecard</td></tr><tr><td>Kings XI</td><td>RR</td><td>Kings XI</td><td>6 wickets</td><td>Indore</td><td>May 6, 2018</td><td>Twenty20</td><td>https://www.espncricinfo.com//series/ipl-2018-1131611/kings-xi-punjab-vs-rajasthan-royals-38th-match-1136598/full-scorecard</td></tr><tr><td>MI</td><td>KKR</td><td>MI</td><td>13 runs</td><td>Wankhede</td><td>May 6, 2018</td><td>Twenty20</td><td>https://www.espncricinfo.com//series/ipl-2018-1131611/mumbai-indians-vs-kolkata-knight-riders-37th-match-1136597/full-scorecard</td></tr><tr><td>SRH</td><td>Daredevils</td><td>SRH</td><td>7 wickets</td><td>Hyderabad</td><td>May 5, 2018</td><td>Twenty20</td><td>https://www.espncricinfo.com//series/ipl-2018-1131611/sunrisers-hyderabad-vs-delhi-daredevils-36th-match-1136596/full-scorecard</td></tr><tr><td>CSK</td><td>RCB</td><td>CSK</td><td>6 wickets</td><td>Pune</td><td>May 5, 2018</td><td>Twenty20</td><td>https://www.espncricinfo.com//series/ipl-2018-1131611/chennai-super-kings-vs-royal-challengers-bangalore-35th-match-1136595/full-scorecard</td></tr><tr><td>Kings XI</td><td>MI</td><td>MI</td><td>6 wickets</td><td>Indore</td><td>May 4, 2018</td><td>Twenty20</td><td>https://www.espncricinfo.com//series/ipl-2018-1131611/kings-xi-punjab-vs-mumbai-indians-34th-match-1136594/full-scorecard</td></tr><tr><td>KKR</td><td>CSK</td><td>KKR</td><td>6 wickets</td><td>Eden Gardens</td><td>May 3, 2018</td><td>Twenty20</td><td>https://www.espncricinfo.com//series/ipl-2018-1131611/kolkata-knight-riders-vs-chennai-super-kings-33rd-match-1136593/full-scorecard</td></tr><tr><td>Daredevils</td><td>RR</td><td>Daredevils</td><td>4 runs</td><td>Delhi</td><td>May 2, 2018</td><td>Twenty20</td><td>https://www.espncricinfo.com//series/ipl-2018-1131611/delhi-daredevils-vs-rajasthan-royals-32nd-match-1136592/full-scorecard</td></tr><tr><td>RCB</td><td>MI</td><td>RCB</td><td>14 runs</td><td>Bengaluru</td><td>May 1, 2018</td><td>Twenty20</td><td>https://www.espncricinfo.com//series/ipl-2018-1131611/royal-challengers-bangalore-vs-mumbai-indians-31st-match-1136591/full-scorecard</td></tr><tr><td>CSK</td><td>Daredevils</td><td>CSK</td><td>13 runs</td><td>Pune</td><td>Apr 30, 2018</td><td>Twenty20</td><td>https://www.espncricinfo.com//series/ipl-2018-1131611/chennai-super-kings-vs-delhi-daredevils-30th-match-1136590/full-scorecard</td></tr><tr><td>RCB</td><td>KKR</td><td>KKR</td><td>6 wickets</td><td>Bengaluru</td><td>Apr 29, 2018</td><td>Twenty20</td><td>https://www.espncricinfo.com//series/ipl-2018-1131611/royal-challengers-bangalore-vs-kolkata-knight-riders-29th-match-1136589/full-scorecard</td></tr><tr><td>RR</td><td>SRH</td><td>SRH</td><td>11 runs</td><td>Jaipur</td><td>Apr 29, 2018</td><td>Twenty20</td><td>https://www.espncricinfo.com//series/ipl-2018-1131611/rajasthan-royals-vs-sunrisers-hyderabad-28th-match-1136588/full-scorecard</td></tr><tr><td>CSK</td><td>MI</td><td>MI</td><td>8 wickets</td><td>Pune</td><td>Apr 28, 2018</td><td>Twenty20</td><td>https://www.espncricinfo.com//series/ipl-2018-1131611/chennai-super-kings-vs-mumbai-indians-27th-match-1136587/full-scorecard</td></tr><tr><td>Daredevils</td><td>KKR</td><td>Daredevils</td><td>55 runs</td><td>Delhi</td><td>Apr 27, 2018</td><td>Twenty20</td><td>https://www.espncricinfo.com//series/ipl-2018-1131611/delhi-daredevils-vs-kolkata-knight-riders-26th-match-1136586/full-scorecard</td></tr><tr><td>SRH</td><td>Kings XI</td><td>SRH</td><td>13 runs</td><td>Hyderabad</td><td>Apr 26, 2018</td><td>Twenty20</td><td>https://www.espncricinfo.com//series/ipl-2018-1131611/sunrisers-hyderabad-vs-kings-xi-punjab-25th-match-1136585/full-scorecard</td></tr><tr><td>RCB</td><td>CSK</td><td>CSK</td><td>5 wickets</td><td>Bengaluru</td><td>Apr 25, 2018</td><td>Twenty20</td><td>https://www.espncricinfo.com//series/ipl-2018-1131611/royal-challengers-bangalore-vs-chennai-super-kings-24th-match-1136584/full-scorecard</td></tr><tr><td>MI</td><td>SRH</td><td>SRH</td><td>31 runs</td><td>Wankhede</td><td>Apr 24, 2018</td><td>Twenty20</td><td>https://www.espncricinfo.com//series/ipl-2018-1131611/mumbai-indians-vs-sunrisers-hyderabad-23rd-match-1136583/full-scorecard</td></tr><tr><td>Daredevils</td><td>Kings XI</td><td>Kings XI</td><td>4 runs</td><td>Delhi</td><td>Apr 23, 2018</td><td>Twenty20</td><td>https://www.espncricinfo.com//series/ipl-2018-1131611/delhi-daredevils-vs-kings-xi-punjab-22nd-match-1136582/full-scorecard</td></tr><tr><td>RR</td><td>MI</td><td>RR</td><td>3 wickets</td><td>Jaipur</td><td>Apr 22, 2018</td><td>Twenty20</td><td>https://www.espncricinfo.com//series/ipl-2018-1131611/rajasthan-royals-vs-mumbai-indians-21st-match-1136581/full-scorecard</td></tr><tr><td>SRH</td><td>CSK</td><td>CSK</td><td>4 runs</td><td>Hyderabad</td><td>Apr 22, 2018</td><td>Twenty20</td><td>https://www.espncricinfo.com//series/ipl-2018-1131611/sunrisers-hyderabad-vs-chennai-super-kings-20th-match-1136580/full-scorecard</td></tr><tr><td>RCB</td><td>Daredevils</td><td>RCB</td><td>6 wickets</td><td>Bengaluru</td><td>Apr 21, 2018</td><td>Twenty20</td><td>https://www.espncricinfo.com//series/ipl-2018-1131611/royal-challengers-bangalore-vs-delhi-daredevils-19th-match-1136579/full-scorecard</td></tr><tr><td>KKR</td><td>Kings XI</td><td>Kings XI</td><td>9 wickets</td><td>Eden Gardens</td><td>Apr 21, 2018</td><td>Twenty20</td><td>https://www.espncricinfo.com//series/ipl-2018-1131611/kolkata-knight-riders-vs-kings-xi-punjab-18th-match-1136578/full-scorecard</td></tr><tr><td>CSK</td><td>RR</td><td>CSK</td><td>64 runs</td><td>Pune</td><td>Apr 20, 2018</td><td>Twenty20</td><td>https://www.espncricinfo.com//series/ipl-2018-1131611/chennai-super-kings-vs-rajasthan-royals-17th-match-1136577/full-scorecard</td></tr><tr><td>Kings XI</td><td>SRH</td><td>Kings XI</td><td>15 runs</td><td>Mohali</td><td>Apr 19, 2018</td><td>Twenty20</td><td>https://www.espncricinfo.com//series/ipl-2018-1131611/kings-xi-punjab-vs-sunrisers-hyderabad-16th-match-1136576/full-scorecard</td></tr><tr><td>RR</td><td>KKR</td><td>KKR</td><td>7 wickets</td><td>Jaipur</td><td>Apr 18, 2018</td><td>Twenty20</td><td>https://www.espncricinfo.com//series/ipl-2018-1131611/rajasthan-royals-vs-kolkata-knight-riders-15th-match-1136575/full-scorecard</td></tr><tr><td>MI</td><td>RCB</td><td>MI</td><td>46 runs</td><td>Wankhede</td><td>Apr 17, 2018</td><td>Twenty20</td><td>https://www.espncricinfo.com//series/ipl-2018-1131611/mumbai-indians-vs-royal-challengers-bangalore-14th-match-1136574/full-scorecard</td></tr><tr><td>KKR</td><td>Daredevils</td><td>KKR</td><td>71 runs</td><td>Eden Gardens</td><td>Apr 16, 2018</td><td>Twenty20</td><td>https://www.espncricinfo.com//series/ipl-2018-1131611/kolkata-knight-riders-vs-delhi-daredevils-13th-match-1136573/full-scorecard</td></tr><tr><td>Kings XI</td><td>CSK</td><td>Kings XI</td><td>4 runs</td><td>Mohali</td><td>Apr 15, 2018</td><td>Twenty20</td><td>https://www.espncricinfo.com//series/ipl-2018-1131611/kings-xi-punjab-vs-chennai-super-kings-12th-match-1136572/full-scorecard</td></tr><tr><td>RCB</td><td>RR</td><td>RR</td><td>19 runs</td><td>Bengaluru</td><td>Apr 15, 2018</td><td>Twenty20</td><td>https://www.espncricinfo.com//series/ipl-2018-1131611/royal-challengers-bangalore-vs-rajasthan-royals-11th-match-1136571/full-scorecard</td></tr><tr><td>KKR</td><td>SRH</td><td>SRH</td><td>5 wickets</td><td>Eden Gardens</td><td>Apr 14, 2018</td><td>Twenty20</td><td>https://www.espncricinfo.com//series/ipl-2018-1131611/kolkata-knight-riders-vs-sunrisers-hyderabad-10th-match-1136570/full-scorecard</td></tr><tr><td>MI</td><td>Daredevils</td><td>Daredevils</td><td>7 wickets</td><td>Wankhede</td><td>Apr 14, 2018</td><td>Twenty20</td><td>https://www.espncricinfo.com//series/ipl-2018-1131611/mumbai-indians-vs-delhi-daredevils-9th-match-1136569/full-scorecard</td></tr><tr><td>RCB</td><td>Kings XI</td><td>RCB</td><td>4 wickets</td><td>Bengaluru</td><td>Apr 13, 2018</td><td>Twenty20</td><td>https://www.espncricinfo.com//series/ipl-2018-1131611/royal-challengers-bangalore-vs-kings-xi-punjab-8th-match-1136568/full-scorecard</td></tr><tr><td>SRH</td><td>MI</td><td>SRH</td><td>1 wicket</td><td>Hyderabad</td><td>Apr 12, 2018</td><td>Twenty20</td><td>https://www.espncricinfo.com//series/ipl-2018-1131611/sunrisers-hyderabad-vs-mumbai-indians-7th-match-1136567/full-scorecard</td></tr><tr><td>RR</td><td>Daredevils</td><td>RR</td><td>10 runs</td><td>Jaipur</td><td>Apr 11, 2018</td><td>Twenty20</td><td>https://www.espncricinfo.com//series/ipl-2018-1131611/rajasthan-royals-vs-delhi-daredevils-6th-match-1136566/full-scorecard</td></tr><tr><td>CSK</td><td>KKR</td><td>CSK</td><td>5 wickets</td><td>Chennai</td><td>Apr 10, 2018</td><td>Twenty20</td><td>https://www.espncricinfo.com//series/ipl-2018-1131611/chennai-super-kings-vs-kolkata-knight-riders-5th-match-1136565/full-scorecard</td></tr><tr><td>SRH</td><td>RR</td><td>SRH</td><td>9 wickets</td><td>Hyderabad</td><td>Apr 9, 2018</td><td>Twenty20</td><td>https://www.espncricinfo.com//series/ipl-2018-1131611/sunrisers-hyderabad-vs-rajasthan-royals-4th-match-1136564/full-scorecard</td></tr><tr><td>KKR</td><td>RCB</td><td>KKR</td><td>4 wickets</td><td>Eden Gardens</td><td>Apr 8, 2018</td><td>Twenty20</td><td>https://www.espncricinfo.com//series/ipl-2018-1131611/kolkata-knight-riders-vs-royal-challengers-bangalore-3rd-match-1136563/full-scorecard</td></tr><tr><td>Kings XI</td><td>Daredevils</td><td>Kings XI</td><td>6 wickets</td><td>Mohali</td><td>Apr 8, 2018</td><td>Twenty20</td><td>https://www.espncricinfo.com//series/ipl-2018-1131611/kings-xi-punjab-vs-delhi-daredevils-2nd-match-1136562/full-scorecard</td></tr><tr><td>MI</td><td>CSK</td><td>CSK</td><td>1 wicket</td><td>Wankhede</td><td>Apr 7, 2018</td><td>Twenty20</td><td>https://www.espncricinfo.com//series/ipl-2018-1131611/mumbai-indians-vs-chennai-super-kings-1st-match-1136561/full-scorecard</td></tr><tr><td>MI</td><td>Supergiant</td><td>MI</td><td>1 run</td><td>Hyderabad</td><td>May 21, 2017</td><td>Twenty20</td><td>https://www.espncricinfo.com//series/ipl-2017-1078425/mumbai-indians-vs-rising-pune-supergiant-final-1082650/full-scorecard</td></tr><tr><td>KKR</td><td>MI</td><td>MI</td><td>6 wickets</td><td>Bengaluru</td><td>May 19, 2017</td><td>Twenty20</td><td>https://www.espncricinfo.com//series/ipl-2017-1078425/kolkata-knight-riders-vs-mumbai-indians-qualifier-2-1082649/full-scorecard</td></tr><tr><td>KKR</td><td>SRH</td><td>KKR</td><td>7 wickets</td><td>Bengaluru</td><td>May 17, 2017</td><td>Twenty20</td><td>https://www.espncricinfo.com//series/ipl-2017-1078425/kolkata-knight-riders-vs-sunrisers-hyderabad-eliminator-1082648/full-scorecard</td></tr><tr><td>MI</td><td>Supergiant</td><td>Supergiant</td><td>20 runs</td><td>Wankhede</td><td>May 16, 2017</td><td>Twenty20</td><td>https://www.espncricinfo.com//series/ipl-2017-1078425/mumbai-indians-vs-rising-pune-supergiant-qualifier-1-1082647/full-scorecard</td></tr><tr><td>Daredevils</td><td>RCB</td><td>RCB</td><td>10 runs</td><td>Delhi</td><td>May 14, 2017</td><td>Twenty20</td><td>https://www.espncricinfo.com//series/ipl-2017-1078425/delhi-daredevils-vs-royal-challengers-bangalore-56th-match-1082646/full-scorecard</td></tr><tr><td>Supergiant</td><td>Kings XI</td><td>Supergiant</td><td>9 wickets</td><td>Pune</td><td>May 14, 2017</td><td>Twenty20</td><td>https://www.espncricinfo.com//series/ipl-2017-1078425/rising-pune-supergiant-vs-kings-xi-punjab-55th-match-1082645/full-scorecard</td></tr><tr><td>KKR</td><td>MI</td><td>MI</td><td>9 runs</td><td>Eden Gardens</td><td>May 13, 2017</td><td>Twenty20</td><td>https://www.espncricinfo.com//series/ipl-2017-1078425/kolkata-knight-riders-vs-mumbai-indians-54th-match-1082644/full-scorecard</td></tr><tr><td>Guj Lions</td><td>SRH</td><td>SRH</td><td>8 wickets</td><td>Kanpur</td><td>May 13, 2017</td><td>Twenty20</td><td>https://www.espncricinfo.com//series/ipl-2017-1078425/gujarat-lions-vs-sunrisers-hyderabad-53rd-match-1082643/full-scorecard</td></tr><tr><td>Daredevils</td><td>Supergiant</td><td>Daredevils</td><td>7 runs</td><td>Delhi</td><td>May 12, 2017</td><td>Twenty20</td><td>https://www.espncricinfo.com//series/ipl-2017-1078425/delhi-daredevils-vs-rising-pune-supergiant-52nd-match-1082642/full-scorecard</td></tr><tr><td>MI</td><td>Kings XI</td><td>Kings XI</td><td>7 runs</td><td>Wankhede</td><td>May 11, 2017</td><td>Twenty20</td><td>https://www.espncricinfo.com//series/ipl-2017-1078425/mumbai-indians-vs-kings-xi-punjab-51st-match-1082641/full-scorecard</td></tr><tr><td>Guj Lions</td><td>Daredevils</td><td>Daredevils</td><td>2 wickets</td><td>Kanpur</td><td>May 10, 2017</td><td>Twenty20</td><td>https://www.espncricinfo.com//series/ipl-2017-1078425/gujarat-lions-vs-delhi-daredevils-50th-match-1082640/full-scorecard</td></tr><tr><td>Kings XI</td><td>KKR</td><td>Kings XI</td><td>14 runs</td><td>Mohali</td><td>May 9, 2017</td><td>Twenty20</td><td>https://www.espncricinfo.com//series/ipl-2017-1078425/kings-xi-punjab-vs-kolkata-knight-riders-49th-match-1082639/full-scorecard</td></tr><tr><td>SRH</td><td>MI</td><td>SRH</td><td>7 wickets</td><td>Hyderabad</td><td>May 8, 2017</td><td>Twenty20</td><td>https://www.espncricinfo.com//series/ipl-2017-1078425/sunrisers-hyderabad-vs-mumbai-indians-48th-match-1082638/full-scorecard</td></tr><tr><td>Kings XI</td><td>Guj Lions</td><td>Guj Lions</td><td>6 wickets</td><td>Mohali</td><td>May 7, 2017</td><td>Twenty20</td><td>https://www.espncricinfo.com//series/ipl-2017-1078425/kings-xi-punjab-vs-gujarat-lions-47th-match-1082637/full-scorecard</td></tr><tr><td>RCB</td><td>KKR</td><td>KKR</td><td>6 wickets</td><td>Bengaluru</td><td>May 7, 2017</td><td>Twenty20</td><td>https://www.espncricinfo.com//series/ipl-2017-1078425/royal-challengers-bangalore-vs-kolkata-knight-riders-46th-match-1082636/full-scorecard</td></tr><tr><td>Daredevils</td><td>MI</td><td>MI</td><td>146 runs</td><td>Delhi</td><td>May 6, 2017</td><td>Twenty20</td><td>https://www.espncricinfo.com//series/ipl-2017-1078425/delhi-daredevils-vs-mumbai-indians-45th-match-1082635/full-scorecard</td></tr><tr><td>SRH</td><td>Supergiant</td><td>Supergiant</td><td>12 runs</td><td>Hyderabad</td><td>May 6, 2017</td><td>Twenty20</td><td>https://www.espncricinfo.com//series/ipl-2017-1078425/sunrisers-hyderabad-vs-rising-pune-supergiant-44th-match-1082634/full-scorecard</td></tr><tr><td>RCB</td><td>Kings XI</td><td>Kings XI</td><td>19 runs</td><td>Bengaluru</td><td>May 5, 2017</td><td>Twenty20</td><td>https://www.espncricinfo.com//series/ipl-2017-1078425/royal-challengers-bangalore-vs-kings-xi-punjab-43rd-match-1082633/full-scorecard</td></tr><tr><td>Daredevils</td><td>Guj Lions</td><td>Daredevils</td><td>7 wickets</td><td>Delhi</td><td>May 4, 2017</td><td>Twenty20</td><td>https://www.espncricinfo.com//series/ipl-2017-1078425/delhi-daredevils-vs-gujarat-lions-42nd-match-1082632/full-scorecard</td></tr><tr><td>KKR</td><td>Supergiant</td><td>Supergiant</td><td>4 wickets</td><td>Eden Gardens</td><td>May 3, 2017</td><td>Twenty20</td><td>https://www.espncricinfo.com//series/ipl-2017-1078425/kolkata-knight-riders-vs-rising-pune-supergiant-41st-match-1082631/full-scorecard</td></tr><tr><td>Daredevils</td><td>SRH</td><td>Daredevils</td><td>6 wickets</td><td>Delhi</td><td>May 2, 2017</td><td>Twenty20</td><td>https://www.espncricinfo.com//series/ipl-2017-1078425/delhi-daredevils-vs-sunrisers-hyderabad-40th-match-1082630/full-scorecard</td></tr><tr><td>Supergiant</td><td>Guj Lions</td><td>Supergiant</td><td>5 wickets</td><td>Pune</td><td>May 1, 2017</td><td>Twenty20</td><td>https://www.espncricinfo.com//series/ipl-2017-1078425/rising-pune-supergiant-vs-gujarat-lions-39th-match-1082629/full-scorecard</td></tr><tr><td>MI</td><td>RCB</td><td>MI</td><td>5 wickets</td><td>Wankhede</td><td>May 1, 2017</td><td>Twenty20</td><td>https://www.espncricinfo.com//series/ipl-2017-1078425/mumbai-indians-vs-royal-challengers-bangalore-38th-match-1082628/full-scorecard</td></tr><tr><td>SRH</td><td>KKR</td><td>SRH</td><td>48 runs</td><td>Hyderabad</td><td>Apr 30, 2017</td><td>Twenty20</td><td>https://www.espncricinfo.com//series/ipl-2017-1078425/sunrisers-hyderabad-vs-kolkata-knight-riders-37th-match-1082627/full-scorecard</td></tr><tr><td>Kings XI</td><td>Daredevils</td><td>Kings XI</td><td>10 wickets</td><td>Mohali</td><td>Apr 30, 2017</td><td>Twenty20</td><td>https://www.espncricinfo.com//series/ipl-2017-1078425/kings-xi-punjab-vs-delhi-daredevils-36th-match-1082626/full-scorecard</td></tr><tr><td>Guj Lions</td><td>MI</td><td>tied</td><td>-</td><td>Rajkot</td><td>Apr 29, 2017</td><td>Twenty20</td><td>https://www.espncricinfo.com//series/ipl-2017-1078425/gujarat-lions-vs-mumbai-indians-35th-match-1082625/full-scorecard</td></tr><tr><td>Supergiant</td><td>RCB</td><td>Supergiant</td><td>61 runs</td><td>Pune</td><td>Apr 29, 2017</td><td>Twenty20</td><td>https://www.espncricinfo.com//series/ipl-2017-1078425/rising-pune-supergiant-vs-royal-challengers-bangalore-34th-match-1082624/full-scorecard</td></tr><tr><td>Kings XI</td><td>SRH</td><td>SRH</td><td>26 runs</td><td>Mohali</td><td>Apr 28, 2017</td><td>Twenty20</td><td>https://www.espncricinfo.com//series/ipl-2017-1078425/kings-xi-punjab-vs-sunrisers-hyderabad-33rd-match-1082623/full-scorecard</td></tr><tr><td>KKR</td><td>Daredevils</td><td>KKR</td><td>7 wickets</td><td>Eden Gardens</td><td>Apr 28, 2017</td><td>Twenty20</td><td>https://www.espncricinfo.com//series/ipl-2017-1078425/kolkata-knight-riders-vs-delhi-daredevils-32nd-match-1082622/full-scorecard</td></tr><tr><td>RCB</td><td>Guj Lions</td><td>Guj Lions</td><td>7 wickets</td><td>Bengaluru</td><td>Apr 27, 2017</td><td>Twenty20</td><td>https://www.espncricinfo.com//series/ipl-2017-1078425/royal-challengers-bangalore-vs-gujarat-lions-31st-match-1082621/full-scorecard</td></tr><tr><td>Supergiant</td><td>KKR</td><td>KKR</td><td>7 wickets</td><td>Pune</td><td>Apr 26, 2017</td><td>Twenty20</td><td>https://www.espncricinfo.com//series/ipl-2017-1078425/rising-pune-supergiant-vs-kolkata-knight-riders-30th-match-1082620/full-scorecard</td></tr><tr><td>MI</td><td>Supergiant</td><td>Supergiant</td><td>3 runs</td><td>Wankhede</td><td>Apr 24, 2017</td><td>Twenty20</td><td>https://www.espncricinfo.com//series/ipl-2017-1078425/mumbai-indians-vs-rising-pune-supergiant-28th-match-1082618/full-scorecard</td></tr><tr><td>KKR</td><td>RCB</td><td>KKR</td><td>82 runs</td><td>Eden Gardens</td><td>Apr 23, 2017</td><td>Twenty20</td><td>https://www.espncricinfo.com//series/ipl-2017-1078425/kolkata-knight-riders-vs-royal-challengers-bangalore-27th-match-1082617/full-scorecard</td></tr><tr><td>Guj Lions</td><td>Kings XI</td><td>Kings XI</td><td>26 runs</td><td>Rajkot</td><td>Apr 23, 2017</td><td>Twenty20</td><td>https://www.espncricinfo.com//series/ipl-2017-1078425/gujarat-lions-vs-kings-xi-punjab-26th-match-1082616/full-scorecard</td></tr><tr><td>MI</td><td>Daredevils</td><td>MI</td><td>14 runs</td><td>Wankhede</td><td>Apr 22, 2017</td><td>Twenty20</td><td>https://www.espncricinfo.com//series/ipl-2017-1078425/mumbai-indians-vs-delhi-daredevils-25th-match-1082614/full-scorecard</td></tr><tr><td>Supergiant</td><td>SRH</td><td>Supergiant</td><td>6 wickets</td><td>Pune</td><td>Apr 22, 2017</td><td>Twenty20</td><td>https://www.espncricinfo.com//series/ipl-2017-1078425/rising-pune-supergiant-vs-sunrisers-hyderabad-24th-match-1082615/full-scorecard</td></tr><tr><td>KKR</td><td>Guj Lions</td><td>Guj Lions</td><td>4 wickets</td><td>Eden Gardens</td><td>Apr 21, 2017</td><td>Twenty20</td><td>https://www.espncricinfo.com//series/ipl-2017-1078425/kolkata-knight-riders-vs-gujarat-lions-23rd-match-1082613/full-scorecard</td></tr><tr><td>Kings XI</td><td>MI</td><td>MI</td><td>8 wickets</td><td>Indore</td><td>Apr 20, 2017</td><td>Twenty20</td><td>https://www.espncricinfo.com//series/ipl-2017-1078425/kings-xi-punjab-vs-mumbai-indians-22nd-match-1082612/full-scorecard</td></tr><tr><td>SRH</td><td>Daredevils</td><td>SRH</td><td>15 runs</td><td>Hyderabad</td><td>Apr 19, 2017</td><td>Twenty20</td><td>https://www.espncricinfo.com//series/ipl-2017-1078425/sunrisers-hyderabad-vs-delhi-daredevils-21st-match-1082611/full-scorecard</td></tr><tr><td>Guj Lions</td><td>RCB</td><td>RCB</td><td>21 runs</td><td>Rajkot</td><td>Apr 18, 2017</td><td>Twenty20</td><td>https://www.espncricinfo.com//series/ipl-2017-1078425/gujarat-lions-vs-royal-challengers-bangalore-20th-match-1082610/full-scorecard</td></tr><tr><td>SRH</td><td>Kings XI</td><td>SRH</td><td>5 runs</td><td>Hyderabad</td><td>Apr 17, 2017</td><td>Twenty20</td><td>https://www.espncricinfo.com//series/ipl-2017-1078425/sunrisers-hyderabad-vs-kings-xi-punjab-19th-match-1082609/full-scorecard</td></tr><tr><td>Daredevils</td><td>KKR</td><td>KKR</td><td>4 wickets</td><td>Delhi</td><td>Apr 17, 2017</td><td>Twenty20</td><td>https://www.espncricinfo.com//series/ipl-2017-1078425/delhi-daredevils-vs-kolkata-knight-riders-18th-match-1082608/full-scorecard</td></tr><tr><td>RCB</td><td>Supergiant</td><td>Supergiant</td><td>27 runs</td><td>Bengaluru</td><td>Apr 16, 2017</td><td>Twenty20</td><td>https://www.espncricinfo.com//series/ipl-2017-1078425/royal-challengers-bangalore-vs-rising-pune-supergiant-17th-match-1082607/full-scorecard</td></tr><tr><td>MI</td><td>Guj Lions</td><td>MI</td><td>6 wickets</td><td>Wankhede</td><td>Apr 16, 2017</td><td>Twenty20</td><td>https://www.espncricinfo.com//series/ipl-2017-1078425/mumbai-indians-vs-gujarat-lions-16th-match-1082606/full-scorecard</td></tr><tr><td>Daredevils</td><td>Kings XI</td><td>Daredevils</td><td>51 runs</td><td>Delhi</td><td>Apr 15, 2017</td><td>Twenty20</td><td>https://www.espncricinfo.com//series/ipl-2017-1078425/delhi-daredevils-vs-kings-xi-punjab-15th-match-1082605/full-scorecard</td></tr><tr><td>KKR</td><td>SRH</td><td>KKR</td><td>17 runs</td><td>Eden Gardens</td><td>Apr 15, 2017</td><td>Twenty20</td><td>https://www.espncricinfo.com//series/ipl-2017-1078425/kolkata-knight-riders-vs-sunrisers-hyderabad-14th-match-1082604/full-scorecard</td></tr><tr><td>Guj Lions</td><td>Supergiant</td><td>Guj Lions</td><td>7 wickets</td><td>Rajkot</td><td>Apr 14, 2017</td><td>Twenty20</td><td>https://www.espncricinfo.com//series/ipl-2017-1078425/gujarat-lions-vs-rising-pune-supergiant-13th-match-1082603/full-scorecard</td></tr><tr><td>RCB</td><td>MI</td><td>MI</td><td>4 wickets</td><td>Bengaluru</td><td>Apr 14, 2017</td><td>Twenty20</td><td>https://www.espncricinfo.com//series/ipl-2017-1078425/royal-challengers-bangalore-vs-mumbai-indians-12th-match-1082602/full-scorecard</td></tr><tr><td>KKR</td><td>Kings XI</td><td>KKR</td><td>8 wickets</td><td>Eden Gardens</td><td>Apr 13, 2017</td><td>Twenty20</td><td>https://www.espncricinfo.com//series/ipl-2017-1078425/kolkata-knight-riders-vs-kings-xi-punjab-11th-match-1082601/full-scorecard</td></tr><tr><td>MI</td><td>SRH</td><td>MI</td><td>4 wickets</td><td>Wankhede</td><td>Apr 12, 2017</td><td>Twenty20</td><td>https://www.espncricinfo.com//series/ipl-2017-1078425/mumbai-indians-vs-sunrisers-hyderabad-10th-match-1082600/full-scorecard</td></tr><tr><td>Supergiant</td><td>Daredevils</td><td>Daredevils</td><td>97 runs</td><td>Pune</td><td>Apr 11, 2017</td><td>Twenty20</td><td>https://www.espncricinfo.com//series/ipl-2017-1078425/rising-pune-supergiant-vs-delhi-daredevils-9th-match-1082599/full-scorecard</td></tr><tr><td>Kings XI</td><td>RCB</td><td>Kings XI</td><td>8 wickets</td><td>Indore</td><td>Apr 10, 2017</td><td>Twenty20</td><td>https://www.espncricinfo.com//series/ipl-2017-1078425/kings-xi-punjab-vs-royal-challengers-bangalore-8th-match-1082598/full-scorecard</td></tr><tr><td>MI</td><td>KKR</td><td>MI</td><td>4 wickets</td><td>Wankhede</td><td>Apr 9, 2017</td><td>Twenty20</td><td>https://www.espncricinfo.com//series/ipl-2017-1078425/mumbai-indians-vs-kolkata-knight-riders-7th-match-1082597/full-scorecard</td></tr><tr><td>SRH</td><td>Guj Lions</td><td>SRH</td><td>9 wickets</td><td>Hyderabad</td><td>Apr 9, 2017</td><td>Twenty20</td><td>https://www.espncricinfo.com//series/ipl-2017-1078425/sunrisers-hyderabad-vs-gujarat-lions-6th-match-1082596/full-scorecard</td></tr><tr><td>RCB</td><td>Daredevils</td><td>RCB</td><td>15 runs</td><td>Bengaluru</td><td>Apr 8, 2017</td><td>Twenty20</td><td>https://www.espncricinfo.com//series/ipl-2017-1078425/royal-challengers-bangalore-vs-delhi-daredevils-5th-match-1082595/full-scorecard</td></tr><tr><td>Kings XI</td><td>Supergiant</td><td>Kings XI</td><td>6 wickets</td><td>Indore</td><td>Apr 8, 2017</td><td>Twenty20</td><td>https://www.espncricinfo.com//series/ipl-2017-1078425/kings-xi-punjab-vs-rising-pune-supergiant-4th-match-1082594/full-scorecard</td></tr><tr><td>Guj Lions</td><td>KKR</td><td>KKR</td><td>10 wickets</td><td>Rajkot</td><td>Apr 7, 2017</td><td>Twenty20</td><td>https://www.espncricinfo.com//series/ipl-2017-1078425/gujarat-lions-vs-kolkata-knight-riders-3rd-match-1082593/full-scorecard</td></tr><tr><td>Supergiant</td><td>MI</td><td>Supergiant</td><td>7 wickets</td><td>Pune</td><td>Apr 6, 2017</td><td>Twenty20</td><td>https://www.espncricinfo.com//series/ipl-2017-1078425/rising-pune-supergiant-vs-mumbai-indians-2nd-match-1082592/full-scorecard</td></tr><tr><td>SRH</td><td>RCB</td><td>SRH</td><td>35 runs</td><td>Hyderabad</td><td>Apr 5, 2017</td><td>Twenty20</td><td>https://www.espncricinfo.com//series/ipl-2017-1078425/sunrisers-hyderabad-vs-royal-challengers-bangalore-1st-match-1082591/full-scorecard</td></tr><tr><td>RCB</td><td>SRH</td><td>SRH</td><td>8 runs</td><td>Bengaluru</td><td>May 29, 2016</td><td>Twenty20</td><td>https://www.espncricinfo.com//series/ipl-2016-968923/royal-challengers-bangalore-vs-sunrisers-hyderabad-final-981019/full-scorecard</td></tr><tr><td>Guj Lions</td><td>SRH</td><td>SRH</td><td>4 wickets</td><td>Delhi</td><td>May 27, 2016</td><td>Twenty20</td><td>https://www.espncricinfo.com//series/ipl-2016-968923/gujarat-lions-vs-sunrisers-hyderabad-qualifier-2-981017/full-scorecard</td></tr><tr><td>KKR</td><td>SRH</td><td>SRH</td><td>22 runs</td><td>Delhi</td><td>May 25, 2016</td><td>Twenty20</td><td>https://www.espncricinfo.com//series/ipl-2016-968923/kolkata-knight-riders-vs-sunrisers-hyderabad-eliminator-981015/full-scorecard</td></tr><tr><td>RCB</td><td>Guj Lions</td><td>RCB</td><td>4 wickets</td><td>Bengaluru</td><td>May 24, 2016</td><td>Twenty20</td><td>https://www.espncricinfo.com//series/ipl-2016-968923/royal-challengers-bangalore-vs-gujarat-lions-qualifier-1-981013/full-scorecard</td></tr><tr><td>Daredevils</td><td>RCB</td><td>RCB</td><td>6 wickets</td><td>Raipur</td><td>May 22, 2016</td><td>Twenty20</td><td>https://www.espncricinfo.com//series/ipl-2016-968923/delhi-daredevils-vs-royal-challengers-bangalore-56th-match-981011/full-scorecard</td></tr><tr><td>KKR</td><td>SRH</td><td>KKR</td><td>22 runs</td><td>Eden Gardens</td><td>May 22, 2016</td><td>Twenty20</td><td>https://www.espncricinfo.com//series/ipl-2016-968923/kolkata-knight-riders-vs-sunrisers-hyderabad-55th-match-981009/full-scorecard</td></tr><tr><td>Guj Lions</td><td>MI</td><td>Guj Lions</td><td>6 wickets</td><td>Kanpur</td><td>May 21, 2016</td><td>Twenty20</td><td>https://www.espncricinfo.com//series/ipl-2016-968923/gujarat-lions-vs-mumbai-indians-54th-match-981007/full-scorecard</td></tr><tr><td>Supergiants</td><td>Kings XI</td><td>Supergiants</td><td>4 wickets</td><td>Visakhapatnam</td><td>May 21, 2016</td><td>Twenty20</td><td>https://www.espncricinfo.com//series/ipl-2016-968923/rising-pune-supergiants-vs-kings-xi-punjab-53rd-match-981005/full-scorecard</td></tr><tr><td>Daredevils</td><td>SRH</td><td>Daredevils</td><td>6 wickets</td><td>Raipur</td><td>May 20, 2016</td><td>Twenty20</td><td>https://www.espncricinfo.com//series/ipl-2016-968923/delhi-daredevils-vs-sunrisers-hyderabad-52nd-match-981003/full-scorecard</td></tr><tr><td>Guj Lions</td><td>KKR</td><td>Guj Lions</td><td>6 wickets</td><td>Kanpur</td><td>May 19, 2016</td><td>Twenty20</td><td>https://www.espncricinfo.com//series/ipl-2016-968923/gujarat-lions-vs-kolkata-knight-riders-51st-match-981001/full-scorecard</td></tr><tr><td>RCB</td><td>Kings XI</td><td>RCB</td><td>82 runs</td><td>Bengaluru</td><td>May 18, 2016</td><td>Twenty20</td><td>https://www.espncricinfo.com//series/ipl-2016-968923/royal-challengers-bangalore-vs-kings-xi-punjab-50th-match-980999/full-scorecard</td></tr><tr><td>Supergiants</td><td>Daredevils</td><td>Supergiants</td><td>19 runs</td><td>Visakhapatnam</td><td>May 17, 2016</td><td>Twenty20</td><td>https://www.espncricinfo.com//series/ipl-2016-968923/rising-pune-supergiants-vs-delhi-daredevils-49th-match-980997/full-scorecard</td></tr><tr><td>KKR</td><td>RCB</td><td>RCB</td><td>9 wickets</td><td>Eden Gardens</td><td>May 16, 2016</td><td>Twenty20</td><td>https://www.espncricinfo.com//series/ipl-2016-968923/kolkata-knight-riders-vs-royal-challengers-bangalore-48th-match-980995/full-scorecard</td></tr><tr><td>MI</td><td>Daredevils</td><td>MI</td><td>80 runs</td><td>Visakhapatnam</td><td>May 15, 2016</td><td>Twenty20</td><td>https://www.espncricinfo.com//series/ipl-2016-968923/mumbai-indians-vs-delhi-daredevils-47th-match-980993/full-scorecard</td></tr><tr><td>Kings XI</td><td>SRH</td><td>SRH</td><td>7 wickets</td><td>Mohali</td><td>May 15, 2016</td><td>Twenty20</td><td>https://www.espncricinfo.com//series/ipl-2016-968923/kings-xi-punjab-vs-sunrisers-hyderabad-46th-match-980991/full-scorecard</td></tr><tr><td>KKR</td><td>Supergiants</td><td>KKR</td><td>8 wickets</td><td>Eden Gardens</td><td>May 14, 2016</td><td>Twenty20</td><td>https://www.espncricinfo.com//series/ipl-2016-968923/kolkata-knight-riders-vs-rising-pune-supergiants-45th-match-980989/full-scorecard</td></tr><tr><td>RCB</td><td>Guj Lions</td><td>RCB</td><td>144 runs</td><td>Bengaluru</td><td>May 14, 2016</td><td>Twenty20</td><td>https://www.espncricinfo.com//series/ipl-2016-968923/royal-challengers-bangalore-vs-gujarat-lions-44th-match-980987/full-scorecard</td></tr><tr><td>MI</td><td>Kings XI</td><td>Kings XI</td><td>7 wickets</td><td>Visakhapatnam</td><td>May 13, 2016</td><td>Twenty20</td><td>https://www.espncricinfo.com//series/ipl-2016-968923/mumbai-indians-vs-kings-xi-punjab-43rd-match-980985/full-scorecard</td></tr><tr><td>SRH</td><td>Daredevils</td><td>Daredevils</td><td>7 wickets</td><td>Hyderabad</td><td>May 12, 2016</td><td>Twenty20</td><td>https://www.espncricinfo.com//series/ipl-2016-968923/sunrisers-hyderabad-vs-delhi-daredevils-42nd-match-980983/full-scorecard</td></tr><tr><td>RCB</td><td>MI</td><td>MI</td><td>6 wickets</td><td>Bengaluru</td><td>May 11, 2016</td><td>Twenty20</td><td>https://www.espncricinfo.com//series/ipl-2016-968923/royal-challengers-bangalore-vs-mumbai-indians-41st-match-980981/full-scorecard</td></tr><tr><td>Supergiants</td><td>SRH</td><td>SRH</td><td>4 runs</td><td>Visakhapatnam</td><td>May 10, 2016</td><td>Twenty20</td><td>https://www.espncricinfo.com//series/ipl-2016-968923/rising-pune-supergiants-vs-sunrisers-hyderabad-40th-match-980979/full-scorecard</td></tr><tr><td>Kings XI</td><td>RCB</td><td>RCB</td><td>1 run</td><td>Mohali</td><td>May 9, 2016</td><td>Twenty20</td><td>https://www.espncricinfo.com//series/ipl-2016-968923/kings-xi-punjab-vs-royal-challengers-bangalore-39th-match-980977/full-scorecard</td></tr><tr><td>KKR</td><td>Guj Lions</td><td>Guj Lions</td><td>5 wickets</td><td>Eden Gardens</td><td>May 8, 2016</td><td>Twenty20</td><td>https://www.espncricinfo.com//series/ipl-2016-968923/kolkata-knight-riders-vs-gujarat-lions-38th-match-980975/full-scorecard</td></tr><tr><td>MI</td><td>SRH</td><td>SRH</td><td>85 runs</td><td>Visakhapatnam</td><td>May 8, 2016</td><td>Twenty20</td><td>https://www.espncricinfo.com//series/ipl-2016-968923/mumbai-indians-vs-sunrisers-hyderabad-37th-match-980973/full-scorecard</td></tr><tr><td>Kings XI</td><td>Daredevils</td><td>Kings XI</td><td>9 runs</td><td>Mohali</td><td>May 7, 2016</td><td>Twenty20</td><td>https://www.espncricinfo.com//series/ipl-2016-968923/kings-xi-punjab-vs-delhi-daredevils-36th-match-980971/full-scorecard</td></tr><tr><td>RCB</td><td>Supergiants</td><td>RCB</td><td>7 wickets</td><td>Bengaluru</td><td>May 7, 2016</td><td>Twenty20</td><td>https://www.espncricinfo.com//series/ipl-2016-968923/royal-challengers-bangalore-vs-rising-pune-supergiants-35th-match-980969/full-scorecard</td></tr><tr><td>SRH</td><td>Guj Lions</td><td>SRH</td><td>5 wickets</td><td>Hyderabad</td><td>May 6, 2016</td><td>Twenty20</td><td>https://www.espncricinfo.com//series/ipl-2016-968923/sunrisers-hyderabad-vs-gujarat-lions-34th-match-980967/full-scorecard</td></tr><tr><td>Daredevils</td><td>Supergiants</td><td>Supergiants</td><td>7 wickets</td><td>Delhi</td><td>May 5, 2016</td><td>Twenty20</td><td>https://www.espncricinfo.com//series/ipl-2016-968923/delhi-daredevils-vs-rising-pune-supergiants-33rd-match-980965/full-scorecard</td></tr><tr><td>KKR</td><td>Kings XI</td><td>KKR</td><td>7 runs</td><td>Eden Gardens</td><td>May 4, 2016</td><td>Twenty20</td><td>https://www.espncricinfo.com//series/ipl-2016-968923/kolkata-knight-riders-vs-kings-xi-punjab-32nd-match-980963/full-scorecard</td></tr><tr><td>Guj Lions</td><td>Daredevils</td><td>Daredevils</td><td>8 wickets</td><td>Rajkot</td><td>May 3, 2016</td><td>Twenty20</td><td>https://www.espncricinfo.com//series/ipl-2016-968923/gujarat-lions-vs-delhi-daredevils-31st-match-980961/full-scorecard</td></tr><tr><td>RCB</td><td>KKR</td><td>KKR</td><td>5 wickets</td><td>Bengaluru</td><td>May 2, 2016</td><td>Twenty20</td><td>https://www.espncricinfo.com//series/ipl-2016-968923/royal-challengers-bangalore-vs-kolkata-knight-riders-30th-match-980959/full-scorecard</td></tr><tr><td>Supergiants</td><td>MI</td><td>MI</td><td>8 wickets</td><td>Pune</td><td>May 1, 2016</td><td>Twenty20</td><td>https://www.espncricinfo.com//series/ipl-2016-968923/rising-pune-supergiants-vs-mumbai-indians-29th-match-980957/full-scorecard</td></tr><tr><td>Guj Lions</td><td>Kings XI</td><td>Kings XI</td><td>23 runs</td><td>Rajkot</td><td>May 1, 2016</td><td>Twenty20</td><td>https://www.espncricinfo.com//series/ipl-2016-968923/gujarat-lions-vs-kings-xi-punjab-28th-match-980955/full-scorecard</td></tr><tr><td>SRH</td><td>RCB</td><td>SRH</td><td>15 runs</td><td>Hyderabad</td><td>Apr 30, 2016</td><td>Twenty20</td><td>https://www.espncricinfo.com//series/ipl-2016-968923/sunrisers-hyderabad-vs-royal-challengers-bangalore-27th-match-980953/full-scorecard</td></tr><tr><td>Daredevils</td><td>KKR</td><td>Daredevils</td><td>27 runs</td><td>Delhi</td><td>Apr 30, 2016</td><td>Twenty20</td><td>https://www.espncricinfo.com//series/ipl-2016-968923/delhi-daredevils-vs-kolkata-knight-riders-26th-match-980951/full-scorecard</td></tr><tr><td>Supergiants</td><td>Guj Lions</td><td>Guj Lions</td><td>3 wickets</td><td>Pune</td><td>Apr 29, 2016</td><td>Twenty20</td><td>https://www.espncricinfo.com//series/ipl-2016-968923/rising-pune-supergiants-vs-gujarat-lions-25th-match-980949/full-scorecard</td></tr><tr><td>MI</td><td>KKR</td><td>MI</td><td>6 wickets</td><td>Wankhede</td><td>Apr 28, 2016</td><td>Twenty20</td><td>https://www.espncricinfo.com//series/ipl-2016-968923/mumbai-indians-vs-kolkata-knight-riders-24th-match-980947/full-scorecard</td></tr><tr><td>Daredevils</td><td>Guj Lions</td><td>Guj Lions</td><td>1 run</td><td>Delhi</td><td>Apr 27, 2016</td><td>Twenty20</td><td>https://www.espncricinfo.com//series/ipl-2016-968923/delhi-daredevils-vs-gujarat-lions-23rd-match-980945/full-scorecard</td></tr><tr><td>SRH</td><td>Supergiants</td><td>Supergiants</td><td>34 runs</td><td>Hyderabad</td><td>Apr 26, 2016</td><td>Twenty20</td><td>https://www.espncricinfo.com//series/ipl-2016-968923/sunrisers-hyderabad-vs-rising-pune-supergiants-22nd-match-980943/full-scorecard</td></tr><tr><td>Kings XI</td><td>MI</td><td>MI</td><td>25 runs</td><td>Mohali</td><td>Apr 25, 2016</td><td>Twenty20</td><td>https://www.espncricinfo.com//series/ipl-2016-968923/kings-xi-punjab-vs-mumbai-indians-21st-match-980941/full-scorecard</td></tr><tr><td>Supergiants</td><td>KKR</td><td>KKR</td><td>2 wickets</td><td>Pune</td><td>Apr 24, 2016</td><td>Twenty20</td><td>https://www.espncricinfo.com//series/ipl-2016-968923/rising-pune-supergiants-vs-kolkata-knight-riders-20th-match-980939/full-scorecard</td></tr><tr><td>Guj Lions</td><td>RCB</td><td>Guj Lions</td><td>6 wickets</td><td>Rajkot</td><td>Apr 24, 2016</td><td>Twenty20</td><td>https://www.espncricinfo.com//series/ipl-2016-968923/gujarat-lions-vs-royal-challengers-bangalore-19th-match-980937/full-scorecard</td></tr><tr><td>SRH</td><td>Kings XI</td><td>SRH</td><td>5 wickets</td><td>Hyderabad</td><td>Apr 23, 2016</td><td>Twenty20</td><td>https://www.espncricinfo.com//series/ipl-2016-968923/sunrisers-hyderabad-vs-kings-xi-punjab-18th-match-980935/full-scorecard</td></tr><tr><td>Daredevils</td><td>MI</td><td>Daredevils</td><td>10 runs</td><td>Delhi</td><td>Apr 23, 2016</td><td>Twenty20</td><td>https://www.espncricinfo.com//series/ipl-2016-968923/delhi-daredevils-vs-mumbai-indians-17th-match-980933/full-scorecard</td></tr><tr><td>Supergiants</td><td>RCB</td><td>RCB</td><td>13 runs</td><td>Pune</td><td>Apr 22, 2016</td><td>Twenty20</td><td>https://www.espncricinfo.com//series/ipl-2016-968923/rising-pune-supergiants-vs-royal-challengers-bangalore-16th-match-980931/full-scorecard</td></tr><tr><td>Guj Lions</td><td>SRH</td><td>SRH</td><td>10 wickets</td><td>Rajkot</td><td>Apr 21, 2016</td><td>Twenty20</td><td>https://www.espncricinfo.com//series/ipl-2016-968923/gujarat-lions-vs-sunrisers-hyderabad-15th-match-980929/full-scorecard</td></tr><tr><td>MI</td><td>RCB</td><td>MI</td><td>6 wickets</td><td>Wankhede</td><td>Apr 20, 2016</td><td>Twenty20</td><td>https://www.espncricinfo.com//series/ipl-2016-968923/mumbai-indians-vs-royal-challengers-bangalore-14th-match-980927/full-scorecard</td></tr><tr><td>Kings XI</td><td>KKR</td><td>KKR</td><td>6 wickets</td><td>Mohali</td><td>Apr 19, 2016</td><td>Twenty20</td><td>https://www.espncricinfo.com//series/ipl-2016-968923/kings-xi-punjab-vs-kolkata-knight-riders-13th-match-980925/full-scorecard</td></tr><tr><td>SRH</td><td>MI</td><td>SRH</td><td>7 wickets</td><td>Hyderabad</td><td>Apr 18, 2016</td><td>Twenty20</td><td>https://www.espncricinfo.com//series/ipl-2016-968923/sunrisers-hyderabad-vs-mumbai-indians-12th-match-980923/full-scorecard</td></tr><tr><td>RCB</td><td>Daredevils</td><td>Daredevils</td><td>7 wickets</td><td>Bengaluru</td><td>Apr 17, 2016</td><td>Twenty20</td><td>https://www.espncricinfo.com//series/ipl-2016-968923/royal-challengers-bangalore-vs-delhi-daredevils-11th-match-980921/full-scorecard</td></tr><tr><td>Kings XI</td><td>Supergiants</td><td>Kings XI</td><td>6 wickets</td><td>Mohali</td><td>Apr 17, 2016</td><td>Twenty20</td><td>https://www.espncricinfo.com//series/ipl-2016-968923/kings-xi-punjab-vs-rising-pune-supergiants-10th-match-980919/full-scorecard</td></tr><tr><td>MI</td><td>Guj Lions</td><td>Guj Lions</td><td>3 wickets</td><td>Wankhede</td><td>Apr 16, 2016</td><td>Twenty20</td><td>https://www.espncricinfo.com//series/ipl-2016-968923/mumbai-indians-vs-gujarat-lions-9th-match-980917/full-scorecard</td></tr><tr><td>SRH</td><td>KKR</td><td>KKR</td><td>8 wickets</td><td>Hyderabad</td><td>Apr 16, 2016</td><td>Twenty20</td><td>https://www.espncricinfo.com//series/ipl-2016-968923/sunrisers-hyderabad-vs-kolkata-knight-riders-8th-match-980915/full-scorecard</td></tr><tr><td>Daredevils</td><td>Kings XI</td><td>Daredevils</td><td>8 wickets</td><td>Delhi</td><td>Apr 15, 2016</td><td>Twenty20</td><td>https://www.espncricinfo.com//series/ipl-2016-968923/delhi-daredevils-vs-kings-xi-punjab-7th-match-980913/full-scorecard</td></tr><tr><td>Guj Lions</td><td>Supergiants</td><td>Guj Lions</td><td>7 wickets</td><td>Rajkot</td><td>Apr 14, 2016</td><td>Twenty20</td><td>https://www.espncricinfo.com//series/ipl-2016-968923/gujarat-lions-vs-rising-pune-supergiants-6th-match-980911/full-scorecard</td></tr><tr><td>KKR</td><td>MI</td><td>MI</td><td>6 wickets</td><td>Eden Gardens</td><td>Apr 13, 2016</td><td>Twenty20</td><td>https://www.espncricinfo.com//series/ipl-2016-968923/kolkata-knight-riders-vs-mumbai-indians-5th-match-980909/full-scorecard</td></tr><tr><td>RCB</td><td>SRH</td><td>RCB</td><td>45 runs</td><td>Bengaluru</td><td>Apr 12, 2016</td><td>Twenty20</td><td>https://www.espncricinfo.com//series/ipl-2016-968923/royal-challengers-bangalore-vs-sunrisers-hyderabad-4th-match-980907/full-scorecard</td></tr><tr><td>Kings XI</td><td>Guj Lions</td><td>Guj Lions</td><td>5 wickets</td><td>Mohali</td><td>Apr 11, 2016</td><td>Twenty20</td><td>https://www.espncricinfo.com//series/ipl-2016-968923/kings-xi-punjab-vs-gujarat-lions-3rd-match-980905/full-scorecard</td></tr><tr><td>KKR</td><td>Daredevils</td><td>KKR</td><td>9 wickets</td><td>Eden Gardens</td><td>Apr 10, 2016</td><td>Twenty20</td><td>https://www.espncricinfo.com//series/ipl-2016-968923/kolkata-knight-riders-vs-delhi-daredevils-2nd-match-980903/full-scorecard</td></tr><tr><td>MI</td><td>Supergiants</td><td>Supergiants</td><td>9 wickets</td><td>Wankhede</td><td>Apr 9, 2016</td><td>Twenty20</td><td>https://www.espncricinfo.com//series/ipl-2016-968923/mumbai-indians-vs-rising-pune-supergiants-1st-match-980901/full-scorecard</td></tr><tr><td>CSK</td><td>MI</td><td>MI</td><td>41 runs</td><td>Eden Gardens</td><td>May 24, 2015</td><td>Twenty20</td><td>https://www.espncricinfo.com//series/pepsi-indian-premier-league-2015-791129/chennai-super-kings-vs-mumbai-indians-final-829823/full-scorecard</td></tr><tr><td>CSK</td><td>RCB</td><td>CSK</td><td>3 wickets</td><td>Ranchi</td><td>May 22, 2015</td><td>Twenty20</td><td>https://www.espncricinfo.com//series/pepsi-indian-premier-league-2015-791129/chennai-super-kings-vs-royal-challengers-bangalore-qualifier-2-829821/full-scorecard</td></tr><tr><td>RR</td><td>RCB</td><td>RCB</td><td>71 runs</td><td>Pune</td><td>May 20, 2015</td><td>Twenty20</td><td>https://www.espncricinfo.com//series/pepsi-indian-premier-league-2015-791129/rajasthan-royals-vs-royal-challengers-bangalore-eliminator-829819/full-scorecard</td></tr><tr><td>CSK</td><td>MI</td><td>MI</td><td>25 runs</td><td>Wankhede</td><td>May 19, 2015</td><td>Twenty20</td><td>https://www.espncricinfo.com//series/pepsi-indian-premier-league-2015-791129/chennai-super-kings-vs-mumbai-indians-qualifier-1-829817/full-scorecard</td></tr><tr><td>SRH</td><td>MI</td><td>MI</td><td>9 wickets</td><td>Hyderabad</td><td>May 17, 2015</td><td>Twenty20</td><td>https://www.espncricinfo.com//series/pepsi-indian-premier-league-2015-791129/sunrisers-hyderabad-vs-mumbai-indians-56th-match-829815/full-scorecard</td></tr><tr><td>RCB</td><td>Daredevils</td><td>no result</td><td>-</td><td>Bengaluru</td><td>May 17, 2015</td><td>Twenty20</td><td>https://www.espncricinfo.com//series/pepsi-indian-premier-league-2015-791129/royal-challengers-bangalore-vs-delhi-daredevils-55th-match-829813/full-scorecard</td></tr><tr><td>RR</td><td>KKR</td><td>RR</td><td>9 runs</td><td>Brabourne</td><td>May 16, 2015</td><td>Twenty20</td><td>https://www.espncricinfo.com//series/pepsi-indian-premier-league-2015-791129/rajasthan-royals-vs-kolkata-knight-riders-54th-match-829811/full-scorecard</td></tr><tr><td>Kings XI</td><td>CSK</td><td>CSK</td><td>7 wickets</td><td>Mohali</td><td>May 16, 2015</td><td>Twenty20</td><td>https://www.espncricinfo.com//series/pepsi-indian-premier-league-2015-791129/kings-xi-punjab-vs-chennai-super-kings-53rd-match-829809/full-scorecard</td></tr><tr><td>SRH</td><td>RCB</td><td>RCB</td><td>6 wickets</td><td>Hyderabad</td><td>May 15, 2015</td><td>Twenty20</td><td>https://www.espncricinfo.com//series/pepsi-indian-premier-league-2015-791129/sunrisers-hyderabad-vs-royal-challengers-bangalore-52nd-match-829807/full-scorecard</td></tr><tr><td>MI</td><td>KKR</td><td>MI</td><td>5 runs</td><td>Wankhede</td><td>May 14, 2015</td><td>Twenty20</td><td>https://www.espncricinfo.com//series/pepsi-indian-premier-league-2015-791129/mumbai-indians-vs-kolkata-knight-riders-51st-match-829805/full-scorecard</td></tr><tr><td>Kings XI</td><td>RCB</td><td>Kings XI</td><td>22 runs</td><td>Mohali</td><td>May 13, 2015</td><td>Twenty20</td><td>https://www.espncricinfo.com//series/pepsi-indian-premier-league-2015-791129/kings-xi-punjab-vs-royal-challengers-bangalore-50th-match-829803/full-scorecard</td></tr><tr><td>Daredevils</td><td>CSK</td><td>Daredevils</td><td>6 wickets</td><td>Raipur</td><td>May 12, 2015</td><td>Twenty20</td><td>https://www.espncricinfo.com//series/pepsi-indian-premier-league-2015-791129/delhi-daredevils-vs-chennai-super-kings-49th-match-829801/full-scorecard</td></tr><tr><td>SRH</td><td>Kings XI</td><td>SRH</td><td>5 runs</td><td>Hyderabad</td><td>May 11, 2015</td><td>Twenty20</td><td>https://www.espncricinfo.com//series/pepsi-indian-premier-league-2015-791129/sunrisers-hyderabad-vs-kings-xi-punjab-48th-match-829799/full-scorecard</td></tr><tr><td>CSK</td><td>RR</td><td>CSK</td><td>12 runs</td><td>Chennai</td><td>May 10, 2015</td><td>Twenty20</td><td>https://www.espncricinfo.com//series/pepsi-indian-premier-league-2015-791129/chennai-super-kings-vs-rajasthan-royals-47th-match-829797/full-scorecard</td></tr><tr><td>MI</td><td>RCB</td><td>RCB</td><td>39 runs</td><td>Wankhede</td><td>May 10, 2015</td><td>Twenty20</td><td>https://www.espncricinfo.com//series/pepsi-indian-premier-league-2015-791129/mumbai-indians-vs-royal-challengers-bangalore-46th-match-829795/full-scorecard</td></tr><tr><td>Daredevils</td><td>SRH</td><td>SRH</td><td>6 runs</td><td>Raipur</td><td>May 9, 2015</td><td>Twenty20</td><td>https://www.espncricinfo.com//series/pepsi-indian-premier-league-2015-791129/delhi-daredevils-vs-sunrisers-hyderabad-45th-match-829793/full-scorecard</td></tr><tr><td>KKR</td><td>Kings XI</td><td>KKR</td><td>1 wicket</td><td>Eden Gardens</td><td>May 9, 2015</td><td>Twenty20</td><td>https://www.espncricinfo.com//series/pepsi-indian-premier-league-2015-791129/kolkata-knight-riders-vs-kings-xi-punjab-44th-match-829791/full-scorecard</td></tr><tr><td>CSK</td><td>MI</td><td>MI</td><td>6 wickets</td><td>Chennai</td><td>May 8, 2015</td><td>Twenty20</td><td>https://www.espncricinfo.com//series/pepsi-indian-premier-league-2015-791129/chennai-super-kings-vs-mumbai-indians-43rd-match-829789/full-scorecard</td></tr><tr><td>KKR</td><td>Daredevils</td><td>KKR</td><td>13 runs</td><td>Eden Gardens</td><td>May 7, 2015</td><td>Twenty20</td><td>https://www.espncricinfo.com//series/pepsi-indian-premier-league-2015-791129/kolkata-knight-riders-vs-delhi-daredevils-42nd-match-829761/full-scorecard</td></tr><tr><td>RR</td><td>SRH</td><td>SRH</td><td>7 runs</td><td>Brabourne</td><td>May 7, 2015</td><td>Twenty20</td><td>https://www.espncricinfo.com//series/pepsi-indian-premier-league-2015-791129/rajasthan-royals-vs-sunrisers-hyderabad-41st-match-829787/full-scorecard</td></tr><tr><td>RCB</td><td>Kings XI</td><td>RCB</td><td>138 runs</td><td>Bengaluru</td><td>May 6, 2015</td><td>Twenty20</td><td>https://www.espncricinfo.com//series/pepsi-indian-premier-league-2015-791129/royal-challengers-bangalore-vs-kings-xi-punjab-40th-match-829785/full-scorecard</td></tr><tr><td>MI</td><td>Daredevils</td><td>MI</td><td>5 wickets</td><td>Wankhede</td><td>May 5, 2015</td><td>Twenty20</td><td>https://www.espncricinfo.com//series/pepsi-indian-premier-league-2015-791129/mumbai-indians-vs-delhi-daredevils-39th-match-829783/full-scorecard</td></tr><tr><td>KKR</td><td>SRH</td><td>KKR</td><td>35 runs</td><td>Eden Gardens</td><td>May 4, 2015</td><td>Twenty20</td><td>https://www.espncricinfo.com//series/pepsi-indian-premier-league-2015-791129/kolkata-knight-riders-vs-sunrisers-hyderabad-38th-match-829781/full-scorecard</td></tr><tr><td>CSK</td><td>RCB</td><td>CSK</td><td>24 runs</td><td>Chennai</td><td>May 4, 2015</td><td>Twenty20</td><td>https://www.espncricinfo.com//series/pepsi-indian-premier-league-2015-791129/chennai-super-kings-vs-royal-challengers-bangalore-37th-match-829779/full-scorecard</td></tr><tr><td>RR</td><td>Daredevils</td><td>RR</td><td>14 runs</td><td>Brabourne</td><td>May 3, 2015</td><td>Twenty20</td><td>https://www.espncricinfo.com//series/pepsi-indian-premier-league-2015-791129/rajasthan-royals-vs-delhi-daredevils-36th-match-829777/full-scorecard</td></tr><tr><td>Kings XI</td><td>MI</td><td>MI</td><td>23 runs</td><td>Mohali</td><td>May 3, 2015</td><td>Twenty20</td><td>https://www.espncricinfo.com//series/pepsi-indian-premier-league-2015-791129/kings-xi-punjab-vs-mumbai-indians-35th-match-829775/full-scorecard</td></tr><tr><td>SRH</td><td>CSK</td><td>SRH</td><td>22 runs</td><td>Hyderabad</td><td>May 2, 2015</td><td>Twenty20</td><td>https://www.espncricinfo.com//series/pepsi-indian-premier-league-2015-791129/sunrisers-hyderabad-vs-chennai-super-kings-34th-match-829773/full-scorecard</td></tr><tr><td>RCB</td><td>KKR</td><td>RCB</td><td>7 wickets</td><td>Bengaluru</td><td>May 2, 2015</td><td>Twenty20</td><td>https://www.espncricinfo.com//series/pepsi-indian-premier-league-2015-791129/royal-challengers-bangalore-vs-kolkata-knight-riders-33rd-match-829771/full-scorecard</td></tr><tr><td>MI</td><td>RR</td><td>MI</td><td>8 runs</td><td>Wankhede</td><td>May 1, 2015</td><td>Twenty20</td><td>https://www.espncricinfo.com//series/pepsi-indian-premier-league-2015-791129/mumbai-indians-vs-rajasthan-royals-32nd-match-829769/full-scorecard</td></tr><tr><td>Daredevils</td><td>Kings XI</td><td>Daredevils</td><td>9 wickets</td><td>Delhi</td><td>May 1, 2015</td><td>Twenty20</td><td>https://www.espncricinfo.com//series/pepsi-indian-premier-league-2015-791129/delhi-daredevils-vs-kings-xi-punjab-31st-match-829767/full-scorecard</td></tr><tr><td>KKR</td><td>CSK</td><td>KKR</td><td>7 wickets</td><td>Eden Gardens</td><td>Apr 30, 2015</td><td>Twenty20</td><td>https://www.espncricinfo.com//series/pepsi-indian-premier-league-2015-791129/kolkata-knight-riders-vs-chennai-super-kings-30th-match-829723/full-scorecard</td></tr><tr><td>RCB</td><td>RR</td><td>no result</td><td>-</td><td>Bengaluru</td><td>Apr 29, 2015</td><td>Twenty20</td><td>https://www.espncricinfo.com//series/pepsi-indian-premier-league-2015-791129/royal-challengers-bangalore-vs-rajasthan-royals-29th-match-829763/full-scorecard</td></tr><tr><td>CSK</td><td>KKR</td><td>CSK</td><td>2 runs</td><td>Chennai</td><td>Apr 28, 2015</td><td>Twenty20</td><td>https://www.espncricinfo.com//series/pepsi-indian-premier-league-2015-791129/chennai-super-kings-vs-kolkata-knight-riders-28th-match-829765/full-scorecard</td></tr><tr><td>Kings XI</td><td>SRH</td><td>SRH</td><td>20 runs</td><td>Mohali</td><td>Apr 27, 2015</td><td>Twenty20</td><td>https://www.espncricinfo.com//series/pepsi-indian-premier-league-2015-791129/kings-xi-punjab-vs-sunrisers-hyderabad-27th-match-829759/full-scorecard</td></tr><tr><td>Daredevils</td><td>RCB</td><td>RCB</td><td>10 wickets</td><td>Delhi</td><td>Apr 26, 2015</td><td>Twenty20</td><td>https://www.espncricinfo.com//series/pepsi-indian-premier-league-2015-791129/delhi-daredevils-vs-royal-challengers-bangalore-26th-match-829757/full-scorecard</td></tr><tr><td>CSK</td><td>Kings XI</td><td>CSK</td><td>97 runs</td><td>Chennai</td><td>Apr 25, 2015</td><td>Twenty20</td><td>https://www.espncricinfo.com//series/pepsi-indian-premier-league-2015-791129/chennai-super-kings-vs-kings-xi-punjab-24th-match-829753/full-scorecard</td></tr><tr><td>MI</td><td>SRH</td><td>MI</td><td>20 runs</td><td>Wankhede</td><td>Apr 25, 2015</td><td>Twenty20</td><td>https://www.espncricinfo.com//series/pepsi-indian-premier-league-2015-791129/mumbai-indians-vs-sunrisers-hyderabad-23rd-match-829751/full-scorecard</td></tr><tr><td>RR</td><td>RCB</td><td>RCB</td><td>9 wickets</td><td>Ahmedabad</td><td>Apr 24, 2015</td><td>Twenty20</td><td>https://www.espncricinfo.com//series/pepsi-indian-premier-league-2015-791129/rajasthan-royals-vs-royal-challengers-bangalore-22nd-match-829749/full-scorecard</td></tr><tr><td>Daredevils</td><td>MI</td><td>Daredevils</td><td>37 runs</td><td>Delhi</td><td>Apr 23, 2015</td><td>Twenty20</td><td>https://www.espncricinfo.com//series/pepsi-indian-premier-league-2015-791129/delhi-daredevils-vs-mumbai-indians-21st-match-829747/full-scorecard</td></tr><tr><td>RCB</td><td>CSK</td><td>CSK</td><td>27 runs</td><td>Bengaluru</td><td>Apr 22, 2015</td><td>Twenty20</td><td>https://www.espncricinfo.com//series/pepsi-indian-premier-league-2015-791129/royal-challengers-bangalore-vs-chennai-super-kings-20th-match-829745/full-scorecard</td></tr><tr><td>SRH</td><td>KKR</td><td>SRH</td><td>16 runs</td><td>Visakhapatnam</td><td>Apr 22, 2015</td><td>Twenty20</td><td>https://www.espncricinfo.com//series/pepsi-indian-premier-league-2015-791129/sunrisers-hyderabad-vs-kolkata-knight-riders-19th-match-829743/full-scorecard</td></tr><tr><td>RR</td><td>Kings XI</td><td>tied</td><td>-</td><td>Ahmedabad</td><td>Apr 21, 2015</td><td>Twenty20</td><td>https://www.espncricinfo.com//series/pepsi-indian-premier-league-2015-791129/rajasthan-royals-vs-kings-xi-punjab-18th-match-829741/full-scorecard</td></tr><tr><td>Daredevils</td><td>KKR</td><td>KKR</td><td>6 wickets</td><td>Delhi</td><td>Apr 20, 2015</td><td>Twenty20</td><td>https://www.espncricinfo.com//series/pepsi-indian-premier-league-2015-791129/delhi-daredevils-vs-kolkata-knight-riders-17th-match-829739/full-scorecard</td></tr><tr><td>RCB</td><td>MI</td><td>MI</td><td>18 runs</td><td>Bengaluru</td><td>Apr 19, 2015</td><td>Twenty20</td><td>https://www.espncricinfo.com//series/pepsi-indian-premier-league-2015-791129/royal-challengers-bangalore-vs-mumbai-indians-16th-match-829737/full-scorecard</td></tr><tr><td>RR</td><td>CSK</td><td>RR</td><td>8 wickets</td><td>Ahmedabad</td><td>Apr 19, 2015</td><td>Twenty20</td><td>https://www.espncricinfo.com//series/pepsi-indian-premier-league-2015-791129/rajasthan-royals-vs-chennai-super-kings-15th-match-829735/full-scorecard</td></tr><tr><td>Kings XI</td><td>KKR</td><td>KKR</td><td>4 wickets</td><td>Pune</td><td>Apr 18, 2015</td><td>Twenty20</td><td>https://www.espncricinfo.com//series/pepsi-indian-premier-league-2015-791129/kings-xi-punjab-vs-kolkata-knight-riders-14th-match-829733/full-scorecard</td></tr><tr><td>SRH</td><td>Daredevils</td><td>Daredevils</td><td>4 runs</td><td>Visakhapatnam</td><td>Apr 18, 2015</td><td>Twenty20</td><td>https://www.espncricinfo.com//series/pepsi-indian-premier-league-2015-791129/sunrisers-hyderabad-vs-delhi-daredevils-13th-match-829731/full-scorecard</td></tr><tr><td>MI</td><td>CSK</td><td>CSK</td><td>6 wickets</td><td>Wankhede</td><td>Apr 17, 2015</td><td>Twenty20</td><td>https://www.espncricinfo.com//series/pepsi-indian-premier-league-2015-791129/mumbai-indians-vs-chennai-super-kings-12th-match-829729/full-scorecard</td></tr><tr><td>SRH</td><td>RR</td><td>RR</td><td>6 wickets</td><td>Visakhapatnam</td><td>Apr 16, 2015</td><td>Twenty20</td><td>https://www.espncricinfo.com//series/pepsi-indian-premier-league-2015-791129/sunrisers-hyderabad-vs-rajasthan-royals-11th-match-829727/full-scorecard</td></tr><tr><td>Kings XI</td><td>Daredevils</td><td>Daredevils</td><td>5 wickets</td><td>Pune</td><td>Apr 15, 2015</td><td>Twenty20</td><td>https://www.espncricinfo.com//series/pepsi-indian-premier-league-2015-791129/kings-xi-punjab-vs-delhi-daredevils-10th-match-829725/full-scorecard</td></tr><tr><td>RR</td><td>MI</td><td>RR</td><td>7 wickets</td><td>Ahmedabad</td><td>Apr 14, 2015</td><td>Twenty20</td><td>https://www.espncricinfo.com//series/pepsi-indian-premier-league-2015-791129/rajasthan-royals-vs-mumbai-indians-9th-match-829721/full-scorecard</td></tr><tr><td>RCB</td><td>SRH</td><td>SRH</td><td>8 wickets</td><td>Bengaluru</td><td>Apr 13, 2015</td><td>Twenty20</td><td>https://www.espncricinfo.com//series/pepsi-indian-premier-league-2015-791129/royal-challengers-bangalore-vs-sunrisers-hyderabad-8th-match-829719/full-scorecard</td></tr><tr><td>MI</td><td>Kings XI</td><td>Kings XI</td><td>18 runs</td><td>Wankhede</td><td>Apr 12, 2015</td><td>Twenty20</td><td>https://www.espncricinfo.com//series/pepsi-indian-premier-league-2015-791129/mumbai-indians-vs-kings-xi-punjab-7th-match-829717/full-scorecard</td></tr><tr><td>Daredevils</td><td>RR</td><td>RR</td><td>3 wickets</td><td>Delhi</td><td>Apr 12, 2015</td><td>Twenty20</td><td>https://www.espncricinfo.com//series/pepsi-indian-premier-league-2015-791129/delhi-daredevils-vs-rajasthan-royals-6th-match-829715/full-scorecard</td></tr><tr><td>KKR</td><td>RCB</td><td>RCB</td><td>3 wickets</td><td>Eden Gardens</td><td>Apr 11, 2015</td><td>Twenty20</td><td>https://www.espncricinfo.com//series/pepsi-indian-premier-league-2015-791129/kolkata-knight-riders-vs-royal-challengers-bangalore-5th-match-829713/full-scorecard</td></tr><tr><td>CSK</td><td>SRH</td><td>CSK</td><td>45 runs</td><td>Chennai</td><td>Apr 11, 2015</td><td>Twenty20</td><td>https://www.espncricinfo.com//series/pepsi-indian-premier-league-2015-791129/chennai-super-kings-vs-sunrisers-hyderabad-4th-match-829711/full-scorecard</td></tr><tr><td>Kings XI</td><td>RR</td><td>RR</td><td>26 runs</td><td>Pune</td><td>Apr 10, 2015</td><td>Twenty20</td><td>https://www.espncricinfo.com//series/pepsi-indian-premier-league-2015-791129/kings-xi-punjab-vs-rajasthan-royals-3rd-match-829709/full-scorecard</td></tr><tr><td>CSK</td><td>Daredevils</td><td>CSK</td><td>1 run</td><td>Chennai</td><td>Apr 9, 2015</td><td>Twenty20</td><td>https://www.espncricinfo.com//series/pepsi-indian-premier-league-2015-791129/chennai-super-kings-vs-delhi-daredevils-2nd-match-829707/full-scorecard</td></tr><tr><td>KKR</td><td>MI</td><td>KKR</td><td>7 wickets</td><td>Eden Gardens</td><td>Apr 8, 2015</td><td>Twenty20</td><td>https://www.espncricinfo.com//series/pepsi-indian-premier-league-2015-791129/kolkata-knight-riders-vs-mumbai-indians-1st-match-829705/full-scorecard</td></tr><tr><td>Kings XI</td><td>KKR</td><td>KKR</td><td>3 wickets</td><td>Bengaluru</td><td>Jun 1, 2014</td><td>Twenty20</td><td>https://www.espncricinfo.com//series/pepsi-indian-premier-league-2014-695871/kings-xi-punjab-vs-kolkata-knight-riders-final-734049/full-scorecard</td></tr><tr><td>CSK</td><td>Kings XI</td><td>Kings XI</td><td>24 runs</td><td>Wankhede</td><td>May 30, 2014</td><td>Twenty20</td><td>https://www.espncricinfo.com//series/pepsi-indian-premier-league-2014-695871/chennai-super-kings-vs-kings-xi-punjab-qualifier-2-734047/full-scorecard</td></tr><tr><td>MI</td><td>CSK</td><td>CSK</td><td>7 wickets</td><td>Brabourne</td><td>May 28, 2014</td><td>Twenty20</td><td>https://www.espncricinfo.com//series/pepsi-indian-premier-league-2014-695871/mumbai-indians-vs-chennai-super-kings-eliminator-734045/full-scorecard</td></tr><tr><td>KKR</td><td>Kings XI</td><td>KKR</td><td>28 runs</td><td>Eden Gardens</td><td>May 27-28, 2014</td><td>Twenty20</td><td>https://www.espncricinfo.com//series/pepsi-indian-premier-league-2014-695871/kolkata-knight-riders-vs-kings-xi-punjab-qualifier-1-734043/full-scorecard</td></tr><tr><td>MI</td><td>RR</td><td>MI</td><td>5 wickets</td><td>Wankhede</td><td>May 25, 2014</td><td>Twenty20</td><td>https://www.espncricinfo.com//series/pepsi-indian-premier-league-2014-695871/mumbai-indians-vs-rajasthan-royals-56th-match-734041/full-scorecard</td></tr><tr><td>Kings XI</td><td>Daredevils</td><td>Kings XI</td><td>7 wickets</td><td>Mohali</td><td>May 25, 2014</td><td>Twenty20</td><td>https://www.espncricinfo.com//series/pepsi-indian-premier-league-2014-695871/kings-xi-punjab-vs-delhi-daredevils-55th-match-734039/full-scorecard</td></tr><tr><td>KKR</td><td>SRH</td><td>KKR</td><td>4 wickets</td><td>Eden Gardens</td><td>May 24, 2014</td><td>Twenty20</td><td>https://www.espncricinfo.com//series/pepsi-indian-premier-league-2014-695871/kolkata-knight-riders-vs-sunrisers-hyderabad-54th-match-734037/full-scorecard</td></tr><tr><td>RCB</td><td>CSK</td><td>CSK</td><td>8 wickets</td><td>Bengaluru</td><td>May 24, 2014</td><td>Twenty20</td><td>https://www.espncricinfo.com//series/pepsi-indian-premier-league-2014-695871/royal-challengers-bangalore-vs-chennai-super-kings-53rd-match-734035/full-scorecard</td></tr><tr><td>Kings XI</td><td>RR</td><td>Kings XI</td><td>16 runs</td><td>Mohali</td><td>May 23, 2014</td><td>Twenty20</td><td>https://www.espncricinfo.com//series/pepsi-indian-premier-league-2014-695871/kings-xi-punjab-vs-rajasthan-royals-52nd-match-734033/full-scorecard</td></tr><tr><td>MI</td><td>Daredevils</td><td>MI</td><td>15 runs</td><td>Wankhede</td><td>May 23, 2014</td><td>Twenty20</td><td>https://www.espncricinfo.com//series/pepsi-indian-premier-league-2014-695871/mumbai-indians-vs-delhi-daredevils-51st-match-734031/full-scorecard</td></tr><tr><td>CSK</td><td>SRH</td><td>SRH</td><td>6 wickets</td><td>Ranchi</td><td>May 22, 2014</td><td>Twenty20</td><td>https://www.espncricinfo.com//series/pepsi-indian-premier-league-2014-695871/chennai-super-kings-vs-sunrisers-hyderabad-50th-match-734029/full-scorecard</td></tr><tr><td>KKR</td><td>RCB</td><td>KKR</td><td>30 runs</td><td>Eden Gardens</td><td>May 22, 2014</td><td>Twenty20</td><td>https://www.espncricinfo.com//series/pepsi-indian-premier-league-2014-695871/kolkata-knight-riders-vs-royal-challengers-bangalore-49th-match-734027/full-scorecard</td></tr><tr><td>Kings XI</td><td>MI</td><td>MI</td><td>7 wickets</td><td>Mohali</td><td>May 21, 2014</td><td>Twenty20</td><td>https://www.espncricinfo.com//series/pepsi-indian-premier-league-2014-695871/kings-xi-punjab-vs-mumbai-indians-48th-match-734025/full-scorecard</td></tr><tr><td>KKR</td><td>CSK</td><td>KKR</td><td>8 wickets</td><td>Eden Gardens</td><td>May 20, 2014</td><td>Twenty20</td><td>https://www.espncricinfo.com//series/pepsi-indian-premier-league-2014-695871/kolkata-knight-riders-vs-chennai-super-kings-47th-match-734023/full-scorecard</td></tr><tr><td>SRH</td><td>RCB</td><td>SRH</td><td>7 wickets</td><td>Hyderabad</td><td>May 20, 2014</td><td>Twenty20</td><td>https://www.espncricinfo.com//series/pepsi-indian-premier-league-2014-695871/sunrisers-hyderabad-vs-royal-challengers-bangalore-46th-match-734021/full-scorecard</td></tr><tr><td>Daredevils</td><td>Kings XI</td><td>Kings XI</td><td>4 wickets</td><td>Delhi</td><td>May 19, 2014</td><td>Twenty20</td><td>https://www.espncricinfo.com//series/pepsi-indian-premier-league-2014-695871/delhi-daredevils-vs-kings-xi-punjab-45th-match-734019/full-scorecard</td></tr><tr><td>RR</td><td>MI</td><td>MI</td><td>25 runs</td><td>Ahmedabad</td><td>May 19, 2014</td><td>Twenty20</td><td>https://www.espncricinfo.com//series/pepsi-indian-premier-league-2014-695871/rajasthan-royals-vs-mumbai-indians-44th-match-734017/full-scorecard</td></tr><tr><td>SRH</td><td>KKR</td><td>KKR</td><td>7 wickets</td><td>Hyderabad</td><td>May 18, 2014</td><td>Twenty20</td><td>https://www.espncricinfo.com//series/pepsi-indian-premier-league-2014-695871/sunrisers-hyderabad-vs-kolkata-knight-riders-43rd-match-734015/full-scorecard</td></tr><tr><td>CSK</td><td>RCB</td><td>RCB</td><td>5 wickets</td><td>Ranchi</td><td>May 18, 2014</td><td>Twenty20</td><td>https://www.espncricinfo.com//series/pepsi-indian-premier-league-2014-695871/chennai-super-kings-vs-royal-challengers-bangalore-42nd-match-734013/full-scorecard</td></tr><tr><td>RR</td><td>Daredevils</td><td>RR</td><td>62 runs</td><td>Ahmedabad</td><td>May 15, 2014</td><td>Twenty20</td><td>https://www.espncricinfo.com//series/pepsi-indian-premier-league-2014-695871/rajasthan-royals-vs-delhi-daredevils-41st-match-734011/full-scorecard</td></tr><tr><td>KKR</td><td>MI</td><td>KKR</td><td>6 wickets</td><td>Cuttack</td><td>May 14, 2014</td><td>Twenty20</td><td>https://www.espncricinfo.com//series/pepsi-indian-premier-league-2014-695871/kolkata-knight-riders-vs-mumbai-indians-40th-match-734009/full-scorecard</td></tr><tr><td>SRH</td><td>Kings XI</td><td>Kings XI</td><td>6 wickets</td><td>Hyderabad</td><td>May 14, 2014</td><td>Twenty20</td><td>https://www.espncricinfo.com//series/pepsi-indian-premier-league-2014-695871/sunrisers-hyderabad-vs-kings-xi-punjab-39th-match-734007/full-scorecard</td></tr><tr><td>RCB</td><td>Daredevils</td><td>RCB</td><td>16 runs</td><td>Bengaluru</td><td>May 13, 2014</td><td>Twenty20</td><td>https://www.espncricinfo.com//series/pepsi-indian-premier-league-2014-695871/royal-challengers-bangalore-vs-delhi-daredevils-38th-match-734005/full-scorecard</td></tr><tr><td>CSK</td><td>RR</td><td>CSK</td><td>5 wickets</td><td>Ranchi</td><td>May 13, 2014</td><td>Twenty20</td><td>https://www.espncricinfo.com//series/pepsi-indian-premier-league-2014-695871/chennai-super-kings-vs-rajasthan-royals-37th-match-734003/full-scorecard</td></tr><tr><td>SRH</td><td>MI</td><td>MI</td><td>7 wickets</td><td>Hyderabad</td><td>May 12, 2014</td><td>Twenty20</td><td>https://www.espncricinfo.com//series/pepsi-indian-premier-league-2014-695871/sunrisers-hyderabad-vs-mumbai-indians-36th-match-734001/full-scorecard</td></tr><tr><td>RCB</td><td>RR</td><td>RR</td><td>5 wickets</td><td>Bengaluru</td><td>May 11, 2014</td><td>Twenty20</td><td>https://www.espncricinfo.com//series/pepsi-indian-premier-league-2014-695871/royal-challengers-bangalore-vs-rajasthan-royals-35th-match-733999/full-scorecard</td></tr><tr><td>Kings XI</td><td>KKR</td><td>KKR</td><td>9 wickets</td><td>Cuttack</td><td>May 11, 2014</td><td>Twenty20</td><td>https://www.espncricinfo.com//series/pepsi-indian-premier-league-2014-695871/kings-xi-punjab-vs-kolkata-knight-riders-34th-match-733997/full-scorecard</td></tr><tr><td>MI</td><td>CSK</td><td>CSK</td><td>4 wickets</td><td>Wankhede</td><td>May 10, 2014</td><td>Twenty20</td><td>https://www.espncricinfo.com//series/pepsi-indian-premier-league-2014-695871/mumbai-indians-vs-chennai-super-kings-33rd-match-733995/full-scorecard</td></tr><tr><td>Daredevils</td><td>SRH</td><td>SRH</td><td>8 wickets</td><td>Delhi</td><td>May 10, 2014</td><td>Twenty20</td><td>https://www.espncricinfo.com//series/pepsi-indian-premier-league-2014-695871/delhi-daredevils-vs-sunrisers-hyderabad-32nd-match-733993/full-scorecard</td></tr><tr><td>RCB</td><td>Kings XI</td><td>Kings XI</td><td>32 runs</td><td>Bengaluru</td><td>May 9, 2014</td><td>Twenty20</td><td>https://www.espncricinfo.com//series/pepsi-indian-premier-league-2014-695871/royal-challengers-bangalore-vs-kings-xi-punjab-31st-match-733991/full-scorecard</td></tr><tr><td>RR</td><td>SRH</td><td>SRH</td><td>32 runs</td><td>Ahmedabad</td><td>May 8, 2014</td><td>Twenty20</td><td>https://www.espncricinfo.com//series/pepsi-indian-premier-league-2014-695871/rajasthan-royals-vs-sunrisers-hyderabad-30th-match-733989/full-scorecard</td></tr><tr><td>Kings XI</td><td>CSK</td><td>Kings XI</td><td>44 runs</td><td>Cuttack</td><td>May 7, 2014</td><td>Twenty20</td><td>https://www.espncricinfo.com//series/pepsi-indian-premier-league-2014-695871/kings-xi-punjab-vs-chennai-super-kings-29th-match-733987/full-scorecard</td></tr><tr><td>Daredevils</td><td>KKR</td><td>KKR</td><td>8 wickets</td><td>Delhi</td><td>May 7, 2014</td><td>Twenty20</td><td>https://www.espncricinfo.com//series/pepsi-indian-premier-league-2014-695871/delhi-daredevils-vs-kolkata-knight-riders-28th-match-733985/full-scorecard</td></tr><tr><td>MI</td><td>RCB</td><td>MI</td><td>19 runs</td><td>Wankhede</td><td>May 6, 2014</td><td>Twenty20</td><td>https://www.espncricinfo.com//series/pepsi-indian-premier-league-2014-695871/mumbai-indians-vs-royal-challengers-bangalore-27th-match-733983/full-scorecard</td></tr><tr><td>Daredevils</td><td>CSK</td><td>CSK</td><td>8 wickets</td><td>Delhi</td><td>May 5, 2014</td><td>Twenty20</td><td>https://www.espncricinfo.com//series/pepsi-indian-premier-league-2014-695871/delhi-daredevils-vs-chennai-super-kings-26th-match-733981/full-scorecard</td></tr><tr><td>RR</td><td>KKR</td><td>RR</td><td>10 runs</td><td>Ahmedabad</td><td>May 5, 2014</td><td>Twenty20</td><td>https://www.espncricinfo.com//series/pepsi-indian-premier-league-2014-695871/rajasthan-royals-vs-kolkata-knight-riders-25th-match-733979/full-scorecard</td></tr><tr><td>RCB</td><td>SRH</td><td>RCB</td><td>4 wickets</td><td>Bengaluru</td><td>May 4, 2014</td><td>Twenty20</td><td>https://www.espncricinfo.com//series/pepsi-indian-premier-league-2014-695871/royal-challengers-bangalore-vs-sunrisers-hyderabad-24th-match-733977/full-scorecard</td></tr><tr><td>Daredevils</td><td>RR</td><td>RR</td><td>7 wickets</td><td>Delhi</td><td>May 3, 2014</td><td>Twenty20</td><td>https://www.espncricinfo.com//series/pepsi-indian-premier-league-2014-695871/delhi-daredevils-vs-rajasthan-royals-23rd-match-733975/full-scorecard</td></tr><tr><td>MI</td><td>Kings XI</td><td>MI</td><td>5 wickets</td><td>Wankhede</td><td>May 3, 2014</td><td>Twenty20</td><td>https://www.espncricinfo.com//series/pepsi-indian-premier-league-2014-695871/mumbai-indians-vs-kings-xi-punjab-22nd-match-733973/full-scorecard</td></tr><tr><td>CSK</td><td>KKR</td><td>CSK</td><td>34 runs</td><td>Ranchi</td><td>May 2, 2014</td><td>Twenty20</td><td>https://www.espncricinfo.com//series/pepsi-indian-premier-league-2014-695871/chennai-super-kings-vs-kolkata-knight-riders-21st-match-733971/full-scorecard</td></tr><tr><td>MI</td><td>SRH</td><td>SRH</td><td>15 runs</td><td>Dubai (DICS)</td><td>Apr 30, 2014</td><td>Twenty20</td><td>https://www.espncricinfo.com//series/pepsi-indian-premier-league-2014-695871/mumbai-indians-vs-sunrisers-hyderabad-20th-match-729317/full-scorecard</td></tr><tr><td>KKR</td><td>RR</td><td>tied</td><td>-</td><td>Abu Dhabi</td><td>Apr 29, 2014</td><td>Twenty20</td><td>https://www.espncricinfo.com//series/pepsi-indian-premier-league-2014-695871/kolkata-knight-riders-vs-rajasthan-royals-19th-match-729315/full-scorecard</td></tr><tr><td>Kings XI</td><td>RCB</td><td>Kings XI</td><td>5 wickets</td><td>Dubai (DICS)</td><td>Apr 28, 2014</td><td>Twenty20</td><td>https://www.espncricinfo.com//series/pepsi-indian-premier-league-2014-695871/kings-xi-punjab-vs-royal-challengers-bangalore-18th-match-729313/full-scorecard</td></tr><tr><td>SRH</td><td>CSK</td><td>CSK</td><td>5 wickets</td><td>Sharjah</td><td>Apr 27, 2014</td><td>Twenty20</td><td>https://www.espncricinfo.com//series/pepsi-indian-premier-league-2014-695871/sunrisers-hyderabad-vs-chennai-super-kings-17th-match-729311/full-scorecard</td></tr><tr><td>Daredevils</td><td>MI</td><td>Daredevils</td><td>6 wickets</td><td>Sharjah</td><td>Apr 27, 2014</td><td>Twenty20</td><td>https://www.espncricinfo.com//series/pepsi-indian-premier-league-2014-695871/delhi-daredevils-vs-mumbai-indians-16th-match-729309/full-scorecard</td></tr><tr><td>KKR</td><td>Kings XI</td><td>Kings XI</td><td>23 runs</td><td>Abu Dhabi</td><td>Apr 26, 2014</td><td>Twenty20</td><td>https://www.espncricinfo.com//series/pepsi-indian-premier-league-2014-695871/kolkata-knight-riders-vs-kings-xi-punjab-15th-match-729307/full-scorecard</td></tr><tr><td>RR</td><td>RCB</td><td>RR</td><td>6 wickets</td><td>Abu Dhabi</td><td>Apr 26, 2014</td><td>Twenty20</td><td>https://www.espncricinfo.com//series/pepsi-indian-premier-league-2014-695871/rajasthan-royals-vs-royal-challengers-bangalore-14th-match-729305/full-scorecard</td></tr><tr><td>CSK</td><td>MI</td><td>CSK</td><td>7 wickets</td><td>Dubai (DICS)</td><td>Apr 25, 2014</td><td>Twenty20</td><td>https://www.espncricinfo.com//series/pepsi-indian-premier-league-2014-695871/chennai-super-kings-vs-mumbai-indians-13th-match-729303/full-scorecard</td></tr><tr><td>SRH</td><td>Daredevils</td><td>SRH</td><td>4 runs</td><td>Dubai (DICS)</td><td>Apr 25, 2014</td><td>Twenty20</td><td>https://www.espncricinfo.com//series/pepsi-indian-premier-league-2014-695871/sunrisers-hyderabad-vs-delhi-daredevils-12th-match-729301/full-scorecard</td></tr><tr><td>RCB</td><td>KKR</td><td>KKR</td><td>2 runs</td><td>Sharjah</td><td>Apr 24, 2014</td><td>Twenty20</td><td>https://www.espncricinfo.com//series/pepsi-indian-premier-league-2014-695871/royal-challengers-bangalore-vs-kolkata-knight-riders-11th-match-729299/full-scorecard</td></tr><tr><td>RR</td><td>CSK</td><td>CSK</td><td>7 runs</td><td>Dubai (DICS)</td><td>Apr 23, 2014</td><td>Twenty20</td><td>https://www.espncricinfo.com//series/pepsi-indian-premier-league-2014-695871/rajasthan-royals-vs-chennai-super-kings-10th-match-729297/full-scorecard</td></tr><tr><td>Kings XI</td><td>SRH</td><td>Kings XI</td><td>72 runs</td><td>Sharjah</td><td>Apr 22, 2014</td><td>Twenty20</td><td>https://www.espncricinfo.com//series/pepsi-indian-premier-league-2014-695871/kings-xi-punjab-vs-sunrisers-hyderabad-9th-match-729295/full-scorecard</td></tr><tr><td>CSK</td><td>Daredevils</td><td>CSK</td><td>93 runs</td><td>Abu Dhabi</td><td>Apr 21, 2014</td><td>Twenty20</td><td>https://www.espncricinfo.com//series/pepsi-indian-premier-league-2014-695871/chennai-super-kings-vs-delhi-daredevils-8th-match-729293/full-scorecard</td></tr><tr><td>RR</td><td>Kings XI</td><td>Kings XI</td><td>7 wickets</td><td>Sharjah</td><td>Apr 20, 2014</td><td>Twenty20</td><td>https://www.espncricinfo.com//series/pepsi-indian-premier-league-2014-695871/rajasthan-royals-vs-kings-xi-punjab-7th-match-729291/full-scorecard</td></tr><tr><td>KKR</td><td>Daredevils</td><td>Daredevils</td><td>4 wickets</td><td>Dubai (DICS)</td><td>Apr 19, 2014</td><td>Twenty20</td><td>https://www.espncricinfo.com//series/pepsi-indian-premier-league-2014-695871/kolkata-knight-riders-vs-delhi-daredevils-6th-match-729289/full-scorecard</td></tr><tr><td>RCB</td><td>MI</td><td>RCB</td><td>7 wickets</td><td>Dubai (DICS)</td><td>Apr 19, 2014</td><td>Twenty20</td><td>https://www.espncricinfo.com//series/pepsi-indian-premier-league-2014-695871/royal-challengers-bangalore-vs-mumbai-indians-5th-match-729287/full-scorecard</td></tr><tr><td>SRH</td><td>RR</td><td>RR</td><td>4 wickets</td><td>Abu Dhabi</td><td>Apr 18, 2014</td><td>Twenty20</td><td>https://www.espncricinfo.com//series/pepsi-indian-premier-league-2014-695871/sunrisers-hyderabad-vs-rajasthan-royals-4th-match-729285/full-scorecard</td></tr><tr><td>CSK</td><td>Kings XI</td><td>Kings XI</td><td>6 wickets</td><td>Abu Dhabi</td><td>Apr 18, 2014</td><td>Twenty20</td><td>https://www.espncricinfo.com//series/pepsi-indian-premier-league-2014-695871/chennai-super-kings-vs-kings-xi-punjab-3rd-match-729283/full-scorecard</td></tr><tr><td>Daredevils</td><td>RCB</td><td>RCB</td><td>8 wickets</td><td>Sharjah</td><td>Apr 17, 2014</td><td>Twenty20</td><td>https://www.espncricinfo.com//series/pepsi-indian-premier-league-2014-695871/delhi-daredevils-vs-royal-challengers-bangalore-2nd-match-729281/full-scorecard</td></tr><tr><td>MI</td><td>KKR</td><td>KKR</td><td>41 runs</td><td>Abu Dhabi</td><td>Apr 16, 2014</td><td>Twenty20</td><td>https://www.espncricinfo.com//series/pepsi-indian-premier-league-2014-695871/mumbai-indians-vs-kolkata-knight-riders-1st-match-729279/full-scorecard</td></tr><tr><td>CSK</td><td>MI</td><td>MI</td><td>23 runs</td><td>Eden Gardens</td><td>May 26, 2013</td><td>Twenty20</td><td>https://www.espncricinfo.com//series/indian-premier-league-2013-586733/chennai-super-kings-vs-mumbai-indians-final-598073/full-scorecard</td></tr><tr><td>MI</td><td>RR</td><td>MI</td><td>4 wickets</td><td>Eden Gardens</td><td>May 24, 2013</td><td>Twenty20</td><td>https://www.espncricinfo.com//series/indian-premier-league-2013-586733/mumbai-indians-vs-rajasthan-royals-qualifier-2-598072/full-scorecard</td></tr><tr><td>RR</td><td>SRH</td><td>RR</td><td>4 wickets</td><td>Delhi</td><td>May 22, 2013</td><td>Twenty20</td><td>https://www.espncricinfo.com//series/indian-premier-league-2013-586733/rajasthan-royals-vs-sunrisers-hyderabad-eliminator-598071/full-scorecard</td></tr><tr><td>CSK</td><td>MI</td><td>CSK</td><td>48 runs</td><td>Delhi</td><td>May 21, 2013</td><td>Twenty20</td><td>https://www.espncricinfo.com//series/indian-premier-league-2013-586733/chennai-super-kings-vs-mumbai-indians-qualifier-1-598070/full-scorecard</td></tr><tr><td>SRH</td><td>KKR</td><td>SRH</td><td>5 wickets</td><td>Hyderabad</td><td>May 19, 2013</td><td>Twenty20</td><td>https://www.espncricinfo.com//series/indian-premier-league-2013-586733/sunrisers-hyderabad-vs-kolkata-knight-riders-72nd-match-598069/full-scorecard</td></tr><tr><td>Warriors</td><td>Daredevils</td><td>Warriors</td><td>38 runs</td><td>Pune</td><td>May 19, 2013</td><td>Twenty20</td><td>https://www.espncricinfo.com//series/indian-premier-league-2013-586733/pune-warriors-vs-delhi-daredevils-71st-match-598067/full-scorecard</td></tr><tr><td>RCB</td><td>CSK</td><td>RCB</td><td>24 runs</td><td>Bengaluru</td><td>May 18, 2013</td><td>Twenty20</td><td>https://www.espncricinfo.com//series/indian-premier-league-2013-586733/royal-challengers-bangalore-vs-chennai-super-kings-70th-match-598068/full-scorecard</td></tr><tr><td>Kings XI</td><td>MI</td><td>Kings XI</td><td>50 runs</td><td>Dharamsala</td><td>May 18, 2013</td><td>Twenty20</td><td>https://www.espncricinfo.com//series/indian-premier-league-2013-586733/kings-xi-punjab-vs-mumbai-indians-69th-match-598066/full-scorecard</td></tr><tr><td>SRH</td><td>RR</td><td>SRH</td><td>23 runs</td><td>Hyderabad</td><td>May 17, 2013</td><td>Twenty20</td><td>https://www.espncricinfo.com//series/indian-premier-league-2013-586733/sunrisers-hyderabad-vs-rajasthan-royals-68th-match-598065/full-scorecard</td></tr><tr><td>Kings XI</td><td>Daredevils</td><td>Kings XI</td><td>7 runs</td><td>Dharamsala</td><td>May 16, 2013</td><td>Twenty20</td><td>https://www.espncricinfo.com//series/indian-premier-league-2013-586733/kings-xi-punjab-vs-delhi-daredevils-67th-match-598028/full-scorecard</td></tr><tr><td>MI</td><td>RR</td><td>MI</td><td>14 runs</td><td>Wankhede</td><td>May 15, 2013</td><td>Twenty20</td><td>https://www.espncricinfo.com//series/indian-premier-league-2013-586733/mumbai-indians-vs-rajasthan-royals-66th-match-598063/full-scorecard</td></tr><tr><td>KKR</td><td>Warriors</td><td>Warriors</td><td>7 runs</td><td>Ranchi</td><td>May 15, 2013</td><td>Twenty20</td><td>https://www.espncricinfo.com//series/indian-premier-league-2013-586733/kolkata-knight-riders-vs-pune-warriors-65th-match-598061/full-scorecard</td></tr><tr><td>CSK</td><td>Daredevils</td><td>CSK</td><td>33 runs</td><td>Chennai</td><td>May 14, 2013</td><td>Twenty20</td><td>https://www.espncricinfo.com//series/indian-premier-league-2013-586733/chennai-super-kings-vs-delhi-daredevils-64th-match-598062/full-scorecard</td></tr><tr><td>RCB</td><td>Kings XI</td><td>Kings XI</td><td>7 wickets</td><td>Bengaluru</td><td>May 14, 2013</td><td>Twenty20</td><td>https://www.espncricinfo.com//series/indian-premier-league-2013-586733/royal-challengers-bangalore-vs-kings-xi-punjab-63rd-match-598045/full-scorecard</td></tr><tr><td>MI</td><td>SRH</td><td>MI</td><td>7 wickets</td><td>Wankhede</td><td>May 13, 2013</td><td>Twenty20</td><td>https://www.espncricinfo.com//series/indian-premier-league-2013-586733/mumbai-indians-vs-sunrisers-hyderabad-62nd-match-598060/full-scorecard</td></tr><tr><td>RR</td><td>CSK</td><td>RR</td><td>5 wickets</td><td>Jaipur</td><td>May 12, 2013</td><td>Twenty20</td><td>https://www.espncricinfo.com//series/indian-premier-league-2013-586733/rajasthan-royals-vs-chennai-super-kings-61st-match-598058/full-scorecard</td></tr><tr><td>KKR</td><td>RCB</td><td>KKR</td><td>5 wickets</td><td>Ranchi</td><td>May 12, 2013</td><td>Twenty20</td><td>https://www.espncricinfo.com//series/indian-premier-league-2013-586733/kolkata-knight-riders-vs-royal-challengers-bangalore-60th-match-598057/full-scorecard</td></tr><tr><td>Kings XI</td><td>SRH</td><td>SRH</td><td>30 runs</td><td>Mohali</td><td>May 11, 2013</td><td>Twenty20</td><td>https://www.espncricinfo.com//series/indian-premier-league-2013-586733/kings-xi-punjab-vs-sunrisers-hyderabad-59th-match-598056/full-scorecard</td></tr><tr><td>Warriors</td><td>MI</td><td>MI</td><td>5 wickets</td><td>Pune</td><td>May 11, 2013</td><td>Twenty20</td><td>https://www.espncricinfo.com//series/indian-premier-league-2013-586733/pune-warriors-vs-mumbai-indians-58th-match-598055/full-scorecard</td></tr><tr><td>Daredevils</td><td>RCB</td><td>RCB</td><td>4 runs</td><td>Delhi</td><td>May 10, 2013</td><td>Twenty20</td><td>https://www.espncricinfo.com//series/indian-premier-league-2013-586733/delhi-daredevils-vs-royal-challengers-bangalore-57th-match-598054/full-scorecard</td></tr><tr><td>Warriors</td><td>KKR</td><td>KKR</td><td>46 runs</td><td>Pune</td><td>May 9, 2013</td><td>Twenty20</td><td>https://www.espncricinfo.com//series/indian-premier-league-2013-586733/pune-warriors-vs-kolkata-knight-riders-56th-match-598053/full-scorecard</td></tr><tr><td>Kings XI</td><td>RR</td><td>RR</td><td>8 wickets</td><td>Mohali</td><td>May 9, 2013</td><td>Twenty20</td><td>https://www.espncricinfo.com//series/indian-premier-league-2013-586733/kings-xi-punjab-vs-rajasthan-royals-55th-match-598052/full-scorecard</td></tr><tr><td>SRH</td><td>CSK</td><td>CSK</td><td>77 runs</td><td>Hyderabad</td><td>May 8, 2013</td><td>Twenty20</td><td>https://www.espncricinfo.com//series/indian-premier-league-2013-586733/sunrisers-hyderabad-vs-chennai-super-kings-54th-match-598051/full-scorecard</td></tr><tr><td>MI</td><td>KKR</td><td>MI</td><td>65 runs</td><td>Wankhede</td><td>May 7, 2013</td><td>Twenty20</td><td>https://www.espncricinfo.com//series/indian-premier-league-2013-586733/mumbai-indians-vs-kolkata-knight-riders-53rd-match-598050/full-scorecard</td></tr><tr><td>RR</td><td>Daredevils</td><td>RR</td><td>9 wickets</td><td>Jaipur</td><td>May 7, 2013</td><td>Twenty20</td><td>https://www.espncricinfo.com//series/indian-premier-league-2013-586733/rajasthan-royals-vs-delhi-daredevils-52nd-match-598049/full-scorecard</td></tr><tr><td>Kings XI</td><td>RCB</td><td>Kings XI</td><td>6 wickets</td><td>Mohali</td><td>May 6, 2013</td><td>Twenty20</td><td>https://www.espncricinfo.com//series/indian-premier-league-2013-586733/kings-xi-punjab-vs-royal-challengers-bangalore-51st-match-598064/full-scorecard</td></tr><tr><td>RR</td><td>Warriors</td><td>RR</td><td>5 wickets</td><td>Jaipur</td><td>May 5, 2013</td><td>Twenty20</td><td>https://www.espncricinfo.com//series/indian-premier-league-2013-586733/rajasthan-royals-vs-pune-warriors-50th-match-598047/full-scorecard</td></tr><tr><td>MI</td><td>CSK</td><td>MI</td><td>60 runs</td><td>Wankhede</td><td>May 5, 2013</td><td>Twenty20</td><td>https://www.espncricinfo.com//series/indian-premier-league-2013-586733/mumbai-indians-vs-chennai-super-kings-49th-match-598046/full-scorecard</td></tr><tr><td>SRH</td><td>Daredevils</td><td>SRH</td><td>6 wickets</td><td>Hyderabad</td><td>May 4, 2013</td><td>Twenty20</td><td>https://www.espncricinfo.com//series/indian-premier-league-2013-586733/sunrisers-hyderabad-vs-delhi-daredevils-48th-match-598044/full-scorecard</td></tr><tr><td>KKR</td><td>RR</td><td>KKR</td><td>8 wickets</td><td>Eden Gardens</td><td>May 3, 2013</td><td>Twenty20</td><td>https://www.espncricinfo.com//series/indian-premier-league-2013-586733/kolkata-knight-riders-vs-rajasthan-royals-47th-match-598043/full-scorecard</td></tr><tr><td>Warriors</td><td>RCB</td><td>RCB</td><td>17 runs</td><td>Pune</td><td>May 2, 2013</td><td>Twenty20</td><td>https://www.espncricinfo.com//series/indian-premier-league-2013-586733/pune-warriors-vs-royal-challengers-bangalore-46th-match-598042/full-scorecard</td></tr><tr><td>CSK</td><td>Kings XI</td><td>CSK</td><td>15 runs</td><td>Chennai</td><td>May 2, 2013</td><td>Twenty20</td><td>https://www.espncricinfo.com//series/indian-premier-league-2013-586733/chennai-super-kings-vs-kings-xi-punjab-45th-match-598041/full-scorecard</td></tr><tr><td>Daredevils</td><td>KKR</td><td>Daredevils</td><td>7 wickets</td><td>Raipur</td><td>May 1, 2013</td><td>Twenty20</td><td>https://www.espncricinfo.com//series/indian-premier-league-2013-586733/delhi-daredevils-vs-kolkata-knight-riders-44th-match-598040/full-scorecard</td></tr><tr><td>SRH</td><td>MI</td><td>SRH</td><td>7 wickets</td><td>Hyderabad</td><td>May 1, 2013</td><td>Twenty20</td><td>https://www.espncricinfo.com//series/indian-premier-league-2013-586733/sunrisers-hyderabad-vs-mumbai-indians-43rd-match-598039/full-scorecard</td></tr><tr><td>Warriors</td><td>CSK</td><td>CSK</td><td>37 runs</td><td>Pune</td><td>Apr 30, 2013</td><td>Twenty20</td><td>https://www.espncricinfo.com//series/indian-premier-league-2013-586733/pune-warriors-vs-chennai-super-kings-42nd-match-598038/full-scorecard</td></tr><tr><td>MI</td><td>Kings XI</td><td>MI</td><td>4 runs</td><td>Wankhede</td><td>Apr 29, 2013</td><td>Twenty20</td><td>https://www.espncricinfo.com//series/indian-premier-league-2013-586733/mumbai-indians-vs-kings-xi-punjab-41st-match-598037/full-scorecard</td></tr><tr><td>RR</td><td>RCB</td><td>RR</td><td>4 wickets</td><td>Jaipur</td><td>Apr 29, 2013</td><td>Twenty20</td><td>https://www.espncricinfo.com//series/indian-premier-league-2013-586733/rajasthan-royals-vs-royal-challengers-bangalore-40th-match-598036/full-scorecard</td></tr><tr><td>Daredevils</td><td>Warriors</td><td>Daredevils</td><td>15 runs</td><td>Raipur</td><td>Apr 28, 2013</td><td>Twenty20</td><td>https://www.espncricinfo.com//series/indian-premier-league-2013-586733/delhi-daredevils-vs-pune-warriors-39th-match-598035/full-scorecard</td></tr><tr><td>CSK</td><td>KKR</td><td>CSK</td><td>14 runs</td><td>Chennai</td><td>Apr 28, 2013</td><td>Twenty20</td><td>https://www.espncricinfo.com//series/indian-premier-league-2013-586733/chennai-super-kings-vs-kolkata-knight-riders-38th-match-598034/full-scorecard</td></tr><tr><td>MI</td><td>RCB</td><td>MI</td><td>58 runs</td><td>Wankhede</td><td>Apr 27, 2013</td><td>Twenty20</td><td>https://www.espncricinfo.com//series/indian-premier-league-2013-586733/mumbai-indians-vs-royal-challengers-bangalore-37th-match-598033/full-scorecard</td></tr><tr><td>RR</td><td>SRH</td><td>RR</td><td>8 wickets</td><td>Jaipur</td><td>Apr 27, 2013</td><td>Twenty20</td><td>https://www.espncricinfo.com//series/indian-premier-league-2013-586733/rajasthan-royals-vs-sunrisers-hyderabad-36th-match-598032/full-scorecard</td></tr><tr><td>KKR</td><td>Kings XI</td><td>KKR</td><td>6 wickets</td><td>Eden Gardens</td><td>Apr 26, 2013</td><td>Twenty20</td><td>https://www.espncricinfo.com//series/indian-premier-league-2013-586733/kolkata-knight-riders-vs-kings-xi-punjab-35th-match-598031/full-scorecard</td></tr><tr><td>CSK</td><td>SRH</td><td>CSK</td><td>5 wickets</td><td>Chennai</td><td>Apr 25, 2013</td><td>Twenty20</td><td>https://www.espncricinfo.com//series/indian-premier-league-2013-586733/chennai-super-kings-vs-sunrisers-hyderabad-34th-match-598030/full-scorecard</td></tr><tr><td>KKR</td><td>MI</td><td>MI</td><td>5 wickets</td><td>Eden Gardens</td><td>Apr 24, 2013</td><td>Twenty20</td><td>https://www.espncricinfo.com//series/indian-premier-league-2013-586733/kolkata-knight-riders-vs-mumbai-indians-33rd-match-598029/full-scorecard</td></tr><tr><td>Daredevils</td><td>Kings XI</td><td>Kings XI</td><td>5 wickets</td><td>Delhi</td><td>Apr 23, 2013</td><td>Twenty20</td><td>https://www.espncricinfo.com//series/indian-premier-league-2013-586733/delhi-daredevils-vs-kings-xi-punjab-32nd-match-598059/full-scorecard</td></tr><tr><td>RCB</td><td>Warriors</td><td>RCB</td><td>130 runs</td><td>Bengaluru</td><td>Apr 23, 2013</td><td>Twenty20</td><td>https://www.espncricinfo.com//series/indian-premier-league-2013-586733/royal-challengers-bangalore-vs-pune-warriors-31st-match-598027/full-scorecard</td></tr><tr><td>CSK</td><td>RR</td><td>CSK</td><td>5 wickets</td><td>Chennai</td><td>Apr 22, 2013</td><td>Twenty20</td><td>https://www.espncricinfo.com//series/indian-premier-league-2013-586733/chennai-super-kings-vs-rajasthan-royals-30th-match-598026/full-scorecard</td></tr><tr><td>Kings XI</td><td>Warriors</td><td>Kings XI</td><td>7 wickets</td><td>Mohali</td><td>Apr 21, 2013</td><td>Twenty20</td><td>https://www.espncricinfo.com//series/indian-premier-league-2013-586733/kings-xi-punjab-vs-pune-warriors-29th-match-598025/full-scorecard</td></tr><tr><td>Daredevils</td><td>MI</td><td>Daredevils</td><td>9 wickets</td><td>Delhi</td><td>Apr 21, 2013</td><td>Twenty20</td><td>https://www.espncricinfo.com//series/indian-premier-league-2013-586733/delhi-daredevils-vs-mumbai-indians-28th-match-598024/full-scorecard</td></tr><tr><td>RCB</td><td>RR</td><td>RCB</td><td>7 wickets</td><td>Bengaluru</td><td>Apr 20, 2013</td><td>Twenty20</td><td>https://www.espncricinfo.com//series/indian-premier-league-2013-586733/royal-challengers-bangalore-vs-rajasthan-royals-27th-match-598023/full-scorecard</td></tr><tr><td>KKR</td><td>CSK</td><td>CSK</td><td>4 wickets</td><td>Eden Gardens</td><td>Apr 20, 2013</td><td>Twenty20</td><td>https://www.espncricinfo.com//series/indian-premier-league-2013-586733/kolkata-knight-riders-vs-chennai-super-kings-26th-match-598022/full-scorecard</td></tr><tr><td>SRH</td><td>Kings XI</td><td>SRH</td><td>5 wickets</td><td>Hyderabad</td><td>Apr 19, 2013</td><td>Twenty20</td><td>https://www.espncricinfo.com//series/indian-premier-league-2013-586733/sunrisers-hyderabad-vs-kings-xi-punjab-25th-match-598021/full-scorecard</td></tr><tr><td>Daredevils</td><td>CSK</td><td>CSK</td><td>86 runs</td><td>Delhi</td><td>Apr 18, 2013</td><td>Twenty20</td><td>https://www.espncricinfo.com//series/indian-premier-league-2013-586733/delhi-daredevils-vs-chennai-super-kings-24th-match-598020/full-scorecard</td></tr><tr><td>RR</td><td>MI</td><td>RR</td><td>87 runs</td><td>Jaipur</td><td>Apr 17, 2013</td><td>Twenty20</td><td>https://www.espncricinfo.com//series/indian-premier-league-2013-586733/rajasthan-royals-vs-mumbai-indians-23rd-match-598019/full-scorecard</td></tr><tr><td>Warriors</td><td>SRH</td><td>SRH</td><td>11 runs</td><td>Pune</td><td>Apr 17, 2013</td><td>Twenty20</td><td>https://www.espncricinfo.com//series/indian-premier-league-2013-586733/pune-warriors-vs-sunrisers-hyderabad-22nd-match-598018/full-scorecard</td></tr><tr><td>RCB</td><td>Daredevils</td><td>tied</td><td>-</td><td>Bengaluru</td><td>Apr 16, 2013</td><td>Twenty20</td><td>https://www.espncricinfo.com//series/indian-premier-league-2013-586733/royal-challengers-bangalore-vs-delhi-daredevils-21st-match-598017/full-scorecard</td></tr><tr><td>Kings XI</td><td>KKR</td><td>Kings XI</td><td>4 runs</td><td>Mohali</td><td>Apr 16, 2013</td><td>Twenty20</td><td>https://www.espncricinfo.com//series/indian-premier-league-2013-586733/kings-xi-punjab-vs-kolkata-knight-riders-20th-match-598016/full-scorecard</td></tr><tr><td>CSK</td><td>Warriors</td><td>Warriors</td><td>24 runs</td><td>Chennai</td><td>Apr 15, 2013</td><td>Twenty20</td><td>https://www.espncricinfo.com//series/indian-premier-league-2013-586733/chennai-super-kings-vs-pune-warriors-19th-match-598015/full-scorecard</td></tr><tr><td>RR</td><td>Kings XI</td><td>RR</td><td>6 wickets</td><td>Jaipur</td><td>Apr 14, 2013</td><td>Twenty20</td><td>https://www.espncricinfo.com//series/indian-premier-league-2013-586733/rajasthan-royals-vs-kings-xi-punjab-18th-match-598014/full-scorecard</td></tr><tr><td>KKR</td><td>SRH</td><td>KKR</td><td>48 runs</td><td>Eden Gardens</td><td>Apr 14, 2013</td><td>Twenty20</td><td>https://www.espncricinfo.com//series/indian-premier-league-2013-586733/kolkata-knight-riders-vs-sunrisers-hyderabad-17th-match-598013/full-scorecard</td></tr><tr><td>CSK</td><td>RCB</td><td>CSK</td><td>4 wickets</td><td>Chennai</td><td>Apr 13, 2013</td><td>Twenty20</td><td>https://www.espncricinfo.com//series/indian-premier-league-2013-586733/chennai-super-kings-vs-royal-challengers-bangalore-16th-match-598012/full-scorecard</td></tr><tr><td>MI</td><td>Warriors</td><td>MI</td><td>41 runs</td><td>Wankhede</td><td>Apr 13, 2013</td><td>Twenty20</td><td>https://www.espncricinfo.com//series/indian-premier-league-2013-586733/mumbai-indians-vs-pune-warriors-15th-match-598011/full-scorecard</td></tr><tr><td>Daredevils</td><td>SRH</td><td>SRH</td><td>3 wickets</td><td>Delhi</td><td>Apr 12, 2013</td><td>Twenty20</td><td>https://www.espncricinfo.com//series/indian-premier-league-2013-586733/delhi-daredevils-vs-sunrisers-hyderabad-14th-match-598010/full-scorecard</td></tr><tr><td>Warriors</td><td>RR</td><td>Warriors</td><td>7 wickets</td><td>Pune</td><td>Apr 11, 2013</td><td>Twenty20</td><td>https://www.espncricinfo.com//series/indian-premier-league-2013-586733/pune-warriors-vs-rajasthan-royals-13th-match-598009/full-scorecard</td></tr><tr><td>RCB</td><td>KKR</td><td>RCB</td><td>8 wickets</td><td>Bengaluru</td><td>Apr 11, 2013</td><td>Twenty20</td><td>https://www.espncricinfo.com//series/indian-premier-league-2013-586733/royal-challengers-bangalore-vs-kolkata-knight-riders-12th-match-598008/full-scorecard</td></tr><tr><td>Kings XI</td><td>CSK</td><td>CSK</td><td>10 wickets</td><td>Mohali</td><td>Apr 10, 2013</td><td>Twenty20</td><td>https://www.espncricinfo.com//series/indian-premier-league-2013-586733/kings-xi-punjab-vs-chennai-super-kings-11th-match-598007/full-scorecard</td></tr><tr><td>MI</td><td>Daredevils</td><td>MI</td><td>44 runs</td><td>Wankhede</td><td>Apr 9, 2013</td><td>Twenty20</td><td>https://www.espncricinfo.com//series/indian-premier-league-2013-586733/mumbai-indians-vs-delhi-daredevils-10th-match-598006/full-scorecard</td></tr><tr><td>RCB</td><td>SRH</td><td>RCB</td><td>7 wickets</td><td>Bengaluru</td><td>Apr 9, 2013</td><td>Twenty20</td><td>https://www.espncricinfo.com//series/indian-premier-league-2013-586733/royal-challengers-bangalore-vs-sunrisers-hyderabad-9th-match-598048/full-scorecard</td></tr><tr><td>RR</td><td>KKR</td><td>RR</td><td>19 runs</td><td>Jaipur</td><td>Apr 8, 2013</td><td>Twenty20</td><td>https://www.espncricinfo.com//series/indian-premier-league-2013-586733/rajasthan-royals-vs-kolkata-knight-riders-8th-match-598005/full-scorecard</td></tr><tr><td>SRH</td><td>RCB</td><td>tied</td><td>-</td><td>Hyderabad</td><td>Apr 7, 2013</td><td>Twenty20</td><td>https://www.espncricinfo.com//series/indian-premier-league-2013-586733/sunrisers-hyderabad-vs-royal-challengers-bangalore-7th-match-598004/full-scorecard</td></tr><tr><td>Warriors</td><td>Kings XI</td><td>Kings XI</td><td>8 wickets</td><td>Pune</td><td>Apr 7, 2013</td><td>Twenty20</td><td>https://www.espncricinfo.com//series/indian-premier-league-2013-586733/pune-warriors-vs-kings-xi-punjab-6th-match-598003/full-scorecard</td></tr><tr><td>CSK</td><td>MI</td><td>MI</td><td>9 runs</td><td>Chennai</td><td>Apr 6, 2013</td><td>Twenty20</td><td>https://www.espncricinfo.com//series/indian-premier-league-2013-586733/chennai-super-kings-vs-mumbai-indians-5th-match-598002/full-scorecard</td></tr><tr><td>Daredevils</td><td>RR</td><td>RR</td><td>5 runs</td><td>Delhi</td><td>Apr 6, 2013</td><td>Twenty20</td><td>https://www.espncricinfo.com//series/indian-premier-league-2013-586733/delhi-daredevils-vs-rajasthan-royals-4th-match-598001/full-scorecard</td></tr><tr><td>SRH</td><td>Warriors</td><td>SRH</td><td>22 runs</td><td>Hyderabad</td><td>Apr 5, 2013</td><td>Twenty20</td><td>https://www.espncricinfo.com//series/indian-premier-league-2013-586733/sunrisers-hyderabad-vs-pune-warriors-3rd-match-598000/full-scorecard</td></tr><tr><td>RCB</td><td>MI</td><td>RCB</td><td>2 runs</td><td>Bengaluru</td><td>Apr 4, 2013</td><td>Twenty20</td><td>https://www.espncricinfo.com//series/indian-premier-league-2013-586733/royal-challengers-bangalore-vs-mumbai-indians-2nd-match-597999/full-scorecard</td></tr><tr><td>KKR</td><td>Daredevils</td><td>KKR</td><td>6 wickets</td><td>Eden Gardens</td><td>Apr 3, 2013</td><td>Twenty20</td><td>https://www.espncricinfo.com//series/indian-premier-league-2013-586733/kolkata-knight-riders-vs-delhi-daredevils-1st-match-597998/full-scorecard</td></tr><tr><td>CSK</td><td>KKR</td><td>KKR</td><td>5 wickets</td><td>Chennai</td><td>May 27, 2012</td><td>Twenty20</td><td>https://www.espncricinfo.com//series/indian-premier-league-2012-520932/chennai-super-kings-vs-kolkata-knight-riders-final-548381/full-scorecard</td></tr><tr><td>CSK</td><td>Daredevils</td><td>CSK</td><td>86 runs</td><td>Chennai</td><td>May 25, 2012</td><td>Twenty20</td><td>https://www.espncricinfo.com//series/indian-premier-league-2012-520932/chennai-super-kings-vs-delhi-daredevils-2nd-qualifying-match-548380/full-scorecard</td></tr><tr><td>CSK</td><td>MI</td><td>CSK</td><td>38 runs</td><td>Bengaluru</td><td>May 23, 2012</td><td>Twenty20</td><td>https://www.espncricinfo.com//series/indian-premier-league-2012-520932/chennai-super-kings-vs-mumbai-indians-elimination-final-548379/full-scorecard</td></tr><tr><td>Daredevils</td><td>KKR</td><td>KKR</td><td>18 runs</td><td>Pune</td><td>May 22, 2012</td><td>Twenty20</td><td>https://www.espncricinfo.com//series/indian-premier-league-2012-520932/delhi-daredevils-vs-kolkata-knight-riders-1st-qualifying-match-548378/full-scorecard</td></tr><tr><td>RR</td><td>MI</td><td>MI</td><td>10 wickets</td><td>Jaipur</td><td>May 20, 2012</td><td>Twenty20</td><td>https://www.espncricinfo.com//series/indian-premier-league-2012-520932/rajasthan-royals-vs-mumbai-indians-72nd-match-548377/full-scorecard</td></tr><tr><td>Chargers</td><td>RCB</td><td>Chargers</td><td>9 runs</td><td>Hyderabad</td><td>May 20, 2012</td><td>Twenty20</td><td>https://www.espncricinfo.com//series/indian-premier-league-2012-520932/deccan-chargers-vs-royal-challengers-bangalore-71st-match-548376/full-scorecard</td></tr><tr><td>Warriors</td><td>KKR</td><td>KKR</td><td>34 runs</td><td>Pune</td><td>May 19, 2012</td><td>Twenty20</td><td>https://www.espncricinfo.com//series/indian-premier-league-2012-520932/pune-warriors-vs-kolkata-knight-riders-70th-match-548375/full-scorecard</td></tr><tr><td>Kings XI</td><td>Daredevils</td><td>Daredevils</td><td>6 wickets</td><td>Dharamsala</td><td>May 19, 2012</td><td>Twenty20</td><td>https://www.espncricinfo.com//series/indian-premier-league-2012-520932/kings-xi-punjab-vs-delhi-daredevils-69th-match-548374/full-scorecard</td></tr><tr><td>Chargers</td><td>RR</td><td>Chargers</td><td>5 wickets</td><td>Hyderabad</td><td>May 18, 2012</td><td>Twenty20</td><td>https://www.espncricinfo.com//series/indian-premier-league-2012-520932/deccan-chargers-vs-rajasthan-royals-68th-match-548373/full-scorecard</td></tr><tr><td>Daredevils</td><td>RCB</td><td>RCB</td><td>21 runs</td><td>Delhi</td><td>May 17, 2012</td><td>Twenty20</td><td>https://www.espncricinfo.com//series/indian-premier-league-2012-520932/delhi-daredevils-vs-royal-challengers-bangalore-67th-match-548372/full-scorecard</td></tr><tr><td>Kings XI</td><td>CSK</td><td>Kings XI</td><td>6 wickets</td><td>Dharamsala</td><td>May 17, 2012</td><td>Twenty20</td><td>https://www.espncricinfo.com//series/indian-premier-league-2012-520932/kings-xi-punjab-vs-chennai-super-kings-66th-match-548371/full-scorecard</td></tr><tr><td>MI</td><td>KKR</td><td>KKR</td><td>32 runs</td><td>Wankhede</td><td>May 16, 2012</td><td>Twenty20</td><td>https://www.espncricinfo.com//series/indian-premier-league-2012-520932/mumbai-indians-vs-kolkata-knight-riders-65th-match-548370/full-scorecard</td></tr><tr><td>Daredevils</td><td>Kings XI</td><td>Daredevils</td><td>5 wickets</td><td>Delhi</td><td>May 15, 2012</td><td>Twenty20</td><td>https://www.espncricinfo.com//series/indian-premier-league-2012-520932/delhi-daredevils-vs-kings-xi-punjab-64th-match-548369/full-scorecard</td></tr><tr><td>KKR</td><td>CSK</td><td>CSK</td><td>5 wickets</td><td>Eden Gardens</td><td>May 14, 2012</td><td>Twenty20</td><td>https://www.espncricinfo.com//series/indian-premier-league-2012-520932/kolkata-knight-riders-vs-chennai-super-kings-63rd-match-548368/full-scorecard</td></tr><tr><td>RCB</td><td>MI</td><td>MI</td><td>5 wickets</td><td>Bengaluru</td><td>May 14, 2012</td><td>Twenty20</td><td>https://www.espncricinfo.com//series/indian-premier-league-2012-520932/royal-challengers-bangalore-vs-mumbai-indians-62nd-match-548367/full-scorecard</td></tr><tr><td>Kings XI</td><td>Chargers</td><td>Kings XI</td><td>4 wickets</td><td>Mohali</td><td>May 13, 2012</td><td>Twenty20</td><td>https://www.espncricinfo.com//series/indian-premier-league-2012-520932/kings-xi-punjab-vs-deccan-chargers-61st-match-548366/full-scorecard</td></tr><tr><td>RR</td><td>Warriors</td><td>RR</td><td>45 runs</td><td>Jaipur</td><td>May 13, 2012</td><td>Twenty20</td><td>https://www.espncricinfo.com//series/indian-premier-league-2012-520932/rajasthan-royals-vs-pune-warriors-60th-match-548365/full-scorecard</td></tr><tr><td>CSK</td><td>Daredevils</td><td>CSK</td><td>9 wickets</td><td>Chennai</td><td>May 12, 2012</td><td>Twenty20</td><td>https://www.espncricinfo.com//series/indian-premier-league-2012-520932/chennai-super-kings-vs-delhi-daredevils-59th-match-548364/full-scorecard</td></tr><tr><td>KKR</td><td>MI</td><td>MI</td><td>27 runs</td><td>Eden Gardens</td><td>May 12, 2012</td><td>Twenty20</td><td>https://www.espncricinfo.com//series/indian-premier-league-2012-520932/kolkata-knight-riders-vs-mumbai-indians-58th-match-548363/full-scorecard</td></tr><tr><td>Warriors</td><td>RCB</td><td>RCB</td><td>35 runs</td><td>Pune</td><td>May 11, 2012</td><td>Twenty20</td><td>https://www.espncricinfo.com//series/indian-premier-league-2012-520932/pune-warriors-vs-royal-challengers-bangalore-57th-match-548362/full-scorecard</td></tr><tr><td>RR</td><td>CSK</td><td>CSK</td><td>4 wickets</td><td>Jaipur</td><td>May 10, 2012</td><td>Twenty20</td><td>https://www.espncricinfo.com//series/indian-premier-league-2012-520932/rajasthan-royals-vs-chennai-super-kings-56th-match-548361/full-scorecard</td></tr><tr><td>Chargers</td><td>Daredevils</td><td>Daredevils</td><td>9 wickets</td><td>Hyderabad</td><td>May 10, 2012</td><td>Twenty20</td><td>https://www.espncricinfo.com//series/indian-premier-league-2012-520932/deccan-chargers-vs-delhi-daredevils-55th-match-548329/full-scorecard</td></tr><tr><td>MI</td><td>RCB</td><td>RCB</td><td>9 wickets</td><td>Wankhede</td><td>May 9, 2012</td><td>Twenty20</td><td>https://www.espncricinfo.com//series/indian-premier-league-2012-520932/mumbai-indians-vs-royal-challengers-bangalore-54th-match-548360/full-scorecard</td></tr><tr><td>Chargers</td><td>Kings XI</td><td>Kings XI</td><td>25 runs</td><td>Hyderabad</td><td>May 8, 2012</td><td>Twenty20</td><td>https://www.espncricinfo.com//series/indian-premier-league-2012-520932/deccan-chargers-vs-kings-xi-punjab-53rd-match-548359/full-scorecard</td></tr><tr><td>Warriors</td><td>RR</td><td>RR</td><td>7 wickets</td><td>Pune</td><td>May 8, 2012</td><td>Twenty20</td><td>https://www.espncricinfo.com//series/indian-premier-league-2012-520932/pune-warriors-vs-rajasthan-royals-52nd-match-548358/full-scorecard</td></tr><tr><td>Daredevils</td><td>KKR</td><td>KKR</td><td>6 wickets</td><td>Delhi</td><td>May 7, 2012</td><td>Twenty20</td><td>https://www.espncricinfo.com//series/indian-premier-league-2012-520932/delhi-daredevils-vs-kolkata-knight-riders-51st-match-548357/full-scorecard</td></tr><tr><td>RCB</td><td>Chargers</td><td>RCB</td><td>5 wickets</td><td>Bengaluru</td><td>May 6, 2012</td><td>Twenty20</td><td>https://www.espncricinfo.com//series/indian-premier-league-2012-520932/royal-challengers-bangalore-vs-deccan-chargers-50th-match-548356/full-scorecard</td></tr><tr><td>MI</td><td>CSK</td><td>MI</td><td>2 wickets</td><td>Wankhede</td><td>May 6, 2012</td><td>Twenty20</td><td>https://www.espncricinfo.com//series/indian-premier-league-2012-520932/mumbai-indians-vs-chennai-super-kings-49th-match-548355/full-scorecard</td></tr><tr><td>Kings XI</td><td>RR</td><td>RR</td><td>43 runs</td><td>Mohali</td><td>May 5, 2012</td><td>Twenty20</td><td>https://www.espncricinfo.com//series/indian-premier-league-2012-520932/kings-xi-punjab-vs-rajasthan-royals-48th-match-548354/full-scorecard</td></tr><tr><td>KKR</td><td>Warriors</td><td>KKR</td><td>7 runs</td><td>Eden Gardens</td><td>May 5, 2012</td><td>Twenty20</td><td>https://www.espncricinfo.com//series/indian-premier-league-2012-520932/kolkata-knight-riders-vs-pune-warriors-47th-match-548353/full-scorecard</td></tr><tr><td>CSK</td><td>Chargers</td><td>CSK</td><td>10 runs</td><td>Chennai</td><td>May 4, 2012</td><td>Twenty20</td><td>https://www.espncricinfo.com//series/indian-premier-league-2012-520932/chennai-super-kings-vs-deccan-chargers-46th-match-548352/full-scorecard</td></tr><tr><td>Warriors</td><td>MI</td><td>MI</td><td>1 run</td><td>Pune</td><td>May 3, 2012</td><td>Twenty20</td><td>https://www.espncricinfo.com//series/indian-premier-league-2012-520932/pune-warriors-vs-mumbai-indians-45th-match-548351/full-scorecard</td></tr><tr><td>RCB</td><td>Kings XI</td><td>Kings XI</td><td>4 wickets</td><td>Bengaluru</td><td>May 2, 2012</td><td>Twenty20</td><td>https://www.espncricinfo.com//series/indian-premier-league-2012-520932/royal-challengers-bangalore-vs-kings-xi-punjab-44th-match-548350/full-scorecard</td></tr><tr><td>RR</td><td>Daredevils</td><td>Daredevils</td><td>6 wickets</td><td>Jaipur</td><td>May 1, 2012</td><td>Twenty20</td><td>https://www.espncricinfo.com//series/indian-premier-league-2012-520932/rajasthan-royals-vs-delhi-daredevils-43rd-match-548349/full-scorecard</td></tr><tr><td>Chargers</td><td>Warriors</td><td>Chargers</td><td>13 runs</td><td>Cuttack</td><td>May 1, 2012</td><td>Twenty20</td><td>https://www.espncricinfo.com//series/indian-premier-league-2012-520932/deccan-chargers-vs-pune-warriors-42nd-match-548348/full-scorecard</td></tr><tr><td>CSK</td><td>KKR</td><td>KKR</td><td>5 wickets</td><td>Chennai</td><td>Apr 30, 2012</td><td>Twenty20</td><td>https://www.espncricinfo.com//series/indian-premier-league-2012-520932/chennai-super-kings-vs-kolkata-knight-riders-41st-match-548347/full-scorecard</td></tr><tr><td>MI</td><td>Chargers</td><td>MI</td><td>5 wickets</td><td>Wankhede</td><td>Apr 29, 2012</td><td>Twenty20</td><td>https://www.espncricinfo.com//series/indian-premier-league-2012-520932/mumbai-indians-vs-deccan-chargers-40th-match-548346/full-scorecard</td></tr><tr><td>Daredevils</td><td>RR</td><td>Daredevils</td><td>1 run</td><td>Delhi</td><td>Apr 29, 2012</td><td>Twenty20</td><td>https://www.espncricinfo.com//series/indian-premier-league-2012-520932/delhi-daredevils-vs-rajasthan-royals-39th-match-548345/full-scorecard</td></tr><tr><td>KKR</td><td>RCB</td><td>KKR</td><td>47 runs</td><td>Eden Gardens</td><td>Apr 28, 2012</td><td>Twenty20</td><td>https://www.espncricinfo.com//series/indian-premier-league-2012-520932/kolkata-knight-riders-vs-royal-challengers-bangalore-38th-match-548344/full-scorecard</td></tr><tr><td>CSK</td><td>Kings XI</td><td>Kings XI</td><td>7 runs</td><td>Chennai</td><td>Apr 28, 2012</td><td>Twenty20</td><td>https://www.espncricinfo.com//series/indian-premier-league-2012-520932/chennai-super-kings-vs-kings-xi-punjab-37th-match-548343/full-scorecard</td></tr><tr><td>Daredevils</td><td>MI</td><td>Daredevils</td><td>37 runs</td><td>Delhi</td><td>Apr 27, 2012</td><td>Twenty20</td><td>https://www.espncricinfo.com//series/indian-premier-league-2012-520932/delhi-daredevils-vs-mumbai-indians-36th-match-548342/full-scorecard</td></tr><tr><td>Warriors</td><td>Chargers</td><td>Chargers</td><td>18 runs</td><td>Pune</td><td>Apr 26, 2012</td><td>Twenty20</td><td>https://www.espncricinfo.com//series/indian-premier-league-2012-520932/pune-warriors-vs-deccan-chargers-35th-match-548341/full-scorecard</td></tr><tr><td>RCB</td><td>CSK</td><td>no result</td><td>-</td><td>Bengaluru</td><td>Apr 25, 2012</td><td>Twenty20</td><td>https://www.espncricinfo.com//series/indian-premier-league-2012-520932/royal-challengers-bangalore-vs-chennai-super-kings-34th-match-548340/full-scorecard</td></tr><tr><td>Kings XI</td><td>MI</td><td>MI</td><td>4 wickets</td><td>Mohali</td><td>Apr 25, 2012</td><td>Twenty20</td><td>https://www.espncricinfo.com//series/indian-premier-league-2012-520932/kings-xi-punjab-vs-mumbai-indians-33rd-match-548339/full-scorecard</td></tr><tr><td>Warriors</td><td>Daredevils</td><td>Daredevils</td><td>8 wickets</td><td>Pune</td><td>Apr 24, 2012</td><td>Twenty20</td><td>https://www.espncricinfo.com//series/indian-premier-league-2012-520932/pune-warriors-vs-delhi-daredevils-31st-match-548337/full-scorecard</td></tr><tr><td>RR</td><td>RCB</td><td>RCB</td><td>46 runs</td><td>Jaipur</td><td>Apr 23, 2012</td><td>Twenty20</td><td>https://www.espncricinfo.com//series/indian-premier-league-2012-520932/rajasthan-royals-vs-royal-challengers-bangalore-30th-match-548336/full-scorecard</td></tr><tr><td>Chargers</td><td>KKR</td><td>KKR</td><td>5 wickets</td><td>Cuttack</td><td>Apr 22, 2012</td><td>Twenty20</td><td>https://www.espncricinfo.com//series/indian-premier-league-2012-520932/deccan-chargers-vs-kolkata-knight-riders-29th-match-548335/full-scorecard</td></tr><tr><td>MI</td><td>Kings XI</td><td>Kings XI</td><td>6 wickets</td><td>Wankhede</td><td>Apr 22, 2012</td><td>Twenty20</td><td>https://www.espncricinfo.com//series/indian-premier-league-2012-520932/mumbai-indians-vs-kings-xi-punjab-28th-match-548334/full-scorecard</td></tr><tr><td>Daredevils</td><td>Warriors</td><td>Warriors</td><td>20 runs</td><td>Delhi</td><td>Apr 21, 2012</td><td>Twenty20</td><td>https://www.espncricinfo.com//series/indian-premier-league-2012-520932/delhi-daredevils-vs-pune-warriors-27th-match-548333/full-scorecard</td></tr><tr><td>CSK</td><td>RR</td><td>CSK</td><td>7 wickets</td><td>Chennai</td><td>Apr 21, 2012</td><td>Twenty20</td><td>https://www.espncricinfo.com//series/indian-premier-league-2012-520932/chennai-super-kings-vs-rajasthan-royals-26th-match-548332/full-scorecard</td></tr><tr><td>Kings XI</td><td>RCB</td><td>RCB</td><td>5 wickets</td><td>Mohali</td><td>Apr 20, 2012</td><td>Twenty20</td><td>https://www.espncricinfo.com//series/indian-premier-league-2012-520932/kings-xi-punjab-vs-royal-challengers-bangalore-25th-match-548331/full-scorecard</td></tr><tr><td>CSK</td><td>Warriors</td><td>CSK</td><td>13 runs</td><td>Chennai</td><td>Apr 19, 2012</td><td>Twenty20</td><td>https://www.espncricinfo.com//series/indian-premier-league-2012-520932/chennai-super-kings-vs-pune-warriors-24th-match-548330/full-scorecard</td></tr><tr><td>Daredevils</td><td>Chargers</td><td>Daredevils</td><td>5 wickets</td><td>Delhi</td><td>Apr 19, 2012</td><td>Twenty20</td><td>https://www.espncricinfo.com//series/indian-premier-league-2012-520932/delhi-daredevils-vs-deccan-chargers-23rd-match-548321/full-scorecard</td></tr><tr><td>Kings XI</td><td>KKR</td><td>KKR</td><td>8 wickets</td><td>Mohali</td><td>Apr 18, 2012</td><td>Twenty20</td><td>https://www.espncricinfo.com//series/indian-premier-league-2012-520932/kings-xi-punjab-vs-kolkata-knight-riders-22nd-match-548328/full-scorecard</td></tr><tr><td>RCB</td><td>Warriors</td><td>RCB</td><td>6 wickets</td><td>Bengaluru</td><td>Apr 17, 2012</td><td>Twenty20</td><td>https://www.espncricinfo.com//series/indian-premier-league-2012-520932/royal-challengers-bangalore-vs-pune-warriors-21st-match-548327/full-scorecard</td></tr><tr><td>RR</td><td>Chargers</td><td>RR</td><td>5 wickets</td><td>Jaipur</td><td>Apr 17, 2012</td><td>Twenty20</td><td>https://www.espncricinfo.com//series/indian-premier-league-2012-520932/rajasthan-royals-vs-deccan-chargers-20th-match-548326/full-scorecard</td></tr><tr><td>MI</td><td>Daredevils</td><td>Daredevils</td><td>7 wickets</td><td>Wankhede</td><td>Apr 16, 2012</td><td>Twenty20</td><td>https://www.espncricinfo.com//series/indian-premier-league-2012-520932/mumbai-indians-vs-delhi-daredevils-19th-match-548325/full-scorecard</td></tr><tr><td>RCB</td><td>RR</td><td>RR</td><td>59 runs</td><td>Bengaluru</td><td>Apr 15, 2012</td><td>Twenty20</td><td>https://www.espncricinfo.com//series/indian-premier-league-2012-520932/royal-challengers-bangalore-vs-rajasthan-royals-18th-match-548324/full-scorecard</td></tr><tr><td>KKR</td><td>Kings XI</td><td>Kings XI</td><td>2 runs</td><td>Eden Gardens</td><td>Apr 15, 2012</td><td>Twenty20</td><td>https://www.espncricinfo.com//series/indian-premier-league-2012-520932/kolkata-knight-riders-vs-kings-xi-punjab-17th-match-548323/full-scorecard</td></tr><tr><td>Warriors</td><td>CSK</td><td>Warriors</td><td>7 wickets</td><td>Pune</td><td>Apr 14, 2012</td><td>Twenty20</td><td>https://www.espncricinfo.com//series/indian-premier-league-2012-520932/pune-warriors-vs-chennai-super-kings-16th-match-548322/full-scorecard</td></tr><tr><td>KKR</td><td>RR</td><td>KKR</td><td>5 wickets</td><td>Eden Gardens</td><td>Apr 13, 2012</td><td>Twenty20</td><td>https://www.espncricinfo.com//series/indian-premier-league-2012-520932/kolkata-knight-riders-vs-rajasthan-royals-15th-match-548320/full-scorecard</td></tr><tr><td>Kings XI</td><td>Warriors</td><td>Kings XI</td><td>7 wickets</td><td>Mohali</td><td>Apr 12, 2012</td><td>Twenty20</td><td>https://www.espncricinfo.com//series/indian-premier-league-2012-520932/kings-xi-punjab-vs-pune-warriors-14th-match-548319/full-scorecard</td></tr><tr><td>CSK</td><td>RCB</td><td>CSK</td><td>5 wickets</td><td>Chennai</td><td>Apr 12, 2012</td><td>Twenty20</td><td>https://www.espncricinfo.com//series/indian-premier-league-2012-520932/chennai-super-kings-vs-royal-challengers-bangalore-13th-match-548318/full-scorecard</td></tr><tr><td>MI</td><td>RR</td><td>MI</td><td>27 runs</td><td>Wankhede</td><td>Apr 11, 2012</td><td>Twenty20</td><td>https://www.espncricinfo.com//series/indian-premier-league-2012-520932/mumbai-indians-vs-rajasthan-royals-12th-match-548317/full-scorecard</td></tr><tr><td>Daredevils</td><td>CSK</td><td>Daredevils</td><td>8 wickets</td><td>Delhi</td><td>Apr 10, 2012</td><td>Twenty20</td><td>https://www.espncricinfo.com//series/indian-premier-league-2012-520932/delhi-daredevils-vs-chennai-super-kings-11th-match-548316/full-scorecard</td></tr><tr><td>RCB</td><td>KKR</td><td>KKR</td><td>42 runs</td><td>Bengaluru</td><td>Apr 10, 2012</td><td>Twenty20</td><td>https://www.espncricinfo.com//series/indian-premier-league-2012-520932/royal-challengers-bangalore-vs-kolkata-knight-riders-10th-match-548315/full-scorecard</td></tr><tr><td>Chargers</td><td>MI</td><td>MI</td><td>5 wickets</td><td>Visakhapatnam</td><td>Apr 9, 2012</td><td>Twenty20</td><td>https://www.espncricinfo.com//series/indian-premier-league-2012-520932/deccan-chargers-vs-mumbai-indians-9th-match-548314/full-scorecard</td></tr><tr><td>Warriors</td><td>Kings XI</td><td>Warriors</td><td>22 runs</td><td>Pune</td><td>Apr 8, 2012</td><td>Twenty20</td><td>https://www.espncricinfo.com//series/indian-premier-league-2012-520932/pune-warriors-vs-kings-xi-punjab-8th-match-548313/full-scorecard</td></tr><tr><td>RR</td><td>KKR</td><td>RR</td><td>22 runs</td><td>Jaipur</td><td>Apr 8, 2012</td><td>Twenty20</td><td>https://www.espncricinfo.com//series/indian-premier-league-2012-520932/rajasthan-royals-vs-kolkata-knight-riders-7th-match-548312/full-scorecard</td></tr><tr><td>Chargers</td><td>CSK</td><td>CSK</td><td>74 runs</td><td>Visakhapatnam</td><td>Apr 7, 2012</td><td>Twenty20</td><td>https://www.espncricinfo.com//series/indian-premier-league-2012-520932/deccan-chargers-vs-chennai-super-kings-6th-match-548311/full-scorecard</td></tr><tr><td>RCB</td><td>Daredevils</td><td>RCB</td><td>20 runs</td><td>Bengaluru</td><td>Apr 7, 2012</td><td>Twenty20</td><td>https://www.espncricinfo.com//series/indian-premier-league-2012-520932/royal-challengers-bangalore-vs-delhi-daredevils-5th-match-548310/full-scorecard</td></tr><tr><td>RR</td><td>Kings XI</td><td>RR</td><td>31 runs</td><td>Jaipur</td><td>Apr 6, 2012</td><td>Twenty20</td><td>https://www.espncricinfo.com//series/indian-premier-league-2012-520932/rajasthan-royals-vs-kings-xi-punjab-4th-match-548309/full-scorecard</td></tr><tr><td>MI</td><td>Warriors</td><td>Warriors</td><td>28 runs</td><td>Wankhede</td><td>Apr 6, 2012</td><td>Twenty20</td><td>https://www.espncricinfo.com//series/indian-premier-league-2012-520932/mumbai-indians-vs-pune-warriors-3rd-match-548308/full-scorecard</td></tr><tr><td>KKR</td><td>Daredevils</td><td>Daredevils</td><td>8 wickets</td><td>Eden Gardens</td><td>Apr 5, 2012</td><td>Twenty20</td><td>https://www.espncricinfo.com//series/indian-premier-league-2012-520932/kolkata-knight-riders-vs-delhi-daredevils-2nd-match-548307/full-scorecard</td></tr><tr><td>CSK</td><td>MI</td><td>MI</td><td>8 wickets</td><td>Chennai</td><td>Apr 4, 2012</td><td>Twenty20</td><td>https://www.espncricinfo.com//series/indian-premier-league-2012-520932/chennai-super-kings-vs-mumbai-indians-1st-match-548306/full-scorecard</td></tr><tr><td>CSK</td><td>RCB</td><td>CSK</td><td>58 runs</td><td>Chennai</td><td>May 28, 2011</td><td>Twenty20</td><td>https://www.espncricinfo.com//series/indian-premier-league-2011-466304/chennai-super-kings-vs-royal-challengers-bangalore-final-501271/full-scorecard</td></tr><tr><td>MI</td><td>RCB</td><td>RCB</td><td>43 runs</td><td>Chennai</td><td>May 27, 2011</td><td>Twenty20</td><td>https://www.espncricinfo.com//series/indian-premier-league-2011-466304/mumbai-indians-vs-royal-challengers-bangalore-2nd-qualifying-final-501270/full-scorecard</td></tr><tr><td>MI</td><td>KKR</td><td>MI</td><td>4 wickets</td><td>Wankhede</td><td>May 25, 2011</td><td>Twenty20</td><td>https://www.espncricinfo.com//series/indian-premier-league-2011-466304/mumbai-indians-vs-kolkata-knight-riders-elimination-final-501269/full-scorecard</td></tr><tr><td>CSK</td><td>RCB</td><td>CSK</td><td>6 wickets</td><td>Wankhede</td><td>May 24, 2011</td><td>Twenty20</td><td>https://www.espncricinfo.com//series/indian-premier-league-2011-466304/chennai-super-kings-vs-royal-challengers-bangalore-1st-qualifying-final-501268/full-scorecard</td></tr><tr><td>KKR</td><td>MI</td><td>MI</td><td>5 wickets</td><td>Eden Gardens</td><td>May 22, 2011</td><td>Twenty20</td><td>https://www.espncricinfo.com//series/indian-premier-league-2011-466304/kolkata-knight-riders-vs-mumbai-indians-70th-match-501267/full-scorecard</td></tr><tr><td>RCB</td><td>CSK</td><td>RCB</td><td>8 wickets</td><td>Bengaluru</td><td>May 22, 2011</td><td>Twenty20</td><td>https://www.espncricinfo.com//series/indian-premier-league-2011-466304/royal-challengers-bangalore-vs-chennai-super-kings-69th-match-501266/full-scorecard</td></tr><tr><td>Daredevils</td><td>Warriors</td><td>no result</td><td>-</td><td>Delhi</td><td>May 21, 2011</td><td>Twenty20</td><td>https://www.espncricinfo.com//series/indian-premier-league-2011-466304/delhi-daredevils-vs-pune-warriors-68th-match-501265/full-scorecard</td></tr><tr><td>Kings XI</td><td>Chargers</td><td>Chargers</td><td>82 runs</td><td>Dharamsala</td><td>May 21, 2011</td><td>Twenty20</td><td>https://www.espncricinfo.com//series/indian-premier-league-2011-466304/kings-xi-punjab-vs-deccan-chargers-67th-match-501264/full-scorecard</td></tr><tr><td>MI</td><td>RR</td><td>RR</td><td>10 wickets</td><td>Wankhede</td><td>May 20, 2011</td><td>Twenty20</td><td>https://www.espncricinfo.com//series/indian-premier-league-2011-466304/mumbai-indians-vs-rajasthan-royals-66th-match-501263/full-scorecard</td></tr><tr><td>Warriors</td><td>KKR</td><td>KKR</td><td>7 wickets</td><td>DY Patil</td><td>May 19, 2011</td><td>Twenty20</td><td>https://www.espncricinfo.com//series/indian-premier-league-2011-466304/pune-warriors-vs-kolkata-knight-riders-65th-match-501262/full-scorecard</td></tr><tr><td>CSK</td><td>Kochi</td><td>CSK</td><td>11 runs</td><td>Chennai</td><td>May 18, 2011</td><td>Twenty20</td><td>https://www.espncricinfo.com//series/indian-premier-league-2011-466304/chennai-super-kings-vs-kochi-tuskers-kerala-64th-match-501261/full-scorecard</td></tr><tr><td>Kings XI</td><td>RCB</td><td>Kings XI</td><td>111 runs</td><td>Dharamsala</td><td>May 17, 2011</td><td>Twenty20</td><td>https://www.espncricinfo.com//series/indian-premier-league-2011-466304/kings-xi-punjab-vs-royal-challengers-bangalore-63rd-match-501260/full-scorecard</td></tr><tr><td>Warriors</td><td>Chargers</td><td>Chargers</td><td>6 wickets</td><td>DY Patil</td><td>May 16, 2011</td><td>Twenty20</td><td>https://www.espncricinfo.com//series/indian-premier-league-2011-466304/pune-warriors-vs-deccan-chargers-62nd-match-501259/full-scorecard</td></tr><tr><td>Kochi</td><td>RR</td><td>Kochi</td><td>8 wickets</td><td>Indore</td><td>May 15, 2011</td><td>Twenty20</td><td>https://www.espncricinfo.com//series/indian-premier-league-2011-466304/kochi-tuskers-kerala-vs-rajasthan-royals-61st-match-501258/full-scorecard</td></tr><tr><td>Kings XI</td><td>Daredevils</td><td>Kings XI</td><td>29 runs</td><td>Dharamsala</td><td>May 15, 2011</td><td>Twenty20</td><td>https://www.espncricinfo.com//series/indian-premier-league-2011-466304/kings-xi-punjab-vs-delhi-daredevils-60th-match-501257/full-scorecard</td></tr><tr><td>MI</td><td>Chargers</td><td>Chargers</td><td>10 runs</td><td>Wankhede</td><td>May 14, 2011</td><td>Twenty20</td><td>https://www.espncricinfo.com//series/indian-premier-league-2011-466304/mumbai-indians-vs-deccan-chargers-59th-match-501256/full-scorecard</td></tr><tr><td>RCB</td><td>KKR</td><td>RCB</td><td>4 wickets</td><td>Bengaluru</td><td>May 14, 2011</td><td>Twenty20</td><td>https://www.espncricinfo.com//series/indian-premier-league-2011-466304/royal-challengers-bangalore-vs-kolkata-knight-riders-58th-match-501255/full-scorecard</td></tr><tr><td>Kochi</td><td>Kings XI</td><td>Kings XI</td><td>6 wickets</td><td>Indore</td><td>May 13, 2011</td><td>Twenty20</td><td>https://www.espncricinfo.com//series/indian-premier-league-2011-466304/kochi-tuskers-kerala-vs-kings-xi-punjab-57th-match-501254/full-scorecard</td></tr><tr><td>CSK</td><td>Daredevils</td><td>CSK</td><td>18 runs</td><td>Chennai</td><td>May 12, 2011</td><td>Twenty20</td><td>https://www.espncricinfo.com//series/indian-premier-league-2011-466304/chennai-super-kings-vs-delhi-daredevils-56th-match-501253/full-scorecard</td></tr><tr><td>RR</td><td>RCB</td><td>RCB</td><td>9 wickets</td><td>Jaipur</td><td>May 11, 2011</td><td>Twenty20</td><td>https://www.espncricinfo.com//series/indian-premier-league-2011-466304/rajasthan-royals-vs-royal-challengers-bangalore-55th-match-501252/full-scorecard</td></tr><tr><td>Kings XI</td><td>MI</td><td>Kings XI</td><td>76 runs</td><td>Mohali</td><td>May 10, 2011</td><td>Twenty20</td><td>https://www.espncricinfo.com//series/indian-premier-league-2011-466304/kings-xi-punjab-vs-mumbai-indians-54th-match-501251/full-scorecard</td></tr><tr><td>Chargers</td><td>Warriors</td><td>Warriors</td><td>6 wickets</td><td>Hyderabad</td><td>May 10, 2011</td><td>Twenty20</td><td>https://www.espncricinfo.com//series/indian-premier-league-2011-466304/deccan-chargers-vs-pune-warriors-53rd-match-501250/full-scorecard</td></tr><tr><td>RR</td><td>CSK</td><td>CSK</td><td>63 runs</td><td>Jaipur</td><td>May 9, 2011</td><td>Twenty20</td><td>https://www.espncricinfo.com//series/indian-premier-league-2011-466304/rajasthan-royals-vs-chennai-super-kings-52nd-match-501249/full-scorecard</td></tr><tr><td>Kings XI</td><td>Warriors</td><td>Warriors</td><td>5 wickets</td><td>Mohali</td><td>May 8, 2011</td><td>Twenty20</td><td>https://www.espncricinfo.com//series/indian-premier-league-2011-466304/kings-xi-punjab-vs-pune-warriors-51st-match-501248/full-scorecard</td></tr><tr><td>RCB</td><td>Kochi</td><td>RCB</td><td>9 wickets</td><td>Bengaluru</td><td>May 8, 2011</td><td>Twenty20</td><td>https://www.espncricinfo.com//series/indian-premier-league-2011-466304/royal-challengers-bangalore-vs-kochi-tuskers-kerala-50th-match-501247/full-scorecard</td></tr><tr><td>MI</td><td>Daredevils</td><td>MI</td><td>32 runs</td><td>Wankhede</td><td>May 7, 2011</td><td>Twenty20</td><td>https://www.espncricinfo.com//series/indian-premier-league-2011-466304/mumbai-indians-vs-delhi-daredevils-49th-match-501246/full-scorecard</td></tr><tr><td>KKR</td><td>CSK</td><td>KKR</td><td>10 runs</td><td>Eden Gardens</td><td>May 7, 2011</td><td>Twenty20</td><td>https://www.espncricinfo.com//series/indian-premier-league-2011-466304/kolkata-knight-riders-vs-chennai-super-kings-48th-match-501245/full-scorecard</td></tr><tr><td>RCB</td><td>Kings XI</td><td>RCB</td><td>85 runs</td><td>Bengaluru</td><td>May 6, 2011</td><td>Twenty20</td><td>https://www.espncricinfo.com//series/indian-premier-league-2011-466304/royal-challengers-bangalore-vs-kings-xi-punjab-47th-match-501244/full-scorecard</td></tr><tr><td>Chargers</td><td>Daredevils</td><td>Daredevils</td><td>4 wickets</td><td>Hyderabad</td><td>May 5, 2011</td><td>Twenty20</td><td>https://www.espncricinfo.com//series/indian-premier-league-2011-466304/deccan-chargers-vs-delhi-daredevils-46th-match-501243/full-scorecard</td></tr><tr><td>Kochi</td><td>KKR</td><td>Kochi</td><td>17 runs</td><td>Kochi</td><td>May 5, 2011</td><td>Twenty20</td><td>https://www.espncricinfo.com//series/indian-premier-league-2011-466304/kochi-tuskers-kerala-vs-kolkata-knight-riders-45th-match-501242/full-scorecard</td></tr><tr><td>Warriors</td><td>MI</td><td>MI</td><td>21 runs</td><td>DY Patil</td><td>May 4, 2011</td><td>Twenty20</td><td>https://www.espncricinfo.com//series/indian-premier-league-2011-466304/pune-warriors-vs-mumbai-indians-44th-match-501241/full-scorecard</td></tr><tr><td>CSK</td><td>RR</td><td>CSK</td><td>8 wickets</td><td>Chennai</td><td>May 4, 2011</td><td>Twenty20</td><td>https://www.espncricinfo.com//series/indian-premier-league-2011-466304/chennai-super-kings-vs-rajasthan-royals-43rd-match-501240/full-scorecard</td></tr><tr><td>Chargers</td><td>KKR</td><td>KKR</td><td>20 runs</td><td>Hyderabad</td><td>May 3, 2011</td><td>Twenty20</td><td>https://www.espncricinfo.com//series/indian-premier-league-2011-466304/deccan-chargers-vs-kolkata-knight-riders-42nd-match-501239/full-scorecard</td></tr><tr><td>Daredevils</td><td>Kochi</td><td>Kochi</td><td>7 wickets</td><td>Delhi</td><td>May 2, 2011</td><td>Twenty20</td><td>https://www.espncricinfo.com//series/indian-premier-league-2011-466304/delhi-daredevils-vs-kochi-tuskers-kerala-41st-match-501238/full-scorecard</td></tr><tr><td>MI</td><td>Kings XI</td><td>MI</td><td>23 runs</td><td>Wankhede</td><td>May 2, 2011</td><td>Twenty20</td><td>https://www.espncricinfo.com//series/indian-premier-league-2011-466304/mumbai-indians-vs-kings-xi-punjab-40th-match-501237/full-scorecard</td></tr><tr><td>CSK</td><td>Chargers</td><td>CSK</td><td>19 runs</td><td>Chennai</td><td>May 1, 2011</td><td>Twenty20</td><td>https://www.espncricinfo.com//series/indian-premier-league-2011-466304/chennai-super-kings-vs-deccan-chargers-39th-match-501236/full-scorecard</td></tr><tr><td>RR</td><td>Warriors</td><td>RR</td><td>6 wickets</td><td>Jaipur</td><td>May 1, 2011</td><td>Twenty20</td><td>https://www.espncricinfo.com//series/indian-premier-league-2011-466304/rajasthan-royals-vs-pune-warriors-38th-match-501235/full-scorecard</td></tr><tr><td>KKR</td><td>Kings XI</td><td>KKR</td><td>8 wickets</td><td>Eden Gardens</td><td>Apr 30, 2011</td><td>Twenty20</td><td>https://www.espncricinfo.com//series/indian-premier-league-2011-466304/kolkata-knight-riders-vs-kings-xi-punjab-37th-match-501234/full-scorecard</td></tr><tr><td>Kochi</td><td>Daredevils</td><td>Daredevils</td><td>38 runs</td><td>Kochi</td><td>Apr 30, 2011</td><td>Twenty20</td><td>https://www.espncricinfo.com//series/indian-premier-league-2011-466304/kochi-tuskers-kerala-vs-delhi-daredevils-36th-match-501233/full-scorecard</td></tr><tr><td>RCB</td><td>Warriors</td><td>RCB</td><td>26 runs</td><td>Bengaluru</td><td>Apr 29, 2011</td><td>Twenty20</td><td>https://www.espncricinfo.com//series/indian-premier-league-2011-466304/royal-challengers-bangalore-vs-pune-warriors-35th-match-501232/full-scorecard</td></tr><tr><td>RR</td><td>MI</td><td>RR</td><td>7 wickets</td><td>Jaipur</td><td>Apr 29, 2011</td><td>Twenty20</td><td>https://www.espncricinfo.com//series/indian-premier-league-2011-466304/rajasthan-royals-vs-mumbai-indians-34th-match-501231/full-scorecard</td></tr><tr><td>Daredevils</td><td>KKR</td><td>KKR</td><td>17 runs</td><td>Delhi</td><td>Apr 28, 2011</td><td>Twenty20</td><td>https://www.espncricinfo.com//series/indian-premier-league-2011-466304/delhi-daredevils-vs-kolkata-knight-riders-33rd-match-501230/full-scorecard</td></tr><tr><td>Kochi</td><td>Chargers</td><td>Chargers</td><td>55 runs</td><td>Kochi</td><td>Apr 27, 2011</td><td>Twenty20</td><td>https://www.espncricinfo.com//series/indian-premier-league-2011-466304/kochi-tuskers-kerala-vs-deccan-chargers-32nd-match-501229/full-scorecard</td></tr><tr><td>Warriors</td><td>CSK</td><td>CSK</td><td>8 wickets</td><td>DY Patil</td><td>Apr 27, 2011</td><td>Twenty20</td><td>https://www.espncricinfo.com//series/indian-premier-league-2011-466304/pune-warriors-vs-chennai-super-kings-31st-match-501228/full-scorecard</td></tr><tr><td>Daredevils</td><td>RCB</td><td>RCB</td><td>3 wickets</td><td>Delhi</td><td>Apr 26, 2011</td><td>Twenty20</td><td>https://www.espncricinfo.com//series/indian-premier-league-2011-466304/delhi-daredevils-vs-royal-challengers-bangalore-30th-match-501227/full-scorecard</td></tr><tr><td>CSK</td><td>Warriors</td><td>CSK</td><td>25 runs</td><td>Chennai</td><td>Apr 25, 2011</td><td>Twenty20</td><td>https://www.espncricinfo.com//series/indian-premier-league-2011-466304/chennai-super-kings-vs-pune-warriors-29th-match-501226/full-scorecard</td></tr><tr><td>RR</td><td>Kochi</td><td>RR</td><td>8 wickets</td><td>Jaipur</td><td>Apr 24, 2011</td><td>Twenty20</td><td>https://www.espncricinfo.com//series/indian-premier-league-2011-466304/rajasthan-royals-vs-kochi-tuskers-kerala-28th-match-501225/full-scorecard</td></tr><tr><td>Chargers</td><td>MI</td><td>MI</td><td>37 runs</td><td>Hyderabad</td><td>Apr 24, 2011</td><td>Twenty20</td><td>https://www.espncricinfo.com//series/indian-premier-league-2011-466304/deccan-chargers-vs-mumbai-indians-27th-match-501224/full-scorecard</td></tr><tr><td>Daredevils</td><td>Kings XI</td><td>Daredevils</td><td>29 runs</td><td>Delhi</td><td>Apr 23, 2011</td><td>Twenty20</td><td>https://www.espncricinfo.com//series/indian-premier-league-2011-466304/delhi-daredevils-vs-kings-xi-punjab-26th-match-501223/full-scorecard</td></tr><tr><td>MI</td><td>CSK</td><td>MI</td><td>8 runs</td><td>Wankhede</td><td>Apr 22, 2011</td><td>Twenty20</td><td>https://www.espncricinfo.com//series/indian-premier-league-2011-466304/mumbai-indians-vs-chennai-super-kings-25th-match-501221/full-scorecard</td></tr><tr><td>KKR</td><td>RCB</td><td>RCB</td><td>9 wickets</td><td>Eden Gardens</td><td>Apr 22, 2011</td><td>Twenty20</td><td>https://www.espncricinfo.com//series/indian-premier-league-2011-466304/kolkata-knight-riders-vs-royal-challengers-bangalore-24th-match-501222/full-scorecard</td></tr><tr><td>Kings XI</td><td>RR</td><td>Kings XI</td><td>48 runs</td><td>Mohali</td><td>Apr 21, 2011</td><td>Twenty20</td><td>https://www.espncricinfo.com//series/indian-premier-league-2011-466304/kings-xi-punjab-vs-rajasthan-royals-23rd-match-501220/full-scorecard</td></tr><tr><td>KKR</td><td>Kochi</td><td>Kochi</td><td>6 runs</td><td>Eden Gardens</td><td>Apr 20, 2011</td><td>Twenty20</td><td>https://www.espncricinfo.com//series/indian-premier-league-2011-466304/kolkata-knight-riders-vs-kochi-tuskers-kerala-22nd-match-501219/full-scorecard</td></tr><tr><td>MI</td><td>Warriors</td><td>MI</td><td>7 wickets</td><td>Wankhede</td><td>Apr 20, 2011</td><td>Twenty20</td><td>https://www.espncricinfo.com//series/indian-premier-league-2011-466304/mumbai-indians-vs-pune-warriors-21st-match-501218/full-scorecard</td></tr><tr><td>Daredevils</td><td>Chargers</td><td>Chargers</td><td>16 runs</td><td>Delhi</td><td>Apr 19, 2011</td><td>Twenty20</td><td>https://www.espncricinfo.com//series/indian-premier-league-2011-466304/delhi-daredevils-vs-deccan-chargers-19th-match-501216/full-scorecard</td></tr><tr><td>Kochi</td><td>CSK</td><td>Kochi</td><td>7 wickets</td><td>Kochi</td><td>Apr 18, 2011</td><td>Twenty20</td><td>https://www.espncricinfo.com//series/indian-premier-league-2011-466304/kochi-tuskers-kerala-vs-chennai-super-kings-18th-match-501215/full-scorecard</td></tr><tr><td>KKR</td><td>RR</td><td>KKR</td><td>8 wickets</td><td>Eden Gardens</td><td>Apr 17, 2011</td><td>Twenty20</td><td>https://www.espncricinfo.com//series/indian-premier-league-2011-466304/kolkata-knight-riders-vs-rajasthan-royals-17th-match-501214/full-scorecard</td></tr><tr><td>Warriors</td><td>Daredevils</td><td>Daredevils</td><td>3 wickets</td><td>DY Patil</td><td>Apr 17, 2011</td><td>Twenty20</td><td>https://www.espncricinfo.com//series/indian-premier-league-2011-466304/pune-warriors-vs-delhi-daredevils-16th-match-501213/full-scorecard</td></tr><tr><td>Chargers</td><td>Kings XI</td><td>Kings XI</td><td>8 wickets</td><td>Hyderabad</td><td>Apr 16, 2011</td><td>Twenty20</td><td>https://www.espncricinfo.com//series/indian-premier-league-2011-466304/deccan-chargers-vs-kings-xi-punjab-15th-match-501212/full-scorecard</td></tr><tr><td>CSK</td><td>RCB</td><td>CSK</td><td>21 runs</td><td>Chennai</td><td>Apr 16, 2011</td><td>Twenty20</td><td>https://www.espncricinfo.com//series/indian-premier-league-2011-466304/chennai-super-kings-vs-royal-challengers-bangalore-14th-match-501211/full-scorecard</td></tr><tr><td>MI</td><td>Kochi</td><td>Kochi</td><td>8 wickets</td><td>Wankhede</td><td>Apr 15, 2011</td><td>Twenty20</td><td>https://www.espncricinfo.com//series/indian-premier-league-2011-466304/mumbai-indians-vs-kochi-tuskers-kerala-13th-match-501210/full-scorecard</td></tr><tr><td>RR</td><td>KKR</td><td>KKR</td><td>9 wickets</td><td>Jaipur</td><td>Apr 15, 2011</td><td>Twenty20</td><td>https://www.espncricinfo.com//series/indian-premier-league-2011-466304/rajasthan-royals-vs-kolkata-knight-riders-12th-match-501209/full-scorecard</td></tr><tr><td>Chargers</td><td>RCB</td><td>Chargers</td><td>33 runs</td><td>Hyderabad</td><td>Apr 14, 2011</td><td>Twenty20</td><td>https://www.espncricinfo.com//series/indian-premier-league-2011-466304/deccan-chargers-vs-royal-challengers-bangalore-11th-match-501208/full-scorecard</td></tr><tr><td>Warriors</td><td>Kochi</td><td>Warriors</td><td>4 wickets</td><td>DY Patil</td><td>Apr 13, 2011</td><td>Twenty20</td><td>https://www.espncricinfo.com//series/indian-premier-league-2011-466304/pune-warriors-vs-kochi-tuskers-kerala-10th-match-501207/full-scorecard</td></tr><tr><td>Kings XI</td><td>CSK</td><td>Kings XI</td><td>6 wickets</td><td>Mohali</td><td>Apr 13, 2011</td><td>Twenty20</td><td>https://www.espncricinfo.com//series/indian-premier-league-2011-466304/kings-xi-punjab-vs-chennai-super-kings-9th-match-501206/full-scorecard</td></tr><tr><td>RCB</td><td>MI</td><td>MI</td><td>9 wickets</td><td>Bengaluru</td><td>Apr 12, 2011</td><td>Twenty20</td><td>https://www.espncricinfo.com//series/indian-premier-league-2011-466304/royal-challengers-bangalore-vs-mumbai-indians-8th-match-501205/full-scorecard</td></tr><tr><td>RR</td><td>Daredevils</td><td>RR</td><td>6 wickets</td><td>Jaipur</td><td>Apr 12, 2011</td><td>Twenty20</td><td>https://www.espncricinfo.com//series/indian-premier-league-2011-466304/rajasthan-royals-vs-delhi-daredevils-7th-match-501204/full-scorecard</td></tr><tr><td>KKR</td><td>Chargers</td><td>KKR</td><td>9 runs</td><td>Eden Gardens</td><td>Apr 11, 2011</td><td>Twenty20</td><td>https://www.espncricinfo.com//series/indian-premier-league-2011-466304/kolkata-knight-riders-vs-deccan-chargers-6th-match-501203/full-scorecard</td></tr><tr><td>Warriors</td><td>Kings XI</td><td>Warriors</td><td>7 wickets</td><td>DY Patil</td><td>Apr 10, 2011</td><td>Twenty20</td><td>https://www.espncricinfo.com//series/indian-premier-league-2011-466304/pune-warriors-vs-kings-xi-punjab-5th-match-501202/full-scorecard</td></tr><tr><td>Daredevils</td><td>MI</td><td>MI</td><td>8 wickets</td><td>Delhi</td><td>Apr 10, 2011</td><td>Twenty20</td><td>https://www.espncricinfo.com//series/indian-premier-league-2011-466304/delhi-daredevils-vs-mumbai-indians-4th-match-501201/full-scorecard</td></tr><tr><td>Kochi</td><td>RCB</td><td>RCB</td><td>6 wickets</td><td>Kochi</td><td>Apr 9, 2011</td><td>Twenty20</td><td>https://www.espncricinfo.com//series/indian-premier-league-2011-466304/kochi-tuskers-kerala-vs-royal-challengers-bangalore-3rd-match-501200/full-scorecard</td></tr><tr><td>Chargers</td><td>RR</td><td>RR</td><td>8 wickets</td><td>Hyderabad</td><td>Apr 9, 2011</td><td>Twenty20</td><td>https://www.espncricinfo.com//series/indian-premier-league-2011-466304/deccan-chargers-vs-rajasthan-royals-2nd-match-501199/full-scorecard</td></tr><tr><td>CSK</td><td>KKR</td><td>CSK</td><td>2 runs</td><td>Chennai</td><td>Apr 8, 2011</td><td>Twenty20</td><td>https://www.espncricinfo.com//series/indian-premier-league-2011-466304/chennai-super-kings-vs-kolkata-knight-riders-1st-match-501198/full-scorecard</td></tr><tr><td>MI</td><td>CSK</td><td>CSK</td><td>22 runs</td><td>DY Patil</td><td>Apr 25, 2010</td><td>Twenty20</td><td>https://www.espncricinfo.com//series/indian-premier-league-2009-10-418064/mumbai-indians-vs-chennai-super-kings-final-419165/full-scorecard</td></tr><tr><td>Chargers</td><td>RCB</td><td>RCB</td><td>9 wickets</td><td>DY Patil</td><td>Apr 24, 2010</td><td>Twenty20</td><td>https://www.espncricinfo.com//series/indian-premier-league-2009-10-418064/deccan-chargers-vs-royal-challengers-bangalore-3rd-place-play-off-419164/full-scorecard</td></tr><tr><td>CSK</td><td>Chargers</td><td>CSK</td><td>38 runs</td><td>DY Patil</td><td>Apr 22, 2010</td><td>Twenty20</td><td>https://www.espncricinfo.com//series/indian-premier-league-2009-10-418064/chennai-super-kings-vs-deccan-chargers-2nd-semi-final-419163/full-scorecard</td></tr><tr><td>MI</td><td>RCB</td><td>MI</td><td>35 runs</td><td>DY Patil</td><td>Apr 21, 2010</td><td>Twenty20</td><td>https://www.espncricinfo.com//series/indian-premier-league-2009-10-418064/mumbai-indians-vs-royal-challengers-bangalore-1st-semi-final-419162/full-scorecard</td></tr><tr><td>KKR</td><td>MI</td><td>KKR</td><td>9 wickets</td><td>Eden Gardens</td><td>Apr 19, 2010</td><td>Twenty20</td><td>https://www.espncricinfo.com//series/indian-premier-league-2009-10-418064/kolkata-knight-riders-vs-mumbai-indians-56th-match-419161/full-scorecard</td></tr><tr><td>Daredevils</td><td>Chargers</td><td>Chargers</td><td>11 runs</td><td>Delhi</td><td>Apr 18, 2010</td><td>Twenty20</td><td>https://www.espncricinfo.com//series/indian-premier-league-2009-10-418064/delhi-daredevils-vs-deccan-chargers-55th-match-419160/full-scorecard</td></tr><tr><td>Kings XI</td><td>CSK</td><td>CSK</td><td>6 wickets</td><td>Dharamsala</td><td>Apr 18, 2010</td><td>Twenty20</td><td>https://www.espncricinfo.com//series/indian-premier-league-2009-10-418064/kings-xi-punjab-vs-chennai-super-kings-54th-match-419159/full-scorecard</td></tr><tr><td>KKR</td><td>RR</td><td>KKR</td><td>8 wickets</td><td>Eden Gardens</td><td>Apr 17, 2010</td><td>Twenty20</td><td>https://www.espncricinfo.com//series/indian-premier-league-2009-10-418064/kolkata-knight-riders-vs-rajasthan-royals-53rd-match-419158/full-scorecard</td></tr><tr><td>RCB</td><td>MI</td><td>MI</td><td>57 runs</td><td>Bengaluru</td><td>Apr 17, 2010</td><td>Twenty20</td><td>https://www.espncricinfo.com//series/indian-premier-league-2009-10-418064/royal-challengers-bangalore-vs-mumbai-indians-52nd-match-419157/full-scorecard</td></tr><tr><td>Kings XI</td><td>Chargers</td><td>Chargers</td><td>5 wickets</td><td>Dharamsala</td><td>Apr 16, 2010</td><td>Twenty20</td><td>https://www.espncricinfo.com//series/indian-premier-league-2009-10-418064/kings-xi-punjab-vs-deccan-chargers-51st-match-419156/full-scorecard</td></tr><tr><td>CSK</td><td>Daredevils</td><td>Daredevils</td><td>6 wickets</td><td>Chennai</td><td>Apr 15, 2010</td><td>Twenty20</td><td>https://www.espncricinfo.com//series/indian-premier-league-2009-10-418064/chennai-super-kings-vs-delhi-daredevils-50th-match-419155/full-scorecard</td></tr><tr><td>RR</td><td>RCB</td><td>RCB</td><td>5 wickets</td><td>Jaipur</td><td>Apr 14, 2010</td><td>Twenty20</td><td>https://www.espncricinfo.com//series/indian-premier-league-2009-10-418064/rajasthan-royals-vs-royal-challengers-bangalore-49th-match-419154/full-scorecard</td></tr><tr><td>CSK</td><td>KKR</td><td>CSK</td><td>9 wickets</td><td>Chennai</td><td>Apr 13, 2010</td><td>Twenty20</td><td>https://www.espncricinfo.com//series/indian-premier-league-2009-10-418064/chennai-super-kings-vs-kolkata-knight-riders-48th-match-419153/full-scorecard</td></tr><tr><td>MI</td><td>Daredevils</td><td>MI</td><td>39 runs</td><td>Brabourne</td><td>Apr 13, 2010</td><td>Twenty20</td><td>https://www.espncricinfo.com//series/indian-premier-league-2009-10-418064/mumbai-indians-vs-delhi-daredevils-47th-match-419152/full-scorecard</td></tr><tr><td>Chargers</td><td>RCB</td><td>Chargers</td><td>13 runs</td><td>Nagpur</td><td>Apr 12, 2010</td><td>Twenty20</td><td>https://www.espncricinfo.com//series/indian-premier-league-2009-10-418064/deccan-chargers-vs-royal-challengers-bangalore-46th-match-419151/full-scorecard</td></tr><tr><td>RR</td><td>MI</td><td>MI</td><td>37 runs</td><td>Jaipur</td><td>Apr 11, 2010</td><td>Twenty20</td><td>https://www.espncricinfo.com//series/indian-premier-league-2009-10-418064/rajasthan-royals-vs-mumbai-indians-45th-match-419150/full-scorecard</td></tr><tr><td>Daredevils</td><td>Kings XI</td><td>Kings XI</td><td>7 wickets</td><td>Delhi</td><td>Apr 11, 2010</td><td>Twenty20</td><td>https://www.espncricinfo.com//series/indian-premier-league-2009-10-418064/delhi-daredevils-vs-kings-xi-punjab-44th-match-419149/full-scorecard</td></tr><tr><td>RCB</td><td>KKR</td><td>RCB</td><td>7 wickets</td><td>Bengaluru</td><td>Apr 10, 2010</td><td>Twenty20</td><td>https://www.espncricinfo.com//series/indian-premier-league-2009-10-418064/royal-challengers-bangalore-vs-kolkata-knight-riders-43rd-match-419148/full-scorecard</td></tr><tr><td>Chargers</td><td>CSK</td><td>Chargers</td><td>6 wickets</td><td>Nagpur</td><td>Apr 10, 2010</td><td>Twenty20</td><td>https://www.espncricinfo.com//series/indian-premier-league-2009-10-418064/deccan-chargers-vs-chennai-super-kings-42nd-match-419147/full-scorecard</td></tr><tr><td>Kings XI</td><td>MI</td><td>Kings XI</td><td>6 wickets</td><td>Mohali</td><td>Apr 9, 2010</td><td>Twenty20</td><td>https://www.espncricinfo.com//series/indian-premier-league-2009-10-418064/kings-xi-punjab-vs-mumbai-indians-41st-match-419146/full-scorecard</td></tr><tr><td>RCB</td><td>Chargers</td><td>Chargers</td><td>7 wickets</td><td>Bengaluru</td><td>Apr 8, 2010</td><td>Twenty20</td><td>https://www.espncricinfo.com//series/indian-premier-league-2009-10-418064/royal-challengers-bangalore-vs-deccan-chargers-40th-match-419145/full-scorecard</td></tr><tr><td>KKR</td><td>Daredevils</td><td>KKR</td><td>14 runs</td><td>Eden Gardens</td><td>Apr 7, 2010</td><td>Twenty20</td><td>https://www.espncricinfo.com//series/indian-premier-league-2009-10-418064/kolkata-knight-riders-vs-delhi-daredevils-39th-match-419144/full-scorecard</td></tr><tr><td>RR</td><td>Kings XI</td><td>RR</td><td>9 wickets</td><td>Jaipur</td><td>Apr 7, 2010</td><td>Twenty20</td><td>https://www.espncricinfo.com//series/indian-premier-league-2009-10-418064/rajasthan-royals-vs-kings-xi-punjab-38th-match-419143/full-scorecard</td></tr><tr><td>CSK</td><td>MI</td><td>CSK</td><td>24 runs</td><td>Chennai</td><td>Apr 6, 2010</td><td>Twenty20</td><td>https://www.espncricinfo.com//series/indian-premier-league-2009-10-418064/chennai-super-kings-vs-mumbai-indians-37th-match-419142/full-scorecard</td></tr><tr><td>Chargers</td><td>RR</td><td>RR</td><td>2 runs</td><td>Nagpur</td><td>Apr 5, 2010</td><td>Twenty20</td><td>https://www.espncricinfo.com//series/indian-premier-league-2009-10-418064/deccan-chargers-vs-rajasthan-royals-36th-match-419141/full-scorecard</td></tr><tr><td>Daredevils</td><td>RCB</td><td>Daredevils</td><td>37 runs</td><td>Delhi</td><td>Apr 4, 2010</td><td>Twenty20</td><td>https://www.espncricinfo.com//series/indian-premier-league-2009-10-418064/delhi-daredevils-vs-royal-challengers-bangalore-35th-match-419140/full-scorecard</td></tr><tr><td>KKR</td><td>Kings XI</td><td>Kings XI</td><td>8 wickets</td><td>Eden Gardens</td><td>Apr 4, 2010</td><td>Twenty20</td><td>https://www.espncricinfo.com//series/indian-premier-league-2009-10-418064/kolkata-knight-riders-vs-kings-xi-punjab-34th-match-419139/full-scorecard</td></tr><tr><td>MI</td><td>Chargers</td><td>MI</td><td>63 runs</td><td>Brabourne</td><td>Apr 3, 2010</td><td>Twenty20</td><td>https://www.espncricinfo.com//series/indian-premier-league-2009-10-418064/mumbai-indians-vs-deccan-chargers-33rd-match-419138/full-scorecard</td></tr><tr><td>CSK</td><td>RR</td><td>CSK</td><td>23 runs</td><td>Chennai</td><td>Apr 3, 2010</td><td>Twenty20</td><td>https://www.espncricinfo.com//series/indian-premier-league-2009-10-418064/chennai-super-kings-vs-rajasthan-royals-32nd-match-419137/full-scorecard</td></tr><tr><td>Kings XI</td><td>RCB</td><td>RCB</td><td>6 wickets</td><td>Mohali</td><td>Apr 2, 2010</td><td>Twenty20</td><td>https://www.espncricinfo.com//series/indian-premier-league-2009-10-418064/kings-xi-punjab-vs-royal-challengers-bangalore-31st-match-419136/full-scorecard</td></tr><tr><td>KKR</td><td>Chargers</td><td>KKR</td><td>24 runs</td><td>Eden Gardens</td><td>Apr 1, 2010</td><td>Twenty20</td><td>https://www.espncricinfo.com//series/indian-premier-league-2009-10-418064/kolkata-knight-riders-vs-deccan-chargers-30th-match-419135/full-scorecard</td></tr><tr><td>Daredevils</td><td>RR</td><td>Daredevils</td><td>67 runs</td><td>Delhi</td><td>Mar 31, 2010</td><td>Twenty20</td><td>https://www.espncricinfo.com//series/indian-premier-league-2009-10-418064/delhi-daredevils-vs-rajasthan-royals-29th-match-419134/full-scorecard</td></tr><tr><td>CSK</td><td>RCB</td><td>CSK</td><td>5 wickets</td><td>Chennai</td><td>Mar 31, 2010</td><td>Twenty20</td><td>https://www.espncricinfo.com//series/indian-premier-league-2009-10-418064/chennai-super-kings-vs-royal-challengers-bangalore-28th-match-419133/full-scorecard</td></tr><tr><td>MI</td><td>Kings XI</td><td>MI</td><td>4 wickets</td><td>Brabourne</td><td>Mar 30, 2010</td><td>Twenty20</td><td>https://www.espncricinfo.com//series/indian-premier-league-2009-10-418064/mumbai-indians-vs-kings-xi-punjab-27th-match-419132/full-scorecard</td></tr><tr><td>Daredevils</td><td>KKR</td><td>Daredevils</td><td>40 runs</td><td>Delhi</td><td>Mar 29, 2010</td><td>Twenty20</td><td>https://www.espncricinfo.com//series/indian-premier-league-2009-10-418064/delhi-daredevils-vs-kolkata-knight-riders-26th-match-419131/full-scorecard</td></tr><tr><td>Chargers</td><td>MI</td><td>MI</td><td>41 runs</td><td>DY Patil</td><td>Mar 28, 2010</td><td>Twenty20</td><td>https://www.espncricinfo.com//series/indian-premier-league-2009-10-418064/deccan-chargers-vs-mumbai-indians-25th-match-419130/full-scorecard</td></tr><tr><td>RR</td><td>CSK</td><td>RR</td><td>17 runs</td><td>Ahmedabad</td><td>Mar 28, 2010</td><td>Twenty20</td><td>https://www.espncricinfo.com//series/indian-premier-league-2009-10-418064/rajasthan-royals-vs-chennai-super-kings-24th-match-419129/full-scorecard</td></tr><tr><td>Kings XI</td><td>KKR</td><td>KKR</td><td>39 runs</td><td>Mohali</td><td>Mar 27, 2010</td><td>Twenty20</td><td>https://www.espncricinfo.com//series/indian-premier-league-2009-10-418064/kings-xi-punjab-vs-kolkata-knight-riders-23rd-match-419127/full-scorecard</td></tr><tr><td>RR</td><td>Chargers</td><td>RR</td><td>8 wickets</td><td>Ahmedabad</td><td>Mar 26, 2010</td><td>Twenty20</td><td>https://www.espncricinfo.com//series/indian-premier-league-2009-10-418064/rajasthan-royals-vs-deccan-chargers-22nd-match-419126/full-scorecard</td></tr><tr><td>MI</td><td>CSK</td><td>MI</td><td>5 wickets</td><td>Brabourne</td><td>Mar 25, 2010</td><td>Twenty20</td><td>https://www.espncricinfo.com//series/indian-premier-league-2009-10-418064/mumbai-indians-vs-chennai-super-kings-21st-match-419125/full-scorecard</td></tr><tr><td>RCB</td><td>Daredevils</td><td>Daredevils</td><td>17 runs</td><td>Bengaluru</td><td>Mar 25, 2010</td><td>Twenty20</td><td>https://www.espncricinfo.com//series/indian-premier-league-2009-10-418064/royal-challengers-bangalore-vs-delhi-daredevils-20th-match-419128/full-scorecard</td></tr><tr><td>Kings XI</td><td>RR</td><td>RR</td><td>31 runs</td><td>Mohali</td><td>Mar 24, 2010</td><td>Twenty20</td><td>https://www.espncricinfo.com//series/indian-premier-league-2009-10-418064/kings-xi-punjab-vs-rajasthan-royals-19th-match-419124/full-scorecard</td></tr><tr><td>RCB</td><td>CSK</td><td>RCB</td><td>36 runs</td><td>Bengaluru</td><td>Mar 23, 2010</td><td>Twenty20</td><td>https://www.espncricinfo.com//series/indian-premier-league-2009-10-418064/royal-challengers-bangalore-vs-chennai-super-kings-18th-match-419123/full-scorecard</td></tr><tr><td>MI</td><td>KKR</td><td>MI</td><td>7 wickets</td><td>Brabourne</td><td>Mar 22, 2010</td><td>Twenty20</td><td>https://www.espncricinfo.com//series/indian-premier-league-2009-10-418064/mumbai-indians-vs-kolkata-knight-riders-17th-match-419122/full-scorecard</td></tr><tr><td>CSK</td><td>Kings XI</td><td>tied</td><td>-</td><td>Chennai</td><td>Mar 21, 2010</td><td>Twenty20</td><td>https://www.espncricinfo.com//series/indian-premier-league-2009-10-418064/chennai-super-kings-vs-kings-xi-punjab-16th-match-419121/full-scorecard</td></tr><tr><td>Chargers</td><td>Daredevils</td><td>Chargers</td><td>10 runs</td><td>Cuttack</td><td>Mar 21, 2010</td><td>Twenty20</td><td>https://www.espncricinfo.com//series/indian-premier-league-2009-10-418064/deccan-chargers-vs-delhi-daredevils-15th-match-419120/full-scorecard</td></tr><tr><td>MI</td><td>RCB</td><td>RCB</td><td>7 wickets</td><td>Brabourne</td><td>Mar 20, 2010</td><td>Twenty20</td><td>https://www.espncricinfo.com//series/indian-premier-league-2009-10-418064/mumbai-indians-vs-royal-challengers-bangalore-14th-match-419119/full-scorecard</td></tr><tr><td>RR</td><td>KKR</td><td>RR</td><td>34 runs</td><td>Ahmedabad</td><td>Mar 20, 2010</td><td>Twenty20</td><td>https://www.espncricinfo.com//series/indian-premier-league-2009-10-418064/rajasthan-royals-vs-kolkata-knight-riders-13th-match-419118/full-scorecard</td></tr><tr><td>Chargers</td><td>Kings XI</td><td>Chargers</td><td>6 runs</td><td>Cuttack</td><td>Mar 19, 2010</td><td>Twenty20</td><td>https://www.espncricinfo.com//series/indian-premier-league-2009-10-418064/deccan-chargers-vs-kings-xi-punjab-12th-match-419117/full-scorecard</td></tr><tr><td>Daredevils</td><td>CSK</td><td>CSK</td><td>5 wickets</td><td>Delhi</td><td>Mar 19, 2010</td><td>Twenty20</td><td>https://www.espncricinfo.com//series/indian-premier-league-2009-10-418064/delhi-daredevils-vs-chennai-super-kings-11th-match-419116/full-scorecard</td></tr><tr><td>RCB</td><td>RR</td><td>RCB</td><td>10 wickets</td><td>Bengaluru</td><td>Mar 18, 2010</td><td>Twenty20</td><td>https://www.espncricinfo.com//series/indian-premier-league-2009-10-418064/royal-challengers-bangalore-vs-rajasthan-royals-10th-match-419115/full-scorecard</td></tr><tr><td>Daredevils</td><td>MI</td><td>MI</td><td>98 runs</td><td>Delhi</td><td>Mar 17, 2010</td><td>Twenty20</td><td>https://www.espncricinfo.com//series/indian-premier-league-2009-10-418064/delhi-daredevils-vs-mumbai-indians-9th-match-419114/full-scorecard</td></tr><tr><td>KKR</td><td>CSK</td><td>CSK</td><td>55 runs</td><td>Eden Gardens</td><td>Mar 16, 2010</td><td>Twenty20</td><td>https://www.espncricinfo.com//series/indian-premier-league-2009-10-418064/kolkata-knight-riders-vs-chennai-super-kings-8th-match-419113/full-scorecard</td></tr><tr><td>RCB</td><td>Kings XI</td><td>RCB</td><td>8 wickets</td><td>Bengaluru</td><td>Mar 16, 2010</td><td>Twenty20</td><td>https://www.espncricinfo.com//series/indian-premier-league-2009-10-418064/royal-challengers-bangalore-vs-kings-xi-punjab-7th-match-419112/full-scorecard</td></tr><tr><td>RR</td><td>Daredevils</td><td>Daredevils</td><td>6 wickets</td><td>Ahmedabad</td><td>Mar 15, 2010</td><td>Twenty20</td><td>https://www.espncricinfo.com//series/indian-premier-league-2009-10-418064/rajasthan-royals-vs-delhi-daredevils-6th-match-419111/full-scorecard</td></tr><tr><td>CSK</td><td>Chargers</td><td>Chargers</td><td>31 runs</td><td>Chennai</td><td>Mar 14, 2010</td><td>Twenty20</td><td>https://www.espncricinfo.com//series/indian-premier-league-2009-10-418064/chennai-super-kings-vs-deccan-chargers-5th-match-419110/full-scorecard</td></tr><tr><td>KKR</td><td>RCB</td><td>KKR</td><td>7 wickets</td><td>Eden Gardens</td><td>Mar 14, 2010</td><td>Twenty20</td><td>https://www.espncricinfo.com//series/indian-premier-league-2009-10-418064/kolkata-knight-riders-vs-royal-challengers-bangalore-4th-match-419109/full-scorecard</td></tr><tr><td>Kings XI</td><td>Daredevils</td><td>Daredevils</td><td>5 wickets</td><td>Mohali</td><td>Mar 13, 2010</td><td>Twenty20</td><td>https://www.espncricinfo.com//series/indian-premier-league-2009-10-418064/kings-xi-punjab-vs-delhi-daredevils-3rd-match-419108/full-scorecard</td></tr><tr><td>MI</td><td>RR</td><td>MI</td><td>4 runs</td><td>Brabourne</td><td>Mar 13, 2010</td><td>Twenty20</td><td>https://www.espncricinfo.com//series/indian-premier-league-2009-10-418064/mumbai-indians-vs-rajasthan-royals-2nd-match-419107/full-scorecard</td></tr><tr><td>Chargers</td><td>KKR</td><td>KKR</td><td>11 runs</td><td>DY Patil</td><td>Mar 12, 2010</td><td>Twenty20</td><td>https://www.espncricinfo.com//series/indian-premier-league-2009-10-418064/deccan-chargers-vs-kolkata-knight-riders-1st-match-419106/full-scorecard</td></tr><tr><td>Chargers</td><td>RCB</td><td>Chargers</td><td>6 runs</td><td>Johannesburg</td><td>May 24, 2009</td><td>Twenty20</td><td>https://www.espncricinfo.com//series/indian-premier-league-2009-374163/deccan-chargers-vs-royal-challengers-bangalore-final-392239/full-scorecard</td></tr><tr><td>CSK</td><td>RCB</td><td>RCB</td><td>6 wickets</td><td>Johannesburg</td><td>May 23, 2009</td><td>Twenty20</td><td>https://www.espncricinfo.com//series/indian-premier-league-2009-374163/chennai-super-kings-vs-royal-challengers-bangalore-2nd-semi-final-392238/full-scorecard</td></tr><tr><td>Chargers</td><td>Daredevils</td><td>Chargers</td><td>6 wickets</td><td>Centurion</td><td>May 22, 2009</td><td>Twenty20</td><td>https://www.espncricinfo.com//series/indian-premier-league-2009-374163/deccan-chargers-vs-delhi-daredevils-1st-semi-final-392237/full-scorecard</td></tr><tr><td>RCB</td><td>Chargers</td><td>RCB</td><td>12 runs</td><td>Centurion</td><td>May 21, 2009</td><td>Twenty20</td><td>https://www.espncricinfo.com//series/indian-premier-league-2009-374163/royal-challengers-bangalore-vs-deccan-chargers-56th-match-392236/full-scorecard</td></tr><tr><td>Daredevils</td><td>MI</td><td>Daredevils</td><td>4 wickets</td><td>Centurion</td><td>May 21, 2009</td><td>Twenty20</td><td>https://www.espncricinfo.com//series/indian-premier-league-2009-374163/delhi-daredevils-vs-mumbai-indians-55th-match-392235/full-scorecard</td></tr><tr><td>CSK</td><td>Kings XI</td><td>CSK</td><td>24 runs</td><td>Durban</td><td>May 20, 2009</td><td>Twenty20</td><td>https://www.espncricinfo.com//series/indian-premier-league-2009-374163/chennai-super-kings-vs-kings-xi-punjab-54th-match-392234/full-scorecard</td></tr><tr><td>KKR</td><td>RR</td><td>KKR</td><td>4 wickets</td><td>Durban</td><td>May 20, 2009</td><td>Twenty20</td><td>https://www.espncricinfo.com//series/indian-premier-league-2009-374163/kolkata-knight-riders-vs-rajasthan-royals-53rd-match-392233/full-scorecard</td></tr><tr><td>RCB</td><td>Daredevils</td><td>RCB</td><td>7 wickets</td><td>Johannesburg</td><td>May 19, 2009</td><td>Twenty20</td><td>https://www.espncricinfo.com//series/indian-premier-league-2009-374163/royal-challengers-bangalore-vs-delhi-daredevils-52nd-match-392232/full-scorecard</td></tr><tr><td>CSK</td><td>KKR</td><td>KKR</td><td>7 wickets</td><td>Centurion</td><td>May 18, 2009</td><td>Twenty20</td><td>https://www.espncricinfo.com//series/indian-premier-league-2009-374163/chennai-super-kings-vs-kolkata-knight-riders-51st-match-392231/full-scorecard</td></tr><tr><td>Daredevils</td><td>RR</td><td>Daredevils</td><td>14 runs</td><td>Bloemfontein</td><td>May 17, 2009</td><td>Twenty20</td><td>https://www.espncricinfo.com//series/indian-premier-league-2009-374163/delhi-daredevils-vs-rajasthan-royals-50th-match-392230/full-scorecard</td></tr><tr><td>Chargers</td><td>Kings XI</td><td>Kings XI</td><td>1 run</td><td>Johannesburg</td><td>May 17, 2009</td><td>Twenty20</td><td>https://www.espncricinfo.com//series/indian-premier-league-2009-374163/deccan-chargers-vs-kings-xi-punjab-49th-match-392229/full-scorecard</td></tr><tr><td>Chargers</td><td>KKR</td><td>Chargers</td><td>6 wickets</td><td>Johannesburg</td><td>May 16, 2009</td><td>Twenty20</td><td>https://www.espncricinfo.com//series/indian-premier-league-2009-374163/deccan-chargers-vs-kolkata-knight-riders-48th-match-392228/full-scorecard</td></tr><tr><td>CSK</td><td>MI</td><td>CSK</td><td>7 wickets</td><td>Gqeberha</td><td>May 16, 2009</td><td>Twenty20</td><td>https://www.espncricinfo.com//series/indian-premier-league-2009-374163/chennai-super-kings-vs-mumbai-indians-47th-match-392227/full-scorecard</td></tr><tr><td>Daredevils</td><td>Kings XI</td><td>Kings XI</td><td>6 wickets</td><td>Bloemfontein</td><td>May 15, 2009</td><td>Twenty20</td><td>https://www.espncricinfo.com//series/indian-premier-league-2009-374163/delhi-daredevils-vs-kings-xi-punjab-46th-match-392226/full-scorecard</td></tr><tr><td>MI</td><td>RR</td><td>RR</td><td>2 runs</td><td>Durban</td><td>May 14, 2009</td><td>Twenty20</td><td>https://www.espncricinfo.com//series/indian-premier-league-2009-374163/mumbai-indians-vs-rajasthan-royals-45th-match-392225/full-scorecard</td></tr><tr><td>RCB</td><td>CSK</td><td>RCB</td><td>2 wickets</td><td>Durban</td><td>May 14, 2009</td><td>Twenty20</td><td>https://www.espncricinfo.com//series/indian-premier-league-2009-374163/royal-challengers-bangalore-vs-chennai-super-kings-44th-match-392224/full-scorecard</td></tr><tr><td>Chargers</td><td>Daredevils</td><td>Daredevils</td><td>12 runs</td><td>Durban</td><td>May 13, 2009</td><td>Twenty20</td><td>https://www.espncricinfo.com//series/indian-premier-league-2009-374163/deccan-chargers-vs-delhi-daredevils-43rd-match-392223/full-scorecard</td></tr><tr><td>Kings XI</td><td>MI</td><td>MI</td><td>8 wickets</td><td>Centurion</td><td>May 12, 2009</td><td>Twenty20</td><td>https://www.espncricinfo.com//series/indian-premier-league-2009-374163/kings-xi-punjab-vs-mumbai-indians-42nd-match-392222/full-scorecard</td></tr><tr><td>RCB</td><td>KKR</td><td>RCB</td><td>6 wickets</td><td>Centurion</td><td>May 12, 2009</td><td>Twenty20</td><td>https://www.espncricinfo.com//series/indian-premier-league-2009-374163/royal-challengers-bangalore-vs-kolkata-knight-riders-41st-match-392221/full-scorecard</td></tr><tr><td>Chargers</td><td>RR</td><td>Chargers</td><td>53 runs</td><td>Kimberley</td><td>May 11, 2009</td><td>Twenty20</td><td>https://www.espncricinfo.com//series/indian-premier-league-2009-374163/deccan-chargers-vs-rajasthan-royals-40th-match-392220/full-scorecard</td></tr><tr><td>Daredevils</td><td>KKR</td><td>Daredevils</td><td>7 wickets</td><td>Johannesburg</td><td>May 10, 2009</td><td>Twenty20</td><td>https://www.espncricinfo.com//series/indian-premier-league-2009-374163/delhi-daredevils-vs-kolkata-knight-riders-39th-match-392219/full-scorecard</td></tr><tr><td>RCB</td><td>MI</td><td>MI</td><td>16 runs</td><td>Gqeberha</td><td>May 10, 2009</td><td>Twenty20</td><td>https://www.espncricinfo.com//series/indian-premier-league-2009-374163/royal-challengers-bangalore-vs-mumbai-indians-38th-match-392218/full-scorecard</td></tr><tr><td>CSK</td><td>RR</td><td>CSK</td><td>7 wickets</td><td>Kimberley</td><td>May 9, 2009</td><td>Twenty20</td><td>https://www.espncricinfo.com//series/indian-premier-league-2009-374163/chennai-super-kings-vs-rajasthan-royals-37th-match-392217/full-scorecard</td></tr><tr><td>Chargers</td><td>Kings XI</td><td>Kings XI</td><td>3 wickets</td><td>Kimberley</td><td>May 9, 2009</td><td>Twenty20</td><td>https://www.espncricinfo.com//series/indian-premier-league-2009-374163/deccan-chargers-vs-kings-xi-punjab-36th-match-392216/full-scorecard</td></tr><tr><td>Daredevils</td><td>MI</td><td>Daredevils</td><td>7 wickets</td><td>East London</td><td>May 8, 2009</td><td>Twenty20</td><td>https://www.espncricinfo.com//series/indian-premier-league-2009-374163/delhi-daredevils-vs-mumbai-indians-35th-match-392215/full-scorecard</td></tr><tr><td>CSK</td><td>Kings XI</td><td>CSK</td><td>12 runs</td><td>Centurion</td><td>May 7, 2009</td><td>Twenty20</td><td>https://www.espncricinfo.com//series/indian-premier-league-2009-374163/chennai-super-kings-vs-kings-xi-punjab-34th-match-392214/full-scorecard</td></tr><tr><td>RCB</td><td>RR</td><td>RR</td><td>7 wickets</td><td>Centurion</td><td>May 7, 2009</td><td>Twenty20</td><td>https://www.espncricinfo.com//series/indian-premier-league-2009-374163/royal-challengers-bangalore-vs-rajasthan-royals-33rd-match-392213/full-scorecard</td></tr><tr><td>Chargers</td><td>MI</td><td>Chargers</td><td>19 runs</td><td>Centurion</td><td>May 6, 2009</td><td>Twenty20</td><td>https://www.espncricinfo.com//series/indian-premier-league-2009-374163/deccan-chargers-vs-mumbai-indians-32nd-match-392212/full-scorecard</td></tr><tr><td>Daredevils</td><td>KKR</td><td>Daredevils</td><td>9 wickets</td><td>Durban</td><td>May 5, 2009</td><td>Twenty20</td><td>https://www.espncricinfo.com//series/indian-premier-league-2009-374163/delhi-daredevils-vs-kolkata-knight-riders-31st-match-392211/full-scorecard</td></tr><tr><td>Kings XI</td><td>RR</td><td>RR</td><td>78 runs</td><td>Durban</td><td>May 5, 2009</td><td>Twenty20</td><td>https://www.espncricinfo.com//series/indian-premier-league-2009-374163/kings-xi-punjab-vs-rajasthan-royals-30th-match-392210/full-scorecard</td></tr><tr><td>CSK</td><td>Chargers</td><td>CSK</td><td>78 runs</td><td>East London</td><td>May 4, 2009</td><td>Twenty20</td><td>https://www.espncricinfo.com//series/indian-premier-league-2009-374163/chennai-super-kings-vs-deccan-chargers-29th-match-392209/full-scorecard</td></tr><tr><td>RCB</td><td>MI</td><td>RCB</td><td>9 wickets</td><td>Johannesburg</td><td>May 3, 2009</td><td>Twenty20</td><td>https://www.espncricinfo.com//series/indian-premier-league-2009-374163/royal-challengers-bangalore-vs-mumbai-indians-28th-match-392208/full-scorecard</td></tr><tr><td>Kings XI</td><td>KKR</td><td>Kings XI</td><td>6 wickets</td><td>Gqeberha</td><td>May 3, 2009</td><td>Twenty20</td><td>https://www.espncricinfo.com//series/indian-premier-league-2009-374163/kings-xi-punjab-vs-kolkata-knight-riders-27th-match-392207/full-scorecard</td></tr><tr><td>CSK</td><td>Daredevils</td><td>CSK</td><td>18 runs</td><td>Johannesburg</td><td>May 2, 2009</td><td>Twenty20</td><td>https://www.espncricinfo.com//series/indian-premier-league-2009-374163/chennai-super-kings-vs-delhi-daredevils-26th-match-392206/full-scorecard</td></tr><tr><td>Chargers</td><td>RR</td><td>RR</td><td>3 wickets</td><td>Gqeberha</td><td>May 2, 2009</td><td>Twenty20</td><td>https://www.espncricinfo.com//series/indian-premier-league-2009-374163/deccan-chargers-vs-rajasthan-royals-25th-match-392205/full-scorecard</td></tr><tr><td>RCB</td><td>Kings XI</td><td>RCB</td><td>8 runs</td><td>Durban</td><td>May 1, 2009</td><td>Twenty20</td><td>https://www.espncricinfo.com//series/indian-premier-league-2009-374163/royal-challengers-bangalore-vs-kings-xi-punjab-24th-match-392204/full-scorecard</td></tr><tr><td>KKR</td><td>MI</td><td>MI</td><td>9 runs</td><td>East London</td><td>May 1, 2009</td><td>Twenty20</td><td>https://www.espncricinfo.com//series/indian-premier-league-2009-374163/kolkata-knight-riders-vs-mumbai-indians-23rd-match-392203/full-scorecard</td></tr><tr><td>CSK</td><td>RR</td><td>CSK</td><td>38 runs</td><td>Centurion</td><td>Apr 30, 2009</td><td>Twenty20</td><td>https://www.espncricinfo.com//series/indian-premier-league-2009-374163/chennai-super-kings-vs-rajasthan-royals-22nd-match-392202/full-scorecard</td></tr><tr><td>Chargers</td><td>Daredevils</td><td>Daredevils</td><td>6 wickets</td><td>Centurion</td><td>Apr 30, 2009</td><td>Twenty20</td><td>https://www.espncricinfo.com//series/indian-premier-league-2009-374163/deccan-chargers-vs-delhi-daredevils-21st-match-392201/full-scorecard</td></tr><tr><td>Kings XI</td><td>MI</td><td>Kings XI</td><td>3 runs</td><td>Durban</td><td>Apr 29, 2009</td><td>Twenty20</td><td>https://www.espncricinfo.com//series/indian-premier-league-2009-374163/kings-xi-punjab-vs-mumbai-indians-20th-match-392200/full-scorecard</td></tr><tr><td>RCB</td><td>KKR</td><td>RCB</td><td>5 wickets</td><td>Durban</td><td>Apr 29, 2009</td><td>Twenty20</td><td>https://www.espncricinfo.com//series/indian-premier-league-2009-374163/royal-challengers-bangalore-vs-kolkata-knight-riders-19th-match-392199/full-scorecard</td></tr><tr><td>Daredevils</td><td>RR</td><td>RR</td><td>5 wickets</td><td>Centurion</td><td>Apr 28, 2009</td><td>Twenty20</td><td>https://www.espncricinfo.com//series/indian-premier-league-2009-374163/delhi-daredevils-vs-rajasthan-royals-18th-match-392198/full-scorecard</td></tr><tr><td>KKR</td><td>MI</td><td>MI</td><td>92 runs</td><td>Gqeberha</td><td>Apr 27, 2009</td><td>Twenty20</td><td>https://www.espncricinfo.com//series/indian-premier-league-2009-374163/kolkata-knight-riders-vs-mumbai-indians-17th-match-392197/full-scorecard</td></tr><tr><td>CSK</td><td>Chargers</td><td>Chargers</td><td>6 wickets</td><td>Durban</td><td>Apr 27, 2009</td><td>Twenty20</td><td>https://www.espncricinfo.com//series/indian-premier-league-2009-374163/chennai-super-kings-vs-deccan-chargers-16th-match-392196/full-scorecard</td></tr><tr><td>Kings XI</td><td>RR</td><td>Kings XI</td><td>27 runs</td><td>Cape Town</td><td>Apr 26, 2009</td><td>Twenty20</td><td>https://www.espncricinfo.com//series/indian-premier-league-2009-374163/kings-xi-punjab-vs-rajasthan-royals-15th-match-392195/full-scorecard</td></tr><tr><td>RCB</td><td>Daredevils</td><td>Daredevils</td><td>6 wickets</td><td>Gqeberha</td><td>Apr 26, 2009</td><td>Twenty20</td><td>https://www.espncricinfo.com//series/indian-premier-league-2009-374163/royal-challengers-bangalore-vs-delhi-daredevils-14th-match-392194/full-scorecard</td></tr><tr><td>Chargers</td><td>MI</td><td>Chargers</td><td>12 runs</td><td>Durban</td><td>Apr 25, 2009</td><td>Twenty20</td><td>https://www.espncricinfo.com//series/indian-premier-league-2009-374163/deccan-chargers-vs-mumbai-indians-12th-match-392192/full-scorecard</td></tr><tr><td>RCB</td><td>Kings XI</td><td>Kings XI</td><td>7 wickets</td><td>Durban</td><td>Apr 24, 2009</td><td>Twenty20</td><td>https://www.espncricinfo.com//series/indian-premier-league-2009-374163/royal-challengers-bangalore-vs-kings-xi-punjab-11th-match-392191/full-scorecard</td></tr><tr><td>KKR</td><td>RR</td><td>tied</td><td>-</td><td>Cape Town</td><td>Apr 23, 2009</td><td>Twenty20</td><td>https://www.espncricinfo.com//series/indian-premier-league-2009-374163/kolkata-knight-riders-vs-rajasthan-royals-10th-match-392190/full-scorecard</td></tr><tr><td>CSK</td><td>Daredevils</td><td>Daredevils</td><td>9 runs</td><td>Durban</td><td>Apr 23, 2009</td><td>Twenty20</td><td>https://www.espncricinfo.com//series/indian-premier-league-2009-374163/chennai-super-kings-vs-delhi-daredevils-9th-match-392189/full-scorecard</td></tr><tr><td>RCB</td><td>Chargers</td><td>Chargers</td><td>24 runs</td><td>Cape Town</td><td>Apr 22, 2009</td><td>Twenty20</td><td>https://www.espncricinfo.com//series/indian-premier-league-2009-374163/royal-challengers-bangalore-vs-deccan-chargers-8th-match-392188/full-scorecard</td></tr><tr><td>Kings XI</td><td>KKR</td><td>KKR</td><td>11 runs</td><td>Durban</td><td>Apr 21, 2009</td><td>Twenty20</td><td>https://www.espncricinfo.com//series/indian-premier-league-2009-374163/kings-xi-punjab-vs-kolkata-knight-riders-6th-match-392186/full-scorecard</td></tr><tr><td>RCB</td><td>CSK</td><td>CSK</td><td>92 runs</td><td>Gqeberha</td><td>Apr 20, 2009</td><td>Twenty20</td><td>https://www.espncricinfo.com//series/indian-premier-league-2009-374163/royal-challengers-bangalore-vs-chennai-super-kings-5th-match-392185/full-scorecard</td></tr><tr><td>Chargers</td><td>KKR</td><td>Chargers</td><td>8 wickets</td><td>Cape Town</td><td>Apr 19, 2009</td><td>Twenty20</td><td>https://www.espncricinfo.com//series/indian-premier-league-2009-374163/deccan-chargers-vs-kolkata-knight-riders-4th-match-392184/full-scorecard</td></tr><tr><td>Daredevils</td><td>Kings XI</td><td>Daredevils</td><td>10 wickets</td><td>Cape Town</td><td>Apr 19, 2009</td><td>Twenty20</td><td>https://www.espncricinfo.com//series/indian-premier-league-2009-374163/delhi-daredevils-vs-kings-xi-punjab-3rd-match-392183/full-scorecard</td></tr><tr><td>RCB</td><td>RR</td><td>RCB</td><td>75 runs</td><td>Cape Town</td><td>Apr 18, 2009</td><td>Twenty20</td><td>https://www.espncricinfo.com//series/indian-premier-league-2009-374163/royal-challengers-bangalore-vs-rajasthan-royals-2nd-match-392182/full-scorecard</td></tr><tr><td>CSK</td><td>MI</td><td>MI</td><td>19 runs</td><td>Cape Town</td><td>Apr 18, 2009</td><td>Twenty20</td><td>https://www.espncricinfo.com//series/indian-premier-league-2009-374163/chennai-super-kings-vs-mumbai-indians-1st-match-392181/full-scorecard</td></tr><tr><td>CSK</td><td>RR</td><td>RR</td><td>3 wickets</td><td>DY Patil</td><td>Jun 1, 2008</td><td>Twenty20</td><td>https://www.espncricinfo.com//series/indian-premier-league-2007-08-313494/chennai-super-kings-vs-rajasthan-royals-final-336040/full-scorecard</td></tr><tr><td>CSK</td><td>Kings XI</td><td>CSK</td><td>9 wickets</td><td>Wankhede</td><td>May 31, 2008</td><td>Twenty20</td><td>https://www.espncricinfo.com//series/indian-premier-league-2007-08-313494/chennai-super-kings-vs-kings-xi-punjab-2nd-semi-final-336039/full-scorecard</td></tr><tr><td>Daredevils</td><td>RR</td><td>RR</td><td>105 runs</td><td>Wankhede</td><td>May 30, 2008</td><td>Twenty20</td><td>https://www.espncricinfo.com//series/indian-premier-league-2007-08-313494/delhi-daredevils-vs-rajasthan-royals-1st-semi-final-336038/full-scorecard</td></tr><tr><td>Kings XI</td><td>RR</td><td>Kings XI</td><td>41 runs</td><td>Mohali</td><td>May 28, 2008</td><td>Twenty20</td><td>https://www.espncricinfo.com//series/indian-premier-league-2007-08-313494/kings-xi-punjab-vs-rajasthan-royals-56th-match-336019/full-scorecard</td></tr><tr><td>RCB</td><td>MI</td><td>MI</td><td>9 wickets</td><td>Bengaluru</td><td>May 28, 2008</td><td>Twenty20</td><td>https://www.espncricinfo.com//series/indian-premier-league-2007-08-313494/royal-challengers-bangalore-vs-mumbai-indians-55th-match-336012/full-scorecard</td></tr><tr><td>Chargers</td><td>CSK</td><td>CSK</td><td>7 wickets</td><td>Hyderabad</td><td>May 27, 2008</td><td>Twenty20</td><td>https://www.espncricinfo.com//series/indian-premier-league-2007-08-313494/deccan-chargers-vs-chennai-super-kings-54th-match-336037/full-scorecard</td></tr><tr><td>RR</td><td>MI</td><td>RR</td><td>5 wickets</td><td>Jaipur</td><td>May 26, 2008</td><td>Twenty20</td><td>https://www.espncricinfo.com//series/indian-premier-league-2007-08-313494/rajasthan-royals-vs-mumbai-indians-53rd-match-336036/full-scorecard</td></tr><tr><td>KKR</td><td>Kings XI</td><td>KKR</td><td>3 wickets</td><td>Eden Gardens</td><td>May 25, 2008</td><td>Twenty20</td><td>https://www.espncricinfo.com//series/indian-premier-league-2007-08-313494/kolkata-knight-riders-vs-kings-xi-punjab-52nd-match-336035/full-scorecard</td></tr><tr><td>Chargers</td><td>RCB</td><td>RCB</td><td>5 wickets</td><td>Hyderabad</td><td>May 25, 2008</td><td>Twenty20</td><td>https://www.espncricinfo.com//series/indian-premier-league-2007-08-313494/deccan-chargers-vs-royal-challengers-bangalore-51st-match-336002/full-scorecard</td></tr><tr><td>Daredevils</td><td>MI</td><td>Daredevils</td><td>5 wickets</td><td>Delhi</td><td>May 24, 2008</td><td>Twenty20</td><td>https://www.espncricinfo.com//series/indian-premier-league-2007-08-313494/delhi-daredevils-vs-mumbai-indians-50th-match-336032/full-scorecard</td></tr><tr><td>CSK</td><td>RR</td><td>RR</td><td>10 runs</td><td>Chennai</td><td>May 24, 2008</td><td>Twenty20</td><td>https://www.espncricinfo.com//series/indian-premier-league-2007-08-313494/chennai-super-kings-vs-rajasthan-royals-49th-match-336033/full-scorecard</td></tr><tr><td>Kings XI</td><td>Chargers</td><td>Kings XI</td><td>6 wickets</td><td>Mohali</td><td>May 23, 2008</td><td>Twenty20</td><td>https://www.espncricinfo.com//series/indian-premier-league-2007-08-313494/kings-xi-punjab-vs-deccan-chargers-48th-match-336031/full-scorecard</td></tr><tr><td>CSK</td><td>RCB</td><td>RCB</td><td>14 runs</td><td>Chennai</td><td>May 21, 2008</td><td>Twenty20</td><td>https://www.espncricinfo.com//series/indian-premier-league-2007-08-313494/chennai-super-kings-vs-royal-challengers-bangalore-46th-match-336029/full-scorecard</td></tr><tr><td>MI</td><td>Kings XI</td><td>Kings XI</td><td>1 run</td><td>Wankhede</td><td>May 21, 2008</td><td>Twenty20</td><td>https://www.espncricinfo.com//series/indian-premier-league-2007-08-313494/mumbai-indians-vs-kings-xi-punjab-45th-match-336028/full-scorecard</td></tr><tr><td>KKR</td><td>RR</td><td>RR</td><td>6 wickets</td><td>Eden Gardens</td><td>May 20, 2008</td><td>Twenty20</td><td>https://www.espncricinfo.com//series/indian-premier-league-2007-08-313494/kolkata-knight-riders-vs-rajasthan-royals-44th-match-336027/full-scorecard</td></tr><tr><td>RCB</td><td>Daredevils</td><td>Daredevils</td><td>5 wickets</td><td>Bengaluru</td><td>May 19, 2008</td><td>Twenty20</td><td>https://www.espncricinfo.com//series/indian-premier-league-2007-08-313494/royal-challengers-bangalore-vs-delhi-daredevils-43rd-match-336026/full-scorecard</td></tr><tr><td>Chargers</td><td>MI</td><td>MI</td><td>25 runs</td><td>Hyderabad</td><td>May 18, 2008</td><td>Twenty20</td><td>https://www.espncricinfo.com//series/indian-premier-league-2007-08-313494/deccan-chargers-vs-mumbai-indians-42nd-match-336024/full-scorecard</td></tr><tr><td>KKR</td><td>CSK</td><td>CSK</td><td>3 runs</td><td>Eden Gardens</td><td>May 18, 2008</td><td>Twenty20</td><td>https://www.espncricinfo.com//series/indian-premier-league-2007-08-313494/kolkata-knight-riders-vs-chennai-super-kings-41st-match-336025/full-scorecard</td></tr><tr><td>Daredevils</td><td>Kings XI</td><td>Kings XI</td><td>6 runs</td><td>Delhi</td><td>May 17, 2008</td><td>Twenty20</td><td>https://www.espncricinfo.com//series/indian-premier-league-2007-08-313494/delhi-daredevils-vs-kings-xi-punjab-40th-match-336022/full-scorecard</td></tr><tr><td>RR</td><td>RCB</td><td>RR</td><td>65 runs</td><td>Jaipur</td><td>May 17, 2008</td><td>Twenty20</td><td>https://www.espncricinfo.com//series/indian-premier-league-2007-08-313494/rajasthan-royals-vs-royal-challengers-bangalore-39th-match-336023/full-scorecard</td></tr><tr><td>MI</td><td>KKR</td><td>MI</td><td>8 wickets</td><td>Wankhede</td><td>May 16, 2008</td><td>Twenty20</td><td>https://www.espncricinfo.com//series/indian-premier-league-2007-08-313494/mumbai-indians-vs-kolkata-knight-riders-38th-match-336021/full-scorecard</td></tr><tr><td>Daredevils</td><td>Chargers</td><td>Daredevils</td><td>12 runs</td><td>Delhi</td><td>May 15, 2008</td><td>Twenty20</td><td>https://www.espncricinfo.com//series/indian-premier-league-2007-08-313494/delhi-daredevils-vs-deccan-chargers-37th-match-336020/full-scorecard</td></tr><tr><td>MI</td><td>CSK</td><td>MI</td><td>9 wickets</td><td>Wankhede</td><td>May 14, 2008</td><td>Twenty20</td><td>https://www.espncricinfo.com//series/indian-premier-league-2007-08-313494/mumbai-indians-vs-chennai-super-kings-36th-match-336018/full-scorecard</td></tr><tr><td>KKR</td><td>Daredevils</td><td>KKR</td><td>23 runs</td><td>Eden Gardens</td><td>May 13, 2008</td><td>Twenty20</td><td>https://www.espncricinfo.com//series/indian-premier-league-2007-08-313494/kolkata-knight-riders-vs-delhi-daredevils-35th-match-336017/full-scorecard</td></tr><tr><td>Kings XI</td><td>RCB</td><td>Kings XI</td><td>9 wickets</td><td>Mohali</td><td>May 12, 2008</td><td>Twenty20</td><td>https://www.espncricinfo.com//series/indian-premier-league-2007-08-313494/kings-xi-punjab-vs-royal-challengers-bangalore-34th-match-336016/full-scorecard</td></tr><tr><td>RR</td><td>Daredevils</td><td>RR</td><td>3 wickets</td><td>Jaipur</td><td>May 11, 2008</td><td>Twenty20</td><td>https://www.espncricinfo.com//series/indian-premier-league-2007-08-313494/rajasthan-royals-vs-delhi-daredevils-33rd-match-336015/full-scorecard</td></tr><tr><td>Chargers</td><td>KKR</td><td>KKR</td><td>23 runs</td><td>Hyderabad</td><td>May 11, 2008</td><td>Twenty20</td><td>https://www.espncricinfo.com//series/indian-premier-league-2007-08-313494/deccan-chargers-vs-kolkata-knight-riders-32nd-match-336014/full-scorecard</td></tr><tr><td>CSK</td><td>Kings XI</td><td>CSK</td><td>18 runs</td><td>Chennai</td><td>May 10, 2008</td><td>Twenty20</td><td>https://www.espncricinfo.com//series/indian-premier-league-2007-08-313494/chennai-super-kings-vs-kings-xi-punjab-31st-match-336013/full-scorecard</td></tr><tr><td>RR</td><td>Chargers</td><td>RR</td><td>8 wickets</td><td>Jaipur</td><td>May 9, 2008</td><td>Twenty20</td><td>https://www.espncricinfo.com//series/indian-premier-league-2007-08-313494/rajasthan-royals-vs-deccan-chargers-30th-match-336011/full-scorecard</td></tr><tr><td>KKR</td><td>RCB</td><td>KKR</td><td>5 runs</td><td>Eden Gardens</td><td>May 8, 2008</td><td>Twenty20</td><td>https://www.espncricinfo.com//series/indian-premier-league-2007-08-313494/kolkata-knight-riders-vs-royal-challengers-bangalore-29th-match-336010/full-scorecard</td></tr><tr><td>Daredevils</td><td>CSK</td><td>CSK</td><td>4 wickets</td><td>Delhi</td><td>May 8, 2008</td><td>Twenty20</td><td>https://www.espncricinfo.com//series/indian-premier-league-2007-08-313494/delhi-daredevils-vs-chennai-super-kings-28th-match-336009/full-scorecard</td></tr><tr><td>MI</td><td>RR</td><td>MI</td><td>7 wickets</td><td>DY Patil</td><td>May 7, 2008</td><td>Twenty20</td><td>https://www.espncricinfo.com//series/indian-premier-league-2007-08-313494/mumbai-indians-vs-rajasthan-royals-27th-match-336008/full-scorecard</td></tr><tr><td>CSK</td><td>Chargers</td><td>Chargers</td><td>7 wickets</td><td>Chennai</td><td>May 6, 2008</td><td>Twenty20</td><td>https://www.espncricinfo.com//series/indian-premier-league-2007-08-313494/chennai-super-kings-vs-deccan-chargers-26th-match-336007/full-scorecard</td></tr><tr><td>RCB</td><td>Kings XI</td><td>Kings XI</td><td>6 wickets</td><td>Bengaluru</td><td>May 5, 2008</td><td>Twenty20</td><td>https://www.espncricinfo.com//series/indian-premier-league-2007-08-313494/royal-challengers-bangalore-vs-kings-xi-punjab-25th-match-336006/full-scorecard</td></tr><tr><td>RR</td><td>CSK</td><td>RR</td><td>8 wickets</td><td>Jaipur</td><td>May 4, 2008</td><td>Twenty20</td><td>https://www.espncricinfo.com//series/indian-premier-league-2007-08-313494/rajasthan-royals-vs-chennai-super-kings-24th-match-336005/full-scorecard</td></tr><tr><td>MI</td><td>Daredevils</td><td>MI</td><td>29 runs</td><td>DY Patil</td><td>May 4, 2008</td><td>Twenty20</td><td>https://www.espncricinfo.com//series/indian-premier-league-2007-08-313494/mumbai-indians-vs-delhi-daredevils-23rd-match-336004/full-scorecard</td></tr><tr><td>Kings XI</td><td>KKR</td><td>Kings XI</td><td>9 runs</td><td>Mohali</td><td>May 3, 2008</td><td>Twenty20</td><td>https://www.espncricinfo.com//series/indian-premier-league-2007-08-313494/kings-xi-punjab-vs-kolkata-knight-riders-22nd-match-336003/full-scorecard</td></tr><tr><td>RCB</td><td>Chargers</td><td>RCB</td><td>3 runs</td><td>Bengaluru</td><td>May 3, 2008</td><td>Twenty20</td><td>https://www.espncricinfo.com//series/indian-premier-league-2007-08-313494/royal-challengers-bangalore-vs-deccan-chargers-21st-match-336034/full-scorecard</td></tr><tr><td>CSK</td><td>Daredevils</td><td>Daredevils</td><td>8 wickets</td><td>Chennai</td><td>May 2, 2008</td><td>Twenty20</td><td>https://www.espncricinfo.com//series/indian-premier-league-2007-08-313494/chennai-super-kings-vs-delhi-daredevils-20th-match-336001/full-scorecard</td></tr><tr><td>Chargers</td><td>Kings XI</td><td>Kings XI</td><td>7 wickets</td><td>Hyderabad</td><td>May 1, 2008</td><td>Twenty20</td><td>https://www.espncricinfo.com//series/indian-premier-league-2007-08-313494/deccan-chargers-vs-kings-xi-punjab-19th-match-335999/full-scorecard</td></tr><tr><td>RR</td><td>KKR</td><td>RR</td><td>45 runs</td><td>Jaipur</td><td>May 1, 2008</td><td>Twenty20</td><td>https://www.espncricinfo.com//series/indian-premier-league-2007-08-313494/rajasthan-royals-vs-kolkata-knight-riders-18th-match-336000/full-scorecard</td></tr><tr><td>Daredevils</td><td>RCB</td><td>Daredevils</td><td>10 runs</td><td>Delhi</td><td>Apr 30, 2008</td><td>Twenty20</td><td>https://www.espncricinfo.com//series/indian-premier-league-2007-08-313494/delhi-daredevils-vs-royal-challengers-bangalore-17th-match-335998/full-scorecard</td></tr><tr><td>KKR</td><td>MI</td><td>MI</td><td>7 wickets</td><td>Eden Gardens</td><td>Apr 29, 2008</td><td>Twenty20</td><td>https://www.espncricinfo.com//series/indian-premier-league-2007-08-313494/kolkata-knight-riders-vs-mumbai-indians-16th-match-335997/full-scorecard</td></tr><tr><td>RCB</td><td>CSK</td><td>CSK</td><td>13 runs</td><td>Bengaluru</td><td>Apr 28, 2008</td><td>Twenty20</td><td>https://www.espncricinfo.com//series/indian-premier-league-2007-08-313494/royal-challengers-bangalore-vs-chennai-super-kings-15th-match-335996/full-scorecard</td></tr><tr><td>MI</td><td>Chargers</td><td>Chargers</td><td>10 wickets</td><td>DY Patil</td><td>Apr 27, 2008</td><td>Twenty20</td><td>https://www.espncricinfo.com//series/indian-premier-league-2007-08-313494/mumbai-indians-vs-deccan-chargers-14th-match-335994/full-scorecard</td></tr><tr><td>Kings XI</td><td>Daredevils</td><td>Kings XI</td><td>4 wickets</td><td>Mohali</td><td>Apr 27, 2008</td><td>Twenty20</td><td>https://www.espncricinfo.com//series/indian-premier-league-2007-08-313494/kings-xi-punjab-vs-delhi-daredevils-13th-match-335995/full-scorecard</td></tr><tr><td>RCB</td><td>RR</td><td>RR</td><td>7 wickets</td><td>Bengaluru</td><td>Apr 26, 2008</td><td>Twenty20</td><td>https://www.espncricinfo.com//series/indian-premier-league-2007-08-313494/royal-challengers-bangalore-vs-rajasthan-royals-12th-match-335992/full-scorecard</td></tr><tr><td>CSK</td><td>KKR</td><td>CSK</td><td>9 wickets</td><td>Chennai</td><td>Apr 26, 2008</td><td>Twenty20</td><td>https://www.espncricinfo.com//series/indian-premier-league-2007-08-313494/chennai-super-kings-vs-kolkata-knight-riders-11th-match-335993/full-scorecard</td></tr><tr><td>Kings XI</td><td>MI</td><td>Kings XI</td><td>66 runs</td><td>Mohali</td><td>Apr 25, 2008</td><td>Twenty20</td><td>https://www.espncricinfo.com//series/indian-premier-league-2007-08-313494/kings-xi-punjab-vs-mumbai-indians-10th-match-335991/full-scorecard</td></tr><tr><td>Chargers</td><td>RR</td><td>RR</td><td>3 wickets</td><td>Hyderabad</td><td>Apr 24, 2008</td><td>Twenty20</td><td>https://www.espncricinfo.com//series/indian-premier-league-2007-08-313494/deccan-chargers-vs-rajasthan-royals-9th-match-335990/full-scorecard</td></tr><tr><td>CSK</td><td>MI</td><td>CSK</td><td>6 runs</td><td>Chennai</td><td>Apr 23, 2008</td><td>Twenty20</td><td>https://www.espncricinfo.com//series/indian-premier-league-2007-08-313494/chennai-super-kings-vs-mumbai-indians-8th-match-335989/full-scorecard</td></tr><tr><td>Chargers</td><td>Daredevils</td><td>Daredevils</td><td>9 wickets</td><td>Hyderabad</td><td>Apr 22, 2008</td><td>Twenty20</td><td>https://www.espncricinfo.com//series/indian-premier-league-2007-08-313494/deccan-chargers-vs-delhi-daredevils-7th-match-335988/full-scorecard</td></tr><tr><td>RR</td><td>Kings XI</td><td>RR</td><td>6 wickets</td><td>Jaipur</td><td>Apr 21, 2008</td><td>Twenty20</td><td>https://www.espncricinfo.com//series/indian-premier-league-2007-08-313494/rajasthan-royals-vs-kings-xi-punjab-6th-match-335987/full-scorecard</td></tr><tr><td>MI</td><td>RCB</td><td>RCB</td><td>5 wickets</td><td>Wankhede</td><td>Apr 20, 2008</td><td>Twenty20</td><td>https://www.espncricinfo.com//series/indian-premier-league-2007-08-313494/mumbai-indians-vs-royal-challengers-bangalore-5th-match-335985/full-scorecard</td></tr><tr><td>KKR</td><td>Chargers</td><td>KKR</td><td>5 wickets</td><td>Eden Gardens</td><td>Apr 20, 2008</td><td>Twenty20</td><td>https://www.espncricinfo.com//series/indian-premier-league-2007-08-313494/kolkata-knight-riders-vs-deccan-chargers-4th-match-335986/full-scorecard</td></tr><tr><td>Daredevils</td><td>RR</td><td>Daredevils</td><td>9 wickets</td><td>Delhi</td><td>Apr 19, 2008</td><td>Twenty20</td><td>https://www.espncricinfo.com//series/indian-premier-league-2007-08-313494/delhi-daredevils-vs-rajasthan-royals-3rd-match-335984/full-scorecard</td></tr><tr><td>Kings XI</td><td>CSK</td><td>CSK</td><td>33 runs</td><td>Mohali</td><td>Apr 19, 2008</td><td>Twenty20</td><td>https://www.espncricinfo.com//series/indian-premier-league-2007-08-313494/kings-xi-punjab-vs-chennai-super-kings-2nd-match-335983/full-scorecard</td></tr><tr><td>RCB</td><td>KKR</td><td>KKR</td><td>140 runs</td><td>Bengaluru</td><td>Apr 18, 2008</td><td>Twenty20</td><td>https://www.espncricinfo.com//series/indian-premier-league-2007-08-313494/royal-challengers-bangalore-vs-kolkata-knight-riders-1st-match-335982/full-scorecard</td></tr></tbody></table></div>"
      ]
     },
     "metadata": {
      "application/vnd.databricks.v1+output": {
       "addedWidgets": {},
       "aggData": [],
       "aggError": "",
       "aggOverflow": false,
       "aggSchema": [],
       "aggSeriesLimitReached": false,
       "aggType": "",
       "arguments": {},
       "columnCustomDisplayInfos": {},
       "data": [
        [
         "CSK",
         "KKR",
         "CSK",
         "7 wickets",
         "Chennai",
         "Apr 8, 2024",
         "Twenty20",
         "https://www.espncricinfo.com//series/indian-premier-league-2024-1410320/chennai-super-kings-vs-kolkata-knight-riders-22nd-match-1426260/full-scorecard"
        ],
        [
         "LSG",
         "GT",
         "LSG",
         "33 runs",
         "Lucknow",
         "Apr 7, 2024",
         "Twenty20",
         "https://www.espncricinfo.com//series/indian-premier-league-2024-1410320/lucknow-super-giants-vs-gujarat-titans-21st-match-1422139/full-scorecard"
        ],
        [
         "MI",
         "DC",
         "MI",
         "29 runs",
         "Wankhede",
         "Apr 7, 2024",
         "Twenty20",
         "https://www.espncricinfo.com//series/indian-premier-league-2024-1410320/mumbai-indians-vs-delhi-capitals-20th-match-1422138/full-scorecard"
        ],
        [
         "RR",
         "RCB",
         "RR",
         "6 wickets",
         "Jaipur",
         "Apr 6, 2024",
         "Twenty20",
         "https://www.espncricinfo.com//series/indian-premier-league-2024-1410320/rajasthan-royals-vs-royal-challengers-bengaluru-19th-match-1422137/full-scorecard"
        ],
        [
         "SRH",
         "CSK",
         "SRH",
         "6 wickets",
         "Hyderabad",
         "Apr 5, 2024",
         "Twenty20",
         "https://www.espncricinfo.com//series/indian-premier-league-2024-1410320/sunrisers-hyderabad-vs-chennai-super-kings-18th-match-1422136/full-scorecard"
        ],
        [
         "GT",
         "Punjab Kings",
         "Punjab Kings",
         "3 wickets",
         "Ahmedabad",
         "Apr 4, 2024",
         "Twenty20",
         "https://www.espncricinfo.com//series/indian-premier-league-2024-1410320/gujarat-titans-vs-punjab-kings-17th-match-1422135/full-scorecard"
        ],
        [
         "DC",
         "KKR",
         "KKR",
         "106 runs",
         "Visakhapatnam",
         "Apr 3, 2024",
         "Twenty20",
         "https://www.espncricinfo.com//series/indian-premier-league-2024-1410320/delhi-capitals-vs-kolkata-knight-riders-16th-match-1422134/full-scorecard"
        ],
        [
         "RCB",
         "LSG",
         "LSG",
         "28 runs",
         "Bengaluru",
         "Apr 2, 2024",
         "Twenty20",
         "https://www.espncricinfo.com//series/indian-premier-league-2024-1410320/royal-challengers-bengaluru-vs-lucknow-super-giants-15th-match-1422133/full-scorecard"
        ],
        [
         "MI",
         "RR",
         "RR",
         "6 wickets",
         "Wankhede",
         "Apr 1, 2024",
         "Twenty20",
         "https://www.espncricinfo.com//series/indian-premier-league-2024-1410320/mumbai-indians-vs-rajasthan-royals-14th-match-1422132/full-scorecard"
        ],
        [
         "DC",
         "CSK",
         "DC",
         "20 runs",
         "Visakhapatnam",
         "Mar 31, 2024",
         "Twenty20",
         "https://www.espncricinfo.com//series/indian-premier-league-2024-1410320/delhi-capitals-vs-chennai-super-kings-13th-match-1422131/full-scorecard"
        ],
        [
         "GT",
         "SRH",
         "GT",
         "7 wickets",
         "Ahmedabad",
         "Mar 31, 2024",
         "Twenty20",
         "https://www.espncricinfo.com//series/indian-premier-league-2024-1410320/gujarat-titans-vs-sunrisers-hyderabad-12th-match-1422130/full-scorecard"
        ],
        [
         "LSG",
         "Punjab Kings",
         "LSG",
         "21 runs",
         "Lucknow",
         "Mar 30, 2024",
         "Twenty20",
         "https://www.espncricinfo.com//series/indian-premier-league-2024-1410320/lucknow-super-giants-vs-punjab-kings-11th-match-1422129/full-scorecard"
        ],
        [
         "RCB",
         "KKR",
         "KKR",
         "7 wickets",
         "Bengaluru",
         "Mar 29, 2024",
         "Twenty20",
         "https://www.espncricinfo.com//series/indian-premier-league-2024-1410320/royal-challengers-bengaluru-vs-kolkata-knight-riders-10th-match-1422128/full-scorecard"
        ],
        [
         "RR",
         "DC",
         "RR",
         "12 runs",
         "Jaipur",
         "Mar 28, 2024",
         "Twenty20",
         "https://www.espncricinfo.com//series/indian-premier-league-2024-1410320/rajasthan-royals-vs-delhi-capitals-9th-match-1422127/full-scorecard"
        ],
        [
         "SRH",
         "MI",
         "SRH",
         "31 runs",
         "Hyderabad",
         "Mar 27, 2024",
         "Twenty20",
         "https://www.espncricinfo.com//series/indian-premier-league-2024-1410320/sunrisers-hyderabad-vs-mumbai-indians-8th-match-1422126/full-scorecard"
        ],
        [
         "CSK",
         "GT",
         "CSK",
         "63 runs",
         "Chennai",
         "Mar 26, 2024",
         "Twenty20",
         "https://www.espncricinfo.com//series/indian-premier-league-2024-1410320/chennai-super-kings-vs-gujarat-titans-7th-match-1422125/full-scorecard"
        ],
        [
         "RCB",
         "Punjab Kings",
         "RCB",
         "4 wickets",
         "Bengaluru",
         "Mar 25, 2024",
         "Twenty20",
         "https://www.espncricinfo.com//series/indian-premier-league-2024-1410320/royal-challengers-bengaluru-vs-punjab-kings-6th-match-1422124/full-scorecard"
        ],
        [
         "GT",
         "MI",
         "GT",
         "6 runs",
         "Ahmedabad",
         "Mar 24, 2024",
         "Twenty20",
         "https://www.espncricinfo.com//series/indian-premier-league-2024-1410320/gujarat-titans-vs-mumbai-indians-5th-match-1422123/full-scorecard"
        ],
        [
         "RR",
         "LSG",
         "RR",
         "20 runs",
         "Jaipur",
         "Mar 24, 2024",
         "Twenty20",
         "https://www.espncricinfo.com//series/indian-premier-league-2024-1410320/rajasthan-royals-vs-lucknow-super-giants-4th-match-1422122/full-scorecard"
        ],
        [
         "KKR",
         "SRH",
         "KKR",
         "4 runs",
         "Eden Gardens",
         "Mar 23, 2024",
         "Twenty20",
         "https://www.espncricinfo.com//series/indian-premier-league-2024-1410320/kolkata-knight-riders-vs-sunrisers-hyderabad-3rd-match-1422121/full-scorecard"
        ],
        [
         "Punjab Kings",
         "DC",
         "Punjab Kings",
         "4 wickets",
         "Mullanpur",
         "Mar 23, 2024",
         "Twenty20",
         "https://www.espncricinfo.com//series/indian-premier-league-2024-1410320/punjab-kings-vs-delhi-capitals-2nd-match-1422120/full-scorecard"
        ],
        [
         "CSK",
         "RCB",
         "CSK",
         "6 wickets",
         "Chennai",
         "Mar 22, 2024",
         "Twenty20",
         "https://www.espncricinfo.com//series/indian-premier-league-2024-1410320/chennai-super-kings-vs-royal-challengers-bengaluru-1st-match-1422119/full-scorecard"
        ],
        [
         "GT",
         "CSK",
         "CSK",
         "5 wickets",
         "Ahmedabad",
         "May 28-29, 2023",
         "Twenty20",
         "https://www.espncricinfo.com//series/indian-premier-league-2023-1345038/gujarat-titans-vs-chennai-super-kings-final-1370353/full-scorecard"
        ],
        [
         "GT",
         "MI",
         "GT",
         "62 runs",
         "Ahmedabad",
         "May 26, 2023",
         "Twenty20",
         "https://www.espncricinfo.com//series/indian-premier-league-2023-1345038/gujarat-titans-vs-mumbai-indians-qualifier-2-1370352/full-scorecard"
        ],
        [
         "LSG",
         "MI",
         "MI",
         "81 runs",
         "Chennai",
         "May 24, 2023",
         "Twenty20",
         "https://www.espncricinfo.com//series/indian-premier-league-2023-1345038/lucknow-super-giants-vs-mumbai-indians-eliminator-1370351/full-scorecard"
        ],
        [
         "CSK",
         "GT",
         "CSK",
         "15 runs",
         "Chennai",
         "May 23, 2023",
         "Twenty20",
         "https://www.espncricinfo.com//series/indian-premier-league-2023-1345038/chennai-super-kings-vs-gujarat-titans-qualifier-1-1370350/full-scorecard"
        ],
        [
         "RCB",
         "GT",
         "GT",
         "6 wickets",
         "Bengaluru",
         "May 21, 2023",
         "Twenty20",
         "https://www.espncricinfo.com//series/indian-premier-league-2023-1345038/royal-challengers-bangalore-vs-gujarat-titans-70th-match-1359544/full-scorecard"
        ],
        [
         "MI",
         "SRH",
         "MI",
         "8 wickets",
         "Wankhede",
         "May 21, 2023",
         "Twenty20",
         "https://www.espncricinfo.com//series/indian-premier-league-2023-1345038/mumbai-indians-vs-sunrisers-hyderabad-69th-match-1359543/full-scorecard"
        ],
        [
         "KKR",
         "LSG",
         "LSG",
         "1 run",
         "Eden Gardens",
         "May 20, 2023",
         "Twenty20",
         "https://www.espncricinfo.com//series/indian-premier-league-2023-1345038/kolkata-knight-riders-vs-lucknow-super-giants-68th-match-1359542/full-scorecard"
        ],
        [
         "DC",
         "CSK",
         "CSK",
         "77 runs",
         "Delhi",
         "May 20, 2023",
         "Twenty20",
         "https://www.espncricinfo.com//series/indian-premier-league-2023-1345038/delhi-capitals-vs-chennai-super-kings-67th-match-1359541/full-scorecard"
        ],
        [
         "Punjab Kings",
         "RR",
         "RR",
         "4 wickets",
         "Dharamsala",
         "May 19, 2023",
         "Twenty20",
         "https://www.espncricinfo.com//series/indian-premier-league-2023-1345038/punjab-kings-vs-rajasthan-royals-66th-match-1359540/full-scorecard"
        ],
        [
         "SRH",
         "RCB",
         "RCB",
         "8 wickets",
         "Hyderabad",
         "May 18, 2023",
         "Twenty20",
         "https://www.espncricinfo.com//series/indian-premier-league-2023-1345038/sunrisers-hyderabad-vs-royal-challengers-bangalore-65th-match-1359539/full-scorecard"
        ],
        [
         "Punjab Kings",
         "DC",
         "DC",
         "15 runs",
         "Dharamsala",
         "May 17, 2023",
         "Twenty20",
         "https://www.espncricinfo.com//series/indian-premier-league-2023-1345038/punjab-kings-vs-delhi-capitals-64th-match-1359538/full-scorecard"
        ],
        [
         "LSG",
         "MI",
         "LSG",
         "5 runs",
         "Lucknow",
         "May 16, 2023",
         "Twenty20",
         "https://www.espncricinfo.com//series/indian-premier-league-2023-1345038/lucknow-super-giants-vs-mumbai-indians-63rd-match-1359537/full-scorecard"
        ],
        [
         "GT",
         "SRH",
         "GT",
         "34 runs",
         "Ahmedabad",
         "May 15, 2023",
         "Twenty20",
         "https://www.espncricinfo.com//series/indian-premier-league-2023-1345038/gujarat-titans-vs-sunrisers-hyderabad-62nd-match-1359536/full-scorecard"
        ],
        [
         "CSK",
         "KKR",
         "KKR",
         "6 wickets",
         "Chennai",
         "May 14, 2023",
         "Twenty20",
         "https://www.espncricinfo.com//series/indian-premier-league-2023-1345038/chennai-super-kings-vs-kolkata-knight-riders-61st-match-1359535/full-scorecard"
        ],
        [
         "RR",
         "RCB",
         "RCB",
         "112 runs",
         "Jaipur",
         "May 14, 2023",
         "Twenty20",
         "https://www.espncricinfo.com//series/indian-premier-league-2023-1345038/rajasthan-royals-vs-royal-challengers-bangalore-60th-match-1359534/full-scorecard"
        ],
        [
         "DC",
         "Punjab Kings",
         "Punjab Kings",
         "31 runs",
         "Delhi",
         "May 13, 2023",
         "Twenty20",
         "https://www.espncricinfo.com//series/indian-premier-league-2023-1345038/delhi-capitals-vs-punjab-kings-59th-match-1359533/full-scorecard"
        ],
        [
         "SRH",
         "LSG",
         "LSG",
         "7 wickets",
         "Hyderabad",
         "May 13, 2023",
         "Twenty20",
         "https://www.espncricinfo.com//series/indian-premier-league-2023-1345038/sunrisers-hyderabad-vs-lucknow-super-giants-58th-match-1359532/full-scorecard"
        ],
        [
         "MI",
         "GT",
         "MI",
         "27 runs",
         "Wankhede",
         "May 12, 2023",
         "Twenty20",
         "https://www.espncricinfo.com//series/indian-premier-league-2023-1345038/mumbai-indians-vs-gujarat-titans-57th-match-1359531/full-scorecard"
        ],
        [
         "KKR",
         "RR",
         "RR",
         "9 wickets",
         "Eden Gardens",
         "May 11, 2023",
         "Twenty20",
         "https://www.espncricinfo.com//series/indian-premier-league-2023-1345038/kolkata-knight-riders-vs-rajasthan-royals-56th-match-1359530/full-scorecard"
        ],
        [
         "CSK",
         "DC",
         "CSK",
         "27 runs",
         "Chennai",
         "May 10, 2023",
         "Twenty20",
         "https://www.espncricinfo.com//series/indian-premier-league-2023-1345038/chennai-super-kings-vs-delhi-capitals-55th-match-1359529/full-scorecard"
        ],
        [
         "MI",
         "RCB",
         "MI",
         "6 wickets",
         "Wankhede",
         "May 9, 2023",
         "Twenty20",
         "https://www.espncricinfo.com//series/indian-premier-league-2023-1345038/mumbai-indians-vs-royal-challengers-bangalore-54th-match-1359528/full-scorecard"
        ],
        [
         "KKR",
         "Punjab Kings",
         "KKR",
         "5 wickets",
         "Eden Gardens",
         "May 8, 2023",
         "Twenty20",
         "https://www.espncricinfo.com//series/indian-premier-league-2023-1345038/kolkata-knight-riders-vs-punjab-kings-53rd-match-1359527/full-scorecard"
        ],
        [
         "RR",
         "SRH",
         "SRH",
         "4 wickets",
         "Jaipur",
         "May 7, 2023",
         "Twenty20",
         "https://www.espncricinfo.com//series/indian-premier-league-2023-1345038/rajasthan-royals-vs-sunrisers-hyderabad-52nd-match-1359526/full-scorecard"
        ],
        [
         "GT",
         "LSG",
         "GT",
         "56 runs",
         "Ahmedabad",
         "May 7, 2023",
         "Twenty20",
         "https://www.espncricinfo.com//series/indian-premier-league-2023-1345038/gujarat-titans-vs-lucknow-super-giants-51st-match-1359525/full-scorecard"
        ],
        [
         "DC",
         "RCB",
         "DC",
         "7 wickets",
         "Delhi",
         "May 6, 2023",
         "Twenty20",
         "https://www.espncricinfo.com//series/indian-premier-league-2023-1345038/delhi-capitals-vs-royal-challengers-bangalore-50th-match-1359524/full-scorecard"
        ],
        [
         "CSK",
         "MI",
         "CSK",
         "6 wickets",
         "Chennai",
         "May 6, 2023",
         "Twenty20",
         "https://www.espncricinfo.com//series/indian-premier-league-2023-1345038/chennai-super-kings-vs-mumbai-indians-49th-match-1359523/full-scorecard"
        ],
        [
         "RR",
         "GT",
         "GT",
         "9 wickets",
         "Jaipur",
         "May 5, 2023",
         "Twenty20",
         "https://www.espncricinfo.com//series/indian-premier-league-2023-1345038/rajasthan-royals-vs-gujarat-titans-48th-match-1359522/full-scorecard"
        ],
        [
         "SRH",
         "KKR",
         "KKR",
         "5 runs",
         "Hyderabad",
         "May 4, 2023",
         "Twenty20",
         "https://www.espncricinfo.com//series/indian-premier-league-2023-1345038/sunrisers-hyderabad-vs-kolkata-knight-riders-47th-match-1359521/full-scorecard"
        ],
        [
         "Punjab Kings",
         "MI",
         "MI",
         "6 wickets",
         "Mohali",
         "May 3, 2023",
         "Twenty20",
         "https://www.espncricinfo.com//series/indian-premier-league-2023-1345038/punjab-kings-vs-mumbai-indians-46th-match-1359520/full-scorecard"
        ],
        [
         "LSG",
         "CSK",
         "no result",
         "-",
         "Lucknow",
         "May 3, 2023",
         "Twenty20",
         "https://www.espncricinfo.com//series/indian-premier-league-2023-1345038/lucknow-super-giants-vs-chennai-super-kings-45th-match-1359519/full-scorecard"
        ],
        [
         "GT",
         "DC",
         "DC",
         "5 runs",
         "Ahmedabad",
         "May 2, 2023",
         "Twenty20",
         "https://www.espncricinfo.com//series/indian-premier-league-2023-1345038/gujarat-titans-vs-delhi-capitals-44th-match-1359518/full-scorecard"
        ],
        [
         "LSG",
         "RCB",
         "RCB",
         "18 runs",
         "Lucknow",
         "May 1, 2023",
         "Twenty20",
         "https://www.espncricinfo.com//series/indian-premier-league-2023-1345038/lucknow-super-giants-vs-royal-challengers-bangalore-43rd-match-1359517/full-scorecard"
        ],
        [
         "MI",
         "RR",
         "MI",
         "6 wickets",
         "Wankhede",
         "Apr 30, 2023",
         "Twenty20",
         "https://www.espncricinfo.com//series/indian-premier-league-2023-1345038/mumbai-indians-vs-rajasthan-royals-42nd-match-1359516/full-scorecard"
        ],
        [
         "CSK",
         "Punjab Kings",
         "Punjab Kings",
         "4 wickets",
         "Chennai",
         "Apr 30, 2023",
         "Twenty20",
         "https://www.espncricinfo.com//series/indian-premier-league-2023-1345038/chennai-super-kings-vs-punjab-kings-41st-match-1359515/full-scorecard"
        ],
        [
         "DC",
         "SRH",
         "SRH",
         "9 runs",
         "Delhi",
         "Apr 29, 2023",
         "Twenty20",
         "https://www.espncricinfo.com//series/indian-premier-league-2023-1345038/delhi-capitals-vs-sunrisers-hyderabad-40th-match-1359514/full-scorecard"
        ],
        [
         "KKR",
         "GT",
         "GT",
         "7 wickets",
         "Eden Gardens",
         "Apr 29, 2023",
         "Twenty20",
         "https://www.espncricinfo.com//series/indian-premier-league-2023-1345038/kolkata-knight-riders-vs-gujarat-titans-39th-match-1359513/full-scorecard"
        ],
        [
         "Punjab Kings",
         "LSG",
         "LSG",
         "56 runs",
         "Mohali",
         "Apr 28, 2023",
         "Twenty20",
         "https://www.espncricinfo.com//series/indian-premier-league-2023-1345038/punjab-kings-vs-lucknow-super-giants-38th-match-1359512/full-scorecard"
        ],
        [
         "RR",
         "CSK",
         "RR",
         "32 runs",
         "Jaipur",
         "Apr 27, 2023",
         "Twenty20",
         "https://www.espncricinfo.com//series/indian-premier-league-2023-1345038/rajasthan-royals-vs-chennai-super-kings-37th-match-1359511/full-scorecard"
        ],
        [
         "RCB",
         "KKR",
         "KKR",
         "21 runs",
         "Bengaluru",
         "Apr 26, 2023",
         "Twenty20",
         "https://www.espncricinfo.com//series/indian-premier-league-2023-1345038/royal-challengers-bangalore-vs-kolkata-knight-riders-36th-match-1359510/full-scorecard"
        ],
        [
         "GT",
         "MI",
         "GT",
         "55 runs",
         "Ahmedabad",
         "Apr 25, 2023",
         "Twenty20",
         "https://www.espncricinfo.com//series/indian-premier-league-2023-1345038/gujarat-titans-vs-mumbai-indians-35th-match-1359509/full-scorecard"
        ],
        [
         "SRH",
         "DC",
         "DC",
         "7 runs",
         "Hyderabad",
         "Apr 24, 2023",
         "Twenty20",
         "https://www.espncricinfo.com//series/indian-premier-league-2023-1345038/sunrisers-hyderabad-vs-delhi-capitals-34th-match-1359508/full-scorecard"
        ],
        [
         "KKR",
         "CSK",
         "CSK",
         "49 runs",
         "Eden Gardens",
         "Apr 23, 2023",
         "Twenty20",
         "https://www.espncricinfo.com//series/indian-premier-league-2023-1345038/kolkata-knight-riders-vs-chennai-super-kings-33rd-match-1359507/full-scorecard"
        ],
        [
         "RCB",
         "RR",
         "RCB",
         "7 runs",
         "Bengaluru",
         "Apr 23, 2023",
         "Twenty20",
         "https://www.espncricinfo.com//series/indian-premier-league-2023-1345038/royal-challengers-bangalore-vs-rajasthan-royals-32nd-match-1359506/full-scorecard"
        ],
        [
         "MI",
         "Punjab Kings",
         "Punjab Kings",
         "13 runs",
         "Wankhede",
         "Apr 22, 2023",
         "Twenty20",
         "https://www.espncricinfo.com//series/indian-premier-league-2023-1345038/mumbai-indians-vs-punjab-kings-31st-match-1359505/full-scorecard"
        ],
        [
         "LSG",
         "GT",
         "GT",
         "7 runs",
         "Lucknow",
         "Apr 22, 2023",
         "Twenty20",
         "https://www.espncricinfo.com//series/indian-premier-league-2023-1345038/lucknow-super-giants-vs-gujarat-titans-30th-match-1359504/full-scorecard"
        ],
        [
         "CSK",
         "SRH",
         "CSK",
         "7 wickets",
         "Chennai",
         "Apr 21, 2023",
         "Twenty20",
         "https://www.espncricinfo.com//series/indian-premier-league-2023-1345038/chennai-super-kings-vs-sunrisers-hyderabad-29th-match-1359503/full-scorecard"
        ],
        [
         "DC",
         "KKR",
         "DC",
         "4 wickets",
         "Delhi",
         "Apr 20, 2023",
         "Twenty20",
         "https://www.espncricinfo.com//series/indian-premier-league-2023-1345038/delhi-capitals-vs-kolkata-knight-riders-28th-match-1359502/full-scorecard"
        ],
        [
         "Punjab Kings",
         "RCB",
         "RCB",
         "24 runs",
         "Mohali",
         "Apr 20, 2023",
         "Twenty20",
         "https://www.espncricinfo.com//series/indian-premier-league-2023-1345038/punjab-kings-vs-royal-challengers-bangalore-27th-match-1359501/full-scorecard"
        ],
        [
         "RR",
         "LSG",
         "LSG",
         "10 runs",
         "Jaipur",
         "Apr 19, 2023",
         "Twenty20",
         "https://www.espncricinfo.com//series/indian-premier-league-2023-1345038/rajasthan-royals-vs-lucknow-super-giants-26th-match-1359500/full-scorecard"
        ],
        [
         "SRH",
         "MI",
         "MI",
         "14 runs",
         "Hyderabad",
         "Apr 18, 2023",
         "Twenty20",
         "https://www.espncricinfo.com//series/indian-premier-league-2023-1345038/sunrisers-hyderabad-vs-mumbai-indians-25th-match-1359499/full-scorecard"
        ],
        [
         "RCB",
         "CSK",
         "CSK",
         "8 runs",
         "Bengaluru",
         "Apr 17, 2023",
         "Twenty20",
         "https://www.espncricinfo.com//series/indian-premier-league-2023-1345038/royal-challengers-bangalore-vs-chennai-super-kings-24th-match-1359498/full-scorecard"
        ],
        [
         "GT",
         "RR",
         "RR",
         "3 wickets",
         "Ahmedabad",
         "Apr 16, 2023",
         "Twenty20",
         "https://www.espncricinfo.com//series/indian-premier-league-2023-1345038/gujarat-titans-vs-rajasthan-royals-23rd-match-1359497/full-scorecard"
        ],
        [
         "MI",
         "KKR",
         "MI",
         "5 wickets",
         "Wankhede",
         "Apr 16, 2023",
         "Twenty20",
         "https://www.espncricinfo.com//series/indian-premier-league-2023-1345038/mumbai-indians-vs-kolkata-knight-riders-22nd-match-1359496/full-scorecard"
        ],
        [
         "LSG",
         "Punjab Kings",
         "Punjab Kings",
         "2 wickets",
         "Lucknow",
         "Apr 15, 2023",
         "Twenty20",
         "https://www.espncricinfo.com//series/indian-premier-league-2023-1345038/lucknow-super-giants-vs-punjab-kings-21st-match-1359495/full-scorecard"
        ],
        [
         "RCB",
         "DC",
         "RCB",
         "23 runs",
         "Bengaluru",
         "Apr 15, 2023",
         "Twenty20",
         "https://www.espncricinfo.com//series/indian-premier-league-2023-1345038/royal-challengers-bangalore-vs-delhi-capitals-20th-match-1359494/full-scorecard"
        ],
        [
         "KKR",
         "SRH",
         "SRH",
         "23 runs",
         "Eden Gardens",
         "Apr 14, 2023",
         "Twenty20",
         "https://www.espncricinfo.com//series/indian-premier-league-2023-1345038/kolkata-knight-riders-vs-sunrisers-hyderabad-19th-match-1359493/full-scorecard"
        ],
        [
         "Punjab Kings",
         "GT",
         "GT",
         "6 wickets",
         "Mohali",
         "Apr 13, 2023",
         "Twenty20",
         "https://www.espncricinfo.com//series/indian-premier-league-2023-1345038/punjab-kings-vs-gujarat-titans-18th-match-1359492/full-scorecard"
        ],
        [
         "CSK",
         "RR",
         "RR",
         "3 runs",
         "Chennai",
         "Apr 12, 2023",
         "Twenty20",
         "https://www.espncricinfo.com//series/indian-premier-league-2023-1345038/chennai-super-kings-vs-rajasthan-royals-17th-match-1359491/full-scorecard"
        ],
        [
         "DC",
         "MI",
         "MI",
         "6 wickets",
         "Delhi",
         "Apr 11, 2023",
         "Twenty20",
         "https://www.espncricinfo.com//series/indian-premier-league-2023-1345038/delhi-capitals-vs-mumbai-indians-16th-match-1359490/full-scorecard"
        ],
        [
         "RCB",
         "LSG",
         "LSG",
         "1 wicket",
         "Bengaluru",
         "Apr 10, 2023",
         "Twenty20",
         "https://www.espncricinfo.com//series/indian-premier-league-2023-1345038/royal-challengers-bangalore-vs-lucknow-super-giants-15th-match-1359489/full-scorecard"
        ],
        [
         "SRH",
         "Punjab Kings",
         "SRH",
         "8 wickets",
         "Hyderabad",
         "Apr 9, 2023",
         "Twenty20",
         "https://www.espncricinfo.com//series/indian-premier-league-2023-1345038/sunrisers-hyderabad-vs-punjab-kings-14th-match-1359488/full-scorecard"
        ],
        [
         "GT",
         "KKR",
         "KKR",
         "3 wickets",
         "Ahmedabad",
         "Apr 9, 2023",
         "Twenty20",
         "https://www.espncricinfo.com//series/indian-premier-league-2023-1345038/gujarat-titans-vs-kolkata-knight-riders-13th-match-1359487/full-scorecard"
        ],
        [
         "MI",
         "CSK",
         "CSK",
         "7 wickets",
         "Wankhede",
         "Apr 8, 2023",
         "Twenty20",
         "https://www.espncricinfo.com//series/indian-premier-league-2023-1345038/mumbai-indians-vs-chennai-super-kings-12th-match-1359486/full-scorecard"
        ],
        [
         "RR",
         "DC",
         "RR",
         "57 runs",
         "Guwahati",
         "Apr 8, 2023",
         "Twenty20",
         "https://www.espncricinfo.com//series/indian-premier-league-2023-1345038/rajasthan-royals-vs-delhi-capitals-11th-match-1359485/full-scorecard"
        ],
        [
         "LSG",
         "SRH",
         "LSG",
         "5 wickets",
         "Lucknow",
         "Apr 7, 2023",
         "Twenty20",
         "https://www.espncricinfo.com//series/indian-premier-league-2023-1345038/lucknow-super-giants-vs-sunrisers-hyderabad-10th-match-1359484/full-scorecard"
        ],
        [
         "KKR",
         "RCB",
         "KKR",
         "81 runs",
         "Eden Gardens",
         "Apr 6, 2023",
         "Twenty20",
         "https://www.espncricinfo.com//series/indian-premier-league-2023-1345038/kolkata-knight-riders-vs-royal-challengers-bangalore-9th-match-1359483/full-scorecard"
        ],
        [
         "RR",
         "Punjab Kings",
         "Punjab Kings",
         "5 runs",
         "Guwahati",
         "Apr 5, 2023",
         "Twenty20",
         "https://www.espncricinfo.com//series/indian-premier-league-2023-1345038/rajasthan-royals-vs-punjab-kings-8th-match-1359482/full-scorecard"
        ],
        [
         "DC",
         "GT",
         "GT",
         "6 wickets",
         "Delhi",
         "Apr 4, 2023",
         "Twenty20",
         "https://www.espncricinfo.com//series/indian-premier-league-2023-1345038/delhi-capitals-vs-gujarat-titans-7th-match-1359481/full-scorecard"
        ],
        [
         "CSK",
         "LSG",
         "CSK",
         "12 runs",
         "Chennai",
         "Apr 3, 2023",
         "Twenty20",
         "https://www.espncricinfo.com//series/indian-premier-league-2023-1345038/chennai-super-kings-vs-lucknow-super-giants-6th-match-1359480/full-scorecard"
        ],
        [
         "RCB",
         "MI",
         "RCB",
         "8 wickets",
         "Bengaluru",
         "Apr 2, 2023",
         "Twenty20",
         "https://www.espncricinfo.com//series/indian-premier-league-2023-1345038/royal-challengers-bangalore-vs-mumbai-indians-5th-match-1359479/full-scorecard"
        ],
        [
         "SRH",
         "RR",
         "RR",
         "72 runs",
         "Hyderabad",
         "Apr 2, 2023",
         "Twenty20",
         "https://www.espncricinfo.com//series/indian-premier-league-2023-1345038/sunrisers-hyderabad-vs-rajasthan-royals-4th-match-1359478/full-scorecard"
        ],
        [
         "LSG",
         "DC",
         "LSG",
         "50 runs",
         "Lucknow",
         "Apr 1, 2023",
         "Twenty20",
         "https://www.espncricinfo.com//series/indian-premier-league-2023-1345038/lucknow-super-giants-vs-delhi-capitals-3rd-match-1359477/full-scorecard"
        ],
        [
         "Punjab Kings",
         "KKR",
         "Punjab Kings",
         "7 runs",
         "Mohali",
         "Apr 1, 2023",
         "Twenty20",
         "https://www.espncricinfo.com//series/indian-premier-league-2023-1345038/punjab-kings-vs-kolkata-knight-riders-2nd-match-1359476/full-scorecard"
        ],
        [
         "GT",
         "CSK",
         "GT",
         "5 wickets",
         "Ahmedabad",
         "Mar 31, 2023",
         "Twenty20",
         "https://www.espncricinfo.com//series/indian-premier-league-2023-1345038/gujarat-titans-vs-chennai-super-kings-1st-match-1359475/full-scorecard"
        ],
        [
         "GT",
         "RR",
         "GT",
         "7 wickets",
         "Ahmedabad",
         "May 29, 2022",
         "Twenty20",
         "https://www.espncricinfo.com//series/indian-premier-league-2022-1298423/gujarat-titans-vs-rajasthan-royals-final-1312200/full-scorecard"
        ],
        [
         "RR",
         "RCB",
         "RR",
         "7 wickets",
         "Ahmedabad",
         "May 27, 2022",
         "Twenty20",
         "https://www.espncricinfo.com//series/indian-premier-league-2022-1298423/rajasthan-royals-vs-royal-challengers-bangalore-qualifier-2-1312199/full-scorecard"
        ],
        [
         "LSG",
         "RCB",
         "RCB",
         "14 runs",
         "Eden Gardens",
         "May 25, 2022",
         "Twenty20",
         "https://www.espncricinfo.com//series/indian-premier-league-2022-1298423/lucknow-super-giants-vs-royal-challengers-bangalore-eliminator-1312198/full-scorecard"
        ],
        [
         "GT",
         "RR",
         "GT",
         "7 wickets",
         "Eden Gardens",
         "May 24, 2022",
         "Twenty20",
         "https://www.espncricinfo.com//series/indian-premier-league-2022-1298423/gujarat-titans-vs-rajasthan-royals-qualifier-1-1312197/full-scorecard"
        ],
        [
         "SRH",
         "Punjab Kings",
         "Punjab Kings",
         "5 wickets",
         "Wankhede",
         "May 22, 2022",
         "Twenty20",
         "https://www.espncricinfo.com//series/indian-premier-league-2022-1298423/sunrisers-hyderabad-vs-punjab-kings-70th-match-1304116/full-scorecard"
        ],
        [
         "MI",
         "DC",
         "MI",
         "5 wickets",
         "Wankhede",
         "May 21, 2022",
         "Twenty20",
         "https://www.espncricinfo.com//series/indian-premier-league-2022-1298423/mumbai-indians-vs-delhi-capitals-69th-match-1304115/full-scorecard"
        ],
        [
         "RR",
         "CSK",
         "RR",
         "5 wickets",
         "Brabourne",
         "May 20, 2022",
         "Twenty20",
         "https://www.espncricinfo.com//series/indian-premier-league-2022-1298423/rajasthan-royals-vs-chennai-super-kings-68th-match-1304114/full-scorecard"
        ],
        [
         "RCB",
         "GT",
         "RCB",
         "8 wickets",
         "Wankhede",
         "May 19, 2022",
         "Twenty20",
         "https://www.espncricinfo.com//series/indian-premier-league-2022-1298423/royal-challengers-bangalore-vs-gujarat-titans-67th-match-1304113/full-scorecard"
        ],
        [
         "KKR",
         "LSG",
         "LSG",
         "2 runs",
         "DY Patil",
         "May 18, 2022",
         "Twenty20",
         "https://www.espncricinfo.com//series/indian-premier-league-2022-1298423/kolkata-knight-riders-vs-lucknow-super-giants-66th-match-1304112/full-scorecard"
        ],
        [
         "MI",
         "SRH",
         "SRH",
         "3 runs",
         "Wankhede",
         "May 17, 2022",
         "Twenty20",
         "https://www.espncricinfo.com//series/indian-premier-league-2022-1298423/mumbai-indians-vs-sunrisers-hyderabad-65th-match-1304111/full-scorecard"
        ],
        [
         "Punjab Kings",
         "DC",
         "DC",
         "17 runs",
         "DY Patil",
         "May 16, 2022",
         "Twenty20",
         "https://www.espncricinfo.com//series/indian-premier-league-2022-1298423/punjab-kings-vs-delhi-capitals-64th-match-1304110/full-scorecard"
        ],
        [
         "LSG",
         "RR",
         "RR",
         "24 runs",
         "Brabourne",
         "May 15, 2022",
         "Twenty20",
         "https://www.espncricinfo.com//series/indian-premier-league-2022-1298423/lucknow-super-giants-vs-rajasthan-royals-63rd-match-1304109/full-scorecard"
        ],
        [
         "CSK",
         "GT",
         "GT",
         "7 wickets",
         "Wankhede",
         "May 15, 2022",
         "Twenty20",
         "https://www.espncricinfo.com//series/indian-premier-league-2022-1298423/chennai-super-kings-vs-gujarat-titans-62nd-match-1304108/full-scorecard"
        ],
        [
         "KKR",
         "SRH",
         "KKR",
         "54 runs",
         "Pune",
         "May 14, 2022",
         "Twenty20",
         "https://www.espncricinfo.com//series/indian-premier-league-2022-1298423/kolkata-knight-riders-vs-sunrisers-hyderabad-61st-match-1304107/full-scorecard"
        ],
        [
         "RCB",
         "Punjab Kings",
         "Punjab Kings",
         "54 runs",
         "Brabourne",
         "May 13, 2022",
         "Twenty20",
         "https://www.espncricinfo.com//series/indian-premier-league-2022-1298423/royal-challengers-bangalore-vs-punjab-kings-60th-match-1304106/full-scorecard"
        ],
        [
         "CSK",
         "MI",
         "MI",
         "5 wickets",
         "Wankhede",
         "May 12, 2022",
         "Twenty20",
         "https://www.espncricinfo.com//series/indian-premier-league-2022-1298423/chennai-super-kings-vs-mumbai-indians-59th-match-1304105/full-scorecard"
        ],
        [
         "RR",
         "DC",
         "DC",
         "8 wickets",
         "DY Patil",
         "May 11, 2022",
         "Twenty20",
         "https://www.espncricinfo.com//series/indian-premier-league-2022-1298423/rajasthan-royals-vs-delhi-capitals-58th-match-1304104/full-scorecard"
        ],
        [
         "LSG",
         "GT",
         "GT",
         "62 runs",
         "Pune",
         "May 10, 2022",
         "Twenty20",
         "https://www.espncricinfo.com//series/indian-premier-league-2022-1298423/lucknow-super-giants-vs-gujarat-titans-57th-match-1304103/full-scorecard"
        ],
        [
         "MI",
         "KKR",
         "KKR",
         "52 runs",
         "DY Patil",
         "May 9, 2022",
         "Twenty20",
         "https://www.espncricinfo.com//series/indian-premier-league-2022-1298423/mumbai-indians-vs-kolkata-knight-riders-56th-match-1304102/full-scorecard"
        ],
        [
         "CSK",
         "DC",
         "CSK",
         "91 runs",
         "DY Patil",
         "May 8, 2022",
         "Twenty20",
         "https://www.espncricinfo.com//series/indian-premier-league-2022-1298423/chennai-super-kings-vs-delhi-capitals-55th-match-1304101/full-scorecard"
        ],
        [
         "SRH",
         "RCB",
         "RCB",
         "67 runs",
         "Wankhede",
         "May 8, 2022",
         "Twenty20",
         "https://www.espncricinfo.com//series/indian-premier-league-2022-1298423/sunrisers-hyderabad-vs-royal-challengers-bangalore-54th-match-1304100/full-scorecard"
        ],
        [
         "LSG",
         "KKR",
         "LSG",
         "75 runs",
         "Pune",
         "May 7, 2022",
         "Twenty20",
         "https://www.espncricinfo.com//series/indian-premier-league-2022-1298423/lucknow-super-giants-vs-kolkata-knight-riders-53rd-match-1304099/full-scorecard"
        ],
        [
         "Punjab Kings",
         "RR",
         "RR",
         "6 wickets",
         "Wankhede",
         "May 7, 2022",
         "Twenty20",
         "https://www.espncricinfo.com//series/indian-premier-league-2022-1298423/punjab-kings-vs-rajasthan-royals-52nd-match-1304098/full-scorecard"
        ],
        [
         "GT",
         "MI",
         "MI",
         "5 runs",
         "Brabourne",
         "May 6, 2022",
         "Twenty20",
         "https://www.espncricinfo.com//series/indian-premier-league-2022-1298423/gujarat-titans-vs-mumbai-indians-51st-match-1304097/full-scorecard"
        ],
        [
         "DC",
         "SRH",
         "DC",
         "21 runs",
         "Brabourne",
         "May 5, 2022",
         "Twenty20",
         "https://www.espncricinfo.com//series/indian-premier-league-2022-1298423/delhi-capitals-vs-sunrisers-hyderabad-50th-match-1304096/full-scorecard"
        ],
        [
         "RCB",
         "CSK",
         "RCB",
         "13 runs",
         "Pune",
         "May 4, 2022",
         "Twenty20",
         "https://www.espncricinfo.com//series/indian-premier-league-2022-1298423/royal-challengers-bangalore-vs-chennai-super-kings-49th-match-1304095/full-scorecard"
        ],
        [
         "GT",
         "Punjab Kings",
         "Punjab Kings",
         "8 wickets",
         "DY Patil",
         "May 3, 2022",
         "Twenty20",
         "https://www.espncricinfo.com//series/indian-premier-league-2022-1298423/gujarat-titans-vs-punjab-kings-48th-match-1304094/full-scorecard"
        ],
        [
         "KKR",
         "RR",
         "KKR",
         "7 wickets",
         "Wankhede",
         "May 2, 2022",
         "Twenty20",
         "https://www.espncricinfo.com//series/indian-premier-league-2022-1298423/kolkata-knight-riders-vs-rajasthan-royals-47th-match-1304093/full-scorecard"
        ],
        [
         "SRH",
         "CSK",
         "CSK",
         "13 runs",
         "Pune",
         "May 1, 2022",
         "Twenty20",
         "https://www.espncricinfo.com//series/indian-premier-league-2022-1298423/sunrisers-hyderabad-vs-chennai-super-kings-46th-match-1304092/full-scorecard"
        ],
        [
         "DC",
         "LSG",
         "LSG",
         "6 runs",
         "Wankhede",
         "May 1, 2022",
         "Twenty20",
         "https://www.espncricinfo.com//series/indian-premier-league-2022-1298423/delhi-capitals-vs-lucknow-super-giants-45th-match-1304091/full-scorecard"
        ],
        [
         "RR",
         "MI",
         "MI",
         "5 wickets",
         "DY Patil",
         "Apr 30, 2022",
         "Twenty20",
         "https://www.espncricinfo.com//series/indian-premier-league-2022-1298423/rajasthan-royals-vs-mumbai-indians-44th-match-1304090/full-scorecard"
        ],
        [
         "GT",
         "RCB",
         "GT",
         "6 wickets",
         "Brabourne",
         "Apr 30, 2022",
         "Twenty20",
         "https://www.espncricinfo.com//series/indian-premier-league-2022-1298423/gujarat-titans-vs-royal-challengers-bangalore-43rd-match-1304089/full-scorecard"
        ],
        [
         "Punjab Kings",
         "LSG",
         "LSG",
         "20 runs",
         "Pune",
         "Apr 29, 2022",
         "Twenty20",
         "https://www.espncricinfo.com//series/indian-premier-league-2022-1298423/punjab-kings-vs-lucknow-super-giants-42nd-match-1304088/full-scorecard"
        ],
        [
         "DC",
         "KKR",
         "DC",
         "4 wickets",
         "Wankhede",
         "Apr 28, 2022",
         "Twenty20",
         "https://www.espncricinfo.com//series/indian-premier-league-2022-1298423/delhi-capitals-vs-kolkata-knight-riders-41st-match-1304087/full-scorecard"
        ],
        [
         "GT",
         "SRH",
         "GT",
         "5 wickets",
         "Wankhede",
         "Apr 27, 2022",
         "Twenty20",
         "https://www.espncricinfo.com//series/indian-premier-league-2022-1298423/gujarat-titans-vs-sunrisers-hyderabad-40th-match-1304086/full-scorecard"
        ],
        [
         "RCB",
         "RR",
         "RR",
         "29 runs",
         "Pune",
         "Apr 26, 2022",
         "Twenty20",
         "https://www.espncricinfo.com//series/indian-premier-league-2022-1298423/royal-challengers-bangalore-vs-rajasthan-royals-39th-match-1304085/full-scorecard"
        ],
        [
         "Punjab Kings",
         "CSK",
         "Punjab Kings",
         "11 runs",
         "Wankhede",
         "Apr 25, 2022",
         "Twenty20",
         "https://www.espncricinfo.com//series/indian-premier-league-2022-1298423/punjab-kings-vs-chennai-super-kings-38th-match-1304084/full-scorecard"
        ],
        [
         "LSG",
         "MI",
         "LSG",
         "36 runs",
         "Wankhede",
         "Apr 24, 2022",
         "Twenty20",
         "https://www.espncricinfo.com//series/indian-premier-league-2022-1298423/lucknow-super-giants-vs-mumbai-indians-37th-match-1304083/full-scorecard"
        ],
        [
         "RCB",
         "SRH",
         "SRH",
         "9 wickets",
         "Brabourne",
         "Apr 23, 2022",
         "Twenty20",
         "https://www.espncricinfo.com//series/indian-premier-league-2022-1298423/royal-challengers-bangalore-vs-sunrisers-hyderabad-36th-match-1304082/full-scorecard"
        ],
        [
         "KKR",
         "GT",
         "GT",
         "8 runs",
         "DY Patil",
         "Apr 23, 2022",
         "Twenty20",
         "https://www.espncricinfo.com//series/indian-premier-league-2022-1298423/kolkata-knight-riders-vs-gujarat-titans-35th-match-1304081/full-scorecard"
        ],
        [
         "DC",
         "RR",
         "RR",
         "15 runs",
         "Wankhede",
         "Apr 22, 2022",
         "Twenty20",
         "https://www.espncricinfo.com//series/indian-premier-league-2022-1298423/delhi-capitals-vs-rajasthan-royals-34th-match-1304080/full-scorecard"
        ],
        [
         "MI",
         "CSK",
         "CSK",
         "3 wickets",
         "DY Patil",
         "Apr 21, 2022",
         "Twenty20",
         "https://www.espncricinfo.com//series/indian-premier-league-2022-1298423/mumbai-indians-vs-chennai-super-kings-33rd-match-1304079/full-scorecard"
        ],
        [
         "DC",
         "Punjab Kings",
         "DC",
         "9 wickets",
         "Brabourne",
         "Apr 20, 2022",
         "Twenty20",
         "https://www.espncricinfo.com//series/indian-premier-league-2022-1298423/delhi-capitals-vs-punjab-kings-32nd-match-1304078/full-scorecard"
        ],
        [
         "LSG",
         "RCB",
         "RCB",
         "18 runs",
         "DY Patil",
         "Apr 19, 2022",
         "Twenty20",
         "https://www.espncricinfo.com//series/indian-premier-league-2022-1298423/lucknow-super-giants-vs-royal-challengers-bangalore-31st-match-1304077/full-scorecard"
        ],
        [
         "RR",
         "KKR",
         "RR",
         "7 runs",
         "Brabourne",
         "Apr 18, 2022",
         "Twenty20",
         "https://www.espncricinfo.com//series/indian-premier-league-2022-1298423/rajasthan-royals-vs-kolkata-knight-riders-30th-match-1304076/full-scorecard"
        ],
        [
         "GT",
         "CSK",
         "GT",
         "3 wickets",
         "Pune",
         "Apr 17, 2022",
         "Twenty20",
         "https://www.espncricinfo.com//series/indian-premier-league-2022-1298423/gujarat-titans-vs-chennai-super-kings-29th-match-1304075/full-scorecard"
        ],
        [
         "Punjab Kings",
         "SRH",
         "SRH",
         "7 wickets",
         "DY Patil",
         "Apr 17, 2022",
         "Twenty20",
         "https://www.espncricinfo.com//series/indian-premier-league-2022-1298423/punjab-kings-vs-sunrisers-hyderabad-28th-match-1304074/full-scorecard"
        ],
        [
         "DC",
         "RCB",
         "RCB",
         "16 runs",
         "Wankhede",
         "Apr 16, 2022",
         "Twenty20",
         "https://www.espncricinfo.com//series/indian-premier-league-2022-1298423/delhi-capitals-vs-royal-challengers-bangalore-27th-match-1304073/full-scorecard"
        ],
        [
         "MI",
         "LSG",
         "LSG",
         "18 runs",
         "Brabourne",
         "Apr 16, 2022",
         "Twenty20",
         "https://www.espncricinfo.com//series/indian-premier-league-2022-1298423/mumbai-indians-vs-lucknow-super-giants-26th-match-1304072/full-scorecard"
        ],
        [
         "SRH",
         "KKR",
         "SRH",
         "7 wickets",
         "Brabourne",
         "Apr 15, 2022",
         "Twenty20",
         "https://www.espncricinfo.com//series/indian-premier-league-2022-1298423/sunrisers-hyderabad-vs-kolkata-knight-riders-25th-match-1304071/full-scorecard"
        ],
        [
         "RR",
         "GT",
         "GT",
         "37 runs",
         "DY Patil",
         "Apr 14, 2022",
         "Twenty20",
         "https://www.espncricinfo.com//series/indian-premier-league-2022-1298423/rajasthan-royals-vs-gujarat-titans-24th-match-1304070/full-scorecard"
        ],
        [
         "MI",
         "Punjab Kings",
         "Punjab Kings",
         "12 runs",
         "Pune",
         "Apr 13, 2022",
         "Twenty20",
         "https://www.espncricinfo.com//series/indian-premier-league-2022-1298423/mumbai-indians-vs-punjab-kings-23rd-match-1304069/full-scorecard"
        ],
        [
         "CSK",
         "RCB",
         "CSK",
         "23 runs",
         "DY Patil",
         "Apr 12, 2022",
         "Twenty20",
         "https://www.espncricinfo.com//series/indian-premier-league-2022-1298423/chennai-super-kings-vs-royal-challengers-bangalore-22nd-match-1304068/full-scorecard"
        ],
        [
         "SRH",
         "GT",
         "SRH",
         "8 wickets",
         "DY Patil",
         "Apr 11, 2022",
         "Twenty20",
         "https://www.espncricinfo.com//series/indian-premier-league-2022-1298423/sunrisers-hyderabad-vs-gujarat-titans-21st-match-1304067/full-scorecard"
        ],
        [
         "RR",
         "LSG",
         "RR",
         "3 runs",
         "Wankhede",
         "Apr 10, 2022",
         "Twenty20",
         "https://www.espncricinfo.com//series/indian-premier-league-2022-1298423/rajasthan-royals-vs-lucknow-super-giants-20th-match-1304066/full-scorecard"
        ],
        [
         "KKR",
         "DC",
         "DC",
         "44 runs",
         "Brabourne",
         "Apr 10, 2022",
         "Twenty20",
         "https://www.espncricinfo.com//series/indian-premier-league-2022-1298423/kolkata-knight-riders-vs-delhi-capitals-19th-match-1304065/full-scorecard"
        ],
        [
         "RCB",
         "MI",
         "RCB",
         "7 wickets",
         "Pune",
         "Apr 9, 2022",
         "Twenty20",
         "https://www.espncricinfo.com//series/indian-premier-league-2022-1298423/royal-challengers-bangalore-vs-mumbai-indians-18th-match-1304064/full-scorecard"
        ],
        [
         "CSK",
         "SRH",
         "SRH",
         "8 wickets",
         "DY Patil",
         "Apr 9, 2022",
         "Twenty20",
         "https://www.espncricinfo.com//series/indian-premier-league-2022-1298423/chennai-super-kings-vs-sunrisers-hyderabad-17th-match-1304063/full-scorecard"
        ],
        [
         "Punjab Kings",
         "GT",
         "GT",
         "6 wickets",
         "Brabourne",
         "Apr 8, 2022",
         "Twenty20",
         "https://www.espncricinfo.com//series/indian-premier-league-2022-1298423/punjab-kings-vs-gujarat-titans-16th-match-1304062/full-scorecard"
        ],
        [
         "LSG",
         "DC",
         "LSG",
         "6 wickets",
         "DY Patil",
         "Apr 7, 2022",
         "Twenty20",
         "https://www.espncricinfo.com//series/indian-premier-league-2022-1298423/lucknow-super-giants-vs-delhi-capitals-15th-match-1304061/full-scorecard"
        ],
        [
         "KKR",
         "MI",
         "KKR",
         "5 wickets",
         "Pune",
         "Apr 6, 2022",
         "Twenty20",
         "https://www.espncricinfo.com//series/indian-premier-league-2022-1298423/kolkata-knight-riders-vs-mumbai-indians-14th-match-1304060/full-scorecard"
        ],
        [
         "RR",
         "RCB",
         "RCB",
         "4 wickets",
         "Wankhede",
         "Apr 5, 2022",
         "Twenty20",
         "https://www.espncricinfo.com//series/indian-premier-league-2022-1298423/rajasthan-royals-vs-royal-challengers-bangalore-13th-match-1304059/full-scorecard"
        ],
        [
         "SRH",
         "LSG",
         "LSG",
         "12 runs",
         "DY Patil",
         "Apr 4, 2022",
         "Twenty20",
         "https://www.espncricinfo.com//series/indian-premier-league-2022-1298423/sunrisers-hyderabad-vs-lucknow-super-giants-12th-match-1304058/full-scorecard"
        ],
        [
         "CSK",
         "Punjab Kings",
         "Punjab Kings",
         "54 runs",
         "Brabourne",
         "Apr 3, 2022",
         "Twenty20",
         "https://www.espncricinfo.com//series/indian-premier-league-2022-1298423/chennai-super-kings-vs-punjab-kings-11th-match-1304057/full-scorecard"
        ],
        [
         "GT",
         "DC",
         "GT",
         "14 runs",
         "Pune",
         "Apr 2, 2022",
         "Twenty20",
         "https://www.espncricinfo.com//series/indian-premier-league-2022-1298423/gujarat-titans-vs-delhi-capitals-10th-match-1304056/full-scorecard"
        ],
        [
         "MI",
         "RR",
         "RR",
         "23 runs",
         "DY Patil",
         "Apr 2, 2022",
         "Twenty20",
         "https://www.espncricinfo.com//series/indian-premier-league-2022-1298423/mumbai-indians-vs-rajasthan-royals-9th-match-1304055/full-scorecard"
        ],
        [
         "KKR",
         "Punjab Kings",
         "KKR",
         "6 wickets",
         "Wankhede",
         "Apr 1, 2022",
         "Twenty20",
         "https://www.espncricinfo.com//series/indian-premier-league-2022-1298423/kolkata-knight-riders-vs-punjab-kings-8th-match-1304054/full-scorecard"
        ],
        [
         "LSG",
         "CSK",
         "LSG",
         "6 wickets",
         "Brabourne",
         "Mar 31, 2022",
         "Twenty20",
         "https://www.espncricinfo.com//series/indian-premier-league-2022-1298423/lucknow-super-giants-vs-chennai-super-kings-7th-match-1304053/full-scorecard"
        ],
        [
         "RCB",
         "KKR",
         "RCB",
         "3 wickets",
         "DY Patil",
         "Mar 30, 2022",
         "Twenty20",
         "https://www.espncricinfo.com//series/indian-premier-league-2022-1298423/royal-challengers-bangalore-vs-kolkata-knight-riders-6th-match-1304052/full-scorecard"
        ],
        [
         "SRH",
         "RR",
         "RR",
         "61 runs",
         "Pune",
         "Mar 29, 2022",
         "Twenty20",
         "https://www.espncricinfo.com//series/indian-premier-league-2022-1298423/sunrisers-hyderabad-vs-rajasthan-royals-5th-match-1304051/full-scorecard"
        ],
        [
         "GT",
         "LSG",
         "GT",
         "5 wickets",
         "Wankhede",
         "Mar 28, 2022",
         "Twenty20",
         "https://www.espncricinfo.com//series/indian-premier-league-2022-1298423/gujarat-titans-vs-lucknow-super-giants-4th-match-1304050/full-scorecard"
        ],
        [
         "Punjab Kings",
         "RCB",
         "Punjab Kings",
         "5 wickets",
         "DY Patil",
         "Mar 27, 2022",
         "Twenty20",
         "https://www.espncricinfo.com//series/indian-premier-league-2022-1298423/punjab-kings-vs-royal-challengers-bangalore-3rd-match-1304049/full-scorecard"
        ],
        [
         "DC",
         "MI",
         "DC",
         "4 wickets",
         "Brabourne",
         "Mar 27, 2022",
         "Twenty20",
         "https://www.espncricinfo.com//series/indian-premier-league-2022-1298423/delhi-capitals-vs-mumbai-indians-2nd-match-1304048/full-scorecard"
        ],
        [
         "CSK",
         "KKR",
         "KKR",
         "6 wickets",
         "Wankhede",
         "Mar 26, 2022",
         "Twenty20",
         "https://www.espncricinfo.com//series/indian-premier-league-2022-1298423/chennai-super-kings-vs-kolkata-knight-riders-1st-match-1304047/full-scorecard"
        ],
        [
         "CSK",
         "KKR",
         "CSK",
         "27 runs",
         "Dubai (DICS)",
         "Oct 15, 2021",
         "Twenty20",
         "https://www.espncricinfo.com//series/ipl-2021-1249214/chennai-super-kings-vs-kolkata-knight-riders-final-1254117/full-scorecard"
        ],
        [
         "DC",
         "KKR",
         "KKR",
         "3 wickets",
         "Sharjah",
         "Oct 13, 2021",
         "Twenty20",
         "https://www.espncricinfo.com//series/ipl-2021-1249214/delhi-capitals-vs-kolkata-knight-riders-qualifier-2-1254116/full-scorecard"
        ],
        [
         "RCB",
         "KKR",
         "KKR",
         "4 wickets",
         "Sharjah",
         "Oct 11, 2021",
         "Twenty20",
         "https://www.espncricinfo.com//series/ipl-2021-1249214/royal-challengers-bangalore-vs-kolkata-knight-riders-eliminator-1254115/full-scorecard"
        ],
        [
         "DC",
         "CSK",
         "CSK",
         "4 wickets",
         "Dubai (DICS)",
         "Oct 10, 2021",
         "Twenty20",
         "https://www.espncricinfo.com//series/ipl-2021-1249214/delhi-capitals-vs-chennai-super-kings-qualifier-1-1254114/full-scorecard"
        ],
        [
         "RCB",
         "DC",
         "RCB",
         "7 wickets",
         "Dubai (DICS)",
         "Oct 8, 2021",
         "Twenty20",
         "https://www.espncricinfo.com//series/ipl-2021-1249214/royal-challengers-bangalore-vs-delhi-capitals-56th-match-1254101/full-scorecard"
        ],
        [
         "SRH",
         "MI",
         "MI",
         "42 runs",
         "Abu Dhabi",
         "Oct 8, 2021",
         "Twenty20",
         "https://www.espncricinfo.com//series/ipl-2021-1249214/sunrisers-hyderabad-vs-mumbai-indians-55th-match-1254088/full-scorecard"
        ],
        [
         "KKR",
         "RR",
         "KKR",
         "86 runs",
         "Sharjah",
         "Oct 7, 2021",
         "Twenty20",
         "https://www.espncricinfo.com//series/ipl-2021-1249214/kolkata-knight-riders-vs-rajasthan-royals-54th-match-1254106/full-scorecard"
        ],
        [
         "CSK",
         "Punjab Kings",
         "Punjab Kings",
         "6 wickets",
         "Dubai (DICS)",
         "Oct 7, 2021",
         "Twenty20",
         "https://www.espncricinfo.com//series/ipl-2021-1249214/chennai-super-kings-vs-punjab-kings-53rd-match-1254094/full-scorecard"
        ],
        [
         "RCB",
         "SRH",
         "SRH",
         "4 runs",
         "Abu Dhabi",
         "Oct 6, 2021",
         "Twenty20",
         "https://www.espncricinfo.com//series/ipl-2021-1249214/royal-challengers-bangalore-vs-sunrisers-hyderabad-52nd-match-1254095/full-scorecard"
        ],
        [
         "RR",
         "MI",
         "MI",
         "8 wickets",
         "Sharjah",
         "Oct 5, 2021",
         "Twenty20",
         "https://www.espncricinfo.com//series/ipl-2021-1249214/rajasthan-royals-vs-mumbai-indians-51st-match-1254093/full-scorecard"
        ],
        [
         "DC",
         "CSK",
         "DC",
         "3 wickets",
         "Dubai (DICS)",
         "Oct 4, 2021",
         "Twenty20",
         "https://www.espncricinfo.com//series/ipl-2021-1249214/delhi-capitals-vs-chennai-super-kings-50th-match-1254110/full-scorecard"
        ],
        [
         "KKR",
         "SRH",
         "KKR",
         "6 wickets",
         "Dubai (DICS)",
         "Oct 3, 2021",
         "Twenty20",
         "https://www.espncricinfo.com//series/ipl-2021-1249214/kolkata-knight-riders-vs-sunrisers-hyderabad-49th-match-1254109/full-scorecard"
        ],
        [
         "RCB",
         "Punjab Kings",
         "RCB",
         "6 runs",
         "Sharjah",
         "Oct 3, 2021",
         "Twenty20",
         "https://www.espncricinfo.com//series/ipl-2021-1249214/royal-challengers-bangalore-vs-punjab-kings-48th-match-1254090/full-scorecard"
        ],
        [
         "RR",
         "CSK",
         "RR",
         "7 wickets",
         "Abu Dhabi",
         "Oct 2, 2021",
         "Twenty20",
         "https://www.espncricinfo.com//series/ipl-2021-1249214/rajasthan-royals-vs-chennai-super-kings-47th-match-1254089/full-scorecard"
        ],
        [
         "MI",
         "DC",
         "DC",
         "4 wickets",
         "Sharjah",
         "Oct 2, 2021",
         "Twenty20",
         "https://www.espncricinfo.com//series/ipl-2021-1249214/mumbai-indians-vs-delhi-capitals-46th-match-1254112/full-scorecard"
        ],
        [
         "KKR",
         "Punjab Kings",
         "Punjab Kings",
         "5 wickets",
         "Dubai (DICS)",
         "Oct 1, 2021",
         "Twenty20",
         "https://www.espncricinfo.com//series/ipl-2021-1249214/kolkata-knight-riders-vs-punjab-kings-45th-match-1254102/full-scorecard"
        ],
        [
         "SRH",
         "CSK",
         "CSK",
         "6 wickets",
         "Sharjah",
         "Sep 30, 2021",
         "Twenty20",
         "https://www.espncricinfo.com//series/ipl-2021-1249214/sunrisers-hyderabad-vs-chennai-super-kings-44th-match-1254091/full-scorecard"
        ],
        [
         "RR",
         "RCB",
         "RCB",
         "7 wickets",
         "Dubai (DICS)",
         "Sep 29, 2021",
         "Twenty20",
         "https://www.espncricinfo.com//series/ipl-2021-1249214/rajasthan-royals-vs-royal-challengers-bangalore-43rd-match-1254103/full-scorecard"
        ],
        [
         "MI",
         "Punjab Kings",
         "MI",
         "6 wickets",
         "Abu Dhabi",
         "Sep 28, 2021",
         "Twenty20",
         "https://www.espncricinfo.com//series/ipl-2021-1249214/mumbai-indians-vs-punjab-kings-42nd-match-1254099/full-scorecard"
        ],
        [
         "KKR",
         "DC",
         "KKR",
         "3 wickets",
         "Sharjah",
         "Sep 28, 2021",
         "Twenty20",
         "https://www.espncricinfo.com//series/ipl-2021-1249214/kolkata-knight-riders-vs-delhi-capitals-41st-match-1254092/full-scorecard"
        ],
        [
         "SRH",
         "RR",
         "SRH",
         "7 wickets",
         "Dubai (DICS)",
         "Sep 27, 2021",
         "Twenty20",
         "https://www.espncricinfo.com//series/ipl-2021-1249214/sunrisers-hyderabad-vs-rajasthan-royals-40th-match-1254100/full-scorecard"
        ],
        [
         "RCB",
         "MI",
         "RCB",
         "54 runs",
         "Dubai (DICS)",
         "Sep 26, 2021",
         "Twenty20",
         "https://www.espncricinfo.com//series/ipl-2021-1249214/royal-challengers-bangalore-vs-mumbai-indians-39th-match-1254108/full-scorecard"
        ],
        [
         "CSK",
         "KKR",
         "CSK",
         "2 wickets",
         "Abu Dhabi",
         "Sep 26, 2021",
         "Twenty20",
         "https://www.espncricinfo.com//series/ipl-2021-1249214/chennai-super-kings-vs-kolkata-knight-riders-38th-match-1254098/full-scorecard"
        ],
        [
         "SRH",
         "Punjab Kings",
         "Punjab Kings",
         "5 runs",
         "Sharjah",
         "Sep 25, 2021",
         "Twenty20",
         "https://www.espncricinfo.com//series/ipl-2021-1249214/sunrisers-hyderabad-vs-punjab-kings-37th-match-1254107/full-scorecard"
        ],
        [
         "DC",
         "RR",
         "DC",
         "33 runs",
         "Abu Dhabi",
         "Sep 25, 2021",
         "Twenty20",
         "https://www.espncricinfo.com//series/ipl-2021-1249214/delhi-capitals-vs-rajasthan-royals-36th-match-1254097/full-scorecard"
        ],
        [
         "RCB",
         "CSK",
         "CSK",
         "6 wickets",
         "Sharjah",
         "Sep 24, 2021",
         "Twenty20",
         "https://www.espncricinfo.com//series/ipl-2021-1249214/royal-challengers-bangalore-vs-chennai-super-kings-35th-match-1254113/full-scorecard"
        ],
        [
         "MI",
         "KKR",
         "KKR",
         "7 wickets",
         "Abu Dhabi",
         "Sep 23, 2021",
         "Twenty20",
         "https://www.espncricinfo.com//series/ipl-2021-1249214/mumbai-indians-vs-kolkata-knight-riders-34th-match-1254096/full-scorecard"
        ],
        [
         "DC",
         "SRH",
         "DC",
         "8 wickets",
         "Dubai (DICS)",
         "Sep 22, 2021",
         "Twenty20",
         "https://www.espncricinfo.com//series/ipl-2021-1249214/delhi-capitals-vs-sunrisers-hyderabad-33rd-match-1254105/full-scorecard"
        ],
        [
         "Punjab Kings",
         "RR",
         "RR",
         "2 runs",
         "Dubai (DICS)",
         "Sep 21, 2021",
         "Twenty20",
         "https://www.espncricinfo.com//series/ipl-2021-1249214/punjab-kings-vs-rajasthan-royals-32nd-match-1254111/full-scorecard"
        ],
        [
         "KKR",
         "RCB",
         "KKR",
         "9 wickets",
         "Abu Dhabi",
         "Sep 20, 2021",
         "Twenty20",
         "https://www.espncricinfo.com//series/ipl-2021-1249214/kolkata-knight-riders-vs-royal-challengers-bangalore-31st-match-1254087/full-scorecard"
        ],
        [
         "CSK",
         "MI",
         "CSK",
         "20 runs",
         "Dubai (DICS)",
         "Sep 19, 2021",
         "Twenty20",
         "https://www.espncricinfo.com//series/ipl-2021-1249214/chennai-super-kings-vs-mumbai-indians-30th-match-1254104/full-scorecard"
        ],
        [
         "Punjab Kings",
         "DC",
         "DC",
         "7 wickets",
         "Ahmedabad",
         "May 2, 2021",
         "Twenty20",
         "https://www.espncricinfo.com//series/ipl-2021-1249214/punjab-kings-vs-delhi-capitals-29th-match-1254086/full-scorecard"
        ],
        [
         "RR",
         "SRH",
         "RR",
         "55 runs",
         "Delhi",
         "May 2, 2021",
         "Twenty20",
         "https://www.espncricinfo.com//series/ipl-2021-1249214/rajasthan-royals-vs-sunrisers-hyderabad-28th-match-1254085/full-scorecard"
        ],
        [
         "MI",
         "CSK",
         "MI",
         "4 wickets",
         "Delhi",
         "May 1, 2021",
         "Twenty20",
         "https://www.espncricinfo.com//series/ipl-2021-1249214/mumbai-indians-vs-chennai-super-kings-27th-match-1254084/full-scorecard"
        ],
        [
         "Punjab Kings",
         "RCB",
         "Punjab Kings",
         "34 runs",
         "Ahmedabad",
         "Apr 30, 2021",
         "Twenty20",
         "https://www.espncricinfo.com//series/ipl-2021-1249214/punjab-kings-vs-royal-challengers-bangalore-26th-match-1254083/full-scorecard"
        ],
        [
         "DC",
         "KKR",
         "DC",
         "7 wickets",
         "Ahmedabad",
         "Apr 29, 2021",
         "Twenty20",
         "https://www.espncricinfo.com//series/ipl-2021-1249214/delhi-capitals-vs-kolkata-knight-riders-25th-match-1254082/full-scorecard"
        ],
        [
         "MI",
         "RR",
         "MI",
         "7 wickets",
         "Delhi",
         "Apr 29, 2021",
         "Twenty20",
         "https://www.espncricinfo.com//series/ipl-2021-1249214/mumbai-indians-vs-rajasthan-royals-24th-match-1254081/full-scorecard"
        ],
        [
         "CSK",
         "SRH",
         "CSK",
         "7 wickets",
         "Delhi",
         "Apr 28, 2021",
         "Twenty20",
         "https://www.espncricinfo.com//series/ipl-2021-1249214/chennai-super-kings-vs-sunrisers-hyderabad-23rd-match-1254080/full-scorecard"
        ],
        [
         "DC",
         "RCB",
         "RCB",
         "1 run",
         "Ahmedabad",
         "Apr 27, 2021",
         "Twenty20",
         "https://www.espncricinfo.com//series/ipl-2021-1249214/delhi-capitals-vs-royal-challengers-bangalore-22nd-match-1254079/full-scorecard"
        ],
        [
         "Punjab Kings",
         "KKR",
         "KKR",
         "5 wickets",
         "Ahmedabad",
         "Apr 26, 2021",
         "Twenty20",
         "https://www.espncricinfo.com//series/ipl-2021-1249214/punjab-kings-vs-kolkata-knight-riders-21st-match-1254078/full-scorecard"
        ],
        [
         "SRH",
         "DC",
         "tied",
         "-",
         "Chennai",
         "Apr 25, 2021",
         "Twenty20",
         "https://www.espncricinfo.com//series/ipl-2021-1249214/sunrisers-hyderabad-vs-delhi-capitals-20th-match-1254077/full-scorecard"
        ],
        [
         "CSK",
         "RCB",
         "CSK",
         "69 runs",
         "Wankhede",
         "Apr 25, 2021",
         "Twenty20",
         "https://www.espncricinfo.com//series/ipl-2021-1249214/chennai-super-kings-vs-royal-challengers-bangalore-19th-match-1254076/full-scorecard"
        ],
        [
         "RR",
         "KKR",
         "RR",
         "6 wickets",
         "Wankhede",
         "Apr 24, 2021",
         "Twenty20",
         "https://www.espncricinfo.com//series/ipl-2021-1249214/rajasthan-royals-vs-kolkata-knight-riders-18th-match-1254075/full-scorecard"
        ],
        [
         "Punjab Kings",
         "MI",
         "Punjab Kings",
         "9 wickets",
         "Chennai",
         "Apr 23, 2021",
         "Twenty20",
         "https://www.espncricinfo.com//series/ipl-2021-1249214/punjab-kings-vs-mumbai-indians-17th-match-1254074/full-scorecard"
        ],
        [
         "RCB",
         "RR",
         "RCB",
         "10 wickets",
         "Wankhede",
         "Apr 22, 2021",
         "Twenty20",
         "https://www.espncricinfo.com//series/ipl-2021-1249214/royal-challengers-bangalore-vs-rajasthan-royals-16th-match-1254073/full-scorecard"
        ],
        [
         "KKR",
         "CSK",
         "CSK",
         "18 runs",
         "Wankhede",
         "Apr 21, 2021",
         "Twenty20",
         "https://www.espncricinfo.com//series/ipl-2021-1249214/kolkata-knight-riders-vs-chennai-super-kings-15th-match-1254072/full-scorecard"
        ],
        [
         "Punjab Kings",
         "SRH",
         "SRH",
         "9 wickets",
         "Chennai",
         "Apr 21, 2021",
         "Twenty20",
         "https://www.espncricinfo.com//series/ipl-2021-1249214/punjab-kings-vs-sunrisers-hyderabad-14th-match-1254071/full-scorecard"
        ],
        [
         "DC",
         "MI",
         "DC",
         "6 wickets",
         "Chennai",
         "Apr 20, 2021",
         "Twenty20",
         "https://www.espncricinfo.com//series/ipl-2021-1249214/delhi-capitals-vs-mumbai-indians-13th-match-1254070/full-scorecard"
        ],
        [
         "CSK",
         "RR",
         "CSK",
         "45 runs",
         "Wankhede",
         "Apr 19, 2021",
         "Twenty20",
         "https://www.espncricinfo.com//series/ipl-2021-1249214/chennai-super-kings-vs-rajasthan-royals-12th-match-1254069/full-scorecard"
        ],
        [
         "DC",
         "Punjab Kings",
         "DC",
         "6 wickets",
         "Wankhede",
         "Apr 18, 2021",
         "Twenty20",
         "https://www.espncricinfo.com//series/ipl-2021-1249214/delhi-capitals-vs-punjab-kings-11th-match-1254068/full-scorecard"
        ],
        [
         "RCB",
         "KKR",
         "RCB",
         "38 runs",
         "Chennai",
         "Apr 18, 2021",
         "Twenty20",
         "https://www.espncricinfo.com//series/ipl-2021-1249214/royal-challengers-bangalore-vs-kolkata-knight-riders-10th-match-1254067/full-scorecard"
        ],
        [
         "MI",
         "SRH",
         "MI",
         "13 runs",
         "Chennai",
         "Apr 17, 2021",
         "Twenty20",
         "https://www.espncricinfo.com//series/ipl-2021-1249214/mumbai-indians-vs-sunrisers-hyderabad-9th-match-1254066/full-scorecard"
        ],
        [
         "Punjab Kings",
         "CSK",
         "CSK",
         "6 wickets",
         "Wankhede",
         "Apr 16, 2021",
         "Twenty20",
         "https://www.espncricinfo.com//series/ipl-2021-1249214/punjab-kings-vs-chennai-super-kings-8th-match-1254065/full-scorecard"
        ],
        [
         "RR",
         "DC",
         "RR",
         "3 wickets",
         "Wankhede",
         "Apr 15, 2021",
         "Twenty20",
         "https://www.espncricinfo.com//series/ipl-2021-1249214/rajasthan-royals-vs-delhi-capitals-7th-match-1254064/full-scorecard"
        ],
        [
         "SRH",
         "RCB",
         "RCB",
         "6 runs",
         "Chennai",
         "Apr 14, 2021",
         "Twenty20",
         "https://www.espncricinfo.com//series/ipl-2021-1249214/sunrisers-hyderabad-vs-royal-challengers-bangalore-6th-match-1254063/full-scorecard"
        ],
        [
         "KKR",
         "MI",
         "MI",
         "10 runs",
         "Chennai",
         "Apr 13, 2021",
         "Twenty20",
         "https://www.espncricinfo.com//series/ipl-2021-1249214/kolkata-knight-riders-vs-mumbai-indians-5th-match-1254062/full-scorecard"
        ],
        [
         "RR",
         "Punjab Kings",
         "Punjab Kings",
         "4 runs",
         "Wankhede",
         "Apr 12, 2021",
         "Twenty20",
         "https://www.espncricinfo.com//series/ipl-2021-1249214/rajasthan-royals-vs-punjab-kings-4th-match-1254061/full-scorecard"
        ],
        [
         "SRH",
         "KKR",
         "KKR",
         "10 runs",
         "Chennai",
         "Apr 11, 2021",
         "Twenty20",
         "https://www.espncricinfo.com//series/ipl-2021-1249214/sunrisers-hyderabad-vs-kolkata-knight-riders-3rd-match-1254060/full-scorecard"
        ],
        [
         "CSK",
         "DC",
         "DC",
         "7 wickets",
         "Wankhede",
         "Apr 10, 2021",
         "Twenty20",
         "https://www.espncricinfo.com//series/ipl-2021-1249214/chennai-super-kings-vs-delhi-capitals-2nd-match-1254059/full-scorecard"
        ],
        [
         "MI",
         "RCB",
         "RCB",
         "2 wickets",
         "Chennai",
         "Apr 9, 2021",
         "Twenty20",
         "https://www.espncricinfo.com//series/ipl-2021-1249214/mumbai-indians-vs-royal-challengers-bangalore-1st-match-1254058/full-scorecard"
        ],
        [
         "DC",
         "MI",
         "MI",
         "5 wickets",
         "Dubai (DICS)",
         "Nov 10, 2020",
         "Twenty20",
         "https://www.espncricinfo.com//series/ipl-2020-21-1210595/delhi-capitals-vs-mumbai-indians-final-1237181/full-scorecard"
        ],
        [
         "DC",
         "SRH",
         "DC",
         "17 runs",
         "Abu Dhabi",
         "Nov 8, 2020",
         "Twenty20",
         "https://www.espncricinfo.com//series/ipl-2020-21-1210595/delhi-capitals-vs-sunrisers-hyderabad-qualifier-2-1237180/full-scorecard"
        ],
        [
         "RCB",
         "SRH",
         "SRH",
         "6 wickets",
         "Abu Dhabi",
         "Nov 6, 2020",
         "Twenty20",
         "https://www.espncricinfo.com//series/ipl-2020-21-1210595/royal-challengers-bangalore-vs-sunrisers-hyderabad-eliminator-1237178/full-scorecard"
        ],
        [
         "DC",
         "MI",
         "MI",
         "57 runs",
         "Dubai (DICS)",
         "Nov 5, 2020",
         "Twenty20",
         "https://www.espncricinfo.com//series/ipl-2020-21-1210595/delhi-capitals-vs-mumbai-indians-qualifier-1-1237177/full-scorecard"
        ],
        [
         "SRH",
         "MI",
         "SRH",
         "10 wickets",
         "Sharjah",
         "Nov 3, 2020",
         "Twenty20",
         "https://www.espncricinfo.com//series/ipl-2020-21-1210595/sunrisers-hyderabad-vs-mumbai-indians-56th-match-1216495/full-scorecard"
        ],
        [
         "DC",
         "RCB",
         "DC",
         "6 wickets",
         "Abu Dhabi",
         "Nov 2, 2020",
         "Twenty20",
         "https://www.espncricinfo.com//series/ipl-2020-21-1210595/delhi-capitals-vs-royal-challengers-bangalore-55th-match-1216505/full-scorecard"
        ],
        [
         "KKR",
         "RR",
         "KKR",
         "60 runs",
         "Dubai (DICS)",
         "Nov 1, 2020",
         "Twenty20",
         "https://www.espncricinfo.com//series/ipl-2020-21-1210595/kolkata-knight-riders-vs-rajasthan-royals-54th-match-1216530/full-scorecard"
        ],
        [
         "CSK",
         "Kings XI",
         "CSK",
         "9 wickets",
         "Abu Dhabi",
         "Nov 1, 2020",
         "Twenty20",
         "https://www.espncricinfo.com//series/ipl-2020-21-1210595/chennai-super-kings-vs-kings-xi-punjab-53rd-match-1216506/full-scorecard"
        ],
        [
         "RCB",
         "SRH",
         "SRH",
         "5 wickets",
         "Sharjah",
         "Oct 31, 2020",
         "Twenty20",
         "https://www.espncricinfo.com//series/ipl-2020-21-1210595/royal-challengers-bangalore-vs-sunrisers-hyderabad-52nd-match-1216502/full-scorecard"
        ],
        [
         "DC",
         "MI",
         "MI",
         "9 wickets",
         "Dubai (DICS)",
         "Oct 31, 2020",
         "Twenty20",
         "https://www.espncricinfo.com//series/ipl-2020-21-1210595/delhi-capitals-vs-mumbai-indians-51st-match-1216535/full-scorecard"
        ],
        [
         "Kings XI",
         "RR",
         "RR",
         "7 wickets",
         "Abu Dhabi",
         "Oct 30, 2020",
         "Twenty20",
         "https://www.espncricinfo.com//series/ipl-2020-21-1210595/kings-xi-punjab-vs-rajasthan-royals-50th-match-1216537/full-scorecard"
        ],
        [
         "CSK",
         "KKR",
         "CSK",
         "6 wickets",
         "Dubai (DICS)",
         "Oct 29, 2020",
         "Twenty20",
         "https://www.espncricinfo.com//series/ipl-2020-21-1210595/chennai-super-kings-vs-kolkata-knight-riders-49th-match-1216536/full-scorecard"
        ],
        [
         "MI",
         "RCB",
         "MI",
         "5 wickets",
         "Abu Dhabi",
         "Oct 28, 2020",
         "Twenty20",
         "https://www.espncricinfo.com//series/ipl-2020-21-1210595/mumbai-indians-vs-royal-challengers-bangalore-48th-match-1216499/full-scorecard"
        ],
        [
         "SRH",
         "DC",
         "SRH",
         "88 runs",
         "Dubai (DICS)",
         "Oct 27, 2020",
         "Twenty20",
         "https://www.espncricinfo.com//series/ipl-2020-21-1210595/sunrisers-hyderabad-vs-delhi-capitals-47th-match-1216524/full-scorecard"
        ],
        [
         "KKR",
         "Kings XI",
         "Kings XI",
         "8 wickets",
         "Sharjah",
         "Oct 26, 2020",
         "Twenty20",
         "https://www.espncricinfo.com//series/ipl-2020-21-1210595/kolkata-knight-riders-vs-kings-xi-punjab-46th-match-1216520/full-scorecard"
        ],
        [
         "RR",
         "MI",
         "RR",
         "8 wickets",
         "Abu Dhabi",
         "Oct 25, 2020",
         "Twenty20",
         "https://www.espncricinfo.com//series/ipl-2020-21-1210595/rajasthan-royals-vs-mumbai-indians-45th-match-1216541/full-scorecard"
        ],
        [
         "RCB",
         "CSK",
         "CSK",
         "8 wickets",
         "Dubai (DICS)",
         "Oct 25, 2020",
         "Twenty20",
         "https://www.espncricinfo.com//series/ipl-2020-21-1210595/royal-challengers-bangalore-vs-chennai-super-kings-44th-match-1216544/full-scorecard"
        ],
        [
         "Kings XI",
         "SRH",
         "Kings XI",
         "12 runs",
         "Dubai (DICS)",
         "Oct 24, 2020",
         "Twenty20",
         "https://www.espncricinfo.com//series/ipl-2020-21-1210595/kings-xi-punjab-vs-sunrisers-hyderabad-43rd-match-1216498/full-scorecard"
        ],
        [
         "KKR",
         "DC",
         "KKR",
         "59 runs",
         "Abu Dhabi",
         "Oct 24, 2020",
         "Twenty20",
         "https://www.espncricinfo.com//series/ipl-2020-21-1210595/kolkata-knight-riders-vs-delhi-capitals-42nd-match-1216497/full-scorecard"
        ],
        [
         "CSK",
         "MI",
         "MI",
         "10 wickets",
         "Sharjah",
         "Oct 23, 2020",
         "Twenty20",
         "https://www.espncricinfo.com//series/ipl-2020-21-1210595/chennai-super-kings-vs-mumbai-indians-41st-match-1216521/full-scorecard"
        ],
        [
         "RR",
         "SRH",
         "SRH",
         "8 wickets",
         "Dubai (DICS)",
         "Oct 22, 2020",
         "Twenty20",
         "https://www.espncricinfo.com//series/ipl-2020-21-1210595/rajasthan-royals-vs-sunrisers-hyderabad-40th-match-1216518/full-scorecard"
        ],
        [
         "KKR",
         "RCB",
         "RCB",
         "8 wickets",
         "Abu Dhabi",
         "Oct 21, 2020",
         "Twenty20",
         "https://www.espncricinfo.com//series/ipl-2020-21-1210595/kolkata-knight-riders-vs-royal-challengers-bangalore-39th-match-1216494/full-scorecard"
        ],
        [
         "Kings XI",
         "DC",
         "Kings XI",
         "5 wickets",
         "Dubai (DICS)",
         "Oct 20, 2020",
         "Twenty20",
         "https://www.espncricinfo.com//series/ipl-2020-21-1210595/kings-xi-punjab-vs-delhi-capitals-38th-match-1216546/full-scorecard"
        ],
        [
         "CSK",
         "RR",
         "RR",
         "7 wickets",
         "Abu Dhabi",
         "Oct 19, 2020",
         "Twenty20",
         "https://www.espncricinfo.com//series/ipl-2020-21-1210595/chennai-super-kings-vs-rajasthan-royals-37th-match-1216533/full-scorecard"
        ],
        [
         "MI",
         "Kings XI",
         "tied",
         "-",
         "Dubai (DICS)",
         "Oct 18, 2020",
         "Twenty20",
         "https://www.espncricinfo.com//series/ipl-2020-21-1210595/mumbai-indians-vs-kings-xi-punjab-36th-match-1216517/full-scorecard"
        ],
        [
         "SRH",
         "KKR",
         "tied",
         "-",
         "Abu Dhabi",
         "Oct 18, 2020",
         "Twenty20",
         "https://www.espncricinfo.com//series/ipl-2020-21-1210595/sunrisers-hyderabad-vs-kolkata-knight-riders-35th-match-1216512/full-scorecard"
        ],
        [
         "DC",
         "CSK",
         "DC",
         "5 wickets",
         "Sharjah",
         "Oct 17, 2020",
         "Twenty20",
         "https://www.espncricinfo.com//series/ipl-2020-21-1210595/delhi-capitals-vs-chennai-super-kings-34th-match-1216509/full-scorecard"
        ],
        [
         "RR",
         "RCB",
         "RCB",
         "7 wickets",
         "Dubai (DICS)",
         "Oct 17, 2020",
         "Twenty20",
         "https://www.espncricinfo.com//series/ipl-2020-21-1210595/rajasthan-royals-vs-royal-challengers-bangalore-33rd-match-1216522/full-scorecard"
        ],
        [
         "MI",
         "KKR",
         "MI",
         "8 wickets",
         "Abu Dhabi",
         "Oct 16, 2020",
         "Twenty20",
         "https://www.espncricinfo.com//series/ipl-2020-21-1210595/mumbai-indians-vs-kolkata-knight-riders-32nd-match-1216526/full-scorecard"
        ],
        [
         "RCB",
         "Kings XI",
         "Kings XI",
         "8 wickets",
         "Sharjah",
         "Oct 15, 2020",
         "Twenty20",
         "https://www.espncricinfo.com//series/ipl-2020-21-1210595/royal-challengers-bangalore-vs-kings-xi-punjab-31st-match-1216531/full-scorecard"
        ],
        [
         "DC",
         "RR",
         "DC",
         "13 runs",
         "Dubai (DICS)",
         "Oct 14, 2020",
         "Twenty20",
         "https://www.espncricinfo.com//series/ipl-2020-21-1210595/delhi-capitals-vs-rajasthan-royals-30th-match-1216543/full-scorecard"
        ],
        [
         "SRH",
         "CSK",
         "CSK",
         "20 runs",
         "Dubai (DICS)",
         "Oct 13, 2020",
         "Twenty20",
         "https://www.espncricinfo.com//series/ipl-2020-21-1210595/sunrisers-hyderabad-vs-chennai-super-kings-29th-match-1216528/full-scorecard"
        ],
        [
         "RCB",
         "KKR",
         "RCB",
         "82 runs",
         "Sharjah",
         "Oct 12, 2020",
         "Twenty20",
         "https://www.espncricinfo.com//series/ipl-2020-21-1210595/royal-challengers-bangalore-vs-kolkata-knight-riders-28th-match-1216540/full-scorecard"
        ],
        [
         "MI",
         "DC",
         "MI",
         "5 wickets",
         "Abu Dhabi",
         "Oct 11, 2020",
         "Twenty20",
         "https://www.espncricinfo.com//series/ipl-2020-21-1210595/mumbai-indians-vs-delhi-capitals-27th-match-1216529/full-scorecard"
        ],
        [
         "SRH",
         "RR",
         "RR",
         "5 wickets",
         "Dubai (DICS)",
         "Oct 11, 2020",
         "Twenty20",
         "https://www.espncricinfo.com//series/ipl-2020-21-1210595/sunrisers-hyderabad-vs-rajasthan-royals-26th-match-1216507/full-scorecard"
        ],
        [
         "CSK",
         "RCB",
         "RCB",
         "37 runs",
         "Dubai (DICS)",
         "Oct 10, 2020",
         "Twenty20",
         "https://www.espncricinfo.com//series/ipl-2020-21-1210595/chennai-super-kings-vs-royal-challengers-bangalore-25th-match-1216525/full-scorecard"
        ],
        [
         "Kings XI",
         "KKR",
         "KKR",
         "2 runs",
         "Abu Dhabi",
         "Oct 10, 2020",
         "Twenty20",
         "https://www.espncricinfo.com//series/ipl-2020-21-1210595/kings-xi-punjab-vs-kolkata-knight-riders-24th-match-1216523/full-scorecard"
        ],
        [
         "RR",
         "DC",
         "DC",
         "46 runs",
         "Sharjah",
         "Oct 9, 2020",
         "Twenty20",
         "https://www.espncricinfo.com//series/ipl-2020-21-1210595/rajasthan-royals-vs-delhi-capitals-23rd-match-1216500/full-scorecard"
        ],
        [
         "SRH",
         "Kings XI",
         "SRH",
         "69 runs",
         "Dubai (DICS)",
         "Oct 8, 2020",
         "Twenty20",
         "https://www.espncricinfo.com//series/ipl-2020-21-1210595/sunrisers-hyderabad-vs-kings-xi-punjab-22nd-match-1216542/full-scorecard"
        ],
        [
         "KKR",
         "CSK",
         "KKR",
         "10 runs",
         "Abu Dhabi",
         "Oct 7, 2020",
         "Twenty20",
         "https://www.espncricinfo.com//series/ipl-2020-21-1210595/kolkata-knight-riders-vs-chennai-super-kings-21st-match-1216501/full-scorecard"
        ],
        [
         "MI",
         "RR",
         "MI",
         "57 runs",
         "Abu Dhabi",
         "Oct 6, 2020",
         "Twenty20",
         "https://www.espncricinfo.com//series/ipl-2020-21-1210595/mumbai-indians-vs-rajasthan-royals-20th-match-1216511/full-scorecard"
        ],
        [
         "RCB",
         "DC",
         "DC",
         "59 runs",
         "Dubai (DICS)",
         "Oct 5, 2020",
         "Twenty20",
         "https://www.espncricinfo.com//series/ipl-2020-21-1210595/royal-challengers-bangalore-vs-delhi-capitals-19th-match-1216519/full-scorecard"
        ],
        [
         "Kings XI",
         "CSK",
         "CSK",
         "10 wickets",
         "Dubai (DICS)",
         "Oct 4, 2020",
         "Twenty20",
         "https://www.espncricinfo.com//series/ipl-2020-21-1210595/kings-xi-punjab-vs-chennai-super-kings-18th-match-1216513/full-scorecard"
        ],
        [
         "MI",
         "SRH",
         "MI",
         "34 runs",
         "Sharjah",
         "Oct 4, 2020",
         "Twenty20",
         "https://www.espncricinfo.com//series/ipl-2020-21-1210595/mumbai-indians-vs-sunrisers-hyderabad-17th-match-1216538/full-scorecard"
        ],
        [
         "DC",
         "KKR",
         "DC",
         "18 runs",
         "Sharjah",
         "Oct 3, 2020",
         "Twenty20",
         "https://www.espncricinfo.com//series/ipl-2020-21-1210595/delhi-capitals-vs-kolkata-knight-riders-16th-match-1216515/full-scorecard"
        ],
        [
         "RCB",
         "RR",
         "RCB",
         "8 wickets",
         "Abu Dhabi",
         "Oct 3, 2020",
         "Twenty20",
         "https://www.espncricinfo.com//series/ipl-2020-21-1210595/royal-challengers-bangalore-vs-rajasthan-royals-15th-match-1216514/full-scorecard"
        ],
        [
         "CSK",
         "SRH",
         "SRH",
         "7 runs",
         "Dubai (DICS)",
         "Oct 2, 2020",
         "Twenty20",
         "https://www.espncricinfo.com//series/ipl-2020-21-1210595/chennai-super-kings-vs-sunrisers-hyderabad-14th-match-1216516/full-scorecard"
        ],
        [
         "Kings XI",
         "MI",
         "MI",
         "48 runs",
         "Abu Dhabi",
         "Oct 1, 2020",
         "Twenty20",
         "https://www.espncricinfo.com//series/ipl-2020-21-1210595/kings-xi-punjab-vs-mumbai-indians-13th-match-1216503/full-scorecard"
        ],
        [
         "RR",
         "KKR",
         "KKR",
         "37 runs",
         "Dubai (DICS)",
         "Sep 30, 2020",
         "Twenty20",
         "https://www.espncricinfo.com//series/ipl-2020-21-1210595/rajasthan-royals-vs-kolkata-knight-riders-12th-match-1216504/full-scorecard"
        ],
        [
         "DC",
         "SRH",
         "SRH",
         "15 runs",
         "Abu Dhabi",
         "Sep 29, 2020",
         "Twenty20",
         "https://www.espncricinfo.com//series/ipl-2020-21-1210595/delhi-capitals-vs-sunrisers-hyderabad-11th-match-1216532/full-scorecard"
        ],
        [
         "RCB",
         "MI",
         "tied",
         "-",
         "Dubai (DICS)",
         "Sep 28, 2020",
         "Twenty20",
         "https://www.espncricinfo.com//series/ipl-2020-21-1210595/royal-challengers-bangalore-vs-mumbai-indians-10th-match-1216547/full-scorecard"
        ],
        [
         "RR",
         "Kings XI",
         "RR",
         "4 wickets",
         "Sharjah",
         "Sep 27, 2020",
         "Twenty20",
         "https://www.espncricinfo.com//series/ipl-2020-21-1210595/rajasthan-royals-vs-kings-xi-punjab-9th-match-1216527/full-scorecard"
        ],
        [
         "KKR",
         "SRH",
         "KKR",
         "7 wickets",
         "Abu Dhabi",
         "Sep 26, 2020",
         "Twenty20",
         "https://www.espncricinfo.com//series/ipl-2020-21-1210595/kolkata-knight-riders-vs-sunrisers-hyderabad-8th-match-1216545/full-scorecard"
        ],
        [
         "CSK",
         "DC",
         "DC",
         "44 runs",
         "Dubai (DICS)",
         "Sep 25, 2020",
         "Twenty20",
         "https://www.espncricinfo.com//series/ipl-2020-21-1210595/chennai-super-kings-vs-delhi-capitals-7th-match-1216539/full-scorecard"
        ],
        [
         "Kings XI",
         "RCB",
         "Kings XI",
         "97 runs",
         "Dubai (DICS)",
         "Sep 24, 2020",
         "Twenty20",
         "https://www.espncricinfo.com//series/ipl-2020-21-1210595/kings-xi-punjab-vs-royal-challengers-bangalore-6th-match-1216510/full-scorecard"
        ],
        [
         "KKR",
         "MI",
         "MI",
         "49 runs",
         "Abu Dhabi",
         "Sep 23, 2020",
         "Twenty20",
         "https://www.espncricinfo.com//series/ipl-2020-21-1210595/kolkata-knight-riders-vs-mumbai-indians-5th-match-1216508/full-scorecard"
        ],
        [
         "RR",
         "CSK",
         "RR",
         "16 runs",
         "Sharjah",
         "Sep 22, 2020",
         "Twenty20",
         "https://www.espncricinfo.com//series/ipl-2020-21-1210595/rajasthan-royals-vs-chennai-super-kings-4th-match-1216496/full-scorecard"
        ],
        [
         "SRH",
         "RCB",
         "RCB",
         "10 runs",
         "Dubai (DICS)",
         "Sep 21, 2020",
         "Twenty20",
         "https://www.espncricinfo.com//series/ipl-2020-21-1210595/sunrisers-hyderabad-vs-royal-challengers-bangalore-3rd-match-1216534/full-scorecard"
        ],
        [
         "DC",
         "Kings XI",
         "tied",
         "-",
         "Dubai (DICS)",
         "Sep 20, 2020",
         "Twenty20",
         "https://www.espncricinfo.com//series/ipl-2020-21-1210595/delhi-capitals-vs-kings-xi-punjab-2nd-match-1216493/full-scorecard"
        ],
        [
         "MI",
         "CSK",
         "CSK",
         "5 wickets",
         "Abu Dhabi",
         "Sep 19, 2020",
         "Twenty20",
         "https://www.espncricinfo.com//series/ipl-2020-21-1210595/mumbai-indians-vs-chennai-super-kings-1st-match-1216492/full-scorecard"
        ],
        [
         "CSK",
         "MI",
         "MI",
         "1 run",
         "Hyderabad",
         "May 12, 2019",
         "Twenty20",
         "https://www.espncricinfo.com//series/ipl-2019-1165643/chennai-super-kings-vs-mumbai-indians-final-1181768/full-scorecard"
        ],
        [
         "CSK",
         "DC",
         "CSK",
         "6 wickets",
         "Visakhapatnam",
         "May 10, 2019",
         "Twenty20",
         "https://www.espncricinfo.com//series/ipl-2019-1165643/chennai-super-kings-vs-delhi-capitals-qualifier-2-1181767/full-scorecard"
        ],
        [
         "SRH",
         "DC",
         "DC",
         "2 wickets",
         "Visakhapatnam",
         "May 8, 2019",
         "Twenty20",
         "https://www.espncricinfo.com//series/ipl-2019-1165643/sunrisers-hyderabad-vs-delhi-capitals-eliminator-1181766/full-scorecard"
        ],
        [
         "CSK",
         "MI",
         "MI",
         "6 wickets",
         "Chennai",
         "May 7, 2019",
         "Twenty20",
         "https://www.espncricinfo.com//series/ipl-2019-1165643/chennai-super-kings-vs-mumbai-indians-qualifier-1-1181764/full-scorecard"
        ],
        [
         "MI",
         "KKR",
         "MI",
         "9 wickets",
         "Wankhede",
         "May 5, 2019",
         "Twenty20",
         "https://www.espncricinfo.com//series/ipl-2019-1165643/mumbai-indians-vs-kolkata-knight-riders-56th-match-1178431/full-scorecard"
        ],
        [
         "Kings XI",
         "CSK",
         "Kings XI",
         "6 wickets",
         "Mohali",
         "May 5, 2019",
         "Twenty20",
         "https://www.espncricinfo.com//series/ipl-2019-1165643/kings-xi-punjab-vs-chennai-super-kings-55th-match-1178430/full-scorecard"
        ],
        [
         "RCB",
         "SRH",
         "RCB",
         "4 wickets",
         "Bengaluru",
         "May 4, 2019",
         "Twenty20",
         "https://www.espncricinfo.com//series/ipl-2019-1165643/royal-challengers-bangalore-vs-sunrisers-hyderabad-54th-match-1178429/full-scorecard"
        ],
        [
         "DC",
         "RR",
         "DC",
         "5 wickets",
         "Delhi",
         "May 4, 2019",
         "Twenty20",
         "https://www.espncricinfo.com//series/ipl-2019-1165643/delhi-capitals-vs-rajasthan-royals-53rd-match-1178428/full-scorecard"
        ],
        [
         "Kings XI",
         "KKR",
         "KKR",
         "7 wickets",
         "Mohali",
         "May 3, 2019",
         "Twenty20",
         "https://www.espncricinfo.com//series/ipl-2019-1165643/kings-xi-punjab-vs-kolkata-knight-riders-52nd-match-1178427/full-scorecard"
        ],
        [
         "MI",
         "SRH",
         "tied",
         "-",
         "Wankhede",
         "May 2, 2019",
         "Twenty20",
         "https://www.espncricinfo.com//series/ipl-2019-1165643/mumbai-indians-vs-sunrisers-hyderabad-51st-match-1178426/full-scorecard"
        ],
        [
         "CSK",
         "DC",
         "CSK",
         "80 runs",
         "Chennai",
         "May 1, 2019",
         "Twenty20",
         "https://www.espncricinfo.com//series/ipl-2019-1165643/chennai-super-kings-vs-delhi-capitals-50th-match-1178425/full-scorecard"
        ],
        [
         "RCB",
         "RR",
         "no result",
         "-",
         "Bengaluru",
         "Apr 30, 2019",
         "Twenty20",
         "https://www.espncricinfo.com//series/ipl-2019-1165643/royal-challengers-bangalore-vs-rajasthan-royals-49th-match-1178424/full-scorecard"
        ],
        [
         "SRH",
         "Kings XI",
         "SRH",
         "45 runs",
         "Hyderabad",
         "Apr 29, 2019",
         "Twenty20",
         "https://www.espncricinfo.com//series/ipl-2019-1165643/sunrisers-hyderabad-vs-kings-xi-punjab-48th-match-1178423/full-scorecard"
        ],
        [
         "KKR",
         "MI",
         "KKR",
         "34 runs",
         "Eden Gardens",
         "Apr 28, 2019",
         "Twenty20",
         "https://www.espncricinfo.com//series/ipl-2019-1165643/kolkata-knight-riders-vs-mumbai-indians-47th-match-1178422/full-scorecard"
        ],
        [
         "DC",
         "RCB",
         "DC",
         "16 runs",
         "Delhi",
         "Apr 28, 2019",
         "Twenty20",
         "https://www.espncricinfo.com//series/ipl-2019-1165643/delhi-capitals-vs-royal-challengers-bangalore-46th-match-1178421/full-scorecard"
        ],
        [
         "RR",
         "SRH",
         "RR",
         "7 wickets",
         "Jaipur",
         "Apr 27, 2019",
         "Twenty20",
         "https://www.espncricinfo.com//series/ipl-2019-1165643/rajasthan-royals-vs-sunrisers-hyderabad-45th-match-1178420/full-scorecard"
        ],
        [
         "CSK",
         "MI",
         "MI",
         "46 runs",
         "Chennai",
         "Apr 26, 2019",
         "Twenty20",
         "https://www.espncricinfo.com//series/ipl-2019-1165643/chennai-super-kings-vs-mumbai-indians-44th-match-1178419/full-scorecard"
        ],
        [
         "KKR",
         "RR",
         "RR",
         "3 wickets",
         "Eden Gardens",
         "Apr 25, 2019",
         "Twenty20",
         "https://www.espncricinfo.com//series/ipl-2019-1165643/kolkata-knight-riders-vs-rajasthan-royals-43rd-match-1178418/full-scorecard"
        ],
        [
         "RCB",
         "Kings XI",
         "RCB",
         "17 runs",
         "Bengaluru",
         "Apr 24, 2019",
         "Twenty20",
         "https://www.espncricinfo.com//series/ipl-2019-1165643/royal-challengers-bangalore-vs-kings-xi-punjab-42nd-match-1178417/full-scorecard"
        ],
        [
         "CSK",
         "SRH",
         "CSK",
         "6 wickets",
         "Chennai",
         "Apr 23, 2019",
         "Twenty20",
         "https://www.espncricinfo.com//series/ipl-2019-1165643/chennai-super-kings-vs-sunrisers-hyderabad-41st-match-1178416/full-scorecard"
        ],
        [
         "RR",
         "DC",
         "DC",
         "6 wickets",
         "Jaipur",
         "Apr 22, 2019",
         "Twenty20",
         "https://www.espncricinfo.com//series/ipl-2019-1165643/rajasthan-royals-vs-delhi-capitals-40th-match-1178415/full-scorecard"
        ],
        [
         "RCB",
         "CSK",
         "RCB",
         "1 run",
         "Bengaluru",
         "Apr 21, 2019",
         "Twenty20",
         "https://www.espncricinfo.com//series/ipl-2019-1165643/royal-challengers-bangalore-vs-chennai-super-kings-39th-match-1178414/full-scorecard"
        ],
        [
         "SRH",
         "KKR",
         "SRH",
         "9 wickets",
         "Hyderabad",
         "Apr 21, 2019",
         "Twenty20",
         "https://www.espncricinfo.com//series/ipl-2019-1165643/sunrisers-hyderabad-vs-kolkata-knight-riders-38th-match-1178413/full-scorecard"
        ],
        [
         "DC",
         "Kings XI",
         "DC",
         "5 wickets",
         "Delhi",
         "Apr 20, 2019",
         "Twenty20",
         "https://www.espncricinfo.com//series/ipl-2019-1165643/delhi-capitals-vs-kings-xi-punjab-37th-match-1178412/full-scorecard"
        ],
        [
         "RR",
         "MI",
         "RR",
         "5 wickets",
         "Jaipur",
         "Apr 20, 2019",
         "Twenty20",
         "https://www.espncricinfo.com//series/ipl-2019-1165643/rajasthan-royals-vs-mumbai-indians-36th-match-1178411/full-scorecard"
        ],
        [
         "KKR",
         "RCB",
         "RCB",
         "10 runs",
         "Eden Gardens",
         "Apr 19, 2019",
         "Twenty20",
         "https://www.espncricinfo.com//series/ipl-2019-1165643/kolkata-knight-riders-vs-royal-challengers-bangalore-35th-match-1178410/full-scorecard"
        ],
        [
         "DC",
         "MI",
         "MI",
         "40 runs",
         "Delhi",
         "Apr 18, 2019",
         "Twenty20",
         "https://www.espncricinfo.com//series/ipl-2019-1165643/delhi-capitals-vs-mumbai-indians-34th-match-1178409/full-scorecard"
        ],
        [
         "SRH",
         "CSK",
         "SRH",
         "6 wickets",
         "Hyderabad",
         "Apr 17, 2019",
         "Twenty20",
         "https://www.espncricinfo.com//series/ipl-2019-1165643/sunrisers-hyderabad-vs-chennai-super-kings-33rd-match-1178408/full-scorecard"
        ],
        [
         "Kings XI",
         "RR",
         "Kings XI",
         "12 runs",
         "Mohali",
         "Apr 16, 2019",
         "Twenty20",
         "https://www.espncricinfo.com//series/ipl-2019-1165643/kings-xi-punjab-vs-rajasthan-royals-32nd-match-1178407/full-scorecard"
        ],
        [
         "MI",
         "RCB",
         "MI",
         "5 wickets",
         "Wankhede",
         "Apr 15, 2019",
         "Twenty20",
         "https://www.espncricinfo.com//series/ipl-2019-1165643/mumbai-indians-vs-royal-challengers-bangalore-31st-match-1178406/full-scorecard"
        ],
        [
         "SRH",
         "DC",
         "DC",
         "39 runs",
         "Hyderabad",
         "Apr 14, 2019",
         "Twenty20",
         "https://www.espncricinfo.com//series/ipl-2019-1165643/sunrisers-hyderabad-vs-delhi-capitals-30th-match-1178405/full-scorecard"
        ],
        [
         "KKR",
         "CSK",
         "CSK",
         "5 wickets",
         "Eden Gardens",
         "Apr 14, 2019",
         "Twenty20",
         "https://www.espncricinfo.com//series/ipl-2019-1165643/kolkata-knight-riders-vs-chennai-super-kings-29th-match-1178404/full-scorecard"
        ],
        [
         "Kings XI",
         "RCB",
         "RCB",
         "8 wickets",
         "Mohali",
         "Apr 13, 2019",
         "Twenty20",
         "https://www.espncricinfo.com//series/ipl-2019-1165643/kings-xi-punjab-vs-royal-challengers-bangalore-28th-match-1178403/full-scorecard"
        ],
        [
         "MI",
         "RR",
         "RR",
         "4 wickets",
         "Wankhede",
         "Apr 13, 2019",
         "Twenty20",
         "https://www.espncricinfo.com//series/ipl-2019-1165643/mumbai-indians-vs-rajasthan-royals-27th-match-1178402/full-scorecard"
        ],
        [
         "KKR",
         "DC",
         "DC",
         "7 wickets",
         "Eden Gardens",
         "Apr 12, 2019",
         "Twenty20",
         "https://www.espncricinfo.com//series/ipl-2019-1165643/kolkata-knight-riders-vs-delhi-capitals-26th-match-1178401/full-scorecard"
        ],
        [
         "RR",
         "CSK",
         "CSK",
         "4 wickets",
         "Jaipur",
         "Apr 11, 2019",
         "Twenty20",
         "https://www.espncricinfo.com//series/ipl-2019-1165643/rajasthan-royals-vs-chennai-super-kings-25th-match-1178400/full-scorecard"
        ],
        [
         "MI",
         "Kings XI",
         "MI",
         "3 wickets",
         "Wankhede",
         "Apr 10, 2019",
         "Twenty20",
         "https://www.espncricinfo.com//series/ipl-2019-1165643/mumbai-indians-vs-kings-xi-punjab-24th-match-1178399/full-scorecard"
        ],
        [
         "CSK",
         "KKR",
         "CSK",
         "7 wickets",
         "Chennai",
         "Apr 9, 2019",
         "Twenty20",
         "https://www.espncricinfo.com//series/ipl-2019-1165643/chennai-super-kings-vs-kolkata-knight-riders-23rd-match-1178398/full-scorecard"
        ],
        [
         "Kings XI",
         "SRH",
         "Kings XI",
         "6 wickets",
         "Mohali",
         "Apr 8, 2019",
         "Twenty20",
         "https://www.espncricinfo.com//series/ipl-2019-1165643/kings-xi-punjab-vs-sunrisers-hyderabad-22nd-match-1178397/full-scorecard"
        ],
        [
         "RR",
         "KKR",
         "KKR",
         "8 wickets",
         "Jaipur",
         "Apr 7, 2019",
         "Twenty20",
         "https://www.espncricinfo.com//series/ipl-2019-1165643/rajasthan-royals-vs-kolkata-knight-riders-21st-match-1178396/full-scorecard"
        ],
        [
         "RCB",
         "DC",
         "DC",
         "4 wickets",
         "Bengaluru",
         "Apr 7, 2019",
         "Twenty20",
         "https://www.espncricinfo.com//series/ipl-2019-1165643/royal-challengers-bangalore-vs-delhi-capitals-20th-match-1178395/full-scorecard"
        ],
        [
         "SRH",
         "MI",
         "MI",
         "40 runs",
         "Hyderabad",
         "Apr 6, 2019",
         "Twenty20",
         "https://www.espncricinfo.com//series/ipl-2019-1165643/sunrisers-hyderabad-vs-mumbai-indians-19th-match-1178394/full-scorecard"
        ],
        [
         "CSK",
         "Kings XI",
         "CSK",
         "22 runs",
         "Chennai",
         "Apr 6, 2019",
         "Twenty20",
         "https://www.espncricinfo.com//series/ipl-2019-1165643/chennai-super-kings-vs-kings-xi-punjab-18th-match-1178393/full-scorecard"
        ],
        [
         "RCB",
         "KKR",
         "KKR",
         "5 wickets",
         "Bengaluru",
         "Apr 5, 2019",
         "Twenty20",
         "https://www.espncricinfo.com//series/ipl-2019-1165643/royal-challengers-bangalore-vs-kolkata-knight-riders-17th-match-1175372/full-scorecard"
        ],
        [
         "DC",
         "SRH",
         "SRH",
         "5 wickets",
         "Delhi",
         "Apr 4, 2019",
         "Twenty20",
         "https://www.espncricinfo.com//series/ipl-2019-1165643/delhi-capitals-vs-sunrisers-hyderabad-16th-match-1175371/full-scorecard"
        ],
        [
         "MI",
         "CSK",
         "MI",
         "37 runs",
         "Wankhede",
         "Apr 3, 2019",
         "Twenty20",
         "https://www.espncricinfo.com//series/ipl-2019-1165643/mumbai-indians-vs-chennai-super-kings-15th-match-1175370/full-scorecard"
        ],
        [
         "RR",
         "RCB",
         "RR",
         "7 wickets",
         "Jaipur",
         "Apr 2, 2019",
         "Twenty20",
         "https://www.espncricinfo.com//series/ipl-2019-1165643/rajasthan-royals-vs-royal-challengers-bangalore-14th-match-1175369/full-scorecard"
        ],
        [
         "Kings XI",
         "DC",
         "Kings XI",
         "14 runs",
         "Mohali",
         "Apr 1, 2019",
         "Twenty20",
         "https://www.espncricinfo.com//series/ipl-2019-1165643/kings-xi-punjab-vs-delhi-capitals-13th-match-1175368/full-scorecard"
        ],
        [
         "CSK",
         "RR",
         "CSK",
         "8 runs",
         "Chennai",
         "Mar 31, 2019",
         "Twenty20",
         "https://www.espncricinfo.com//series/ipl-2019-1165643/chennai-super-kings-vs-rajasthan-royals-12th-match-1175367/full-scorecard"
        ],
        [
         "SRH",
         "RCB",
         "SRH",
         "118 runs",
         "Hyderabad",
         "Mar 31, 2019",
         "Twenty20",
         "https://www.espncricinfo.com//series/ipl-2019-1165643/sunrisers-hyderabad-vs-royal-challengers-bangalore-11th-match-1175366/full-scorecard"
        ],
        [
         "DC",
         "KKR",
         "tied",
         "-",
         "Delhi",
         "Mar 30, 2019",
         "Twenty20",
         "https://www.espncricinfo.com//series/ipl-2019-1165643/delhi-capitals-vs-kolkata-knight-riders-10th-match-1175365/full-scorecard"
        ],
        [
         "Kings XI",
         "MI",
         "Kings XI",
         "8 wickets",
         "Mohali",
         "Mar 30, 2019",
         "Twenty20",
         "https://www.espncricinfo.com//series/ipl-2019-1165643/kings-xi-punjab-vs-mumbai-indians-9th-match-1175364/full-scorecard"
        ],
        [
         "SRH",
         "RR",
         "SRH",
         "5 wickets",
         "Hyderabad",
         "Mar 29, 2019",
         "Twenty20",
         "https://www.espncricinfo.com//series/ipl-2019-1165643/sunrisers-hyderabad-vs-rajasthan-royals-8th-match-1175363/full-scorecard"
        ],
        [
         "RCB",
         "MI",
         "MI",
         "6 runs",
         "Bengaluru",
         "Mar 28, 2019",
         "Twenty20",
         "https://www.espncricinfo.com//series/ipl-2019-1165643/royal-challengers-bangalore-vs-mumbai-indians-7th-match-1175362/full-scorecard"
        ],
        [
         "KKR",
         "Kings XI",
         "KKR",
         "28 runs",
         "Eden Gardens",
         "Mar 27, 2019",
         "Twenty20",
         "https://www.espncricinfo.com//series/ipl-2019-1165643/kolkata-knight-riders-vs-kings-xi-punjab-6th-match-1175361/full-scorecard"
        ],
        [
         "DC",
         "CSK",
         "CSK",
         "6 wickets",
         "Delhi",
         "Mar 26, 2019",
         "Twenty20",
         "https://www.espncricinfo.com//series/ipl-2019-1165643/delhi-capitals-vs-chennai-super-kings-5th-match-1175360/full-scorecard"
        ],
        [
         "RR",
         "Kings XI",
         "Kings XI",
         "14 runs",
         "Jaipur",
         "Mar 25, 2019",
         "Twenty20",
         "https://www.espncricinfo.com//series/ipl-2019-1165643/rajasthan-royals-vs-kings-xi-punjab-4th-match-1175359/full-scorecard"
        ],
        [
         "MI",
         "DC",
         "DC",
         "37 runs",
         "Wankhede",
         "Mar 24, 2019",
         "Twenty20",
         "https://www.espncricinfo.com//series/ipl-2019-1165643/mumbai-indians-vs-delhi-capitals-3rd-match-1175358/full-scorecard"
        ],
        [
         "KKR",
         "SRH",
         "KKR",
         "6 wickets",
         "Eden Gardens",
         "Mar 24, 2019",
         "Twenty20",
         "https://www.espncricinfo.com//series/ipl-2019-1165643/kolkata-knight-riders-vs-sunrisers-hyderabad-2nd-match-1175357/full-scorecard"
        ],
        [
         "CSK",
         "RCB",
         "CSK",
         "7 wickets",
         "Chennai",
         "Mar 23, 2019",
         "Twenty20",
         "https://www.espncricinfo.com//series/ipl-2019-1165643/chennai-super-kings-vs-royal-challengers-bangalore-1st-match-1175356/full-scorecard"
        ],
        [
         "CSK",
         "SRH",
         "CSK",
         "8 wickets",
         "Wankhede",
         "May 27, 2018",
         "Twenty20",
         "https://www.espncricinfo.com//series/ipl-2018-1131611/chennai-super-kings-vs-sunrisers-hyderabad-final-1136620/full-scorecard"
        ],
        [
         "KKR",
         "SRH",
         "SRH",
         "14 runs",
         "Eden Gardens",
         "May 25, 2018",
         "Twenty20",
         "https://www.espncricinfo.com//series/ipl-2018-1131611/kolkata-knight-riders-vs-sunrisers-hyderabad-qualifier-2-1136619/full-scorecard"
        ],
        [
         "KKR",
         "RR",
         "KKR",
         "25 runs",
         "Eden Gardens",
         "May 23, 2018",
         "Twenty20",
         "https://www.espncricinfo.com//series/ipl-2018-1131611/kolkata-knight-riders-vs-rajasthan-royals-eliminator-1136618/full-scorecard"
        ],
        [
         "CSK",
         "SRH",
         "CSK",
         "2 wickets",
         "Wankhede",
         "May 22, 2018",
         "Twenty20",
         "https://www.espncricinfo.com//series/ipl-2018-1131611/chennai-super-kings-vs-sunrisers-hyderabad-qualifier-1-1136617/full-scorecard"
        ],
        [
         "CSK",
         "Kings XI",
         "CSK",
         "5 wickets",
         "Pune",
         "May 20, 2018",
         "Twenty20",
         "https://www.espncricinfo.com//series/ipl-2018-1131611/chennai-super-kings-vs-kings-xi-punjab-56th-match-1136616/full-scorecard"
        ],
        [
         "Daredevils",
         "MI",
         "Daredevils",
         "11 runs",
         "Delhi",
         "May 20, 2018",
         "Twenty20",
         "https://www.espncricinfo.com//series/ipl-2018-1131611/delhi-daredevils-vs-mumbai-indians-55th-match-1136615/full-scorecard"
        ],
        [
         "SRH",
         "KKR",
         "KKR",
         "5 wickets",
         "Hyderabad",
         "May 19, 2018",
         "Twenty20",
         "https://www.espncricinfo.com//series/ipl-2018-1131611/sunrisers-hyderabad-vs-kolkata-knight-riders-54th-match-1136614/full-scorecard"
        ],
        [
         "RR",
         "RCB",
         "RR",
         "30 runs",
         "Jaipur",
         "May 19, 2018",
         "Twenty20",
         "https://www.espncricinfo.com//series/ipl-2018-1131611/rajasthan-royals-vs-royal-challengers-bangalore-53rd-match-1136613/full-scorecard"
        ],
        [
         "Daredevils",
         "CSK",
         "Daredevils",
         "34 runs",
         "Delhi",
         "May 18, 2018",
         "Twenty20",
         "https://www.espncricinfo.com//series/ipl-2018-1131611/delhi-daredevils-vs-chennai-super-kings-52nd-match-1136612/full-scorecard"
        ],
        [
         "RCB",
         "SRH",
         "RCB",
         "14 runs",
         "Bengaluru",
         "May 17, 2018",
         "Twenty20",
         "https://www.espncricinfo.com//series/ipl-2018-1131611/royal-challengers-bangalore-vs-sunrisers-hyderabad-51st-match-1136611/full-scorecard"
        ],
        [
         "MI",
         "Kings XI",
         "MI",
         "3 runs",
         "Wankhede",
         "May 16, 2018",
         "Twenty20",
         "https://www.espncricinfo.com//series/ipl-2018-1131611/mumbai-indians-vs-kings-xi-punjab-50th-match-1136610/full-scorecard"
        ],
        [
         "KKR",
         "RR",
         "KKR",
         "6 wickets",
         "Eden Gardens",
         "May 15, 2018",
         "Twenty20",
         "https://www.espncricinfo.com//series/ipl-2018-1131611/kolkata-knight-riders-vs-rajasthan-royals-49th-match-1136609/full-scorecard"
        ],
        [
         "Kings XI",
         "RCB",
         "RCB",
         "10 wickets",
         "Indore",
         "May 14, 2018",
         "Twenty20",
         "https://www.espncricinfo.com//series/ipl-2018-1131611/kings-xi-punjab-vs-royal-challengers-bangalore-48th-match-1136608/full-scorecard"
        ],
        [
         "MI",
         "RR",
         "RR",
         "7 wickets",
         "Wankhede",
         "May 13, 2018",
         "Twenty20",
         "https://www.espncricinfo.com//series/ipl-2018-1131611/mumbai-indians-vs-rajasthan-royals-47th-match-1136607/full-scorecard"
        ],
        [
         "CSK",
         "SRH",
         "CSK",
         "8 wickets",
         "Pune",
         "May 13, 2018",
         "Twenty20",
         "https://www.espncricinfo.com//series/ipl-2018-1131611/chennai-super-kings-vs-sunrisers-hyderabad-46th-match-1136606/full-scorecard"
        ],
        [
         "Daredevils",
         "RCB",
         "RCB",
         "5 wickets",
         "Delhi",
         "May 12, 2018",
         "Twenty20",
         "https://www.espncricinfo.com//series/ipl-2018-1131611/delhi-daredevils-vs-royal-challengers-bangalore-45th-match-1136605/full-scorecard"
        ],
        [
         "Kings XI",
         "KKR",
         "KKR",
         "31 runs",
         "Indore",
         "May 12, 2018",
         "Twenty20",
         "https://www.espncricinfo.com//series/ipl-2018-1131611/kings-xi-punjab-vs-kolkata-knight-riders-44th-match-1136604/full-scorecard"
        ],
        [
         "RR",
         "CSK",
         "RR",
         "4 wickets",
         "Jaipur",
         "May 11, 2018",
         "Twenty20",
         "https://www.espncricinfo.com//series/ipl-2018-1131611/rajasthan-royals-vs-chennai-super-kings-43rd-match-1136603/full-scorecard"
        ],
        [
         "Daredevils",
         "SRH",
         "SRH",
         "9 wickets",
         "Delhi",
         "May 10, 2018",
         "Twenty20",
         "https://www.espncricinfo.com//series/ipl-2018-1131611/delhi-daredevils-vs-sunrisers-hyderabad-42nd-match-1136602/full-scorecard"
        ],
        [
         "KKR",
         "MI",
         "MI",
         "102 runs",
         "Eden Gardens",
         "May 9, 2018",
         "Twenty20",
         "https://www.espncricinfo.com//series/ipl-2018-1131611/kolkata-knight-riders-vs-mumbai-indians-41st-match-1136601/full-scorecard"
        ],
        [
         "RR",
         "Kings XI",
         "RR",
         "15 runs",
         "Jaipur",
         "May 8, 2018",
         "Twenty20",
         "https://www.espncricinfo.com//series/ipl-2018-1131611/rajasthan-royals-vs-kings-xi-punjab-40th-match-1136600/full-scorecard"
        ],
        [
         "SRH",
         "RCB",
         "SRH",
         "5 runs",
         "Hyderabad",
         "May 7, 2018",
         "Twenty20",
         "https://www.espncricinfo.com//series/ipl-2018-1131611/sunrisers-hyderabad-vs-royal-challengers-bangalore-39th-match-1136599/full-scorecard"
        ],
        [
         "Kings XI",
         "RR",
         "Kings XI",
         "6 wickets",
         "Indore",
         "May 6, 2018",
         "Twenty20",
         "https://www.espncricinfo.com//series/ipl-2018-1131611/kings-xi-punjab-vs-rajasthan-royals-38th-match-1136598/full-scorecard"
        ],
        [
         "MI",
         "KKR",
         "MI",
         "13 runs",
         "Wankhede",
         "May 6, 2018",
         "Twenty20",
         "https://www.espncricinfo.com//series/ipl-2018-1131611/mumbai-indians-vs-kolkata-knight-riders-37th-match-1136597/full-scorecard"
        ],
        [
         "SRH",
         "Daredevils",
         "SRH",
         "7 wickets",
         "Hyderabad",
         "May 5, 2018",
         "Twenty20",
         "https://www.espncricinfo.com//series/ipl-2018-1131611/sunrisers-hyderabad-vs-delhi-daredevils-36th-match-1136596/full-scorecard"
        ],
        [
         "CSK",
         "RCB",
         "CSK",
         "6 wickets",
         "Pune",
         "May 5, 2018",
         "Twenty20",
         "https://www.espncricinfo.com//series/ipl-2018-1131611/chennai-super-kings-vs-royal-challengers-bangalore-35th-match-1136595/full-scorecard"
        ],
        [
         "Kings XI",
         "MI",
         "MI",
         "6 wickets",
         "Indore",
         "May 4, 2018",
         "Twenty20",
         "https://www.espncricinfo.com//series/ipl-2018-1131611/kings-xi-punjab-vs-mumbai-indians-34th-match-1136594/full-scorecard"
        ],
        [
         "KKR",
         "CSK",
         "KKR",
         "6 wickets",
         "Eden Gardens",
         "May 3, 2018",
         "Twenty20",
         "https://www.espncricinfo.com//series/ipl-2018-1131611/kolkata-knight-riders-vs-chennai-super-kings-33rd-match-1136593/full-scorecard"
        ],
        [
         "Daredevils",
         "RR",
         "Daredevils",
         "4 runs",
         "Delhi",
         "May 2, 2018",
         "Twenty20",
         "https://www.espncricinfo.com//series/ipl-2018-1131611/delhi-daredevils-vs-rajasthan-royals-32nd-match-1136592/full-scorecard"
        ],
        [
         "RCB",
         "MI",
         "RCB",
         "14 runs",
         "Bengaluru",
         "May 1, 2018",
         "Twenty20",
         "https://www.espncricinfo.com//series/ipl-2018-1131611/royal-challengers-bangalore-vs-mumbai-indians-31st-match-1136591/full-scorecard"
        ],
        [
         "CSK",
         "Daredevils",
         "CSK",
         "13 runs",
         "Pune",
         "Apr 30, 2018",
         "Twenty20",
         "https://www.espncricinfo.com//series/ipl-2018-1131611/chennai-super-kings-vs-delhi-daredevils-30th-match-1136590/full-scorecard"
        ],
        [
         "RCB",
         "KKR",
         "KKR",
         "6 wickets",
         "Bengaluru",
         "Apr 29, 2018",
         "Twenty20",
         "https://www.espncricinfo.com//series/ipl-2018-1131611/royal-challengers-bangalore-vs-kolkata-knight-riders-29th-match-1136589/full-scorecard"
        ],
        [
         "RR",
         "SRH",
         "SRH",
         "11 runs",
         "Jaipur",
         "Apr 29, 2018",
         "Twenty20",
         "https://www.espncricinfo.com//series/ipl-2018-1131611/rajasthan-royals-vs-sunrisers-hyderabad-28th-match-1136588/full-scorecard"
        ],
        [
         "CSK",
         "MI",
         "MI",
         "8 wickets",
         "Pune",
         "Apr 28, 2018",
         "Twenty20",
         "https://www.espncricinfo.com//series/ipl-2018-1131611/chennai-super-kings-vs-mumbai-indians-27th-match-1136587/full-scorecard"
        ],
        [
         "Daredevils",
         "KKR",
         "Daredevils",
         "55 runs",
         "Delhi",
         "Apr 27, 2018",
         "Twenty20",
         "https://www.espncricinfo.com//series/ipl-2018-1131611/delhi-daredevils-vs-kolkata-knight-riders-26th-match-1136586/full-scorecard"
        ],
        [
         "SRH",
         "Kings XI",
         "SRH",
         "13 runs",
         "Hyderabad",
         "Apr 26, 2018",
         "Twenty20",
         "https://www.espncricinfo.com//series/ipl-2018-1131611/sunrisers-hyderabad-vs-kings-xi-punjab-25th-match-1136585/full-scorecard"
        ],
        [
         "RCB",
         "CSK",
         "CSK",
         "5 wickets",
         "Bengaluru",
         "Apr 25, 2018",
         "Twenty20",
         "https://www.espncricinfo.com//series/ipl-2018-1131611/royal-challengers-bangalore-vs-chennai-super-kings-24th-match-1136584/full-scorecard"
        ],
        [
         "MI",
         "SRH",
         "SRH",
         "31 runs",
         "Wankhede",
         "Apr 24, 2018",
         "Twenty20",
         "https://www.espncricinfo.com//series/ipl-2018-1131611/mumbai-indians-vs-sunrisers-hyderabad-23rd-match-1136583/full-scorecard"
        ],
        [
         "Daredevils",
         "Kings XI",
         "Kings XI",
         "4 runs",
         "Delhi",
         "Apr 23, 2018",
         "Twenty20",
         "https://www.espncricinfo.com//series/ipl-2018-1131611/delhi-daredevils-vs-kings-xi-punjab-22nd-match-1136582/full-scorecard"
        ],
        [
         "RR",
         "MI",
         "RR",
         "3 wickets",
         "Jaipur",
         "Apr 22, 2018",
         "Twenty20",
         "https://www.espncricinfo.com//series/ipl-2018-1131611/rajasthan-royals-vs-mumbai-indians-21st-match-1136581/full-scorecard"
        ],
        [
         "SRH",
         "CSK",
         "CSK",
         "4 runs",
         "Hyderabad",
         "Apr 22, 2018",
         "Twenty20",
         "https://www.espncricinfo.com//series/ipl-2018-1131611/sunrisers-hyderabad-vs-chennai-super-kings-20th-match-1136580/full-scorecard"
        ],
        [
         "RCB",
         "Daredevils",
         "RCB",
         "6 wickets",
         "Bengaluru",
         "Apr 21, 2018",
         "Twenty20",
         "https://www.espncricinfo.com//series/ipl-2018-1131611/royal-challengers-bangalore-vs-delhi-daredevils-19th-match-1136579/full-scorecard"
        ],
        [
         "KKR",
         "Kings XI",
         "Kings XI",
         "9 wickets",
         "Eden Gardens",
         "Apr 21, 2018",
         "Twenty20",
         "https://www.espncricinfo.com//series/ipl-2018-1131611/kolkata-knight-riders-vs-kings-xi-punjab-18th-match-1136578/full-scorecard"
        ],
        [
         "CSK",
         "RR",
         "CSK",
         "64 runs",
         "Pune",
         "Apr 20, 2018",
         "Twenty20",
         "https://www.espncricinfo.com//series/ipl-2018-1131611/chennai-super-kings-vs-rajasthan-royals-17th-match-1136577/full-scorecard"
        ],
        [
         "Kings XI",
         "SRH",
         "Kings XI",
         "15 runs",
         "Mohali",
         "Apr 19, 2018",
         "Twenty20",
         "https://www.espncricinfo.com//series/ipl-2018-1131611/kings-xi-punjab-vs-sunrisers-hyderabad-16th-match-1136576/full-scorecard"
        ],
        [
         "RR",
         "KKR",
         "KKR",
         "7 wickets",
         "Jaipur",
         "Apr 18, 2018",
         "Twenty20",
         "https://www.espncricinfo.com//series/ipl-2018-1131611/rajasthan-royals-vs-kolkata-knight-riders-15th-match-1136575/full-scorecard"
        ],
        [
         "MI",
         "RCB",
         "MI",
         "46 runs",
         "Wankhede",
         "Apr 17, 2018",
         "Twenty20",
         "https://www.espncricinfo.com//series/ipl-2018-1131611/mumbai-indians-vs-royal-challengers-bangalore-14th-match-1136574/full-scorecard"
        ],
        [
         "KKR",
         "Daredevils",
         "KKR",
         "71 runs",
         "Eden Gardens",
         "Apr 16, 2018",
         "Twenty20",
         "https://www.espncricinfo.com//series/ipl-2018-1131611/kolkata-knight-riders-vs-delhi-daredevils-13th-match-1136573/full-scorecard"
        ],
        [
         "Kings XI",
         "CSK",
         "Kings XI",
         "4 runs",
         "Mohali",
         "Apr 15, 2018",
         "Twenty20",
         "https://www.espncricinfo.com//series/ipl-2018-1131611/kings-xi-punjab-vs-chennai-super-kings-12th-match-1136572/full-scorecard"
        ],
        [
         "RCB",
         "RR",
         "RR",
         "19 runs",
         "Bengaluru",
         "Apr 15, 2018",
         "Twenty20",
         "https://www.espncricinfo.com//series/ipl-2018-1131611/royal-challengers-bangalore-vs-rajasthan-royals-11th-match-1136571/full-scorecard"
        ],
        [
         "KKR",
         "SRH",
         "SRH",
         "5 wickets",
         "Eden Gardens",
         "Apr 14, 2018",
         "Twenty20",
         "https://www.espncricinfo.com//series/ipl-2018-1131611/kolkata-knight-riders-vs-sunrisers-hyderabad-10th-match-1136570/full-scorecard"
        ],
        [
         "MI",
         "Daredevils",
         "Daredevils",
         "7 wickets",
         "Wankhede",
         "Apr 14, 2018",
         "Twenty20",
         "https://www.espncricinfo.com//series/ipl-2018-1131611/mumbai-indians-vs-delhi-daredevils-9th-match-1136569/full-scorecard"
        ],
        [
         "RCB",
         "Kings XI",
         "RCB",
         "4 wickets",
         "Bengaluru",
         "Apr 13, 2018",
         "Twenty20",
         "https://www.espncricinfo.com//series/ipl-2018-1131611/royal-challengers-bangalore-vs-kings-xi-punjab-8th-match-1136568/full-scorecard"
        ],
        [
         "SRH",
         "MI",
         "SRH",
         "1 wicket",
         "Hyderabad",
         "Apr 12, 2018",
         "Twenty20",
         "https://www.espncricinfo.com//series/ipl-2018-1131611/sunrisers-hyderabad-vs-mumbai-indians-7th-match-1136567/full-scorecard"
        ],
        [
         "RR",
         "Daredevils",
         "RR",
         "10 runs",
         "Jaipur",
         "Apr 11, 2018",
         "Twenty20",
         "https://www.espncricinfo.com//series/ipl-2018-1131611/rajasthan-royals-vs-delhi-daredevils-6th-match-1136566/full-scorecard"
        ],
        [
         "CSK",
         "KKR",
         "CSK",
         "5 wickets",
         "Chennai",
         "Apr 10, 2018",
         "Twenty20",
         "https://www.espncricinfo.com//series/ipl-2018-1131611/chennai-super-kings-vs-kolkata-knight-riders-5th-match-1136565/full-scorecard"
        ],
        [
         "SRH",
         "RR",
         "SRH",
         "9 wickets",
         "Hyderabad",
         "Apr 9, 2018",
         "Twenty20",
         "https://www.espncricinfo.com//series/ipl-2018-1131611/sunrisers-hyderabad-vs-rajasthan-royals-4th-match-1136564/full-scorecard"
        ],
        [
         "KKR",
         "RCB",
         "KKR",
         "4 wickets",
         "Eden Gardens",
         "Apr 8, 2018",
         "Twenty20",
         "https://www.espncricinfo.com//series/ipl-2018-1131611/kolkata-knight-riders-vs-royal-challengers-bangalore-3rd-match-1136563/full-scorecard"
        ],
        [
         "Kings XI",
         "Daredevils",
         "Kings XI",
         "6 wickets",
         "Mohali",
         "Apr 8, 2018",
         "Twenty20",
         "https://www.espncricinfo.com//series/ipl-2018-1131611/kings-xi-punjab-vs-delhi-daredevils-2nd-match-1136562/full-scorecard"
        ],
        [
         "MI",
         "CSK",
         "CSK",
         "1 wicket",
         "Wankhede",
         "Apr 7, 2018",
         "Twenty20",
         "https://www.espncricinfo.com//series/ipl-2018-1131611/mumbai-indians-vs-chennai-super-kings-1st-match-1136561/full-scorecard"
        ],
        [
         "MI",
         "Supergiant",
         "MI",
         "1 run",
         "Hyderabad",
         "May 21, 2017",
         "Twenty20",
         "https://www.espncricinfo.com//series/ipl-2017-1078425/mumbai-indians-vs-rising-pune-supergiant-final-1082650/full-scorecard"
        ],
        [
         "KKR",
         "MI",
         "MI",
         "6 wickets",
         "Bengaluru",
         "May 19, 2017",
         "Twenty20",
         "https://www.espncricinfo.com//series/ipl-2017-1078425/kolkata-knight-riders-vs-mumbai-indians-qualifier-2-1082649/full-scorecard"
        ],
        [
         "KKR",
         "SRH",
         "KKR",
         "7 wickets",
         "Bengaluru",
         "May 17, 2017",
         "Twenty20",
         "https://www.espncricinfo.com//series/ipl-2017-1078425/kolkata-knight-riders-vs-sunrisers-hyderabad-eliminator-1082648/full-scorecard"
        ],
        [
         "MI",
         "Supergiant",
         "Supergiant",
         "20 runs",
         "Wankhede",
         "May 16, 2017",
         "Twenty20",
         "https://www.espncricinfo.com//series/ipl-2017-1078425/mumbai-indians-vs-rising-pune-supergiant-qualifier-1-1082647/full-scorecard"
        ],
        [
         "Daredevils",
         "RCB",
         "RCB",
         "10 runs",
         "Delhi",
         "May 14, 2017",
         "Twenty20",
         "https://www.espncricinfo.com//series/ipl-2017-1078425/delhi-daredevils-vs-royal-challengers-bangalore-56th-match-1082646/full-scorecard"
        ],
        [
         "Supergiant",
         "Kings XI",
         "Supergiant",
         "9 wickets",
         "Pune",
         "May 14, 2017",
         "Twenty20",
         "https://www.espncricinfo.com//series/ipl-2017-1078425/rising-pune-supergiant-vs-kings-xi-punjab-55th-match-1082645/full-scorecard"
        ],
        [
         "KKR",
         "MI",
         "MI",
         "9 runs",
         "Eden Gardens",
         "May 13, 2017",
         "Twenty20",
         "https://www.espncricinfo.com//series/ipl-2017-1078425/kolkata-knight-riders-vs-mumbai-indians-54th-match-1082644/full-scorecard"
        ],
        [
         "Guj Lions",
         "SRH",
         "SRH",
         "8 wickets",
         "Kanpur",
         "May 13, 2017",
         "Twenty20",
         "https://www.espncricinfo.com//series/ipl-2017-1078425/gujarat-lions-vs-sunrisers-hyderabad-53rd-match-1082643/full-scorecard"
        ],
        [
         "Daredevils",
         "Supergiant",
         "Daredevils",
         "7 runs",
         "Delhi",
         "May 12, 2017",
         "Twenty20",
         "https://www.espncricinfo.com//series/ipl-2017-1078425/delhi-daredevils-vs-rising-pune-supergiant-52nd-match-1082642/full-scorecard"
        ],
        [
         "MI",
         "Kings XI",
         "Kings XI",
         "7 runs",
         "Wankhede",
         "May 11, 2017",
         "Twenty20",
         "https://www.espncricinfo.com//series/ipl-2017-1078425/mumbai-indians-vs-kings-xi-punjab-51st-match-1082641/full-scorecard"
        ],
        [
         "Guj Lions",
         "Daredevils",
         "Daredevils",
         "2 wickets",
         "Kanpur",
         "May 10, 2017",
         "Twenty20",
         "https://www.espncricinfo.com//series/ipl-2017-1078425/gujarat-lions-vs-delhi-daredevils-50th-match-1082640/full-scorecard"
        ],
        [
         "Kings XI",
         "KKR",
         "Kings XI",
         "14 runs",
         "Mohali",
         "May 9, 2017",
         "Twenty20",
         "https://www.espncricinfo.com//series/ipl-2017-1078425/kings-xi-punjab-vs-kolkata-knight-riders-49th-match-1082639/full-scorecard"
        ],
        [
         "SRH",
         "MI",
         "SRH",
         "7 wickets",
         "Hyderabad",
         "May 8, 2017",
         "Twenty20",
         "https://www.espncricinfo.com//series/ipl-2017-1078425/sunrisers-hyderabad-vs-mumbai-indians-48th-match-1082638/full-scorecard"
        ],
        [
         "Kings XI",
         "Guj Lions",
         "Guj Lions",
         "6 wickets",
         "Mohali",
         "May 7, 2017",
         "Twenty20",
         "https://www.espncricinfo.com//series/ipl-2017-1078425/kings-xi-punjab-vs-gujarat-lions-47th-match-1082637/full-scorecard"
        ],
        [
         "RCB",
         "KKR",
         "KKR",
         "6 wickets",
         "Bengaluru",
         "May 7, 2017",
         "Twenty20",
         "https://www.espncricinfo.com//series/ipl-2017-1078425/royal-challengers-bangalore-vs-kolkata-knight-riders-46th-match-1082636/full-scorecard"
        ],
        [
         "Daredevils",
         "MI",
         "MI",
         "146 runs",
         "Delhi",
         "May 6, 2017",
         "Twenty20",
         "https://www.espncricinfo.com//series/ipl-2017-1078425/delhi-daredevils-vs-mumbai-indians-45th-match-1082635/full-scorecard"
        ],
        [
         "SRH",
         "Supergiant",
         "Supergiant",
         "12 runs",
         "Hyderabad",
         "May 6, 2017",
         "Twenty20",
         "https://www.espncricinfo.com//series/ipl-2017-1078425/sunrisers-hyderabad-vs-rising-pune-supergiant-44th-match-1082634/full-scorecard"
        ],
        [
         "RCB",
         "Kings XI",
         "Kings XI",
         "19 runs",
         "Bengaluru",
         "May 5, 2017",
         "Twenty20",
         "https://www.espncricinfo.com//series/ipl-2017-1078425/royal-challengers-bangalore-vs-kings-xi-punjab-43rd-match-1082633/full-scorecard"
        ],
        [
         "Daredevils",
         "Guj Lions",
         "Daredevils",
         "7 wickets",
         "Delhi",
         "May 4, 2017",
         "Twenty20",
         "https://www.espncricinfo.com//series/ipl-2017-1078425/delhi-daredevils-vs-gujarat-lions-42nd-match-1082632/full-scorecard"
        ],
        [
         "KKR",
         "Supergiant",
         "Supergiant",
         "4 wickets",
         "Eden Gardens",
         "May 3, 2017",
         "Twenty20",
         "https://www.espncricinfo.com//series/ipl-2017-1078425/kolkata-knight-riders-vs-rising-pune-supergiant-41st-match-1082631/full-scorecard"
        ],
        [
         "Daredevils",
         "SRH",
         "Daredevils",
         "6 wickets",
         "Delhi",
         "May 2, 2017",
         "Twenty20",
         "https://www.espncricinfo.com//series/ipl-2017-1078425/delhi-daredevils-vs-sunrisers-hyderabad-40th-match-1082630/full-scorecard"
        ],
        [
         "Supergiant",
         "Guj Lions",
         "Supergiant",
         "5 wickets",
         "Pune",
         "May 1, 2017",
         "Twenty20",
         "https://www.espncricinfo.com//series/ipl-2017-1078425/rising-pune-supergiant-vs-gujarat-lions-39th-match-1082629/full-scorecard"
        ],
        [
         "MI",
         "RCB",
         "MI",
         "5 wickets",
         "Wankhede",
         "May 1, 2017",
         "Twenty20",
         "https://www.espncricinfo.com//series/ipl-2017-1078425/mumbai-indians-vs-royal-challengers-bangalore-38th-match-1082628/full-scorecard"
        ],
        [
         "SRH",
         "KKR",
         "SRH",
         "48 runs",
         "Hyderabad",
         "Apr 30, 2017",
         "Twenty20",
         "https://www.espncricinfo.com//series/ipl-2017-1078425/sunrisers-hyderabad-vs-kolkata-knight-riders-37th-match-1082627/full-scorecard"
        ],
        [
         "Kings XI",
         "Daredevils",
         "Kings XI",
         "10 wickets",
         "Mohali",
         "Apr 30, 2017",
         "Twenty20",
         "https://www.espncricinfo.com//series/ipl-2017-1078425/kings-xi-punjab-vs-delhi-daredevils-36th-match-1082626/full-scorecard"
        ],
        [
         "Guj Lions",
         "MI",
         "tied",
         "-",
         "Rajkot",
         "Apr 29, 2017",
         "Twenty20",
         "https://www.espncricinfo.com//series/ipl-2017-1078425/gujarat-lions-vs-mumbai-indians-35th-match-1082625/full-scorecard"
        ],
        [
         "Supergiant",
         "RCB",
         "Supergiant",
         "61 runs",
         "Pune",
         "Apr 29, 2017",
         "Twenty20",
         "https://www.espncricinfo.com//series/ipl-2017-1078425/rising-pune-supergiant-vs-royal-challengers-bangalore-34th-match-1082624/full-scorecard"
        ],
        [
         "Kings XI",
         "SRH",
         "SRH",
         "26 runs",
         "Mohali",
         "Apr 28, 2017",
         "Twenty20",
         "https://www.espncricinfo.com//series/ipl-2017-1078425/kings-xi-punjab-vs-sunrisers-hyderabad-33rd-match-1082623/full-scorecard"
        ],
        [
         "KKR",
         "Daredevils",
         "KKR",
         "7 wickets",
         "Eden Gardens",
         "Apr 28, 2017",
         "Twenty20",
         "https://www.espncricinfo.com//series/ipl-2017-1078425/kolkata-knight-riders-vs-delhi-daredevils-32nd-match-1082622/full-scorecard"
        ],
        [
         "RCB",
         "Guj Lions",
         "Guj Lions",
         "7 wickets",
         "Bengaluru",
         "Apr 27, 2017",
         "Twenty20",
         "https://www.espncricinfo.com//series/ipl-2017-1078425/royal-challengers-bangalore-vs-gujarat-lions-31st-match-1082621/full-scorecard"
        ],
        [
         "Supergiant",
         "KKR",
         "KKR",
         "7 wickets",
         "Pune",
         "Apr 26, 2017",
         "Twenty20",
         "https://www.espncricinfo.com//series/ipl-2017-1078425/rising-pune-supergiant-vs-kolkata-knight-riders-30th-match-1082620/full-scorecard"
        ],
        [
         "MI",
         "Supergiant",
         "Supergiant",
         "3 runs",
         "Wankhede",
         "Apr 24, 2017",
         "Twenty20",
         "https://www.espncricinfo.com//series/ipl-2017-1078425/mumbai-indians-vs-rising-pune-supergiant-28th-match-1082618/full-scorecard"
        ],
        [
         "KKR",
         "RCB",
         "KKR",
         "82 runs",
         "Eden Gardens",
         "Apr 23, 2017",
         "Twenty20",
         "https://www.espncricinfo.com//series/ipl-2017-1078425/kolkata-knight-riders-vs-royal-challengers-bangalore-27th-match-1082617/full-scorecard"
        ],
        [
         "Guj Lions",
         "Kings XI",
         "Kings XI",
         "26 runs",
         "Rajkot",
         "Apr 23, 2017",
         "Twenty20",
         "https://www.espncricinfo.com//series/ipl-2017-1078425/gujarat-lions-vs-kings-xi-punjab-26th-match-1082616/full-scorecard"
        ],
        [
         "MI",
         "Daredevils",
         "MI",
         "14 runs",
         "Wankhede",
         "Apr 22, 2017",
         "Twenty20",
         "https://www.espncricinfo.com//series/ipl-2017-1078425/mumbai-indians-vs-delhi-daredevils-25th-match-1082614/full-scorecard"
        ],
        [
         "Supergiant",
         "SRH",
         "Supergiant",
         "6 wickets",
         "Pune",
         "Apr 22, 2017",
         "Twenty20",
         "https://www.espncricinfo.com//series/ipl-2017-1078425/rising-pune-supergiant-vs-sunrisers-hyderabad-24th-match-1082615/full-scorecard"
        ],
        [
         "KKR",
         "Guj Lions",
         "Guj Lions",
         "4 wickets",
         "Eden Gardens",
         "Apr 21, 2017",
         "Twenty20",
         "https://www.espncricinfo.com//series/ipl-2017-1078425/kolkata-knight-riders-vs-gujarat-lions-23rd-match-1082613/full-scorecard"
        ],
        [
         "Kings XI",
         "MI",
         "MI",
         "8 wickets",
         "Indore",
         "Apr 20, 2017",
         "Twenty20",
         "https://www.espncricinfo.com//series/ipl-2017-1078425/kings-xi-punjab-vs-mumbai-indians-22nd-match-1082612/full-scorecard"
        ],
        [
         "SRH",
         "Daredevils",
         "SRH",
         "15 runs",
         "Hyderabad",
         "Apr 19, 2017",
         "Twenty20",
         "https://www.espncricinfo.com//series/ipl-2017-1078425/sunrisers-hyderabad-vs-delhi-daredevils-21st-match-1082611/full-scorecard"
        ],
        [
         "Guj Lions",
         "RCB",
         "RCB",
         "21 runs",
         "Rajkot",
         "Apr 18, 2017",
         "Twenty20",
         "https://www.espncricinfo.com//series/ipl-2017-1078425/gujarat-lions-vs-royal-challengers-bangalore-20th-match-1082610/full-scorecard"
        ],
        [
         "SRH",
         "Kings XI",
         "SRH",
         "5 runs",
         "Hyderabad",
         "Apr 17, 2017",
         "Twenty20",
         "https://www.espncricinfo.com//series/ipl-2017-1078425/sunrisers-hyderabad-vs-kings-xi-punjab-19th-match-1082609/full-scorecard"
        ],
        [
         "Daredevils",
         "KKR",
         "KKR",
         "4 wickets",
         "Delhi",
         "Apr 17, 2017",
         "Twenty20",
         "https://www.espncricinfo.com//series/ipl-2017-1078425/delhi-daredevils-vs-kolkata-knight-riders-18th-match-1082608/full-scorecard"
        ],
        [
         "RCB",
         "Supergiant",
         "Supergiant",
         "27 runs",
         "Bengaluru",
         "Apr 16, 2017",
         "Twenty20",
         "https://www.espncricinfo.com//series/ipl-2017-1078425/royal-challengers-bangalore-vs-rising-pune-supergiant-17th-match-1082607/full-scorecard"
        ],
        [
         "MI",
         "Guj Lions",
         "MI",
         "6 wickets",
         "Wankhede",
         "Apr 16, 2017",
         "Twenty20",
         "https://www.espncricinfo.com//series/ipl-2017-1078425/mumbai-indians-vs-gujarat-lions-16th-match-1082606/full-scorecard"
        ],
        [
         "Daredevils",
         "Kings XI",
         "Daredevils",
         "51 runs",
         "Delhi",
         "Apr 15, 2017",
         "Twenty20",
         "https://www.espncricinfo.com//series/ipl-2017-1078425/delhi-daredevils-vs-kings-xi-punjab-15th-match-1082605/full-scorecard"
        ],
        [
         "KKR",
         "SRH",
         "KKR",
         "17 runs",
         "Eden Gardens",
         "Apr 15, 2017",
         "Twenty20",
         "https://www.espncricinfo.com//series/ipl-2017-1078425/kolkata-knight-riders-vs-sunrisers-hyderabad-14th-match-1082604/full-scorecard"
        ],
        [
         "Guj Lions",
         "Supergiant",
         "Guj Lions",
         "7 wickets",
         "Rajkot",
         "Apr 14, 2017",
         "Twenty20",
         "https://www.espncricinfo.com//series/ipl-2017-1078425/gujarat-lions-vs-rising-pune-supergiant-13th-match-1082603/full-scorecard"
        ],
        [
         "RCB",
         "MI",
         "MI",
         "4 wickets",
         "Bengaluru",
         "Apr 14, 2017",
         "Twenty20",
         "https://www.espncricinfo.com//series/ipl-2017-1078425/royal-challengers-bangalore-vs-mumbai-indians-12th-match-1082602/full-scorecard"
        ],
        [
         "KKR",
         "Kings XI",
         "KKR",
         "8 wickets",
         "Eden Gardens",
         "Apr 13, 2017",
         "Twenty20",
         "https://www.espncricinfo.com//series/ipl-2017-1078425/kolkata-knight-riders-vs-kings-xi-punjab-11th-match-1082601/full-scorecard"
        ],
        [
         "MI",
         "SRH",
         "MI",
         "4 wickets",
         "Wankhede",
         "Apr 12, 2017",
         "Twenty20",
         "https://www.espncricinfo.com//series/ipl-2017-1078425/mumbai-indians-vs-sunrisers-hyderabad-10th-match-1082600/full-scorecard"
        ],
        [
         "Supergiant",
         "Daredevils",
         "Daredevils",
         "97 runs",
         "Pune",
         "Apr 11, 2017",
         "Twenty20",
         "https://www.espncricinfo.com//series/ipl-2017-1078425/rising-pune-supergiant-vs-delhi-daredevils-9th-match-1082599/full-scorecard"
        ],
        [
         "Kings XI",
         "RCB",
         "Kings XI",
         "8 wickets",
         "Indore",
         "Apr 10, 2017",
         "Twenty20",
         "https://www.espncricinfo.com//series/ipl-2017-1078425/kings-xi-punjab-vs-royal-challengers-bangalore-8th-match-1082598/full-scorecard"
        ],
        [
         "MI",
         "KKR",
         "MI",
         "4 wickets",
         "Wankhede",
         "Apr 9, 2017",
         "Twenty20",
         "https://www.espncricinfo.com//series/ipl-2017-1078425/mumbai-indians-vs-kolkata-knight-riders-7th-match-1082597/full-scorecard"
        ],
        [
         "SRH",
         "Guj Lions",
         "SRH",
         "9 wickets",
         "Hyderabad",
         "Apr 9, 2017",
         "Twenty20",
         "https://www.espncricinfo.com//series/ipl-2017-1078425/sunrisers-hyderabad-vs-gujarat-lions-6th-match-1082596/full-scorecard"
        ],
        [
         "RCB",
         "Daredevils",
         "RCB",
         "15 runs",
         "Bengaluru",
         "Apr 8, 2017",
         "Twenty20",
         "https://www.espncricinfo.com//series/ipl-2017-1078425/royal-challengers-bangalore-vs-delhi-daredevils-5th-match-1082595/full-scorecard"
        ],
        [
         "Kings XI",
         "Supergiant",
         "Kings XI",
         "6 wickets",
         "Indore",
         "Apr 8, 2017",
         "Twenty20",
         "https://www.espncricinfo.com//series/ipl-2017-1078425/kings-xi-punjab-vs-rising-pune-supergiant-4th-match-1082594/full-scorecard"
        ],
        [
         "Guj Lions",
         "KKR",
         "KKR",
         "10 wickets",
         "Rajkot",
         "Apr 7, 2017",
         "Twenty20",
         "https://www.espncricinfo.com//series/ipl-2017-1078425/gujarat-lions-vs-kolkata-knight-riders-3rd-match-1082593/full-scorecard"
        ],
        [
         "Supergiant",
         "MI",
         "Supergiant",
         "7 wickets",
         "Pune",
         "Apr 6, 2017",
         "Twenty20",
         "https://www.espncricinfo.com//series/ipl-2017-1078425/rising-pune-supergiant-vs-mumbai-indians-2nd-match-1082592/full-scorecard"
        ],
        [
         "SRH",
         "RCB",
         "SRH",
         "35 runs",
         "Hyderabad",
         "Apr 5, 2017",
         "Twenty20",
         "https://www.espncricinfo.com//series/ipl-2017-1078425/sunrisers-hyderabad-vs-royal-challengers-bangalore-1st-match-1082591/full-scorecard"
        ],
        [
         "RCB",
         "SRH",
         "SRH",
         "8 runs",
         "Bengaluru",
         "May 29, 2016",
         "Twenty20",
         "https://www.espncricinfo.com//series/ipl-2016-968923/royal-challengers-bangalore-vs-sunrisers-hyderabad-final-981019/full-scorecard"
        ],
        [
         "Guj Lions",
         "SRH",
         "SRH",
         "4 wickets",
         "Delhi",
         "May 27, 2016",
         "Twenty20",
         "https://www.espncricinfo.com//series/ipl-2016-968923/gujarat-lions-vs-sunrisers-hyderabad-qualifier-2-981017/full-scorecard"
        ],
        [
         "KKR",
         "SRH",
         "SRH",
         "22 runs",
         "Delhi",
         "May 25, 2016",
         "Twenty20",
         "https://www.espncricinfo.com//series/ipl-2016-968923/kolkata-knight-riders-vs-sunrisers-hyderabad-eliminator-981015/full-scorecard"
        ],
        [
         "RCB",
         "Guj Lions",
         "RCB",
         "4 wickets",
         "Bengaluru",
         "May 24, 2016",
         "Twenty20",
         "https://www.espncricinfo.com//series/ipl-2016-968923/royal-challengers-bangalore-vs-gujarat-lions-qualifier-1-981013/full-scorecard"
        ],
        [
         "Daredevils",
         "RCB",
         "RCB",
         "6 wickets",
         "Raipur",
         "May 22, 2016",
         "Twenty20",
         "https://www.espncricinfo.com//series/ipl-2016-968923/delhi-daredevils-vs-royal-challengers-bangalore-56th-match-981011/full-scorecard"
        ],
        [
         "KKR",
         "SRH",
         "KKR",
         "22 runs",
         "Eden Gardens",
         "May 22, 2016",
         "Twenty20",
         "https://www.espncricinfo.com//series/ipl-2016-968923/kolkata-knight-riders-vs-sunrisers-hyderabad-55th-match-981009/full-scorecard"
        ],
        [
         "Guj Lions",
         "MI",
         "Guj Lions",
         "6 wickets",
         "Kanpur",
         "May 21, 2016",
         "Twenty20",
         "https://www.espncricinfo.com//series/ipl-2016-968923/gujarat-lions-vs-mumbai-indians-54th-match-981007/full-scorecard"
        ],
        [
         "Supergiants",
         "Kings XI",
         "Supergiants",
         "4 wickets",
         "Visakhapatnam",
         "May 21, 2016",
         "Twenty20",
         "https://www.espncricinfo.com//series/ipl-2016-968923/rising-pune-supergiants-vs-kings-xi-punjab-53rd-match-981005/full-scorecard"
        ],
        [
         "Daredevils",
         "SRH",
         "Daredevils",
         "6 wickets",
         "Raipur",
         "May 20, 2016",
         "Twenty20",
         "https://www.espncricinfo.com//series/ipl-2016-968923/delhi-daredevils-vs-sunrisers-hyderabad-52nd-match-981003/full-scorecard"
        ],
        [
         "Guj Lions",
         "KKR",
         "Guj Lions",
         "6 wickets",
         "Kanpur",
         "May 19, 2016",
         "Twenty20",
         "https://www.espncricinfo.com//series/ipl-2016-968923/gujarat-lions-vs-kolkata-knight-riders-51st-match-981001/full-scorecard"
        ],
        [
         "RCB",
         "Kings XI",
         "RCB",
         "82 runs",
         "Bengaluru",
         "May 18, 2016",
         "Twenty20",
         "https://www.espncricinfo.com//series/ipl-2016-968923/royal-challengers-bangalore-vs-kings-xi-punjab-50th-match-980999/full-scorecard"
        ],
        [
         "Supergiants",
         "Daredevils",
         "Supergiants",
         "19 runs",
         "Visakhapatnam",
         "May 17, 2016",
         "Twenty20",
         "https://www.espncricinfo.com//series/ipl-2016-968923/rising-pune-supergiants-vs-delhi-daredevils-49th-match-980997/full-scorecard"
        ],
        [
         "KKR",
         "RCB",
         "RCB",
         "9 wickets",
         "Eden Gardens",
         "May 16, 2016",
         "Twenty20",
         "https://www.espncricinfo.com//series/ipl-2016-968923/kolkata-knight-riders-vs-royal-challengers-bangalore-48th-match-980995/full-scorecard"
        ],
        [
         "MI",
         "Daredevils",
         "MI",
         "80 runs",
         "Visakhapatnam",
         "May 15, 2016",
         "Twenty20",
         "https://www.espncricinfo.com//series/ipl-2016-968923/mumbai-indians-vs-delhi-daredevils-47th-match-980993/full-scorecard"
        ],
        [
         "Kings XI",
         "SRH",
         "SRH",
         "7 wickets",
         "Mohali",
         "May 15, 2016",
         "Twenty20",
         "https://www.espncricinfo.com//series/ipl-2016-968923/kings-xi-punjab-vs-sunrisers-hyderabad-46th-match-980991/full-scorecard"
        ],
        [
         "KKR",
         "Supergiants",
         "KKR",
         "8 wickets",
         "Eden Gardens",
         "May 14, 2016",
         "Twenty20",
         "https://www.espncricinfo.com//series/ipl-2016-968923/kolkata-knight-riders-vs-rising-pune-supergiants-45th-match-980989/full-scorecard"
        ],
        [
         "RCB",
         "Guj Lions",
         "RCB",
         "144 runs",
         "Bengaluru",
         "May 14, 2016",
         "Twenty20",
         "https://www.espncricinfo.com//series/ipl-2016-968923/royal-challengers-bangalore-vs-gujarat-lions-44th-match-980987/full-scorecard"
        ],
        [
         "MI",
         "Kings XI",
         "Kings XI",
         "7 wickets",
         "Visakhapatnam",
         "May 13, 2016",
         "Twenty20",
         "https://www.espncricinfo.com//series/ipl-2016-968923/mumbai-indians-vs-kings-xi-punjab-43rd-match-980985/full-scorecard"
        ],
        [
         "SRH",
         "Daredevils",
         "Daredevils",
         "7 wickets",
         "Hyderabad",
         "May 12, 2016",
         "Twenty20",
         "https://www.espncricinfo.com//series/ipl-2016-968923/sunrisers-hyderabad-vs-delhi-daredevils-42nd-match-980983/full-scorecard"
        ],
        [
         "RCB",
         "MI",
         "MI",
         "6 wickets",
         "Bengaluru",
         "May 11, 2016",
         "Twenty20",
         "https://www.espncricinfo.com//series/ipl-2016-968923/royal-challengers-bangalore-vs-mumbai-indians-41st-match-980981/full-scorecard"
        ],
        [
         "Supergiants",
         "SRH",
         "SRH",
         "4 runs",
         "Visakhapatnam",
         "May 10, 2016",
         "Twenty20",
         "https://www.espncricinfo.com//series/ipl-2016-968923/rising-pune-supergiants-vs-sunrisers-hyderabad-40th-match-980979/full-scorecard"
        ],
        [
         "Kings XI",
         "RCB",
         "RCB",
         "1 run",
         "Mohali",
         "May 9, 2016",
         "Twenty20",
         "https://www.espncricinfo.com//series/ipl-2016-968923/kings-xi-punjab-vs-royal-challengers-bangalore-39th-match-980977/full-scorecard"
        ],
        [
         "KKR",
         "Guj Lions",
         "Guj Lions",
         "5 wickets",
         "Eden Gardens",
         "May 8, 2016",
         "Twenty20",
         "https://www.espncricinfo.com//series/ipl-2016-968923/kolkata-knight-riders-vs-gujarat-lions-38th-match-980975/full-scorecard"
        ],
        [
         "MI",
         "SRH",
         "SRH",
         "85 runs",
         "Visakhapatnam",
         "May 8, 2016",
         "Twenty20",
         "https://www.espncricinfo.com//series/ipl-2016-968923/mumbai-indians-vs-sunrisers-hyderabad-37th-match-980973/full-scorecard"
        ],
        [
         "Kings XI",
         "Daredevils",
         "Kings XI",
         "9 runs",
         "Mohali",
         "May 7, 2016",
         "Twenty20",
         "https://www.espncricinfo.com//series/ipl-2016-968923/kings-xi-punjab-vs-delhi-daredevils-36th-match-980971/full-scorecard"
        ],
        [
         "RCB",
         "Supergiants",
         "RCB",
         "7 wickets",
         "Bengaluru",
         "May 7, 2016",
         "Twenty20",
         "https://www.espncricinfo.com//series/ipl-2016-968923/royal-challengers-bangalore-vs-rising-pune-supergiants-35th-match-980969/full-scorecard"
        ],
        [
         "SRH",
         "Guj Lions",
         "SRH",
         "5 wickets",
         "Hyderabad",
         "May 6, 2016",
         "Twenty20",
         "https://www.espncricinfo.com//series/ipl-2016-968923/sunrisers-hyderabad-vs-gujarat-lions-34th-match-980967/full-scorecard"
        ],
        [
         "Daredevils",
         "Supergiants",
         "Supergiants",
         "7 wickets",
         "Delhi",
         "May 5, 2016",
         "Twenty20",
         "https://www.espncricinfo.com//series/ipl-2016-968923/delhi-daredevils-vs-rising-pune-supergiants-33rd-match-980965/full-scorecard"
        ],
        [
         "KKR",
         "Kings XI",
         "KKR",
         "7 runs",
         "Eden Gardens",
         "May 4, 2016",
         "Twenty20",
         "https://www.espncricinfo.com//series/ipl-2016-968923/kolkata-knight-riders-vs-kings-xi-punjab-32nd-match-980963/full-scorecard"
        ],
        [
         "Guj Lions",
         "Daredevils",
         "Daredevils",
         "8 wickets",
         "Rajkot",
         "May 3, 2016",
         "Twenty20",
         "https://www.espncricinfo.com//series/ipl-2016-968923/gujarat-lions-vs-delhi-daredevils-31st-match-980961/full-scorecard"
        ],
        [
         "RCB",
         "KKR",
         "KKR",
         "5 wickets",
         "Bengaluru",
         "May 2, 2016",
         "Twenty20",
         "https://www.espncricinfo.com//series/ipl-2016-968923/royal-challengers-bangalore-vs-kolkata-knight-riders-30th-match-980959/full-scorecard"
        ],
        [
         "Supergiants",
         "MI",
         "MI",
         "8 wickets",
         "Pune",
         "May 1, 2016",
         "Twenty20",
         "https://www.espncricinfo.com//series/ipl-2016-968923/rising-pune-supergiants-vs-mumbai-indians-29th-match-980957/full-scorecard"
        ],
        [
         "Guj Lions",
         "Kings XI",
         "Kings XI",
         "23 runs",
         "Rajkot",
         "May 1, 2016",
         "Twenty20",
         "https://www.espncricinfo.com//series/ipl-2016-968923/gujarat-lions-vs-kings-xi-punjab-28th-match-980955/full-scorecard"
        ],
        [
         "SRH",
         "RCB",
         "SRH",
         "15 runs",
         "Hyderabad",
         "Apr 30, 2016",
         "Twenty20",
         "https://www.espncricinfo.com//series/ipl-2016-968923/sunrisers-hyderabad-vs-royal-challengers-bangalore-27th-match-980953/full-scorecard"
        ],
        [
         "Daredevils",
         "KKR",
         "Daredevils",
         "27 runs",
         "Delhi",
         "Apr 30, 2016",
         "Twenty20",
         "https://www.espncricinfo.com//series/ipl-2016-968923/delhi-daredevils-vs-kolkata-knight-riders-26th-match-980951/full-scorecard"
        ],
        [
         "Supergiants",
         "Guj Lions",
         "Guj Lions",
         "3 wickets",
         "Pune",
         "Apr 29, 2016",
         "Twenty20",
         "https://www.espncricinfo.com//series/ipl-2016-968923/rising-pune-supergiants-vs-gujarat-lions-25th-match-980949/full-scorecard"
        ],
        [
         "MI",
         "KKR",
         "MI",
         "6 wickets",
         "Wankhede",
         "Apr 28, 2016",
         "Twenty20",
         "https://www.espncricinfo.com//series/ipl-2016-968923/mumbai-indians-vs-kolkata-knight-riders-24th-match-980947/full-scorecard"
        ],
        [
         "Daredevils",
         "Guj Lions",
         "Guj Lions",
         "1 run",
         "Delhi",
         "Apr 27, 2016",
         "Twenty20",
         "https://www.espncricinfo.com//series/ipl-2016-968923/delhi-daredevils-vs-gujarat-lions-23rd-match-980945/full-scorecard"
        ],
        [
         "SRH",
         "Supergiants",
         "Supergiants",
         "34 runs",
         "Hyderabad",
         "Apr 26, 2016",
         "Twenty20",
         "https://www.espncricinfo.com//series/ipl-2016-968923/sunrisers-hyderabad-vs-rising-pune-supergiants-22nd-match-980943/full-scorecard"
        ],
        [
         "Kings XI",
         "MI",
         "MI",
         "25 runs",
         "Mohali",
         "Apr 25, 2016",
         "Twenty20",
         "https://www.espncricinfo.com//series/ipl-2016-968923/kings-xi-punjab-vs-mumbai-indians-21st-match-980941/full-scorecard"
        ],
        [
         "Supergiants",
         "KKR",
         "KKR",
         "2 wickets",
         "Pune",
         "Apr 24, 2016",
         "Twenty20",
         "https://www.espncricinfo.com//series/ipl-2016-968923/rising-pune-supergiants-vs-kolkata-knight-riders-20th-match-980939/full-scorecard"
        ],
        [
         "Guj Lions",
         "RCB",
         "Guj Lions",
         "6 wickets",
         "Rajkot",
         "Apr 24, 2016",
         "Twenty20",
         "https://www.espncricinfo.com//series/ipl-2016-968923/gujarat-lions-vs-royal-challengers-bangalore-19th-match-980937/full-scorecard"
        ],
        [
         "SRH",
         "Kings XI",
         "SRH",
         "5 wickets",
         "Hyderabad",
         "Apr 23, 2016",
         "Twenty20",
         "https://www.espncricinfo.com//series/ipl-2016-968923/sunrisers-hyderabad-vs-kings-xi-punjab-18th-match-980935/full-scorecard"
        ],
        [
         "Daredevils",
         "MI",
         "Daredevils",
         "10 runs",
         "Delhi",
         "Apr 23, 2016",
         "Twenty20",
         "https://www.espncricinfo.com//series/ipl-2016-968923/delhi-daredevils-vs-mumbai-indians-17th-match-980933/full-scorecard"
        ],
        [
         "Supergiants",
         "RCB",
         "RCB",
         "13 runs",
         "Pune",
         "Apr 22, 2016",
         "Twenty20",
         "https://www.espncricinfo.com//series/ipl-2016-968923/rising-pune-supergiants-vs-royal-challengers-bangalore-16th-match-980931/full-scorecard"
        ],
        [
         "Guj Lions",
         "SRH",
         "SRH",
         "10 wickets",
         "Rajkot",
         "Apr 21, 2016",
         "Twenty20",
         "https://www.espncricinfo.com//series/ipl-2016-968923/gujarat-lions-vs-sunrisers-hyderabad-15th-match-980929/full-scorecard"
        ],
        [
         "MI",
         "RCB",
         "MI",
         "6 wickets",
         "Wankhede",
         "Apr 20, 2016",
         "Twenty20",
         "https://www.espncricinfo.com//series/ipl-2016-968923/mumbai-indians-vs-royal-challengers-bangalore-14th-match-980927/full-scorecard"
        ],
        [
         "Kings XI",
         "KKR",
         "KKR",
         "6 wickets",
         "Mohali",
         "Apr 19, 2016",
         "Twenty20",
         "https://www.espncricinfo.com//series/ipl-2016-968923/kings-xi-punjab-vs-kolkata-knight-riders-13th-match-980925/full-scorecard"
        ],
        [
         "SRH",
         "MI",
         "SRH",
         "7 wickets",
         "Hyderabad",
         "Apr 18, 2016",
         "Twenty20",
         "https://www.espncricinfo.com//series/ipl-2016-968923/sunrisers-hyderabad-vs-mumbai-indians-12th-match-980923/full-scorecard"
        ],
        [
         "RCB",
         "Daredevils",
         "Daredevils",
         "7 wickets",
         "Bengaluru",
         "Apr 17, 2016",
         "Twenty20",
         "https://www.espncricinfo.com//series/ipl-2016-968923/royal-challengers-bangalore-vs-delhi-daredevils-11th-match-980921/full-scorecard"
        ],
        [
         "Kings XI",
         "Supergiants",
         "Kings XI",
         "6 wickets",
         "Mohali",
         "Apr 17, 2016",
         "Twenty20",
         "https://www.espncricinfo.com//series/ipl-2016-968923/kings-xi-punjab-vs-rising-pune-supergiants-10th-match-980919/full-scorecard"
        ],
        [
         "MI",
         "Guj Lions",
         "Guj Lions",
         "3 wickets",
         "Wankhede",
         "Apr 16, 2016",
         "Twenty20",
         "https://www.espncricinfo.com//series/ipl-2016-968923/mumbai-indians-vs-gujarat-lions-9th-match-980917/full-scorecard"
        ],
        [
         "SRH",
         "KKR",
         "KKR",
         "8 wickets",
         "Hyderabad",
         "Apr 16, 2016",
         "Twenty20",
         "https://www.espncricinfo.com//series/ipl-2016-968923/sunrisers-hyderabad-vs-kolkata-knight-riders-8th-match-980915/full-scorecard"
        ],
        [
         "Daredevils",
         "Kings XI",
         "Daredevils",
         "8 wickets",
         "Delhi",
         "Apr 15, 2016",
         "Twenty20",
         "https://www.espncricinfo.com//series/ipl-2016-968923/delhi-daredevils-vs-kings-xi-punjab-7th-match-980913/full-scorecard"
        ],
        [
         "Guj Lions",
         "Supergiants",
         "Guj Lions",
         "7 wickets",
         "Rajkot",
         "Apr 14, 2016",
         "Twenty20",
         "https://www.espncricinfo.com//series/ipl-2016-968923/gujarat-lions-vs-rising-pune-supergiants-6th-match-980911/full-scorecard"
        ],
        [
         "KKR",
         "MI",
         "MI",
         "6 wickets",
         "Eden Gardens",
         "Apr 13, 2016",
         "Twenty20",
         "https://www.espncricinfo.com//series/ipl-2016-968923/kolkata-knight-riders-vs-mumbai-indians-5th-match-980909/full-scorecard"
        ],
        [
         "RCB",
         "SRH",
         "RCB",
         "45 runs",
         "Bengaluru",
         "Apr 12, 2016",
         "Twenty20",
         "https://www.espncricinfo.com//series/ipl-2016-968923/royal-challengers-bangalore-vs-sunrisers-hyderabad-4th-match-980907/full-scorecard"
        ],
        [
         "Kings XI",
         "Guj Lions",
         "Guj Lions",
         "5 wickets",
         "Mohali",
         "Apr 11, 2016",
         "Twenty20",
         "https://www.espncricinfo.com//series/ipl-2016-968923/kings-xi-punjab-vs-gujarat-lions-3rd-match-980905/full-scorecard"
        ],
        [
         "KKR",
         "Daredevils",
         "KKR",
         "9 wickets",
         "Eden Gardens",
         "Apr 10, 2016",
         "Twenty20",
         "https://www.espncricinfo.com//series/ipl-2016-968923/kolkata-knight-riders-vs-delhi-daredevils-2nd-match-980903/full-scorecard"
        ],
        [
         "MI",
         "Supergiants",
         "Supergiants",
         "9 wickets",
         "Wankhede",
         "Apr 9, 2016",
         "Twenty20",
         "https://www.espncricinfo.com//series/ipl-2016-968923/mumbai-indians-vs-rising-pune-supergiants-1st-match-980901/full-scorecard"
        ],
        [
         "CSK",
         "MI",
         "MI",
         "41 runs",
         "Eden Gardens",
         "May 24, 2015",
         "Twenty20",
         "https://www.espncricinfo.com//series/pepsi-indian-premier-league-2015-791129/chennai-super-kings-vs-mumbai-indians-final-829823/full-scorecard"
        ],
        [
         "CSK",
         "RCB",
         "CSK",
         "3 wickets",
         "Ranchi",
         "May 22, 2015",
         "Twenty20",
         "https://www.espncricinfo.com//series/pepsi-indian-premier-league-2015-791129/chennai-super-kings-vs-royal-challengers-bangalore-qualifier-2-829821/full-scorecard"
        ],
        [
         "RR",
         "RCB",
         "RCB",
         "71 runs",
         "Pune",
         "May 20, 2015",
         "Twenty20",
         "https://www.espncricinfo.com//series/pepsi-indian-premier-league-2015-791129/rajasthan-royals-vs-royal-challengers-bangalore-eliminator-829819/full-scorecard"
        ],
        [
         "CSK",
         "MI",
         "MI",
         "25 runs",
         "Wankhede",
         "May 19, 2015",
         "Twenty20",
         "https://www.espncricinfo.com//series/pepsi-indian-premier-league-2015-791129/chennai-super-kings-vs-mumbai-indians-qualifier-1-829817/full-scorecard"
        ],
        [
         "SRH",
         "MI",
         "MI",
         "9 wickets",
         "Hyderabad",
         "May 17, 2015",
         "Twenty20",
         "https://www.espncricinfo.com//series/pepsi-indian-premier-league-2015-791129/sunrisers-hyderabad-vs-mumbai-indians-56th-match-829815/full-scorecard"
        ],
        [
         "RCB",
         "Daredevils",
         "no result",
         "-",
         "Bengaluru",
         "May 17, 2015",
         "Twenty20",
         "https://www.espncricinfo.com//series/pepsi-indian-premier-league-2015-791129/royal-challengers-bangalore-vs-delhi-daredevils-55th-match-829813/full-scorecard"
        ],
        [
         "RR",
         "KKR",
         "RR",
         "9 runs",
         "Brabourne",
         "May 16, 2015",
         "Twenty20",
         "https://www.espncricinfo.com//series/pepsi-indian-premier-league-2015-791129/rajasthan-royals-vs-kolkata-knight-riders-54th-match-829811/full-scorecard"
        ],
        [
         "Kings XI",
         "CSK",
         "CSK",
         "7 wickets",
         "Mohali",
         "May 16, 2015",
         "Twenty20",
         "https://www.espncricinfo.com//series/pepsi-indian-premier-league-2015-791129/kings-xi-punjab-vs-chennai-super-kings-53rd-match-829809/full-scorecard"
        ],
        [
         "SRH",
         "RCB",
         "RCB",
         "6 wickets",
         "Hyderabad",
         "May 15, 2015",
         "Twenty20",
         "https://www.espncricinfo.com//series/pepsi-indian-premier-league-2015-791129/sunrisers-hyderabad-vs-royal-challengers-bangalore-52nd-match-829807/full-scorecard"
        ],
        [
         "MI",
         "KKR",
         "MI",
         "5 runs",
         "Wankhede",
         "May 14, 2015",
         "Twenty20",
         "https://www.espncricinfo.com//series/pepsi-indian-premier-league-2015-791129/mumbai-indians-vs-kolkata-knight-riders-51st-match-829805/full-scorecard"
        ],
        [
         "Kings XI",
         "RCB",
         "Kings XI",
         "22 runs",
         "Mohali",
         "May 13, 2015",
         "Twenty20",
         "https://www.espncricinfo.com//series/pepsi-indian-premier-league-2015-791129/kings-xi-punjab-vs-royal-challengers-bangalore-50th-match-829803/full-scorecard"
        ],
        [
         "Daredevils",
         "CSK",
         "Daredevils",
         "6 wickets",
         "Raipur",
         "May 12, 2015",
         "Twenty20",
         "https://www.espncricinfo.com//series/pepsi-indian-premier-league-2015-791129/delhi-daredevils-vs-chennai-super-kings-49th-match-829801/full-scorecard"
        ],
        [
         "SRH",
         "Kings XI",
         "SRH",
         "5 runs",
         "Hyderabad",
         "May 11, 2015",
         "Twenty20",
         "https://www.espncricinfo.com//series/pepsi-indian-premier-league-2015-791129/sunrisers-hyderabad-vs-kings-xi-punjab-48th-match-829799/full-scorecard"
        ],
        [
         "CSK",
         "RR",
         "CSK",
         "12 runs",
         "Chennai",
         "May 10, 2015",
         "Twenty20",
         "https://www.espncricinfo.com//series/pepsi-indian-premier-league-2015-791129/chennai-super-kings-vs-rajasthan-royals-47th-match-829797/full-scorecard"
        ],
        [
         "MI",
         "RCB",
         "RCB",
         "39 runs",
         "Wankhede",
         "May 10, 2015",
         "Twenty20",
         "https://www.espncricinfo.com//series/pepsi-indian-premier-league-2015-791129/mumbai-indians-vs-royal-challengers-bangalore-46th-match-829795/full-scorecard"
        ],
        [
         "Daredevils",
         "SRH",
         "SRH",
         "6 runs",
         "Raipur",
         "May 9, 2015",
         "Twenty20",
         "https://www.espncricinfo.com//series/pepsi-indian-premier-league-2015-791129/delhi-daredevils-vs-sunrisers-hyderabad-45th-match-829793/full-scorecard"
        ],
        [
         "KKR",
         "Kings XI",
         "KKR",
         "1 wicket",
         "Eden Gardens",
         "May 9, 2015",
         "Twenty20",
         "https://www.espncricinfo.com//series/pepsi-indian-premier-league-2015-791129/kolkata-knight-riders-vs-kings-xi-punjab-44th-match-829791/full-scorecard"
        ],
        [
         "CSK",
         "MI",
         "MI",
         "6 wickets",
         "Chennai",
         "May 8, 2015",
         "Twenty20",
         "https://www.espncricinfo.com//series/pepsi-indian-premier-league-2015-791129/chennai-super-kings-vs-mumbai-indians-43rd-match-829789/full-scorecard"
        ],
        [
         "KKR",
         "Daredevils",
         "KKR",
         "13 runs",
         "Eden Gardens",
         "May 7, 2015",
         "Twenty20",
         "https://www.espncricinfo.com//series/pepsi-indian-premier-league-2015-791129/kolkata-knight-riders-vs-delhi-daredevils-42nd-match-829761/full-scorecard"
        ],
        [
         "RR",
         "SRH",
         "SRH",
         "7 runs",
         "Brabourne",
         "May 7, 2015",
         "Twenty20",
         "https://www.espncricinfo.com//series/pepsi-indian-premier-league-2015-791129/rajasthan-royals-vs-sunrisers-hyderabad-41st-match-829787/full-scorecard"
        ],
        [
         "RCB",
         "Kings XI",
         "RCB",
         "138 runs",
         "Bengaluru",
         "May 6, 2015",
         "Twenty20",
         "https://www.espncricinfo.com//series/pepsi-indian-premier-league-2015-791129/royal-challengers-bangalore-vs-kings-xi-punjab-40th-match-829785/full-scorecard"
        ],
        [
         "MI",
         "Daredevils",
         "MI",
         "5 wickets",
         "Wankhede",
         "May 5, 2015",
         "Twenty20",
         "https://www.espncricinfo.com//series/pepsi-indian-premier-league-2015-791129/mumbai-indians-vs-delhi-daredevils-39th-match-829783/full-scorecard"
        ],
        [
         "KKR",
         "SRH",
         "KKR",
         "35 runs",
         "Eden Gardens",
         "May 4, 2015",
         "Twenty20",
         "https://www.espncricinfo.com//series/pepsi-indian-premier-league-2015-791129/kolkata-knight-riders-vs-sunrisers-hyderabad-38th-match-829781/full-scorecard"
        ],
        [
         "CSK",
         "RCB",
         "CSK",
         "24 runs",
         "Chennai",
         "May 4, 2015",
         "Twenty20",
         "https://www.espncricinfo.com//series/pepsi-indian-premier-league-2015-791129/chennai-super-kings-vs-royal-challengers-bangalore-37th-match-829779/full-scorecard"
        ],
        [
         "RR",
         "Daredevils",
         "RR",
         "14 runs",
         "Brabourne",
         "May 3, 2015",
         "Twenty20",
         "https://www.espncricinfo.com//series/pepsi-indian-premier-league-2015-791129/rajasthan-royals-vs-delhi-daredevils-36th-match-829777/full-scorecard"
        ],
        [
         "Kings XI",
         "MI",
         "MI",
         "23 runs",
         "Mohali",
         "May 3, 2015",
         "Twenty20",
         "https://www.espncricinfo.com//series/pepsi-indian-premier-league-2015-791129/kings-xi-punjab-vs-mumbai-indians-35th-match-829775/full-scorecard"
        ],
        [
         "SRH",
         "CSK",
         "SRH",
         "22 runs",
         "Hyderabad",
         "May 2, 2015",
         "Twenty20",
         "https://www.espncricinfo.com//series/pepsi-indian-premier-league-2015-791129/sunrisers-hyderabad-vs-chennai-super-kings-34th-match-829773/full-scorecard"
        ],
        [
         "RCB",
         "KKR",
         "RCB",
         "7 wickets",
         "Bengaluru",
         "May 2, 2015",
         "Twenty20",
         "https://www.espncricinfo.com//series/pepsi-indian-premier-league-2015-791129/royal-challengers-bangalore-vs-kolkata-knight-riders-33rd-match-829771/full-scorecard"
        ],
        [
         "MI",
         "RR",
         "MI",
         "8 runs",
         "Wankhede",
         "May 1, 2015",
         "Twenty20",
         "https://www.espncricinfo.com//series/pepsi-indian-premier-league-2015-791129/mumbai-indians-vs-rajasthan-royals-32nd-match-829769/full-scorecard"
        ],
        [
         "Daredevils",
         "Kings XI",
         "Daredevils",
         "9 wickets",
         "Delhi",
         "May 1, 2015",
         "Twenty20",
         "https://www.espncricinfo.com//series/pepsi-indian-premier-league-2015-791129/delhi-daredevils-vs-kings-xi-punjab-31st-match-829767/full-scorecard"
        ],
        [
         "KKR",
         "CSK",
         "KKR",
         "7 wickets",
         "Eden Gardens",
         "Apr 30, 2015",
         "Twenty20",
         "https://www.espncricinfo.com//series/pepsi-indian-premier-league-2015-791129/kolkata-knight-riders-vs-chennai-super-kings-30th-match-829723/full-scorecard"
        ],
        [
         "RCB",
         "RR",
         "no result",
         "-",
         "Bengaluru",
         "Apr 29, 2015",
         "Twenty20",
         "https://www.espncricinfo.com//series/pepsi-indian-premier-league-2015-791129/royal-challengers-bangalore-vs-rajasthan-royals-29th-match-829763/full-scorecard"
        ],
        [
         "CSK",
         "KKR",
         "CSK",
         "2 runs",
         "Chennai",
         "Apr 28, 2015",
         "Twenty20",
         "https://www.espncricinfo.com//series/pepsi-indian-premier-league-2015-791129/chennai-super-kings-vs-kolkata-knight-riders-28th-match-829765/full-scorecard"
        ],
        [
         "Kings XI",
         "SRH",
         "SRH",
         "20 runs",
         "Mohali",
         "Apr 27, 2015",
         "Twenty20",
         "https://www.espncricinfo.com//series/pepsi-indian-premier-league-2015-791129/kings-xi-punjab-vs-sunrisers-hyderabad-27th-match-829759/full-scorecard"
        ],
        [
         "Daredevils",
         "RCB",
         "RCB",
         "10 wickets",
         "Delhi",
         "Apr 26, 2015",
         "Twenty20",
         "https://www.espncricinfo.com//series/pepsi-indian-premier-league-2015-791129/delhi-daredevils-vs-royal-challengers-bangalore-26th-match-829757/full-scorecard"
        ],
        [
         "CSK",
         "Kings XI",
         "CSK",
         "97 runs",
         "Chennai",
         "Apr 25, 2015",
         "Twenty20",
         "https://www.espncricinfo.com//series/pepsi-indian-premier-league-2015-791129/chennai-super-kings-vs-kings-xi-punjab-24th-match-829753/full-scorecard"
        ],
        [
         "MI",
         "SRH",
         "MI",
         "20 runs",
         "Wankhede",
         "Apr 25, 2015",
         "Twenty20",
         "https://www.espncricinfo.com//series/pepsi-indian-premier-league-2015-791129/mumbai-indians-vs-sunrisers-hyderabad-23rd-match-829751/full-scorecard"
        ],
        [
         "RR",
         "RCB",
         "RCB",
         "9 wickets",
         "Ahmedabad",
         "Apr 24, 2015",
         "Twenty20",
         "https://www.espncricinfo.com//series/pepsi-indian-premier-league-2015-791129/rajasthan-royals-vs-royal-challengers-bangalore-22nd-match-829749/full-scorecard"
        ],
        [
         "Daredevils",
         "MI",
         "Daredevils",
         "37 runs",
         "Delhi",
         "Apr 23, 2015",
         "Twenty20",
         "https://www.espncricinfo.com//series/pepsi-indian-premier-league-2015-791129/delhi-daredevils-vs-mumbai-indians-21st-match-829747/full-scorecard"
        ],
        [
         "RCB",
         "CSK",
         "CSK",
         "27 runs",
         "Bengaluru",
         "Apr 22, 2015",
         "Twenty20",
         "https://www.espncricinfo.com//series/pepsi-indian-premier-league-2015-791129/royal-challengers-bangalore-vs-chennai-super-kings-20th-match-829745/full-scorecard"
        ],
        [
         "SRH",
         "KKR",
         "SRH",
         "16 runs",
         "Visakhapatnam",
         "Apr 22, 2015",
         "Twenty20",
         "https://www.espncricinfo.com//series/pepsi-indian-premier-league-2015-791129/sunrisers-hyderabad-vs-kolkata-knight-riders-19th-match-829743/full-scorecard"
        ],
        [
         "RR",
         "Kings XI",
         "tied",
         "-",
         "Ahmedabad",
         "Apr 21, 2015",
         "Twenty20",
         "https://www.espncricinfo.com//series/pepsi-indian-premier-league-2015-791129/rajasthan-royals-vs-kings-xi-punjab-18th-match-829741/full-scorecard"
        ],
        [
         "Daredevils",
         "KKR",
         "KKR",
         "6 wickets",
         "Delhi",
         "Apr 20, 2015",
         "Twenty20",
         "https://www.espncricinfo.com//series/pepsi-indian-premier-league-2015-791129/delhi-daredevils-vs-kolkata-knight-riders-17th-match-829739/full-scorecard"
        ],
        [
         "RCB",
         "MI",
         "MI",
         "18 runs",
         "Bengaluru",
         "Apr 19, 2015",
         "Twenty20",
         "https://www.espncricinfo.com//series/pepsi-indian-premier-league-2015-791129/royal-challengers-bangalore-vs-mumbai-indians-16th-match-829737/full-scorecard"
        ],
        [
         "RR",
         "CSK",
         "RR",
         "8 wickets",
         "Ahmedabad",
         "Apr 19, 2015",
         "Twenty20",
         "https://www.espncricinfo.com//series/pepsi-indian-premier-league-2015-791129/rajasthan-royals-vs-chennai-super-kings-15th-match-829735/full-scorecard"
        ],
        [
         "Kings XI",
         "KKR",
         "KKR",
         "4 wickets",
         "Pune",
         "Apr 18, 2015",
         "Twenty20",
         "https://www.espncricinfo.com//series/pepsi-indian-premier-league-2015-791129/kings-xi-punjab-vs-kolkata-knight-riders-14th-match-829733/full-scorecard"
        ],
        [
         "SRH",
         "Daredevils",
         "Daredevils",
         "4 runs",
         "Visakhapatnam",
         "Apr 18, 2015",
         "Twenty20",
         "https://www.espncricinfo.com//series/pepsi-indian-premier-league-2015-791129/sunrisers-hyderabad-vs-delhi-daredevils-13th-match-829731/full-scorecard"
        ],
        [
         "MI",
         "CSK",
         "CSK",
         "6 wickets",
         "Wankhede",
         "Apr 17, 2015",
         "Twenty20",
         "https://www.espncricinfo.com//series/pepsi-indian-premier-league-2015-791129/mumbai-indians-vs-chennai-super-kings-12th-match-829729/full-scorecard"
        ],
        [
         "SRH",
         "RR",
         "RR",
         "6 wickets",
         "Visakhapatnam",
         "Apr 16, 2015",
         "Twenty20",
         "https://www.espncricinfo.com//series/pepsi-indian-premier-league-2015-791129/sunrisers-hyderabad-vs-rajasthan-royals-11th-match-829727/full-scorecard"
        ],
        [
         "Kings XI",
         "Daredevils",
         "Daredevils",
         "5 wickets",
         "Pune",
         "Apr 15, 2015",
         "Twenty20",
         "https://www.espncricinfo.com//series/pepsi-indian-premier-league-2015-791129/kings-xi-punjab-vs-delhi-daredevils-10th-match-829725/full-scorecard"
        ],
        [
         "RR",
         "MI",
         "RR",
         "7 wickets",
         "Ahmedabad",
         "Apr 14, 2015",
         "Twenty20",
         "https://www.espncricinfo.com//series/pepsi-indian-premier-league-2015-791129/rajasthan-royals-vs-mumbai-indians-9th-match-829721/full-scorecard"
        ],
        [
         "RCB",
         "SRH",
         "SRH",
         "8 wickets",
         "Bengaluru",
         "Apr 13, 2015",
         "Twenty20",
         "https://www.espncricinfo.com//series/pepsi-indian-premier-league-2015-791129/royal-challengers-bangalore-vs-sunrisers-hyderabad-8th-match-829719/full-scorecard"
        ],
        [
         "MI",
         "Kings XI",
         "Kings XI",
         "18 runs",
         "Wankhede",
         "Apr 12, 2015",
         "Twenty20",
         "https://www.espncricinfo.com//series/pepsi-indian-premier-league-2015-791129/mumbai-indians-vs-kings-xi-punjab-7th-match-829717/full-scorecard"
        ],
        [
         "Daredevils",
         "RR",
         "RR",
         "3 wickets",
         "Delhi",
         "Apr 12, 2015",
         "Twenty20",
         "https://www.espncricinfo.com//series/pepsi-indian-premier-league-2015-791129/delhi-daredevils-vs-rajasthan-royals-6th-match-829715/full-scorecard"
        ],
        [
         "KKR",
         "RCB",
         "RCB",
         "3 wickets",
         "Eden Gardens",
         "Apr 11, 2015",
         "Twenty20",
         "https://www.espncricinfo.com//series/pepsi-indian-premier-league-2015-791129/kolkata-knight-riders-vs-royal-challengers-bangalore-5th-match-829713/full-scorecard"
        ],
        [
         "CSK",
         "SRH",
         "CSK",
         "45 runs",
         "Chennai",
         "Apr 11, 2015",
         "Twenty20",
         "https://www.espncricinfo.com//series/pepsi-indian-premier-league-2015-791129/chennai-super-kings-vs-sunrisers-hyderabad-4th-match-829711/full-scorecard"
        ],
        [
         "Kings XI",
         "RR",
         "RR",
         "26 runs",
         "Pune",
         "Apr 10, 2015",
         "Twenty20",
         "https://www.espncricinfo.com//series/pepsi-indian-premier-league-2015-791129/kings-xi-punjab-vs-rajasthan-royals-3rd-match-829709/full-scorecard"
        ],
        [
         "CSK",
         "Daredevils",
         "CSK",
         "1 run",
         "Chennai",
         "Apr 9, 2015",
         "Twenty20",
         "https://www.espncricinfo.com//series/pepsi-indian-premier-league-2015-791129/chennai-super-kings-vs-delhi-daredevils-2nd-match-829707/full-scorecard"
        ],
        [
         "KKR",
         "MI",
         "KKR",
         "7 wickets",
         "Eden Gardens",
         "Apr 8, 2015",
         "Twenty20",
         "https://www.espncricinfo.com//series/pepsi-indian-premier-league-2015-791129/kolkata-knight-riders-vs-mumbai-indians-1st-match-829705/full-scorecard"
        ],
        [
         "Kings XI",
         "KKR",
         "KKR",
         "3 wickets",
         "Bengaluru",
         "Jun 1, 2014",
         "Twenty20",
         "https://www.espncricinfo.com//series/pepsi-indian-premier-league-2014-695871/kings-xi-punjab-vs-kolkata-knight-riders-final-734049/full-scorecard"
        ],
        [
         "CSK",
         "Kings XI",
         "Kings XI",
         "24 runs",
         "Wankhede",
         "May 30, 2014",
         "Twenty20",
         "https://www.espncricinfo.com//series/pepsi-indian-premier-league-2014-695871/chennai-super-kings-vs-kings-xi-punjab-qualifier-2-734047/full-scorecard"
        ],
        [
         "MI",
         "CSK",
         "CSK",
         "7 wickets",
         "Brabourne",
         "May 28, 2014",
         "Twenty20",
         "https://www.espncricinfo.com//series/pepsi-indian-premier-league-2014-695871/mumbai-indians-vs-chennai-super-kings-eliminator-734045/full-scorecard"
        ],
        [
         "KKR",
         "Kings XI",
         "KKR",
         "28 runs",
         "Eden Gardens",
         "May 27-28, 2014",
         "Twenty20",
         "https://www.espncricinfo.com//series/pepsi-indian-premier-league-2014-695871/kolkata-knight-riders-vs-kings-xi-punjab-qualifier-1-734043/full-scorecard"
        ],
        [
         "MI",
         "RR",
         "MI",
         "5 wickets",
         "Wankhede",
         "May 25, 2014",
         "Twenty20",
         "https://www.espncricinfo.com//series/pepsi-indian-premier-league-2014-695871/mumbai-indians-vs-rajasthan-royals-56th-match-734041/full-scorecard"
        ],
        [
         "Kings XI",
         "Daredevils",
         "Kings XI",
         "7 wickets",
         "Mohali",
         "May 25, 2014",
         "Twenty20",
         "https://www.espncricinfo.com//series/pepsi-indian-premier-league-2014-695871/kings-xi-punjab-vs-delhi-daredevils-55th-match-734039/full-scorecard"
        ],
        [
         "KKR",
         "SRH",
         "KKR",
         "4 wickets",
         "Eden Gardens",
         "May 24, 2014",
         "Twenty20",
         "https://www.espncricinfo.com//series/pepsi-indian-premier-league-2014-695871/kolkata-knight-riders-vs-sunrisers-hyderabad-54th-match-734037/full-scorecard"
        ],
        [
         "RCB",
         "CSK",
         "CSK",
         "8 wickets",
         "Bengaluru",
         "May 24, 2014",
         "Twenty20",
         "https://www.espncricinfo.com//series/pepsi-indian-premier-league-2014-695871/royal-challengers-bangalore-vs-chennai-super-kings-53rd-match-734035/full-scorecard"
        ],
        [
         "Kings XI",
         "RR",
         "Kings XI",
         "16 runs",
         "Mohali",
         "May 23, 2014",
         "Twenty20",
         "https://www.espncricinfo.com//series/pepsi-indian-premier-league-2014-695871/kings-xi-punjab-vs-rajasthan-royals-52nd-match-734033/full-scorecard"
        ],
        [
         "MI",
         "Daredevils",
         "MI",
         "15 runs",
         "Wankhede",
         "May 23, 2014",
         "Twenty20",
         "https://www.espncricinfo.com//series/pepsi-indian-premier-league-2014-695871/mumbai-indians-vs-delhi-daredevils-51st-match-734031/full-scorecard"
        ],
        [
         "CSK",
         "SRH",
         "SRH",
         "6 wickets",
         "Ranchi",
         "May 22, 2014",
         "Twenty20",
         "https://www.espncricinfo.com//series/pepsi-indian-premier-league-2014-695871/chennai-super-kings-vs-sunrisers-hyderabad-50th-match-734029/full-scorecard"
        ],
        [
         "KKR",
         "RCB",
         "KKR",
         "30 runs",
         "Eden Gardens",
         "May 22, 2014",
         "Twenty20",
         "https://www.espncricinfo.com//series/pepsi-indian-premier-league-2014-695871/kolkata-knight-riders-vs-royal-challengers-bangalore-49th-match-734027/full-scorecard"
        ],
        [
         "Kings XI",
         "MI",
         "MI",
         "7 wickets",
         "Mohali",
         "May 21, 2014",
         "Twenty20",
         "https://www.espncricinfo.com//series/pepsi-indian-premier-league-2014-695871/kings-xi-punjab-vs-mumbai-indians-48th-match-734025/full-scorecard"
        ],
        [
         "KKR",
         "CSK",
         "KKR",
         "8 wickets",
         "Eden Gardens",
         "May 20, 2014",
         "Twenty20",
         "https://www.espncricinfo.com//series/pepsi-indian-premier-league-2014-695871/kolkata-knight-riders-vs-chennai-super-kings-47th-match-734023/full-scorecard"
        ],
        [
         "SRH",
         "RCB",
         "SRH",
         "7 wickets",
         "Hyderabad",
         "May 20, 2014",
         "Twenty20",
         "https://www.espncricinfo.com//series/pepsi-indian-premier-league-2014-695871/sunrisers-hyderabad-vs-royal-challengers-bangalore-46th-match-734021/full-scorecard"
        ],
        [
         "Daredevils",
         "Kings XI",
         "Kings XI",
         "4 wickets",
         "Delhi",
         "May 19, 2014",
         "Twenty20",
         "https://www.espncricinfo.com//series/pepsi-indian-premier-league-2014-695871/delhi-daredevils-vs-kings-xi-punjab-45th-match-734019/full-scorecard"
        ],
        [
         "RR",
         "MI",
         "MI",
         "25 runs",
         "Ahmedabad",
         "May 19, 2014",
         "Twenty20",
         "https://www.espncricinfo.com//series/pepsi-indian-premier-league-2014-695871/rajasthan-royals-vs-mumbai-indians-44th-match-734017/full-scorecard"
        ],
        [
         "SRH",
         "KKR",
         "KKR",
         "7 wickets",
         "Hyderabad",
         "May 18, 2014",
         "Twenty20",
         "https://www.espncricinfo.com//series/pepsi-indian-premier-league-2014-695871/sunrisers-hyderabad-vs-kolkata-knight-riders-43rd-match-734015/full-scorecard"
        ],
        [
         "CSK",
         "RCB",
         "RCB",
         "5 wickets",
         "Ranchi",
         "May 18, 2014",
         "Twenty20",
         "https://www.espncricinfo.com//series/pepsi-indian-premier-league-2014-695871/chennai-super-kings-vs-royal-challengers-bangalore-42nd-match-734013/full-scorecard"
        ],
        [
         "RR",
         "Daredevils",
         "RR",
         "62 runs",
         "Ahmedabad",
         "May 15, 2014",
         "Twenty20",
         "https://www.espncricinfo.com//series/pepsi-indian-premier-league-2014-695871/rajasthan-royals-vs-delhi-daredevils-41st-match-734011/full-scorecard"
        ],
        [
         "KKR",
         "MI",
         "KKR",
         "6 wickets",
         "Cuttack",
         "May 14, 2014",
         "Twenty20",
         "https://www.espncricinfo.com//series/pepsi-indian-premier-league-2014-695871/kolkata-knight-riders-vs-mumbai-indians-40th-match-734009/full-scorecard"
        ],
        [
         "SRH",
         "Kings XI",
         "Kings XI",
         "6 wickets",
         "Hyderabad",
         "May 14, 2014",
         "Twenty20",
         "https://www.espncricinfo.com//series/pepsi-indian-premier-league-2014-695871/sunrisers-hyderabad-vs-kings-xi-punjab-39th-match-734007/full-scorecard"
        ],
        [
         "RCB",
         "Daredevils",
         "RCB",
         "16 runs",
         "Bengaluru",
         "May 13, 2014",
         "Twenty20",
         "https://www.espncricinfo.com//series/pepsi-indian-premier-league-2014-695871/royal-challengers-bangalore-vs-delhi-daredevils-38th-match-734005/full-scorecard"
        ],
        [
         "CSK",
         "RR",
         "CSK",
         "5 wickets",
         "Ranchi",
         "May 13, 2014",
         "Twenty20",
         "https://www.espncricinfo.com//series/pepsi-indian-premier-league-2014-695871/chennai-super-kings-vs-rajasthan-royals-37th-match-734003/full-scorecard"
        ],
        [
         "SRH",
         "MI",
         "MI",
         "7 wickets",
         "Hyderabad",
         "May 12, 2014",
         "Twenty20",
         "https://www.espncricinfo.com//series/pepsi-indian-premier-league-2014-695871/sunrisers-hyderabad-vs-mumbai-indians-36th-match-734001/full-scorecard"
        ],
        [
         "RCB",
         "RR",
         "RR",
         "5 wickets",
         "Bengaluru",
         "May 11, 2014",
         "Twenty20",
         "https://www.espncricinfo.com//series/pepsi-indian-premier-league-2014-695871/royal-challengers-bangalore-vs-rajasthan-royals-35th-match-733999/full-scorecard"
        ],
        [
         "Kings XI",
         "KKR",
         "KKR",
         "9 wickets",
         "Cuttack",
         "May 11, 2014",
         "Twenty20",
         "https://www.espncricinfo.com//series/pepsi-indian-premier-league-2014-695871/kings-xi-punjab-vs-kolkata-knight-riders-34th-match-733997/full-scorecard"
        ],
        [
         "MI",
         "CSK",
         "CSK",
         "4 wickets",
         "Wankhede",
         "May 10, 2014",
         "Twenty20",
         "https://www.espncricinfo.com//series/pepsi-indian-premier-league-2014-695871/mumbai-indians-vs-chennai-super-kings-33rd-match-733995/full-scorecard"
        ],
        [
         "Daredevils",
         "SRH",
         "SRH",
         "8 wickets",
         "Delhi",
         "May 10, 2014",
         "Twenty20",
         "https://www.espncricinfo.com//series/pepsi-indian-premier-league-2014-695871/delhi-daredevils-vs-sunrisers-hyderabad-32nd-match-733993/full-scorecard"
        ],
        [
         "RCB",
         "Kings XI",
         "Kings XI",
         "32 runs",
         "Bengaluru",
         "May 9, 2014",
         "Twenty20",
         "https://www.espncricinfo.com//series/pepsi-indian-premier-league-2014-695871/royal-challengers-bangalore-vs-kings-xi-punjab-31st-match-733991/full-scorecard"
        ],
        [
         "RR",
         "SRH",
         "SRH",
         "32 runs",
         "Ahmedabad",
         "May 8, 2014",
         "Twenty20",
         "https://www.espncricinfo.com//series/pepsi-indian-premier-league-2014-695871/rajasthan-royals-vs-sunrisers-hyderabad-30th-match-733989/full-scorecard"
        ],
        [
         "Kings XI",
         "CSK",
         "Kings XI",
         "44 runs",
         "Cuttack",
         "May 7, 2014",
         "Twenty20",
         "https://www.espncricinfo.com//series/pepsi-indian-premier-league-2014-695871/kings-xi-punjab-vs-chennai-super-kings-29th-match-733987/full-scorecard"
        ],
        [
         "Daredevils",
         "KKR",
         "KKR",
         "8 wickets",
         "Delhi",
         "May 7, 2014",
         "Twenty20",
         "https://www.espncricinfo.com//series/pepsi-indian-premier-league-2014-695871/delhi-daredevils-vs-kolkata-knight-riders-28th-match-733985/full-scorecard"
        ],
        [
         "MI",
         "RCB",
         "MI",
         "19 runs",
         "Wankhede",
         "May 6, 2014",
         "Twenty20",
         "https://www.espncricinfo.com//series/pepsi-indian-premier-league-2014-695871/mumbai-indians-vs-royal-challengers-bangalore-27th-match-733983/full-scorecard"
        ],
        [
         "Daredevils",
         "CSK",
         "CSK",
         "8 wickets",
         "Delhi",
         "May 5, 2014",
         "Twenty20",
         "https://www.espncricinfo.com//series/pepsi-indian-premier-league-2014-695871/delhi-daredevils-vs-chennai-super-kings-26th-match-733981/full-scorecard"
        ],
        [
         "RR",
         "KKR",
         "RR",
         "10 runs",
         "Ahmedabad",
         "May 5, 2014",
         "Twenty20",
         "https://www.espncricinfo.com//series/pepsi-indian-premier-league-2014-695871/rajasthan-royals-vs-kolkata-knight-riders-25th-match-733979/full-scorecard"
        ],
        [
         "RCB",
         "SRH",
         "RCB",
         "4 wickets",
         "Bengaluru",
         "May 4, 2014",
         "Twenty20",
         "https://www.espncricinfo.com//series/pepsi-indian-premier-league-2014-695871/royal-challengers-bangalore-vs-sunrisers-hyderabad-24th-match-733977/full-scorecard"
        ],
        [
         "Daredevils",
         "RR",
         "RR",
         "7 wickets",
         "Delhi",
         "May 3, 2014",
         "Twenty20",
         "https://www.espncricinfo.com//series/pepsi-indian-premier-league-2014-695871/delhi-daredevils-vs-rajasthan-royals-23rd-match-733975/full-scorecard"
        ],
        [
         "MI",
         "Kings XI",
         "MI",
         "5 wickets",
         "Wankhede",
         "May 3, 2014",
         "Twenty20",
         "https://www.espncricinfo.com//series/pepsi-indian-premier-league-2014-695871/mumbai-indians-vs-kings-xi-punjab-22nd-match-733973/full-scorecard"
        ],
        [
         "CSK",
         "KKR",
         "CSK",
         "34 runs",
         "Ranchi",
         "May 2, 2014",
         "Twenty20",
         "https://www.espncricinfo.com//series/pepsi-indian-premier-league-2014-695871/chennai-super-kings-vs-kolkata-knight-riders-21st-match-733971/full-scorecard"
        ],
        [
         "MI",
         "SRH",
         "SRH",
         "15 runs",
         "Dubai (DICS)",
         "Apr 30, 2014",
         "Twenty20",
         "https://www.espncricinfo.com//series/pepsi-indian-premier-league-2014-695871/mumbai-indians-vs-sunrisers-hyderabad-20th-match-729317/full-scorecard"
        ],
        [
         "KKR",
         "RR",
         "tied",
         "-",
         "Abu Dhabi",
         "Apr 29, 2014",
         "Twenty20",
         "https://www.espncricinfo.com//series/pepsi-indian-premier-league-2014-695871/kolkata-knight-riders-vs-rajasthan-royals-19th-match-729315/full-scorecard"
        ],
        [
         "Kings XI",
         "RCB",
         "Kings XI",
         "5 wickets",
         "Dubai (DICS)",
         "Apr 28, 2014",
         "Twenty20",
         "https://www.espncricinfo.com//series/pepsi-indian-premier-league-2014-695871/kings-xi-punjab-vs-royal-challengers-bangalore-18th-match-729313/full-scorecard"
        ],
        [
         "SRH",
         "CSK",
         "CSK",
         "5 wickets",
         "Sharjah",
         "Apr 27, 2014",
         "Twenty20",
         "https://www.espncricinfo.com//series/pepsi-indian-premier-league-2014-695871/sunrisers-hyderabad-vs-chennai-super-kings-17th-match-729311/full-scorecard"
        ],
        [
         "Daredevils",
         "MI",
         "Daredevils",
         "6 wickets",
         "Sharjah",
         "Apr 27, 2014",
         "Twenty20",
         "https://www.espncricinfo.com//series/pepsi-indian-premier-league-2014-695871/delhi-daredevils-vs-mumbai-indians-16th-match-729309/full-scorecard"
        ],
        [
         "KKR",
         "Kings XI",
         "Kings XI",
         "23 runs",
         "Abu Dhabi",
         "Apr 26, 2014",
         "Twenty20",
         "https://www.espncricinfo.com//series/pepsi-indian-premier-league-2014-695871/kolkata-knight-riders-vs-kings-xi-punjab-15th-match-729307/full-scorecard"
        ],
        [
         "RR",
         "RCB",
         "RR",
         "6 wickets",
         "Abu Dhabi",
         "Apr 26, 2014",
         "Twenty20",
         "https://www.espncricinfo.com//series/pepsi-indian-premier-league-2014-695871/rajasthan-royals-vs-royal-challengers-bangalore-14th-match-729305/full-scorecard"
        ],
        [
         "CSK",
         "MI",
         "CSK",
         "7 wickets",
         "Dubai (DICS)",
         "Apr 25, 2014",
         "Twenty20",
         "https://www.espncricinfo.com//series/pepsi-indian-premier-league-2014-695871/chennai-super-kings-vs-mumbai-indians-13th-match-729303/full-scorecard"
        ],
        [
         "SRH",
         "Daredevils",
         "SRH",
         "4 runs",
         "Dubai (DICS)",
         "Apr 25, 2014",
         "Twenty20",
         "https://www.espncricinfo.com//series/pepsi-indian-premier-league-2014-695871/sunrisers-hyderabad-vs-delhi-daredevils-12th-match-729301/full-scorecard"
        ],
        [
         "RCB",
         "KKR",
         "KKR",
         "2 runs",
         "Sharjah",
         "Apr 24, 2014",
         "Twenty20",
         "https://www.espncricinfo.com//series/pepsi-indian-premier-league-2014-695871/royal-challengers-bangalore-vs-kolkata-knight-riders-11th-match-729299/full-scorecard"
        ],
        [
         "RR",
         "CSK",
         "CSK",
         "7 runs",
         "Dubai (DICS)",
         "Apr 23, 2014",
         "Twenty20",
         "https://www.espncricinfo.com//series/pepsi-indian-premier-league-2014-695871/rajasthan-royals-vs-chennai-super-kings-10th-match-729297/full-scorecard"
        ],
        [
         "Kings XI",
         "SRH",
         "Kings XI",
         "72 runs",
         "Sharjah",
         "Apr 22, 2014",
         "Twenty20",
         "https://www.espncricinfo.com//series/pepsi-indian-premier-league-2014-695871/kings-xi-punjab-vs-sunrisers-hyderabad-9th-match-729295/full-scorecard"
        ],
        [
         "CSK",
         "Daredevils",
         "CSK",
         "93 runs",
         "Abu Dhabi",
         "Apr 21, 2014",
         "Twenty20",
         "https://www.espncricinfo.com//series/pepsi-indian-premier-league-2014-695871/chennai-super-kings-vs-delhi-daredevils-8th-match-729293/full-scorecard"
        ],
        [
         "RR",
         "Kings XI",
         "Kings XI",
         "7 wickets",
         "Sharjah",
         "Apr 20, 2014",
         "Twenty20",
         "https://www.espncricinfo.com//series/pepsi-indian-premier-league-2014-695871/rajasthan-royals-vs-kings-xi-punjab-7th-match-729291/full-scorecard"
        ],
        [
         "KKR",
         "Daredevils",
         "Daredevils",
         "4 wickets",
         "Dubai (DICS)",
         "Apr 19, 2014",
         "Twenty20",
         "https://www.espncricinfo.com//series/pepsi-indian-premier-league-2014-695871/kolkata-knight-riders-vs-delhi-daredevils-6th-match-729289/full-scorecard"
        ],
        [
         "RCB",
         "MI",
         "RCB",
         "7 wickets",
         "Dubai (DICS)",
         "Apr 19, 2014",
         "Twenty20",
         "https://www.espncricinfo.com//series/pepsi-indian-premier-league-2014-695871/royal-challengers-bangalore-vs-mumbai-indians-5th-match-729287/full-scorecard"
        ],
        [
         "SRH",
         "RR",
         "RR",
         "4 wickets",
         "Abu Dhabi",
         "Apr 18, 2014",
         "Twenty20",
         "https://www.espncricinfo.com//series/pepsi-indian-premier-league-2014-695871/sunrisers-hyderabad-vs-rajasthan-royals-4th-match-729285/full-scorecard"
        ],
        [
         "CSK",
         "Kings XI",
         "Kings XI",
         "6 wickets",
         "Abu Dhabi",
         "Apr 18, 2014",
         "Twenty20",
         "https://www.espncricinfo.com//series/pepsi-indian-premier-league-2014-695871/chennai-super-kings-vs-kings-xi-punjab-3rd-match-729283/full-scorecard"
        ],
        [
         "Daredevils",
         "RCB",
         "RCB",
         "8 wickets",
         "Sharjah",
         "Apr 17, 2014",
         "Twenty20",
         "https://www.espncricinfo.com//series/pepsi-indian-premier-league-2014-695871/delhi-daredevils-vs-royal-challengers-bangalore-2nd-match-729281/full-scorecard"
        ],
        [
         "MI",
         "KKR",
         "KKR",
         "41 runs",
         "Abu Dhabi",
         "Apr 16, 2014",
         "Twenty20",
         "https://www.espncricinfo.com//series/pepsi-indian-premier-league-2014-695871/mumbai-indians-vs-kolkata-knight-riders-1st-match-729279/full-scorecard"
        ],
        [
         "CSK",
         "MI",
         "MI",
         "23 runs",
         "Eden Gardens",
         "May 26, 2013",
         "Twenty20",
         "https://www.espncricinfo.com//series/indian-premier-league-2013-586733/chennai-super-kings-vs-mumbai-indians-final-598073/full-scorecard"
        ],
        [
         "MI",
         "RR",
         "MI",
         "4 wickets",
         "Eden Gardens",
         "May 24, 2013",
         "Twenty20",
         "https://www.espncricinfo.com//series/indian-premier-league-2013-586733/mumbai-indians-vs-rajasthan-royals-qualifier-2-598072/full-scorecard"
        ],
        [
         "RR",
         "SRH",
         "RR",
         "4 wickets",
         "Delhi",
         "May 22, 2013",
         "Twenty20",
         "https://www.espncricinfo.com//series/indian-premier-league-2013-586733/rajasthan-royals-vs-sunrisers-hyderabad-eliminator-598071/full-scorecard"
        ],
        [
         "CSK",
         "MI",
         "CSK",
         "48 runs",
         "Delhi",
         "May 21, 2013",
         "Twenty20",
         "https://www.espncricinfo.com//series/indian-premier-league-2013-586733/chennai-super-kings-vs-mumbai-indians-qualifier-1-598070/full-scorecard"
        ],
        [
         "SRH",
         "KKR",
         "SRH",
         "5 wickets",
         "Hyderabad",
         "May 19, 2013",
         "Twenty20",
         "https://www.espncricinfo.com//series/indian-premier-league-2013-586733/sunrisers-hyderabad-vs-kolkata-knight-riders-72nd-match-598069/full-scorecard"
        ],
        [
         "Warriors",
         "Daredevils",
         "Warriors",
         "38 runs",
         "Pune",
         "May 19, 2013",
         "Twenty20",
         "https://www.espncricinfo.com//series/indian-premier-league-2013-586733/pune-warriors-vs-delhi-daredevils-71st-match-598067/full-scorecard"
        ],
        [
         "RCB",
         "CSK",
         "RCB",
         "24 runs",
         "Bengaluru",
         "May 18, 2013",
         "Twenty20",
         "https://www.espncricinfo.com//series/indian-premier-league-2013-586733/royal-challengers-bangalore-vs-chennai-super-kings-70th-match-598068/full-scorecard"
        ],
        [
         "Kings XI",
         "MI",
         "Kings XI",
         "50 runs",
         "Dharamsala",
         "May 18, 2013",
         "Twenty20",
         "https://www.espncricinfo.com//series/indian-premier-league-2013-586733/kings-xi-punjab-vs-mumbai-indians-69th-match-598066/full-scorecard"
        ],
        [
         "SRH",
         "RR",
         "SRH",
         "23 runs",
         "Hyderabad",
         "May 17, 2013",
         "Twenty20",
         "https://www.espncricinfo.com//series/indian-premier-league-2013-586733/sunrisers-hyderabad-vs-rajasthan-royals-68th-match-598065/full-scorecard"
        ],
        [
         "Kings XI",
         "Daredevils",
         "Kings XI",
         "7 runs",
         "Dharamsala",
         "May 16, 2013",
         "Twenty20",
         "https://www.espncricinfo.com//series/indian-premier-league-2013-586733/kings-xi-punjab-vs-delhi-daredevils-67th-match-598028/full-scorecard"
        ],
        [
         "MI",
         "RR",
         "MI",
         "14 runs",
         "Wankhede",
         "May 15, 2013",
         "Twenty20",
         "https://www.espncricinfo.com//series/indian-premier-league-2013-586733/mumbai-indians-vs-rajasthan-royals-66th-match-598063/full-scorecard"
        ],
        [
         "KKR",
         "Warriors",
         "Warriors",
         "7 runs",
         "Ranchi",
         "May 15, 2013",
         "Twenty20",
         "https://www.espncricinfo.com//series/indian-premier-league-2013-586733/kolkata-knight-riders-vs-pune-warriors-65th-match-598061/full-scorecard"
        ],
        [
         "CSK",
         "Daredevils",
         "CSK",
         "33 runs",
         "Chennai",
         "May 14, 2013",
         "Twenty20",
         "https://www.espncricinfo.com//series/indian-premier-league-2013-586733/chennai-super-kings-vs-delhi-daredevils-64th-match-598062/full-scorecard"
        ],
        [
         "RCB",
         "Kings XI",
         "Kings XI",
         "7 wickets",
         "Bengaluru",
         "May 14, 2013",
         "Twenty20",
         "https://www.espncricinfo.com//series/indian-premier-league-2013-586733/royal-challengers-bangalore-vs-kings-xi-punjab-63rd-match-598045/full-scorecard"
        ],
        [
         "MI",
         "SRH",
         "MI",
         "7 wickets",
         "Wankhede",
         "May 13, 2013",
         "Twenty20",
         "https://www.espncricinfo.com//series/indian-premier-league-2013-586733/mumbai-indians-vs-sunrisers-hyderabad-62nd-match-598060/full-scorecard"
        ],
        [
         "RR",
         "CSK",
         "RR",
         "5 wickets",
         "Jaipur",
         "May 12, 2013",
         "Twenty20",
         "https://www.espncricinfo.com//series/indian-premier-league-2013-586733/rajasthan-royals-vs-chennai-super-kings-61st-match-598058/full-scorecard"
        ],
        [
         "KKR",
         "RCB",
         "KKR",
         "5 wickets",
         "Ranchi",
         "May 12, 2013",
         "Twenty20",
         "https://www.espncricinfo.com//series/indian-premier-league-2013-586733/kolkata-knight-riders-vs-royal-challengers-bangalore-60th-match-598057/full-scorecard"
        ],
        [
         "Kings XI",
         "SRH",
         "SRH",
         "30 runs",
         "Mohali",
         "May 11, 2013",
         "Twenty20",
         "https://www.espncricinfo.com//series/indian-premier-league-2013-586733/kings-xi-punjab-vs-sunrisers-hyderabad-59th-match-598056/full-scorecard"
        ],
        [
         "Warriors",
         "MI",
         "MI",
         "5 wickets",
         "Pune",
         "May 11, 2013",
         "Twenty20",
         "https://www.espncricinfo.com//series/indian-premier-league-2013-586733/pune-warriors-vs-mumbai-indians-58th-match-598055/full-scorecard"
        ],
        [
         "Daredevils",
         "RCB",
         "RCB",
         "4 runs",
         "Delhi",
         "May 10, 2013",
         "Twenty20",
         "https://www.espncricinfo.com//series/indian-premier-league-2013-586733/delhi-daredevils-vs-royal-challengers-bangalore-57th-match-598054/full-scorecard"
        ],
        [
         "Warriors",
         "KKR",
         "KKR",
         "46 runs",
         "Pune",
         "May 9, 2013",
         "Twenty20",
         "https://www.espncricinfo.com//series/indian-premier-league-2013-586733/pune-warriors-vs-kolkata-knight-riders-56th-match-598053/full-scorecard"
        ],
        [
         "Kings XI",
         "RR",
         "RR",
         "8 wickets",
         "Mohali",
         "May 9, 2013",
         "Twenty20",
         "https://www.espncricinfo.com//series/indian-premier-league-2013-586733/kings-xi-punjab-vs-rajasthan-royals-55th-match-598052/full-scorecard"
        ],
        [
         "SRH",
         "CSK",
         "CSK",
         "77 runs",
         "Hyderabad",
         "May 8, 2013",
         "Twenty20",
         "https://www.espncricinfo.com//series/indian-premier-league-2013-586733/sunrisers-hyderabad-vs-chennai-super-kings-54th-match-598051/full-scorecard"
        ],
        [
         "MI",
         "KKR",
         "MI",
         "65 runs",
         "Wankhede",
         "May 7, 2013",
         "Twenty20",
         "https://www.espncricinfo.com//series/indian-premier-league-2013-586733/mumbai-indians-vs-kolkata-knight-riders-53rd-match-598050/full-scorecard"
        ],
        [
         "RR",
         "Daredevils",
         "RR",
         "9 wickets",
         "Jaipur",
         "May 7, 2013",
         "Twenty20",
         "https://www.espncricinfo.com//series/indian-premier-league-2013-586733/rajasthan-royals-vs-delhi-daredevils-52nd-match-598049/full-scorecard"
        ],
        [
         "Kings XI",
         "RCB",
         "Kings XI",
         "6 wickets",
         "Mohali",
         "May 6, 2013",
         "Twenty20",
         "https://www.espncricinfo.com//series/indian-premier-league-2013-586733/kings-xi-punjab-vs-royal-challengers-bangalore-51st-match-598064/full-scorecard"
        ],
        [
         "RR",
         "Warriors",
         "RR",
         "5 wickets",
         "Jaipur",
         "May 5, 2013",
         "Twenty20",
         "https://www.espncricinfo.com//series/indian-premier-league-2013-586733/rajasthan-royals-vs-pune-warriors-50th-match-598047/full-scorecard"
        ],
        [
         "MI",
         "CSK",
         "MI",
         "60 runs",
         "Wankhede",
         "May 5, 2013",
         "Twenty20",
         "https://www.espncricinfo.com//series/indian-premier-league-2013-586733/mumbai-indians-vs-chennai-super-kings-49th-match-598046/full-scorecard"
        ],
        [
         "SRH",
         "Daredevils",
         "SRH",
         "6 wickets",
         "Hyderabad",
         "May 4, 2013",
         "Twenty20",
         "https://www.espncricinfo.com//series/indian-premier-league-2013-586733/sunrisers-hyderabad-vs-delhi-daredevils-48th-match-598044/full-scorecard"
        ],
        [
         "KKR",
         "RR",
         "KKR",
         "8 wickets",
         "Eden Gardens",
         "May 3, 2013",
         "Twenty20",
         "https://www.espncricinfo.com//series/indian-premier-league-2013-586733/kolkata-knight-riders-vs-rajasthan-royals-47th-match-598043/full-scorecard"
        ],
        [
         "Warriors",
         "RCB",
         "RCB",
         "17 runs",
         "Pune",
         "May 2, 2013",
         "Twenty20",
         "https://www.espncricinfo.com//series/indian-premier-league-2013-586733/pune-warriors-vs-royal-challengers-bangalore-46th-match-598042/full-scorecard"
        ],
        [
         "CSK",
         "Kings XI",
         "CSK",
         "15 runs",
         "Chennai",
         "May 2, 2013",
         "Twenty20",
         "https://www.espncricinfo.com//series/indian-premier-league-2013-586733/chennai-super-kings-vs-kings-xi-punjab-45th-match-598041/full-scorecard"
        ],
        [
         "Daredevils",
         "KKR",
         "Daredevils",
         "7 wickets",
         "Raipur",
         "May 1, 2013",
         "Twenty20",
         "https://www.espncricinfo.com//series/indian-premier-league-2013-586733/delhi-daredevils-vs-kolkata-knight-riders-44th-match-598040/full-scorecard"
        ],
        [
         "SRH",
         "MI",
         "SRH",
         "7 wickets",
         "Hyderabad",
         "May 1, 2013",
         "Twenty20",
         "https://www.espncricinfo.com//series/indian-premier-league-2013-586733/sunrisers-hyderabad-vs-mumbai-indians-43rd-match-598039/full-scorecard"
        ],
        [
         "Warriors",
         "CSK",
         "CSK",
         "37 runs",
         "Pune",
         "Apr 30, 2013",
         "Twenty20",
         "https://www.espncricinfo.com//series/indian-premier-league-2013-586733/pune-warriors-vs-chennai-super-kings-42nd-match-598038/full-scorecard"
        ],
        [
         "MI",
         "Kings XI",
         "MI",
         "4 runs",
         "Wankhede",
         "Apr 29, 2013",
         "Twenty20",
         "https://www.espncricinfo.com//series/indian-premier-league-2013-586733/mumbai-indians-vs-kings-xi-punjab-41st-match-598037/full-scorecard"
        ],
        [
         "RR",
         "RCB",
         "RR",
         "4 wickets",
         "Jaipur",
         "Apr 29, 2013",
         "Twenty20",
         "https://www.espncricinfo.com//series/indian-premier-league-2013-586733/rajasthan-royals-vs-royal-challengers-bangalore-40th-match-598036/full-scorecard"
        ],
        [
         "Daredevils",
         "Warriors",
         "Daredevils",
         "15 runs",
         "Raipur",
         "Apr 28, 2013",
         "Twenty20",
         "https://www.espncricinfo.com//series/indian-premier-league-2013-586733/delhi-daredevils-vs-pune-warriors-39th-match-598035/full-scorecard"
        ],
        [
         "CSK",
         "KKR",
         "CSK",
         "14 runs",
         "Chennai",
         "Apr 28, 2013",
         "Twenty20",
         "https://www.espncricinfo.com//series/indian-premier-league-2013-586733/chennai-super-kings-vs-kolkata-knight-riders-38th-match-598034/full-scorecard"
        ],
        [
         "MI",
         "RCB",
         "MI",
         "58 runs",
         "Wankhede",
         "Apr 27, 2013",
         "Twenty20",
         "https://www.espncricinfo.com//series/indian-premier-league-2013-586733/mumbai-indians-vs-royal-challengers-bangalore-37th-match-598033/full-scorecard"
        ],
        [
         "RR",
         "SRH",
         "RR",
         "8 wickets",
         "Jaipur",
         "Apr 27, 2013",
         "Twenty20",
         "https://www.espncricinfo.com//series/indian-premier-league-2013-586733/rajasthan-royals-vs-sunrisers-hyderabad-36th-match-598032/full-scorecard"
        ],
        [
         "KKR",
         "Kings XI",
         "KKR",
         "6 wickets",
         "Eden Gardens",
         "Apr 26, 2013",
         "Twenty20",
         "https://www.espncricinfo.com//series/indian-premier-league-2013-586733/kolkata-knight-riders-vs-kings-xi-punjab-35th-match-598031/full-scorecard"
        ],
        [
         "CSK",
         "SRH",
         "CSK",
         "5 wickets",
         "Chennai",
         "Apr 25, 2013",
         "Twenty20",
         "https://www.espncricinfo.com//series/indian-premier-league-2013-586733/chennai-super-kings-vs-sunrisers-hyderabad-34th-match-598030/full-scorecard"
        ],
        [
         "KKR",
         "MI",
         "MI",
         "5 wickets",
         "Eden Gardens",
         "Apr 24, 2013",
         "Twenty20",
         "https://www.espncricinfo.com//series/indian-premier-league-2013-586733/kolkata-knight-riders-vs-mumbai-indians-33rd-match-598029/full-scorecard"
        ],
        [
         "Daredevils",
         "Kings XI",
         "Kings XI",
         "5 wickets",
         "Delhi",
         "Apr 23, 2013",
         "Twenty20",
         "https://www.espncricinfo.com//series/indian-premier-league-2013-586733/delhi-daredevils-vs-kings-xi-punjab-32nd-match-598059/full-scorecard"
        ],
        [
         "RCB",
         "Warriors",
         "RCB",
         "130 runs",
         "Bengaluru",
         "Apr 23, 2013",
         "Twenty20",
         "https://www.espncricinfo.com//series/indian-premier-league-2013-586733/royal-challengers-bangalore-vs-pune-warriors-31st-match-598027/full-scorecard"
        ],
        [
         "CSK",
         "RR",
         "CSK",
         "5 wickets",
         "Chennai",
         "Apr 22, 2013",
         "Twenty20",
         "https://www.espncricinfo.com//series/indian-premier-league-2013-586733/chennai-super-kings-vs-rajasthan-royals-30th-match-598026/full-scorecard"
        ],
        [
         "Kings XI",
         "Warriors",
         "Kings XI",
         "7 wickets",
         "Mohali",
         "Apr 21, 2013",
         "Twenty20",
         "https://www.espncricinfo.com//series/indian-premier-league-2013-586733/kings-xi-punjab-vs-pune-warriors-29th-match-598025/full-scorecard"
        ],
        [
         "Daredevils",
         "MI",
         "Daredevils",
         "9 wickets",
         "Delhi",
         "Apr 21, 2013",
         "Twenty20",
         "https://www.espncricinfo.com//series/indian-premier-league-2013-586733/delhi-daredevils-vs-mumbai-indians-28th-match-598024/full-scorecard"
        ],
        [
         "RCB",
         "RR",
         "RCB",
         "7 wickets",
         "Bengaluru",
         "Apr 20, 2013",
         "Twenty20",
         "https://www.espncricinfo.com//series/indian-premier-league-2013-586733/royal-challengers-bangalore-vs-rajasthan-royals-27th-match-598023/full-scorecard"
        ],
        [
         "KKR",
         "CSK",
         "CSK",
         "4 wickets",
         "Eden Gardens",
         "Apr 20, 2013",
         "Twenty20",
         "https://www.espncricinfo.com//series/indian-premier-league-2013-586733/kolkata-knight-riders-vs-chennai-super-kings-26th-match-598022/full-scorecard"
        ],
        [
         "SRH",
         "Kings XI",
         "SRH",
         "5 wickets",
         "Hyderabad",
         "Apr 19, 2013",
         "Twenty20",
         "https://www.espncricinfo.com//series/indian-premier-league-2013-586733/sunrisers-hyderabad-vs-kings-xi-punjab-25th-match-598021/full-scorecard"
        ],
        [
         "Daredevils",
         "CSK",
         "CSK",
         "86 runs",
         "Delhi",
         "Apr 18, 2013",
         "Twenty20",
         "https://www.espncricinfo.com//series/indian-premier-league-2013-586733/delhi-daredevils-vs-chennai-super-kings-24th-match-598020/full-scorecard"
        ],
        [
         "RR",
         "MI",
         "RR",
         "87 runs",
         "Jaipur",
         "Apr 17, 2013",
         "Twenty20",
         "https://www.espncricinfo.com//series/indian-premier-league-2013-586733/rajasthan-royals-vs-mumbai-indians-23rd-match-598019/full-scorecard"
        ],
        [
         "Warriors",
         "SRH",
         "SRH",
         "11 runs",
         "Pune",
         "Apr 17, 2013",
         "Twenty20",
         "https://www.espncricinfo.com//series/indian-premier-league-2013-586733/pune-warriors-vs-sunrisers-hyderabad-22nd-match-598018/full-scorecard"
        ],
        [
         "RCB",
         "Daredevils",
         "tied",
         "-",
         "Bengaluru",
         "Apr 16, 2013",
         "Twenty20",
         "https://www.espncricinfo.com//series/indian-premier-league-2013-586733/royal-challengers-bangalore-vs-delhi-daredevils-21st-match-598017/full-scorecard"
        ],
        [
         "Kings XI",
         "KKR",
         "Kings XI",
         "4 runs",
         "Mohali",
         "Apr 16, 2013",
         "Twenty20",
         "https://www.espncricinfo.com//series/indian-premier-league-2013-586733/kings-xi-punjab-vs-kolkata-knight-riders-20th-match-598016/full-scorecard"
        ],
        [
         "CSK",
         "Warriors",
         "Warriors",
         "24 runs",
         "Chennai",
         "Apr 15, 2013",
         "Twenty20",
         "https://www.espncricinfo.com//series/indian-premier-league-2013-586733/chennai-super-kings-vs-pune-warriors-19th-match-598015/full-scorecard"
        ],
        [
         "RR",
         "Kings XI",
         "RR",
         "6 wickets",
         "Jaipur",
         "Apr 14, 2013",
         "Twenty20",
         "https://www.espncricinfo.com//series/indian-premier-league-2013-586733/rajasthan-royals-vs-kings-xi-punjab-18th-match-598014/full-scorecard"
        ],
        [
         "KKR",
         "SRH",
         "KKR",
         "48 runs",
         "Eden Gardens",
         "Apr 14, 2013",
         "Twenty20",
         "https://www.espncricinfo.com//series/indian-premier-league-2013-586733/kolkata-knight-riders-vs-sunrisers-hyderabad-17th-match-598013/full-scorecard"
        ],
        [
         "CSK",
         "RCB",
         "CSK",
         "4 wickets",
         "Chennai",
         "Apr 13, 2013",
         "Twenty20",
         "https://www.espncricinfo.com//series/indian-premier-league-2013-586733/chennai-super-kings-vs-royal-challengers-bangalore-16th-match-598012/full-scorecard"
        ],
        [
         "MI",
         "Warriors",
         "MI",
         "41 runs",
         "Wankhede",
         "Apr 13, 2013",
         "Twenty20",
         "https://www.espncricinfo.com//series/indian-premier-league-2013-586733/mumbai-indians-vs-pune-warriors-15th-match-598011/full-scorecard"
        ],
        [
         "Daredevils",
         "SRH",
         "SRH",
         "3 wickets",
         "Delhi",
         "Apr 12, 2013",
         "Twenty20",
         "https://www.espncricinfo.com//series/indian-premier-league-2013-586733/delhi-daredevils-vs-sunrisers-hyderabad-14th-match-598010/full-scorecard"
        ],
        [
         "Warriors",
         "RR",
         "Warriors",
         "7 wickets",
         "Pune",
         "Apr 11, 2013",
         "Twenty20",
         "https://www.espncricinfo.com//series/indian-premier-league-2013-586733/pune-warriors-vs-rajasthan-royals-13th-match-598009/full-scorecard"
        ],
        [
         "RCB",
         "KKR",
         "RCB",
         "8 wickets",
         "Bengaluru",
         "Apr 11, 2013",
         "Twenty20",
         "https://www.espncricinfo.com//series/indian-premier-league-2013-586733/royal-challengers-bangalore-vs-kolkata-knight-riders-12th-match-598008/full-scorecard"
        ],
        [
         "Kings XI",
         "CSK",
         "CSK",
         "10 wickets",
         "Mohali",
         "Apr 10, 2013",
         "Twenty20",
         "https://www.espncricinfo.com//series/indian-premier-league-2013-586733/kings-xi-punjab-vs-chennai-super-kings-11th-match-598007/full-scorecard"
        ],
        [
         "MI",
         "Daredevils",
         "MI",
         "44 runs",
         "Wankhede",
         "Apr 9, 2013",
         "Twenty20",
         "https://www.espncricinfo.com//series/indian-premier-league-2013-586733/mumbai-indians-vs-delhi-daredevils-10th-match-598006/full-scorecard"
        ],
        [
         "RCB",
         "SRH",
         "RCB",
         "7 wickets",
         "Bengaluru",
         "Apr 9, 2013",
         "Twenty20",
         "https://www.espncricinfo.com//series/indian-premier-league-2013-586733/royal-challengers-bangalore-vs-sunrisers-hyderabad-9th-match-598048/full-scorecard"
        ],
        [
         "RR",
         "KKR",
         "RR",
         "19 runs",
         "Jaipur",
         "Apr 8, 2013",
         "Twenty20",
         "https://www.espncricinfo.com//series/indian-premier-league-2013-586733/rajasthan-royals-vs-kolkata-knight-riders-8th-match-598005/full-scorecard"
        ],
        [
         "SRH",
         "RCB",
         "tied",
         "-",
         "Hyderabad",
         "Apr 7, 2013",
         "Twenty20",
         "https://www.espncricinfo.com//series/indian-premier-league-2013-586733/sunrisers-hyderabad-vs-royal-challengers-bangalore-7th-match-598004/full-scorecard"
        ],
        [
         "Warriors",
         "Kings XI",
         "Kings XI",
         "8 wickets",
         "Pune",
         "Apr 7, 2013",
         "Twenty20",
         "https://www.espncricinfo.com//series/indian-premier-league-2013-586733/pune-warriors-vs-kings-xi-punjab-6th-match-598003/full-scorecard"
        ],
        [
         "CSK",
         "MI",
         "MI",
         "9 runs",
         "Chennai",
         "Apr 6, 2013",
         "Twenty20",
         "https://www.espncricinfo.com//series/indian-premier-league-2013-586733/chennai-super-kings-vs-mumbai-indians-5th-match-598002/full-scorecard"
        ],
        [
         "Daredevils",
         "RR",
         "RR",
         "5 runs",
         "Delhi",
         "Apr 6, 2013",
         "Twenty20",
         "https://www.espncricinfo.com//series/indian-premier-league-2013-586733/delhi-daredevils-vs-rajasthan-royals-4th-match-598001/full-scorecard"
        ],
        [
         "SRH",
         "Warriors",
         "SRH",
         "22 runs",
         "Hyderabad",
         "Apr 5, 2013",
         "Twenty20",
         "https://www.espncricinfo.com//series/indian-premier-league-2013-586733/sunrisers-hyderabad-vs-pune-warriors-3rd-match-598000/full-scorecard"
        ],
        [
         "RCB",
         "MI",
         "RCB",
         "2 runs",
         "Bengaluru",
         "Apr 4, 2013",
         "Twenty20",
         "https://www.espncricinfo.com//series/indian-premier-league-2013-586733/royal-challengers-bangalore-vs-mumbai-indians-2nd-match-597999/full-scorecard"
        ],
        [
         "KKR",
         "Daredevils",
         "KKR",
         "6 wickets",
         "Eden Gardens",
         "Apr 3, 2013",
         "Twenty20",
         "https://www.espncricinfo.com//series/indian-premier-league-2013-586733/kolkata-knight-riders-vs-delhi-daredevils-1st-match-597998/full-scorecard"
        ],
        [
         "CSK",
         "KKR",
         "KKR",
         "5 wickets",
         "Chennai",
         "May 27, 2012",
         "Twenty20",
         "https://www.espncricinfo.com//series/indian-premier-league-2012-520932/chennai-super-kings-vs-kolkata-knight-riders-final-548381/full-scorecard"
        ],
        [
         "CSK",
         "Daredevils",
         "CSK",
         "86 runs",
         "Chennai",
         "May 25, 2012",
         "Twenty20",
         "https://www.espncricinfo.com//series/indian-premier-league-2012-520932/chennai-super-kings-vs-delhi-daredevils-2nd-qualifying-match-548380/full-scorecard"
        ],
        [
         "CSK",
         "MI",
         "CSK",
         "38 runs",
         "Bengaluru",
         "May 23, 2012",
         "Twenty20",
         "https://www.espncricinfo.com//series/indian-premier-league-2012-520932/chennai-super-kings-vs-mumbai-indians-elimination-final-548379/full-scorecard"
        ],
        [
         "Daredevils",
         "KKR",
         "KKR",
         "18 runs",
         "Pune",
         "May 22, 2012",
         "Twenty20",
         "https://www.espncricinfo.com//series/indian-premier-league-2012-520932/delhi-daredevils-vs-kolkata-knight-riders-1st-qualifying-match-548378/full-scorecard"
        ],
        [
         "RR",
         "MI",
         "MI",
         "10 wickets",
         "Jaipur",
         "May 20, 2012",
         "Twenty20",
         "https://www.espncricinfo.com//series/indian-premier-league-2012-520932/rajasthan-royals-vs-mumbai-indians-72nd-match-548377/full-scorecard"
        ],
        [
         "Chargers",
         "RCB",
         "Chargers",
         "9 runs",
         "Hyderabad",
         "May 20, 2012",
         "Twenty20",
         "https://www.espncricinfo.com//series/indian-premier-league-2012-520932/deccan-chargers-vs-royal-challengers-bangalore-71st-match-548376/full-scorecard"
        ],
        [
         "Warriors",
         "KKR",
         "KKR",
         "34 runs",
         "Pune",
         "May 19, 2012",
         "Twenty20",
         "https://www.espncricinfo.com//series/indian-premier-league-2012-520932/pune-warriors-vs-kolkata-knight-riders-70th-match-548375/full-scorecard"
        ],
        [
         "Kings XI",
         "Daredevils",
         "Daredevils",
         "6 wickets",
         "Dharamsala",
         "May 19, 2012",
         "Twenty20",
         "https://www.espncricinfo.com//series/indian-premier-league-2012-520932/kings-xi-punjab-vs-delhi-daredevils-69th-match-548374/full-scorecard"
        ],
        [
         "Chargers",
         "RR",
         "Chargers",
         "5 wickets",
         "Hyderabad",
         "May 18, 2012",
         "Twenty20",
         "https://www.espncricinfo.com//series/indian-premier-league-2012-520932/deccan-chargers-vs-rajasthan-royals-68th-match-548373/full-scorecard"
        ],
        [
         "Daredevils",
         "RCB",
         "RCB",
         "21 runs",
         "Delhi",
         "May 17, 2012",
         "Twenty20",
         "https://www.espncricinfo.com//series/indian-premier-league-2012-520932/delhi-daredevils-vs-royal-challengers-bangalore-67th-match-548372/full-scorecard"
        ],
        [
         "Kings XI",
         "CSK",
         "Kings XI",
         "6 wickets",
         "Dharamsala",
         "May 17, 2012",
         "Twenty20",
         "https://www.espncricinfo.com//series/indian-premier-league-2012-520932/kings-xi-punjab-vs-chennai-super-kings-66th-match-548371/full-scorecard"
        ],
        [
         "MI",
         "KKR",
         "KKR",
         "32 runs",
         "Wankhede",
         "May 16, 2012",
         "Twenty20",
         "https://www.espncricinfo.com//series/indian-premier-league-2012-520932/mumbai-indians-vs-kolkata-knight-riders-65th-match-548370/full-scorecard"
        ],
        [
         "Daredevils",
         "Kings XI",
         "Daredevils",
         "5 wickets",
         "Delhi",
         "May 15, 2012",
         "Twenty20",
         "https://www.espncricinfo.com//series/indian-premier-league-2012-520932/delhi-daredevils-vs-kings-xi-punjab-64th-match-548369/full-scorecard"
        ],
        [
         "KKR",
         "CSK",
         "CSK",
         "5 wickets",
         "Eden Gardens",
         "May 14, 2012",
         "Twenty20",
         "https://www.espncricinfo.com//series/indian-premier-league-2012-520932/kolkata-knight-riders-vs-chennai-super-kings-63rd-match-548368/full-scorecard"
        ],
        [
         "RCB",
         "MI",
         "MI",
         "5 wickets",
         "Bengaluru",
         "May 14, 2012",
         "Twenty20",
         "https://www.espncricinfo.com//series/indian-premier-league-2012-520932/royal-challengers-bangalore-vs-mumbai-indians-62nd-match-548367/full-scorecard"
        ],
        [
         "Kings XI",
         "Chargers",
         "Kings XI",
         "4 wickets",
         "Mohali",
         "May 13, 2012",
         "Twenty20",
         "https://www.espncricinfo.com//series/indian-premier-league-2012-520932/kings-xi-punjab-vs-deccan-chargers-61st-match-548366/full-scorecard"
        ],
        [
         "RR",
         "Warriors",
         "RR",
         "45 runs",
         "Jaipur",
         "May 13, 2012",
         "Twenty20",
         "https://www.espncricinfo.com//series/indian-premier-league-2012-520932/rajasthan-royals-vs-pune-warriors-60th-match-548365/full-scorecard"
        ],
        [
         "CSK",
         "Daredevils",
         "CSK",
         "9 wickets",
         "Chennai",
         "May 12, 2012",
         "Twenty20",
         "https://www.espncricinfo.com//series/indian-premier-league-2012-520932/chennai-super-kings-vs-delhi-daredevils-59th-match-548364/full-scorecard"
        ],
        [
         "KKR",
         "MI",
         "MI",
         "27 runs",
         "Eden Gardens",
         "May 12, 2012",
         "Twenty20",
         "https://www.espncricinfo.com//series/indian-premier-league-2012-520932/kolkata-knight-riders-vs-mumbai-indians-58th-match-548363/full-scorecard"
        ],
        [
         "Warriors",
         "RCB",
         "RCB",
         "35 runs",
         "Pune",
         "May 11, 2012",
         "Twenty20",
         "https://www.espncricinfo.com//series/indian-premier-league-2012-520932/pune-warriors-vs-royal-challengers-bangalore-57th-match-548362/full-scorecard"
        ],
        [
         "RR",
         "CSK",
         "CSK",
         "4 wickets",
         "Jaipur",
         "May 10, 2012",
         "Twenty20",
         "https://www.espncricinfo.com//series/indian-premier-league-2012-520932/rajasthan-royals-vs-chennai-super-kings-56th-match-548361/full-scorecard"
        ],
        [
         "Chargers",
         "Daredevils",
         "Daredevils",
         "9 wickets",
         "Hyderabad",
         "May 10, 2012",
         "Twenty20",
         "https://www.espncricinfo.com//series/indian-premier-league-2012-520932/deccan-chargers-vs-delhi-daredevils-55th-match-548329/full-scorecard"
        ],
        [
         "MI",
         "RCB",
         "RCB",
         "9 wickets",
         "Wankhede",
         "May 9, 2012",
         "Twenty20",
         "https://www.espncricinfo.com//series/indian-premier-league-2012-520932/mumbai-indians-vs-royal-challengers-bangalore-54th-match-548360/full-scorecard"
        ],
        [
         "Chargers",
         "Kings XI",
         "Kings XI",
         "25 runs",
         "Hyderabad",
         "May 8, 2012",
         "Twenty20",
         "https://www.espncricinfo.com//series/indian-premier-league-2012-520932/deccan-chargers-vs-kings-xi-punjab-53rd-match-548359/full-scorecard"
        ],
        [
         "Warriors",
         "RR",
         "RR",
         "7 wickets",
         "Pune",
         "May 8, 2012",
         "Twenty20",
         "https://www.espncricinfo.com//series/indian-premier-league-2012-520932/pune-warriors-vs-rajasthan-royals-52nd-match-548358/full-scorecard"
        ],
        [
         "Daredevils",
         "KKR",
         "KKR",
         "6 wickets",
         "Delhi",
         "May 7, 2012",
         "Twenty20",
         "https://www.espncricinfo.com//series/indian-premier-league-2012-520932/delhi-daredevils-vs-kolkata-knight-riders-51st-match-548357/full-scorecard"
        ],
        [
         "RCB",
         "Chargers",
         "RCB",
         "5 wickets",
         "Bengaluru",
         "May 6, 2012",
         "Twenty20",
         "https://www.espncricinfo.com//series/indian-premier-league-2012-520932/royal-challengers-bangalore-vs-deccan-chargers-50th-match-548356/full-scorecard"
        ],
        [
         "MI",
         "CSK",
         "MI",
         "2 wickets",
         "Wankhede",
         "May 6, 2012",
         "Twenty20",
         "https://www.espncricinfo.com//series/indian-premier-league-2012-520932/mumbai-indians-vs-chennai-super-kings-49th-match-548355/full-scorecard"
        ],
        [
         "Kings XI",
         "RR",
         "RR",
         "43 runs",
         "Mohali",
         "May 5, 2012",
         "Twenty20",
         "https://www.espncricinfo.com//series/indian-premier-league-2012-520932/kings-xi-punjab-vs-rajasthan-royals-48th-match-548354/full-scorecard"
        ],
        [
         "KKR",
         "Warriors",
         "KKR",
         "7 runs",
         "Eden Gardens",
         "May 5, 2012",
         "Twenty20",
         "https://www.espncricinfo.com//series/indian-premier-league-2012-520932/kolkata-knight-riders-vs-pune-warriors-47th-match-548353/full-scorecard"
        ],
        [
         "CSK",
         "Chargers",
         "CSK",
         "10 runs",
         "Chennai",
         "May 4, 2012",
         "Twenty20",
         "https://www.espncricinfo.com//series/indian-premier-league-2012-520932/chennai-super-kings-vs-deccan-chargers-46th-match-548352/full-scorecard"
        ],
        [
         "Warriors",
         "MI",
         "MI",
         "1 run",
         "Pune",
         "May 3, 2012",
         "Twenty20",
         "https://www.espncricinfo.com//series/indian-premier-league-2012-520932/pune-warriors-vs-mumbai-indians-45th-match-548351/full-scorecard"
        ],
        [
         "RCB",
         "Kings XI",
         "Kings XI",
         "4 wickets",
         "Bengaluru",
         "May 2, 2012",
         "Twenty20",
         "https://www.espncricinfo.com//series/indian-premier-league-2012-520932/royal-challengers-bangalore-vs-kings-xi-punjab-44th-match-548350/full-scorecard"
        ],
        [
         "RR",
         "Daredevils",
         "Daredevils",
         "6 wickets",
         "Jaipur",
         "May 1, 2012",
         "Twenty20",
         "https://www.espncricinfo.com//series/indian-premier-league-2012-520932/rajasthan-royals-vs-delhi-daredevils-43rd-match-548349/full-scorecard"
        ],
        [
         "Chargers",
         "Warriors",
         "Chargers",
         "13 runs",
         "Cuttack",
         "May 1, 2012",
         "Twenty20",
         "https://www.espncricinfo.com//series/indian-premier-league-2012-520932/deccan-chargers-vs-pune-warriors-42nd-match-548348/full-scorecard"
        ],
        [
         "CSK",
         "KKR",
         "KKR",
         "5 wickets",
         "Chennai",
         "Apr 30, 2012",
         "Twenty20",
         "https://www.espncricinfo.com//series/indian-premier-league-2012-520932/chennai-super-kings-vs-kolkata-knight-riders-41st-match-548347/full-scorecard"
        ],
        [
         "MI",
         "Chargers",
         "MI",
         "5 wickets",
         "Wankhede",
         "Apr 29, 2012",
         "Twenty20",
         "https://www.espncricinfo.com//series/indian-premier-league-2012-520932/mumbai-indians-vs-deccan-chargers-40th-match-548346/full-scorecard"
        ],
        [
         "Daredevils",
         "RR",
         "Daredevils",
         "1 run",
         "Delhi",
         "Apr 29, 2012",
         "Twenty20",
         "https://www.espncricinfo.com//series/indian-premier-league-2012-520932/delhi-daredevils-vs-rajasthan-royals-39th-match-548345/full-scorecard"
        ],
        [
         "KKR",
         "RCB",
         "KKR",
         "47 runs",
         "Eden Gardens",
         "Apr 28, 2012",
         "Twenty20",
         "https://www.espncricinfo.com//series/indian-premier-league-2012-520932/kolkata-knight-riders-vs-royal-challengers-bangalore-38th-match-548344/full-scorecard"
        ],
        [
         "CSK",
         "Kings XI",
         "Kings XI",
         "7 runs",
         "Chennai",
         "Apr 28, 2012",
         "Twenty20",
         "https://www.espncricinfo.com//series/indian-premier-league-2012-520932/chennai-super-kings-vs-kings-xi-punjab-37th-match-548343/full-scorecard"
        ],
        [
         "Daredevils",
         "MI",
         "Daredevils",
         "37 runs",
         "Delhi",
         "Apr 27, 2012",
         "Twenty20",
         "https://www.espncricinfo.com//series/indian-premier-league-2012-520932/delhi-daredevils-vs-mumbai-indians-36th-match-548342/full-scorecard"
        ],
        [
         "Warriors",
         "Chargers",
         "Chargers",
         "18 runs",
         "Pune",
         "Apr 26, 2012",
         "Twenty20",
         "https://www.espncricinfo.com//series/indian-premier-league-2012-520932/pune-warriors-vs-deccan-chargers-35th-match-548341/full-scorecard"
        ],
        [
         "RCB",
         "CSK",
         "no result",
         "-",
         "Bengaluru",
         "Apr 25, 2012",
         "Twenty20",
         "https://www.espncricinfo.com//series/indian-premier-league-2012-520932/royal-challengers-bangalore-vs-chennai-super-kings-34th-match-548340/full-scorecard"
        ],
        [
         "Kings XI",
         "MI",
         "MI",
         "4 wickets",
         "Mohali",
         "Apr 25, 2012",
         "Twenty20",
         "https://www.espncricinfo.com//series/indian-premier-league-2012-520932/kings-xi-punjab-vs-mumbai-indians-33rd-match-548339/full-scorecard"
        ],
        [
         "Warriors",
         "Daredevils",
         "Daredevils",
         "8 wickets",
         "Pune",
         "Apr 24, 2012",
         "Twenty20",
         "https://www.espncricinfo.com//series/indian-premier-league-2012-520932/pune-warriors-vs-delhi-daredevils-31st-match-548337/full-scorecard"
        ],
        [
         "RR",
         "RCB",
         "RCB",
         "46 runs",
         "Jaipur",
         "Apr 23, 2012",
         "Twenty20",
         "https://www.espncricinfo.com//series/indian-premier-league-2012-520932/rajasthan-royals-vs-royal-challengers-bangalore-30th-match-548336/full-scorecard"
        ],
        [
         "Chargers",
         "KKR",
         "KKR",
         "5 wickets",
         "Cuttack",
         "Apr 22, 2012",
         "Twenty20",
         "https://www.espncricinfo.com//series/indian-premier-league-2012-520932/deccan-chargers-vs-kolkata-knight-riders-29th-match-548335/full-scorecard"
        ],
        [
         "MI",
         "Kings XI",
         "Kings XI",
         "6 wickets",
         "Wankhede",
         "Apr 22, 2012",
         "Twenty20",
         "https://www.espncricinfo.com//series/indian-premier-league-2012-520932/mumbai-indians-vs-kings-xi-punjab-28th-match-548334/full-scorecard"
        ],
        [
         "Daredevils",
         "Warriors",
         "Warriors",
         "20 runs",
         "Delhi",
         "Apr 21, 2012",
         "Twenty20",
         "https://www.espncricinfo.com//series/indian-premier-league-2012-520932/delhi-daredevils-vs-pune-warriors-27th-match-548333/full-scorecard"
        ],
        [
         "CSK",
         "RR",
         "CSK",
         "7 wickets",
         "Chennai",
         "Apr 21, 2012",
         "Twenty20",
         "https://www.espncricinfo.com//series/indian-premier-league-2012-520932/chennai-super-kings-vs-rajasthan-royals-26th-match-548332/full-scorecard"
        ],
        [
         "Kings XI",
         "RCB",
         "RCB",
         "5 wickets",
         "Mohali",
         "Apr 20, 2012",
         "Twenty20",
         "https://www.espncricinfo.com//series/indian-premier-league-2012-520932/kings-xi-punjab-vs-royal-challengers-bangalore-25th-match-548331/full-scorecard"
        ],
        [
         "CSK",
         "Warriors",
         "CSK",
         "13 runs",
         "Chennai",
         "Apr 19, 2012",
         "Twenty20",
         "https://www.espncricinfo.com//series/indian-premier-league-2012-520932/chennai-super-kings-vs-pune-warriors-24th-match-548330/full-scorecard"
        ],
        [
         "Daredevils",
         "Chargers",
         "Daredevils",
         "5 wickets",
         "Delhi",
         "Apr 19, 2012",
         "Twenty20",
         "https://www.espncricinfo.com//series/indian-premier-league-2012-520932/delhi-daredevils-vs-deccan-chargers-23rd-match-548321/full-scorecard"
        ],
        [
         "Kings XI",
         "KKR",
         "KKR",
         "8 wickets",
         "Mohali",
         "Apr 18, 2012",
         "Twenty20",
         "https://www.espncricinfo.com//series/indian-premier-league-2012-520932/kings-xi-punjab-vs-kolkata-knight-riders-22nd-match-548328/full-scorecard"
        ],
        [
         "RCB",
         "Warriors",
         "RCB",
         "6 wickets",
         "Bengaluru",
         "Apr 17, 2012",
         "Twenty20",
         "https://www.espncricinfo.com//series/indian-premier-league-2012-520932/royal-challengers-bangalore-vs-pune-warriors-21st-match-548327/full-scorecard"
        ],
        [
         "RR",
         "Chargers",
         "RR",
         "5 wickets",
         "Jaipur",
         "Apr 17, 2012",
         "Twenty20",
         "https://www.espncricinfo.com//series/indian-premier-league-2012-520932/rajasthan-royals-vs-deccan-chargers-20th-match-548326/full-scorecard"
        ],
        [
         "MI",
         "Daredevils",
         "Daredevils",
         "7 wickets",
         "Wankhede",
         "Apr 16, 2012",
         "Twenty20",
         "https://www.espncricinfo.com//series/indian-premier-league-2012-520932/mumbai-indians-vs-delhi-daredevils-19th-match-548325/full-scorecard"
        ],
        [
         "RCB",
         "RR",
         "RR",
         "59 runs",
         "Bengaluru",
         "Apr 15, 2012",
         "Twenty20",
         "https://www.espncricinfo.com//series/indian-premier-league-2012-520932/royal-challengers-bangalore-vs-rajasthan-royals-18th-match-548324/full-scorecard"
        ],
        [
         "KKR",
         "Kings XI",
         "Kings XI",
         "2 runs",
         "Eden Gardens",
         "Apr 15, 2012",
         "Twenty20",
         "https://www.espncricinfo.com//series/indian-premier-league-2012-520932/kolkata-knight-riders-vs-kings-xi-punjab-17th-match-548323/full-scorecard"
        ],
        [
         "Warriors",
         "CSK",
         "Warriors",
         "7 wickets",
         "Pune",
         "Apr 14, 2012",
         "Twenty20",
         "https://www.espncricinfo.com//series/indian-premier-league-2012-520932/pune-warriors-vs-chennai-super-kings-16th-match-548322/full-scorecard"
        ],
        [
         "KKR",
         "RR",
         "KKR",
         "5 wickets",
         "Eden Gardens",
         "Apr 13, 2012",
         "Twenty20",
         "https://www.espncricinfo.com//series/indian-premier-league-2012-520932/kolkata-knight-riders-vs-rajasthan-royals-15th-match-548320/full-scorecard"
        ],
        [
         "Kings XI",
         "Warriors",
         "Kings XI",
         "7 wickets",
         "Mohali",
         "Apr 12, 2012",
         "Twenty20",
         "https://www.espncricinfo.com//series/indian-premier-league-2012-520932/kings-xi-punjab-vs-pune-warriors-14th-match-548319/full-scorecard"
        ],
        [
         "CSK",
         "RCB",
         "CSK",
         "5 wickets",
         "Chennai",
         "Apr 12, 2012",
         "Twenty20",
         "https://www.espncricinfo.com//series/indian-premier-league-2012-520932/chennai-super-kings-vs-royal-challengers-bangalore-13th-match-548318/full-scorecard"
        ],
        [
         "MI",
         "RR",
         "MI",
         "27 runs",
         "Wankhede",
         "Apr 11, 2012",
         "Twenty20",
         "https://www.espncricinfo.com//series/indian-premier-league-2012-520932/mumbai-indians-vs-rajasthan-royals-12th-match-548317/full-scorecard"
        ],
        [
         "Daredevils",
         "CSK",
         "Daredevils",
         "8 wickets",
         "Delhi",
         "Apr 10, 2012",
         "Twenty20",
         "https://www.espncricinfo.com//series/indian-premier-league-2012-520932/delhi-daredevils-vs-chennai-super-kings-11th-match-548316/full-scorecard"
        ],
        [
         "RCB",
         "KKR",
         "KKR",
         "42 runs",
         "Bengaluru",
         "Apr 10, 2012",
         "Twenty20",
         "https://www.espncricinfo.com//series/indian-premier-league-2012-520932/royal-challengers-bangalore-vs-kolkata-knight-riders-10th-match-548315/full-scorecard"
        ],
        [
         "Chargers",
         "MI",
         "MI",
         "5 wickets",
         "Visakhapatnam",
         "Apr 9, 2012",
         "Twenty20",
         "https://www.espncricinfo.com//series/indian-premier-league-2012-520932/deccan-chargers-vs-mumbai-indians-9th-match-548314/full-scorecard"
        ],
        [
         "Warriors",
         "Kings XI",
         "Warriors",
         "22 runs",
         "Pune",
         "Apr 8, 2012",
         "Twenty20",
         "https://www.espncricinfo.com//series/indian-premier-league-2012-520932/pune-warriors-vs-kings-xi-punjab-8th-match-548313/full-scorecard"
        ],
        [
         "RR",
         "KKR",
         "RR",
         "22 runs",
         "Jaipur",
         "Apr 8, 2012",
         "Twenty20",
         "https://www.espncricinfo.com//series/indian-premier-league-2012-520932/rajasthan-royals-vs-kolkata-knight-riders-7th-match-548312/full-scorecard"
        ],
        [
         "Chargers",
         "CSK",
         "CSK",
         "74 runs",
         "Visakhapatnam",
         "Apr 7, 2012",
         "Twenty20",
         "https://www.espncricinfo.com//series/indian-premier-league-2012-520932/deccan-chargers-vs-chennai-super-kings-6th-match-548311/full-scorecard"
        ],
        [
         "RCB",
         "Daredevils",
         "RCB",
         "20 runs",
         "Bengaluru",
         "Apr 7, 2012",
         "Twenty20",
         "https://www.espncricinfo.com//series/indian-premier-league-2012-520932/royal-challengers-bangalore-vs-delhi-daredevils-5th-match-548310/full-scorecard"
        ],
        [
         "RR",
         "Kings XI",
         "RR",
         "31 runs",
         "Jaipur",
         "Apr 6, 2012",
         "Twenty20",
         "https://www.espncricinfo.com//series/indian-premier-league-2012-520932/rajasthan-royals-vs-kings-xi-punjab-4th-match-548309/full-scorecard"
        ],
        [
         "MI",
         "Warriors",
         "Warriors",
         "28 runs",
         "Wankhede",
         "Apr 6, 2012",
         "Twenty20",
         "https://www.espncricinfo.com//series/indian-premier-league-2012-520932/mumbai-indians-vs-pune-warriors-3rd-match-548308/full-scorecard"
        ],
        [
         "KKR",
         "Daredevils",
         "Daredevils",
         "8 wickets",
         "Eden Gardens",
         "Apr 5, 2012",
         "Twenty20",
         "https://www.espncricinfo.com//series/indian-premier-league-2012-520932/kolkata-knight-riders-vs-delhi-daredevils-2nd-match-548307/full-scorecard"
        ],
        [
         "CSK",
         "MI",
         "MI",
         "8 wickets",
         "Chennai",
         "Apr 4, 2012",
         "Twenty20",
         "https://www.espncricinfo.com//series/indian-premier-league-2012-520932/chennai-super-kings-vs-mumbai-indians-1st-match-548306/full-scorecard"
        ],
        [
         "CSK",
         "RCB",
         "CSK",
         "58 runs",
         "Chennai",
         "May 28, 2011",
         "Twenty20",
         "https://www.espncricinfo.com//series/indian-premier-league-2011-466304/chennai-super-kings-vs-royal-challengers-bangalore-final-501271/full-scorecard"
        ],
        [
         "MI",
         "RCB",
         "RCB",
         "43 runs",
         "Chennai",
         "May 27, 2011",
         "Twenty20",
         "https://www.espncricinfo.com//series/indian-premier-league-2011-466304/mumbai-indians-vs-royal-challengers-bangalore-2nd-qualifying-final-501270/full-scorecard"
        ],
        [
         "MI",
         "KKR",
         "MI",
         "4 wickets",
         "Wankhede",
         "May 25, 2011",
         "Twenty20",
         "https://www.espncricinfo.com//series/indian-premier-league-2011-466304/mumbai-indians-vs-kolkata-knight-riders-elimination-final-501269/full-scorecard"
        ],
        [
         "CSK",
         "RCB",
         "CSK",
         "6 wickets",
         "Wankhede",
         "May 24, 2011",
         "Twenty20",
         "https://www.espncricinfo.com//series/indian-premier-league-2011-466304/chennai-super-kings-vs-royal-challengers-bangalore-1st-qualifying-final-501268/full-scorecard"
        ],
        [
         "KKR",
         "MI",
         "MI",
         "5 wickets",
         "Eden Gardens",
         "May 22, 2011",
         "Twenty20",
         "https://www.espncricinfo.com//series/indian-premier-league-2011-466304/kolkata-knight-riders-vs-mumbai-indians-70th-match-501267/full-scorecard"
        ],
        [
         "RCB",
         "CSK",
         "RCB",
         "8 wickets",
         "Bengaluru",
         "May 22, 2011",
         "Twenty20",
         "https://www.espncricinfo.com//series/indian-premier-league-2011-466304/royal-challengers-bangalore-vs-chennai-super-kings-69th-match-501266/full-scorecard"
        ],
        [
         "Daredevils",
         "Warriors",
         "no result",
         "-",
         "Delhi",
         "May 21, 2011",
         "Twenty20",
         "https://www.espncricinfo.com//series/indian-premier-league-2011-466304/delhi-daredevils-vs-pune-warriors-68th-match-501265/full-scorecard"
        ],
        [
         "Kings XI",
         "Chargers",
         "Chargers",
         "82 runs",
         "Dharamsala",
         "May 21, 2011",
         "Twenty20",
         "https://www.espncricinfo.com//series/indian-premier-league-2011-466304/kings-xi-punjab-vs-deccan-chargers-67th-match-501264/full-scorecard"
        ],
        [
         "MI",
         "RR",
         "RR",
         "10 wickets",
         "Wankhede",
         "May 20, 2011",
         "Twenty20",
         "https://www.espncricinfo.com//series/indian-premier-league-2011-466304/mumbai-indians-vs-rajasthan-royals-66th-match-501263/full-scorecard"
        ],
        [
         "Warriors",
         "KKR",
         "KKR",
         "7 wickets",
         "DY Patil",
         "May 19, 2011",
         "Twenty20",
         "https://www.espncricinfo.com//series/indian-premier-league-2011-466304/pune-warriors-vs-kolkata-knight-riders-65th-match-501262/full-scorecard"
        ],
        [
         "CSK",
         "Kochi",
         "CSK",
         "11 runs",
         "Chennai",
         "May 18, 2011",
         "Twenty20",
         "https://www.espncricinfo.com//series/indian-premier-league-2011-466304/chennai-super-kings-vs-kochi-tuskers-kerala-64th-match-501261/full-scorecard"
        ],
        [
         "Kings XI",
         "RCB",
         "Kings XI",
         "111 runs",
         "Dharamsala",
         "May 17, 2011",
         "Twenty20",
         "https://www.espncricinfo.com//series/indian-premier-league-2011-466304/kings-xi-punjab-vs-royal-challengers-bangalore-63rd-match-501260/full-scorecard"
        ],
        [
         "Warriors",
         "Chargers",
         "Chargers",
         "6 wickets",
         "DY Patil",
         "May 16, 2011",
         "Twenty20",
         "https://www.espncricinfo.com//series/indian-premier-league-2011-466304/pune-warriors-vs-deccan-chargers-62nd-match-501259/full-scorecard"
        ],
        [
         "Kochi",
         "RR",
         "Kochi",
         "8 wickets",
         "Indore",
         "May 15, 2011",
         "Twenty20",
         "https://www.espncricinfo.com//series/indian-premier-league-2011-466304/kochi-tuskers-kerala-vs-rajasthan-royals-61st-match-501258/full-scorecard"
        ],
        [
         "Kings XI",
         "Daredevils",
         "Kings XI",
         "29 runs",
         "Dharamsala",
         "May 15, 2011",
         "Twenty20",
         "https://www.espncricinfo.com//series/indian-premier-league-2011-466304/kings-xi-punjab-vs-delhi-daredevils-60th-match-501257/full-scorecard"
        ],
        [
         "MI",
         "Chargers",
         "Chargers",
         "10 runs",
         "Wankhede",
         "May 14, 2011",
         "Twenty20",
         "https://www.espncricinfo.com//series/indian-premier-league-2011-466304/mumbai-indians-vs-deccan-chargers-59th-match-501256/full-scorecard"
        ],
        [
         "RCB",
         "KKR",
         "RCB",
         "4 wickets",
         "Bengaluru",
         "May 14, 2011",
         "Twenty20",
         "https://www.espncricinfo.com//series/indian-premier-league-2011-466304/royal-challengers-bangalore-vs-kolkata-knight-riders-58th-match-501255/full-scorecard"
        ],
        [
         "Kochi",
         "Kings XI",
         "Kings XI",
         "6 wickets",
         "Indore",
         "May 13, 2011",
         "Twenty20",
         "https://www.espncricinfo.com//series/indian-premier-league-2011-466304/kochi-tuskers-kerala-vs-kings-xi-punjab-57th-match-501254/full-scorecard"
        ],
        [
         "CSK",
         "Daredevils",
         "CSK",
         "18 runs",
         "Chennai",
         "May 12, 2011",
         "Twenty20",
         "https://www.espncricinfo.com//series/indian-premier-league-2011-466304/chennai-super-kings-vs-delhi-daredevils-56th-match-501253/full-scorecard"
        ],
        [
         "RR",
         "RCB",
         "RCB",
         "9 wickets",
         "Jaipur",
         "May 11, 2011",
         "Twenty20",
         "https://www.espncricinfo.com//series/indian-premier-league-2011-466304/rajasthan-royals-vs-royal-challengers-bangalore-55th-match-501252/full-scorecard"
        ],
        [
         "Kings XI",
         "MI",
         "Kings XI",
         "76 runs",
         "Mohali",
         "May 10, 2011",
         "Twenty20",
         "https://www.espncricinfo.com//series/indian-premier-league-2011-466304/kings-xi-punjab-vs-mumbai-indians-54th-match-501251/full-scorecard"
        ],
        [
         "Chargers",
         "Warriors",
         "Warriors",
         "6 wickets",
         "Hyderabad",
         "May 10, 2011",
         "Twenty20",
         "https://www.espncricinfo.com//series/indian-premier-league-2011-466304/deccan-chargers-vs-pune-warriors-53rd-match-501250/full-scorecard"
        ],
        [
         "RR",
         "CSK",
         "CSK",
         "63 runs",
         "Jaipur",
         "May 9, 2011",
         "Twenty20",
         "https://www.espncricinfo.com//series/indian-premier-league-2011-466304/rajasthan-royals-vs-chennai-super-kings-52nd-match-501249/full-scorecard"
        ],
        [
         "Kings XI",
         "Warriors",
         "Warriors",
         "5 wickets",
         "Mohali",
         "May 8, 2011",
         "Twenty20",
         "https://www.espncricinfo.com//series/indian-premier-league-2011-466304/kings-xi-punjab-vs-pune-warriors-51st-match-501248/full-scorecard"
        ],
        [
         "RCB",
         "Kochi",
         "RCB",
         "9 wickets",
         "Bengaluru",
         "May 8, 2011",
         "Twenty20",
         "https://www.espncricinfo.com//series/indian-premier-league-2011-466304/royal-challengers-bangalore-vs-kochi-tuskers-kerala-50th-match-501247/full-scorecard"
        ],
        [
         "MI",
         "Daredevils",
         "MI",
         "32 runs",
         "Wankhede",
         "May 7, 2011",
         "Twenty20",
         "https://www.espncricinfo.com//series/indian-premier-league-2011-466304/mumbai-indians-vs-delhi-daredevils-49th-match-501246/full-scorecard"
        ],
        [
         "KKR",
         "CSK",
         "KKR",
         "10 runs",
         "Eden Gardens",
         "May 7, 2011",
         "Twenty20",
         "https://www.espncricinfo.com//series/indian-premier-league-2011-466304/kolkata-knight-riders-vs-chennai-super-kings-48th-match-501245/full-scorecard"
        ],
        [
         "RCB",
         "Kings XI",
         "RCB",
         "85 runs",
         "Bengaluru",
         "May 6, 2011",
         "Twenty20",
         "https://www.espncricinfo.com//series/indian-premier-league-2011-466304/royal-challengers-bangalore-vs-kings-xi-punjab-47th-match-501244/full-scorecard"
        ],
        [
         "Chargers",
         "Daredevils",
         "Daredevils",
         "4 wickets",
         "Hyderabad",
         "May 5, 2011",
         "Twenty20",
         "https://www.espncricinfo.com//series/indian-premier-league-2011-466304/deccan-chargers-vs-delhi-daredevils-46th-match-501243/full-scorecard"
        ],
        [
         "Kochi",
         "KKR",
         "Kochi",
         "17 runs",
         "Kochi",
         "May 5, 2011",
         "Twenty20",
         "https://www.espncricinfo.com//series/indian-premier-league-2011-466304/kochi-tuskers-kerala-vs-kolkata-knight-riders-45th-match-501242/full-scorecard"
        ],
        [
         "Warriors",
         "MI",
         "MI",
         "21 runs",
         "DY Patil",
         "May 4, 2011",
         "Twenty20",
         "https://www.espncricinfo.com//series/indian-premier-league-2011-466304/pune-warriors-vs-mumbai-indians-44th-match-501241/full-scorecard"
        ],
        [
         "CSK",
         "RR",
         "CSK",
         "8 wickets",
         "Chennai",
         "May 4, 2011",
         "Twenty20",
         "https://www.espncricinfo.com//series/indian-premier-league-2011-466304/chennai-super-kings-vs-rajasthan-royals-43rd-match-501240/full-scorecard"
        ],
        [
         "Chargers",
         "KKR",
         "KKR",
         "20 runs",
         "Hyderabad",
         "May 3, 2011",
         "Twenty20",
         "https://www.espncricinfo.com//series/indian-premier-league-2011-466304/deccan-chargers-vs-kolkata-knight-riders-42nd-match-501239/full-scorecard"
        ],
        [
         "Daredevils",
         "Kochi",
         "Kochi",
         "7 wickets",
         "Delhi",
         "May 2, 2011",
         "Twenty20",
         "https://www.espncricinfo.com//series/indian-premier-league-2011-466304/delhi-daredevils-vs-kochi-tuskers-kerala-41st-match-501238/full-scorecard"
        ],
        [
         "MI",
         "Kings XI",
         "MI",
         "23 runs",
         "Wankhede",
         "May 2, 2011",
         "Twenty20",
         "https://www.espncricinfo.com//series/indian-premier-league-2011-466304/mumbai-indians-vs-kings-xi-punjab-40th-match-501237/full-scorecard"
        ],
        [
         "CSK",
         "Chargers",
         "CSK",
         "19 runs",
         "Chennai",
         "May 1, 2011",
         "Twenty20",
         "https://www.espncricinfo.com//series/indian-premier-league-2011-466304/chennai-super-kings-vs-deccan-chargers-39th-match-501236/full-scorecard"
        ],
        [
         "RR",
         "Warriors",
         "RR",
         "6 wickets",
         "Jaipur",
         "May 1, 2011",
         "Twenty20",
         "https://www.espncricinfo.com//series/indian-premier-league-2011-466304/rajasthan-royals-vs-pune-warriors-38th-match-501235/full-scorecard"
        ],
        [
         "KKR",
         "Kings XI",
         "KKR",
         "8 wickets",
         "Eden Gardens",
         "Apr 30, 2011",
         "Twenty20",
         "https://www.espncricinfo.com//series/indian-premier-league-2011-466304/kolkata-knight-riders-vs-kings-xi-punjab-37th-match-501234/full-scorecard"
        ],
        [
         "Kochi",
         "Daredevils",
         "Daredevils",
         "38 runs",
         "Kochi",
         "Apr 30, 2011",
         "Twenty20",
         "https://www.espncricinfo.com//series/indian-premier-league-2011-466304/kochi-tuskers-kerala-vs-delhi-daredevils-36th-match-501233/full-scorecard"
        ],
        [
         "RCB",
         "Warriors",
         "RCB",
         "26 runs",
         "Bengaluru",
         "Apr 29, 2011",
         "Twenty20",
         "https://www.espncricinfo.com//series/indian-premier-league-2011-466304/royal-challengers-bangalore-vs-pune-warriors-35th-match-501232/full-scorecard"
        ],
        [
         "RR",
         "MI",
         "RR",
         "7 wickets",
         "Jaipur",
         "Apr 29, 2011",
         "Twenty20",
         "https://www.espncricinfo.com//series/indian-premier-league-2011-466304/rajasthan-royals-vs-mumbai-indians-34th-match-501231/full-scorecard"
        ],
        [
         "Daredevils",
         "KKR",
         "KKR",
         "17 runs",
         "Delhi",
         "Apr 28, 2011",
         "Twenty20",
         "https://www.espncricinfo.com//series/indian-premier-league-2011-466304/delhi-daredevils-vs-kolkata-knight-riders-33rd-match-501230/full-scorecard"
        ],
        [
         "Kochi",
         "Chargers",
         "Chargers",
         "55 runs",
         "Kochi",
         "Apr 27, 2011",
         "Twenty20",
         "https://www.espncricinfo.com//series/indian-premier-league-2011-466304/kochi-tuskers-kerala-vs-deccan-chargers-32nd-match-501229/full-scorecard"
        ],
        [
         "Warriors",
         "CSK",
         "CSK",
         "8 wickets",
         "DY Patil",
         "Apr 27, 2011",
         "Twenty20",
         "https://www.espncricinfo.com//series/indian-premier-league-2011-466304/pune-warriors-vs-chennai-super-kings-31st-match-501228/full-scorecard"
        ],
        [
         "Daredevils",
         "RCB",
         "RCB",
         "3 wickets",
         "Delhi",
         "Apr 26, 2011",
         "Twenty20",
         "https://www.espncricinfo.com//series/indian-premier-league-2011-466304/delhi-daredevils-vs-royal-challengers-bangalore-30th-match-501227/full-scorecard"
        ],
        [
         "CSK",
         "Warriors",
         "CSK",
         "25 runs",
         "Chennai",
         "Apr 25, 2011",
         "Twenty20",
         "https://www.espncricinfo.com//series/indian-premier-league-2011-466304/chennai-super-kings-vs-pune-warriors-29th-match-501226/full-scorecard"
        ],
        [
         "RR",
         "Kochi",
         "RR",
         "8 wickets",
         "Jaipur",
         "Apr 24, 2011",
         "Twenty20",
         "https://www.espncricinfo.com//series/indian-premier-league-2011-466304/rajasthan-royals-vs-kochi-tuskers-kerala-28th-match-501225/full-scorecard"
        ],
        [
         "Chargers",
         "MI",
         "MI",
         "37 runs",
         "Hyderabad",
         "Apr 24, 2011",
         "Twenty20",
         "https://www.espncricinfo.com//series/indian-premier-league-2011-466304/deccan-chargers-vs-mumbai-indians-27th-match-501224/full-scorecard"
        ],
        [
         "Daredevils",
         "Kings XI",
         "Daredevils",
         "29 runs",
         "Delhi",
         "Apr 23, 2011",
         "Twenty20",
         "https://www.espncricinfo.com//series/indian-premier-league-2011-466304/delhi-daredevils-vs-kings-xi-punjab-26th-match-501223/full-scorecard"
        ],
        [
         "MI",
         "CSK",
         "MI",
         "8 runs",
         "Wankhede",
         "Apr 22, 2011",
         "Twenty20",
         "https://www.espncricinfo.com//series/indian-premier-league-2011-466304/mumbai-indians-vs-chennai-super-kings-25th-match-501221/full-scorecard"
        ],
        [
         "KKR",
         "RCB",
         "RCB",
         "9 wickets",
         "Eden Gardens",
         "Apr 22, 2011",
         "Twenty20",
         "https://www.espncricinfo.com//series/indian-premier-league-2011-466304/kolkata-knight-riders-vs-royal-challengers-bangalore-24th-match-501222/full-scorecard"
        ],
        [
         "Kings XI",
         "RR",
         "Kings XI",
         "48 runs",
         "Mohali",
         "Apr 21, 2011",
         "Twenty20",
         "https://www.espncricinfo.com//series/indian-premier-league-2011-466304/kings-xi-punjab-vs-rajasthan-royals-23rd-match-501220/full-scorecard"
        ],
        [
         "KKR",
         "Kochi",
         "Kochi",
         "6 runs",
         "Eden Gardens",
         "Apr 20, 2011",
         "Twenty20",
         "https://www.espncricinfo.com//series/indian-premier-league-2011-466304/kolkata-knight-riders-vs-kochi-tuskers-kerala-22nd-match-501219/full-scorecard"
        ],
        [
         "MI",
         "Warriors",
         "MI",
         "7 wickets",
         "Wankhede",
         "Apr 20, 2011",
         "Twenty20",
         "https://www.espncricinfo.com//series/indian-premier-league-2011-466304/mumbai-indians-vs-pune-warriors-21st-match-501218/full-scorecard"
        ],
        [
         "Daredevils",
         "Chargers",
         "Chargers",
         "16 runs",
         "Delhi",
         "Apr 19, 2011",
         "Twenty20",
         "https://www.espncricinfo.com//series/indian-premier-league-2011-466304/delhi-daredevils-vs-deccan-chargers-19th-match-501216/full-scorecard"
        ],
        [
         "Kochi",
         "CSK",
         "Kochi",
         "7 wickets",
         "Kochi",
         "Apr 18, 2011",
         "Twenty20",
         "https://www.espncricinfo.com//series/indian-premier-league-2011-466304/kochi-tuskers-kerala-vs-chennai-super-kings-18th-match-501215/full-scorecard"
        ],
        [
         "KKR",
         "RR",
         "KKR",
         "8 wickets",
         "Eden Gardens",
         "Apr 17, 2011",
         "Twenty20",
         "https://www.espncricinfo.com//series/indian-premier-league-2011-466304/kolkata-knight-riders-vs-rajasthan-royals-17th-match-501214/full-scorecard"
        ],
        [
         "Warriors",
         "Daredevils",
         "Daredevils",
         "3 wickets",
         "DY Patil",
         "Apr 17, 2011",
         "Twenty20",
         "https://www.espncricinfo.com//series/indian-premier-league-2011-466304/pune-warriors-vs-delhi-daredevils-16th-match-501213/full-scorecard"
        ],
        [
         "Chargers",
         "Kings XI",
         "Kings XI",
         "8 wickets",
         "Hyderabad",
         "Apr 16, 2011",
         "Twenty20",
         "https://www.espncricinfo.com//series/indian-premier-league-2011-466304/deccan-chargers-vs-kings-xi-punjab-15th-match-501212/full-scorecard"
        ],
        [
         "CSK",
         "RCB",
         "CSK",
         "21 runs",
         "Chennai",
         "Apr 16, 2011",
         "Twenty20",
         "https://www.espncricinfo.com//series/indian-premier-league-2011-466304/chennai-super-kings-vs-royal-challengers-bangalore-14th-match-501211/full-scorecard"
        ],
        [
         "MI",
         "Kochi",
         "Kochi",
         "8 wickets",
         "Wankhede",
         "Apr 15, 2011",
         "Twenty20",
         "https://www.espncricinfo.com//series/indian-premier-league-2011-466304/mumbai-indians-vs-kochi-tuskers-kerala-13th-match-501210/full-scorecard"
        ],
        [
         "RR",
         "KKR",
         "KKR",
         "9 wickets",
         "Jaipur",
         "Apr 15, 2011",
         "Twenty20",
         "https://www.espncricinfo.com//series/indian-premier-league-2011-466304/rajasthan-royals-vs-kolkata-knight-riders-12th-match-501209/full-scorecard"
        ],
        [
         "Chargers",
         "RCB",
         "Chargers",
         "33 runs",
         "Hyderabad",
         "Apr 14, 2011",
         "Twenty20",
         "https://www.espncricinfo.com//series/indian-premier-league-2011-466304/deccan-chargers-vs-royal-challengers-bangalore-11th-match-501208/full-scorecard"
        ],
        [
         "Warriors",
         "Kochi",
         "Warriors",
         "4 wickets",
         "DY Patil",
         "Apr 13, 2011",
         "Twenty20",
         "https://www.espncricinfo.com//series/indian-premier-league-2011-466304/pune-warriors-vs-kochi-tuskers-kerala-10th-match-501207/full-scorecard"
        ],
        [
         "Kings XI",
         "CSK",
         "Kings XI",
         "6 wickets",
         "Mohali",
         "Apr 13, 2011",
         "Twenty20",
         "https://www.espncricinfo.com//series/indian-premier-league-2011-466304/kings-xi-punjab-vs-chennai-super-kings-9th-match-501206/full-scorecard"
        ],
        [
         "RCB",
         "MI",
         "MI",
         "9 wickets",
         "Bengaluru",
         "Apr 12, 2011",
         "Twenty20",
         "https://www.espncricinfo.com//series/indian-premier-league-2011-466304/royal-challengers-bangalore-vs-mumbai-indians-8th-match-501205/full-scorecard"
        ],
        [
         "RR",
         "Daredevils",
         "RR",
         "6 wickets",
         "Jaipur",
         "Apr 12, 2011",
         "Twenty20",
         "https://www.espncricinfo.com//series/indian-premier-league-2011-466304/rajasthan-royals-vs-delhi-daredevils-7th-match-501204/full-scorecard"
        ],
        [
         "KKR",
         "Chargers",
         "KKR",
         "9 runs",
         "Eden Gardens",
         "Apr 11, 2011",
         "Twenty20",
         "https://www.espncricinfo.com//series/indian-premier-league-2011-466304/kolkata-knight-riders-vs-deccan-chargers-6th-match-501203/full-scorecard"
        ],
        [
         "Warriors",
         "Kings XI",
         "Warriors",
         "7 wickets",
         "DY Patil",
         "Apr 10, 2011",
         "Twenty20",
         "https://www.espncricinfo.com//series/indian-premier-league-2011-466304/pune-warriors-vs-kings-xi-punjab-5th-match-501202/full-scorecard"
        ],
        [
         "Daredevils",
         "MI",
         "MI",
         "8 wickets",
         "Delhi",
         "Apr 10, 2011",
         "Twenty20",
         "https://www.espncricinfo.com//series/indian-premier-league-2011-466304/delhi-daredevils-vs-mumbai-indians-4th-match-501201/full-scorecard"
        ],
        [
         "Kochi",
         "RCB",
         "RCB",
         "6 wickets",
         "Kochi",
         "Apr 9, 2011",
         "Twenty20",
         "https://www.espncricinfo.com//series/indian-premier-league-2011-466304/kochi-tuskers-kerala-vs-royal-challengers-bangalore-3rd-match-501200/full-scorecard"
        ],
        [
         "Chargers",
         "RR",
         "RR",
         "8 wickets",
         "Hyderabad",
         "Apr 9, 2011",
         "Twenty20",
         "https://www.espncricinfo.com//series/indian-premier-league-2011-466304/deccan-chargers-vs-rajasthan-royals-2nd-match-501199/full-scorecard"
        ],
        [
         "CSK",
         "KKR",
         "CSK",
         "2 runs",
         "Chennai",
         "Apr 8, 2011",
         "Twenty20",
         "https://www.espncricinfo.com//series/indian-premier-league-2011-466304/chennai-super-kings-vs-kolkata-knight-riders-1st-match-501198/full-scorecard"
        ],
        [
         "MI",
         "CSK",
         "CSK",
         "22 runs",
         "DY Patil",
         "Apr 25, 2010",
         "Twenty20",
         "https://www.espncricinfo.com//series/indian-premier-league-2009-10-418064/mumbai-indians-vs-chennai-super-kings-final-419165/full-scorecard"
        ],
        [
         "Chargers",
         "RCB",
         "RCB",
         "9 wickets",
         "DY Patil",
         "Apr 24, 2010",
         "Twenty20",
         "https://www.espncricinfo.com//series/indian-premier-league-2009-10-418064/deccan-chargers-vs-royal-challengers-bangalore-3rd-place-play-off-419164/full-scorecard"
        ],
        [
         "CSK",
         "Chargers",
         "CSK",
         "38 runs",
         "DY Patil",
         "Apr 22, 2010",
         "Twenty20",
         "https://www.espncricinfo.com//series/indian-premier-league-2009-10-418064/chennai-super-kings-vs-deccan-chargers-2nd-semi-final-419163/full-scorecard"
        ],
        [
         "MI",
         "RCB",
         "MI",
         "35 runs",
         "DY Patil",
         "Apr 21, 2010",
         "Twenty20",
         "https://www.espncricinfo.com//series/indian-premier-league-2009-10-418064/mumbai-indians-vs-royal-challengers-bangalore-1st-semi-final-419162/full-scorecard"
        ],
        [
         "KKR",
         "MI",
         "KKR",
         "9 wickets",
         "Eden Gardens",
         "Apr 19, 2010",
         "Twenty20",
         "https://www.espncricinfo.com//series/indian-premier-league-2009-10-418064/kolkata-knight-riders-vs-mumbai-indians-56th-match-419161/full-scorecard"
        ],
        [
         "Daredevils",
         "Chargers",
         "Chargers",
         "11 runs",
         "Delhi",
         "Apr 18, 2010",
         "Twenty20",
         "https://www.espncricinfo.com//series/indian-premier-league-2009-10-418064/delhi-daredevils-vs-deccan-chargers-55th-match-419160/full-scorecard"
        ],
        [
         "Kings XI",
         "CSK",
         "CSK",
         "6 wickets",
         "Dharamsala",
         "Apr 18, 2010",
         "Twenty20",
         "https://www.espncricinfo.com//series/indian-premier-league-2009-10-418064/kings-xi-punjab-vs-chennai-super-kings-54th-match-419159/full-scorecard"
        ],
        [
         "KKR",
         "RR",
         "KKR",
         "8 wickets",
         "Eden Gardens",
         "Apr 17, 2010",
         "Twenty20",
         "https://www.espncricinfo.com//series/indian-premier-league-2009-10-418064/kolkata-knight-riders-vs-rajasthan-royals-53rd-match-419158/full-scorecard"
        ],
        [
         "RCB",
         "MI",
         "MI",
         "57 runs",
         "Bengaluru",
         "Apr 17, 2010",
         "Twenty20",
         "https://www.espncricinfo.com//series/indian-premier-league-2009-10-418064/royal-challengers-bangalore-vs-mumbai-indians-52nd-match-419157/full-scorecard"
        ],
        [
         "Kings XI",
         "Chargers",
         "Chargers",
         "5 wickets",
         "Dharamsala",
         "Apr 16, 2010",
         "Twenty20",
         "https://www.espncricinfo.com//series/indian-premier-league-2009-10-418064/kings-xi-punjab-vs-deccan-chargers-51st-match-419156/full-scorecard"
        ],
        [
         "CSK",
         "Daredevils",
         "Daredevils",
         "6 wickets",
         "Chennai",
         "Apr 15, 2010",
         "Twenty20",
         "https://www.espncricinfo.com//series/indian-premier-league-2009-10-418064/chennai-super-kings-vs-delhi-daredevils-50th-match-419155/full-scorecard"
        ],
        [
         "RR",
         "RCB",
         "RCB",
         "5 wickets",
         "Jaipur",
         "Apr 14, 2010",
         "Twenty20",
         "https://www.espncricinfo.com//series/indian-premier-league-2009-10-418064/rajasthan-royals-vs-royal-challengers-bangalore-49th-match-419154/full-scorecard"
        ],
        [
         "CSK",
         "KKR",
         "CSK",
         "9 wickets",
         "Chennai",
         "Apr 13, 2010",
         "Twenty20",
         "https://www.espncricinfo.com//series/indian-premier-league-2009-10-418064/chennai-super-kings-vs-kolkata-knight-riders-48th-match-419153/full-scorecard"
        ],
        [
         "MI",
         "Daredevils",
         "MI",
         "39 runs",
         "Brabourne",
         "Apr 13, 2010",
         "Twenty20",
         "https://www.espncricinfo.com//series/indian-premier-league-2009-10-418064/mumbai-indians-vs-delhi-daredevils-47th-match-419152/full-scorecard"
        ],
        [
         "Chargers",
         "RCB",
         "Chargers",
         "13 runs",
         "Nagpur",
         "Apr 12, 2010",
         "Twenty20",
         "https://www.espncricinfo.com//series/indian-premier-league-2009-10-418064/deccan-chargers-vs-royal-challengers-bangalore-46th-match-419151/full-scorecard"
        ],
        [
         "RR",
         "MI",
         "MI",
         "37 runs",
         "Jaipur",
         "Apr 11, 2010",
         "Twenty20",
         "https://www.espncricinfo.com//series/indian-premier-league-2009-10-418064/rajasthan-royals-vs-mumbai-indians-45th-match-419150/full-scorecard"
        ],
        [
         "Daredevils",
         "Kings XI",
         "Kings XI",
         "7 wickets",
         "Delhi",
         "Apr 11, 2010",
         "Twenty20",
         "https://www.espncricinfo.com//series/indian-premier-league-2009-10-418064/delhi-daredevils-vs-kings-xi-punjab-44th-match-419149/full-scorecard"
        ],
        [
         "RCB",
         "KKR",
         "RCB",
         "7 wickets",
         "Bengaluru",
         "Apr 10, 2010",
         "Twenty20",
         "https://www.espncricinfo.com//series/indian-premier-league-2009-10-418064/royal-challengers-bangalore-vs-kolkata-knight-riders-43rd-match-419148/full-scorecard"
        ],
        [
         "Chargers",
         "CSK",
         "Chargers",
         "6 wickets",
         "Nagpur",
         "Apr 10, 2010",
         "Twenty20",
         "https://www.espncricinfo.com//series/indian-premier-league-2009-10-418064/deccan-chargers-vs-chennai-super-kings-42nd-match-419147/full-scorecard"
        ],
        [
         "Kings XI",
         "MI",
         "Kings XI",
         "6 wickets",
         "Mohali",
         "Apr 9, 2010",
         "Twenty20",
         "https://www.espncricinfo.com//series/indian-premier-league-2009-10-418064/kings-xi-punjab-vs-mumbai-indians-41st-match-419146/full-scorecard"
        ],
        [
         "RCB",
         "Chargers",
         "Chargers",
         "7 wickets",
         "Bengaluru",
         "Apr 8, 2010",
         "Twenty20",
         "https://www.espncricinfo.com//series/indian-premier-league-2009-10-418064/royal-challengers-bangalore-vs-deccan-chargers-40th-match-419145/full-scorecard"
        ],
        [
         "KKR",
         "Daredevils",
         "KKR",
         "14 runs",
         "Eden Gardens",
         "Apr 7, 2010",
         "Twenty20",
         "https://www.espncricinfo.com//series/indian-premier-league-2009-10-418064/kolkata-knight-riders-vs-delhi-daredevils-39th-match-419144/full-scorecard"
        ],
        [
         "RR",
         "Kings XI",
         "RR",
         "9 wickets",
         "Jaipur",
         "Apr 7, 2010",
         "Twenty20",
         "https://www.espncricinfo.com//series/indian-premier-league-2009-10-418064/rajasthan-royals-vs-kings-xi-punjab-38th-match-419143/full-scorecard"
        ],
        [
         "CSK",
         "MI",
         "CSK",
         "24 runs",
         "Chennai",
         "Apr 6, 2010",
         "Twenty20",
         "https://www.espncricinfo.com//series/indian-premier-league-2009-10-418064/chennai-super-kings-vs-mumbai-indians-37th-match-419142/full-scorecard"
        ],
        [
         "Chargers",
         "RR",
         "RR",
         "2 runs",
         "Nagpur",
         "Apr 5, 2010",
         "Twenty20",
         "https://www.espncricinfo.com//series/indian-premier-league-2009-10-418064/deccan-chargers-vs-rajasthan-royals-36th-match-419141/full-scorecard"
        ],
        [
         "Daredevils",
         "RCB",
         "Daredevils",
         "37 runs",
         "Delhi",
         "Apr 4, 2010",
         "Twenty20",
         "https://www.espncricinfo.com//series/indian-premier-league-2009-10-418064/delhi-daredevils-vs-royal-challengers-bangalore-35th-match-419140/full-scorecard"
        ],
        [
         "KKR",
         "Kings XI",
         "Kings XI",
         "8 wickets",
         "Eden Gardens",
         "Apr 4, 2010",
         "Twenty20",
         "https://www.espncricinfo.com//series/indian-premier-league-2009-10-418064/kolkata-knight-riders-vs-kings-xi-punjab-34th-match-419139/full-scorecard"
        ],
        [
         "MI",
         "Chargers",
         "MI",
         "63 runs",
         "Brabourne",
         "Apr 3, 2010",
         "Twenty20",
         "https://www.espncricinfo.com//series/indian-premier-league-2009-10-418064/mumbai-indians-vs-deccan-chargers-33rd-match-419138/full-scorecard"
        ],
        [
         "CSK",
         "RR",
         "CSK",
         "23 runs",
         "Chennai",
         "Apr 3, 2010",
         "Twenty20",
         "https://www.espncricinfo.com//series/indian-premier-league-2009-10-418064/chennai-super-kings-vs-rajasthan-royals-32nd-match-419137/full-scorecard"
        ],
        [
         "Kings XI",
         "RCB",
         "RCB",
         "6 wickets",
         "Mohali",
         "Apr 2, 2010",
         "Twenty20",
         "https://www.espncricinfo.com//series/indian-premier-league-2009-10-418064/kings-xi-punjab-vs-royal-challengers-bangalore-31st-match-419136/full-scorecard"
        ],
        [
         "KKR",
         "Chargers",
         "KKR",
         "24 runs",
         "Eden Gardens",
         "Apr 1, 2010",
         "Twenty20",
         "https://www.espncricinfo.com//series/indian-premier-league-2009-10-418064/kolkata-knight-riders-vs-deccan-chargers-30th-match-419135/full-scorecard"
        ],
        [
         "Daredevils",
         "RR",
         "Daredevils",
         "67 runs",
         "Delhi",
         "Mar 31, 2010",
         "Twenty20",
         "https://www.espncricinfo.com//series/indian-premier-league-2009-10-418064/delhi-daredevils-vs-rajasthan-royals-29th-match-419134/full-scorecard"
        ],
        [
         "CSK",
         "RCB",
         "CSK",
         "5 wickets",
         "Chennai",
         "Mar 31, 2010",
         "Twenty20",
         "https://www.espncricinfo.com//series/indian-premier-league-2009-10-418064/chennai-super-kings-vs-royal-challengers-bangalore-28th-match-419133/full-scorecard"
        ],
        [
         "MI",
         "Kings XI",
         "MI",
         "4 wickets",
         "Brabourne",
         "Mar 30, 2010",
         "Twenty20",
         "https://www.espncricinfo.com//series/indian-premier-league-2009-10-418064/mumbai-indians-vs-kings-xi-punjab-27th-match-419132/full-scorecard"
        ],
        [
         "Daredevils",
         "KKR",
         "Daredevils",
         "40 runs",
         "Delhi",
         "Mar 29, 2010",
         "Twenty20",
         "https://www.espncricinfo.com//series/indian-premier-league-2009-10-418064/delhi-daredevils-vs-kolkata-knight-riders-26th-match-419131/full-scorecard"
        ],
        [
         "Chargers",
         "MI",
         "MI",
         "41 runs",
         "DY Patil",
         "Mar 28, 2010",
         "Twenty20",
         "https://www.espncricinfo.com//series/indian-premier-league-2009-10-418064/deccan-chargers-vs-mumbai-indians-25th-match-419130/full-scorecard"
        ],
        [
         "RR",
         "CSK",
         "RR",
         "17 runs",
         "Ahmedabad",
         "Mar 28, 2010",
         "Twenty20",
         "https://www.espncricinfo.com//series/indian-premier-league-2009-10-418064/rajasthan-royals-vs-chennai-super-kings-24th-match-419129/full-scorecard"
        ],
        [
         "Kings XI",
         "KKR",
         "KKR",
         "39 runs",
         "Mohali",
         "Mar 27, 2010",
         "Twenty20",
         "https://www.espncricinfo.com//series/indian-premier-league-2009-10-418064/kings-xi-punjab-vs-kolkata-knight-riders-23rd-match-419127/full-scorecard"
        ],
        [
         "RR",
         "Chargers",
         "RR",
         "8 wickets",
         "Ahmedabad",
         "Mar 26, 2010",
         "Twenty20",
         "https://www.espncricinfo.com//series/indian-premier-league-2009-10-418064/rajasthan-royals-vs-deccan-chargers-22nd-match-419126/full-scorecard"
        ],
        [
         "MI",
         "CSK",
         "MI",
         "5 wickets",
         "Brabourne",
         "Mar 25, 2010",
         "Twenty20",
         "https://www.espncricinfo.com//series/indian-premier-league-2009-10-418064/mumbai-indians-vs-chennai-super-kings-21st-match-419125/full-scorecard"
        ],
        [
         "RCB",
         "Daredevils",
         "Daredevils",
         "17 runs",
         "Bengaluru",
         "Mar 25, 2010",
         "Twenty20",
         "https://www.espncricinfo.com//series/indian-premier-league-2009-10-418064/royal-challengers-bangalore-vs-delhi-daredevils-20th-match-419128/full-scorecard"
        ],
        [
         "Kings XI",
         "RR",
         "RR",
         "31 runs",
         "Mohali",
         "Mar 24, 2010",
         "Twenty20",
         "https://www.espncricinfo.com//series/indian-premier-league-2009-10-418064/kings-xi-punjab-vs-rajasthan-royals-19th-match-419124/full-scorecard"
        ],
        [
         "RCB",
         "CSK",
         "RCB",
         "36 runs",
         "Bengaluru",
         "Mar 23, 2010",
         "Twenty20",
         "https://www.espncricinfo.com//series/indian-premier-league-2009-10-418064/royal-challengers-bangalore-vs-chennai-super-kings-18th-match-419123/full-scorecard"
        ],
        [
         "MI",
         "KKR",
         "MI",
         "7 wickets",
         "Brabourne",
         "Mar 22, 2010",
         "Twenty20",
         "https://www.espncricinfo.com//series/indian-premier-league-2009-10-418064/mumbai-indians-vs-kolkata-knight-riders-17th-match-419122/full-scorecard"
        ],
        [
         "CSK",
         "Kings XI",
         "tied",
         "-",
         "Chennai",
         "Mar 21, 2010",
         "Twenty20",
         "https://www.espncricinfo.com//series/indian-premier-league-2009-10-418064/chennai-super-kings-vs-kings-xi-punjab-16th-match-419121/full-scorecard"
        ],
        [
         "Chargers",
         "Daredevils",
         "Chargers",
         "10 runs",
         "Cuttack",
         "Mar 21, 2010",
         "Twenty20",
         "https://www.espncricinfo.com//series/indian-premier-league-2009-10-418064/deccan-chargers-vs-delhi-daredevils-15th-match-419120/full-scorecard"
        ],
        [
         "MI",
         "RCB",
         "RCB",
         "7 wickets",
         "Brabourne",
         "Mar 20, 2010",
         "Twenty20",
         "https://www.espncricinfo.com//series/indian-premier-league-2009-10-418064/mumbai-indians-vs-royal-challengers-bangalore-14th-match-419119/full-scorecard"
        ],
        [
         "RR",
         "KKR",
         "RR",
         "34 runs",
         "Ahmedabad",
         "Mar 20, 2010",
         "Twenty20",
         "https://www.espncricinfo.com//series/indian-premier-league-2009-10-418064/rajasthan-royals-vs-kolkata-knight-riders-13th-match-419118/full-scorecard"
        ],
        [
         "Chargers",
         "Kings XI",
         "Chargers",
         "6 runs",
         "Cuttack",
         "Mar 19, 2010",
         "Twenty20",
         "https://www.espncricinfo.com//series/indian-premier-league-2009-10-418064/deccan-chargers-vs-kings-xi-punjab-12th-match-419117/full-scorecard"
        ],
        [
         "Daredevils",
         "CSK",
         "CSK",
         "5 wickets",
         "Delhi",
         "Mar 19, 2010",
         "Twenty20",
         "https://www.espncricinfo.com//series/indian-premier-league-2009-10-418064/delhi-daredevils-vs-chennai-super-kings-11th-match-419116/full-scorecard"
        ],
        [
         "RCB",
         "RR",
         "RCB",
         "10 wickets",
         "Bengaluru",
         "Mar 18, 2010",
         "Twenty20",
         "https://www.espncricinfo.com//series/indian-premier-league-2009-10-418064/royal-challengers-bangalore-vs-rajasthan-royals-10th-match-419115/full-scorecard"
        ],
        [
         "Daredevils",
         "MI",
         "MI",
         "98 runs",
         "Delhi",
         "Mar 17, 2010",
         "Twenty20",
         "https://www.espncricinfo.com//series/indian-premier-league-2009-10-418064/delhi-daredevils-vs-mumbai-indians-9th-match-419114/full-scorecard"
        ],
        [
         "KKR",
         "CSK",
         "CSK",
         "55 runs",
         "Eden Gardens",
         "Mar 16, 2010",
         "Twenty20",
         "https://www.espncricinfo.com//series/indian-premier-league-2009-10-418064/kolkata-knight-riders-vs-chennai-super-kings-8th-match-419113/full-scorecard"
        ],
        [
         "RCB",
         "Kings XI",
         "RCB",
         "8 wickets",
         "Bengaluru",
         "Mar 16, 2010",
         "Twenty20",
         "https://www.espncricinfo.com//series/indian-premier-league-2009-10-418064/royal-challengers-bangalore-vs-kings-xi-punjab-7th-match-419112/full-scorecard"
        ],
        [
         "RR",
         "Daredevils",
         "Daredevils",
         "6 wickets",
         "Ahmedabad",
         "Mar 15, 2010",
         "Twenty20",
         "https://www.espncricinfo.com//series/indian-premier-league-2009-10-418064/rajasthan-royals-vs-delhi-daredevils-6th-match-419111/full-scorecard"
        ],
        [
         "CSK",
         "Chargers",
         "Chargers",
         "31 runs",
         "Chennai",
         "Mar 14, 2010",
         "Twenty20",
         "https://www.espncricinfo.com//series/indian-premier-league-2009-10-418064/chennai-super-kings-vs-deccan-chargers-5th-match-419110/full-scorecard"
        ],
        [
         "KKR",
         "RCB",
         "KKR",
         "7 wickets",
         "Eden Gardens",
         "Mar 14, 2010",
         "Twenty20",
         "https://www.espncricinfo.com//series/indian-premier-league-2009-10-418064/kolkata-knight-riders-vs-royal-challengers-bangalore-4th-match-419109/full-scorecard"
        ],
        [
         "Kings XI",
         "Daredevils",
         "Daredevils",
         "5 wickets",
         "Mohali",
         "Mar 13, 2010",
         "Twenty20",
         "https://www.espncricinfo.com//series/indian-premier-league-2009-10-418064/kings-xi-punjab-vs-delhi-daredevils-3rd-match-419108/full-scorecard"
        ],
        [
         "MI",
         "RR",
         "MI",
         "4 runs",
         "Brabourne",
         "Mar 13, 2010",
         "Twenty20",
         "https://www.espncricinfo.com//series/indian-premier-league-2009-10-418064/mumbai-indians-vs-rajasthan-royals-2nd-match-419107/full-scorecard"
        ],
        [
         "Chargers",
         "KKR",
         "KKR",
         "11 runs",
         "DY Patil",
         "Mar 12, 2010",
         "Twenty20",
         "https://www.espncricinfo.com//series/indian-premier-league-2009-10-418064/deccan-chargers-vs-kolkata-knight-riders-1st-match-419106/full-scorecard"
        ],
        [
         "Chargers",
         "RCB",
         "Chargers",
         "6 runs",
         "Johannesburg",
         "May 24, 2009",
         "Twenty20",
         "https://www.espncricinfo.com//series/indian-premier-league-2009-374163/deccan-chargers-vs-royal-challengers-bangalore-final-392239/full-scorecard"
        ],
        [
         "CSK",
         "RCB",
         "RCB",
         "6 wickets",
         "Johannesburg",
         "May 23, 2009",
         "Twenty20",
         "https://www.espncricinfo.com//series/indian-premier-league-2009-374163/chennai-super-kings-vs-royal-challengers-bangalore-2nd-semi-final-392238/full-scorecard"
        ],
        [
         "Chargers",
         "Daredevils",
         "Chargers",
         "6 wickets",
         "Centurion",
         "May 22, 2009",
         "Twenty20",
         "https://www.espncricinfo.com//series/indian-premier-league-2009-374163/deccan-chargers-vs-delhi-daredevils-1st-semi-final-392237/full-scorecard"
        ],
        [
         "RCB",
         "Chargers",
         "RCB",
         "12 runs",
         "Centurion",
         "May 21, 2009",
         "Twenty20",
         "https://www.espncricinfo.com//series/indian-premier-league-2009-374163/royal-challengers-bangalore-vs-deccan-chargers-56th-match-392236/full-scorecard"
        ],
        [
         "Daredevils",
         "MI",
         "Daredevils",
         "4 wickets",
         "Centurion",
         "May 21, 2009",
         "Twenty20",
         "https://www.espncricinfo.com//series/indian-premier-league-2009-374163/delhi-daredevils-vs-mumbai-indians-55th-match-392235/full-scorecard"
        ],
        [
         "CSK",
         "Kings XI",
         "CSK",
         "24 runs",
         "Durban",
         "May 20, 2009",
         "Twenty20",
         "https://www.espncricinfo.com//series/indian-premier-league-2009-374163/chennai-super-kings-vs-kings-xi-punjab-54th-match-392234/full-scorecard"
        ],
        [
         "KKR",
         "RR",
         "KKR",
         "4 wickets",
         "Durban",
         "May 20, 2009",
         "Twenty20",
         "https://www.espncricinfo.com//series/indian-premier-league-2009-374163/kolkata-knight-riders-vs-rajasthan-royals-53rd-match-392233/full-scorecard"
        ],
        [
         "RCB",
         "Daredevils",
         "RCB",
         "7 wickets",
         "Johannesburg",
         "May 19, 2009",
         "Twenty20",
         "https://www.espncricinfo.com//series/indian-premier-league-2009-374163/royal-challengers-bangalore-vs-delhi-daredevils-52nd-match-392232/full-scorecard"
        ],
        [
         "CSK",
         "KKR",
         "KKR",
         "7 wickets",
         "Centurion",
         "May 18, 2009",
         "Twenty20",
         "https://www.espncricinfo.com//series/indian-premier-league-2009-374163/chennai-super-kings-vs-kolkata-knight-riders-51st-match-392231/full-scorecard"
        ],
        [
         "Daredevils",
         "RR",
         "Daredevils",
         "14 runs",
         "Bloemfontein",
         "May 17, 2009",
         "Twenty20",
         "https://www.espncricinfo.com//series/indian-premier-league-2009-374163/delhi-daredevils-vs-rajasthan-royals-50th-match-392230/full-scorecard"
        ],
        [
         "Chargers",
         "Kings XI",
         "Kings XI",
         "1 run",
         "Johannesburg",
         "May 17, 2009",
         "Twenty20",
         "https://www.espncricinfo.com//series/indian-premier-league-2009-374163/deccan-chargers-vs-kings-xi-punjab-49th-match-392229/full-scorecard"
        ],
        [
         "Chargers",
         "KKR",
         "Chargers",
         "6 wickets",
         "Johannesburg",
         "May 16, 2009",
         "Twenty20",
         "https://www.espncricinfo.com//series/indian-premier-league-2009-374163/deccan-chargers-vs-kolkata-knight-riders-48th-match-392228/full-scorecard"
        ],
        [
         "CSK",
         "MI",
         "CSK",
         "7 wickets",
         "Gqeberha",
         "May 16, 2009",
         "Twenty20",
         "https://www.espncricinfo.com//series/indian-premier-league-2009-374163/chennai-super-kings-vs-mumbai-indians-47th-match-392227/full-scorecard"
        ],
        [
         "Daredevils",
         "Kings XI",
         "Kings XI",
         "6 wickets",
         "Bloemfontein",
         "May 15, 2009",
         "Twenty20",
         "https://www.espncricinfo.com//series/indian-premier-league-2009-374163/delhi-daredevils-vs-kings-xi-punjab-46th-match-392226/full-scorecard"
        ],
        [
         "MI",
         "RR",
         "RR",
         "2 runs",
         "Durban",
         "May 14, 2009",
         "Twenty20",
         "https://www.espncricinfo.com//series/indian-premier-league-2009-374163/mumbai-indians-vs-rajasthan-royals-45th-match-392225/full-scorecard"
        ],
        [
         "RCB",
         "CSK",
         "RCB",
         "2 wickets",
         "Durban",
         "May 14, 2009",
         "Twenty20",
         "https://www.espncricinfo.com//series/indian-premier-league-2009-374163/royal-challengers-bangalore-vs-chennai-super-kings-44th-match-392224/full-scorecard"
        ],
        [
         "Chargers",
         "Daredevils",
         "Daredevils",
         "12 runs",
         "Durban",
         "May 13, 2009",
         "Twenty20",
         "https://www.espncricinfo.com//series/indian-premier-league-2009-374163/deccan-chargers-vs-delhi-daredevils-43rd-match-392223/full-scorecard"
        ],
        [
         "Kings XI",
         "MI",
         "MI",
         "8 wickets",
         "Centurion",
         "May 12, 2009",
         "Twenty20",
         "https://www.espncricinfo.com//series/indian-premier-league-2009-374163/kings-xi-punjab-vs-mumbai-indians-42nd-match-392222/full-scorecard"
        ],
        [
         "RCB",
         "KKR",
         "RCB",
         "6 wickets",
         "Centurion",
         "May 12, 2009",
         "Twenty20",
         "https://www.espncricinfo.com//series/indian-premier-league-2009-374163/royal-challengers-bangalore-vs-kolkata-knight-riders-41st-match-392221/full-scorecard"
        ],
        [
         "Chargers",
         "RR",
         "Chargers",
         "53 runs",
         "Kimberley",
         "May 11, 2009",
         "Twenty20",
         "https://www.espncricinfo.com//series/indian-premier-league-2009-374163/deccan-chargers-vs-rajasthan-royals-40th-match-392220/full-scorecard"
        ],
        [
         "Daredevils",
         "KKR",
         "Daredevils",
         "7 wickets",
         "Johannesburg",
         "May 10, 2009",
         "Twenty20",
         "https://www.espncricinfo.com//series/indian-premier-league-2009-374163/delhi-daredevils-vs-kolkata-knight-riders-39th-match-392219/full-scorecard"
        ],
        [
         "RCB",
         "MI",
         "MI",
         "16 runs",
         "Gqeberha",
         "May 10, 2009",
         "Twenty20",
         "https://www.espncricinfo.com//series/indian-premier-league-2009-374163/royal-challengers-bangalore-vs-mumbai-indians-38th-match-392218/full-scorecard"
        ],
        [
         "CSK",
         "RR",
         "CSK",
         "7 wickets",
         "Kimberley",
         "May 9, 2009",
         "Twenty20",
         "https://www.espncricinfo.com//series/indian-premier-league-2009-374163/chennai-super-kings-vs-rajasthan-royals-37th-match-392217/full-scorecard"
        ],
        [
         "Chargers",
         "Kings XI",
         "Kings XI",
         "3 wickets",
         "Kimberley",
         "May 9, 2009",
         "Twenty20",
         "https://www.espncricinfo.com//series/indian-premier-league-2009-374163/deccan-chargers-vs-kings-xi-punjab-36th-match-392216/full-scorecard"
        ],
        [
         "Daredevils",
         "MI",
         "Daredevils",
         "7 wickets",
         "East London",
         "May 8, 2009",
         "Twenty20",
         "https://www.espncricinfo.com//series/indian-premier-league-2009-374163/delhi-daredevils-vs-mumbai-indians-35th-match-392215/full-scorecard"
        ],
        [
         "CSK",
         "Kings XI",
         "CSK",
         "12 runs",
         "Centurion",
         "May 7, 2009",
         "Twenty20",
         "https://www.espncricinfo.com//series/indian-premier-league-2009-374163/chennai-super-kings-vs-kings-xi-punjab-34th-match-392214/full-scorecard"
        ],
        [
         "RCB",
         "RR",
         "RR",
         "7 wickets",
         "Centurion",
         "May 7, 2009",
         "Twenty20",
         "https://www.espncricinfo.com//series/indian-premier-league-2009-374163/royal-challengers-bangalore-vs-rajasthan-royals-33rd-match-392213/full-scorecard"
        ],
        [
         "Chargers",
         "MI",
         "Chargers",
         "19 runs",
         "Centurion",
         "May 6, 2009",
         "Twenty20",
         "https://www.espncricinfo.com//series/indian-premier-league-2009-374163/deccan-chargers-vs-mumbai-indians-32nd-match-392212/full-scorecard"
        ],
        [
         "Daredevils",
         "KKR",
         "Daredevils",
         "9 wickets",
         "Durban",
         "May 5, 2009",
         "Twenty20",
         "https://www.espncricinfo.com//series/indian-premier-league-2009-374163/delhi-daredevils-vs-kolkata-knight-riders-31st-match-392211/full-scorecard"
        ],
        [
         "Kings XI",
         "RR",
         "RR",
         "78 runs",
         "Durban",
         "May 5, 2009",
         "Twenty20",
         "https://www.espncricinfo.com//series/indian-premier-league-2009-374163/kings-xi-punjab-vs-rajasthan-royals-30th-match-392210/full-scorecard"
        ],
        [
         "CSK",
         "Chargers",
         "CSK",
         "78 runs",
         "East London",
         "May 4, 2009",
         "Twenty20",
         "https://www.espncricinfo.com//series/indian-premier-league-2009-374163/chennai-super-kings-vs-deccan-chargers-29th-match-392209/full-scorecard"
        ],
        [
         "RCB",
         "MI",
         "RCB",
         "9 wickets",
         "Johannesburg",
         "May 3, 2009",
         "Twenty20",
         "https://www.espncricinfo.com//series/indian-premier-league-2009-374163/royal-challengers-bangalore-vs-mumbai-indians-28th-match-392208/full-scorecard"
        ],
        [
         "Kings XI",
         "KKR",
         "Kings XI",
         "6 wickets",
         "Gqeberha",
         "May 3, 2009",
         "Twenty20",
         "https://www.espncricinfo.com//series/indian-premier-league-2009-374163/kings-xi-punjab-vs-kolkata-knight-riders-27th-match-392207/full-scorecard"
        ],
        [
         "CSK",
         "Daredevils",
         "CSK",
         "18 runs",
         "Johannesburg",
         "May 2, 2009",
         "Twenty20",
         "https://www.espncricinfo.com//series/indian-premier-league-2009-374163/chennai-super-kings-vs-delhi-daredevils-26th-match-392206/full-scorecard"
        ],
        [
         "Chargers",
         "RR",
         "RR",
         "3 wickets",
         "Gqeberha",
         "May 2, 2009",
         "Twenty20",
         "https://www.espncricinfo.com//series/indian-premier-league-2009-374163/deccan-chargers-vs-rajasthan-royals-25th-match-392205/full-scorecard"
        ],
        [
         "RCB",
         "Kings XI",
         "RCB",
         "8 runs",
         "Durban",
         "May 1, 2009",
         "Twenty20",
         "https://www.espncricinfo.com//series/indian-premier-league-2009-374163/royal-challengers-bangalore-vs-kings-xi-punjab-24th-match-392204/full-scorecard"
        ],
        [
         "KKR",
         "MI",
         "MI",
         "9 runs",
         "East London",
         "May 1, 2009",
         "Twenty20",
         "https://www.espncricinfo.com//series/indian-premier-league-2009-374163/kolkata-knight-riders-vs-mumbai-indians-23rd-match-392203/full-scorecard"
        ],
        [
         "CSK",
         "RR",
         "CSK",
         "38 runs",
         "Centurion",
         "Apr 30, 2009",
         "Twenty20",
         "https://www.espncricinfo.com//series/indian-premier-league-2009-374163/chennai-super-kings-vs-rajasthan-royals-22nd-match-392202/full-scorecard"
        ],
        [
         "Chargers",
         "Daredevils",
         "Daredevils",
         "6 wickets",
         "Centurion",
         "Apr 30, 2009",
         "Twenty20",
         "https://www.espncricinfo.com//series/indian-premier-league-2009-374163/deccan-chargers-vs-delhi-daredevils-21st-match-392201/full-scorecard"
        ],
        [
         "Kings XI",
         "MI",
         "Kings XI",
         "3 runs",
         "Durban",
         "Apr 29, 2009",
         "Twenty20",
         "https://www.espncricinfo.com//series/indian-premier-league-2009-374163/kings-xi-punjab-vs-mumbai-indians-20th-match-392200/full-scorecard"
        ],
        [
         "RCB",
         "KKR",
         "RCB",
         "5 wickets",
         "Durban",
         "Apr 29, 2009",
         "Twenty20",
         "https://www.espncricinfo.com//series/indian-premier-league-2009-374163/royal-challengers-bangalore-vs-kolkata-knight-riders-19th-match-392199/full-scorecard"
        ],
        [
         "Daredevils",
         "RR",
         "RR",
         "5 wickets",
         "Centurion",
         "Apr 28, 2009",
         "Twenty20",
         "https://www.espncricinfo.com//series/indian-premier-league-2009-374163/delhi-daredevils-vs-rajasthan-royals-18th-match-392198/full-scorecard"
        ],
        [
         "KKR",
         "MI",
         "MI",
         "92 runs",
         "Gqeberha",
         "Apr 27, 2009",
         "Twenty20",
         "https://www.espncricinfo.com//series/indian-premier-league-2009-374163/kolkata-knight-riders-vs-mumbai-indians-17th-match-392197/full-scorecard"
        ],
        [
         "CSK",
         "Chargers",
         "Chargers",
         "6 wickets",
         "Durban",
         "Apr 27, 2009",
         "Twenty20",
         "https://www.espncricinfo.com//series/indian-premier-league-2009-374163/chennai-super-kings-vs-deccan-chargers-16th-match-392196/full-scorecard"
        ],
        [
         "Kings XI",
         "RR",
         "Kings XI",
         "27 runs",
         "Cape Town",
         "Apr 26, 2009",
         "Twenty20",
         "https://www.espncricinfo.com//series/indian-premier-league-2009-374163/kings-xi-punjab-vs-rajasthan-royals-15th-match-392195/full-scorecard"
        ],
        [
         "RCB",
         "Daredevils",
         "Daredevils",
         "6 wickets",
         "Gqeberha",
         "Apr 26, 2009",
         "Twenty20",
         "https://www.espncricinfo.com//series/indian-premier-league-2009-374163/royal-challengers-bangalore-vs-delhi-daredevils-14th-match-392194/full-scorecard"
        ],
        [
         "Chargers",
         "MI",
         "Chargers",
         "12 runs",
         "Durban",
         "Apr 25, 2009",
         "Twenty20",
         "https://www.espncricinfo.com//series/indian-premier-league-2009-374163/deccan-chargers-vs-mumbai-indians-12th-match-392192/full-scorecard"
        ],
        [
         "RCB",
         "Kings XI",
         "Kings XI",
         "7 wickets",
         "Durban",
         "Apr 24, 2009",
         "Twenty20",
         "https://www.espncricinfo.com//series/indian-premier-league-2009-374163/royal-challengers-bangalore-vs-kings-xi-punjab-11th-match-392191/full-scorecard"
        ],
        [
         "KKR",
         "RR",
         "tied",
         "-",
         "Cape Town",
         "Apr 23, 2009",
         "Twenty20",
         "https://www.espncricinfo.com//series/indian-premier-league-2009-374163/kolkata-knight-riders-vs-rajasthan-royals-10th-match-392190/full-scorecard"
        ],
        [
         "CSK",
         "Daredevils",
         "Daredevils",
         "9 runs",
         "Durban",
         "Apr 23, 2009",
         "Twenty20",
         "https://www.espncricinfo.com//series/indian-premier-league-2009-374163/chennai-super-kings-vs-delhi-daredevils-9th-match-392189/full-scorecard"
        ],
        [
         "RCB",
         "Chargers",
         "Chargers",
         "24 runs",
         "Cape Town",
         "Apr 22, 2009",
         "Twenty20",
         "https://www.espncricinfo.com//series/indian-premier-league-2009-374163/royal-challengers-bangalore-vs-deccan-chargers-8th-match-392188/full-scorecard"
        ],
        [
         "Kings XI",
         "KKR",
         "KKR",
         "11 runs",
         "Durban",
         "Apr 21, 2009",
         "Twenty20",
         "https://www.espncricinfo.com//series/indian-premier-league-2009-374163/kings-xi-punjab-vs-kolkata-knight-riders-6th-match-392186/full-scorecard"
        ],
        [
         "RCB",
         "CSK",
         "CSK",
         "92 runs",
         "Gqeberha",
         "Apr 20, 2009",
         "Twenty20",
         "https://www.espncricinfo.com//series/indian-premier-league-2009-374163/royal-challengers-bangalore-vs-chennai-super-kings-5th-match-392185/full-scorecard"
        ],
        [
         "Chargers",
         "KKR",
         "Chargers",
         "8 wickets",
         "Cape Town",
         "Apr 19, 2009",
         "Twenty20",
         "https://www.espncricinfo.com//series/indian-premier-league-2009-374163/deccan-chargers-vs-kolkata-knight-riders-4th-match-392184/full-scorecard"
        ],
        [
         "Daredevils",
         "Kings XI",
         "Daredevils",
         "10 wickets",
         "Cape Town",
         "Apr 19, 2009",
         "Twenty20",
         "https://www.espncricinfo.com//series/indian-premier-league-2009-374163/delhi-daredevils-vs-kings-xi-punjab-3rd-match-392183/full-scorecard"
        ],
        [
         "RCB",
         "RR",
         "RCB",
         "75 runs",
         "Cape Town",
         "Apr 18, 2009",
         "Twenty20",
         "https://www.espncricinfo.com//series/indian-premier-league-2009-374163/royal-challengers-bangalore-vs-rajasthan-royals-2nd-match-392182/full-scorecard"
        ],
        [
         "CSK",
         "MI",
         "MI",
         "19 runs",
         "Cape Town",
         "Apr 18, 2009",
         "Twenty20",
         "https://www.espncricinfo.com//series/indian-premier-league-2009-374163/chennai-super-kings-vs-mumbai-indians-1st-match-392181/full-scorecard"
        ],
        [
         "CSK",
         "RR",
         "RR",
         "3 wickets",
         "DY Patil",
         "Jun 1, 2008",
         "Twenty20",
         "https://www.espncricinfo.com//series/indian-premier-league-2007-08-313494/chennai-super-kings-vs-rajasthan-royals-final-336040/full-scorecard"
        ],
        [
         "CSK",
         "Kings XI",
         "CSK",
         "9 wickets",
         "Wankhede",
         "May 31, 2008",
         "Twenty20",
         "https://www.espncricinfo.com//series/indian-premier-league-2007-08-313494/chennai-super-kings-vs-kings-xi-punjab-2nd-semi-final-336039/full-scorecard"
        ],
        [
         "Daredevils",
         "RR",
         "RR",
         "105 runs",
         "Wankhede",
         "May 30, 2008",
         "Twenty20",
         "https://www.espncricinfo.com//series/indian-premier-league-2007-08-313494/delhi-daredevils-vs-rajasthan-royals-1st-semi-final-336038/full-scorecard"
        ],
        [
         "Kings XI",
         "RR",
         "Kings XI",
         "41 runs",
         "Mohali",
         "May 28, 2008",
         "Twenty20",
         "https://www.espncricinfo.com//series/indian-premier-league-2007-08-313494/kings-xi-punjab-vs-rajasthan-royals-56th-match-336019/full-scorecard"
        ],
        [
         "RCB",
         "MI",
         "MI",
         "9 wickets",
         "Bengaluru",
         "May 28, 2008",
         "Twenty20",
         "https://www.espncricinfo.com//series/indian-premier-league-2007-08-313494/royal-challengers-bangalore-vs-mumbai-indians-55th-match-336012/full-scorecard"
        ],
        [
         "Chargers",
         "CSK",
         "CSK",
         "7 wickets",
         "Hyderabad",
         "May 27, 2008",
         "Twenty20",
         "https://www.espncricinfo.com//series/indian-premier-league-2007-08-313494/deccan-chargers-vs-chennai-super-kings-54th-match-336037/full-scorecard"
        ],
        [
         "RR",
         "MI",
         "RR",
         "5 wickets",
         "Jaipur",
         "May 26, 2008",
         "Twenty20",
         "https://www.espncricinfo.com//series/indian-premier-league-2007-08-313494/rajasthan-royals-vs-mumbai-indians-53rd-match-336036/full-scorecard"
        ],
        [
         "KKR",
         "Kings XI",
         "KKR",
         "3 wickets",
         "Eden Gardens",
         "May 25, 2008",
         "Twenty20",
         "https://www.espncricinfo.com//series/indian-premier-league-2007-08-313494/kolkata-knight-riders-vs-kings-xi-punjab-52nd-match-336035/full-scorecard"
        ],
        [
         "Chargers",
         "RCB",
         "RCB",
         "5 wickets",
         "Hyderabad",
         "May 25, 2008",
         "Twenty20",
         "https://www.espncricinfo.com//series/indian-premier-league-2007-08-313494/deccan-chargers-vs-royal-challengers-bangalore-51st-match-336002/full-scorecard"
        ],
        [
         "Daredevils",
         "MI",
         "Daredevils",
         "5 wickets",
         "Delhi",
         "May 24, 2008",
         "Twenty20",
         "https://www.espncricinfo.com//series/indian-premier-league-2007-08-313494/delhi-daredevils-vs-mumbai-indians-50th-match-336032/full-scorecard"
        ],
        [
         "CSK",
         "RR",
         "RR",
         "10 runs",
         "Chennai",
         "May 24, 2008",
         "Twenty20",
         "https://www.espncricinfo.com//series/indian-premier-league-2007-08-313494/chennai-super-kings-vs-rajasthan-royals-49th-match-336033/full-scorecard"
        ],
        [
         "Kings XI",
         "Chargers",
         "Kings XI",
         "6 wickets",
         "Mohali",
         "May 23, 2008",
         "Twenty20",
         "https://www.espncricinfo.com//series/indian-premier-league-2007-08-313494/kings-xi-punjab-vs-deccan-chargers-48th-match-336031/full-scorecard"
        ],
        [
         "CSK",
         "RCB",
         "RCB",
         "14 runs",
         "Chennai",
         "May 21, 2008",
         "Twenty20",
         "https://www.espncricinfo.com//series/indian-premier-league-2007-08-313494/chennai-super-kings-vs-royal-challengers-bangalore-46th-match-336029/full-scorecard"
        ],
        [
         "MI",
         "Kings XI",
         "Kings XI",
         "1 run",
         "Wankhede",
         "May 21, 2008",
         "Twenty20",
         "https://www.espncricinfo.com//series/indian-premier-league-2007-08-313494/mumbai-indians-vs-kings-xi-punjab-45th-match-336028/full-scorecard"
        ],
        [
         "KKR",
         "RR",
         "RR",
         "6 wickets",
         "Eden Gardens",
         "May 20, 2008",
         "Twenty20",
         "https://www.espncricinfo.com//series/indian-premier-league-2007-08-313494/kolkata-knight-riders-vs-rajasthan-royals-44th-match-336027/full-scorecard"
        ],
        [
         "RCB",
         "Daredevils",
         "Daredevils",
         "5 wickets",
         "Bengaluru",
         "May 19, 2008",
         "Twenty20",
         "https://www.espncricinfo.com//series/indian-premier-league-2007-08-313494/royal-challengers-bangalore-vs-delhi-daredevils-43rd-match-336026/full-scorecard"
        ],
        [
         "Chargers",
         "MI",
         "MI",
         "25 runs",
         "Hyderabad",
         "May 18, 2008",
         "Twenty20",
         "https://www.espncricinfo.com//series/indian-premier-league-2007-08-313494/deccan-chargers-vs-mumbai-indians-42nd-match-336024/full-scorecard"
        ],
        [
         "KKR",
         "CSK",
         "CSK",
         "3 runs",
         "Eden Gardens",
         "May 18, 2008",
         "Twenty20",
         "https://www.espncricinfo.com//series/indian-premier-league-2007-08-313494/kolkata-knight-riders-vs-chennai-super-kings-41st-match-336025/full-scorecard"
        ],
        [
         "Daredevils",
         "Kings XI",
         "Kings XI",
         "6 runs",
         "Delhi",
         "May 17, 2008",
         "Twenty20",
         "https://www.espncricinfo.com//series/indian-premier-league-2007-08-313494/delhi-daredevils-vs-kings-xi-punjab-40th-match-336022/full-scorecard"
        ],
        [
         "RR",
         "RCB",
         "RR",
         "65 runs",
         "Jaipur",
         "May 17, 2008",
         "Twenty20",
         "https://www.espncricinfo.com//series/indian-premier-league-2007-08-313494/rajasthan-royals-vs-royal-challengers-bangalore-39th-match-336023/full-scorecard"
        ],
        [
         "MI",
         "KKR",
         "MI",
         "8 wickets",
         "Wankhede",
         "May 16, 2008",
         "Twenty20",
         "https://www.espncricinfo.com//series/indian-premier-league-2007-08-313494/mumbai-indians-vs-kolkata-knight-riders-38th-match-336021/full-scorecard"
        ],
        [
         "Daredevils",
         "Chargers",
         "Daredevils",
         "12 runs",
         "Delhi",
         "May 15, 2008",
         "Twenty20",
         "https://www.espncricinfo.com//series/indian-premier-league-2007-08-313494/delhi-daredevils-vs-deccan-chargers-37th-match-336020/full-scorecard"
        ],
        [
         "MI",
         "CSK",
         "MI",
         "9 wickets",
         "Wankhede",
         "May 14, 2008",
         "Twenty20",
         "https://www.espncricinfo.com//series/indian-premier-league-2007-08-313494/mumbai-indians-vs-chennai-super-kings-36th-match-336018/full-scorecard"
        ],
        [
         "KKR",
         "Daredevils",
         "KKR",
         "23 runs",
         "Eden Gardens",
         "May 13, 2008",
         "Twenty20",
         "https://www.espncricinfo.com//series/indian-premier-league-2007-08-313494/kolkata-knight-riders-vs-delhi-daredevils-35th-match-336017/full-scorecard"
        ],
        [
         "Kings XI",
         "RCB",
         "Kings XI",
         "9 wickets",
         "Mohali",
         "May 12, 2008",
         "Twenty20",
         "https://www.espncricinfo.com//series/indian-premier-league-2007-08-313494/kings-xi-punjab-vs-royal-challengers-bangalore-34th-match-336016/full-scorecard"
        ],
        [
         "RR",
         "Daredevils",
         "RR",
         "3 wickets",
         "Jaipur",
         "May 11, 2008",
         "Twenty20",
         "https://www.espncricinfo.com//series/indian-premier-league-2007-08-313494/rajasthan-royals-vs-delhi-daredevils-33rd-match-336015/full-scorecard"
        ],
        [
         "Chargers",
         "KKR",
         "KKR",
         "23 runs",
         "Hyderabad",
         "May 11, 2008",
         "Twenty20",
         "https://www.espncricinfo.com//series/indian-premier-league-2007-08-313494/deccan-chargers-vs-kolkata-knight-riders-32nd-match-336014/full-scorecard"
        ],
        [
         "CSK",
         "Kings XI",
         "CSK",
         "18 runs",
         "Chennai",
         "May 10, 2008",
         "Twenty20",
         "https://www.espncricinfo.com//series/indian-premier-league-2007-08-313494/chennai-super-kings-vs-kings-xi-punjab-31st-match-336013/full-scorecard"
        ],
        [
         "RR",
         "Chargers",
         "RR",
         "8 wickets",
         "Jaipur",
         "May 9, 2008",
         "Twenty20",
         "https://www.espncricinfo.com//series/indian-premier-league-2007-08-313494/rajasthan-royals-vs-deccan-chargers-30th-match-336011/full-scorecard"
        ],
        [
         "KKR",
         "RCB",
         "KKR",
         "5 runs",
         "Eden Gardens",
         "May 8, 2008",
         "Twenty20",
         "https://www.espncricinfo.com//series/indian-premier-league-2007-08-313494/kolkata-knight-riders-vs-royal-challengers-bangalore-29th-match-336010/full-scorecard"
        ],
        [
         "Daredevils",
         "CSK",
         "CSK",
         "4 wickets",
         "Delhi",
         "May 8, 2008",
         "Twenty20",
         "https://www.espncricinfo.com//series/indian-premier-league-2007-08-313494/delhi-daredevils-vs-chennai-super-kings-28th-match-336009/full-scorecard"
        ],
        [
         "MI",
         "RR",
         "MI",
         "7 wickets",
         "DY Patil",
         "May 7, 2008",
         "Twenty20",
         "https://www.espncricinfo.com//series/indian-premier-league-2007-08-313494/mumbai-indians-vs-rajasthan-royals-27th-match-336008/full-scorecard"
        ],
        [
         "CSK",
         "Chargers",
         "Chargers",
         "7 wickets",
         "Chennai",
         "May 6, 2008",
         "Twenty20",
         "https://www.espncricinfo.com//series/indian-premier-league-2007-08-313494/chennai-super-kings-vs-deccan-chargers-26th-match-336007/full-scorecard"
        ],
        [
         "RCB",
         "Kings XI",
         "Kings XI",
         "6 wickets",
         "Bengaluru",
         "May 5, 2008",
         "Twenty20",
         "https://www.espncricinfo.com//series/indian-premier-league-2007-08-313494/royal-challengers-bangalore-vs-kings-xi-punjab-25th-match-336006/full-scorecard"
        ],
        [
         "RR",
         "CSK",
         "RR",
         "8 wickets",
         "Jaipur",
         "May 4, 2008",
         "Twenty20",
         "https://www.espncricinfo.com//series/indian-premier-league-2007-08-313494/rajasthan-royals-vs-chennai-super-kings-24th-match-336005/full-scorecard"
        ],
        [
         "MI",
         "Daredevils",
         "MI",
         "29 runs",
         "DY Patil",
         "May 4, 2008",
         "Twenty20",
         "https://www.espncricinfo.com//series/indian-premier-league-2007-08-313494/mumbai-indians-vs-delhi-daredevils-23rd-match-336004/full-scorecard"
        ],
        [
         "Kings XI",
         "KKR",
         "Kings XI",
         "9 runs",
         "Mohali",
         "May 3, 2008",
         "Twenty20",
         "https://www.espncricinfo.com//series/indian-premier-league-2007-08-313494/kings-xi-punjab-vs-kolkata-knight-riders-22nd-match-336003/full-scorecard"
        ],
        [
         "RCB",
         "Chargers",
         "RCB",
         "3 runs",
         "Bengaluru",
         "May 3, 2008",
         "Twenty20",
         "https://www.espncricinfo.com//series/indian-premier-league-2007-08-313494/royal-challengers-bangalore-vs-deccan-chargers-21st-match-336034/full-scorecard"
        ],
        [
         "CSK",
         "Daredevils",
         "Daredevils",
         "8 wickets",
         "Chennai",
         "May 2, 2008",
         "Twenty20",
         "https://www.espncricinfo.com//series/indian-premier-league-2007-08-313494/chennai-super-kings-vs-delhi-daredevils-20th-match-336001/full-scorecard"
        ],
        [
         "Chargers",
         "Kings XI",
         "Kings XI",
         "7 wickets",
         "Hyderabad",
         "May 1, 2008",
         "Twenty20",
         "https://www.espncricinfo.com//series/indian-premier-league-2007-08-313494/deccan-chargers-vs-kings-xi-punjab-19th-match-335999/full-scorecard"
        ],
        [
         "RR",
         "KKR",
         "RR",
         "45 runs",
         "Jaipur",
         "May 1, 2008",
         "Twenty20",
         "https://www.espncricinfo.com//series/indian-premier-league-2007-08-313494/rajasthan-royals-vs-kolkata-knight-riders-18th-match-336000/full-scorecard"
        ],
        [
         "Daredevils",
         "RCB",
         "Daredevils",
         "10 runs",
         "Delhi",
         "Apr 30, 2008",
         "Twenty20",
         "https://www.espncricinfo.com//series/indian-premier-league-2007-08-313494/delhi-daredevils-vs-royal-challengers-bangalore-17th-match-335998/full-scorecard"
        ],
        [
         "KKR",
         "MI",
         "MI",
         "7 wickets",
         "Eden Gardens",
         "Apr 29, 2008",
         "Twenty20",
         "https://www.espncricinfo.com//series/indian-premier-league-2007-08-313494/kolkata-knight-riders-vs-mumbai-indians-16th-match-335997/full-scorecard"
        ],
        [
         "RCB",
         "CSK",
         "CSK",
         "13 runs",
         "Bengaluru",
         "Apr 28, 2008",
         "Twenty20",
         "https://www.espncricinfo.com//series/indian-premier-league-2007-08-313494/royal-challengers-bangalore-vs-chennai-super-kings-15th-match-335996/full-scorecard"
        ],
        [
         "MI",
         "Chargers",
         "Chargers",
         "10 wickets",
         "DY Patil",
         "Apr 27, 2008",
         "Twenty20",
         "https://www.espncricinfo.com//series/indian-premier-league-2007-08-313494/mumbai-indians-vs-deccan-chargers-14th-match-335994/full-scorecard"
        ],
        [
         "Kings XI",
         "Daredevils",
         "Kings XI",
         "4 wickets",
         "Mohali",
         "Apr 27, 2008",
         "Twenty20",
         "https://www.espncricinfo.com//series/indian-premier-league-2007-08-313494/kings-xi-punjab-vs-delhi-daredevils-13th-match-335995/full-scorecard"
        ],
        [
         "RCB",
         "RR",
         "RR",
         "7 wickets",
         "Bengaluru",
         "Apr 26, 2008",
         "Twenty20",
         "https://www.espncricinfo.com//series/indian-premier-league-2007-08-313494/royal-challengers-bangalore-vs-rajasthan-royals-12th-match-335992/full-scorecard"
        ],
        [
         "CSK",
         "KKR",
         "CSK",
         "9 wickets",
         "Chennai",
         "Apr 26, 2008",
         "Twenty20",
         "https://www.espncricinfo.com//series/indian-premier-league-2007-08-313494/chennai-super-kings-vs-kolkata-knight-riders-11th-match-335993/full-scorecard"
        ],
        [
         "Kings XI",
         "MI",
         "Kings XI",
         "66 runs",
         "Mohali",
         "Apr 25, 2008",
         "Twenty20",
         "https://www.espncricinfo.com//series/indian-premier-league-2007-08-313494/kings-xi-punjab-vs-mumbai-indians-10th-match-335991/full-scorecard"
        ],
        [
         "Chargers",
         "RR",
         "RR",
         "3 wickets",
         "Hyderabad",
         "Apr 24, 2008",
         "Twenty20",
         "https://www.espncricinfo.com//series/indian-premier-league-2007-08-313494/deccan-chargers-vs-rajasthan-royals-9th-match-335990/full-scorecard"
        ],
        [
         "CSK",
         "MI",
         "CSK",
         "6 runs",
         "Chennai",
         "Apr 23, 2008",
         "Twenty20",
         "https://www.espncricinfo.com//series/indian-premier-league-2007-08-313494/chennai-super-kings-vs-mumbai-indians-8th-match-335989/full-scorecard"
        ],
        [
         "Chargers",
         "Daredevils",
         "Daredevils",
         "9 wickets",
         "Hyderabad",
         "Apr 22, 2008",
         "Twenty20",
         "https://www.espncricinfo.com//series/indian-premier-league-2007-08-313494/deccan-chargers-vs-delhi-daredevils-7th-match-335988/full-scorecard"
        ],
        [
         "RR",
         "Kings XI",
         "RR",
         "6 wickets",
         "Jaipur",
         "Apr 21, 2008",
         "Twenty20",
         "https://www.espncricinfo.com//series/indian-premier-league-2007-08-313494/rajasthan-royals-vs-kings-xi-punjab-6th-match-335987/full-scorecard"
        ],
        [
         "MI",
         "RCB",
         "RCB",
         "5 wickets",
         "Wankhede",
         "Apr 20, 2008",
         "Twenty20",
         "https://www.espncricinfo.com//series/indian-premier-league-2007-08-313494/mumbai-indians-vs-royal-challengers-bangalore-5th-match-335985/full-scorecard"
        ],
        [
         "KKR",
         "Chargers",
         "KKR",
         "5 wickets",
         "Eden Gardens",
         "Apr 20, 2008",
         "Twenty20",
         "https://www.espncricinfo.com//series/indian-premier-league-2007-08-313494/kolkata-knight-riders-vs-deccan-chargers-4th-match-335986/full-scorecard"
        ],
        [
         "Daredevils",
         "RR",
         "Daredevils",
         "9 wickets",
         "Delhi",
         "Apr 19, 2008",
         "Twenty20",
         "https://www.espncricinfo.com//series/indian-premier-league-2007-08-313494/delhi-daredevils-vs-rajasthan-royals-3rd-match-335984/full-scorecard"
        ],
        [
         "Kings XI",
         "CSK",
         "CSK",
         "33 runs",
         "Mohali",
         "Apr 19, 2008",
         "Twenty20",
         "https://www.espncricinfo.com//series/indian-premier-league-2007-08-313494/kings-xi-punjab-vs-chennai-super-kings-2nd-match-335983/full-scorecard"
        ],
        [
         "RCB",
         "KKR",
         "KKR",
         "140 runs",
         "Bengaluru",
         "Apr 18, 2008",
         "Twenty20",
         "https://www.espncricinfo.com//series/indian-premier-league-2007-08-313494/royal-challengers-bangalore-vs-kolkata-knight-riders-1st-match-335982/full-scorecard"
        ]
       ],
       "datasetInfos": [],
       "dbfsResultPath": null,
       "isJsonSchema": true,
       "metadata": {},
       "overflow": false,
       "plotOptions": {
        "customPlotOptions": {},
        "displayType": "table",
        "pivotAggregation": null,
        "pivotColumns": null,
        "xColumns": null,
        "yColumns": null
       },
       "removedWidgets": [],
       "schema": [
        {
         "metadata": "{}",
         "name": "Team 1",
         "type": "\"string\""
        },
        {
         "metadata": "{}",
         "name": "Team 2",
         "type": "\"string\""
        },
        {
         "metadata": "{}",
         "name": "Winner",
         "type": "\"string\""
        },
        {
         "metadata": "{}",
         "name": "Result",
         "type": "\"string\""
        },
        {
         "metadata": "{}",
         "name": "Venue",
         "type": "\"string\""
        },
        {
         "metadata": "{}",
         "name": "Date",
         "type": "\"string\""
        },
        {
         "metadata": "{}",
         "name": "Format",
         "type": "\"string\""
        },
        {
         "metadata": "{}",
         "name": "URL",
         "type": "\"string\""
        }
       ],
       "type": "table"
      }
     },
     "output_type": "display_data"
    }
   ],
   "source": [
    "display(df)"
   ]
  },
  {
   "cell_type": "code",
   "execution_count": 0,
   "metadata": {
    "application/vnd.databricks.v1+cell": {
     "cellMetadata": {
      "byteLimit": 2048000,
      "rowLimit": 10000
     },
     "inputWidgets": {},
     "nuid": "cc99490c-e7e8-488c-a7ff-430d9096e24c",
     "showTitle": false,
     "title": ""
    }
   },
   "outputs": [
    {
     "output_type": "stream",
     "name": "stdout",
     "output_type": "stream",
     "text": [
      "Out[28]: DataFrame[Team 1: string, Team 2: string, Winner: string, Result: string, Venue: string, Date: string, Format: string, URL: string]"
     ]
    }
   ],
   "source": []
  },
  {
   "cell_type": "code",
   "execution_count": 0,
   "metadata": {
    "application/vnd.databricks.v1+cell": {
     "cellMetadata": {
      "byteLimit": 2048000,
      "rowLimit": 10000
     },
     "inputWidgets": {},
     "nuid": "9c04a878-7164-4534-adc4-c4a016b8f213",
     "showTitle": false,
     "title": ""
    }
   },
   "outputs": [],
   "source": [
    "df = spark.createDataFrame(df)"
   ]
  },
  {
   "cell_type": "code",
   "execution_count": 0,
   "metadata": {
    "application/vnd.databricks.v1+cell": {
     "cellMetadata": {
      "byteLimit": 2048000,
      "rowLimit": 10000
     },
     "inputWidgets": {},
     "nuid": "eeb28d52-5e2b-4f14-ae13-8f81280acd00",
     "showTitle": true,
     "title": "addition cal for every url to get the score card of every match"
    }
   },
   "outputs": [
    {
     "output_type": "stream",
     "name": "stdout",
     "output_type": "stream",
     "text": [
      "+----------+----------+----------+----------+------------+---------------+--------+--------------------+------------+----------+----------+\n|    Team 1|    Team 2|    Winner|    Result|       Venue|           Date|  Format|                 URL|match_number|match_type|match_date|\n+----------+----------+----------+----------+------------+---------------+--------+--------------------+------------+----------+----------+\n|       KKR|  Kings XI|       KKR|   28 runs|Eden Gardens|May 27-28, 2014|Twenty20|https://www.espnc...|      734043|qualifier1|      null|\n|        GT|       CSK|       CSK| 5 wickets|   Ahmedabad|May 28-29, 2023|Twenty20|https://www.espnc...|     1370353|     final|      null|\n|       RCB|       KKR|       KKR|  140 runs|   Bengaluru|   Apr 18, 2008|Twenty20|https://www.espnc...|      335982|      null|2008-04-18|\n|Daredevils|        RR|Daredevils| 9 wickets|       Delhi|   Apr 19, 2008|Twenty20|https://www.espnc...|      335984|      null|2008-04-19|\n|  Kings XI|       CSK|       CSK|   33 runs|      Mohali|   Apr 19, 2008|Twenty20|https://www.espnc...|      335983|      null|2008-04-19|\n|        MI|       RCB|       RCB| 5 wickets|    Wankhede|   Apr 20, 2008|Twenty20|https://www.espnc...|      335985|      null|2008-04-20|\n|       KKR|  Chargers|       KKR| 5 wickets|Eden Gardens|   Apr 20, 2008|Twenty20|https://www.espnc...|      335986|      null|2008-04-20|\n|        RR|  Kings XI|        RR| 6 wickets|      Jaipur|   Apr 21, 2008|Twenty20|https://www.espnc...|      335987|      null|2008-04-21|\n|  Chargers|Daredevils|Daredevils| 9 wickets|   Hyderabad|   Apr 22, 2008|Twenty20|https://www.espnc...|      335988|      null|2008-04-22|\n|       CSK|        MI|       CSK|    6 runs|     Chennai|   Apr 23, 2008|Twenty20|https://www.espnc...|      335989|      null|2008-04-23|\n|  Chargers|        RR|        RR| 3 wickets|   Hyderabad|   Apr 24, 2008|Twenty20|https://www.espnc...|      335990|      null|2008-04-24|\n|  Kings XI|        MI|  Kings XI|   66 runs|      Mohali|   Apr 25, 2008|Twenty20|https://www.espnc...|      335991|      null|2008-04-25|\n|       RCB|        RR|        RR| 7 wickets|   Bengaluru|   Apr 26, 2008|Twenty20|https://www.espnc...|      335992|      null|2008-04-26|\n|       CSK|       KKR|       CSK| 9 wickets|     Chennai|   Apr 26, 2008|Twenty20|https://www.espnc...|      335993|      null|2008-04-26|\n|        MI|  Chargers|  Chargers|10 wickets|    DY Patil|   Apr 27, 2008|Twenty20|https://www.espnc...|      335994|      null|2008-04-27|\n|  Kings XI|Daredevils|  Kings XI| 4 wickets|      Mohali|   Apr 27, 2008|Twenty20|https://www.espnc...|      335995|      null|2008-04-27|\n|       RCB|       CSK|       CSK|   13 runs|   Bengaluru|   Apr 28, 2008|Twenty20|https://www.espnc...|      335996|      null|2008-04-28|\n|       KKR|        MI|        MI| 7 wickets|Eden Gardens|   Apr 29, 2008|Twenty20|https://www.espnc...|      335997|      null|2008-04-29|\n|Daredevils|       RCB|Daredevils|   10 runs|       Delhi|   Apr 30, 2008|Twenty20|https://www.espnc...|      335998|      null|2008-04-30|\n|  Chargers|  Kings XI|  Kings XI| 7 wickets|   Hyderabad|    May 1, 2008|Twenty20|https://www.espnc...|      335999|      null|2008-05-01|\n+----------+----------+----------+----------+------------+---------------+--------+--------------------+------------+----------+----------+\nonly showing top 20 rows\n\n"
     ]
    }
   ],
   "source": [
    "from pyspark.sql.functions import col, expr, to_date\n",
    "\n",
    "# Applying transformations\n",
    "result_df = df.withColumn(\"match_number\", expr(\n",
    "    \"substring_index(substring_index(URL, '/full-scorecard', 1), '-', -1)\"\n",
    ")).withColumn(\"match_type\", expr(\"\"\"\n",
    "    CASE \n",
    "        WHEN URL LIKE '%eliminator%' OR \n",
    "             URL LIKE '%elimination-final%' OR\n",
    "             URL LIKE '%3rd-place-play-off%' THEN 'eliminator'\n",
    "        WHEN URL LIKE '%2nd-qualifying%' OR\n",
    "             URL LIKE '%qualifier-2%' OR\n",
    "             URL LIKE '%2nd-semi-final%' THEN 'qualifier2'\n",
    "        WHEN URL LIKE '%1st-semi-final%' OR\n",
    "             URL LIKE '%1st-qualifying%' OR\n",
    "             URL LIKE '%qualifier-1%' THEN 'qualifier1'\n",
    "        WHEN URL LIKE '%final%' THEN 'final'\n",
    "        ELSE NULL \n",
    "    END\n",
    "\"\"\")).withColumn(\"match_date\", to_date(col(\"date\"), \"MMM d, yyyy\"))\n",
    "\n",
    "# Ordering by match_date\n",
    "result_df = result_df.orderBy(\"match_date\")\n",
    "\n",
    "# Displaying the result\n",
    "result_df.show()\n"
   ]
  },
  {
   "cell_type": "code",
   "execution_count": 0,
   "metadata": {
    "application/vnd.databricks.v1+cell": {
     "cellMetadata": {
      "byteLimit": 2048000,
      "rowLimit": 10000
     },
     "inputWidgets": {},
     "nuid": "51ff7ee4-9f72-47de-ae54-483b6926a5bc",
     "showTitle": true,
     "title": "cleaning the data -naming for playoffs"
    }
   },
   "outputs": [
    {
     "output_type": "display_data",
     "data": {
      "text/plain": [
       "\u001B[0;31m---------------------------------------------------------------------------\u001B[0m\n",
       "\u001B[0;31mPythonException\u001B[0m                           Traceback (most recent call last)\n",
       "File \u001B[0;32m<command-4262647791955064>:43\u001B[0m\n",
       "\u001B[1;32m     40\u001B[0m result_df \u001B[38;5;241m=\u001B[39m result_df\u001B[38;5;241m.\u001B[39morderBy(\u001B[38;5;124m\"\u001B[39m\u001B[38;5;124mmatch_date\u001B[39m\u001B[38;5;124m\"\u001B[39m)\n",
       "\u001B[1;32m     42\u001B[0m \u001B[38;5;66;03m# Displaying the result\u001B[39;00m\n",
       "\u001B[0;32m---> 43\u001B[0m result_df\u001B[38;5;241m.\u001B[39mshow()\n",
       "\n",
       "File \u001B[0;32m/databricks/spark/python/pyspark/instrumentation_utils.py:48\u001B[0m, in \u001B[0;36m_wrap_function.<locals>.wrapper\u001B[0;34m(*args, **kwargs)\u001B[0m\n",
       "\u001B[1;32m     46\u001B[0m start \u001B[38;5;241m=\u001B[39m time\u001B[38;5;241m.\u001B[39mperf_counter()\n",
       "\u001B[1;32m     47\u001B[0m \u001B[38;5;28;01mtry\u001B[39;00m:\n",
       "\u001B[0;32m---> 48\u001B[0m     res \u001B[38;5;241m=\u001B[39m \u001B[43mfunc\u001B[49m\u001B[43m(\u001B[49m\u001B[38;5;241;43m*\u001B[39;49m\u001B[43margs\u001B[49m\u001B[43m,\u001B[49m\u001B[43m \u001B[49m\u001B[38;5;241;43m*\u001B[39;49m\u001B[38;5;241;43m*\u001B[39;49m\u001B[43mkwargs\u001B[49m\u001B[43m)\u001B[49m\n",
       "\u001B[1;32m     49\u001B[0m     logger\u001B[38;5;241m.\u001B[39mlog_success(\n",
       "\u001B[1;32m     50\u001B[0m         module_name, class_name, function_name, time\u001B[38;5;241m.\u001B[39mperf_counter() \u001B[38;5;241m-\u001B[39m start, signature\n",
       "\u001B[1;32m     51\u001B[0m     )\n",
       "\u001B[1;32m     52\u001B[0m     \u001B[38;5;28;01mreturn\u001B[39;00m res\n",
       "\n",
       "File \u001B[0;32m/databricks/spark/python/pyspark/sql/dataframe.py:920\u001B[0m, in \u001B[0;36mDataFrame.show\u001B[0;34m(self, n, truncate, vertical)\u001B[0m\n",
       "\u001B[1;32m    914\u001B[0m     \u001B[38;5;28;01mraise\u001B[39;00m PySparkTypeError(\n",
       "\u001B[1;32m    915\u001B[0m         error_class\u001B[38;5;241m=\u001B[39m\u001B[38;5;124m\"\u001B[39m\u001B[38;5;124mNOT_A_BOOLEAN\u001B[39m\u001B[38;5;124m\"\u001B[39m,\n",
       "\u001B[1;32m    916\u001B[0m         message_parameters\u001B[38;5;241m=\u001B[39m{\u001B[38;5;124m\"\u001B[39m\u001B[38;5;124marg_name\u001B[39m\u001B[38;5;124m\"\u001B[39m: \u001B[38;5;124m\"\u001B[39m\u001B[38;5;124mvertical\u001B[39m\u001B[38;5;124m\"\u001B[39m, \u001B[38;5;124m\"\u001B[39m\u001B[38;5;124marg_type\u001B[39m\u001B[38;5;124m\"\u001B[39m: \u001B[38;5;28mtype\u001B[39m(vertical)\u001B[38;5;241m.\u001B[39m\u001B[38;5;18m__name__\u001B[39m},\n",
       "\u001B[1;32m    917\u001B[0m     )\n",
       "\u001B[1;32m    919\u001B[0m \u001B[38;5;28;01mif\u001B[39;00m \u001B[38;5;28misinstance\u001B[39m(truncate, \u001B[38;5;28mbool\u001B[39m) \u001B[38;5;129;01mand\u001B[39;00m truncate:\n",
       "\u001B[0;32m--> 920\u001B[0m     \u001B[38;5;28mprint\u001B[39m(\u001B[38;5;28;43mself\u001B[39;49m\u001B[38;5;241;43m.\u001B[39;49m\u001B[43m_jdf\u001B[49m\u001B[38;5;241;43m.\u001B[39;49m\u001B[43mshowString\u001B[49m\u001B[43m(\u001B[49m\u001B[43mn\u001B[49m\u001B[43m,\u001B[49m\u001B[43m \u001B[49m\u001B[38;5;241;43m20\u001B[39;49m\u001B[43m,\u001B[49m\u001B[43m \u001B[49m\u001B[43mvertical\u001B[49m\u001B[43m)\u001B[49m)\n",
       "\u001B[1;32m    921\u001B[0m \u001B[38;5;28;01melse\u001B[39;00m:\n",
       "\u001B[1;32m    922\u001B[0m     \u001B[38;5;28;01mtry\u001B[39;00m:\n",
       "\n",
       "File \u001B[0;32m/databricks/spark/python/lib/py4j-0.10.9.5-src.zip/py4j/java_gateway.py:1321\u001B[0m, in \u001B[0;36mJavaMember.__call__\u001B[0;34m(self, *args)\u001B[0m\n",
       "\u001B[1;32m   1315\u001B[0m command \u001B[38;5;241m=\u001B[39m proto\u001B[38;5;241m.\u001B[39mCALL_COMMAND_NAME \u001B[38;5;241m+\u001B[39m\\\n",
       "\u001B[1;32m   1316\u001B[0m     \u001B[38;5;28mself\u001B[39m\u001B[38;5;241m.\u001B[39mcommand_header \u001B[38;5;241m+\u001B[39m\\\n",
       "\u001B[1;32m   1317\u001B[0m     args_command \u001B[38;5;241m+\u001B[39m\\\n",
       "\u001B[1;32m   1318\u001B[0m     proto\u001B[38;5;241m.\u001B[39mEND_COMMAND_PART\n",
       "\u001B[1;32m   1320\u001B[0m answer \u001B[38;5;241m=\u001B[39m \u001B[38;5;28mself\u001B[39m\u001B[38;5;241m.\u001B[39mgateway_client\u001B[38;5;241m.\u001B[39msend_command(command)\n",
       "\u001B[0;32m-> 1321\u001B[0m return_value \u001B[38;5;241m=\u001B[39m \u001B[43mget_return_value\u001B[49m\u001B[43m(\u001B[49m\n",
       "\u001B[1;32m   1322\u001B[0m \u001B[43m    \u001B[49m\u001B[43manswer\u001B[49m\u001B[43m,\u001B[49m\u001B[43m \u001B[49m\u001B[38;5;28;43mself\u001B[39;49m\u001B[38;5;241;43m.\u001B[39;49m\u001B[43mgateway_client\u001B[49m\u001B[43m,\u001B[49m\u001B[43m \u001B[49m\u001B[38;5;28;43mself\u001B[39;49m\u001B[38;5;241;43m.\u001B[39;49m\u001B[43mtarget_id\u001B[49m\u001B[43m,\u001B[49m\u001B[43m \u001B[49m\u001B[38;5;28;43mself\u001B[39;49m\u001B[38;5;241;43m.\u001B[39;49m\u001B[43mname\u001B[49m\u001B[43m)\u001B[49m\n",
       "\u001B[1;32m   1324\u001B[0m \u001B[38;5;28;01mfor\u001B[39;00m temp_arg \u001B[38;5;129;01min\u001B[39;00m temp_args:\n",
       "\u001B[1;32m   1325\u001B[0m     temp_arg\u001B[38;5;241m.\u001B[39m_detach()\n",
       "\n",
       "File \u001B[0;32m/databricks/spark/python/pyspark/errors/exceptions.py:234\u001B[0m, in \u001B[0;36mcapture_sql_exception.<locals>.deco\u001B[0;34m(*a, **kw)\u001B[0m\n",
       "\u001B[1;32m    230\u001B[0m converted \u001B[38;5;241m=\u001B[39m convert_exception(e\u001B[38;5;241m.\u001B[39mjava_exception)\n",
       "\u001B[1;32m    231\u001B[0m \u001B[38;5;28;01mif\u001B[39;00m \u001B[38;5;129;01mnot\u001B[39;00m \u001B[38;5;28misinstance\u001B[39m(converted, UnknownException):\n",
       "\u001B[1;32m    232\u001B[0m     \u001B[38;5;66;03m# Hide where the exception came from that shows a non-Pythonic\u001B[39;00m\n",
       "\u001B[1;32m    233\u001B[0m     \u001B[38;5;66;03m# JVM exception message.\u001B[39;00m\n",
       "\u001B[0;32m--> 234\u001B[0m     \u001B[38;5;28;01mraise\u001B[39;00m converted \u001B[38;5;28;01mfrom\u001B[39;00m \u001B[38;5;28mNone\u001B[39m\n",
       "\u001B[1;32m    235\u001B[0m \u001B[38;5;28;01melse\u001B[39;00m:\n",
       "\u001B[1;32m    236\u001B[0m     \u001B[38;5;28;01mraise\u001B[39;00m\n",
       "\n",
       "\u001B[0;31mPythonException\u001B[0m: \n",
       "  An exception was thrown from the Python worker. Please see the stack trace below.\n",
       "'AssertionError', from <command-4262647791955064>, line 13. Full traceback below:\n",
       "Traceback (most recent call last):\n",
       "  File \"<command-4262647791955064>\", line 13, in convert_date\n",
       "  File \"/databricks/spark/python/pyspark/sql/utils.py\", line 164, in wrapped\n",
       "    return f(*args, **kwargs)\n",
       "  File \"/databricks/spark/python/pyspark/sql/functions.py\", line 4926, in to_date\n",
       "    return _invoke_function(\"to_date\", _to_java_column(col), format)\n",
       "  File \"/databricks/spark/python/pyspark/sql/column.py\", line 64, in _to_java_column\n",
       "    jcol = _create_column_from_name(col)\n",
       "  File \"/databricks/spark/python/pyspark/sql/column.py\", line 56, in _create_column_from_name\n",
       "    assert sc is not None and sc._jvm is not None\n",
       "AssertionError\n"
      ]
     },
     "metadata": {
      "application/vnd.databricks.v1+output": {
       "arguments": {},
       "data": "\u001B[0;31m---------------------------------------------------------------------------\u001B[0m\n\u001B[0;31mPythonException\u001B[0m                           Traceback (most recent call last)\nFile \u001B[0;32m<command-4262647791955064>:43\u001B[0m\n\u001B[1;32m     40\u001B[0m result_df \u001B[38;5;241m=\u001B[39m result_df\u001B[38;5;241m.\u001B[39morderBy(\u001B[38;5;124m\"\u001B[39m\u001B[38;5;124mmatch_date\u001B[39m\u001B[38;5;124m\"\u001B[39m)\n\u001B[1;32m     42\u001B[0m \u001B[38;5;66;03m# Displaying the result\u001B[39;00m\n\u001B[0;32m---> 43\u001B[0m result_df\u001B[38;5;241m.\u001B[39mshow()\n\nFile \u001B[0;32m/databricks/spark/python/pyspark/instrumentation_utils.py:48\u001B[0m, in \u001B[0;36m_wrap_function.<locals>.wrapper\u001B[0;34m(*args, **kwargs)\u001B[0m\n\u001B[1;32m     46\u001B[0m start \u001B[38;5;241m=\u001B[39m time\u001B[38;5;241m.\u001B[39mperf_counter()\n\u001B[1;32m     47\u001B[0m \u001B[38;5;28;01mtry\u001B[39;00m:\n\u001B[0;32m---> 48\u001B[0m     res \u001B[38;5;241m=\u001B[39m \u001B[43mfunc\u001B[49m\u001B[43m(\u001B[49m\u001B[38;5;241;43m*\u001B[39;49m\u001B[43margs\u001B[49m\u001B[43m,\u001B[49m\u001B[43m \u001B[49m\u001B[38;5;241;43m*\u001B[39;49m\u001B[38;5;241;43m*\u001B[39;49m\u001B[43mkwargs\u001B[49m\u001B[43m)\u001B[49m\n\u001B[1;32m     49\u001B[0m     logger\u001B[38;5;241m.\u001B[39mlog_success(\n\u001B[1;32m     50\u001B[0m         module_name, class_name, function_name, time\u001B[38;5;241m.\u001B[39mperf_counter() \u001B[38;5;241m-\u001B[39m start, signature\n\u001B[1;32m     51\u001B[0m     )\n\u001B[1;32m     52\u001B[0m     \u001B[38;5;28;01mreturn\u001B[39;00m res\n\nFile \u001B[0;32m/databricks/spark/python/pyspark/sql/dataframe.py:920\u001B[0m, in \u001B[0;36mDataFrame.show\u001B[0;34m(self, n, truncate, vertical)\u001B[0m\n\u001B[1;32m    914\u001B[0m     \u001B[38;5;28;01mraise\u001B[39;00m PySparkTypeError(\n\u001B[1;32m    915\u001B[0m         error_class\u001B[38;5;241m=\u001B[39m\u001B[38;5;124m\"\u001B[39m\u001B[38;5;124mNOT_A_BOOLEAN\u001B[39m\u001B[38;5;124m\"\u001B[39m,\n\u001B[1;32m    916\u001B[0m         message_parameters\u001B[38;5;241m=\u001B[39m{\u001B[38;5;124m\"\u001B[39m\u001B[38;5;124marg_name\u001B[39m\u001B[38;5;124m\"\u001B[39m: \u001B[38;5;124m\"\u001B[39m\u001B[38;5;124mvertical\u001B[39m\u001B[38;5;124m\"\u001B[39m, \u001B[38;5;124m\"\u001B[39m\u001B[38;5;124marg_type\u001B[39m\u001B[38;5;124m\"\u001B[39m: \u001B[38;5;28mtype\u001B[39m(vertical)\u001B[38;5;241m.\u001B[39m\u001B[38;5;18m__name__\u001B[39m},\n\u001B[1;32m    917\u001B[0m     )\n\u001B[1;32m    919\u001B[0m \u001B[38;5;28;01mif\u001B[39;00m \u001B[38;5;28misinstance\u001B[39m(truncate, \u001B[38;5;28mbool\u001B[39m) \u001B[38;5;129;01mand\u001B[39;00m truncate:\n\u001B[0;32m--> 920\u001B[0m     \u001B[38;5;28mprint\u001B[39m(\u001B[38;5;28;43mself\u001B[39;49m\u001B[38;5;241;43m.\u001B[39;49m\u001B[43m_jdf\u001B[49m\u001B[38;5;241;43m.\u001B[39;49m\u001B[43mshowString\u001B[49m\u001B[43m(\u001B[49m\u001B[43mn\u001B[49m\u001B[43m,\u001B[49m\u001B[43m \u001B[49m\u001B[38;5;241;43m20\u001B[39;49m\u001B[43m,\u001B[49m\u001B[43m \u001B[49m\u001B[43mvertical\u001B[49m\u001B[43m)\u001B[49m)\n\u001B[1;32m    921\u001B[0m \u001B[38;5;28;01melse\u001B[39;00m:\n\u001B[1;32m    922\u001B[0m     \u001B[38;5;28;01mtry\u001B[39;00m:\n\nFile \u001B[0;32m/databricks/spark/python/lib/py4j-0.10.9.5-src.zip/py4j/java_gateway.py:1321\u001B[0m, in \u001B[0;36mJavaMember.__call__\u001B[0;34m(self, *args)\u001B[0m\n\u001B[1;32m   1315\u001B[0m command \u001B[38;5;241m=\u001B[39m proto\u001B[38;5;241m.\u001B[39mCALL_COMMAND_NAME \u001B[38;5;241m+\u001B[39m\\\n\u001B[1;32m   1316\u001B[0m     \u001B[38;5;28mself\u001B[39m\u001B[38;5;241m.\u001B[39mcommand_header \u001B[38;5;241m+\u001B[39m\\\n\u001B[1;32m   1317\u001B[0m     args_command \u001B[38;5;241m+\u001B[39m\\\n\u001B[1;32m   1318\u001B[0m     proto\u001B[38;5;241m.\u001B[39mEND_COMMAND_PART\n\u001B[1;32m   1320\u001B[0m answer \u001B[38;5;241m=\u001B[39m \u001B[38;5;28mself\u001B[39m\u001B[38;5;241m.\u001B[39mgateway_client\u001B[38;5;241m.\u001B[39msend_command(command)\n\u001B[0;32m-> 1321\u001B[0m return_value \u001B[38;5;241m=\u001B[39m \u001B[43mget_return_value\u001B[49m\u001B[43m(\u001B[49m\n\u001B[1;32m   1322\u001B[0m \u001B[43m    \u001B[49m\u001B[43manswer\u001B[49m\u001B[43m,\u001B[49m\u001B[43m \u001B[49m\u001B[38;5;28;43mself\u001B[39;49m\u001B[38;5;241;43m.\u001B[39;49m\u001B[43mgateway_client\u001B[49m\u001B[43m,\u001B[49m\u001B[43m \u001B[49m\u001B[38;5;28;43mself\u001B[39;49m\u001B[38;5;241;43m.\u001B[39;49m\u001B[43mtarget_id\u001B[49m\u001B[43m,\u001B[49m\u001B[43m \u001B[49m\u001B[38;5;28;43mself\u001B[39;49m\u001B[38;5;241;43m.\u001B[39;49m\u001B[43mname\u001B[49m\u001B[43m)\u001B[49m\n\u001B[1;32m   1324\u001B[0m \u001B[38;5;28;01mfor\u001B[39;00m temp_arg \u001B[38;5;129;01min\u001B[39;00m temp_args:\n\u001B[1;32m   1325\u001B[0m     temp_arg\u001B[38;5;241m.\u001B[39m_detach()\n\nFile \u001B[0;32m/databricks/spark/python/pyspark/errors/exceptions.py:234\u001B[0m, in \u001B[0;36mcapture_sql_exception.<locals>.deco\u001B[0;34m(*a, **kw)\u001B[0m\n\u001B[1;32m    230\u001B[0m converted \u001B[38;5;241m=\u001B[39m convert_exception(e\u001B[38;5;241m.\u001B[39mjava_exception)\n\u001B[1;32m    231\u001B[0m \u001B[38;5;28;01mif\u001B[39;00m \u001B[38;5;129;01mnot\u001B[39;00m \u001B[38;5;28misinstance\u001B[39m(converted, UnknownException):\n\u001B[1;32m    232\u001B[0m     \u001B[38;5;66;03m# Hide where the exception came from that shows a non-Pythonic\u001B[39;00m\n\u001B[1;32m    233\u001B[0m     \u001B[38;5;66;03m# JVM exception message.\u001B[39;00m\n\u001B[0;32m--> 234\u001B[0m     \u001B[38;5;28;01mraise\u001B[39;00m converted \u001B[38;5;28;01mfrom\u001B[39;00m \u001B[38;5;28mNone\u001B[39m\n\u001B[1;32m    235\u001B[0m \u001B[38;5;28;01melse\u001B[39;00m:\n\u001B[1;32m    236\u001B[0m     \u001B[38;5;28;01mraise\u001B[39;00m\n\n\u001B[0;31mPythonException\u001B[0m: \n  An exception was thrown from the Python worker. Please see the stack trace below.\n'AssertionError', from <command-4262647791955064>, line 13. Full traceback below:\nTraceback (most recent call last):\n  File \"<command-4262647791955064>\", line 13, in convert_date\n  File \"/databricks/spark/python/pyspark/sql/utils.py\", line 164, in wrapped\n    return f(*args, **kwargs)\n  File \"/databricks/spark/python/pyspark/sql/functions.py\", line 4926, in to_date\n    return _invoke_function(\"to_date\", _to_java_column(col), format)\n  File \"/databricks/spark/python/pyspark/sql/column.py\", line 64, in _to_java_column\n    jcol = _create_column_from_name(col)\n  File \"/databricks/spark/python/pyspark/sql/column.py\", line 56, in _create_column_from_name\n    assert sc is not None and sc._jvm is not None\nAssertionError\n",
       "errorSummary": "<span class='ansi-red-fg'>PythonException</span>: \n  An exception was thrown from the Python worker. Please see the stack trace below.\n'AssertionError', from <command-4262647791955064>, line 13. Full traceback below:\nTraceback (most recent call last):\n  File \"<command-4262647791955064>\", line 13, in convert_date\n  File \"/databricks/spark/python/pyspark/sql/utils.py\", line 164, in wrapped\n    return f(*args, **kwargs)\n  File \"/databricks/spark/python/pyspark/sql/functions.py\", line 4926, in to_date\n    return _invoke_function(\"to_date\", _to_java_column(col), format)\n  File \"/databricks/spark/python/pyspark/sql/column.py\", line 64, in _to_java_column\n    jcol = _create_column_from_name(col)\n  File \"/databricks/spark/python/pyspark/sql/column.py\", line 56, in _create_column_from_name\n    assert sc is not None and sc._jvm is not None\nAssertionError\n",
       "errorTraceType": "ansi",
       "metadata": {},
       "type": "ipynbError"
      }
     },
     "output_type": "display_data"
    }
   ],
   "source": [
    "from pyspark.sql import SparkSession\n",
    "from pyspark.sql.functions import col, expr, to_date\n",
    "\n",
    "# Create a SparkSession with the required configurations\n",
    "spark = SparkSession.builder \\\n",
    "    .appName(\"Date Conversion\") \\\n",
    "    .getOrCreate()\n",
    "\n",
    "# Custom function to convert date\n",
    "def convert_date(date_str):\n",
    "    # Check if the date contains a comma\n",
    "    if ',' in date_str:\n",
    "        return to_date(date_str, \"MMM dd, yyyy\")\n",
    "    else:\n",
    "        return to_date(date_str, \"MMM dd-yyyy\")\n",
    "\n",
    "# Register the function as a UDF\n",
    "spark.udf.register(\"convert_date_udf\", convert_date)\n",
    "\n",
    "# Applying transformations\n",
    "result_df = df.withColumn(\"match_number\", expr(\n",
    "    \"substring_index(substring_index(URL, '/full-scorecard', 1), '-', -1)\"\n",
    ")).withColumn(\"match_type\", expr(\"\"\"\n",
    "    CASE \n",
    "        WHEN URL LIKE '%eliminator%' OR \n",
    "             URL LIKE '%elimination-final%' OR\n",
    "             URL LIKE '%3rd-place-play-off%' THEN 'eliminator'\n",
    "        WHEN URL LIKE '%2nd-qualifying%' OR\n",
    "             URL LIKE '%qualifier-2%' OR\n",
    "             URL LIKE '%2nd-semi-final%' THEN 'qualifier2'\n",
    "        WHEN URL LIKE '%1st-semi-final%' OR\n",
    "             URL LIKE '%1st-qualifying%' OR\n",
    "             URL LIKE '%qualifier-1%' THEN 'qualifier1'\n",
    "        WHEN URL LIKE '%final%' THEN 'final'\n",
    "        ELSE NULL \n",
    "    END\n",
    "\"\"\")).withColumn(\"match_date\", expr(\"convert_date_udf(date)\"))\n",
    "\n",
    "# Ordering by match_date\n",
    "result_df = result_df.orderBy(\"match_date\")\n",
    "\n",
    "# Displaying the result\n",
    "result_df.show()\n",
    "\n",
    "# Stop the SparkSession\n"
   ]
  },
  {
   "cell_type": "code",
   "execution_count": 0,
   "metadata": {
    "application/vnd.databricks.v1+cell": {
     "cellMetadata": {
      "byteLimit": 2048000,
      "rowLimit": 10000
     },
     "inputWidgets": {},
     "nuid": "247419c8-eb88-4767-87b2-5a1c8bb12f3f",
     "showTitle": false,
     "title": ""
    }
   },
   "outputs": [
    {
     "output_type": "execute_result",
     "data": {
      "text/plain": [
       "<bound method DataFrame.count of           Team 1  ...                                                URL\n",
       "0             GT  ...  https://www.espncricinfo.com//series/indian-pr...\n",
       "1             GT  ...  https://www.espncricinfo.com//series/indian-pr...\n",
       "2            LSG  ...  https://www.espncricinfo.com//series/indian-pr...\n",
       "3            CSK  ...  https://www.espncricinfo.com//series/indian-pr...\n",
       "4            RCB  ...  https://www.espncricinfo.com//series/indian-pr...\n",
       "...          ...  ...                                                ...\n",
       "1020          MI  ...  https://www.espncricinfo.com//series/indian-pr...\n",
       "1021         KKR  ...  https://www.espncricinfo.com//series/indian-pr...\n",
       "1022  Daredevils  ...  https://www.espncricinfo.com//series/indian-pr...\n",
       "1023    Kings XI  ...  https://www.espncricinfo.com//series/indian-pr...\n",
       "1024         RCB  ...  https://www.espncricinfo.com//series/indian-pr...\n",
       "\n",
       "[1024 rows x 8 columns]>"
      ]
     },
     "execution_count": 56,
     "metadata": {},
     "output_type": "execute_result"
    }
   ],
   "source": [
    "# Assuming df is your DataFrame\n",
    "url_to_remove = \"https://www.espncricinfo.com//series/ipl-2017-1078425/rising-pune-supergiant-vs-kolkata-knight-riders-30th-match-1082620/full-scorecard\"\n",
    "df = df[df['URL'] != url_to_remove]\n",
    "df.count\n"
   ]
  },
  {
   "cell_type": "code",
   "execution_count": 0,
   "metadata": {
    "application/vnd.databricks.v1+cell": {
     "cellMetadata": {
      "byteLimit": 2048000,
      "rowLimit": 10000
     },
     "inputWidgets": {},
     "nuid": "a2f74c2e-1573-47c9-b0cc-bc885fd001b7",
     "showTitle": true,
     "title": "bowling and batting status for each match"
    }
   },
   "outputs": [
    {
     "output_type": "stream",
     "name": "stdout",
     "output_type": "stream",
     "text": [
      "Processing URL 1: https://www.espncricinfo.com//series/indian-premier-league-2023-1345038/gujarat-titans-vs-chennai-super-kings-final-1370353/full-scorecard\nProcessing URL 2: https://www.espncricinfo.com//series/indian-premier-league-2023-1345038/gujarat-titans-vs-mumbai-indians-qualifier-2-1370352/full-scorecard\nProcessing URL 3: https://www.espncricinfo.com//series/indian-premier-league-2023-1345038/lucknow-super-giants-vs-mumbai-indians-eliminator-1370351/full-scorecard\nProcessing URL 4: https://www.espncricinfo.com//series/indian-premier-league-2023-1345038/chennai-super-kings-vs-gujarat-titans-qualifier-1-1370350/full-scorecard\nProcessing URL 5: https://www.espncricinfo.com//series/indian-premier-league-2023-1345038/royal-challengers-bangalore-vs-gujarat-titans-70th-match-1359544/full-scorecard\nProcessing URL 6: https://www.espncricinfo.com//series/indian-premier-league-2023-1345038/mumbai-indians-vs-sunrisers-hyderabad-69th-match-1359543/full-scorecard\nProcessing URL 7: https://www.espncricinfo.com//series/indian-premier-league-2023-1345038/kolkata-knight-riders-vs-lucknow-super-giants-68th-match-1359542/full-scorecard\nProcessing URL 8: https://www.espncricinfo.com//series/indian-premier-league-2023-1345038/delhi-capitals-vs-chennai-super-kings-67th-match-1359541/full-scorecard\nProcessing URL 9: https://www.espncricinfo.com//series/indian-premier-league-2023-1345038/punjab-kings-vs-rajasthan-royals-66th-match-1359540/full-scorecard\nProcessing URL 10: https://www.espncricinfo.com//series/indian-premier-league-2023-1345038/sunrisers-hyderabad-vs-royal-challengers-bangalore-65th-match-1359539/full-scorecard\nProcessing URL 11: https://www.espncricinfo.com//series/indian-premier-league-2023-1345038/punjab-kings-vs-delhi-capitals-64th-match-1359538/full-scorecard\nProcessing URL 12: https://www.espncricinfo.com//series/indian-premier-league-2023-1345038/lucknow-super-giants-vs-mumbai-indians-63rd-match-1359537/full-scorecard\nProcessing URL 13: https://www.espncricinfo.com//series/indian-premier-league-2023-1345038/gujarat-titans-vs-sunrisers-hyderabad-62nd-match-1359536/full-scorecard\nProcessing URL 14: https://www.espncricinfo.com//series/indian-premier-league-2023-1345038/chennai-super-kings-vs-kolkata-knight-riders-61st-match-1359535/full-scorecard\nProcessing URL 15: https://www.espncricinfo.com//series/indian-premier-league-2023-1345038/rajasthan-royals-vs-royal-challengers-bangalore-60th-match-1359534/full-scorecard\nProcessing URL 16: https://www.espncricinfo.com//series/indian-premier-league-2023-1345038/delhi-capitals-vs-punjab-kings-59th-match-1359533/full-scorecard\nProcessing URL 17: https://www.espncricinfo.com//series/indian-premier-league-2023-1345038/sunrisers-hyderabad-vs-lucknow-super-giants-58th-match-1359532/full-scorecard\nProcessing URL 18: https://www.espncricinfo.com//series/indian-premier-league-2023-1345038/mumbai-indians-vs-gujarat-titans-57th-match-1359531/full-scorecard\nProcessing URL 19: https://www.espncricinfo.com//series/indian-premier-league-2023-1345038/kolkata-knight-riders-vs-rajasthan-royals-56th-match-1359530/full-scorecard\nProcessing URL 20: https://www.espncricinfo.com//series/indian-premier-league-2023-1345038/chennai-super-kings-vs-delhi-capitals-55th-match-1359529/full-scorecard\nProcessing URL 21: https://www.espncricinfo.com//series/indian-premier-league-2023-1345038/mumbai-indians-vs-royal-challengers-bangalore-54th-match-1359528/full-scorecard\nProcessing URL 22: https://www.espncricinfo.com//series/indian-premier-league-2023-1345038/kolkata-knight-riders-vs-punjab-kings-53rd-match-1359527/full-scorecard\nProcessing URL 23: https://www.espncricinfo.com//series/indian-premier-league-2023-1345038/rajasthan-royals-vs-sunrisers-hyderabad-52nd-match-1359526/full-scorecard\nProcessing URL 24: https://www.espncricinfo.com//series/indian-premier-league-2023-1345038/gujarat-titans-vs-lucknow-super-giants-51st-match-1359525/full-scorecard\nProcessing URL 25: https://www.espncricinfo.com//series/indian-premier-league-2023-1345038/delhi-capitals-vs-royal-challengers-bangalore-50th-match-1359524/full-scorecard\nProcessing URL 26: https://www.espncricinfo.com//series/indian-premier-league-2023-1345038/chennai-super-kings-vs-mumbai-indians-49th-match-1359523/full-scorecard\nProcessing URL 27: https://www.espncricinfo.com//series/indian-premier-league-2023-1345038/rajasthan-royals-vs-gujarat-titans-48th-match-1359522/full-scorecard\nProcessing URL 28: https://www.espncricinfo.com//series/indian-premier-league-2023-1345038/sunrisers-hyderabad-vs-kolkata-knight-riders-47th-match-1359521/full-scorecard\nProcessing URL 29: https://www.espncricinfo.com//series/indian-premier-league-2023-1345038/punjab-kings-vs-mumbai-indians-46th-match-1359520/full-scorecard\nProcessing URL 30: https://www.espncricinfo.com//series/indian-premier-league-2023-1345038/lucknow-super-giants-vs-chennai-super-kings-45th-match-1359519/full-scorecard\nProcessing URL 31: https://www.espncricinfo.com//series/indian-premier-league-2023-1345038/gujarat-titans-vs-delhi-capitals-44th-match-1359518/full-scorecard\nProcessing URL 32: https://www.espncricinfo.com//series/indian-premier-league-2023-1345038/lucknow-super-giants-vs-royal-challengers-bangalore-43rd-match-1359517/full-scorecard\nProcessing URL 33: https://www.espncricinfo.com//series/indian-premier-league-2023-1345038/mumbai-indians-vs-rajasthan-royals-42nd-match-1359516/full-scorecard\nProcessing URL 34: https://www.espncricinfo.com//series/indian-premier-league-2023-1345038/chennai-super-kings-vs-punjab-kings-41st-match-1359515/full-scorecard\nProcessing URL 35: https://www.espncricinfo.com//series/indian-premier-league-2023-1345038/delhi-capitals-vs-sunrisers-hyderabad-40th-match-1359514/full-scorecard\nProcessing URL 36: https://www.espncricinfo.com//series/indian-premier-league-2023-1345038/kolkata-knight-riders-vs-gujarat-titans-39th-match-1359513/full-scorecard\nProcessing URL 37: https://www.espncricinfo.com//series/indian-premier-league-2023-1345038/punjab-kings-vs-lucknow-super-giants-38th-match-1359512/full-scorecard\nProcessing URL 38: https://www.espncricinfo.com//series/indian-premier-league-2023-1345038/rajasthan-royals-vs-chennai-super-kings-37th-match-1359511/full-scorecard\nProcessing URL 39: https://www.espncricinfo.com//series/indian-premier-league-2023-1345038/royal-challengers-bangalore-vs-kolkata-knight-riders-36th-match-1359510/full-scorecard\nProcessing URL 40: https://www.espncricinfo.com//series/indian-premier-league-2023-1345038/gujarat-titans-vs-mumbai-indians-35th-match-1359509/full-scorecard\nProcessing URL 41: https://www.espncricinfo.com//series/indian-premier-league-2023-1345038/sunrisers-hyderabad-vs-delhi-capitals-34th-match-1359508/full-scorecard\nProcessing URL 42: https://www.espncricinfo.com//series/indian-premier-league-2023-1345038/kolkata-knight-riders-vs-chennai-super-kings-33rd-match-1359507/full-scorecard\nProcessing URL 43: https://www.espncricinfo.com//series/indian-premier-league-2023-1345038/royal-challengers-bangalore-vs-rajasthan-royals-32nd-match-1359506/full-scorecard\nProcessing URL 44: https://www.espncricinfo.com//series/indian-premier-league-2023-1345038/mumbai-indians-vs-punjab-kings-31st-match-1359505/full-scorecard\nProcessing URL 45: https://www.espncricinfo.com//series/indian-premier-league-2023-1345038/lucknow-super-giants-vs-gujarat-titans-30th-match-1359504/full-scorecard\nProcessing URL 46: https://www.espncricinfo.com//series/indian-premier-league-2023-1345038/chennai-super-kings-vs-sunrisers-hyderabad-29th-match-1359503/full-scorecard\nProcessing URL 47: https://www.espncricinfo.com//series/indian-premier-league-2023-1345038/delhi-capitals-vs-kolkata-knight-riders-28th-match-1359502/full-scorecard\nProcessing URL 48: https://www.espncricinfo.com//series/indian-premier-league-2023-1345038/punjab-kings-vs-royal-challengers-bangalore-27th-match-1359501/full-scorecard\nProcessing URL 49: https://www.espncricinfo.com//series/indian-premier-league-2023-1345038/rajasthan-royals-vs-lucknow-super-giants-26th-match-1359500/full-scorecard\nProcessing URL 50: https://www.espncricinfo.com//series/indian-premier-league-2023-1345038/sunrisers-hyderabad-vs-mumbai-indians-25th-match-1359499/full-scorecard\nProcessing URL 51: https://www.espncricinfo.com//series/indian-premier-league-2023-1345038/royal-challengers-bangalore-vs-chennai-super-kings-24th-match-1359498/full-scorecard\nProcessing URL 52: https://www.espncricinfo.com//series/indian-premier-league-2023-1345038/gujarat-titans-vs-rajasthan-royals-23rd-match-1359497/full-scorecard\nProcessing URL 53: https://www.espncricinfo.com//series/indian-premier-league-2023-1345038/mumbai-indians-vs-kolkata-knight-riders-22nd-match-1359496/full-scorecard\nProcessing URL 54: https://www.espncricinfo.com//series/indian-premier-league-2023-1345038/lucknow-super-giants-vs-punjab-kings-21st-match-1359495/full-scorecard\nProcessing URL 55: https://www.espncricinfo.com//series/indian-premier-league-2023-1345038/royal-challengers-bangalore-vs-delhi-capitals-20th-match-1359494/full-scorecard\nProcessing URL 56: https://www.espncricinfo.com//series/indian-premier-league-2023-1345038/kolkata-knight-riders-vs-sunrisers-hyderabad-19th-match-1359493/full-scorecard\nProcessing URL 57: https://www.espncricinfo.com//series/indian-premier-league-2023-1345038/punjab-kings-vs-gujarat-titans-18th-match-1359492/full-scorecard\nProcessing URL 58: https://www.espncricinfo.com//series/indian-premier-league-2023-1345038/chennai-super-kings-vs-rajasthan-royals-17th-match-1359491/full-scorecard\nProcessing URL 59: https://www.espncricinfo.com//series/indian-premier-league-2023-1345038/delhi-capitals-vs-mumbai-indians-16th-match-1359490/full-scorecard\nProcessing URL 60: https://www.espncricinfo.com//series/indian-premier-league-2023-1345038/royal-challengers-bangalore-vs-lucknow-super-giants-15th-match-1359489/full-scorecard\nProcessing URL 61: https://www.espncricinfo.com//series/indian-premier-league-2023-1345038/sunrisers-hyderabad-vs-punjab-kings-14th-match-1359488/full-scorecard\nProcessing URL 62: https://www.espncricinfo.com//series/indian-premier-league-2023-1345038/gujarat-titans-vs-kolkata-knight-riders-13th-match-1359487/full-scorecard\nProcessing URL 63: https://www.espncricinfo.com//series/indian-premier-league-2023-1345038/mumbai-indians-vs-chennai-super-kings-12th-match-1359486/full-scorecard\nProcessing URL 64: https://www.espncricinfo.com//series/indian-premier-league-2023-1345038/rajasthan-royals-vs-delhi-capitals-11th-match-1359485/full-scorecard\nProcessing URL 65: https://www.espncricinfo.com//series/indian-premier-league-2023-1345038/lucknow-super-giants-vs-sunrisers-hyderabad-10th-match-1359484/full-scorecard\nProcessing URL 66: https://www.espncricinfo.com//series/indian-premier-league-2023-1345038/kolkata-knight-riders-vs-royal-challengers-bangalore-9th-match-1359483/full-scorecard\nProcessing URL 67: https://www.espncricinfo.com//series/indian-premier-league-2023-1345038/rajasthan-royals-vs-punjab-kings-8th-match-1359482/full-scorecard\nProcessing URL 68: https://www.espncricinfo.com//series/indian-premier-league-2023-1345038/delhi-capitals-vs-gujarat-titans-7th-match-1359481/full-scorecard\nProcessing URL 69: https://www.espncricinfo.com//series/indian-premier-league-2023-1345038/chennai-super-kings-vs-lucknow-super-giants-6th-match-1359480/full-scorecard\nProcessing URL 70: https://www.espncricinfo.com//series/indian-premier-league-2023-1345038/royal-challengers-bangalore-vs-mumbai-indians-5th-match-1359479/full-scorecard\nProcessing URL 71: https://www.espncricinfo.com//series/indian-premier-league-2023-1345038/sunrisers-hyderabad-vs-rajasthan-royals-4th-match-1359478/full-scorecard\nProcessing URL 72: https://www.espncricinfo.com//series/indian-premier-league-2023-1345038/lucknow-super-giants-vs-delhi-capitals-3rd-match-1359477/full-scorecard\nProcessing URL 73: https://www.espncricinfo.com//series/indian-premier-league-2023-1345038/punjab-kings-vs-kolkata-knight-riders-2nd-match-1359476/full-scorecard\nProcessing URL 74: https://www.espncricinfo.com//series/indian-premier-league-2023-1345038/gujarat-titans-vs-chennai-super-kings-1st-match-1359475/full-scorecard\nProcessing URL 75: https://www.espncricinfo.com//series/indian-premier-league-2022-1298423/gujarat-titans-vs-rajasthan-royals-final-1312200/full-scorecard\nProcessing URL 76: https://www.espncricinfo.com//series/indian-premier-league-2022-1298423/rajasthan-royals-vs-royal-challengers-bangalore-qualifier-2-1312199/full-scorecard\nProcessing URL 77: https://www.espncricinfo.com//series/indian-premier-league-2022-1298423/lucknow-super-giants-vs-royal-challengers-bangalore-eliminator-1312198/full-scorecard\nProcessing URL 78: https://www.espncricinfo.com//series/indian-premier-league-2022-1298423/gujarat-titans-vs-rajasthan-royals-qualifier-1-1312197/full-scorecard\nProcessing URL 79: https://www.espncricinfo.com//series/indian-premier-league-2022-1298423/sunrisers-hyderabad-vs-punjab-kings-70th-match-1304116/full-scorecard\nProcessing URL 80: https://www.espncricinfo.com//series/indian-premier-league-2022-1298423/mumbai-indians-vs-delhi-capitals-69th-match-1304115/full-scorecard\nProcessing URL 81: https://www.espncricinfo.com//series/indian-premier-league-2022-1298423/rajasthan-royals-vs-chennai-super-kings-68th-match-1304114/full-scorecard\nProcessing URL 82: https://www.espncricinfo.com//series/indian-premier-league-2022-1298423/royal-challengers-bangalore-vs-gujarat-titans-67th-match-1304113/full-scorecard\nProcessing URL 83: https://www.espncricinfo.com//series/indian-premier-league-2022-1298423/kolkata-knight-riders-vs-lucknow-super-giants-66th-match-1304112/full-scorecard\nProcessing URL 84: https://www.espncricinfo.com//series/indian-premier-league-2022-1298423/mumbai-indians-vs-sunrisers-hyderabad-65th-match-1304111/full-scorecard\nProcessing URL 85: https://www.espncricinfo.com//series/indian-premier-league-2022-1298423/punjab-kings-vs-delhi-capitals-64th-match-1304110/full-scorecard\nProcessing URL 86: https://www.espncricinfo.com//series/indian-premier-league-2022-1298423/lucknow-super-giants-vs-rajasthan-royals-63rd-match-1304109/full-scorecard\nProcessing URL 87: https://www.espncricinfo.com//series/indian-premier-league-2022-1298423/chennai-super-kings-vs-gujarat-titans-62nd-match-1304108/full-scorecard\nProcessing URL 88: https://www.espncricinfo.com//series/indian-premier-league-2022-1298423/kolkata-knight-riders-vs-sunrisers-hyderabad-61st-match-1304107/full-scorecard\nProcessing URL 89: https://www.espncricinfo.com//series/indian-premier-league-2022-1298423/royal-challengers-bangalore-vs-punjab-kings-60th-match-1304106/full-scorecard\nProcessing URL 90: https://www.espncricinfo.com//series/indian-premier-league-2022-1298423/chennai-super-kings-vs-mumbai-indians-59th-match-1304105/full-scorecard\nProcessing URL 91: https://www.espncricinfo.com//series/indian-premier-league-2022-1298423/rajasthan-royals-vs-delhi-capitals-58th-match-1304104/full-scorecard\nProcessing URL 92: https://www.espncricinfo.com//series/indian-premier-league-2022-1298423/lucknow-super-giants-vs-gujarat-titans-57th-match-1304103/full-scorecard\nProcessing URL 93: https://www.espncricinfo.com//series/indian-premier-league-2022-1298423/mumbai-indians-vs-kolkata-knight-riders-56th-match-1304102/full-scorecard\nProcessing URL 94: https://www.espncricinfo.com//series/indian-premier-league-2022-1298423/chennai-super-kings-vs-delhi-capitals-55th-match-1304101/full-scorecard\nProcessing URL 95: https://www.espncricinfo.com//series/indian-premier-league-2022-1298423/sunrisers-hyderabad-vs-royal-challengers-bangalore-54th-match-1304100/full-scorecard\nProcessing URL 96: https://www.espncricinfo.com//series/indian-premier-league-2022-1298423/lucknow-super-giants-vs-kolkata-knight-riders-53rd-match-1304099/full-scorecard\nProcessing URL 97: https://www.espncricinfo.com//series/indian-premier-league-2022-1298423/punjab-kings-vs-rajasthan-royals-52nd-match-1304098/full-scorecard\nProcessing URL 98: https://www.espncricinfo.com//series/indian-premier-league-2022-1298423/gujarat-titans-vs-mumbai-indians-51st-match-1304097/full-scorecard\nProcessing URL 99: https://www.espncricinfo.com//series/indian-premier-league-2022-1298423/delhi-capitals-vs-sunrisers-hyderabad-50th-match-1304096/full-scorecard\nProcessing URL 100: https://www.espncricinfo.com//series/indian-premier-league-2022-1298423/royal-challengers-bangalore-vs-chennai-super-kings-49th-match-1304095/full-scorecard\nProcessing URL 101: https://www.espncricinfo.com//series/indian-premier-league-2022-1298423/gujarat-titans-vs-punjab-kings-48th-match-1304094/full-scorecard\nProcessing URL 102: https://www.espncricinfo.com//series/indian-premier-league-2022-1298423/kolkata-knight-riders-vs-rajasthan-royals-47th-match-1304093/full-scorecard\nProcessing URL 103: https://www.espncricinfo.com//series/indian-premier-league-2022-1298423/sunrisers-hyderabad-vs-chennai-super-kings-46th-match-1304092/full-scorecard\nProcessing URL 104: https://www.espncricinfo.com//series/indian-premier-league-2022-1298423/delhi-capitals-vs-lucknow-super-giants-45th-match-1304091/full-scorecard\nProcessing URL 105: https://www.espncricinfo.com//series/indian-premier-league-2022-1298423/rajasthan-royals-vs-mumbai-indians-44th-match-1304090/full-scorecard\nProcessing URL 106: https://www.espncricinfo.com//series/indian-premier-league-2022-1298423/gujarat-titans-vs-royal-challengers-bangalore-43rd-match-1304089/full-scorecard\nProcessing URL 107: https://www.espncricinfo.com//series/indian-premier-league-2022-1298423/punjab-kings-vs-lucknow-super-giants-42nd-match-1304088/full-scorecard\nProcessing URL 108: https://www.espncricinfo.com//series/indian-premier-league-2022-1298423/delhi-capitals-vs-kolkata-knight-riders-41st-match-1304087/full-scorecard\nProcessing URL 109: https://www.espncricinfo.com//series/indian-premier-league-2022-1298423/gujarat-titans-vs-sunrisers-hyderabad-40th-match-1304086/full-scorecard\nProcessing URL 110: https://www.espncricinfo.com//series/indian-premier-league-2022-1298423/royal-challengers-bangalore-vs-rajasthan-royals-39th-match-1304085/full-scorecard\nProcessing URL 111: https://www.espncricinfo.com//series/indian-premier-league-2022-1298423/punjab-kings-vs-chennai-super-kings-38th-match-1304084/full-scorecard\nProcessing URL 112: https://www.espncricinfo.com//series/indian-premier-league-2022-1298423/lucknow-super-giants-vs-mumbai-indians-37th-match-1304083/full-scorecard\nProcessing URL 113: https://www.espncricinfo.com//series/indian-premier-league-2022-1298423/royal-challengers-bangalore-vs-sunrisers-hyderabad-36th-match-1304082/full-scorecard\nProcessing URL 114: https://www.espncricinfo.com//series/indian-premier-league-2022-1298423/kolkata-knight-riders-vs-gujarat-titans-35th-match-1304081/full-scorecard\nProcessing URL 115: https://www.espncricinfo.com//series/indian-premier-league-2022-1298423/delhi-capitals-vs-rajasthan-royals-34th-match-1304080/full-scorecard\nProcessing URL 116: https://www.espncricinfo.com//series/indian-premier-league-2022-1298423/mumbai-indians-vs-chennai-super-kings-33rd-match-1304079/full-scorecard\nProcessing URL 117: https://www.espncricinfo.com//series/indian-premier-league-2022-1298423/delhi-capitals-vs-punjab-kings-32nd-match-1304078/full-scorecard\nProcessing URL 118: https://www.espncricinfo.com//series/indian-premier-league-2022-1298423/lucknow-super-giants-vs-royal-challengers-bangalore-31st-match-1304077/full-scorecard\nProcessing URL 119: https://www.espncricinfo.com//series/indian-premier-league-2022-1298423/rajasthan-royals-vs-kolkata-knight-riders-30th-match-1304076/full-scorecard\nProcessing URL 120: https://www.espncricinfo.com//series/indian-premier-league-2022-1298423/gujarat-titans-vs-chennai-super-kings-29th-match-1304075/full-scorecard\nProcessing URL 121: https://www.espncricinfo.com//series/indian-premier-league-2022-1298423/punjab-kings-vs-sunrisers-hyderabad-28th-match-1304074/full-scorecard\nProcessing URL 122: https://www.espncricinfo.com//series/indian-premier-league-2022-1298423/delhi-capitals-vs-royal-challengers-bangalore-27th-match-1304073/full-scorecard\nProcessing URL 123: https://www.espncricinfo.com//series/indian-premier-league-2022-1298423/mumbai-indians-vs-lucknow-super-giants-26th-match-1304072/full-scorecard\nProcessing URL 124: https://www.espncricinfo.com//series/indian-premier-league-2022-1298423/sunrisers-hyderabad-vs-kolkata-knight-riders-25th-match-1304071/full-scorecard\nProcessing URL 125: https://www.espncricinfo.com//series/indian-premier-league-2022-1298423/rajasthan-royals-vs-gujarat-titans-24th-match-1304070/full-scorecard\nProcessing URL 126: https://www.espncricinfo.com//series/indian-premier-league-2022-1298423/mumbai-indians-vs-punjab-kings-23rd-match-1304069/full-scorecard\nProcessing URL 127: https://www.espncricinfo.com//series/indian-premier-league-2022-1298423/chennai-super-kings-vs-royal-challengers-bangalore-22nd-match-1304068/full-scorecard\nProcessing URL 128: https://www.espncricinfo.com//series/indian-premier-league-2022-1298423/sunrisers-hyderabad-vs-gujarat-titans-21st-match-1304067/full-scorecard\nProcessing URL 129: https://www.espncricinfo.com//series/indian-premier-league-2022-1298423/rajasthan-royals-vs-lucknow-super-giants-20th-match-1304066/full-scorecard\nProcessing URL 130: https://www.espncricinfo.com//series/indian-premier-league-2022-1298423/kolkata-knight-riders-vs-delhi-capitals-19th-match-1304065/full-scorecard\nProcessing URL 131: https://www.espncricinfo.com//series/indian-premier-league-2022-1298423/royal-challengers-bangalore-vs-mumbai-indians-18th-match-1304064/full-scorecard\nProcessing URL 132: https://www.espncricinfo.com//series/indian-premier-league-2022-1298423/chennai-super-kings-vs-sunrisers-hyderabad-17th-match-1304063/full-scorecard\nProcessing URL 133: https://www.espncricinfo.com//series/indian-premier-league-2022-1298423/punjab-kings-vs-gujarat-titans-16th-match-1304062/full-scorecard\nProcessing URL 134: https://www.espncricinfo.com//series/indian-premier-league-2022-1298423/lucknow-super-giants-vs-delhi-capitals-15th-match-1304061/full-scorecard\nProcessing URL 135: https://www.espncricinfo.com//series/indian-premier-league-2022-1298423/kolkata-knight-riders-vs-mumbai-indians-14th-match-1304060/full-scorecard\nProcessing URL 136: https://www.espncricinfo.com//series/indian-premier-league-2022-1298423/rajasthan-royals-vs-royal-challengers-bangalore-13th-match-1304059/full-scorecard\nProcessing URL 137: https://www.espncricinfo.com//series/indian-premier-league-2022-1298423/sunrisers-hyderabad-vs-lucknow-super-giants-12th-match-1304058/full-scorecard\nProcessing URL 138: https://www.espncricinfo.com//series/indian-premier-league-2022-1298423/chennai-super-kings-vs-punjab-kings-11th-match-1304057/full-scorecard\nProcessing URL 139: https://www.espncricinfo.com//series/indian-premier-league-2022-1298423/gujarat-titans-vs-delhi-capitals-10th-match-1304056/full-scorecard\nProcessing URL 140: https://www.espncricinfo.com//series/indian-premier-league-2022-1298423/mumbai-indians-vs-rajasthan-royals-9th-match-1304055/full-scorecard\nProcessing URL 141: https://www.espncricinfo.com//series/indian-premier-league-2022-1298423/kolkata-knight-riders-vs-punjab-kings-8th-match-1304054/full-scorecard\nProcessing URL 142: https://www.espncricinfo.com//series/indian-premier-league-2022-1298423/lucknow-super-giants-vs-chennai-super-kings-7th-match-1304053/full-scorecard\nProcessing URL 143: https://www.espncricinfo.com//series/indian-premier-league-2022-1298423/royal-challengers-bangalore-vs-kolkata-knight-riders-6th-match-1304052/full-scorecard\nProcessing URL 144: https://www.espncricinfo.com//series/indian-premier-league-2022-1298423/sunrisers-hyderabad-vs-rajasthan-royals-5th-match-1304051/full-scorecard\nProcessing URL 145: https://www.espncricinfo.com//series/indian-premier-league-2022-1298423/gujarat-titans-vs-lucknow-super-giants-4th-match-1304050/full-scorecard\nProcessing URL 146: https://www.espncricinfo.com//series/indian-premier-league-2022-1298423/punjab-kings-vs-royal-challengers-bangalore-3rd-match-1304049/full-scorecard\nProcessing URL 147: https://www.espncricinfo.com//series/indian-premier-league-2022-1298423/delhi-capitals-vs-mumbai-indians-2nd-match-1304048/full-scorecard\nProcessing URL 148: https://www.espncricinfo.com//series/indian-premier-league-2022-1298423/chennai-super-kings-vs-kolkata-knight-riders-1st-match-1304047/full-scorecard\nProcessing URL 149: https://www.espncricinfo.com//series/ipl-2021-1249214/chennai-super-kings-vs-kolkata-knight-riders-final-1254117/full-scorecard\nProcessing URL 150: https://www.espncricinfo.com//series/ipl-2021-1249214/delhi-capitals-vs-kolkata-knight-riders-qualifier-2-1254116/full-scorecard\nProcessing URL 151: https://www.espncricinfo.com//series/ipl-2021-1249214/royal-challengers-bangalore-vs-kolkata-knight-riders-eliminator-1254115/full-scorecard\nProcessing URL 152: https://www.espncricinfo.com//series/ipl-2021-1249214/delhi-\n\n*** WARNING: max output size exceeded, skipping output. ***\n\n//series/indian-premier-league-2009-10-418064/delhi-daredevils-vs-royal-challengers-bangalore-35th-match-419140/full-scorecard\nProcessing URL 876: https://www.espncricinfo.com//series/indian-premier-league-2009-10-418064/kolkata-knight-riders-vs-kings-xi-punjab-34th-match-419139/full-scorecard\nProcessing URL 877: https://www.espncricinfo.com//series/indian-premier-league-2009-10-418064/mumbai-indians-vs-deccan-chargers-33rd-match-419138/full-scorecard\nProcessing URL 878: https://www.espncricinfo.com//series/indian-premier-league-2009-10-418064/chennai-super-kings-vs-rajasthan-royals-32nd-match-419137/full-scorecard\nProcessing URL 879: https://www.espncricinfo.com//series/indian-premier-league-2009-10-418064/kings-xi-punjab-vs-royal-challengers-bangalore-31st-match-419136/full-scorecard\nProcessing URL 880: https://www.espncricinfo.com//series/indian-premier-league-2009-10-418064/kolkata-knight-riders-vs-deccan-chargers-30th-match-419135/full-scorecard\nProcessing URL 881: https://www.espncricinfo.com//series/indian-premier-league-2009-10-418064/delhi-daredevils-vs-rajasthan-royals-29th-match-419134/full-scorecard\nProcessing URL 882: https://www.espncricinfo.com//series/indian-premier-league-2009-10-418064/chennai-super-kings-vs-royal-challengers-bangalore-28th-match-419133/full-scorecard\nProcessing URL 883: https://www.espncricinfo.com//series/indian-premier-league-2009-10-418064/mumbai-indians-vs-kings-xi-punjab-27th-match-419132/full-scorecard\nProcessing URL 884: https://www.espncricinfo.com//series/indian-premier-league-2009-10-418064/delhi-daredevils-vs-kolkata-knight-riders-26th-match-419131/full-scorecard\nProcessing URL 885: https://www.espncricinfo.com//series/indian-premier-league-2009-10-418064/deccan-chargers-vs-mumbai-indians-25th-match-419130/full-scorecard\nProcessing URL 886: https://www.espncricinfo.com//series/indian-premier-league-2009-10-418064/rajasthan-royals-vs-chennai-super-kings-24th-match-419129/full-scorecard\nProcessing URL 887: https://www.espncricinfo.com//series/indian-premier-league-2009-10-418064/kings-xi-punjab-vs-kolkata-knight-riders-23rd-match-419127/full-scorecard\nProcessing URL 888: https://www.espncricinfo.com//series/indian-premier-league-2009-10-418064/rajasthan-royals-vs-deccan-chargers-22nd-match-419126/full-scorecard\nProcessing URL 889: https://www.espncricinfo.com//series/indian-premier-league-2009-10-418064/mumbai-indians-vs-chennai-super-kings-21st-match-419125/full-scorecard\nProcessing URL 890: https://www.espncricinfo.com//series/indian-premier-league-2009-10-418064/royal-challengers-bangalore-vs-delhi-daredevils-20th-match-419128/full-scorecard\nProcessing URL 891: https://www.espncricinfo.com//series/indian-premier-league-2009-10-418064/kings-xi-punjab-vs-rajasthan-royals-19th-match-419124/full-scorecard\nProcessing URL 892: https://www.espncricinfo.com//series/indian-premier-league-2009-10-418064/royal-challengers-bangalore-vs-chennai-super-kings-18th-match-419123/full-scorecard\nProcessing URL 893: https://www.espncricinfo.com//series/indian-premier-league-2009-10-418064/mumbai-indians-vs-kolkata-knight-riders-17th-match-419122/full-scorecard\nProcessing URL 894: https://www.espncricinfo.com//series/indian-premier-league-2009-10-418064/chennai-super-kings-vs-kings-xi-punjab-16th-match-419121/full-scorecard\nProcessing URL 895: https://www.espncricinfo.com//series/indian-premier-league-2009-10-418064/deccan-chargers-vs-delhi-daredevils-15th-match-419120/full-scorecard\nProcessing URL 896: https://www.espncricinfo.com//series/indian-premier-league-2009-10-418064/mumbai-indians-vs-royal-challengers-bangalore-14th-match-419119/full-scorecard\nProcessing URL 897: https://www.espncricinfo.com//series/indian-premier-league-2009-10-418064/rajasthan-royals-vs-kolkata-knight-riders-13th-match-419118/full-scorecard\nProcessing URL 898: https://www.espncricinfo.com//series/indian-premier-league-2009-10-418064/deccan-chargers-vs-kings-xi-punjab-12th-match-419117/full-scorecard\nProcessing URL 899: https://www.espncricinfo.com//series/indian-premier-league-2009-10-418064/delhi-daredevils-vs-chennai-super-kings-11th-match-419116/full-scorecard\nProcessing URL 900: https://www.espncricinfo.com//series/indian-premier-league-2009-10-418064/royal-challengers-bangalore-vs-rajasthan-royals-10th-match-419115/full-scorecard\nProcessing URL 901: https://www.espncricinfo.com//series/indian-premier-league-2009-10-418064/delhi-daredevils-vs-mumbai-indians-9th-match-419114/full-scorecard\nProcessing URL 902: https://www.espncricinfo.com//series/indian-premier-league-2009-10-418064/kolkata-knight-riders-vs-chennai-super-kings-8th-match-419113/full-scorecard\nProcessing URL 903: https://www.espncricinfo.com//series/indian-premier-league-2009-10-418064/royal-challengers-bangalore-vs-kings-xi-punjab-7th-match-419112/full-scorecard\nProcessing URL 904: https://www.espncricinfo.com//series/indian-premier-league-2009-10-418064/rajasthan-royals-vs-delhi-daredevils-6th-match-419111/full-scorecard\nProcessing URL 905: https://www.espncricinfo.com//series/indian-premier-league-2009-10-418064/chennai-super-kings-vs-deccan-chargers-5th-match-419110/full-scorecard\nProcessing URL 906: https://www.espncricinfo.com//series/indian-premier-league-2009-10-418064/kolkata-knight-riders-vs-royal-challengers-bangalore-4th-match-419109/full-scorecard\nProcessing URL 907: https://www.espncricinfo.com//series/indian-premier-league-2009-10-418064/kings-xi-punjab-vs-delhi-daredevils-3rd-match-419108/full-scorecard\nProcessing URL 908: https://www.espncricinfo.com//series/indian-premier-league-2009-10-418064/mumbai-indians-vs-rajasthan-royals-2nd-match-419107/full-scorecard\nProcessing URL 909: https://www.espncricinfo.com//series/indian-premier-league-2009-10-418064/deccan-chargers-vs-kolkata-knight-riders-1st-match-419106/full-scorecard\nProcessing URL 910: https://www.espncricinfo.com//series/indian-premier-league-2009-374163/deccan-chargers-vs-royal-challengers-bangalore-final-392239/full-scorecard\nProcessing URL 911: https://www.espncricinfo.com//series/indian-premier-league-2009-374163/chennai-super-kings-vs-royal-challengers-bangalore-2nd-semi-final-392238/full-scorecard\nProcessing URL 912: https://www.espncricinfo.com//series/indian-premier-league-2009-374163/deccan-chargers-vs-delhi-daredevils-1st-semi-final-392237/full-scorecard\nProcessing URL 913: https://www.espncricinfo.com//series/indian-premier-league-2009-374163/royal-challengers-bangalore-vs-deccan-chargers-56th-match-392236/full-scorecard\nProcessing URL 914: https://www.espncricinfo.com//series/indian-premier-league-2009-374163/delhi-daredevils-vs-mumbai-indians-55th-match-392235/full-scorecard\nProcessing URL 915: https://www.espncricinfo.com//series/indian-premier-league-2009-374163/chennai-super-kings-vs-kings-xi-punjab-54th-match-392234/full-scorecard\nProcessing URL 916: https://www.espncricinfo.com//series/indian-premier-league-2009-374163/kolkata-knight-riders-vs-rajasthan-royals-53rd-match-392233/full-scorecard\nProcessing URL 917: https://www.espncricinfo.com//series/indian-premier-league-2009-374163/royal-challengers-bangalore-vs-delhi-daredevils-52nd-match-392232/full-scorecard\nProcessing URL 918: https://www.espncricinfo.com//series/indian-premier-league-2009-374163/chennai-super-kings-vs-kolkata-knight-riders-51st-match-392231/full-scorecard\nProcessing URL 919: https://www.espncricinfo.com//series/indian-premier-league-2009-374163/delhi-daredevils-vs-rajasthan-royals-50th-match-392230/full-scorecard\nProcessing URL 920: https://www.espncricinfo.com//series/indian-premier-league-2009-374163/deccan-chargers-vs-kings-xi-punjab-49th-match-392229/full-scorecard\nProcessing URL 921: https://www.espncricinfo.com//series/indian-premier-league-2009-374163/deccan-chargers-vs-kolkata-knight-riders-48th-match-392228/full-scorecard\nProcessing URL 922: https://www.espncricinfo.com//series/indian-premier-league-2009-374163/chennai-super-kings-vs-mumbai-indians-47th-match-392227/full-scorecard\nProcessing URL 923: https://www.espncricinfo.com//series/indian-premier-league-2009-374163/delhi-daredevils-vs-kings-xi-punjab-46th-match-392226/full-scorecard\nProcessing URL 924: https://www.espncricinfo.com//series/indian-premier-league-2009-374163/mumbai-indians-vs-rajasthan-royals-45th-match-392225/full-scorecard\nProcessing URL 925: https://www.espncricinfo.com//series/indian-premier-league-2009-374163/royal-challengers-bangalore-vs-chennai-super-kings-44th-match-392224/full-scorecard\nProcessing URL 926: https://www.espncricinfo.com//series/indian-premier-league-2009-374163/deccan-chargers-vs-delhi-daredevils-43rd-match-392223/full-scorecard\nProcessing URL 927: https://www.espncricinfo.com//series/indian-premier-league-2009-374163/kings-xi-punjab-vs-mumbai-indians-42nd-match-392222/full-scorecard\nProcessing URL 928: https://www.espncricinfo.com//series/indian-premier-league-2009-374163/royal-challengers-bangalore-vs-kolkata-knight-riders-41st-match-392221/full-scorecard\nProcessing URL 929: https://www.espncricinfo.com//series/indian-premier-league-2009-374163/deccan-chargers-vs-rajasthan-royals-40th-match-392220/full-scorecard\nProcessing URL 930: https://www.espncricinfo.com//series/indian-premier-league-2009-374163/delhi-daredevils-vs-kolkata-knight-riders-39th-match-392219/full-scorecard\nProcessing URL 931: https://www.espncricinfo.com//series/indian-premier-league-2009-374163/royal-challengers-bangalore-vs-mumbai-indians-38th-match-392218/full-scorecard\nProcessing URL 932: https://www.espncricinfo.com//series/indian-premier-league-2009-374163/chennai-super-kings-vs-rajasthan-royals-37th-match-392217/full-scorecard\nProcessing URL 933: https://www.espncricinfo.com//series/indian-premier-league-2009-374163/deccan-chargers-vs-kings-xi-punjab-36th-match-392216/full-scorecard\nProcessing URL 934: https://www.espncricinfo.com//series/indian-premier-league-2009-374163/delhi-daredevils-vs-mumbai-indians-35th-match-392215/full-scorecard\nProcessing URL 935: https://www.espncricinfo.com//series/indian-premier-league-2009-374163/chennai-super-kings-vs-kings-xi-punjab-34th-match-392214/full-scorecard\nProcessing URL 936: https://www.espncricinfo.com//series/indian-premier-league-2009-374163/royal-challengers-bangalore-vs-rajasthan-royals-33rd-match-392213/full-scorecard\nProcessing URL 937: https://www.espncricinfo.com//series/indian-premier-league-2009-374163/deccan-chargers-vs-mumbai-indians-32nd-match-392212/full-scorecard\nProcessing URL 938: https://www.espncricinfo.com//series/indian-premier-league-2009-374163/delhi-daredevils-vs-kolkata-knight-riders-31st-match-392211/full-scorecard\nProcessing URL 939: https://www.espncricinfo.com//series/indian-premier-league-2009-374163/kings-xi-punjab-vs-rajasthan-royals-30th-match-392210/full-scorecard\nProcessing URL 940: https://www.espncricinfo.com//series/indian-premier-league-2009-374163/chennai-super-kings-vs-deccan-chargers-29th-match-392209/full-scorecard\nProcessing URL 941: https://www.espncricinfo.com//series/indian-premier-league-2009-374163/royal-challengers-bangalore-vs-mumbai-indians-28th-match-392208/full-scorecard\nProcessing URL 942: https://www.espncricinfo.com//series/indian-premier-league-2009-374163/kings-xi-punjab-vs-kolkata-knight-riders-27th-match-392207/full-scorecard\nProcessing URL 943: https://www.espncricinfo.com//series/indian-premier-league-2009-374163/chennai-super-kings-vs-delhi-daredevils-26th-match-392206/full-scorecard\nProcessing URL 944: https://www.espncricinfo.com//series/indian-premier-league-2009-374163/deccan-chargers-vs-rajasthan-royals-25th-match-392205/full-scorecard\nProcessing URL 945: https://www.espncricinfo.com//series/indian-premier-league-2009-374163/royal-challengers-bangalore-vs-kings-xi-punjab-24th-match-392204/full-scorecard\nProcessing URL 946: https://www.espncricinfo.com//series/indian-premier-league-2009-374163/kolkata-knight-riders-vs-mumbai-indians-23rd-match-392203/full-scorecard\nProcessing URL 947: https://www.espncricinfo.com//series/indian-premier-league-2009-374163/chennai-super-kings-vs-rajasthan-royals-22nd-match-392202/full-scorecard\nProcessing URL 948: https://www.espncricinfo.com//series/indian-premier-league-2009-374163/deccan-chargers-vs-delhi-daredevils-21st-match-392201/full-scorecard\nProcessing URL 949: https://www.espncricinfo.com//series/indian-premier-league-2009-374163/kings-xi-punjab-vs-mumbai-indians-20th-match-392200/full-scorecard\nProcessing URL 950: https://www.espncricinfo.com//series/indian-premier-league-2009-374163/royal-challengers-bangalore-vs-kolkata-knight-riders-19th-match-392199/full-scorecard\nProcessing URL 951: https://www.espncricinfo.com//series/indian-premier-league-2009-374163/delhi-daredevils-vs-rajasthan-royals-18th-match-392198/full-scorecard\nProcessing URL 952: https://www.espncricinfo.com//series/indian-premier-league-2009-374163/kolkata-knight-riders-vs-mumbai-indians-17th-match-392197/full-scorecard\nProcessing URL 953: https://www.espncricinfo.com//series/indian-premier-league-2009-374163/chennai-super-kings-vs-deccan-chargers-16th-match-392196/full-scorecard\nProcessing URL 954: https://www.espncricinfo.com//series/indian-premier-league-2009-374163/kings-xi-punjab-vs-rajasthan-royals-15th-match-392195/full-scorecard\nProcessing URL 955: https://www.espncricinfo.com//series/indian-premier-league-2009-374163/royal-challengers-bangalore-vs-delhi-daredevils-14th-match-392194/full-scorecard\nProcessing URL 956: https://www.espncricinfo.com//series/indian-premier-league-2009-374163/deccan-chargers-vs-mumbai-indians-12th-match-392192/full-scorecard\nProcessing URL 957: https://www.espncricinfo.com//series/indian-premier-league-2009-374163/royal-challengers-bangalore-vs-kings-xi-punjab-11th-match-392191/full-scorecard\nProcessing URL 958: https://www.espncricinfo.com//series/indian-premier-league-2009-374163/kolkata-knight-riders-vs-rajasthan-royals-10th-match-392190/full-scorecard\nProcessing URL 959: https://www.espncricinfo.com//series/indian-premier-league-2009-374163/chennai-super-kings-vs-delhi-daredevils-9th-match-392189/full-scorecard\nProcessing URL 960: https://www.espncricinfo.com//series/indian-premier-league-2009-374163/royal-challengers-bangalore-vs-deccan-chargers-8th-match-392188/full-scorecard\nProcessing URL 961: https://www.espncricinfo.com//series/indian-premier-league-2009-374163/kings-xi-punjab-vs-kolkata-knight-riders-6th-match-392186/full-scorecard\nProcessing URL 962: https://www.espncricinfo.com//series/indian-premier-league-2009-374163/royal-challengers-bangalore-vs-chennai-super-kings-5th-match-392185/full-scorecard\nProcessing URL 963: https://www.espncricinfo.com//series/indian-premier-league-2009-374163/deccan-chargers-vs-kolkata-knight-riders-4th-match-392184/full-scorecard\nProcessing URL 964: https://www.espncricinfo.com//series/indian-premier-league-2009-374163/delhi-daredevils-vs-kings-xi-punjab-3rd-match-392183/full-scorecard\nProcessing URL 965: https://www.espncricinfo.com//series/indian-premier-league-2009-374163/royal-challengers-bangalore-vs-rajasthan-royals-2nd-match-392182/full-scorecard\nProcessing URL 966: https://www.espncricinfo.com//series/indian-premier-league-2009-374163/chennai-super-kings-vs-mumbai-indians-1st-match-392181/full-scorecard\nProcessing URL 967: https://www.espncricinfo.com//series/indian-premier-league-2007-08-313494/chennai-super-kings-vs-rajasthan-royals-final-336040/full-scorecard\nProcessing URL 968: https://www.espncricinfo.com//series/indian-premier-league-2007-08-313494/chennai-super-kings-vs-kings-xi-punjab-2nd-semi-final-336039/full-scorecard\nProcessing URL 969: https://www.espncricinfo.com//series/indian-premier-league-2007-08-313494/delhi-daredevils-vs-rajasthan-royals-1st-semi-final-336038/full-scorecard\nProcessing URL 970: https://www.espncricinfo.com//series/indian-premier-league-2007-08-313494/kings-xi-punjab-vs-rajasthan-royals-56th-match-336019/full-scorecard\nProcessing URL 971: https://www.espncricinfo.com//series/indian-premier-league-2007-08-313494/royal-challengers-bangalore-vs-mumbai-indians-55th-match-336012/full-scorecard\nProcessing URL 972: https://www.espncricinfo.com//series/indian-premier-league-2007-08-313494/deccan-chargers-vs-chennai-super-kings-54th-match-336037/full-scorecard\nProcessing URL 973: https://www.espncricinfo.com//series/indian-premier-league-2007-08-313494/rajasthan-royals-vs-mumbai-indians-53rd-match-336036/full-scorecard\nProcessing URL 974: https://www.espncricinfo.com//series/indian-premier-league-2007-08-313494/kolkata-knight-riders-vs-kings-xi-punjab-52nd-match-336035/full-scorecard\nProcessing URL 975: https://www.espncricinfo.com//series/indian-premier-league-2007-08-313494/deccan-chargers-vs-royal-challengers-bangalore-51st-match-336002/full-scorecard\nProcessing URL 976: https://www.espncricinfo.com//series/indian-premier-league-2007-08-313494/delhi-daredevils-vs-mumbai-indians-50th-match-336032/full-scorecard\nProcessing URL 977: https://www.espncricinfo.com//series/indian-premier-league-2007-08-313494/chennai-super-kings-vs-rajasthan-royals-49th-match-336033/full-scorecard\nProcessing URL 978: https://www.espncricinfo.com//series/indian-premier-league-2007-08-313494/kings-xi-punjab-vs-deccan-chargers-48th-match-336031/full-scorecard\nProcessing URL 979: https://www.espncricinfo.com//series/indian-premier-league-2007-08-313494/chennai-super-kings-vs-royal-challengers-bangalore-46th-match-336029/full-scorecard\nProcessing URL 980: https://www.espncricinfo.com//series/indian-premier-league-2007-08-313494/mumbai-indians-vs-kings-xi-punjab-45th-match-336028/full-scorecard\nProcessing URL 981: https://www.espncricinfo.com//series/indian-premier-league-2007-08-313494/kolkata-knight-riders-vs-rajasthan-royals-44th-match-336027/full-scorecard\nProcessing URL 982: https://www.espncricinfo.com//series/indian-premier-league-2007-08-313494/royal-challengers-bangalore-vs-delhi-daredevils-43rd-match-336026/full-scorecard\nProcessing URL 983: https://www.espncricinfo.com//series/indian-premier-league-2007-08-313494/deccan-chargers-vs-mumbai-indians-42nd-match-336024/full-scorecard\nProcessing URL 984: https://www.espncricinfo.com//series/indian-premier-league-2007-08-313494/kolkata-knight-riders-vs-chennai-super-kings-41st-match-336025/full-scorecard\nProcessing URL 985: https://www.espncricinfo.com//series/indian-premier-league-2007-08-313494/delhi-daredevils-vs-kings-xi-punjab-40th-match-336022/full-scorecard\nProcessing URL 986: https://www.espncricinfo.com//series/indian-premier-league-2007-08-313494/rajasthan-royals-vs-royal-challengers-bangalore-39th-match-336023/full-scorecard\nProcessing URL 987: https://www.espncricinfo.com//series/indian-premier-league-2007-08-313494/mumbai-indians-vs-kolkata-knight-riders-38th-match-336021/full-scorecard\nProcessing URL 988: https://www.espncricinfo.com//series/indian-premier-league-2007-08-313494/delhi-daredevils-vs-deccan-chargers-37th-match-336020/full-scorecard\nProcessing URL 989: https://www.espncricinfo.com//series/indian-premier-league-2007-08-313494/mumbai-indians-vs-chennai-super-kings-36th-match-336018/full-scorecard\nProcessing URL 990: https://www.espncricinfo.com//series/indian-premier-league-2007-08-313494/kolkata-knight-riders-vs-delhi-daredevils-35th-match-336017/full-scorecard\nProcessing URL 991: https://www.espncricinfo.com//series/indian-premier-league-2007-08-313494/kings-xi-punjab-vs-royal-challengers-bangalore-34th-match-336016/full-scorecard\nProcessing URL 992: https://www.espncricinfo.com//series/indian-premier-league-2007-08-313494/rajasthan-royals-vs-delhi-daredevils-33rd-match-336015/full-scorecard\nProcessing URL 993: https://www.espncricinfo.com//series/indian-premier-league-2007-08-313494/deccan-chargers-vs-kolkata-knight-riders-32nd-match-336014/full-scorecard\nProcessing URL 994: https://www.espncricinfo.com//series/indian-premier-league-2007-08-313494/chennai-super-kings-vs-kings-xi-punjab-31st-match-336013/full-scorecard\nProcessing URL 995: https://www.espncricinfo.com//series/indian-premier-league-2007-08-313494/rajasthan-royals-vs-deccan-chargers-30th-match-336011/full-scorecard\nProcessing URL 996: https://www.espncricinfo.com//series/indian-premier-league-2007-08-313494/kolkata-knight-riders-vs-royal-challengers-bangalore-29th-match-336010/full-scorecard\nProcessing URL 997: https://www.espncricinfo.com//series/indian-premier-league-2007-08-313494/delhi-daredevils-vs-chennai-super-kings-28th-match-336009/full-scorecard\nProcessing URL 998: https://www.espncricinfo.com//series/indian-premier-league-2007-08-313494/mumbai-indians-vs-rajasthan-royals-27th-match-336008/full-scorecard\nProcessing URL 999: https://www.espncricinfo.com//series/indian-premier-league-2007-08-313494/chennai-super-kings-vs-deccan-chargers-26th-match-336007/full-scorecard\nProcessing URL 1000: https://www.espncricinfo.com//series/indian-premier-league-2007-08-313494/royal-challengers-bangalore-vs-kings-xi-punjab-25th-match-336006/full-scorecard\nProcessing URL 1001: https://www.espncricinfo.com//series/indian-premier-league-2007-08-313494/rajasthan-royals-vs-chennai-super-kings-24th-match-336005/full-scorecard\nProcessing URL 1002: https://www.espncricinfo.com//series/indian-premier-league-2007-08-313494/mumbai-indians-vs-delhi-daredevils-23rd-match-336004/full-scorecard\nProcessing URL 1003: https://www.espncricinfo.com//series/indian-premier-league-2007-08-313494/kings-xi-punjab-vs-kolkata-knight-riders-22nd-match-336003/full-scorecard\nProcessing URL 1004: https://www.espncricinfo.com//series/indian-premier-league-2007-08-313494/royal-challengers-bangalore-vs-deccan-chargers-21st-match-336034/full-scorecard\nProcessing URL 1005: https://www.espncricinfo.com//series/indian-premier-league-2007-08-313494/chennai-super-kings-vs-delhi-daredevils-20th-match-336001/full-scorecard\nProcessing URL 1006: https://www.espncricinfo.com//series/indian-premier-league-2007-08-313494/deccan-chargers-vs-kings-xi-punjab-19th-match-335999/full-scorecard\nProcessing URL 1007: https://www.espncricinfo.com//series/indian-premier-league-2007-08-313494/rajasthan-royals-vs-kolkata-knight-riders-18th-match-336000/full-scorecard\nProcessing URL 1008: https://www.espncricinfo.com//series/indian-premier-league-2007-08-313494/delhi-daredevils-vs-royal-challengers-bangalore-17th-match-335998/full-scorecard\nProcessing URL 1009: https://www.espncricinfo.com//series/indian-premier-league-2007-08-313494/kolkata-knight-riders-vs-mumbai-indians-16th-match-335997/full-scorecard\nProcessing URL 1010: https://www.espncricinfo.com//series/indian-premier-league-2007-08-313494/royal-challengers-bangalore-vs-chennai-super-kings-15th-match-335996/full-scorecard\nProcessing URL 1011: https://www.espncricinfo.com//series/indian-premier-league-2007-08-313494/mumbai-indians-vs-deccan-chargers-14th-match-335994/full-scorecard\nProcessing URL 1012: https://www.espncricinfo.com//series/indian-premier-league-2007-08-313494/kings-xi-punjab-vs-delhi-daredevils-13th-match-335995/full-scorecard\nProcessing URL 1013: https://www.espncricinfo.com//series/indian-premier-league-2007-08-313494/royal-challengers-bangalore-vs-rajasthan-royals-12th-match-335992/full-scorecard\nProcessing URL 1014: https://www.espncricinfo.com//series/indian-premier-league-2007-08-313494/chennai-super-kings-vs-kolkata-knight-riders-11th-match-335993/full-scorecard\nProcessing URL 1015: https://www.espncricinfo.com//series/indian-premier-league-2007-08-313494/kings-xi-punjab-vs-mumbai-indians-10th-match-335991/full-scorecard\nProcessing URL 1016: https://www.espncricinfo.com//series/indian-premier-league-2007-08-313494/deccan-chargers-vs-rajasthan-royals-9th-match-335990/full-scorecard\nProcessing URL 1017: https://www.espncricinfo.com//series/indian-premier-league-2007-08-313494/chennai-super-kings-vs-mumbai-indians-8th-match-335989/full-scorecard\nProcessing URL 1018: https://www.espncricinfo.com//series/indian-premier-league-2007-08-313494/deccan-chargers-vs-delhi-daredevils-7th-match-335988/full-scorecard\nProcessing URL 1019: https://www.espncricinfo.com//series/indian-premier-league-2007-08-313494/rajasthan-royals-vs-kings-xi-punjab-6th-match-335987/full-scorecard\nProcessing URL 1020: https://www.espncricinfo.com//series/indian-premier-league-2007-08-313494/mumbai-indians-vs-royal-challengers-bangalore-5th-match-335985/full-scorecard\nProcessing URL 1021: https://www.espncricinfo.com//series/indian-premier-league-2007-08-313494/kolkata-knight-riders-vs-deccan-chargers-4th-match-335986/full-scorecard\nProcessing URL 1022: https://www.espncricinfo.com//series/indian-premier-league-2007-08-313494/delhi-daredevils-vs-rajasthan-royals-3rd-match-335984/full-scorecard\nProcessing URL 1023: https://www.espncricinfo.com//series/indian-premier-league-2007-08-313494/kings-xi-punjab-vs-chennai-super-kings-2nd-match-335983/full-scorecard\nProcessing URL 1024: https://www.espncricinfo.com//series/indian-premier-league-2007-08-313494/royal-challengers-bangalore-vs-kolkata-knight-riders-1st-match-335982/full-scorecard\nBatting DataFrame:\n\nBowling DataFrame:\n"
     ]
    }
   ],
   "source": [
    "import requests\n",
    "from bs4 import BeautifulSoup\n",
    "import pandas as pd\n",
    "\n",
    "\n",
    "def extract_data(url, class_name):\n",
    "    response = requests.get(url)\n",
    "    \n",
    "    if response.status_code == 200:\n",
    "        soup = BeautifulSoup(response.text, 'html.parser')\n",
    "        \n",
    "        # Find all tables with the specified class\n",
    "        tables = soup.find_all('table', class_=class_name)\n",
    "        \n",
    "        data_frames = []\n",
    "        for table in tables:\n",
    "            data = []\n",
    "            headers = [header.text.strip() for header in table.find('thead').find_all('th')]\n",
    "            \n",
    "            for row in table.find('tbody').find_all('tr'):\n",
    "                row_data = [cell.text.strip() for cell in row.find_all('td')]\n",
    "                data.append(row_data)\n",
    "            \n",
    "            temp_df = pd.DataFrame(data, columns=headers)\n",
    "            data_frames.append(temp_df)\n",
    "        \n",
    "        return data_frames\n",
    "    else:\n",
    "        print(f\"Failed to retrieve data. Status code: {response.status_code} for URL: {url}\")\n",
    "        return None\n",
    "\n",
    "\n",
    "\n",
    "# Define the class name for batting and bowling tables\n",
    "batting_class_name = 'ds-w-full ds-table ds-table-md ds-table-auto ci-scorecard-table'\n",
    "bowling_class_name = 'ds-w-full ds-table ds-table-md ds-table-auto'\n",
    "\n",
    "# List to store all batting and bowling DataFrames\n",
    "batting_dfs = []\n",
    "bowling_dfs = []\n",
    "\n",
    "# Iterate over the first two URLs from the DataFrame and extract data for batting and bowling\n",
    "# for url in df['URL'][:1025]:\n",
    "for index, url in enumerate(df['URL'][:1025], start=1):\n",
    "    print(f\"Processing URL {index}: {url}\")\n",
    "    batting_data_frames = extract_data(url, batting_class_name)\n",
    "    bowling_data_frames = extract_data(url, bowling_class_name)\n",
    "    \n",
    "    # Extract batting data\n",
    "    if batting_data_frames:\n",
    "        for df1 in batting_data_frames:\n",
    "            df1['URL'] = url  # Add URL column\n",
    "            batting_dfs.append(df1)\n",
    "\n",
    "    # Extract bowling data\n",
    "    if bowling_data_frames:\n",
    "        for df2 in bowling_data_frames:\n",
    "            df2['URL'] = url  # Add URL column\n",
    "            bowling_dfs.append(df2)\n",
    "\n",
    "# Concatenate all batting and bowling DataFrames\n",
    "if batting_dfs:\n",
    "    batting_df = pd.concat(batting_dfs, ignore_index=True)\n",
    "    print(\"Batting DataFrame:\")\n",
    "    # print(batting_df.head())\n",
    "else:\n",
    "    print(\"No batting data extracted.\")\n",
    "\n",
    "if bowling_dfs:\n",
    "    bowling_df = pd.concat(bowling_dfs, ignore_index=True)\n",
    "    print(\"\\nBowling DataFrame:\")\n",
    "    # print(bowling_df.head())\n",
    "else:\n",
    "    print(\"No bowling data extracted.\")\n"
   ]
  },
  {
   "cell_type": "code",
   "execution_count": 0,
   "metadata": {
    "application/vnd.databricks.v1+cell": {
     "cellMetadata": {
      "byteLimit": 2048000,
      "rowLimit": 10000
     },
     "inputWidgets": {},
     "nuid": "c9db0322-2a65-49b4-97cd-f3101d461e3e",
     "showTitle": false,
     "title": ""
    }
   },
   "outputs": [],
   "source": [
    "\n",
    "from pyspark.sql import SparkSession\n",
    "spark = SparkSession.builder.appName(\"example\").getOrCreate()\n",
    "matches_df = spark.createDataFrame(df)\n",
    "batting_df = spark.createDataFrame(batting_df)\n",
    "bowling_df = spark.createDataFrame(bowling_df)"
   ]
  },
  {
   "cell_type": "code",
   "execution_count": 0,
   "metadata": {
    "application/vnd.databricks.v1+cell": {
     "cellMetadata": {
      "byteLimit": 2048000,
      "rowLimit": 10000
     },
     "inputWidgets": {},
     "nuid": "44ff96e9-c2eb-4990-b52a-a291c1fc69b5",
     "showTitle": false,
     "title": ""
    }
   },
   "outputs": [
    {
     "output_type": "execute_result",
     "data": {
      "text/plain": [
       "['BATTING', 'out', 'R', 'B', 'M', '4s', '6s', 'SR', 'URL']"
      ]
     },
     "execution_count": 71,
     "metadata": {},
     "output_type": "execute_result"
    }
   ],
   "source": [
    "batting_df.columns"
   ]
  },
  {
   "cell_type": "code",
   "execution_count": 0,
   "metadata": {
    "application/vnd.databricks.v1+cell": {
     "cellMetadata": {
      "byteLimit": 2048000,
      "rowLimit": 10000
     },
     "inputWidgets": {},
     "nuid": "9581e285-f1f8-4f02-9c2f-45d5e7fca91e",
     "showTitle": false,
     "title": ""
    }
   },
   "outputs": [],
   "source": [
    "from pyspark.sql.functions import col\n",
    "\n",
    "batting_df = batting_df.withColumnRenamed('', 'out')\n"
   ]
  },
  {
   "cell_type": "markdown",
   "metadata": {
    "application/vnd.databricks.v1+cell": {
     "cellMetadata": {},
     "inputWidgets": {},
     "nuid": "317e9ddd-7912-4fd3-b5c5-bb2ffbe3d11d",
     "showTitle": false,
     "title": ""
    }
   },
   "source": [
    "loading starts from here"
   ]
  },
  {
   "cell_type": "code",
   "execution_count": 0,
   "metadata": {
    "application/vnd.databricks.v1+cell": {
     "cellMetadata": {
      "byteLimit": 2048000,
      "rowLimit": 10000
     },
     "inputWidgets": {},
     "nuid": "19ef5758-0574-4461-822c-d31c937caed9",
     "showTitle": true,
     "title": "writing to external table"
    }
   },
   "outputs": [],
   "source": [
    "jdbc_url = 'jdbc:sqlserver://db1560.database.windows.net:1433;database=IN1560_Alcobev'\n",
    "\n",
    "connection_properties = {\n",
    "    'user': 'Thirupathi',\n",
    "    'password': 'Roman@51249',\n",
    "    'driver': 'com.microsoft.sqlserver.jdbc.SQLServerDriver'\n",
    "}\n",
    "\n",
    "# Write Spark DataFrame to Azure SQL Database\n",
    "batting_df.write.jdbc(url=jdbc_url, table='stg_batting', mode='append', properties=connection_properties)\n"
   ]
  },
  {
   "cell_type": "code",
   "execution_count": 0,
   "metadata": {
    "application/vnd.databricks.v1+cell": {
     "cellMetadata": {
      "byteLimit": 2048000,
      "rowLimit": 10000
     },
     "inputWidgets": {},
     "nuid": "76a6193a-3886-4531-8b9c-77b47e1ad75a",
     "showTitle": false,
     "title": ""
    }
   },
   "outputs": [],
   "source": [
    "jdbc_url = 'jdbc:sqlserver://db1560.database.windows.net:1433;database=IN1560_Alcobev'\n",
    "\n",
    "connection_properties = {\n",
    "    'user': 'Thirupathi',\n",
    "    'password': 'Roman@51249',\n",
    "    'driver': 'com.microsoft.sqlserver.jdbc.SQLServerDriver'\n",
    "}\n",
    "\n",
    "# Write Spark DataFrame to Azure SQL Database\n",
    "bowling_df.write.jdbc(url=jdbc_url, table='stg_bowling', mode='append', properties=connection_properties)\n"
   ]
  },
  {
   "cell_type": "code",
   "execution_count": 0,
   "metadata": {
    "application/vnd.databricks.v1+cell": {
     "cellMetadata": {
      "byteLimit": 2048000,
      "rowLimit": 10000
     },
     "inputWidgets": {},
     "nuid": "dd378eb0-e38f-4c15-bfed-0a27c7b18c79",
     "showTitle": false,
     "title": ""
    }
   },
   "outputs": [],
   "source": [
    "jdbc_url = 'jdbc:sqlserver://db1560.database.windows.net:1433;database=IN1560_Alcobev'\n",
    "\n",
    "connection_properties = {\n",
    "    'user': 'Thirupathi',\n",
    "    'password': 'Roman@51249',\n",
    "    'driver': 'com.microsoft.sqlserver.jdbc.SQLServerDriver'\n",
    "}\n",
    "\n",
    "# Write Spark DataFrame to Azure SQL Database\n",
    "matches_df.write.jdbc(url=jdbc_url, table='stg_matches', mode='append', properties=connection_properties)\n"
   ]
  }
 ],
 "metadata": {
  "application/vnd.databricks.v1+notebook": {
   "dashboards": [],
   "environmentMetadata": null,
   "language": "python",
   "notebookMetadata": {
    "pythonIndentUnit": 4
   },
   "notebookName": "ipl_raw_data_pull_web",
   "widgets": {}
  }
 },
 "nbformat": 4,
 "nbformat_minor": 0
}
